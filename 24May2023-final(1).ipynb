{
 "cells": [
  {
   "cell_type": "code",
   "execution_count": 1,
   "id": "af88cf57",
   "metadata": {},
   "outputs": [],
   "source": [
    "# Import necessary libraries for Spark\n",
    "from pyspark.sql import functions as sparkf\n",
    "from pyspark.sql import Window as W\n",
    "from pyspark.sql.types import *\n",
    "from pyspark.ml.feature import StringIndexer, OneHotEncoder\n",
    "from pyspark.mllib.linalg import Vectors\n",
    "from pyspark.ml.feature import VectorAssembler\n",
    "from pyspark.ml import Pipeline\n",
    "from pyspark.ml.classification import RandomForestClassifier\n",
    "from pyspark.ml.tuning import CrossValidator, ParamGridBuilder\n",
    "from pyspark.ml.evaluation import BinaryClassificationEvaluator, MulticlassClassificationEvaluator\n",
    "from pyspark.sql import SparkSession\n",
    "from pyspark.ml.feature import VectorAssembler, StringIndexer\n",
    "from pyspark.ml.regression import DecisionTreeRegressor\n",
    "from pyspark.ml import Pipeline\n",
    "from pyspark.ml.evaluation import RegressionEvaluator\n",
    "\n",
    "# Import necessary libraries for data manipulation and visualization\n",
    "import matplotlib.pyplot as plt\n",
    "import pandas as pd\n",
    "import numpy as np\n",
    "import sys\n",
    "from functools import reduce"
   ]
  },
  {
   "cell_type": "code",
   "execution_count": 2,
   "id": "cf4b6e53",
   "metadata": {},
   "outputs": [
    {
     "name": "stdout",
     "output_type": "stream",
     "text": [
      "source,isTrueDirect,sourceKeyword,medium,isVideoAd,fullVisitorId,visitId,date,newVisits,hitReferer,hitType,hitAction_type,hitNumber,hitHour,hitMin,timeMicroSec,v2ProductName,productListName,isClick,isImpression,sessionQualityDim,timeOnScreen,timeOnSite,totalTransactionRevenue\n",
      "google,true,(not provided),organic,,4988612949713423910,1489617360,20170315,,,PAGE,0,28,15,46,608771,Google Accent Insulated Stainless Steel Bottle,Category,,true,,,1897,\n",
      "google,true,(not provided),organic,,4988612949713423910,1489617360,20170315,,,PAGE,0,27,15,46,605064,Google Pocket Bluetooth Speaker,Category,,true,,,1897,\n"
     ]
    }
   ],
   "source": [
    "! head -3 000000000000"
   ]
  },
  {
   "cell_type": "code",
   "execution_count": 3,
   "id": "4436a00e",
   "metadata": {},
   "outputs": [
    {
     "name": "stderr",
     "output_type": "stream",
     "text": [
      "23/05/23 15:17:19 WARN NativeCodeLoader: Unable to load native-hadoop library for your platform... using builtin-java classes where applicable\n",
      "Using Spark's default log4j profile: org/apache/spark/log4j-defaults.properties\n",
      "Setting default log level to \"WARN\".\n",
      "To adjust logging level use sc.setLogLevel(newLevel). For SparkR, use setLogLevel(newLevel).\n"
     ]
    }
   ],
   "source": [
    "# Initialize Spark Session\n",
    "\n",
    "from pyspark.sql import SparkSession\n",
    "\n",
    "spark = SparkSession.\\\n",
    "        builder.\\\n",
    "        appName(\"Social Commerce\").\\\n",
    "        master(\"spark://spark-master:7077\").\\\n",
    "        config(\"spark.executor.memory\", \"1000m\").\\\n",
    "        config(\"spark.executor.cores\", \"2\").\\\n",
    "        config(\"spark.cores.max\", \"6\").\\\n",
    "        getOrCreate()"
   ]
  },
  {
   "cell_type": "code",
   "execution_count": 4,
   "id": "d5376749",
   "metadata": {},
   "outputs": [
    {
     "name": "stderr",
     "output_type": "stream",
     "text": [
      "                                                                                \r"
     ]
    }
   ],
   "source": [
    "raw_df = spark.read.option('header','true')\\\n",
    ".option(\"inferSchema\" , \"true\")\\\n",
    ".format('csv').load('./000000000000')"
   ]
  },
  {
   "cell_type": "markdown",
   "id": "3b0eebef",
   "metadata": {},
   "source": [
    "# 1. Business Understanding"
   ]
  },
  {
   "cell_type": "markdown",
   "id": "5d463f74",
   "metadata": {},
   "source": [
    "### 1.1 Classification Approach"
   ]
  },
  {
   "cell_type": "markdown",
   "id": "4e2cdf42",
   "metadata": {},
   "source": [
    "# 2. Data Understanding"
   ]
  },
  {
   "cell_type": "code",
   "execution_count": 5,
   "id": "3a4ba7f2",
   "metadata": {},
   "outputs": [],
   "source": [
    "ignoredCols = []\n",
    "outlierCols = []"
   ]
  },
  {
   "cell_type": "markdown",
   "id": "a1afcac3",
   "metadata": {},
   "source": [
    "### 2.1 สภาพข้อมูลโดยทั่วไป"
   ]
  },
  {
   "cell_type": "code",
   "execution_count": 6,
   "id": "8398e236",
   "metadata": {},
   "outputs": [
    {
     "name": "stderr",
     "output_type": "stream",
     "text": [
      "                                                                                \r"
     ]
    },
    {
     "data": {
      "text/plain": [
       "917814"
      ]
     },
     "execution_count": 6,
     "metadata": {},
     "output_type": "execute_result"
    }
   ],
   "source": [
    "raw_df.count()"
   ]
  },
  {
   "cell_type": "code",
   "execution_count": 7,
   "id": "698dc6ce",
   "metadata": {},
   "outputs": [
    {
     "data": {
      "text/plain": [
       "24"
      ]
     },
     "execution_count": 7,
     "metadata": {},
     "output_type": "execute_result"
    }
   ],
   "source": [
    "len(raw_df.columns)"
   ]
  },
  {
   "cell_type": "code",
   "execution_count": 8,
   "id": "f0631b5d",
   "metadata": {},
   "outputs": [
    {
     "name": "stdout",
     "output_type": "stream",
     "text": [
      "root\n",
      " |-- source: string (nullable = true)\n",
      " |-- isTrueDirect: boolean (nullable = true)\n",
      " |-- sourceKeyword: string (nullable = true)\n",
      " |-- medium: string (nullable = true)\n",
      " |-- isVideoAd: boolean (nullable = true)\n",
      " |-- fullVisitorId: long (nullable = true)\n",
      " |-- visitId: integer (nullable = true)\n",
      " |-- date: integer (nullable = true)\n",
      " |-- newVisits: integer (nullable = true)\n",
      " |-- hitReferer: string (nullable = true)\n",
      " |-- hitType: string (nullable = true)\n",
      " |-- hitAction_type: integer (nullable = true)\n",
      " |-- hitNumber: integer (nullable = true)\n",
      " |-- hitHour: integer (nullable = true)\n",
      " |-- hitMin: integer (nullable = true)\n",
      " |-- timeMicroSec: integer (nullable = true)\n",
      " |-- v2ProductName: string (nullable = true)\n",
      " |-- productListName: string (nullable = true)\n",
      " |-- isClick: boolean (nullable = true)\n",
      " |-- isImpression: boolean (nullable = true)\n",
      " |-- sessionQualityDim: integer (nullable = true)\n",
      " |-- timeOnScreen: string (nullable = true)\n",
      " |-- timeOnSite: integer (nullable = true)\n",
      " |-- totalTransactionRevenue: long (nullable = true)\n",
      "\n"
     ]
    }
   ],
   "source": [
    "raw_df.printSchema()"
   ]
  },
  {
   "cell_type": "code",
   "execution_count": 9,
   "id": "336b6109",
   "metadata": {},
   "outputs": [
    {
     "name": "stderr",
     "output_type": "stream",
     "text": [
      "                                                                                \r"
     ]
    },
    {
     "data": {
      "text/html": [
       "<div>\n",
       "<style scoped>\n",
       "    .dataframe tbody tr th:only-of-type {\n",
       "        vertical-align: middle;\n",
       "    }\n",
       "\n",
       "    .dataframe tbody tr th {\n",
       "        vertical-align: top;\n",
       "    }\n",
       "\n",
       "    .dataframe thead th {\n",
       "        text-align: right;\n",
       "    }\n",
       "</style>\n",
       "<table border=\"1\" class=\"dataframe\">\n",
       "  <thead>\n",
       "    <tr style=\"text-align: right;\">\n",
       "      <th></th>\n",
       "      <th>0</th>\n",
       "      <th>1</th>\n",
       "      <th>2</th>\n",
       "      <th>3</th>\n",
       "      <th>4</th>\n",
       "    </tr>\n",
       "  </thead>\n",
       "  <tbody>\n",
       "    <tr>\n",
       "      <th>summary</th>\n",
       "      <td>count</td>\n",
       "      <td>mean</td>\n",
       "      <td>stddev</td>\n",
       "      <td>min</td>\n",
       "      <td>max</td>\n",
       "    </tr>\n",
       "    <tr>\n",
       "      <th>source</th>\n",
       "      <td>917814</td>\n",
       "      <td>None</td>\n",
       "      <td>None</td>\n",
       "      <td>(direct)</td>\n",
       "      <td>youtube.com</td>\n",
       "    </tr>\n",
       "    <tr>\n",
       "      <th>sourceKeyword</th>\n",
       "      <td>322031</td>\n",
       "      <td>None</td>\n",
       "      <td>None</td>\n",
       "      <td>(Remarketing/Content targeting)</td>\n",
       "      <td>yyoutubr</td>\n",
       "    </tr>\n",
       "    <tr>\n",
       "      <th>medium</th>\n",
       "      <td>917814</td>\n",
       "      <td>None</td>\n",
       "      <td>None</td>\n",
       "      <td>(none)</td>\n",
       "      <td>referral</td>\n",
       "    </tr>\n",
       "    <tr>\n",
       "      <th>fullVisitorId</th>\n",
       "      <td>917814</td>\n",
       "      <td>4.7679506549928141E18</td>\n",
       "      <td>1.42707561410277811E18</td>\n",
       "      <td>514359656957582</td>\n",
       "      <td>5487531102128447544</td>\n",
       "    </tr>\n",
       "    <tr>\n",
       "      <th>visitId</th>\n",
       "      <td>917814</td>\n",
       "      <td>1.4828991660307045E9</td>\n",
       "      <td>9692290.975135243</td>\n",
       "      <td>1470037326</td>\n",
       "      <td>1501656575</td>\n",
       "    </tr>\n",
       "    <tr>\n",
       "      <th>date</th>\n",
       "      <td>917814</td>\n",
       "      <td>2.0165139267192483E7</td>\n",
       "      <td>4699.035428253384</td>\n",
       "      <td>20160801</td>\n",
       "      <td>20170801</td>\n",
       "    </tr>\n",
       "    <tr>\n",
       "      <th>newVisits</th>\n",
       "      <td>647359</td>\n",
       "      <td>1.0</td>\n",
       "      <td>0.0</td>\n",
       "      <td>1</td>\n",
       "      <td>1</td>\n",
       "    </tr>\n",
       "    <tr>\n",
       "      <th>hitReferer</th>\n",
       "      <td>119959</td>\n",
       "      <td>None</td>\n",
       "      <td>None</td>\n",
       "      <td>http://googleads.g.doubleclick.net/pagead/ads?...</td>\n",
       "      <td>https://youtube.com/yt/about/copyright/</td>\n",
       "    </tr>\n",
       "    <tr>\n",
       "      <th>hitType</th>\n",
       "      <td>917814</td>\n",
       "      <td>None</td>\n",
       "      <td>None</td>\n",
       "      <td>EVENT</td>\n",
       "      <td>PAGE</td>\n",
       "    </tr>\n",
       "    <tr>\n",
       "      <th>hitAction_type</th>\n",
       "      <td>917814</td>\n",
       "      <td>0.18108135199506653</td>\n",
       "      <td>0.7980562985767482</td>\n",
       "      <td>0</td>\n",
       "      <td>6</td>\n",
       "    </tr>\n",
       "    <tr>\n",
       "      <th>hitNumber</th>\n",
       "      <td>917814</td>\n",
       "      <td>11.936170073675058</td>\n",
       "      <td>19.048950870892316</td>\n",
       "      <td>1</td>\n",
       "      <td>239</td>\n",
       "    </tr>\n",
       "    <tr>\n",
       "      <th>hitHour</th>\n",
       "      <td>917814</td>\n",
       "      <td>12.427243428407063</td>\n",
       "      <td>5.993956058897788</td>\n",
       "      <td>0</td>\n",
       "      <td>23</td>\n",
       "    </tr>\n",
       "    <tr>\n",
       "      <th>hitMin</th>\n",
       "      <td>917814</td>\n",
       "      <td>29.86619620097318</td>\n",
       "      <td>17.25780109935462</td>\n",
       "      <td>0</td>\n",
       "      <td>59</td>\n",
       "    </tr>\n",
       "    <tr>\n",
       "      <th>timeMicroSec</th>\n",
       "      <td>917814</td>\n",
       "      <td>291059.62081097043</td>\n",
       "      <td>554542.5064780047</td>\n",
       "      <td>0</td>\n",
       "      <td>9963065</td>\n",
       "    </tr>\n",
       "    <tr>\n",
       "      <th>v2ProductName</th>\n",
       "      <td>917814</td>\n",
       "      <td>None</td>\n",
       "      <td>None</td>\n",
       "      <td>\"7\"\" Dog Frisbee\"</td>\n",
       "      <td>YouTube Youth Short Sleeve Tee Red</td>\n",
       "    </tr>\n",
       "    <tr>\n",
       "      <th>productListName</th>\n",
       "      <td>917814</td>\n",
       "      <td>None</td>\n",
       "      <td>None</td>\n",
       "      <td>(not set)</td>\n",
       "      <td>Search Results</td>\n",
       "    </tr>\n",
       "    <tr>\n",
       "      <th>sessionQualityDim</th>\n",
       "      <td>61782</td>\n",
       "      <td>18.657068401799876</td>\n",
       "      <td>27.512960054299242</td>\n",
       "      <td>1</td>\n",
       "      <td>94</td>\n",
       "    </tr>\n",
       "    <tr>\n",
       "      <th>timeOnScreen</th>\n",
       "      <td>0</td>\n",
       "      <td>None</td>\n",
       "      <td>None</td>\n",
       "      <td>None</td>\n",
       "      <td>None</td>\n",
       "    </tr>\n",
       "    <tr>\n",
       "      <th>timeOnSite</th>\n",
       "      <td>850509</td>\n",
       "      <td>660.041210616231</td>\n",
       "      <td>930.0535167228322</td>\n",
       "      <td>1</td>\n",
       "      <td>9963</td>\n",
       "    </tr>\n",
       "    <tr>\n",
       "      <th>totalTransactionRevenue</th>\n",
       "      <td>70300</td>\n",
       "      <td>1.978806652916074E8</td>\n",
       "      <td>4.625284848391805E8</td>\n",
       "      <td>6980000</td>\n",
       "      <td>5608400000</td>\n",
       "    </tr>\n",
       "  </tbody>\n",
       "</table>\n",
       "</div>"
      ],
      "text/plain": [
       "                              0                      1  \\\n",
       "summary                   count                   mean   \n",
       "source                   917814                   None   \n",
       "sourceKeyword            322031                   None   \n",
       "medium                   917814                   None   \n",
       "fullVisitorId            917814  4.7679506549928141E18   \n",
       "visitId                  917814   1.4828991660307045E9   \n",
       "date                     917814   2.0165139267192483E7   \n",
       "newVisits                647359                    1.0   \n",
       "hitReferer               119959                   None   \n",
       "hitType                  917814                   None   \n",
       "hitAction_type           917814    0.18108135199506653   \n",
       "hitNumber                917814     11.936170073675058   \n",
       "hitHour                  917814     12.427243428407063   \n",
       "hitMin                   917814      29.86619620097318   \n",
       "timeMicroSec             917814     291059.62081097043   \n",
       "v2ProductName            917814                   None   \n",
       "productListName          917814                   None   \n",
       "sessionQualityDim         61782     18.657068401799876   \n",
       "timeOnScreen                  0                   None   \n",
       "timeOnSite               850509       660.041210616231   \n",
       "totalTransactionRevenue   70300    1.978806652916074E8   \n",
       "\n",
       "                                              2  \\\n",
       "summary                                  stddev   \n",
       "source                                     None   \n",
       "sourceKeyword                              None   \n",
       "medium                                     None   \n",
       "fullVisitorId            1.42707561410277811E18   \n",
       "visitId                       9692290.975135243   \n",
       "date                          4699.035428253384   \n",
       "newVisits                                   0.0   \n",
       "hitReferer                                 None   \n",
       "hitType                                    None   \n",
       "hitAction_type               0.7980562985767482   \n",
       "hitNumber                    19.048950870892316   \n",
       "hitHour                       5.993956058897788   \n",
       "hitMin                        17.25780109935462   \n",
       "timeMicroSec                  554542.5064780047   \n",
       "v2ProductName                              None   \n",
       "productListName                            None   \n",
       "sessionQualityDim            27.512960054299242   \n",
       "timeOnScreen                               None   \n",
       "timeOnSite                    930.0535167228322   \n",
       "totalTransactionRevenue     4.625284848391805E8   \n",
       "\n",
       "                                                                         3  \\\n",
       "summary                                                                min   \n",
       "source                                                            (direct)   \n",
       "sourceKeyword                              (Remarketing/Content targeting)   \n",
       "medium                                                              (none)   \n",
       "fullVisitorId                                              514359656957582   \n",
       "visitId                                                         1470037326   \n",
       "date                                                              20160801   \n",
       "newVisits                                                                1   \n",
       "hitReferer               http://googleads.g.doubleclick.net/pagead/ads?...   \n",
       "hitType                                                              EVENT   \n",
       "hitAction_type                                                           0   \n",
       "hitNumber                                                                1   \n",
       "hitHour                                                                  0   \n",
       "hitMin                                                                   0   \n",
       "timeMicroSec                                                             0   \n",
       "v2ProductName                                            \"7\"\" Dog Frisbee\"   \n",
       "productListName                                                  (not set)   \n",
       "sessionQualityDim                                                        1   \n",
       "timeOnScreen                                                          None   \n",
       "timeOnSite                                                               1   \n",
       "totalTransactionRevenue                                            6980000   \n",
       "\n",
       "                                                               4  \n",
       "summary                                                      max  \n",
       "source                                               youtube.com  \n",
       "sourceKeyword                                           yyoutubr  \n",
       "medium                                                  referral  \n",
       "fullVisitorId                                5487531102128447544  \n",
       "visitId                                               1501656575  \n",
       "date                                                    20170801  \n",
       "newVisits                                                      1  \n",
       "hitReferer               https://youtube.com/yt/about/copyright/  \n",
       "hitType                                                     PAGE  \n",
       "hitAction_type                                                 6  \n",
       "hitNumber                                                    239  \n",
       "hitHour                                                       23  \n",
       "hitMin                                                        59  \n",
       "timeMicroSec                                             9963065  \n",
       "v2ProductName                 YouTube Youth Short Sleeve Tee Red  \n",
       "productListName                                   Search Results  \n",
       "sessionQualityDim                                             94  \n",
       "timeOnScreen                                                None  \n",
       "timeOnSite                                                  9963  \n",
       "totalTransactionRevenue                               5608400000  "
      ]
     },
     "execution_count": 9,
     "metadata": {},
     "output_type": "execute_result"
    }
   ],
   "source": [
    "raw_df.describe().toPandas().transpose()"
   ]
  },
  {
   "cell_type": "code",
   "execution_count": 10,
   "id": "a2e7cf4a",
   "metadata": {},
   "outputs": [],
   "source": [
    "ignoredCols = ['hitReferer','v2ProductName']"
   ]
  },
  {
   "cell_type": "markdown",
   "id": "4c0ca032",
   "metadata": {},
   "source": [
    "### 2.2 Null Profiling"
   ]
  },
  {
   "cell_type": "code",
   "execution_count": 11,
   "id": "b46e3eba",
   "metadata": {},
   "outputs": [
    {
     "name": "stderr",
     "output_type": "stream",
     "text": [
      "                                                                                \r"
     ]
    },
    {
     "name": "stdout",
     "output_type": "stream",
     "text": [
      "+--------------------+------+\n",
      "|              source| count|\n",
      "+--------------------+------+\n",
      "|            (direct)|502654|\n",
      "|              google|320612|\n",
      "|         youtube.com| 34750|\n",
      "|            Partners|  9949|\n",
      "|                 dfa|  8696|\n",
      "|analytics.google.com|  6144|\n",
      "|          google.com|  4537|\n",
      "|    sites.google.com|  3866|\n",
      "|siliconvalley.abo...|  3399|\n",
      "|      m.facebook.com|  2283|\n",
      "|        facebook.com|  2073|\n",
      "|          reddit.com|  1978|\n",
      "|     mail.google.com|  1833|\n",
      "|                bing|  1543|\n",
      "|           qiita.com|  1496|\n",
      "|               yahoo|  1441|\n",
      "|           quora.com|  1252|\n",
      "|                t.co|   996|\n",
      "|   groups.google.com|   950|\n",
      "|      l.facebook.com|   517|\n",
      "+--------------------+------+\n",
      "only showing top 20 rows\n",
      "\n"
     ]
    },
    {
     "name": "stderr",
     "output_type": "stream",
     "text": [
      "                                                                                \r"
     ]
    },
    {
     "name": "stdout",
     "output_type": "stream",
     "text": [
      "+------------+------+\n",
      "|isTrueDirect| count|\n",
      "+------------+------+\n",
      "|        null|580491|\n",
      "|        true|337323|\n",
      "+------------+------+\n",
      "\n"
     ]
    },
    {
     "name": "stderr",
     "output_type": "stream",
     "text": [
      "                                                                                \r"
     ]
    },
    {
     "name": "stdout",
     "output_type": "stream",
     "text": [
      "+--------------------+------+\n",
      "|       sourceKeyword| count|\n",
      "+--------------------+------+\n",
      "|                null|595783|\n",
      "|      (not provided)|296422|\n",
      "|    6qEhsCssdK0z36ri| 12471|\n",
      "|  Google Merchandise|  2529|\n",
      "|    1hZbAqLCbjwfgOH7|  2273|\n",
      "|google merchandis...|  2061|\n",
      "|    category_l1==166|   457|\n",
      "|(Remarketing/Cont...|   373|\n",
      "|    1X4Me6ZKNV0zg-jV|   330|\n",
      "|googlemerchandise...|   323|\n",
      "|             youtube|   207|\n",
      "|+google +merchand...|   201|\n",
      "|        google merch|   198|\n",
      "|         google stor|   171|\n",
      "|       youtube merch|   169|\n",
      "|+Google +Merchandise|   164|\n",
      "|Google Merchandis...|   164|\n",
      "|      +google +store|   162|\n",
      "|             Youtube|   140|\n",
      "|        google store|   121|\n",
      "+--------------------+------+\n",
      "only showing top 20 rows\n",
      "\n"
     ]
    },
    {
     "name": "stderr",
     "output_type": "stream",
     "text": [
      "                                                                                \r"
     ]
    },
    {
     "name": "stdout",
     "output_type": "stream",
     "text": [
      "+---------+------+\n",
      "|   medium| count|\n",
      "+---------+------+\n",
      "|   (none)|502654|\n",
      "|  organic|302345|\n",
      "| referral| 72078|\n",
      "|      cpc| 21580|\n",
      "|affiliate|  9949|\n",
      "|      cpm|  9136|\n",
      "|(not set)|    72|\n",
      "+---------+------+\n",
      "\n"
     ]
    },
    {
     "name": "stderr",
     "output_type": "stream",
     "text": [
      "                                                                                \r"
     ]
    },
    {
     "name": "stdout",
     "output_type": "stream",
     "text": [
      "+---------+------+\n",
      "|isVideoAd| count|\n",
      "+---------+------+\n",
      "|     null|885422|\n",
      "|    false| 32392|\n",
      "+---------+------+\n",
      "\n"
     ]
    },
    {
     "name": "stderr",
     "output_type": "stream",
     "text": [
      "                                                                                \r"
     ]
    },
    {
     "name": "stdout",
     "output_type": "stream",
     "text": [
      "+-------------------+-----+\n",
      "|      fullVisitorId|count|\n",
      "+-------------------+-----+\n",
      "|5456301402188625337| 3416|\n",
      "|5208937953046059083| 2377|\n",
      "|5399906287295745418| 2338|\n",
      "|5310912563447452038| 1792|\n",
      "|5370310992308515600| 1777|\n",
      "|5143600689169444167| 1651|\n",
      "|5217792392522047587| 1605|\n",
      "|4998444590527389280| 1550|\n",
      "|5479405825116961439| 1482|\n",
      "|5174129705003851738| 1472|\n",
      "|5341271361784611942| 1443|\n",
      "|5305785224618680102| 1413|\n",
      "|5423659711610895780| 1267|\n",
      "|5002959687839673544| 1211|\n",
      "|5128888224452873031| 1179|\n",
      "|5315382266855883329| 1164|\n",
      "|5457033415990547887| 1143|\n",
      "| 506797253390432707| 1094|\n",
      "|5391968741622668774| 1081|\n",
      "|5031234556107572838| 1081|\n",
      "+-------------------+-----+\n",
      "only showing top 20 rows\n",
      "\n"
     ]
    },
    {
     "name": "stderr",
     "output_type": "stream",
     "text": [
      "                                                                                \r"
     ]
    },
    {
     "name": "stdout",
     "output_type": "stream",
     "text": [
      "+----------+-----+\n",
      "|   visitId|count|\n",
      "+----------+-----+\n",
      "|1487093395| 1777|\n",
      "|1472342843| 1306|\n",
      "|1474845319|  995|\n",
      "|1473902040|  986|\n",
      "|1471629165|  950|\n",
      "|1474799746|  924|\n",
      "|1472479074|  920|\n",
      "|1472343066|  919|\n",
      "|1473468179|  913|\n",
      "|1479842010|  867|\n",
      "|1481587574|  817|\n",
      "|1478550894|  793|\n",
      "|1473022577|  790|\n",
      "|1470432463|  786|\n",
      "|1471836187|  781|\n",
      "|1474775547|  779|\n",
      "|1471884865|  775|\n",
      "|1471752880|  773|\n",
      "|1473181908|  755|\n",
      "|1483021729|  753|\n",
      "+----------+-----+\n",
      "only showing top 20 rows\n",
      "\n"
     ]
    },
    {
     "name": "stderr",
     "output_type": "stream",
     "text": [
      "                                                                                \r"
     ]
    },
    {
     "name": "stdout",
     "output_type": "stream",
     "text": [
      "+--------+-----+\n",
      "|    date|count|\n",
      "+--------+-----+\n",
      "|20160815| 8733|\n",
      "|20160914| 8693|\n",
      "|20160822| 8214|\n",
      "|20160831| 7571|\n",
      "|20160804| 7514|\n",
      "|20160816| 7394|\n",
      "|20160811| 7300|\n",
      "|20160823| 6858|\n",
      "|20160906| 6836|\n",
      "|20160921| 6828|\n",
      "|20160907| 6598|\n",
      "|20160913| 6506|\n",
      "|20160812| 6430|\n",
      "|20160902| 6246|\n",
      "|20160809| 6237|\n",
      "|20160817| 6064|\n",
      "|20160827| 6021|\n",
      "|20160802| 5946|\n",
      "|20160805| 5946|\n",
      "|20160909| 5633|\n",
      "+--------+-----+\n",
      "only showing top 20 rows\n",
      "\n"
     ]
    },
    {
     "name": "stderr",
     "output_type": "stream",
     "text": [
      "                                                                                \r"
     ]
    },
    {
     "name": "stdout",
     "output_type": "stream",
     "text": [
      "+---------+------+\n",
      "|newVisits| count|\n",
      "+---------+------+\n",
      "|        1|647359|\n",
      "|     null|270455|\n",
      "+---------+------+\n",
      "\n"
     ]
    },
    {
     "name": "stderr",
     "output_type": "stream",
     "text": [
      "                                                                                \r"
     ]
    },
    {
     "name": "stdout",
     "output_type": "stream",
     "text": [
      "+--------------------+------+\n",
      "|          hitReferer| count|\n",
      "+--------------------+------+\n",
      "|                null|797855|\n",
      "|https://www.googl...| 38623|\n",
      "|https://www.googl...|  7437|\n",
      "|https://www.youtu...|  7204|\n",
      "|https://www.googl...|  6743|\n",
      "|https://www.googl...|  3560|\n",
      "|https://www.googl...|  2873|\n",
      "|https://www.googl...|  2854|\n",
      "|http://www.google...|  2356|\n",
      "|https://www.googl...|  1912|\n",
      "|https://www.googl...|  1909|\n",
      "|https://www.googl...|  1573|\n",
      "|https://www.googl...|  1329|\n",
      "|https://www.googl...|  1200|\n",
      "|https://www.googl...|   968|\n",
      "|https://www.googl...|   967|\n",
      "|https://www.googl...|   845|\n",
      "|https://www.googl...|   839|\n",
      "|https://www.googl...|   768|\n",
      "|https://www.googl...|   764|\n",
      "+--------------------+------+\n",
      "only showing top 20 rows\n",
      "\n"
     ]
    },
    {
     "name": "stderr",
     "output_type": "stream",
     "text": [
      "                                                                                \r"
     ]
    },
    {
     "name": "stdout",
     "output_type": "stream",
     "text": [
      "+-------+------+\n",
      "|hitType| count|\n",
      "+-------+------+\n",
      "|   PAGE|886585|\n",
      "|  EVENT| 31229|\n",
      "+-------+------+\n",
      "\n"
     ]
    },
    {
     "name": "stderr",
     "output_type": "stream",
     "text": [
      "                                                                                \r"
     ]
    },
    {
     "name": "stdout",
     "output_type": "stream",
     "text": [
      "+--------------+------+\n",
      "|hitAction_type| count|\n",
      "+--------------+------+\n",
      "|             0|853903|\n",
      "|             1| 22253|\n",
      "|             2| 18313|\n",
      "|             5| 12380|\n",
      "|             3|  6200|\n",
      "|             6|  3880|\n",
      "|             4|   885|\n",
      "+--------------+------+\n",
      "\n"
     ]
    },
    {
     "name": "stderr",
     "output_type": "stream",
     "text": [
      "                                                                                \r"
     ]
    },
    {
     "name": "stdout",
     "output_type": "stream",
     "text": [
      "+---------+------+\n",
      "|hitNumber| count|\n",
      "+---------+------+\n",
      "|        1|128949|\n",
      "|        3|104988|\n",
      "|        2|101344|\n",
      "|        4| 75432|\n",
      "|        5| 54931|\n",
      "|        6| 45212|\n",
      "|        7| 40069|\n",
      "|        8| 33037|\n",
      "|        9| 28159|\n",
      "|       10| 24166|\n",
      "|       11| 21807|\n",
      "|       12| 18867|\n",
      "|       13| 17060|\n",
      "|       14| 14858|\n",
      "|       15| 13635|\n",
      "|       16| 12554|\n",
      "|       17| 11389|\n",
      "|       18| 10054|\n",
      "|       19|  9889|\n",
      "|       20|  8821|\n",
      "+---------+------+\n",
      "only showing top 20 rows\n",
      "\n"
     ]
    },
    {
     "name": "stderr",
     "output_type": "stream",
     "text": [
      "                                                                                \r"
     ]
    },
    {
     "name": "stdout",
     "output_type": "stream",
     "text": [
      "+-------+-----+\n",
      "|hitHour|count|\n",
      "+-------+-----+\n",
      "|     11|64196|\n",
      "|     10|60383|\n",
      "|     13|57946|\n",
      "|     14|54553|\n",
      "|     12|53822|\n",
      "|      9|48343|\n",
      "|      8|45227|\n",
      "|     16|44962|\n",
      "|     15|43676|\n",
      "|     18|39950|\n",
      "|     17|39395|\n",
      "|     20|39173|\n",
      "|      7|37065|\n",
      "|     22|34531|\n",
      "|     19|34193|\n",
      "|     21|33678|\n",
      "|     23|31245|\n",
      "|      6|30732|\n",
      "|      5|24574|\n",
      "|      0|23328|\n",
      "+-------+-----+\n",
      "only showing top 20 rows\n",
      "\n"
     ]
    },
    {
     "name": "stderr",
     "output_type": "stream",
     "text": [
      "                                                                                \r"
     ]
    },
    {
     "name": "stdout",
     "output_type": "stream",
     "text": [
      "+------+-----+\n",
      "|hitMin|count|\n",
      "+------+-----+\n",
      "|    21|16750|\n",
      "|    43|16699|\n",
      "|    58|16398|\n",
      "|    23|16368|\n",
      "|    52|16307|\n",
      "|    41|16248|\n",
      "|    30|16110|\n",
      "|    57|16085|\n",
      "|    54|16050|\n",
      "|    36|15954|\n",
      "|    56|15943|\n",
      "|    28|15817|\n",
      "|    53|15790|\n",
      "|    26|15789|\n",
      "|    20|15767|\n",
      "|     9|15726|\n",
      "|    35|15698|\n",
      "|    40|15657|\n",
      "|     6|15593|\n",
      "|    42|15579|\n",
      "+------+-----+\n",
      "only showing top 20 rows\n",
      "\n"
     ]
    },
    {
     "name": "stderr",
     "output_type": "stream",
     "text": [
      "                                                                                \r"
     ]
    },
    {
     "name": "stdout",
     "output_type": "stream",
     "text": [
      "+------------+------+\n",
      "|timeMicroSec| count|\n",
      "+------------+------+\n",
      "|           0|129394|\n",
      "|      374888|    80|\n",
      "|       11300|    80|\n",
      "|       13027|    80|\n",
      "|        9553|    80|\n",
      "|       13598|    80|\n",
      "|       11756|    79|\n",
      "|       13796|    79|\n",
      "|       17138|    73|\n",
      "|           1|    72|\n",
      "|       56918|    71|\n",
      "|       32959|    70|\n",
      "|       97580|    70|\n",
      "|       33192|    70|\n",
      "|        8860|    70|\n",
      "|       11187|    69|\n",
      "|      143667|    68|\n",
      "|       27902|    68|\n",
      "|        8751|    68|\n",
      "|        8108|    68|\n",
      "+------------+------+\n",
      "only showing top 20 rows\n",
      "\n"
     ]
    },
    {
     "name": "stderr",
     "output_type": "stream",
     "text": [
      "                                                                                \r"
     ]
    },
    {
     "name": "stdout",
     "output_type": "stream",
     "text": [
      "+--------------------+-----+\n",
      "|       v2ProductName|count|\n",
      "+--------------------+-----+\n",
      "|Google Men's 100%...|15365|\n",
      "|22 oz YouTube Bot...|10277|\n",
      "|YouTube Men's Sho...|10125|\n",
      "|YouTube Custom De...| 9866|\n",
      "|Google Men's 100%...| 9319|\n",
      "|YouTube Men's Sho...| 9286|\n",
      "|   YouTube Twill Cap| 9252|\n",
      "|Google Men's 100%...| 9227|\n",
      "|Electronics Acces...| 8507|\n",
      "|YouTube Men's Sho...| 7970|\n",
      "|YouTube Wool Heat...| 7968|\n",
      "|Google Laptop and...| 7866|\n",
      "|YouTube Leatheret...| 7599|\n",
      "|Google Men's  Zip...| 7392|\n",
      "| YouTube Trucker Hat| 7285|\n",
      "|Google Men's Wate...| 7100|\n",
      "|Suitcase Organize...| 7014|\n",
      "|Google Men's 100%...| 6847|\n",
      "|Google Alpine Sty...| 6602|\n",
      "|Google Men's Vint...| 6565|\n",
      "+--------------------+-----+\n",
      "only showing top 20 rows\n",
      "\n"
     ]
    },
    {
     "name": "stderr",
     "output_type": "stream",
     "text": [
      "                                                                                \r"
     ]
    },
    {
     "name": "stdout",
     "output_type": "stream",
     "text": [
      "+----------------+------+\n",
      "| productListName| count|\n",
      "+----------------+------+\n",
      "|        Category|847919|\n",
      "|Related Products| 28085|\n",
      "|       (not set)| 23657|\n",
      "|  Search Results| 18153|\n",
      "+----------------+------+\n",
      "\n"
     ]
    },
    {
     "name": "stderr",
     "output_type": "stream",
     "text": [
      "                                                                                \r"
     ]
    },
    {
     "name": "stdout",
     "output_type": "stream",
     "text": [
      "+-------+------+\n",
      "|isClick| count|\n",
      "+-------+------+\n",
      "|   null|895561|\n",
      "|   true| 22253|\n",
      "+-------+------+\n",
      "\n"
     ]
    },
    {
     "name": "stderr",
     "output_type": "stream",
     "text": [
      "                                                                                \r"
     ]
    },
    {
     "name": "stdout",
     "output_type": "stream",
     "text": [
      "+------------+------+\n",
      "|isImpression| count|\n",
      "+------------+------+\n",
      "|        true|853903|\n",
      "|        null| 63911|\n",
      "+------------+------+\n",
      "\n"
     ]
    },
    {
     "name": "stderr",
     "output_type": "stream",
     "text": [
      "                                                                                \r"
     ]
    },
    {
     "name": "stdout",
     "output_type": "stream",
     "text": [
      "+-----------------+------+\n",
      "|sessionQualityDim| count|\n",
      "+-----------------+------+\n",
      "|             null|856032|\n",
      "|                1| 28967|\n",
      "|                2|  4177|\n",
      "|                3|  1816|\n",
      "|                4|  1641|\n",
      "|                5|  1529|\n",
      "|                7|   825|\n",
      "|                6|   824|\n",
      "|               68|   679|\n",
      "|               19|   601|\n",
      "|               10|   596|\n",
      "|               44|   596|\n",
      "|                8|   569|\n",
      "|               77|   561|\n",
      "|               76|   492|\n",
      "|               80|   478|\n",
      "|               54|   466|\n",
      "|                9|   462|\n",
      "|               12|   451|\n",
      "|               62|   433|\n",
      "+-----------------+------+\n",
      "only showing top 20 rows\n",
      "\n"
     ]
    },
    {
     "name": "stderr",
     "output_type": "stream",
     "text": [
      "                                                                                \r"
     ]
    },
    {
     "name": "stdout",
     "output_type": "stream",
     "text": [
      "+------------+------+\n",
      "|timeOnScreen| count|\n",
      "+------------+------+\n",
      "|        null|917814|\n",
      "+------------+------+\n",
      "\n"
     ]
    },
    {
     "name": "stderr",
     "output_type": "stream",
     "text": [
      "                                                                                \r"
     ]
    },
    {
     "name": "stdout",
     "output_type": "stream",
     "text": [
      "+----------+-----+\n",
      "|timeOnSite|count|\n",
      "+----------+-----+\n",
      "|      null|67305|\n",
      "|        64| 2333|\n",
      "|        67| 2264|\n",
      "|        24| 2246|\n",
      "|        55| 2230|\n",
      "|        54| 2214|\n",
      "|        13| 2212|\n",
      "|        26| 2210|\n",
      "|       106| 2188|\n",
      "|       158| 2174|\n",
      "|        56| 2120|\n",
      "|        87| 2120|\n",
      "|        90| 2119|\n",
      "|        38| 2117|\n",
      "|        35| 2113|\n",
      "|      2469| 2099|\n",
      "|        86| 2070|\n",
      "|        52| 2060|\n",
      "|       215| 2045|\n",
      "|       169| 2026|\n",
      "+----------+-----+\n",
      "only showing top 20 rows\n",
      "\n"
     ]
    },
    {
     "name": "stderr",
     "output_type": "stream",
     "text": [
      "[Stage 53:============================================>         (166 + 4) / 200]\r"
     ]
    },
    {
     "name": "stdout",
     "output_type": "stream",
     "text": [
      "+-----------------------+------+\n",
      "|totalTransactionRevenue| count|\n",
      "+-----------------------+------+\n",
      "|                   null|847514|\n",
      "|              186860000|   950|\n",
      "|              220520000|   920|\n",
      "|              681400000|   817|\n",
      "|              192440000|   786|\n",
      "|               81980000|   704|\n",
      "|              108630000|   671|\n",
      "|               32950000|   652|\n",
      "|               79150000|   644|\n",
      "|              355970000|   626|\n",
      "|              208640000|   583|\n",
      "|               80060000|   579|\n",
      "|              127380000|   577|\n",
      "|               54000000|   569|\n",
      "|              150340000|   565|\n",
      "|              101940000|   556|\n",
      "|               29980000|   540|\n",
      "|              216630000|   524|\n",
      "|              307740000|   522|\n",
      "|               28980000|   511|\n",
      "+-----------------------+------+\n",
      "only showing top 20 rows\n",
      "\n"
     ]
    },
    {
     "name": "stderr",
     "output_type": "stream",
     "text": [
      "                                                                                \r"
     ]
    }
   ],
   "source": [
    "# Loop over all columns in the dataframe\n",
    "for a in raw_df.columns:\n",
    "  # For each column, perform a group by operation. This groups the dataframe by the unique values in the column\n",
    "  # Then, count the number of occurrences of each unique value\n",
    "  # Finally, order the results by the count in descending order and display the result\n",
    "  raw_df.groupBy(a).count().orderBy('count',ascending = False).show()"
   ]
  },
  {
   "cell_type": "code",
   "execution_count": 12,
   "id": "aaf80675",
   "metadata": {},
   "outputs": [
    {
     "name": "stderr",
     "output_type": "stream",
     "text": [
      "                                                                                \r"
     ]
    },
    {
     "name": "stdout",
     "output_type": "stream",
     "text": [
      "The column 'source' has 0 null values.\n"
     ]
    },
    {
     "name": "stderr",
     "output_type": "stream",
     "text": [
      "                                                                                \r"
     ]
    },
    {
     "name": "stdout",
     "output_type": "stream",
     "text": [
      "The column 'isTrueDirect' has 580491 null values.\n"
     ]
    },
    {
     "name": "stderr",
     "output_type": "stream",
     "text": [
      "                                                                                \r"
     ]
    },
    {
     "name": "stdout",
     "output_type": "stream",
     "text": [
      "The column 'sourceKeyword' has 595783 null values.\n"
     ]
    },
    {
     "name": "stderr",
     "output_type": "stream",
     "text": [
      "                                                                                \r"
     ]
    },
    {
     "name": "stdout",
     "output_type": "stream",
     "text": [
      "The column 'medium' has 0 null values.\n"
     ]
    },
    {
     "name": "stderr",
     "output_type": "stream",
     "text": [
      "                                                                                \r"
     ]
    },
    {
     "name": "stdout",
     "output_type": "stream",
     "text": [
      "The column 'isVideoAd' has 885422 null values.\n"
     ]
    },
    {
     "name": "stderr",
     "output_type": "stream",
     "text": [
      "                                                                                \r"
     ]
    },
    {
     "name": "stdout",
     "output_type": "stream",
     "text": [
      "The column 'fullVisitorId' has 0 null values.\n"
     ]
    },
    {
     "name": "stderr",
     "output_type": "stream",
     "text": [
      "                                                                                \r"
     ]
    },
    {
     "name": "stdout",
     "output_type": "stream",
     "text": [
      "The column 'visitId' has 0 null values.\n"
     ]
    },
    {
     "name": "stderr",
     "output_type": "stream",
     "text": [
      "                                                                                \r"
     ]
    },
    {
     "name": "stdout",
     "output_type": "stream",
     "text": [
      "The column 'date' has 0 null values.\n"
     ]
    },
    {
     "name": "stderr",
     "output_type": "stream",
     "text": [
      "                                                                                \r"
     ]
    },
    {
     "name": "stdout",
     "output_type": "stream",
     "text": [
      "The column 'newVisits' has 270455 null values.\n"
     ]
    },
    {
     "name": "stderr",
     "output_type": "stream",
     "text": [
      "                                                                                \r"
     ]
    },
    {
     "name": "stdout",
     "output_type": "stream",
     "text": [
      "The column 'hitReferer' has 797855 null values.\n"
     ]
    },
    {
     "name": "stderr",
     "output_type": "stream",
     "text": [
      "                                                                                \r"
     ]
    },
    {
     "name": "stdout",
     "output_type": "stream",
     "text": [
      "The column 'hitType' has 0 null values.\n"
     ]
    },
    {
     "name": "stderr",
     "output_type": "stream",
     "text": [
      "                                                                                \r"
     ]
    },
    {
     "name": "stdout",
     "output_type": "stream",
     "text": [
      "The column 'hitAction_type' has 0 null values.\n"
     ]
    },
    {
     "name": "stderr",
     "output_type": "stream",
     "text": [
      "                                                                                \r"
     ]
    },
    {
     "name": "stdout",
     "output_type": "stream",
     "text": [
      "The column 'hitNumber' has 0 null values.\n"
     ]
    },
    {
     "name": "stderr",
     "output_type": "stream",
     "text": [
      "                                                                                \r"
     ]
    },
    {
     "name": "stdout",
     "output_type": "stream",
     "text": [
      "The column 'hitHour' has 0 null values.\n"
     ]
    },
    {
     "name": "stderr",
     "output_type": "stream",
     "text": [
      "                                                                                \r"
     ]
    },
    {
     "name": "stdout",
     "output_type": "stream",
     "text": [
      "The column 'hitMin' has 0 null values.\n"
     ]
    },
    {
     "name": "stderr",
     "output_type": "stream",
     "text": [
      "                                                                                \r"
     ]
    },
    {
     "name": "stdout",
     "output_type": "stream",
     "text": [
      "The column 'timeMicroSec' has 0 null values.\n"
     ]
    },
    {
     "name": "stderr",
     "output_type": "stream",
     "text": [
      "                                                                                \r"
     ]
    },
    {
     "name": "stdout",
     "output_type": "stream",
     "text": [
      "The column 'v2ProductName' has 0 null values.\n"
     ]
    },
    {
     "name": "stderr",
     "output_type": "stream",
     "text": [
      "                                                                                \r"
     ]
    },
    {
     "name": "stdout",
     "output_type": "stream",
     "text": [
      "The column 'productListName' has 0 null values.\n"
     ]
    },
    {
     "name": "stderr",
     "output_type": "stream",
     "text": [
      "                                                                                \r"
     ]
    },
    {
     "name": "stdout",
     "output_type": "stream",
     "text": [
      "The column 'isClick' has 895561 null values.\n"
     ]
    },
    {
     "name": "stderr",
     "output_type": "stream",
     "text": [
      "                                                                                \r"
     ]
    },
    {
     "name": "stdout",
     "output_type": "stream",
     "text": [
      "The column 'isImpression' has 63911 null values.\n"
     ]
    },
    {
     "name": "stderr",
     "output_type": "stream",
     "text": [
      "                                                                                \r"
     ]
    },
    {
     "name": "stdout",
     "output_type": "stream",
     "text": [
      "The column 'sessionQualityDim' has 856032 null values.\n"
     ]
    },
    {
     "name": "stderr",
     "output_type": "stream",
     "text": [
      "                                                                                \r"
     ]
    },
    {
     "name": "stdout",
     "output_type": "stream",
     "text": [
      "The column 'timeOnScreen' has 917814 null values.\n"
     ]
    },
    {
     "name": "stderr",
     "output_type": "stream",
     "text": [
      "                                                                                \r"
     ]
    },
    {
     "name": "stdout",
     "output_type": "stream",
     "text": [
      "The column 'timeOnSite' has 67305 null values.\n"
     ]
    },
    {
     "name": "stderr",
     "output_type": "stream",
     "text": [
      "[Stage 100:>                                                        (0 + 4) / 4]\r"
     ]
    },
    {
     "name": "stdout",
     "output_type": "stream",
     "text": [
      "The column 'totalTransactionRevenue' has 847514 null values.\n"
     ]
    },
    {
     "name": "stderr",
     "output_type": "stream",
     "text": [
      "                                                                                \r"
     ]
    }
   ],
   "source": [
    "from pyspark.sql.functions import col, sum\n",
    "\n",
    "# Iterating through each column in DataFrame\n",
    "for col_name in raw_df.columns:\n",
    "    # Using `isNull()` to create a new DataFrame where each row is either true (if the original value was null) or false\n",
    "    # Then, using `cast()` to convert booleans to integers (true becomes 1, false becomes 0)\n",
    "    # And using `sum()` to find the total number of nulls in the column\n",
    "    null_count = raw_df.select(sum(col(col_name).isNull().cast(\"int\")).alias(col_name)).collect()[0][col_name]\n",
    "    print(f\"The column '{col_name}' has {null_count} null values.\")\n",
    "\n"
   ]
  },
  {
   "cell_type": "code",
   "execution_count": 13,
   "id": "8c886c25",
   "metadata": {},
   "outputs": [],
   "source": [
    "ignoredCols = ignoredCols+['timeOnScreen']"
   ]
  },
  {
   "cell_type": "code",
   "execution_count": 14,
   "id": "6babd765",
   "metadata": {},
   "outputs": [
    {
     "data": {
      "text/plain": [
       "['hitReferer', 'v2ProductName', 'timeOnScreen']"
      ]
     },
     "execution_count": 14,
     "metadata": {},
     "output_type": "execute_result"
    }
   ],
   "source": [
    "ignoredCols"
   ]
  },
  {
   "cell_type": "markdown",
   "id": "83adab82",
   "metadata": {},
   "source": [
    "### 2.3 Outlier Profiling"
   ]
  },
  {
   "cell_type": "code",
   "execution_count": 15,
   "id": "6d826778",
   "metadata": {},
   "outputs": [
    {
     "name": "stdout",
     "output_type": "stream",
     "text": [
      "Numeric columns: ['fullVisitorId', 'visitId', 'date', 'newVisits', 'hitAction_type', 'hitNumber', 'hitHour', 'hitMin', 'timeMicroSec', 'sessionQualityDim', 'timeOnSite', 'totalTransactionRevenue']\n",
      "Non-numeric columns: ['source', 'isTrueDirect', 'sourceKeyword', 'medium', 'isVideoAd', 'hitReferer', 'hitType', 'v2ProductName', 'productListName', 'isClick', 'isImpression', 'timeOnScreen']\n"
     ]
    }
   ],
   "source": [
    "# Importing required data types from PySpark\n",
    "from pyspark.sql.types import IntegerType, FloatType, LongType, StringType\n",
    "\n",
    "# Initializing empty lists for numeric and non-numeric columns\n",
    "numeric_columns = []\n",
    "non_numeric_columns = []\n",
    "\n",
    "# Looping through each column in the DataFrame\n",
    "for col_name in raw_df.columns:\n",
    "    # Checking if the column data type is numeric (IntegerType, FloatType, or LongType)\n",
    "    if isinstance(raw_df.schema[col_name].dataType, (IntegerType, FloatType, LongType)):\n",
    "        # If it is numeric, then add the column name to the numeric_columns list\n",
    "        numeric_columns.append(col_name)\n",
    "    else:\n",
    "        # If it's not numeric, then add the column name to the non_numeric_columns list\n",
    "        non_numeric_columns.append(col_name)\n",
    "\n",
    "# Printing the list of numeric columns\n",
    "print(f\"Numeric columns: {numeric_columns}\")\n",
    "\n",
    "# Printing the list of non-numeric columns\n",
    "print(f\"Non-numeric columns: {non_numeric_columns}\")"
   ]
  },
  {
   "cell_type": "code",
   "execution_count": 16,
   "id": "df27969f",
   "metadata": {},
   "outputs": [
    {
     "name": "stderr",
     "output_type": "stream",
     "text": [
      "                                                                                \r"
     ]
    },
    {
     "name": "stdout",
     "output_type": "stream",
     "text": [
      "Column: fullVisitorId\n"
     ]
    },
    {
     "name": "stderr",
     "output_type": "stream",
     "text": [
      "                                                                                \r"
     ]
    },
    {
     "name": "stdout",
     "output_type": "stream",
     "text": [
      "Outlier count: 90805\n",
      "Outlier range: < 4.644776973901258e+18 OR > 5.788280369053179e+18\n",
      "\n"
     ]
    },
    {
     "name": "stderr",
     "output_type": "stream",
     "text": [
      "                                                                                \r"
     ]
    },
    {
     "name": "stdout",
     "output_type": "stream",
     "text": [
      "Column: visitId\n"
     ]
    },
    {
     "name": "stderr",
     "output_type": "stream",
     "text": [
      "                                                                                \r"
     ]
    },
    {
     "name": "stdout",
     "output_type": "stream",
     "text": [
      "Outlier count: 0\n",
      "Outlier range: < 1448245415.5 OR > 1516209107.5\n",
      "\n"
     ]
    },
    {
     "name": "stderr",
     "output_type": "stream",
     "text": [
      "                                                                                \r"
     ]
    },
    {
     "name": "stdout",
     "output_type": "stream",
     "text": [
      "Column: date\n"
     ]
    },
    {
     "name": "stderr",
     "output_type": "stream",
     "text": [
      "                                                                                \r"
     ]
    },
    {
     "name": "stdout",
     "output_type": "stream",
     "text": [
      "Outlier count: 0\n",
      "Outlier range: < 20146788.0 OR > 20184452.0\n",
      "\n"
     ]
    },
    {
     "name": "stderr",
     "output_type": "stream",
     "text": [
      "                                                                                \r"
     ]
    },
    {
     "name": "stdout",
     "output_type": "stream",
     "text": [
      "Column: newVisits\n"
     ]
    },
    {
     "name": "stderr",
     "output_type": "stream",
     "text": [
      "                                                                                \r"
     ]
    },
    {
     "name": "stdout",
     "output_type": "stream",
     "text": [
      "Outlier count: 0\n",
      "Outlier range: < 1.0 OR > 1.0\n",
      "\n"
     ]
    },
    {
     "name": "stderr",
     "output_type": "stream",
     "text": [
      "                                                                                \r"
     ]
    },
    {
     "name": "stdout",
     "output_type": "stream",
     "text": [
      "Column: hitAction_type\n"
     ]
    },
    {
     "name": "stderr",
     "output_type": "stream",
     "text": [
      "                                                                                \r"
     ]
    },
    {
     "name": "stdout",
     "output_type": "stream",
     "text": [
      "Outlier count: 63911\n",
      "Outlier range: < 0.0 OR > 0.0\n",
      "\n"
     ]
    },
    {
     "name": "stderr",
     "output_type": "stream",
     "text": [
      "                                                                                \r"
     ]
    },
    {
     "name": "stdout",
     "output_type": "stream",
     "text": [
      "Column: hitNumber\n"
     ]
    },
    {
     "name": "stderr",
     "output_type": "stream",
     "text": [
      "                                                                                \r"
     ]
    },
    {
     "name": "stdout",
     "output_type": "stream",
     "text": [
      "Outlier count: 107855\n",
      "Outlier range: < -10.5 OR > 25.5\n",
      "\n"
     ]
    },
    {
     "name": "stderr",
     "output_type": "stream",
     "text": [
      "                                                                                \r"
     ]
    },
    {
     "name": "stdout",
     "output_type": "stream",
     "text": [
      "Column: hitHour\n"
     ]
    },
    {
     "name": "stderr",
     "output_type": "stream",
     "text": [
      "                                                                                \r"
     ]
    },
    {
     "name": "stdout",
     "output_type": "stream",
     "text": [
      "Outlier count: 0\n",
      "Outlier range: < -3.0 OR > 29.0\n",
      "\n"
     ]
    },
    {
     "name": "stderr",
     "output_type": "stream",
     "text": [
      "                                                                                \r"
     ]
    },
    {
     "name": "stdout",
     "output_type": "stream",
     "text": [
      "Column: hitMin\n"
     ]
    },
    {
     "name": "stderr",
     "output_type": "stream",
     "text": [
      "                                                                                \r"
     ]
    },
    {
     "name": "stdout",
     "output_type": "stream",
     "text": [
      "Outlier count: 0\n",
      "Outlier range: < -27.0 OR > 85.0\n",
      "\n"
     ]
    },
    {
     "name": "stderr",
     "output_type": "stream",
     "text": [
      "                                                                                \r"
     ]
    },
    {
     "name": "stdout",
     "output_type": "stream",
     "text": [
      "Column: timeMicroSec\n"
     ]
    },
    {
     "name": "stderr",
     "output_type": "stream",
     "text": [
      "[Stage 127:>                                                        (0 + 4) / 4]\r"
     ]
    },
    {
     "name": "stdout",
     "output_type": "stream",
     "text": [
      "Outlier count: 108522\n",
      "Outlier range: < -361549.0 OR > 657971.0\n",
      "\n"
     ]
    },
    {
     "name": "stderr",
     "output_type": "stream",
     "text": [
      "                                                                                \r"
     ]
    },
    {
     "name": "stdout",
     "output_type": "stream",
     "text": [
      "Column: sessionQualityDim\n"
     ]
    },
    {
     "name": "stderr",
     "output_type": "stream",
     "text": [
      "                                                                                \r"
     ]
    },
    {
     "name": "stdout",
     "output_type": "stream",
     "text": [
      "Outlier count: 12166\n",
      "Outlier range: < -26.0 OR > 46.0\n",
      "\n"
     ]
    },
    {
     "name": "stderr",
     "output_type": "stream",
     "text": [
      "                                                                                \r"
     ]
    },
    {
     "name": "stdout",
     "output_type": "stream",
     "text": [
      "Column: timeOnSite\n"
     ]
    },
    {
     "name": "stderr",
     "output_type": "stream",
     "text": [
      "                                                                                \r"
     ]
    },
    {
     "name": "stdout",
     "output_type": "stream",
     "text": [
      "Outlier count: 70879\n",
      "Outlier range: < -877.0 OR > 1795.0\n",
      "\n"
     ]
    },
    {
     "name": "stderr",
     "output_type": "stream",
     "text": [
      "                                                                                \r"
     ]
    },
    {
     "name": "stdout",
     "output_type": "stream",
     "text": [
      "Column: totalTransactionRevenue\n"
     ]
    },
    {
     "name": "stderr",
     "output_type": "stream",
     "text": [
      "[Stage 136:>                                                        (0 + 4) / 4]\r"
     ]
    },
    {
     "name": "stdout",
     "output_type": "stream",
     "text": [
      "Outlier count: 8730\n",
      "Outlier range: < -122395000.0 OR > 308845000.0\n",
      "\n"
     ]
    },
    {
     "name": "stderr",
     "output_type": "stream",
     "text": [
      "                                                                                \r"
     ]
    }
   ],
   "source": [
    "from pyspark.sql.functions import col, expr\n",
    "\n",
    "# Loop through every numeric column\n",
    "for col_name in numeric_columns:\n",
    "    # Calculate IQR\n",
    "    bounds = raw_df.approxQuantile(col_name, [0.25, 0.75], 0.05)\n",
    "    IQR = bounds[1] - bounds[0]\n",
    "\n",
    "    # Calculate lower and upper bounds\n",
    "    lower_bound = bounds[0] - 1.5 * IQR\n",
    "    upper_bound = bounds[1] + 1.5 * IQR\n",
    "\n",
    "    # Find outliers\n",
    "    outliers = raw_df.filter((col(col_name) < lower_bound) | (col(col_name) > upper_bound))\n",
    "\n",
    "    # Print only the column name, the count of outliers and the outlier range\n",
    "    print(f\"Column: {col_name}\")\n",
    "    print(f\"Outlier count: {outliers.count()}\")\n",
    "    print(f\"Outlier range: < {lower_bound} OR > {upper_bound}\\n\")"
   ]
  },
  {
   "cell_type": "code",
   "execution_count": 17,
   "id": "21e22dd2",
   "metadata": {},
   "outputs": [],
   "source": [
    "outlierCols = ['totalTransactionRevenue','timeOnSite']"
   ]
  },
  {
   "cell_type": "markdown",
   "id": "d13499fa",
   "metadata": {},
   "source": [
    "### 2.4 Spurious Detection"
   ]
  },
  {
   "cell_type": "code",
   "execution_count": 18,
   "id": "a77d9807",
   "metadata": {},
   "outputs": [
    {
     "name": "stderr",
     "output_type": "stream",
     "text": [
      "[Stage 138:>                                                        (0 + 4) / 4]\r"
     ]
    },
    {
     "name": "stdout",
     "output_type": "stream",
     "text": [
      "+------------------+----------+---------+--------------+-----------------------+--------------------------------------------------------+------------+\n",
      "|fullVisitorId     |visitId   |hitNumber|hitAction_type|totalTransactionRevenue|v2ProductName                                           |timeMicroSec|\n",
      "+------------------+----------+---------+--------------+-----------------------+--------------------------------------------------------+------------+\n",
      "|516734366347147622|1478384303|6        |0             |70980000               |Rubber Grip Ballpoint Pen 4 Pack                        |62638       |\n",
      "|516734366347147622|1478384303|6        |0             |70980000               |Ballpoint LED Light Pen                                 |62638       |\n",
      "|516734366347147622|1478384303|6        |0             |70980000               |Leather and Metal Ballpoint Pen                         |62638       |\n",
      "|516734366347147622|1478384303|6        |0             |70980000               |Google Stylus Pen w/ LED Light                          |62638       |\n",
      "|516734366347147622|1478384303|6        |0             |70980000               |Pen Pencil & Highlighter Set                            |62638       |\n",
      "|516734366347147622|1478384303|6        |0             |70980000               |Maze Pen                                                |62638       |\n",
      "|516734366347147622|1478384303|6        |0             |70980000               |Colored Pencil Set                                      |62638       |\n",
      "|516734366347147622|1478384303|6        |0             |70980000               |Four Color Retractable Pen                              |62638       |\n",
      "|516734366347147622|1478384303|6        |0             |70980000               |Ballpoint Stylus Pen                                    |62638       |\n",
      "|516734366347147622|1478384303|6        |0             |70980000               |Retractable Ballpoint Pen Red                           |62638       |\n",
      "|516734366347147622|1478384303|6        |0             |70980000               |Google Ballpoint Pen Black                              |62638       |\n",
      "|516734366347147622|1478384303|6        |0             |70980000               |Metal Texture Roller Pen                                |62638       |\n",
      "|516734366347147622|1478384303|7        |0             |70980000               |Google Lunch Bag                                        |103790      |\n",
      "|516734366347147622|1478384303|7        |0             |70980000               |Google Alpine Style Backpack                            |103790      |\n",
      "|516734366347147622|1478384303|7        |0             |70980000               |Electronics Accessory Pouch                             |103790      |\n",
      "|516734366347147622|1478384303|7        |0             |70980000               |Softsided Travel Pouch Set                              |103790      |\n",
      "|516734366347147622|1478384303|7        |0             |70980000               |Collapsible Shopping Bag                                |103790      |\n",
      "|516734366347147622|1478384303|7        |0             |70980000               |Sport Bag                                               |103790      |\n",
      "|516734366347147622|1478384303|7        |0             |70980000               |Google Tote Bag                                         |103790      |\n",
      "|516734366347147622|1478384303|7        |0             |70980000               |Waterproof Backpack                                     |103790      |\n",
      "|516734366347147622|1478384303|7        |0             |70980000               |Google Slim Utility Travel Bag                          |103790      |\n",
      "|516734366347147622|1478384303|7        |0             |70980000               |Suitcase Organizer Cubes                                |103790      |\n",
      "|516734366347147622|1478384303|7        |0             |70980000               |Google Zipper-front Sports Bag                          |103790      |\n",
      "|516734366347147622|1478384303|7        |0             |70980000               |Large Zipper Top Tote Bag                               |103790      |\n",
      "|516734366347147622|1478384303|8        |0             |70980000               |Leather and Metal Ballpoint Pen                         |125907      |\n",
      "|516734366347147622|1478384303|8        |0             |70980000               |Four Color Retractable Pen                              |125907      |\n",
      "|516734366347147622|1478384303|8        |0             |70980000               |Ballpoint LED Light Pen                                 |125907      |\n",
      "|516734366347147622|1478384303|8        |0             |70980000               |Maze Pen                                                |125907      |\n",
      "|516734366347147622|1478384303|8        |0             |70980000               |Ballpoint Stylus Pen                                    |125907      |\n",
      "|516734366347147622|1478384303|8        |0             |70980000               |Google Stylus Pen w/ LED Light                          |125907      |\n",
      "|516734366347147622|1478384303|8        |0             |70980000               |Retractable Ballpoint Pen Red                           |125907      |\n",
      "|516734366347147622|1478384303|8        |0             |70980000               |Colored Pencil Set                                      |125907      |\n",
      "|516734366347147622|1478384303|8        |0             |70980000               |Pen Pencil & Highlighter Set                            |125907      |\n",
      "|516734366347147622|1478384303|8        |0             |70980000               |Metal Texture Roller Pen                                |125907      |\n",
      "|516734366347147622|1478384303|8        |0             |70980000               |Google Ballpoint Pen Black                              |125907      |\n",
      "|516734366347147622|1478384303|8        |0             |70980000               |Rubber Grip Ballpoint Pen 4 Pack                        |125907      |\n",
      "|516734366347147622|1478384303|10       |0             |70980000               |Google Men's Short Sleeve Hero Tee Light Blue           |133578      |\n",
      "|516734366347147622|1478384303|10       |0             |70980000               |YouTube Men's Short Sleeve Hero Tee Charcoal            |133578      |\n",
      "|516734366347147622|1478384303|10       |0             |70980000               |Google Men's 100% Cotton Short Sleeve Hero Tee White    |133578      |\n",
      "|516734366347147622|1478384303|10       |0             |70980000               |Google Men's 100% Cotton Short Sleeve Hero Tee Navy     |133578      |\n",
      "|516734366347147622|1478384303|10       |0             |70980000               |Google Men's Heavyweight Long Sleeve Hero Tee Navy      |133578      |\n",
      "|516734366347147622|1478384303|10       |0             |70980000               |YouTube Men's Short Sleeve Hero Tee Black               |133578      |\n",
      "|516734366347147622|1478384303|10       |0             |70980000               |Google Men's Heavyweight Long Sleeve Hero Tee Burgundy  |133578      |\n",
      "|516734366347147622|1478384303|10       |0             |70980000               |Google Men's 100% Cotton Short Sleeve Hero Tee Red      |133578      |\n",
      "|516734366347147622|1478384303|10       |0             |70980000               |Google Men's Performance Polo Grey/Black                |133578      |\n",
      "|516734366347147622|1478384303|10       |0             |70980000               |Google Men's 100% Cotton Short Sleeve Hero Tee Black    |133578      |\n",
      "|516734366347147622|1478384303|10       |0             |70980000               |YouTube Men's Short Sleeve Hero Tee White               |133578      |\n",
      "|516734366347147622|1478384303|10       |0             |70980000               |Google Men's Short Sleeve Hero Tee Heather              |133578      |\n",
      "|516734366347147622|1478384303|11       |1             |70980000               |Google Men's Heavyweight Long Sleeve Hero Tee Burgundy  |146885      |\n",
      "|516734366347147622|1478384303|12       |2             |70980000               |Google Men's Heavyweight Long Sleeve Hero Tee Burgundy  |146886      |\n",
      "|516734366347147622|1478384303|13       |2             |70980000               |Google Men's Heavyweight Long Sleeve Hero Tee Navy      |153877      |\n",
      "|516734366347147622|1478384303|14       |1             |70980000               |Google Men's Heavyweight Long Sleeve Hero Tee Navy      |153878      |\n",
      "|516734366347147622|1478384303|15       |1             |70980000               |Google Men's Heavyweight Long Sleeve Hero Tee Navy      |164718      |\n",
      "|516734366347147622|1478384303|16       |2             |70980000               |Google Men's Heavyweight Long Sleeve Hero Tee Navy      |164719      |\n",
      "|516734366347147622|1478384303|17       |1             |70980000               |Google Men's Heavyweight Long Sleeve Hero Tee Navy      |166709      |\n",
      "|516734366347147622|1478384303|18       |0             |70980000               |Google Men's Performance 1/4 Zip Pullover Heather/Black |169578      |\n",
      "|516734366347147622|1478384303|18       |0             |70980000               |Google Women's Fleece Hoodie                            |169578      |\n",
      "|516734366347147622|1478384303|18       |0             |70980000               |20 oz Stainless Steel Insulated Tumbler                 |169578      |\n",
      "|516734366347147622|1478384303|19       |0             |70980000               |Google Men's Short Sleeve Hero Tee Heather              |191007      |\n",
      "|516734366347147622|1478384303|19       |0             |70980000               |YouTube Men's Short Sleeve Hero Tee Black               |191007      |\n",
      "|516734366347147622|1478384303|19       |0             |70980000               |Google Men's Heavyweight Long Sleeve Hero Tee Burgundy  |191007      |\n",
      "|516734366347147622|1478384303|19       |0             |70980000               |Google Men's Heavyweight Long Sleeve Hero Tee Navy      |191007      |\n",
      "|516734366347147622|1478384303|19       |0             |70980000               |YouTube Men's Short Sleeve Hero Tee Charcoal            |191007      |\n",
      "|516734366347147622|1478384303|19       |0             |70980000               |Google Men's 100% Cotton Short Sleeve Hero Tee White    |191007      |\n",
      "|516734366347147622|1478384303|19       |0             |70980000               |Google Men's Performance Polo Grey/Black                |191007      |\n",
      "|516734366347147622|1478384303|19       |0             |70980000               |YouTube Men's Short Sleeve Hero Tee White               |191007      |\n",
      "|516734366347147622|1478384303|19       |0             |70980000               |Google Men's 100% Cotton Short Sleeve Hero Tee Black    |191007      |\n",
      "|516734366347147622|1478384303|19       |0             |70980000               |Google Men's 100% Cotton Short Sleeve Hero Tee Navy     |191007      |\n",
      "|516734366347147622|1478384303|19       |0             |70980000               |Google Men's 100% Cotton Short Sleeve Hero Tee Red      |191007      |\n",
      "|516734366347147622|1478384303|19       |0             |70980000               |Google Men's Short Sleeve Hero Tee Light Blue           |191007      |\n",
      "|516734366347147622|1478384303|20       |0             |70980000               |Google Men's 100% Cotton Short Sleeve Hero Tee Navy     |220658      |\n",
      "|516734366347147622|1478384303|20       |0             |70980000               |Google Toddler 1/4 Zip Fleece Pewter                    |220658      |\n",
      "|516734366347147622|1478384303|20       |0             |70980000               |Google Men's Heavyweight Long Sleeve Hero Tee Burgundy  |220658      |\n",
      "|516734366347147622|1478384303|21       |3             |70980000               |Google Vintage Henley Grey/Black                        |249343      |\n",
      "|516734366347147622|1478384303|23       |0             |70980000               |Google Men's 100% Cotton Short Sleeve Hero Tee Black    |256816      |\n",
      "|516734366347147622|1478384303|23       |0             |70980000               |Google Men's Watershed Full Zip Hoodie Grey             |256816      |\n",
      "|516734366347147622|1478384303|23       |0             |70980000               |Google Men's 100% Cotton Short Sleeve Hero Tee Navy     |256816      |\n",
      "|516734366347147622|1478384303|23       |0             |70980000               |Google Men's 100% Cotton Short Sleeve Hero Tee Red      |256816      |\n",
      "|516734366347147622|1478384303|23       |0             |70980000               |Google Men's 100% Cotton Short Sleeve Hero Tee White    |256816      |\n",
      "|516734366347147622|1478384303|23       |0             |70980000               |Google Men's Pullover Hoodie Grey                       |256816      |\n",
      "|516734366347147622|1478384303|23       |0             |70980000               |Google Men's  Zip Hoodie                                |256816      |\n",
      "|516734366347147622|1478384303|23       |0             |70980000               |Google Men's Heavyweight Long Sleeve Hero Tee Navy      |256816      |\n",
      "|516734366347147622|1478384303|23       |0             |70980000               |Android Men's  Zip Hoodie                               |256816      |\n",
      "|516734366347147622|1478384303|23       |0             |70980000               |Google Men's Heavyweight Long Sleeve Hero Tee Burgundy  |256816      |\n",
      "|516734366347147622|1478384303|23       |0             |70980000               |Google Men's Short Sleeve Hero Tee Heather              |256816      |\n",
      "|516734366347147622|1478384303|23       |0             |70980000               |YouTube Men's Short Sleeve Hero Tee Black               |256816      |\n",
      "|516734366347147622|1478384303|24       |0             |70980000               |Google Women's Short Sleeve Hero Tee Black              |313050      |\n",
      "|516734366347147622|1478384303|24       |0             |70980000               |YouTube Wool Heather Cap Heather/Black                  |313050      |\n",
      "|516734366347147622|1478384303|24       |0             |70980000               |Google Men's 100% Cotton Short Sleeve Hero Tee White    |313050      |\n",
      "|516734366347147622|1478384303|25       |0             |70980000               |Google Men's Performance Full Zip Jacket Black          |322312      |\n",
      "|516734366347147622|1478384303|25       |0             |70980000               |Google Men's Lightweight Microfleece Jacket Black       |322312      |\n",
      "|516734366347147622|1478384303|25       |0             |70980000               |Google Men's Pullover Hoodie Grey                       |322312      |\n",
      "|516734366347147622|1478384303|25       |0             |70980000               |Google Tri-blend Hoodie Grey                            |322312      |\n",
      "|516734366347147622|1478384303|25       |0             |70980000               |Google Men's Microfiber 1/4 Zip Pullover Grey/Black     |322312      |\n",
      "|516734366347147622|1478384303|25       |0             |70980000               |Google Men's Weatherblock Shell Jacket Black            |322312      |\n",
      "|516734366347147622|1478384303|25       |0             |70980000               |Google Men's Convertible Vest-Jacket Pewter             |322312      |\n",
      "|516734366347147622|1478384303|25       |0             |70980000               |Android Men's  Zip Hoodie                               |322312      |\n",
      "|516734366347147622|1478384303|25       |0             |70980000               |Google Men's Quilted Insulated Vest Black               |322312      |\n",
      "|516734366347147622|1478384303|25       |0             |70980000               |Google Men's Microfiber 1/4 Zip Pullover Blue/Indigo    |322312      |\n",
      "|516734366347147622|1478384303|25       |0             |70980000               |Google Men's Watershed Full Zip Hoodie Grey             |322312      |\n",
      "|516734366347147622|1478384303|25       |0             |70980000               |Google Men's  Zip Hoodie                                |322312      |\n",
      "|516734366347147622|1478384303|26       |0             |70980000               |Google Men's Performance 1/4 Zip Pullover Heather/Black |338943      |\n",
      "|516734366347147622|1478384303|26       |0             |70980000               |Google Men's Airflow 1/4 Zip Pullover Black             |338943      |\n",
      "|516734366347147622|1478384303|26       |0             |70980000               |Google Men's Watershed Full Zip Hoodie Grey             |338943      |\n",
      "|516734366347147622|1478384303|26       |0             |70980000               |Google Men's Short Sleeve Performance Badge Tee Pewter  |338943      |\n",
      "|516734366347147622|1478384303|26       |0             |70980000               |Google Men's Short Sleeve Performance Badge Tee Black   |338943      |\n",
      "|516734366347147622|1478384303|26       |0             |70980000               |Google Men's Short Sleeve Performance Badge Tee Navy    |338943      |\n",
      "|516734366347147622|1478384303|26       |0             |70980000               |Google Men's Short Sleeve Performance Badge Tee Charcoal|338943      |\n",
      "|516734366347147622|1478384303|26       |0             |70980000               |Google Men's Performance Full Zip Jacket Black          |338943      |\n",
      "|516734366347147622|1478384303|26       |0             |70980000               |Google Men's Convertible Vest-Jacket Pewter             |338943      |\n",
      "|516734366347147622|1478384303|26       |0             |70980000               |Google Men's Airflow 1/4 Zip Pullover Lapis             |338943      |\n",
      "|516734366347147622|1478384303|26       |0             |70980000               |Google Men's Performance Hero Tee Gunmetal              |338943      |\n",
      "|516734366347147622|1478384303|27       |0             |70980000               |Google Men's 100% Cotton Short Sleeve Hero Tee White    |381144      |\n",
      "|516734366347147622|1478384303|27       |0             |70980000               |Google Men's Heavyweight Long Sleeve Hero Tee Burgundy  |381144      |\n",
      "|516734366347147622|1478384303|27       |0             |70980000               |YouTube Men's Short Sleeve Hero Tee Charcoal            |381144      |\n",
      "|516734366347147622|1478384303|27       |0             |70980000               |Google Men's 100% Cotton Short Sleeve Hero Tee Black    |381144      |\n",
      "|516734366347147622|1478384303|27       |0             |70980000               |Google Men's Short Sleeve Hero Tee Heather              |381144      |\n",
      "|516734366347147622|1478384303|27       |0             |70980000               |Google Men's Short Sleeve Hero Tee Light Blue           |381144      |\n",
      "|516734366347147622|1478384303|27       |0             |70980000               |YouTube Men's Short Sleeve Hero Tee Black               |381144      |\n",
      "|516734366347147622|1478384303|27       |0             |70980000               |Google Men's Heavyweight Long Sleeve Hero Tee Navy      |381144      |\n",
      "|516734366347147622|1478384303|27       |0             |70980000               |Google Men's Performance Polo Grey/Black                |381144      |\n",
      "|516734366347147622|1478384303|27       |0             |70980000               |Google Men's 100% Cotton Short Sleeve Hero Tee Navy     |381144      |\n",
      "|516734366347147622|1478384303|27       |0             |70980000               |YouTube Men's Short Sleeve Hero Tee White               |381144      |\n",
      "|516734366347147622|1478384303|27       |0             |70980000               |Google Men's 100% Cotton Short Sleeve Hero Tee Red      |381144      |\n",
      "|516734366347147622|1478384303|28       |1             |70980000               |Google Men's Heavyweight Long Sleeve Hero Tee Navy      |391066      |\n",
      "|516734366347147622|1478384303|29       |2             |70980000               |Google Men's Heavyweight Long Sleeve Hero Tee Navy      |391066      |\n",
      "|516734366347147622|1478384303|30       |1             |70980000               |Google Men's Heavyweight Long Sleeve Hero Tee Navy      |394542      |\n",
      "|516734366347147622|1478384303|31       |0             |70980000               |20 oz Stainless Steel Insulated Tumbler                 |396307      |\n",
      "|516734366347147622|1478384303|31       |0             |70980000               |Google Men's Performance 1/4 Zip Pullover Heather/Black |396307      |\n",
      "|516734366347147622|1478384303|31       |0             |70980000               |Google Women's Fleece Hoodie                            |396307      |\n",
      "|516734366347147622|1478384303|32       |3             |70980000               |Google Men's Heavyweight Long Sleeve Hero Tee Navy      |414229      |\n",
      "|516734366347147622|1478384303|34       |0             |70980000               |Red Shine 15 oz Mug                                     |428813      |\n",
      "|516734366347147622|1478384303|34       |0             |70980000               |Engraved Ceramic Google Mug                             |428813      |\n",
      "|516734366347147622|1478384303|34       |0             |70980000               |Android Rise 14 oz Mug                                  |428813      |\n",
      "|516734366347147622|1478384303|35       |1             |70980000               |Red Shine 15 oz Mug                                     |443236      |\n",
      "|516734366347147622|1478384303|36       |2             |70980000               |Red Shine 15 oz Mug                                     |443237      |\n",
      "|516734366347147622|1478384303|37       |1             |70980000               |Red Shine 15 oz Mug                                     |448091      |\n",
      "|516734366347147622|1478384303|38       |0             |70980000               |Google Women's Short Sleeve Hero Tee Black              |450889      |\n",
      "|516734366347147622|1478384303|38       |0             |70980000               |Google Toddler 1/4 Zip Fleece Pewter                    |450889      |\n",
      "|516734366347147622|1478384303|38       |0             |70980000               |Google Women's Zip Hoodie Grey                          |450889      |\n",
      "|516734366347147622|1478384303|39       |0             |70980000               |Engraved Ceramic Google Mug                             |473402      |\n",
      "|516734366347147622|1478384303|39       |0             |70980000               |Android Rise 14 oz Mug                                  |473402      |\n",
      "|516734366347147622|1478384303|39       |0             |70980000               |Red Shine 15 oz Mug                                     |473402      |\n",
      "|516734366347147622|1478384303|41       |0             |70980000               |Fashion Sunglasses & Pouch                              |484218      |\n",
      "|516734366347147622|1478384303|41       |0             |70980000               |Straw Beach Mat                                         |484218      |\n",
      "|516734366347147622|1478384303|41       |0             |70980000               |Google Luggage Tag                                      |484218      |\n",
      "|516734366347147622|1478384303|41       |0             |70980000               |Softsided Travel Pouch Set                              |484218      |\n",
      "|516734366347147622|1478384303|41       |0             |70980000               |Suitcase Organizer Cubes                                |484218      |\n",
      "|516734366347147622|1478384303|41       |0             |70980000               |Android Luggage Tag                                     |484218      |\n",
      "|516734366347147622|1478384303|41       |0             |70980000               |Google Kick Ball                                        |484218      |\n",
      "|516734366347147622|1478384303|41       |0             |70980000               |Switch Tone Color Crayon Pen                            |484218      |\n",
      "|516734366347147622|1478384303|41       |0             |70980000               |1 oz Hand Sanitizer                                     |484218      |\n",
      "|516734366347147622|1478384303|41       |0             |70980000               |Seat Pack Organizer                                     |484218      |\n",
      "|516734366347147622|1478384303|41       |0             |70980000               |Google Sunglasses                                       |484218      |\n",
      "|516734366347147622|1478384303|41       |0             |70980000               |SPF-15 Slim & Slender Lip Balm                          |484218      |\n",
      "|516734366347147622|1478384303|42       |0             |70980000               |Yoga Block                                              |498882      |\n",
      "|516734366347147622|1478384303|42       |0             |70980000               |Google Kick Ball                                        |498882      |\n",
      "|516734366347147622|1478384303|42       |0             |70980000               |Yoga Mat                                                |498882      |\n",
      "|516734366347147622|1478384303|43       |0             |70980000               |8 pc Android Sticker Sheet                              |511388      |\n",
      "|516734366347147622|1478384303|43       |0             |70980000               |YouTube Custom Decals                                   |511388      |\n",
      "|516734366347147622|1478384303|43       |0             |70980000               |Google Doodle Decal                                     |511388      |\n",
      "|516734366347147622|1478384303|43       |0             |70980000               |Android Sticker Sheet Ultra Removable                   |511388      |\n",
      "|516734366347147622|1478384303|43       |0             |70980000               |Google Laptop and Cell Phone Stickers                   |511388      |\n",
      "|516734366347147622|1478384303|43       |0             |70980000               |Keyboard DOT Sticker                                    |511388      |\n",
      "|516734366347147622|1478384303|44       |0             |70980000               |Android Men's Short Sleeve Hero Tee Heather             |540229      |\n",
      "|516734366347147622|1478384303|44       |0             |70980000               |Android Men's Short Sleeve Hero Tee White               |540229      |\n",
      "|516734366347147622|1478384303|44       |0             |70980000               |Android Men's Short Sleeve Tri-blend Hero Tee Grey      |540229      |\n",
      "|516734366347147622|1478384303|44       |0             |70980000               |Android 24 oz Contigo Bottle                            |540229      |\n",
      "|516734366347147622|1478384303|44       |0             |70980000               |Android Men's  Zip Hoodie                               |540229      |\n",
      "|516734366347147622|1478384303|44       |0             |70980000               |Android Men's Long Sleeve Badge Crew Tee Heather        |540229      |\n",
      "|516734366347147622|1478384303|44       |0             |70980000               |Android Men's Skater Badge Tee Charcoal                 |540229      |\n",
      "|516734366347147622|1478384303|44       |0             |70980000               |Android Men's 3/4 Sleeve Raglan Henley Black            |540229      |\n",
      "|516734366347147622|1478384303|44       |0             |70980000               |Android Onesie Baby Blue                                |540229      |\n",
      "|516734366347147622|1478384303|44       |0             |70980000               |Android BTTF Cosmos Graphic Tee                         |540229      |\n",
      "|516734366347147622|1478384303|44       |0             |70980000               |Android Men's Vintage Tee                               |540229      |\n",
      "|516734366347147622|1478384303|44       |0             |70980000               |Android BTTF Moonshot Graphic Tee                       |540229      |\n",
      "|516734366347147622|1478384303|45       |2             |70980000               |Android Men's Long Sleeve Badge Crew Tee Heather        |560315      |\n",
      "|516734366347147622|1478384303|46       |1             |70980000               |Android Men's Long Sleeve Badge Crew Tee Heather        |560315      |\n",
      "|516734366347147622|1478384303|47       |1             |70980000               |Android Men's Long Sleeve Badge Crew Tee Heather        |562951      |\n",
      "|516734366347147622|1478384303|48       |0             |70980000               |Google Women's Long Sleeve Tee Lavender                 |565612      |\n",
      "|516734366347147622|1478384303|48       |0             |70980000               |YouTube Wool Heather Cap Heather/Black                  |565612      |\n",
      "|516734366347147622|1478384303|48       |0             |70980000               |Android Heavyweight Long Sleeve Badge Tee Black         |565612      |\n",
      "|516734366347147622|1478384303|55       |5             |70980000               |Google Men's Heavyweight Long Sleeve Hero Tee Navy      |766764      |\n",
      "|516734366347147622|1478384303|55       |5             |70980000               |Google Vintage Henley Grey/Black                        |766764      |\n",
      "|516734366347147622|1478384303|56       |5             |70980000               |Google Men's Heavyweight Long Sleeve Hero Tee Navy      |1153084     |\n",
      "|516734366347147622|1478384303|56       |5             |70980000               |Google Vintage Henley Grey/Black                        |1153084     |\n",
      "|516734366347147622|1478384303|57       |5             |70980000               |Google Men's Heavyweight Long Sleeve Hero Tee Navy      |1177145     |\n",
      "|516734366347147622|1478384303|57       |5             |70980000               |Google Vintage Henley Grey/Black                        |1177145     |\n",
      "|516734366347147622|1478384303|58       |6             |70980000               |Google Men's Heavyweight Long Sleeve Hero Tee Navy      |1196291     |\n",
      "|516734366347147622|1478384303|58       |6             |70980000               |Google Vintage Henley Grey/Black                        |1196291     |\n",
      "|516734366347147622|1478384303|59       |6             |70980000               |Google Vintage Henley Grey/Black                        |1196326     |\n",
      "|516734366347147622|1478384303|59       |6             |70980000               |Google Men's Heavyweight Long Sleeve Hero Tee Navy      |1196326     |\n",
      "+------------------+----------+---------+--------------+-----------------------+--------------------------------------------------------+------------+\n",
      "\n"
     ]
    },
    {
     "name": "stderr",
     "output_type": "stream",
     "text": [
      "                                                                                \r"
     ]
    }
   ],
   "source": [
    "raw_df\\\n",
    "      .filter((sparkf.col('fullVisitorId') == '516734366347147622')&(sparkf.col('VisitId') == '1478384303'))\\\n",
    "      .select(['fullVisitorId','visitId','hitNumber','hitAction_type'\\\n",
    "               ,'totalTransactionRevenue','v2ProductName','timeMicroSec'])\\\n",
    "      .orderBy('hitNumber').show(1000,truncate=False)"
   ]
  },
  {
   "cell_type": "code",
   "execution_count": null,
   "id": "43de3aef",
   "metadata": {},
   "outputs": [],
   "source": []
  },
  {
   "cell_type": "markdown",
   "id": "1bf19fc4",
   "metadata": {},
   "source": [
    "# 3. Data Preparation"
   ]
  },
  {
   "cell_type": "markdown",
   "id": "de735b03",
   "metadata": {},
   "source": [
    "### 3.1 Transform Categorical Columns to Dummy Columns and Null Replacement"
   ]
  },
  {
   "cell_type": "code",
   "execution_count": 19,
   "id": "6d8d6efa",
   "metadata": {},
   "outputs": [],
   "source": [
    "noNull_Dummy_df = raw_df.withColumn('isTrueDirect', sparkf.when(raw_df.isTrueDirect == 'true', 1).otherwise(0)) \\\n",
    ".withColumn('medium_organic', sparkf.when(raw_df.medium == 'organic', 1).otherwise(0)) \\\n",
    ".withColumn('dayofweek', sparkf.dayofweek(sparkf.to_date(sparkf.col('date').cast('string'), 'yyyyMMdd'))) \\\n",
    ".withColumn('newVisits', sparkf.when(raw_df.newVisits == '1', 1).otherwise(0)) \\\n",
    ".withColumn('purchased', sparkf.when(raw_df.hitAction_type == 6, 1).otherwise(0)) \\\n",
    ".withColumn('isClick', sparkf.when(raw_df.isClick, 1).otherwise(0)) \\\n",
    ".withColumn('isImpression', sparkf.when(raw_df.isImpression, 1).otherwise(0)) \\\n",
    ".withColumn('hitaction_1', sparkf.when(raw_df.hitAction_type == 1, 1).otherwise(0)) \\\n",
    ".withColumn('hitaction_2', sparkf.when(raw_df.hitAction_type == 2, 1).otherwise(0)) \\\n",
    ".withColumn('hitaction_3', sparkf.when(raw_df.hitAction_type == 3, 1).otherwise(0)) \\\n",
    ".withColumn('hitaction_4', sparkf.when(raw_df.hitAction_type == 4, 1).otherwise(0)) \\\n",
    ".withColumn('hitaction_5', sparkf.when(raw_df.hitAction_type == 5, 1).otherwise(0)) \\\n",
    ".withColumn('hitaction_6', sparkf.when(raw_df.hitAction_type == 6, 1).otherwise(0)) \\\n",
    ".na.fill(value=0, subset=['timeOnSite', 'sessionQualityDim', 'totalTransactionRevenue']) ### ตรงนี้เกิดการแทนที่ null ด้วย 0"
   ]
  },
  {
   "cell_type": "code",
   "execution_count": 20,
   "id": "28d8b3cb",
   "metadata": {},
   "outputs": [
    {
     "name": "stdout",
     "output_type": "stream",
     "text": [
      "root\n",
      " |-- source: string (nullable = true)\n",
      " |-- isTrueDirect: integer (nullable = false)\n",
      " |-- sourceKeyword: string (nullable = true)\n",
      " |-- medium: string (nullable = true)\n",
      " |-- isVideoAd: boolean (nullable = true)\n",
      " |-- fullVisitorId: long (nullable = true)\n",
      " |-- visitId: integer (nullable = true)\n",
      " |-- date: integer (nullable = true)\n",
      " |-- newVisits: integer (nullable = false)\n",
      " |-- hitReferer: string (nullable = true)\n",
      " |-- hitType: string (nullable = true)\n",
      " |-- hitAction_type: integer (nullable = true)\n",
      " |-- hitNumber: integer (nullable = true)\n",
      " |-- hitHour: integer (nullable = true)\n",
      " |-- hitMin: integer (nullable = true)\n",
      " |-- timeMicroSec: integer (nullable = true)\n",
      " |-- v2ProductName: string (nullable = true)\n",
      " |-- productListName: string (nullable = true)\n",
      " |-- isClick: integer (nullable = false)\n",
      " |-- isImpression: integer (nullable = false)\n",
      " |-- sessionQualityDim: integer (nullable = true)\n",
      " |-- timeOnScreen: string (nullable = true)\n",
      " |-- timeOnSite: integer (nullable = true)\n",
      " |-- totalTransactionRevenue: long (nullable = true)\n",
      " |-- medium_organic: integer (nullable = false)\n",
      " |-- dayofweek: integer (nullable = true)\n",
      " |-- purchased: integer (nullable = false)\n",
      " |-- hitaction_1: integer (nullable = false)\n",
      " |-- hitaction_2: integer (nullable = false)\n",
      " |-- hitaction_3: integer (nullable = false)\n",
      " |-- hitaction_4: integer (nullable = false)\n",
      " |-- hitaction_5: integer (nullable = false)\n",
      " |-- hitaction_6: integer (nullable = false)\n",
      "\n"
     ]
    }
   ],
   "source": [
    "noNull_Dummy_df.printSchema()"
   ]
  },
  {
   "cell_type": "markdown",
   "id": "2c130543",
   "metadata": {},
   "source": [
    "### 3.2 Solving Spurious Pattern"
   ]
  },
  {
   "cell_type": "code",
   "execution_count": 21,
   "id": "1521e834",
   "metadata": {},
   "outputs": [],
   "source": [
    "noSpurious_df = noNull_Dummy_df.groupBy('fullVisitorId', 'visitId', \n",
    "                  'dayofweek',\n",
    "                  'newVisits'\n",
    "                  ) \\\n",
    ".agg(sparkf.sum('hitaction_1').alias('sum_hitaction_1')\n",
    ", sparkf.sum('hitaction_2').alias('sum_hitaction_2')\n",
    ", sparkf.sum('hitaction_3').alias('sum_hitaction_3')\n",
    ", sparkf.sum('hitaction_4').alias('sum_hitaction_4')\n",
    ", sparkf.sum('hitaction_5').alias('sum_hitaction_5')\n",
    ", sparkf.sum('hitaction_6').alias('sum_hitaction_6')\n",
    ", sparkf.max('hitNumber').alias('hitNumber')\n",
    ", sparkf.max('timeOnSite').alias('timeOnSite')\n",
    ", sparkf.max('totalTransactionRevenue').alias('totalTransactionRevenue')\n",
    ", sparkf.max('isClick').alias('isClick')\n",
    ", sparkf.max('isImpression').alias('isImpression')\n",
    ")\\\n",
    ".withColumn('target', sparkf.when(sparkf.col('sum_hitaction_6') >= 1, 1).otherwise(0))\n"
   ]
  },
  {
   "cell_type": "code",
   "execution_count": 22,
   "id": "5c047006",
   "metadata": {},
   "outputs": [
    {
     "name": "stdout",
     "output_type": "stream",
     "text": [
      "root\n",
      " |-- fullVisitorId: long (nullable = true)\n",
      " |-- visitId: integer (nullable = true)\n",
      " |-- dayofweek: integer (nullable = true)\n",
      " |-- newVisits: integer (nullable = false)\n",
      " |-- sum_hitaction_1: long (nullable = true)\n",
      " |-- sum_hitaction_2: long (nullable = true)\n",
      " |-- sum_hitaction_3: long (nullable = true)\n",
      " |-- sum_hitaction_4: long (nullable = true)\n",
      " |-- sum_hitaction_5: long (nullable = true)\n",
      " |-- sum_hitaction_6: long (nullable = true)\n",
      " |-- hitNumber: integer (nullable = true)\n",
      " |-- timeOnSite: integer (nullable = true)\n",
      " |-- totalTransactionRevenue: long (nullable = true)\n",
      " |-- isClick: integer (nullable = true)\n",
      " |-- isImpression: integer (nullable = true)\n",
      " |-- target: integer (nullable = false)\n",
      "\n"
     ]
    }
   ],
   "source": [
    "noSpurious_df.printSchema()"
   ]
  },
  {
   "cell_type": "code",
   "execution_count": 23,
   "id": "929c4720",
   "metadata": {},
   "outputs": [
    {
     "name": "stderr",
     "output_type": "stream",
     "text": [
      "23/05/23 15:20:14 WARN package: Truncated the string representation of a plan since it was too large. This behavior can be adjusted by setting 'spark.sql.debug.maxToStringFields'.\n",
      "                                                                                \r"
     ]
    },
    {
     "name": "stdout",
     "output_type": "stream",
     "text": [
      "+------------------+----------+---------+---------+---------+----------+-----------------------+\n",
      "|fullVisitorId     |visitId   |dayofweek|newVisits|hitNumber|timeOnSite|totalTransactionRevenue|\n",
      "+------------------+----------+---------+---------+---------+----------+-----------------------+\n",
      "|516734366347147622|1478384303|7        |1        |59       |1196      |70980000               |\n",
      "+------------------+----------+---------+---------+---------+----------+-----------------------+\n",
      "\n"
     ]
    }
   ],
   "source": [
    "noSpurious_df.filter((sparkf.col('fullVisitorId') == '516734366347147622')&(sparkf.col('VisitId') == '1478384303'))\\\n",
    ".select(['fullVisitorId','visitId','dayofweek','newVisits','hitNumber'\\\n",
    "               ,'timeOnSite','totalTransactionRevenue'])\\\n",
    ".orderBy('hitNumber').show(1000,truncate=False)"
   ]
  },
  {
   "cell_type": "code",
   "execution_count": 24,
   "id": "0c0f8e39",
   "metadata": {},
   "outputs": [
    {
     "name": "stderr",
     "output_type": "stream",
     "text": [
      "                                                                                \r"
     ]
    },
    {
     "data": {
      "text/html": [
       "<div>\n",
       "<style scoped>\n",
       "    .dataframe tbody tr th:only-of-type {\n",
       "        vertical-align: middle;\n",
       "    }\n",
       "\n",
       "    .dataframe tbody tr th {\n",
       "        vertical-align: top;\n",
       "    }\n",
       "\n",
       "    .dataframe thead th {\n",
       "        text-align: right;\n",
       "    }\n",
       "</style>\n",
       "<table border=\"1\" class=\"dataframe\">\n",
       "  <thead>\n",
       "    <tr style=\"text-align: right;\">\n",
       "      <th></th>\n",
       "      <th>0</th>\n",
       "      <th>1</th>\n",
       "      <th>2</th>\n",
       "      <th>3</th>\n",
       "      <th>4</th>\n",
       "    </tr>\n",
       "  </thead>\n",
       "  <tbody>\n",
       "    <tr>\n",
       "      <th>summary</th>\n",
       "      <td>count</td>\n",
       "      <td>mean</td>\n",
       "      <td>stddev</td>\n",
       "      <td>min</td>\n",
       "      <td>max</td>\n",
       "    </tr>\n",
       "    <tr>\n",
       "      <th>fullVisitorId</th>\n",
       "      <td>22983</td>\n",
       "      <td>4.7503920939082496E18</td>\n",
       "      <td>1.44951767614776934E18</td>\n",
       "      <td>514359656957582</td>\n",
       "      <td>5487531102128447544</td>\n",
       "    </tr>\n",
       "    <tr>\n",
       "      <th>visitId</th>\n",
       "      <td>22983</td>\n",
       "      <td>1.4866869404499848E9</td>\n",
       "      <td>9177392.88893766</td>\n",
       "      <td>1470037326</td>\n",
       "      <td>1501656575</td>\n",
       "    </tr>\n",
       "    <tr>\n",
       "      <th>dayofweek</th>\n",
       "      <td>22983</td>\n",
       "      <td>3.9555758604185702</td>\n",
       "      <td>1.8575551036454476</td>\n",
       "      <td>1</td>\n",
       "      <td>7</td>\n",
       "    </tr>\n",
       "    <tr>\n",
       "      <th>newVisits</th>\n",
       "      <td>22983</td>\n",
       "      <td>0.7410259757211852</td>\n",
       "      <td>0.4380808479294911</td>\n",
       "      <td>0</td>\n",
       "      <td>1</td>\n",
       "    </tr>\n",
       "    <tr>\n",
       "      <th>sum_hitaction_1</th>\n",
       "      <td>22983</td>\n",
       "      <td>0.968237392855589</td>\n",
       "      <td>2.7843691198788862</td>\n",
       "      <td>0</td>\n",
       "      <td>97</td>\n",
       "    </tr>\n",
       "    <tr>\n",
       "      <th>sum_hitaction_2</th>\n",
       "      <td>22983</td>\n",
       "      <td>0.7968063351172606</td>\n",
       "      <td>2.3857870930371132</td>\n",
       "      <td>0</td>\n",
       "      <td>99</td>\n",
       "    </tr>\n",
       "    <tr>\n",
       "      <th>sum_hitaction_3</th>\n",
       "      <td>22983</td>\n",
       "      <td>0.2697646086237654</td>\n",
       "      <td>1.2243266292848105</td>\n",
       "      <td>0</td>\n",
       "      <td>34</td>\n",
       "    </tr>\n",
       "    <tr>\n",
       "      <th>sum_hitaction_4</th>\n",
       "      <td>22983</td>\n",
       "      <td>0.03850672236000522</td>\n",
       "      <td>0.380819023948979</td>\n",
       "      <td>0</td>\n",
       "      <td>19</td>\n",
       "    </tr>\n",
       "    <tr>\n",
       "      <th>sum_hitaction_5</th>\n",
       "      <td>22983</td>\n",
       "      <td>0.5386590088326154</td>\n",
       "      <td>4.492228281877537</td>\n",
       "      <td>0</td>\n",
       "      <td>240</td>\n",
       "    </tr>\n",
       "    <tr>\n",
       "      <th>sum_hitaction_6</th>\n",
       "      <td>22983</td>\n",
       "      <td>0.16882043249358222</td>\n",
       "      <td>1.5261617353388655</td>\n",
       "      <td>0</td>\n",
       "      <td>58</td>\n",
       "    </tr>\n",
       "    <tr>\n",
       "      <th>hitNumber</th>\n",
       "      <td>22983</td>\n",
       "      <td>7.301353174085193</td>\n",
       "      <td>12.184943201685952</td>\n",
       "      <td>1</td>\n",
       "      <td>239</td>\n",
       "    </tr>\n",
       "    <tr>\n",
       "      <th>timeOnSite</th>\n",
       "      <td>22983</td>\n",
       "      <td>224.9665404864465</td>\n",
       "      <td>474.84402439229655</td>\n",
       "      <td>0</td>\n",
       "      <td>9963</td>\n",
       "    </tr>\n",
       "    <tr>\n",
       "      <th>totalTransactionRevenue</th>\n",
       "      <td>22983</td>\n",
       "      <td>3203067.919766784</td>\n",
       "      <td>5.3155266637614146E7</td>\n",
       "      <td>0</td>\n",
       "      <td>5608400000</td>\n",
       "    </tr>\n",
       "    <tr>\n",
       "      <th>isClick</th>\n",
       "      <td>22983</td>\n",
       "      <td>0.27133098377061304</td>\n",
       "      <td>0.44465614114415686</td>\n",
       "      <td>0</td>\n",
       "      <td>1</td>\n",
       "    </tr>\n",
       "    <tr>\n",
       "      <th>isImpression</th>\n",
       "      <td>22983</td>\n",
       "      <td>0.995300874559457</td>\n",
       "      <td>0.06839040261344667</td>\n",
       "      <td>0</td>\n",
       "      <td>1</td>\n",
       "    </tr>\n",
       "    <tr>\n",
       "      <th>target</th>\n",
       "      <td>22983</td>\n",
       "      <td>0.024931471087325414</td>\n",
       "      <td>0.15591969284358317</td>\n",
       "      <td>0</td>\n",
       "      <td>1</td>\n",
       "    </tr>\n",
       "  </tbody>\n",
       "</table>\n",
       "</div>"
      ],
      "text/plain": [
       "                             0                      1                       2  \\\n",
       "summary                  count                   mean                  stddev   \n",
       "fullVisitorId            22983  4.7503920939082496E18  1.44951767614776934E18   \n",
       "visitId                  22983   1.4866869404499848E9        9177392.88893766   \n",
       "dayofweek                22983     3.9555758604185702      1.8575551036454476   \n",
       "newVisits                22983     0.7410259757211852      0.4380808479294911   \n",
       "sum_hitaction_1          22983      0.968237392855589      2.7843691198788862   \n",
       "sum_hitaction_2          22983     0.7968063351172606      2.3857870930371132   \n",
       "sum_hitaction_3          22983     0.2697646086237654      1.2243266292848105   \n",
       "sum_hitaction_4          22983    0.03850672236000522       0.380819023948979   \n",
       "sum_hitaction_5          22983     0.5386590088326154       4.492228281877537   \n",
       "sum_hitaction_6          22983    0.16882043249358222      1.5261617353388655   \n",
       "hitNumber                22983      7.301353174085193      12.184943201685952   \n",
       "timeOnSite               22983      224.9665404864465      474.84402439229655   \n",
       "totalTransactionRevenue  22983      3203067.919766784    5.3155266637614146E7   \n",
       "isClick                  22983    0.27133098377061304     0.44465614114415686   \n",
       "isImpression             22983      0.995300874559457     0.06839040261344667   \n",
       "target                   22983   0.024931471087325414     0.15591969284358317   \n",
       "\n",
       "                                       3                    4  \n",
       "summary                              min                  max  \n",
       "fullVisitorId            514359656957582  5487531102128447544  \n",
       "visitId                       1470037326           1501656575  \n",
       "dayofweek                              1                    7  \n",
       "newVisits                              0                    1  \n",
       "sum_hitaction_1                        0                   97  \n",
       "sum_hitaction_2                        0                   99  \n",
       "sum_hitaction_3                        0                   34  \n",
       "sum_hitaction_4                        0                   19  \n",
       "sum_hitaction_5                        0                  240  \n",
       "sum_hitaction_6                        0                   58  \n",
       "hitNumber                              1                  239  \n",
       "timeOnSite                             0                 9963  \n",
       "totalTransactionRevenue                0           5608400000  \n",
       "isClick                                0                    1  \n",
       "isImpression                           0                    1  \n",
       "target                                 0                    1  "
      ]
     },
     "execution_count": 24,
     "metadata": {},
     "output_type": "execute_result"
    }
   ],
   "source": [
    "noSpurious_df.describe().toPandas().transpose()"
   ]
  },
  {
   "cell_type": "markdown",
   "id": "b45ce0f2",
   "metadata": {},
   "source": [
    "# 4. Modeling"
   ]
  },
  {
   "cell_type": "markdown",
   "id": "1f06d042",
   "metadata": {},
   "source": [
    "### 4.1 Feature Selection"
   ]
  },
  {
   "cell_type": "code",
   "execution_count": 25,
   "id": "90dfacc2",
   "metadata": {},
   "outputs": [
    {
     "name": "stderr",
     "output_type": "stream",
     "text": [
      "                                                                                \r"
     ]
    }
   ],
   "source": [
    "df = noSpurious_df.toPandas()"
   ]
  },
  {
   "cell_type": "code",
   "execution_count": 26,
   "id": "d9f2e317",
   "metadata": {},
   "outputs": [
    {
     "data": {
      "image/png": "[encoded data removed]",
      "text/plain": [
       "<Figure size 432x288 with 1 Axes>"
      ]
     },
     "metadata": {
      "needs_background": "light"
     },
     "output_type": "display_data"
    }
   ],
   "source": [
    "# Initialize parameters\n",
    "x_var = 'target'  # Variable to be displayed on x-axis\n",
    "groupby_var = 'isImpression'  # Variable to group data by\n",
    "\n",
    "# Group the data by target variable and count the values of \"isImpression\" variable\n",
    "# This gives us a series where the index is a MultiIndex (x_var, groupby_var) and the values are the counts of each group\n",
    "grouped = df.groupby(x_var)[groupby_var].value_counts()\n",
    "\n",
    "# Calculate the percentage for each group\n",
    "# For each level 0 index (x_var), we normalize the counts to sum up to 100\n",
    "grouped_pct = grouped.groupby(level=0).apply(lambda x: 100 * x / float(x.sum()))\n",
    "\n",
    "# Create a figure and an axis for the plot\n",
    "fig, ax = plt.subplots()\n",
    "\n",
    "# Create a 100% stacked bar chart\n",
    "# .unstack() turns the MultiIndex series into a DataFrame\n",
    "# We then plot this data frame as a stacked bar plot\n",
    "grouped_pct.unstack().plot(kind='bar', stacked=True, ax=ax)\n",
    "\n",
    "# Adjust x and y labels\n",
    "ax.set_xlabel(x_var)  # Label for x-axis\n",
    "ax.set_ylabel('Percentage')  # Label for y-axis\n",
    "\n",
    "# Name each part of the stack bar\n",
    "# Generate legend labels based on the column names of the data frame (which are the unique values of groupby_var)\n",
    "legend_labels = [f'{groupby_var}_{label}' for label in grouped_pct.unstack().columns]\n",
    "ax.legend(legend_labels)  # Add legend to the plot\n",
    "\n",
    "# Display the plot\n",
    "plt.show()\n"
   ]
  },
  {
   "cell_type": "code",
   "execution_count": 27,
   "id": "c79a5f5b",
   "metadata": {},
   "outputs": [
    {
     "data": {
      "image/png": "[encoded data removed]",
      "text/plain": [
       "<Figure size 432x288 with 1 Axes>"
      ]
     },
     "metadata": {
      "needs_background": "light"
     },
     "output_type": "display_data"
    }
   ],
   "source": [
    "# Initialize parameters\n",
    "x_var = 'target'  # Variable to be displayed on x-axis\n",
    "groupby_var = 'newVisits'  # Variable to group data by\n",
    "\n",
    "# Group the data by target variable and count the values of \"isImpression\" variable\n",
    "# This gives us a series where the index is a MultiIndex (x_var, groupby_var) and the values are the counts of each group\n",
    "grouped = df.groupby(x_var)[groupby_var].value_counts()\n",
    "\n",
    "# Calculate the percentage for each group\n",
    "# For each level 0 index (x_var), we normalize the counts to sum up to 100\n",
    "grouped_pct = grouped.groupby(level=0).apply(lambda x: 100 * x / float(x.sum()))\n",
    "\n",
    "# Create a figure and an axis for the plot\n",
    "fig, ax = plt.subplots()\n",
    "\n",
    "# Create a 100% stacked bar chart\n",
    "# .unstack() turns the MultiIndex series into a DataFrame\n",
    "# We then plot this data frame as a stacked bar plot\n",
    "grouped_pct.unstack().plot(kind='bar', stacked=True, ax=ax)\n",
    "\n",
    "# Adjust x and y labels\n",
    "ax.set_xlabel(x_var)  # Label for x-axis\n",
    "ax.set_ylabel('Percentage')  # Label for y-axis\n",
    "\n",
    "# Name each part of the stack bar\n",
    "# Generate legend labels based on the column names of the data frame (which are the unique values of groupby_var)\n",
    "legend_labels = [f'{groupby_var}_{label}' for label in grouped_pct.unstack().columns]\n",
    "ax.legend(legend_labels)  # Add legend to the plot\n",
    "\n",
    "# Display the plot\n",
    "plt.show()\n"
   ]
  },
  {
   "cell_type": "code",
   "execution_count": 28,
   "id": "92b58208",
   "metadata": {},
   "outputs": [
    {
     "data": {
      "image/png": "[encoded data removed]",
      "text/plain": [
       "<Figure size 432x288 with 1 Axes>"
      ]
     },
     "metadata": {
      "needs_background": "light"
     },
     "output_type": "display_data"
    }
   ],
   "source": [
    "# Initialize parameters\n",
    "x_var = 'target'  # Variable to be displayed on x-axis\n",
    "groupby_var = 'dayofweek'  # Variable to group data by\n",
    "\n",
    "# Group the data by target variable and count the values of \"isImpression\" variable\n",
    "# This gives us a series where the index is a MultiIndex (x_var, groupby_var) and the values are the counts of each group\n",
    "grouped = df.groupby(x_var)[groupby_var].value_counts()\n",
    "\n",
    "# Calculate the percentage for each group\n",
    "# For each level 0 index (x_var), we normalize the counts to sum up to 100\n",
    "grouped_pct = grouped.groupby(level=0).apply(lambda x: 100 * x / float(x.sum()))\n",
    "\n",
    "# Create a figure and an axis for the plot\n",
    "fig, ax = plt.subplots()\n",
    "\n",
    "# Create a 100% stacked bar chart\n",
    "# .unstack() turns the MultiIndex series into a DataFrame\n",
    "# We then plot this data frame as a stacked bar plot\n",
    "grouped_pct.unstack().plot(kind='bar', stacked=True, ax=ax)\n",
    "\n",
    "# Adjust x and y labels\n",
    "ax.set_xlabel(x_var)  # Label for x-axis\n",
    "ax.set_ylabel('Percentage')  # Label for y-axis\n",
    "\n",
    "# Name each part of the stack bar\n",
    "# Generate legend labels based on the column names of the data frame (which are the unique values of groupby_var)\n",
    "legend_labels = [f'{groupby_var}_{label}' for label in grouped_pct.unstack().columns]\n",
    "ax.legend(legend_labels)  # Add legend to the plot\n",
    "\n",
    "# Display the plot\n",
    "plt.show()\n"
   ]
  },
  {
   "cell_type": "code",
   "execution_count": 29,
   "id": "3fcd8543",
   "metadata": {},
   "outputs": [
    {
     "data": {
      "image/png": "[encoded data removed]",
      "text/plain": [
       "<Figure size 432x288 with 1 Axes>"
      ]
     },
     "metadata": {
      "needs_background": "light"
     },
     "output_type": "display_data"
    }
   ],
   "source": [
    "# Initialize parameters\n",
    "x_var = 'target'  # Variable to be displayed on x-axis\n",
    "groupby_var = 'isClick'  # Variable to group data by\n",
    "\n",
    "# Group the data by target variable and count the values of \"isImpression\" variable\n",
    "# This gives us a series where the index is a MultiIndex (x_var, groupby_var) and the values are the counts of each group\n",
    "grouped = df.groupby(x_var)[groupby_var].value_counts()\n",
    "\n",
    "# Calculate the percentage for each group\n",
    "# For each level 0 index (x_var), we normalize the counts to sum up to 100\n",
    "grouped_pct = grouped.groupby(level=0).apply(lambda x: 100 * x / float(x.sum()))\n",
    "\n",
    "# Create a figure and an axis for the plot\n",
    "fig, ax = plt.subplots()\n",
    "\n",
    "# Create a 100% stacked bar chart\n",
    "# .unstack() turns the MultiIndex series into a DataFrame\n",
    "# We then plot this data frame as a stacked bar plot\n",
    "grouped_pct.unstack().plot(kind='bar', stacked=True, ax=ax)\n",
    "\n",
    "# Adjust x and y labels\n",
    "ax.set_xlabel(x_var)  # Label for x-axis\n",
    "ax.set_ylabel('Percentage')  # Label for y-axis\n",
    "\n",
    "# Name each part of the stack bar\n",
    "# Generate legend labels based on the column names of the data frame (which are the unique values of groupby_var)\n",
    "legend_labels = [f'{groupby_var}_{label}' for label in grouped_pct.unstack().columns]\n",
    "ax.legend(legend_labels)  # Add legend to the plot\n",
    "\n",
    "# Display the plot\n",
    "plt.show()\n"
   ]
  },
  {
   "cell_type": "code",
   "execution_count": 30,
   "id": "61fb87e3",
   "metadata": {},
   "outputs": [],
   "source": [
    "def plot_outliers_and_distribution(df, var, target='target'):\n",
    "    \"\"\"\n",
    "    This function plots a boxplot to check outliers and a violin plot to see the distribution\n",
    "    grouped by the target variable in one figure.\n",
    "    \n",
    "    Parameters:\n",
    "    df (DataFrame): Input pandas DataFrame\n",
    "    var (str): Variable/column to check\n",
    "    target (str): Target variable. Default is 'target'\n",
    "    \"\"\"\n",
    "    \n",
    "    # Import necessary libraries\n",
    "    import matplotlib.pyplot as plt\n",
    "    import seaborn as sns\n",
    "\n",
    "    # Create a figure with two subplots (1 row, 2 columns), and set the figure size\n",
    "    fig, axs = plt.subplots(ncols=2, figsize=(14, 6))\n",
    "\n",
    "    # Boxplot for outliers:\n",
    "    # Boxplot is used to visualize the distribution of a variable and its potential outliers.\n",
    "    # The x-axis is the target variable, and the y-axis is the variable to be checked.\n",
    "    sns.boxplot(x=target, y=var, data=df, ax=axs[0])\n",
    "    axs[0].set_title(f'Boxplot of {var} Grouped by {target}')  # Set the title of the first subplot\n",
    "\n",
    "    # Violin plot for distribution:\n",
    "    # Violin plot is a combination of a boxplot and a kernel density plot, it shows the distribution of the data.\n",
    "    # The x-axis is the target variable, and the y-axis is the variable to be checked.\n",
    "    sns.violinplot(x=target, y=var, data=df, ax=axs[1])\n",
    "    axs[1].set_title(f'Violin plot of {var} Grouped by {target}')  # Set the title of the second subplot\n",
    "\n",
    "    # Adjust the layout so that the plots do not overlap\n",
    "    plt.tight_layout()\n",
    "    \n",
    "    # Display the plots\n",
    "    plt.show()\n",
    "\n",
    "# To use the function, simply call it with your DataFrame and variable:\n",
    "# plot_outliers_and_distribution(df, 'timeOnSite')\n"
   ]
  },
  {
   "cell_type": "code",
   "execution_count": 31,
   "id": "d87a6280",
   "metadata": {},
   "outputs": [
    {
     "data": {
      "image/png": "[encoded data removed]",
      "text/plain": [
       "<Figure size 1008x432 with 2 Axes>"
      ]
     },
     "metadata": {
      "needs_background": "light"
     },
     "output_type": "display_data"
    }
   ],
   "source": [
    "plot_outliers_and_distribution(df, 'hitNumber')"
   ]
  },
  {
   "cell_type": "code",
   "execution_count": 32,
   "id": "640ce89c",
   "metadata": {},
   "outputs": [
    {
     "data": {
      "image/png": "[encoded data removed]",
      "text/plain": [
       "<Figure size 1008x432 with 2 Axes>"
      ]
     },
     "metadata": {
      "needs_background": "light"
     },
     "output_type": "display_data"
    }
   ],
   "source": [
    "plot_outliers_and_distribution(df, 'sum_hitaction_1')"
   ]
  },
  {
   "cell_type": "code",
   "execution_count": 33,
   "id": "9237080b",
   "metadata": {},
   "outputs": [
    {
     "data": {
      "image/png": "[encoded data removed]",
      "text/plain": [
       "<Figure size 1008x432 with 2 Axes>"
      ]
     },
     "metadata": {
      "needs_background": "light"
     },
     "output_type": "display_data"
    }
   ],
   "source": [
    "plot_outliers_and_distribution(df, 'sum_hitaction_2')"
   ]
  },
  {
   "cell_type": "code",
   "execution_count": 34,
   "id": "70a8412c",
   "metadata": {},
   "outputs": [
    {
     "data": {
      "image/png": "[encoded data removed]",
      "text/plain": [
       "<Figure size 1008x432 with 2 Axes>"
      ]
     },
     "metadata": {
      "needs_background": "light"
     },
     "output_type": "display_data"
    }
   ],
   "source": [
    "plot_outliers_and_distribution(df, 'sum_hitaction_3')"
   ]
  },
  {
   "cell_type": "code",
   "execution_count": 35,
   "id": "74959eca",
   "metadata": {},
   "outputs": [
    {
     "data": {
      "image/png": "[encoded data removed]",
      "text/plain": [
       "<Figure size 1008x432 with 2 Axes>"
      ]
     },
     "metadata": {
      "needs_background": "light"
     },
     "output_type": "display_data"
    }
   ],
   "source": [
    "plot_outliers_and_distribution(df, 'sum_hitaction_4')"
   ]
  },
  {
   "cell_type": "code",
   "execution_count": 36,
   "id": "8fbfd785",
   "metadata": {},
   "outputs": [
    {
     "data": {
      "image/png": "[encoded data removed]",
      "text/plain": [
       "<Figure size 1008x432 with 2 Axes>"
      ]
     },
     "metadata": {
      "needs_background": "light"
     },
     "output_type": "display_data"
    }
   ],
   "source": [
    "plot_outliers_and_distribution(df, 'sum_hitaction_5')"
   ]
  },
  {
   "cell_type": "code",
   "execution_count": 37,
   "id": "2a6c5bbe",
   "metadata": {},
   "outputs": [
    {
     "data": {
      "image/png": "[encoded data removed]",
      "text/plain": [
       "<Figure size 1008x432 with 2 Axes>"
      ]
     },
     "metadata": {
      "needs_background": "light"
     },
     "output_type": "display_data"
    }
   ],
   "source": [
    "plot_outliers_and_distribution(df, 'sum_hitaction_6')"
   ]
  },
  {
   "cell_type": "code",
   "execution_count": 38,
   "id": "f2a43f05",
   "metadata": {},
   "outputs": [
    {
     "data": {
      "image/png": "[encoded data removed]",
      "text/plain": [
       "<Figure size 1008x432 with 2 Axes>"
      ]
     },
     "metadata": {
      "needs_background": "light"
     },
     "output_type": "display_data"
    }
   ],
   "source": [
    "plot_outliers_and_distribution(df, 'timeOnSite')"
   ]
  },
  {
   "cell_type": "code",
   "execution_count": 39,
   "id": "be5b04b5",
   "metadata": {},
   "outputs": [],
   "source": [
    "import matplotlib.pyplot as plt\n",
    "import seaborn as sns\n",
    "\n",
    "def scatter_plot_with_hue(dataframe, x_var, y_var, hue_var):\n",
    "    \"\"\"\n",
    "    This function creates a scatter plot with a coloring based on the `hue_var` parameter.\n",
    "    \n",
    "    Parameters:\n",
    "    dataframe (DataFrame): Input pandas DataFrame\n",
    "    x_var (str): Variable/column for x-axis\n",
    "    y_var (str): Variable/column for y-axis\n",
    "    hue_var (str): Variable/column to color data points\n",
    "    \"\"\"\n",
    "    # Create a new figure and set the size\n",
    "    plt.figure(figsize=(10, 6))\n",
    "\n",
    "    # Create a scatter plot with x_var on the x-axis, and y_var on the y-axis\n",
    "    # hue_var is used to differentiate points with different colors\n",
    "    sns.scatterplot(x=x_var, y=y_var, hue=hue_var, data=dataframe)\n",
    "\n",
    "    # Add labels to the x and y axes, and a title to the plot\n",
    "    plt.xlabel(x_var)  # Label for x-axis\n",
    "    plt.ylabel(y_var)  # Label for y-axis\n",
    "    plt.title('Scatter Plot of {} vs. {}, by {}'.format(x_var, y_var, hue_var))  # Title of the plot\n",
    "\n",
    "    # Display the plot\n",
    "    plt.show()\n",
    "\n",
    "# To use the function, simply call it with your DataFrame and variable:\n",
    "# scatter_plot_with_hue(df, 'variable1', 'variable2', 'hue_variable')\n"
   ]
  },
  {
   "cell_type": "code",
   "execution_count": 40,
   "id": "79528a05",
   "metadata": {},
   "outputs": [
    {
     "data": {
      "image/png": "[encoded data removed]",
      "text/plain": [
       "<Figure size 720x432 with 1 Axes>"
      ]
     },
     "metadata": {
      "needs_background": "light"
     },
     "output_type": "display_data"
    }
   ],
   "source": [
    "scatter_plot_with_hue(df, 'hitNumber', 'timeOnSite', 'target')"
   ]
  },
  {
   "cell_type": "code",
   "execution_count": 41,
   "id": "a6c8e652",
   "metadata": {},
   "outputs": [],
   "source": [
    "featureTrainingCols = ['isImpression','hitNumber','sum_hitaction_1','sum_hitaction_2','timeOnSite']"
   ]
  },
  {
   "cell_type": "code",
   "execution_count": 42,
   "id": "2267230a",
   "metadata": {},
   "outputs": [],
   "source": [
    "#ABT_df = noSpurious_df.select(featureTrainingCols+['target'])\n",
    "\n",
    "ABT_df = noSpurious_df"
   ]
  },
  {
   "cell_type": "code",
   "execution_count": 43,
   "id": "1ede5bec",
   "metadata": {},
   "outputs": [
    {
     "name": "stdout",
     "output_type": "stream",
     "text": [
      "root\n",
      " |-- fullVisitorId: long (nullable = true)\n",
      " |-- visitId: integer (nullable = true)\n",
      " |-- dayofweek: integer (nullable = true)\n",
      " |-- newVisits: integer (nullable = false)\n",
      " |-- sum_hitaction_1: long (nullable = true)\n",
      " |-- sum_hitaction_2: long (nullable = true)\n",
      " |-- sum_hitaction_3: long (nullable = true)\n",
      " |-- sum_hitaction_4: long (nullable = true)\n",
      " |-- sum_hitaction_5: long (nullable = true)\n",
      " |-- sum_hitaction_6: long (nullable = true)\n",
      " |-- hitNumber: integer (nullable = true)\n",
      " |-- timeOnSite: integer (nullable = true)\n",
      " |-- totalTransactionRevenue: long (nullable = true)\n",
      " |-- isClick: integer (nullable = true)\n",
      " |-- isImpression: integer (nullable = true)\n",
      " |-- target: integer (nullable = false)\n",
      "\n"
     ]
    }
   ],
   "source": [
    "ABT_df.printSchema()"
   ]
  },
  {
   "cell_type": "markdown",
   "id": "2e1c0044",
   "metadata": {},
   "source": [
    "### 4.2 แบ่งแยก Analytical Based Table เป็น training และ testing set"
   ]
  },
  {
   "cell_type": "code",
   "execution_count": 44,
   "id": "72324bef",
   "metadata": {},
   "outputs": [
    {
     "name": "stderr",
     "output_type": "stream",
     "text": [
      "                                                                                \r"
     ]
    },
    {
     "name": "stdout",
     "output_type": "stream",
     "text": [
      "Training Dataset: 18306\n"
     ]
    },
    {
     "name": "stderr",
     "output_type": "stream",
     "text": [
      "[Stage 150:=========================================>           (155 + 4) / 200]\r"
     ]
    },
    {
     "name": "stdout",
     "output_type": "stream",
     "text": [
      "Test Dataset: 4677\n"
     ]
    },
    {
     "name": "stderr",
     "output_type": "stream",
     "text": [
      "                                                                                \r"
     ]
    }
   ],
   "source": [
    "train_df, test_df = ABT_df.randomSplit([0.8, 0.2], seed=49)\n",
    "print(\"Training Dataset: \" + str(train_df.count()))\n",
    "print(\"Test Dataset: \" + str(test_df.count()))"
   ]
  },
  {
   "cell_type": "code",
   "execution_count": 45,
   "id": "fbd9dd69",
   "metadata": {},
   "outputs": [
    {
     "name": "stderr",
     "output_type": "stream",
     "text": [
      "                                                                                \r"
     ]
    },
    {
     "name": "stdout",
     "output_type": "stream",
     "text": [
      "+------+-----+\n",
      "|target|count|\n",
      "+------+-----+\n",
      "|     1|  447|\n",
      "|     0|17859|\n",
      "+------+-----+\n",
      "\n"
     ]
    }
   ],
   "source": [
    "train_df.groupBy('target').count().show()"
   ]
  },
  {
   "cell_type": "code",
   "execution_count": 46,
   "id": "c13c0f67",
   "metadata": {},
   "outputs": [
    {
     "name": "stderr",
     "output_type": "stream",
     "text": [
      "                                                                                \r"
     ]
    },
    {
     "name": "stdout",
     "output_type": "stream",
     "text": [
      "+------+-----+\n",
      "|target|count|\n",
      "+------+-----+\n",
      "|     1|  126|\n",
      "|     0| 4551|\n",
      "+------+-----+\n",
      "\n"
     ]
    }
   ],
   "source": [
    "test_df.groupBy('target').count().show()"
   ]
  },
  {
   "cell_type": "markdown",
   "id": "6216faf5",
   "metadata": {},
   "source": [
    "### 4.3 แก้ไข Imbalance Class"
   ]
  },
  {
   "cell_type": "code",
   "execution_count": 47,
   "id": "2d5a0ada",
   "metadata": {},
   "outputs": [
    {
     "name": "stderr",
     "output_type": "stream",
     "text": [
      "                                                                                \r"
     ]
    }
   ],
   "source": [
    "balanceRatio = train_df.filter(sparkf.col('target') == 1).count() / train_df.count()"
   ]
  },
  {
   "cell_type": "code",
   "execution_count": 48,
   "id": "0e86208a",
   "metadata": {},
   "outputs": [
    {
     "data": {
      "text/plain": [
       "0.02441822353326778"
      ]
     },
     "execution_count": 48,
     "metadata": {},
     "output_type": "execute_result"
    }
   ],
   "source": [
    "balanceRatio\n"
   ]
  },
  {
   "cell_type": "code",
   "execution_count": 49,
   "id": "a176f422",
   "metadata": {},
   "outputs": [],
   "source": [
    "calWeight = sparkf.udf(lambda x: 1 * balanceRatio if x == 0 else (1 * (1.0 - balanceRatio)), DoubleType())"
   ]
  },
  {
   "cell_type": "code",
   "execution_count": 50,
   "id": "9ab4efde",
   "metadata": {},
   "outputs": [],
   "source": [
    "weighted_df = train_df.withColumn('class_weight', calWeight('target'))"
   ]
  },
  {
   "cell_type": "code",
   "execution_count": 51,
   "id": "f627caaf",
   "metadata": {},
   "outputs": [
    {
     "name": "stderr",
     "output_type": "stream",
     "text": [
      "                                                                                \r"
     ]
    },
    {
     "name": "stdout",
     "output_type": "stream",
     "text": [
      "+------+-------------------+-----+\n",
      "|target|       class_weight|count|\n",
      "+------+-------------------+-----+\n",
      "|     0|0.02441822353326778|17859|\n",
      "|     1| 0.9755817764667323|  447|\n",
      "+------+-------------------+-----+\n",
      "\n"
     ]
    }
   ],
   "source": [
    "weighted_df.groupBy('target','class_weight').count().show()"
   ]
  },
  {
   "cell_type": "markdown",
   "id": "072eeeb6",
   "metadata": {},
   "source": [
    "### 4.4 Pipeline Training"
   ]
  },
  {
   "cell_type": "code",
   "execution_count": 52,
   "id": "a8848378",
   "metadata": {},
   "outputs": [
    {
     "name": "stdout",
     "output_type": "stream",
     "text": [
      "root\n",
      " |-- fullVisitorId: long (nullable = true)\n",
      " |-- visitId: integer (nullable = true)\n",
      " |-- dayofweek: integer (nullable = true)\n",
      " |-- newVisits: integer (nullable = false)\n",
      " |-- sum_hitaction_1: long (nullable = true)\n",
      " |-- sum_hitaction_2: long (nullable = true)\n",
      " |-- sum_hitaction_3: long (nullable = true)\n",
      " |-- sum_hitaction_4: long (nullable = true)\n",
      " |-- sum_hitaction_5: long (nullable = true)\n",
      " |-- sum_hitaction_6: long (nullable = true)\n",
      " |-- hitNumber: integer (nullable = true)\n",
      " |-- timeOnSite: integer (nullable = true)\n",
      " |-- totalTransactionRevenue: long (nullable = true)\n",
      " |-- isClick: integer (nullable = true)\n",
      " |-- isImpression: integer (nullable = true)\n",
      " |-- target: integer (nullable = false)\n",
      " |-- class_weight: double (nullable = true)\n",
      "\n"
     ]
    }
   ],
   "source": [
    "weighted_df.printSchema()"
   ]
  },
  {
   "cell_type": "code",
   "execution_count": 53,
   "id": "35ef86a8",
   "metadata": {},
   "outputs": [
    {
     "name": "stderr",
     "output_type": "stream",
     "text": [
      "                                                                                \r"
     ]
    },
    {
     "data": {
      "text/html": [
       "<div>\n",
       "<style scoped>\n",
       "    .dataframe tbody tr th:only-of-type {\n",
       "        vertical-align: middle;\n",
       "    }\n",
       "\n",
       "    .dataframe tbody tr th {\n",
       "        vertical-align: top;\n",
       "    }\n",
       "\n",
       "    .dataframe thead th {\n",
       "        text-align: right;\n",
       "    }\n",
       "</style>\n",
       "<table border=\"1\" class=\"dataframe\">\n",
       "  <thead>\n",
       "    <tr style=\"text-align: right;\">\n",
       "      <th></th>\n",
       "      <th>0</th>\n",
       "      <th>1</th>\n",
       "      <th>2</th>\n",
       "      <th>3</th>\n",
       "      <th>4</th>\n",
       "    </tr>\n",
       "  </thead>\n",
       "  <tbody>\n",
       "    <tr>\n",
       "      <th>summary</th>\n",
       "      <td>count</td>\n",
       "      <td>mean</td>\n",
       "      <td>stddev</td>\n",
       "      <td>min</td>\n",
       "      <td>max</td>\n",
       "    </tr>\n",
       "    <tr>\n",
       "      <th>fullVisitorId</th>\n",
       "      <td>18306</td>\n",
       "      <td>4.7510356106492979E18</td>\n",
       "      <td>1.44736742636336256E18</td>\n",
       "      <td>514359656957582</td>\n",
       "      <td>5487531102128447544</td>\n",
       "    </tr>\n",
       "    <tr>\n",
       "      <th>visitId</th>\n",
       "      <td>18306</td>\n",
       "      <td>1.4866916254648204E9</td>\n",
       "      <td>9192689.089355526</td>\n",
       "      <td>1470037326</td>\n",
       "      <td>1501656575</td>\n",
       "    </tr>\n",
       "    <tr>\n",
       "      <th>dayofweek</th>\n",
       "      <td>18306</td>\n",
       "      <td>3.9480498197312355</td>\n",
       "      <td>1.8558190134797412</td>\n",
       "      <td>1</td>\n",
       "      <td>7</td>\n",
       "    </tr>\n",
       "    <tr>\n",
       "      <th>newVisits</th>\n",
       "      <td>18306</td>\n",
       "      <td>0.7393750682836229</td>\n",
       "      <td>0.43898758961894574</td>\n",
       "      <td>0</td>\n",
       "      <td>1</td>\n",
       "    </tr>\n",
       "    <tr>\n",
       "      <th>sum_hitaction_1</th>\n",
       "      <td>18306</td>\n",
       "      <td>0.9687534141811428</td>\n",
       "      <td>2.775395534761443</td>\n",
       "      <td>0</td>\n",
       "      <td>97</td>\n",
       "    </tr>\n",
       "    <tr>\n",
       "      <th>sum_hitaction_2</th>\n",
       "      <td>18306</td>\n",
       "      <td>0.7958592811100186</td>\n",
       "      <td>2.3644009878467487</td>\n",
       "      <td>0</td>\n",
       "      <td>99</td>\n",
       "    </tr>\n",
       "    <tr>\n",
       "      <th>sum_hitaction_3</th>\n",
       "      <td>18306</td>\n",
       "      <td>0.2646673221894461</td>\n",
       "      <td>1.2049857009172475</td>\n",
       "      <td>0</td>\n",
       "      <td>34</td>\n",
       "    </tr>\n",
       "    <tr>\n",
       "      <th>sum_hitaction_4</th>\n",
       "      <td>18306</td>\n",
       "      <td>0.03840270949415492</td>\n",
       "      <td>0.38177569959061397</td>\n",
       "      <td>0</td>\n",
       "      <td>19</td>\n",
       "    </tr>\n",
       "    <tr>\n",
       "      <th>sum_hitaction_5</th>\n",
       "      <td>18306</td>\n",
       "      <td>0.5242543428384137</td>\n",
       "      <td>4.423273670365525</td>\n",
       "      <td>0</td>\n",
       "      <td>240</td>\n",
       "    </tr>\n",
       "    <tr>\n",
       "      <th>sum_hitaction_6</th>\n",
       "      <td>18306</td>\n",
       "      <td>0.16398994865071562</td>\n",
       "      <td>1.485607951196152</td>\n",
       "      <td>0</td>\n",
       "      <td>48</td>\n",
       "    </tr>\n",
       "    <tr>\n",
       "      <th>hitNumber</th>\n",
       "      <td>18306</td>\n",
       "      <td>7.311264066426308</td>\n",
       "      <td>12.261661507759298</td>\n",
       "      <td>1</td>\n",
       "      <td>239</td>\n",
       "    </tr>\n",
       "    <tr>\n",
       "      <th>timeOnSite</th>\n",
       "      <td>18306</td>\n",
       "      <td>224.749808805856</td>\n",
       "      <td>480.87493168686524</td>\n",
       "      <td>0</td>\n",
       "      <td>9963</td>\n",
       "    </tr>\n",
       "    <tr>\n",
       "      <th>totalTransactionRevenue</th>\n",
       "      <td>18306</td>\n",
       "      <td>3187196.5475800284</td>\n",
       "      <td>5.678733582679028E7</td>\n",
       "      <td>0</td>\n",
       "      <td>5608400000</td>\n",
       "    </tr>\n",
       "    <tr>\n",
       "      <th>isClick</th>\n",
       "      <td>18306</td>\n",
       "      <td>0.2711132961870425</td>\n",
       "      <td>0.44454659179508926</td>\n",
       "      <td>0</td>\n",
       "      <td>1</td>\n",
       "    </tr>\n",
       "    <tr>\n",
       "      <th>isImpression</th>\n",
       "      <td>18306</td>\n",
       "      <td>0.9952474598492298</td>\n",
       "      <td>0.06877653604021076</td>\n",
       "      <td>0</td>\n",
       "      <td>1</td>\n",
       "    </tr>\n",
       "    <tr>\n",
       "      <th>target</th>\n",
       "      <td>18306</td>\n",
       "      <td>0.02441822353326778</td>\n",
       "      <td>0.1543479034013191</td>\n",
       "      <td>0</td>\n",
       "      <td>1</td>\n",
       "    </tr>\n",
       "    <tr>\n",
       "      <th>class_weight</th>\n",
       "      <td>18306</td>\n",
       "      <td>0.04764394778549432</td>\n",
       "      <td>0.1468101001870299</td>\n",
       "      <td>0.02441822353326778</td>\n",
       "      <td>0.9755817764667323</td>\n",
       "    </tr>\n",
       "  </tbody>\n",
       "</table>\n",
       "</div>"
      ],
      "text/plain": [
       "                             0                      1                       2  \\\n",
       "summary                  count                   mean                  stddev   \n",
       "fullVisitorId            18306  4.7510356106492979E18  1.44736742636336256E18   \n",
       "visitId                  18306   1.4866916254648204E9       9192689.089355526   \n",
       "dayofweek                18306     3.9480498197312355      1.8558190134797412   \n",
       "newVisits                18306     0.7393750682836229     0.43898758961894574   \n",
       "sum_hitaction_1          18306     0.9687534141811428       2.775395534761443   \n",
       "sum_hitaction_2          18306     0.7958592811100186      2.3644009878467487   \n",
       "sum_hitaction_3          18306     0.2646673221894461      1.2049857009172475   \n",
       "sum_hitaction_4          18306    0.03840270949415492     0.38177569959061397   \n",
       "sum_hitaction_5          18306     0.5242543428384137       4.423273670365525   \n",
       "sum_hitaction_6          18306    0.16398994865071562       1.485607951196152   \n",
       "hitNumber                18306      7.311264066426308      12.261661507759298   \n",
       "timeOnSite               18306       224.749808805856      480.87493168686524   \n",
       "totalTransactionRevenue  18306     3187196.5475800284     5.678733582679028E7   \n",
       "isClick                  18306     0.2711132961870425     0.44454659179508926   \n",
       "isImpression             18306     0.9952474598492298     0.06877653604021076   \n",
       "target                   18306    0.02441822353326778      0.1543479034013191   \n",
       "class_weight             18306    0.04764394778549432      0.1468101001870299   \n",
       "\n",
       "                                           3                    4  \n",
       "summary                                  min                  max  \n",
       "fullVisitorId                514359656957582  5487531102128447544  \n",
       "visitId                           1470037326           1501656575  \n",
       "dayofweek                                  1                    7  \n",
       "newVisits                                  0                    1  \n",
       "sum_hitaction_1                            0                   97  \n",
       "sum_hitaction_2                            0                   99  \n",
       "sum_hitaction_3                            0                   34  \n",
       "sum_hitaction_4                            0                   19  \n",
       "sum_hitaction_5                            0                  240  \n",
       "sum_hitaction_6                            0                   48  \n",
       "hitNumber                                  1                  239  \n",
       "timeOnSite                                 0                 9963  \n",
       "totalTransactionRevenue                    0           5608400000  \n",
       "isClick                                    0                    1  \n",
       "isImpression                               0                    1  \n",
       "target                                     0                    1  \n",
       "class_weight             0.02441822353326778   0.9755817764667323  "
      ]
     },
     "execution_count": 53,
     "metadata": {},
     "output_type": "execute_result"
    }
   ],
   "source": [
    "weighted_df.describe().toPandas().transpose()"
   ]
  },
  {
   "cell_type": "code",
   "execution_count": 54,
   "id": "c840a12c",
   "metadata": {},
   "outputs": [
    {
     "name": "stdout",
     "output_type": "stream",
     "text": [
      "root\n",
      " |-- fullVisitorId: long (nullable = true)\n",
      " |-- visitId: integer (nullable = true)\n",
      " |-- dayofweek: integer (nullable = true)\n",
      " |-- newVisits: integer (nullable = false)\n",
      " |-- sum_hitaction_1: long (nullable = true)\n",
      " |-- sum_hitaction_2: long (nullable = true)\n",
      " |-- sum_hitaction_3: long (nullable = true)\n",
      " |-- sum_hitaction_4: long (nullable = true)\n",
      " |-- sum_hitaction_5: long (nullable = true)\n",
      " |-- sum_hitaction_6: long (nullable = true)\n",
      " |-- hitNumber: integer (nullable = true)\n",
      " |-- timeOnSite: integer (nullable = true)\n",
      " |-- totalTransactionRevenue: long (nullable = true)\n",
      " |-- isClick: integer (nullable = true)\n",
      " |-- isImpression: integer (nullable = true)\n",
      " |-- target: integer (nullable = false)\n",
      "\n"
     ]
    }
   ],
   "source": [
    "test_df.printSchema()"
   ]
  },
  {
   "cell_type": "code",
   "execution_count": 55,
   "id": "300a2b64",
   "metadata": {},
   "outputs": [
    {
     "name": "stderr",
     "output_type": "stream",
     "text": [
      "                                                                                \r"
     ]
    },
    {
     "data": {
      "text/html": [
       "<div>\n",
       "<style scoped>\n",
       "    .dataframe tbody tr th:only-of-type {\n",
       "        vertical-align: middle;\n",
       "    }\n",
       "\n",
       "    .dataframe tbody tr th {\n",
       "        vertical-align: top;\n",
       "    }\n",
       "\n",
       "    .dataframe thead th {\n",
       "        text-align: right;\n",
       "    }\n",
       "</style>\n",
       "<table border=\"1\" class=\"dataframe\">\n",
       "  <thead>\n",
       "    <tr style=\"text-align: right;\">\n",
       "      <th></th>\n",
       "      <th>0</th>\n",
       "      <th>1</th>\n",
       "      <th>2</th>\n",
       "      <th>3</th>\n",
       "      <th>4</th>\n",
       "    </tr>\n",
       "  </thead>\n",
       "  <tbody>\n",
       "    <tr>\n",
       "      <th>summary</th>\n",
       "      <td>count</td>\n",
       "      <td>mean</td>\n",
       "      <td>stddev</td>\n",
       "      <td>min</td>\n",
       "      <td>max</td>\n",
       "    </tr>\n",
       "    <tr>\n",
       "      <th>fullVisitorId</th>\n",
       "      <td>4677</td>\n",
       "      <td>4.747873338838402E18</td>\n",
       "      <td>1.45805605230641792E18</td>\n",
       "      <td>5134451956558008</td>\n",
       "      <td>5487207201083085422</td>\n",
       "    </tr>\n",
       "    <tr>\n",
       "      <th>visitId</th>\n",
       "      <td>4677</td>\n",
       "      <td>1.486668603079538E9</td>\n",
       "      <td>9118231.031720923</td>\n",
       "      <td>1470062934</td>\n",
       "      <td>1501649054</td>\n",
       "    </tr>\n",
       "    <tr>\n",
       "      <th>dayofweek</th>\n",
       "      <td>4677</td>\n",
       "      <td>3.9850331409022877</td>\n",
       "      <td>1.8642414364609878</td>\n",
       "      <td>1</td>\n",
       "      <td>7</td>\n",
       "    </tr>\n",
       "    <tr>\n",
       "      <th>newVisits</th>\n",
       "      <td>4677</td>\n",
       "      <td>0.7474877057943126</td>\n",
       "      <td>0.4344999437775119</td>\n",
       "      <td>0</td>\n",
       "      <td>1</td>\n",
       "    </tr>\n",
       "    <tr>\n",
       "      <th>sum_hitaction_1</th>\n",
       "      <td>4677</td>\n",
       "      <td>0.9662176608937353</td>\n",
       "      <td>2.8195161233611215</td>\n",
       "      <td>0</td>\n",
       "      <td>94</td>\n",
       "    </tr>\n",
       "    <tr>\n",
       "      <th>sum_hitaction_2</th>\n",
       "      <td>4677</td>\n",
       "      <td>0.8005131494547787</td>\n",
       "      <td>2.4679675287439284</td>\n",
       "      <td>0</td>\n",
       "      <td>96</td>\n",
       "    </tr>\n",
       "    <tr>\n",
       "      <th>sum_hitaction_3</th>\n",
       "      <td>4677</td>\n",
       "      <td>0.2897156296771435</td>\n",
       "      <td>1.2971999952146942</td>\n",
       "      <td>0</td>\n",
       "      <td>23</td>\n",
       "    </tr>\n",
       "    <tr>\n",
       "      <th>sum_hitaction_4</th>\n",
       "      <td>4677</td>\n",
       "      <td>0.038913833654051745</td>\n",
       "      <td>0.377091453838953</td>\n",
       "      <td>0</td>\n",
       "      <td>12</td>\n",
       "    </tr>\n",
       "    <tr>\n",
       "      <th>sum_hitaction_5</th>\n",
       "      <td>4677</td>\n",
       "      <td>0.5950395552704725</td>\n",
       "      <td>4.752582588129257</td>\n",
       "      <td>0</td>\n",
       "      <td>117</td>\n",
       "    </tr>\n",
       "    <tr>\n",
       "      <th>sum_hitaction_6</th>\n",
       "      <td>4677</td>\n",
       "      <td>0.187727175539876</td>\n",
       "      <td>1.6755152891418168</td>\n",
       "      <td>0</td>\n",
       "      <td>58</td>\n",
       "    </tr>\n",
       "    <tr>\n",
       "      <th>hitNumber</th>\n",
       "      <td>4677</td>\n",
       "      <td>7.262561471028437</td>\n",
       "      <td>11.881108122605347</td>\n",
       "      <td>1</td>\n",
       "      <td>230</td>\n",
       "    </tr>\n",
       "    <tr>\n",
       "      <th>timeOnSite</th>\n",
       "      <td>4677</td>\n",
       "      <td>225.81483857173401</td>\n",
       "      <td>450.51146479094695</td>\n",
       "      <td>0</td>\n",
       "      <td>5506</td>\n",
       "    </tr>\n",
       "    <tr>\n",
       "      <th>totalTransactionRevenue</th>\n",
       "      <td>4677</td>\n",
       "      <td>3265189.22386145</td>\n",
       "      <td>3.553700691430258E7</td>\n",
       "      <td>0</td>\n",
       "      <td>1364510000</td>\n",
       "    </tr>\n",
       "    <tr>\n",
       "      <th>isClick</th>\n",
       "      <td>4677</td>\n",
       "      <td>0.27218302330553773</td>\n",
       "      <td>0.44513120568694725</td>\n",
       "      <td>0</td>\n",
       "      <td>1</td>\n",
       "    </tr>\n",
       "    <tr>\n",
       "      <th>isImpression</th>\n",
       "      <td>4677</td>\n",
       "      <td>0.9955099422706863</td>\n",
       "      <td>0.06686443773897893</td>\n",
       "      <td>0</td>\n",
       "      <td>1</td>\n",
       "    </tr>\n",
       "    <tr>\n",
       "      <th>target</th>\n",
       "      <td>4677</td>\n",
       "      <td>0.026940346375881975</td>\n",
       "      <td>0.161926434862368</td>\n",
       "      <td>0</td>\n",
       "      <td>1</td>\n",
       "    </tr>\n",
       "  </tbody>\n",
       "</table>\n",
       "</div>"
      ],
      "text/plain": [
       "                             0                     1                       2  \\\n",
       "summary                  count                  mean                  stddev   \n",
       "fullVisitorId             4677  4.747873338838402E18  1.45805605230641792E18   \n",
       "visitId                   4677   1.486668603079538E9       9118231.031720923   \n",
       "dayofweek                 4677    3.9850331409022877      1.8642414364609878   \n",
       "newVisits                 4677    0.7474877057943126      0.4344999437775119   \n",
       "sum_hitaction_1           4677    0.9662176608937353      2.8195161233611215   \n",
       "sum_hitaction_2           4677    0.8005131494547787      2.4679675287439284   \n",
       "sum_hitaction_3           4677    0.2897156296771435      1.2971999952146942   \n",
       "sum_hitaction_4           4677  0.038913833654051745       0.377091453838953   \n",
       "sum_hitaction_5           4677    0.5950395552704725       4.752582588129257   \n",
       "sum_hitaction_6           4677     0.187727175539876      1.6755152891418168   \n",
       "hitNumber                 4677     7.262561471028437      11.881108122605347   \n",
       "timeOnSite                4677    225.81483857173401      450.51146479094695   \n",
       "totalTransactionRevenue   4677      3265189.22386145     3.553700691430258E7   \n",
       "isClick                   4677   0.27218302330553773     0.44513120568694725   \n",
       "isImpression              4677    0.9955099422706863     0.06686443773897893   \n",
       "target                    4677  0.026940346375881975       0.161926434862368   \n",
       "\n",
       "                                        3                    4  \n",
       "summary                               min                  max  \n",
       "fullVisitorId            5134451956558008  5487207201083085422  \n",
       "visitId                        1470062934           1501649054  \n",
       "dayofweek                               1                    7  \n",
       "newVisits                               0                    1  \n",
       "sum_hitaction_1                         0                   94  \n",
       "sum_hitaction_2                         0                   96  \n",
       "sum_hitaction_3                         0                   23  \n",
       "sum_hitaction_4                         0                   12  \n",
       "sum_hitaction_5                         0                  117  \n",
       "sum_hitaction_6                         0                   58  \n",
       "hitNumber                               1                  230  \n",
       "timeOnSite                              0                 5506  \n",
       "totalTransactionRevenue                 0           1364510000  \n",
       "isClick                                 0                    1  \n",
       "isImpression                            0                    1  \n",
       "target                                  0                    1  "
      ]
     },
     "execution_count": 55,
     "metadata": {},
     "output_type": "execute_result"
    }
   ],
   "source": [
    "test_df.describe().toPandas().transpose()"
   ]
  },
  {
   "cell_type": "code",
   "execution_count": 56,
   "id": "6b44f6b4",
   "metadata": {},
   "outputs": [],
   "source": [
    "vector_assembler = VectorAssembler(inputCols = featureTrainingCols, outputCol = 'features')\n",
    "\n",
    "RFC = RandomForestClassifier(labelCol='target', featuresCol='features', weightCol='class_weight', seed=49)"
   ]
  },
  {
   "cell_type": "code",
   "execution_count": 57,
   "id": "61ab8971",
   "metadata": {},
   "outputs": [],
   "source": [
    "pipeline = Pipeline(stages=[vector_assembler, RFC])"
   ]
  },
  {
   "cell_type": "code",
   "execution_count": 58,
   "id": "8ee07847",
   "metadata": {},
   "outputs": [
    {
     "name": "stderr",
     "output_type": "stream",
     "text": [
      "                                                                                \r"
     ]
    }
   ],
   "source": [
    "rfModel = pipeline.fit(weighted_df)"
   ]
  },
  {
   "cell_type": "markdown",
   "id": "4e6ebe59",
   "metadata": {},
   "source": [
    "# 5. Model Evaluation"
   ]
  },
  {
   "cell_type": "markdown",
   "id": "a3821b69",
   "metadata": {},
   "source": [
    "### 5.1 Performance Measurement"
   ]
  },
  {
   "cell_type": "code",
   "execution_count": 59,
   "id": "bdd9b76e",
   "metadata": {},
   "outputs": [],
   "source": [
    "result_df = rfModel.transform(test_df.dropna())"
   ]
  },
  {
   "cell_type": "code",
   "execution_count": 60,
   "id": "aff57eb9",
   "metadata": {},
   "outputs": [
    {
     "name": "stderr",
     "output_type": "stream",
     "text": [
      "                                                                                \r"
     ]
    },
    {
     "name": "stdout",
     "output_type": "stream",
     "text": [
      "+------+----------+-----+\n",
      "|target|prediction|count|\n",
      "+------+----------+-----+\n",
      "|     1|       0.0|    6|\n",
      "|     0|       0.0| 4072|\n",
      "|     1|       1.0|  120|\n",
      "|     0|       1.0|  479|\n",
      "+------+----------+-----+\n",
      "\n"
     ]
    },
    {
     "name": "stderr",
     "output_type": "stream",
     "text": [
      "                                                                                \r"
     ]
    }
   ],
   "source": [
    "result_df.groupBy('target','prediction').count().show()"
   ]
  },
  {
   "cell_type": "code",
   "execution_count": 61,
   "id": "3a7b5bad",
   "metadata": {},
   "outputs": [],
   "source": [
    "#test_df.groupBy('totalTransactionRevenue','target').count().show(1000)"
   ]
  },
  {
   "cell_type": "code",
   "execution_count": 62,
   "id": "6325c623",
   "metadata": {},
   "outputs": [],
   "source": [
    "# Calculate confusion matrix\n",
    "confusion_matrix = result_df.groupBy('target', 'prediction').count()\n",
    "\n",
    "# Fetch values from confusion matrix\n",
    "TP = confusion_matrix.filter((sparkf.col('target') == 1) & (sparkf.col('prediction') == 1.0)).select('count').collect()[0][0]\n",
    "FP = confusion_matrix.filter((sparkf.col('target') == 0) & (sparkf.col('prediction') == 1.0)).select('count').collect()[0][0]\n",
    "FN = confusion_matrix.filter((sparkf.col('target') == 1) & (sparkf.col('prediction') == 0.0)).select('count').collect()[0][0]\n",
    "TN = confusion_matrix.filter((sparkf.col('target') == 0) & (sparkf.col('prediction') == 0.0)).select('count').collect()[0][0]"
   ]
  },
  {
   "cell_type": "markdown",
   "id": "37a6fd15",
   "metadata": {},
   "source": [
    "### 5.2 Success Criterias"
   ]
  },
  {
   "cell_type": "code",
   "execution_count": 62,
   "id": "c7696382",
   "metadata": {},
   "outputs": [
    {
     "name": "stderr",
     "output_type": "stream",
     "text": [
      "[Stage 260:===============================================>     (179 + 4) / 200]\r"
     ]
    },
    {
     "name": "stdout",
     "output_type": "stream",
     "text": [
      "Recall (Sensitivity): 0.9523809523809523\n",
      "Specificity: 0.8947484069435289\n",
      "PPV (Precision): 0.2003338898163606\n",
      "NPV: 0.9985286905345758\n"
     ]
    },
    {
     "name": "stderr",
     "output_type": "stream",
     "text": [
      "                                                                                \r"
     ]
    }
   ],
   "source": [
    "# Calculate metrics\n",
    "recall = TP / (TP + FN) # Sensitivity or True Positive Rate\n",
    "specificity = TN / (TN + FP) # Specificity or True Negative Rate\n",
    "ppv = TP / (TP + FP) # Positive Predictive Value (PPV) or Precision\n",
    "npv = TN / (TN + FN) # Negative Predictive Value (NPV)\n",
    "\n",
    "print(\"Recall (Sensitivity):\", recall)\n",
    "print(\"Specificity:\", specificity)\n",
    "print(\"PPV (Precision):\", ppv)\n",
    "print(\"NPV:\", npv)"
   ]
  },
  {
   "cell_type": "code",
   "execution_count": 63,
   "id": "d1116d35",
   "metadata": {},
   "outputs": [
    {
     "data": {
      "text/plain": [
       "RandomForestClassificationModel: uid=RandomForestClassifier_2ad408e519d7, numTrees=20, numClasses=2, numFeatures=5"
      ]
     },
     "execution_count": 63,
     "metadata": {},
     "output_type": "execute_result"
    }
   ],
   "source": [
    "rfModel.stages[1]"
   ]
  },
  {
   "cell_type": "code",
   "execution_count": 64,
   "id": "7e5528ab",
   "metadata": {},
   "outputs": [
    {
     "name": "stderr",
     "output_type": "stream",
     "text": [
      "                                                                                \r"
     ]
    },
    {
     "name": "stdout",
     "output_type": "stream",
     "text": [
      "Area Under ROC = 0.921257\n"
     ]
    }
   ],
   "source": [
    "from pyspark.ml.tuning import ParamGridBuilder, CrossValidator\n",
    "from pyspark.ml.evaluation import BinaryClassificationEvaluator\n",
    "\n",
    "# Initialize the hyperparameter grid\n",
    "paramGrid = ParamGridBuilder() \\\n",
    "    .addGrid(RFC.numTrees, [20, 50, 100]) \\\n",
    "    .build()\n",
    "\n",
    "# Set up 5-fold cross-validation\n",
    "crossval = CrossValidator(estimator=pipeline, \n",
    "                          estimatorParamMaps=paramGrid, \n",
    "                          evaluator=BinaryClassificationEvaluator(labelCol=\"target\"),  # Specify the correct name of target column\n",
    "                          numFolds=5) \n",
    "\n",
    "# Fit the model\n",
    "cvModel = crossval.fit(weighted_df)\n",
    "\n",
    "# Use the best model to generate predictions on the test data\n",
    "result_cv_df = cvModel.transform(test_df.dropna())\n",
    "\n",
    "# Evaluate the model's performance\n",
    "evaluator = BinaryClassificationEvaluator(rawPredictionCol='prediction', labelCol='target', metricName='areaUnderROC')  # Specify the correct name of target column\n",
    "print('Area Under ROC = %g' % evaluator.evaluate(result_cv_df))\n"
   ]
  }
 ],
 "metadata": {
  "kernelspec": {
   "display_name": "Python 3 (ipykernel)",
   "language": "python",
   "name": "python3"
  },
  "language_info": {
   "codemirror_mode": {
    "name": "ipython",
    "version": 3
   },
   "file_extension": ".py",
   "mimetype": "text/x-python",
   "name": "python",
   "nbconvert_exporter": "python",
   "pygments_lexer": "ipython3",
   "version": "3.9.2"
  }
 },
 "nbformat": 4,
 "nbformat_minor": 5
}
