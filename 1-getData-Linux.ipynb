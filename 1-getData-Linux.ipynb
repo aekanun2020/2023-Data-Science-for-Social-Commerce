{
 "cells": [
  {
   "cell_type": "code",
   "execution_count": 1,
   "id": "bf79295b",
   "metadata": {},
   "outputs": [
    {
     "name": "stdout",
     "output_type": "stream",
     "text": [
      "Hit:1 http://deb.debian.org/debian bullseye InRelease\n",
      "Hit:2 http://deb.debian.org/debian-security bullseye-security InRelease\n",
      "Get:3 http://deb.debian.org/debian bullseye-updates InRelease [44.1 kB]\n",
      "Fetched 44.1 kB in 0s (91.4 kB/s)   \n",
      "Reading package lists... Done\n",
      "Reading package lists... Done\n",
      "Building dependency tree... Done\n",
      "Reading state information... Done\n",
      "wget is already the newest version (1.21-1+deb11u1).\n",
      "0 upgraded, 0 newly installed, 0 to remove and 39 not upgraded.\n",
      "Reading package lists... Done\n",
      "Building dependency tree... Done\n",
      "Reading state information... Done\n",
      "unzip is already the newest version (6.0-26+deb11u1).\n",
      "0 upgraded, 0 newly installed, 0 to remove and 39 not upgraded.\n"
     ]
    }
   ],
   "source": [
    "# อัปเดตรายการแพ็กเกจที่สามารถติดตั้งจาก repos ที่ระบุไว้ในเครื่อง\n",
    "! apt-get update \n",
    "\n",
    "# ติดตั้งแพ็กเกจ wget ที่ใช้ดาวน์โหลดไฟล์จากเว็บผ่าน command line\n",
    "# ตัวเลือก -y ยอมรับในการติดตั้งแพ็กเกจ wget โดยอัตโนมัติ\n",
    "! apt-get install wget -y \n",
    "\n",
    "# ติดตั้งแพ็กเกจ unzip ที่ใช้ในการแตกไฟล์ที่ถูกบีบอัดเป็น .zip จาก command line\n",
    "# ตัวเลือก -y ยอมรับในการติดตั้งแพ็กเกจ unzip โดยอัตโนมัติ\n",
    "! apt-get install unzip -y \n"
   ]
  },
  {
   "cell_type": "code",
   "execution_count": 2,
   "id": "35bbf5e9",
   "metadata": {},
   "outputs": [
    {
     "name": "stdout",
     "output_type": "stream",
     "text": [
      "--2023-05-23 01:14:54--  https://storage.googleapis.com/aekanunlab/funneldata.zip\n",
      "Resolving storage.googleapis.com (storage.googleapis.com)... 74.125.201.128, 74.125.202.128, 74.125.69.128, ...\n",
      "Connecting to storage.googleapis.com (storage.googleapis.com)|74.125.201.128|:443... connected.\n",
      "HTTP request sent, awaiting response... 200 OK\n",
      "Length: 111701790 (107M) [application/zip]\n",
      "Saving to: ‘funneldata.zip’\n",
      "\n",
      "funneldata.zip      100%[===================>] 106.53M  92.9MB/s    in 1.1s    \n",
      "\n",
      "2023-05-23 01:14:55 (92.9 MB/s) - ‘funneldata.zip’ saved [111701790/111701790]\n",
      "\n"
     ]
    }
   ],
   "source": [
    "# ลบไฟล์ทั้งหมดที่มีนามสกุล .zip ใน directory ปัจจุบัน โดยไม่แสดงข้อความแจ้งเตือนหรือข้อผิดพลาด\n",
    "# rm คือคำสั่งสำหรับการลบ\n",
    "# -rf คือตัวเลือกของ rm:\n",
    "#   -r หรือ --recursive หมายถึง ลบไดเรกทอรีและเนื้อหาของมัน\n",
    "#   -f หรือ --force หมายถึง ลบโดยไม่ยืนยัน\n",
    "! rm -rf *.zip \n",
    "\n",
    "# ดาวน์โหลดไฟล์จาก URL ที่ระบุโดยใช้ wget\n",
    "! wget https://storage.googleapis.com/aekanunlab/funneldata.zip "
   ]
  },
  {
   "cell_type": "code",
   "execution_count": 3,
   "id": "9369cf7a",
   "metadata": {},
   "outputs": [
    {
     "name": "stdout",
     "output_type": "stream",
     "text": [
      "Archive:  funneldata.zip\n",
      "  inflating: 000000000000            \n",
      "  inflating: 000000000001            \n",
      "  inflating: 000000000002            \n",
      "  inflating: 000000000003            \n",
      "  inflating: 000000000004            \n",
      "  inflating: 000000000005            \n",
      "  inflating: 000000000006            \n",
      "  inflating: 000000000007            \n",
      "  inflating: 000000000008            \n",
      "  inflating: 000000000009            \n"
     ]
    }
   ],
   "source": [
    "# ใช้คำสั่ง unzip ในการแตกไฟล์ที่ถูกบีบอัด (unzip) ชื่อ funneldata.zip ที่อยู่ใน directory ปัจจุบัน\n",
    "# ตัวเลือก -o หรือ --overwrite จะทำการเขียนทับไฟล์ที่มีอยู่แล้วโดยไม่ต้องยืนยัน\n",
    "! unzip -o funneldata.zip"
   ]
  },
  {
   "cell_type": "code",
   "execution_count": 4,
   "id": "36763420",
   "metadata": {},
   "outputs": [
    {
     "name": "stdout",
     "output_type": "stream",
     "text": [
      "917815 000000000000\n"
     ]
    }
   ],
   "source": [
    "# ใช้คำสั่ง wc (word count) สำหรับนับจำนวนบรรทัดในไฟล์ชื่อ 000000000000\n",
    "# ตัวเลือก -l หรือ --lines ใช้สำหรับนับจำนวนบรรทัด\n",
    "! wc -l 000000000000 "
   ]
  },
  {
   "cell_type": "code",
   "execution_count": 5,
   "id": "c4d6fa3d",
   "metadata": {},
   "outputs": [
    {
     "name": "stdout",
     "output_type": "stream",
     "text": [
      "source,isTrueDirect,sourceKeyword,medium,isVideoAd,fullVisitorId,visitId,date,newVisits,hitReferer,hitType,hitAction_type,hitNumber,hitHour,hitMin,timeMicroSec,v2ProductName,productListName,isClick,isImpression,sessionQualityDim,timeOnScreen,timeOnSite,totalTransactionRevenue\n",
      "google,true,(not provided),organic,,4988612949713423910,1489617360,20170315,,,PAGE,0,28,15,46,608771,Google Accent Insulated Stainless Steel Bottle,Category,,true,,,1897,\n",
      "google,true,(not provided),organic,,4988612949713423910,1489617360,20170315,,,PAGE,0,27,15,46,605064,Google Pocket Bluetooth Speaker,Category,,true,,,1897,\n",
      "google,true,(not provided),organic,,4988612949713423910,1489617360,20170315,,,PAGE,0,10,15,40,264371,Android Luggage Tag,Category,,true,,,1897,\n",
      "google,true,(not provided),organic,,4988612949713423910,1489617360,20170315,,,PAGE,0,44,16,6,1814141,Red Shine 15 oz Mug,Category,,true,,,1897,\n"
     ]
    }
   ],
   "source": [
    "# ใช้คำสั่ง head ในการแสดง 5 บรรทัดแรกจากไฟล์ชื่อ 000000000000\n",
    "! head -5 000000000000"
   ]
  },
  {
   "cell_type": "code",
   "execution_count": null,
   "id": "0ae0410f",
   "metadata": {},
   "outputs": [],
   "source": []
  }
 ],
 "metadata": {
  "kernelspec": {
   "display_name": "Python 3 (ipykernel)",
   "language": "python",
   "name": "python3"
  },
  "language_info": {
   "codemirror_mode": {
    "name": "ipython",
    "version": 3
   },
   "file_extension": ".py",
   "mimetype": "text/x-python",
   "name": "python",
   "nbconvert_exporter": "python",
   "pygments_lexer": "ipython3",
   "version": "3.9.2"
  }
 },
 "nbformat": 4,
 "nbformat_minor": 5
}
