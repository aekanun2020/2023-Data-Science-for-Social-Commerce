{
 "cells": [
  {
   "cell_type": "markdown",
   "metadata": {
    "id": "SYq4wBqPMeUF"
   },
   "source": [
    "# Setting up Spark Environment"
   ]
  },
  {
   "cell_type": "code",
   "execution_count": 1,
   "metadata": {},
   "outputs": [
    {
     "name": "stderr",
     "output_type": "stream",
     "text": [
      "23/05/21 00:14:51 WARN NativeCodeLoader: Unable to load native-hadoop library for your platform... using builtin-java classes where applicable\n",
      "Using Spark's default log4j profile: org/apache/spark/log4j-defaults.properties\n",
      "Setting default log level to \"WARN\".\n",
      "To adjust logging level use sc.setLogLevel(newLevel). For SparkR, use setLogLevel(newLevel).\n"
     ]
    }
   ],
   "source": [
    "\n",
    "\n",
    "from pyspark.sql import SparkSession\n",
    "\n",
    "spark = SparkSession.\\\n",
    "        builder.\\\n",
    "        appName(\"Social Commerce\").\\\n",
    "        master(\"spark://spark-master:7077\").\\\n",
    "        config(\"spark.executor.memory\", \"1000m\").\\\n",
    "        config(\"spark.executor.cores\", \"2\").\\\n",
    "        config(\"spark.cores.max\", \"6\").\\\n",
    "        getOrCreate()\n",
    "\n"
   ]
  },
  {
   "cell_type": "code",
   "execution_count": 2,
   "metadata": {
    "colab": {
     "base_uri": "https://localhost:8080/"
    },
    "id": "JlXR8MhDQ1_a",
    "outputId": "f8dd2e3d-82f0-4369-c558-8e56ebfdabb9"
   },
   "outputs": [],
   "source": [
    "# Install necessary packages\n",
    "#!pip install pyspark==3.2.0\n",
    "\n",
    "# Import necessary libraries\n",
    "from pyspark.sql import SparkSession\n",
    "from pyspark.ml.feature import VectorAssembler, StringIndexer\n",
    "from pyspark.ml.regression import DecisionTreeRegressor\n",
    "from pyspark.ml import Pipeline\n",
    "from pyspark.ml.evaluation import RegressionEvaluator\n",
    "\n",
    "# Create SparkSession\n",
    "# spark = SparkSession.builder.master(\"local[*]\").getOrCreate()"
   ]
  },
  {
   "cell_type": "markdown",
   "metadata": {
    "id": "7OpgrJBRMZ0_"
   },
   "source": [
    "## Libraries and Modules Installation"
   ]
  },
  {
   "cell_type": "code",
   "execution_count": 3,
   "metadata": {
    "id": "QeyucOzDM1hG"
   },
   "outputs": [],
   "source": [
    "#Spark\n",
    "from pyspark.sql import functions as sparkf\n",
    "from pyspark.sql import Window as W\n",
    "from pyspark.sql.types import *\n",
    "from pyspark.ml.feature import StringIndexer, OneHotEncoder\n",
    "from pyspark.mllib.linalg import Vectors\n",
    "from pyspark.ml.feature import VectorAssembler\n",
    "from pyspark.ml import Pipeline\n",
    "from pyspark.ml.classification import RandomForestClassifier\n",
    "from pyspark.ml.tuning import CrossValidator, ParamGridBuilder\n",
    "from pyspark.ml.evaluation import BinaryClassificationEvaluator, MulticlassClassificationEvaluator\n",
    "\n",
    "#Python\n",
    "import matplotlib.pyplot as plt\n",
    "import pandas as pd\n",
    "import numpy as np\n",
    "import sys\n",
    "from functools import reduce"
   ]
  },
  {
   "cell_type": "markdown",
   "metadata": {
    "id": "dGE-VXFnlt7O"
   },
   "source": [
    "## Data Collection"
   ]
  },
  {
   "cell_type": "code",
   "execution_count": 4,
   "metadata": {},
   "outputs": [],
   "source": [
    "#! apt-get update\n",
    "#! apt-get install wget -y"
   ]
  },
  {
   "cell_type": "code",
   "execution_count": 5,
   "metadata": {
    "colab": {
     "base_uri": "https://localhost:8080/"
    },
    "id": "GsltUxZza2LE",
    "outputId": "f800f159-1bd5-4bee-95e4-7b2153b1dc7b"
   },
   "outputs": [],
   "source": [
    "#! wget https://storage.googleapis.com/22may2023/testfunnel.csv\n",
    "#! wget https://storage.googleapis.com/aekanunlab/funneldata.zip"
   ]
  },
  {
   "cell_type": "code",
   "execution_count": 6,
   "metadata": {},
   "outputs": [],
   "source": [
    "#! apt-get update\n",
    "#! apt-get install unzip -y"
   ]
  },
  {
   "cell_type": "code",
   "execution_count": 7,
   "metadata": {
    "colab": {
     "base_uri": "https://localhost:8080/"
    },
    "id": "Rx162KwKEiD3",
    "outputId": "d0fc49c2-6f0c-429e-ea1a-cd265a36d2c2"
   },
   "outputs": [],
   "source": [
    "#! unzip funneldata.zip"
   ]
  },
  {
   "cell_type": "code",
   "execution_count": 8,
   "metadata": {
    "colab": {
     "base_uri": "https://localhost:8080/"
    },
    "id": "Fn4-dQJpaeTW",
    "outputId": "7eb1c96f-c361-491d-a90b-51b5ecf06e2f"
   },
   "outputs": [
    {
     "name": "stdout",
     "output_type": "stream",
     "text": [
      "source,isTrueDirect,sourceKeyword,medium,isVideoAd,fullVisitorId,visitId,date,newVisits,hitReferer,hitType,hitAction_type,hitNumber,hitHour,hitMin,timeMicroSec,v2ProductName,productListName,isClick,isImpression,sessionQualityDim,timeOnScreen,timeOnSite,totalTransactionRevenue\n",
      "google,true,(not provided),organic,,4988612949713423910,1489617360,20170315,,,PAGE,0,28,15,46,608771,Google Accent Insulated Stainless Steel Bottle,Category,,true,,,1897,\n",
      "google,true,(not provided),organic,,4988612949713423910,1489617360,20170315,,,PAGE,0,27,15,46,605064,Google Pocket Bluetooth Speaker,Category,,true,,,1897,\n"
     ]
    }
   ],
   "source": [
    "#! head -3 testfunnel.csv\n",
    "! head -3 000000000000"
   ]
  },
  {
   "cell_type": "code",
   "execution_count": 9,
   "metadata": {
    "colab": {
     "base_uri": "https://localhost:8080/"
    },
    "id": "ZPIGtjCqEFmS",
    "outputId": "c6601f29-9415-4059-9f93-b851d7f6d3d0"
   },
   "outputs": [
    {
     "name": "stdout",
     "output_type": "stream",
     "text": [
      "917815 000000000000\n"
     ]
    }
   ],
   "source": [
    "#! wc -l testfunnel.csv\n",
    "! wc -l 000000000000"
   ]
  },
  {
   "cell_type": "code",
   "execution_count": 10,
   "metadata": {
    "id": "DRVIPIh503XR"
   },
   "outputs": [
    {
     "name": "stderr",
     "output_type": "stream",
     "text": [
      "                                                                                \r"
     ]
    }
   ],
   "source": [
    "raw_df = spark.read.option('header','true')\\\n",
    ".option(\"inferSchema\" , \"true\")\\\n",
    ".format('csv').load('./000000000000')"
   ]
  },
  {
   "cell_type": "code",
   "execution_count": null,
   "metadata": {
    "id": "qMxsQ3M_lp-p"
   },
   "outputs": [],
   "source": []
  },
  {
   "cell_type": "markdown",
   "metadata": {
    "id": "hGSzhwXj3yeo"
   },
   "source": [
    "# 1. Business Understanding"
   ]
  },
  {
   "cell_type": "markdown",
   "metadata": {
    "id": "dDaZFOMCNNuP"
   },
   "source": [
    "**ธุรกิจต้องการได้รับ Machine Learning Model ที่ทำให้ทราบล่วงหน้าว่า ลูกค้าที่กำลังเลือกดูสินค้าอยู่ จะซื้อหรือไม่ซื้อสินค้าหรือไม่ (Binary Classification)**"
   ]
  },
  {
   "cell_type": "code",
   "execution_count": 11,
   "metadata": {
    "id": "BO6KPVFqkV5l"
   },
   "outputs": [],
   "source": [
    "business_requiredCol_list = [x for x in raw_df.columns]"
   ]
  },
  {
   "cell_type": "code",
   "execution_count": 12,
   "metadata": {
    "id": "pzf467KYc88w"
   },
   "outputs": [],
   "source": [
    "customerBehaviorCol_list = [x for x in raw_df.columns \\\n",
    "         if ((x != 'sourceKeyword')&(x != 'fullVisitorId')&(x != 'isVideoAd')&(x != 'date')\\\n",
    "             &(x != 'isTrueDirect')&(x != 'hitHour')&(x != 'hitMin')&(x != 'isClick')\\\n",
    "             &(x != 'productListName')&(x != 'isImpression')&(x != 'sessionQualityDim')&(x != 'timeOnScreen')\\\n",
    "             &(x != 'hitReferer')&(x != 'medium')&(x != 'hitType'))]"
   ]
  },
  {
   "cell_type": "markdown",
   "metadata": {
    "id": "QcjImh624NjJ"
   },
   "source": [
    "# 2. Data Understanding"
   ]
  },
  {
   "cell_type": "markdown",
   "metadata": {
    "id": "F9gMDPZFufhb"
   },
   "source": [
    "### Previewing Data"
   ]
  },
  {
   "cell_type": "code",
   "execution_count": 13,
   "metadata": {
    "colab": {
     "base_uri": "https://localhost:8080/"
    },
    "id": "0p6sML4L34WI",
    "outputId": "0da9a6d0-7a78-4b20-f469-e751a26e5c4b"
   },
   "outputs": [
    {
     "name": "stderr",
     "output_type": "stream",
     "text": [
      "                                                                                \r"
     ]
    },
    {
     "data": {
      "text/plain": [
       "917814"
      ]
     },
     "execution_count": 13,
     "metadata": {},
     "output_type": "execute_result"
    }
   ],
   "source": [
    "raw_df.count()"
   ]
  },
  {
   "cell_type": "code",
   "execution_count": 14,
   "metadata": {
    "colab": {
     "base_uri": "https://localhost:8080/"
    },
    "id": "mBjlU_WkckEg",
    "outputId": "2cf2415b-db85-4847-c3e4-6cd1b16e49b4"
   },
   "outputs": [
    {
     "data": {
      "text/plain": [
       "24"
      ]
     },
     "execution_count": 14,
     "metadata": {},
     "output_type": "execute_result"
    }
   ],
   "source": [
    "len(raw_df.columns)"
   ]
  },
  {
   "cell_type": "code",
   "execution_count": 15,
   "metadata": {
    "colab": {
     "base_uri": "https://localhost:8080/",
     "height": 947
    },
    "id": "eoEDqDr809CE",
    "outputId": "12206dfc-72de-403c-b831-5de8fb12e224"
   },
   "outputs": [
    {
     "name": "stderr",
     "output_type": "stream",
     "text": [
      "                                                                                \r"
     ]
    },
    {
     "data": {
      "text/html": [
       "<div>\n",
       "<style scoped>\n",
       "    .dataframe tbody tr th:only-of-type {\n",
       "        vertical-align: middle;\n",
       "    }\n",
       "\n",
       "    .dataframe tbody tr th {\n",
       "        vertical-align: top;\n",
       "    }\n",
       "\n",
       "    .dataframe thead th {\n",
       "        text-align: right;\n",
       "    }\n",
       "</style>\n",
       "<table border=\"1\" class=\"dataframe\">\n",
       "  <thead>\n",
       "    <tr style=\"text-align: right;\">\n",
       "      <th></th>\n",
       "      <th>0</th>\n",
       "      <th>1</th>\n",
       "      <th>2</th>\n",
       "      <th>3</th>\n",
       "      <th>4</th>\n",
       "      <th>5</th>\n",
       "      <th>6</th>\n",
       "      <th>7</th>\n",
       "      <th>8</th>\n",
       "      <th>9</th>\n",
       "      <th>...</th>\n",
       "      <th>915</th>\n",
       "      <th>916</th>\n",
       "      <th>917</th>\n",
       "      <th>918</th>\n",
       "      <th>919</th>\n",
       "      <th>920</th>\n",
       "      <th>921</th>\n",
       "      <th>922</th>\n",
       "      <th>923</th>\n",
       "      <th>924</th>\n",
       "    </tr>\n",
       "  </thead>\n",
       "  <tbody>\n",
       "    <tr>\n",
       "      <th>source</th>\n",
       "      <td>google</td>\n",
       "      <td>google</td>\n",
       "      <td>(direct)</td>\n",
       "      <td>(direct)</td>\n",
       "      <td>google</td>\n",
       "      <td>(direct)</td>\n",
       "      <td>google</td>\n",
       "      <td>google</td>\n",
       "      <td>google</td>\n",
       "      <td>(direct)</td>\n",
       "      <td>...</td>\n",
       "      <td>youtube.com</td>\n",
       "      <td>google</td>\n",
       "      <td>youtube.com</td>\n",
       "      <td>(direct)</td>\n",
       "      <td>dfa</td>\n",
       "      <td>youtube.com</td>\n",
       "      <td>(direct)</td>\n",
       "      <td>google</td>\n",
       "      <td>google</td>\n",
       "      <td>google</td>\n",
       "    </tr>\n",
       "    <tr>\n",
       "      <th>isTrueDirect</th>\n",
       "      <td>True</td>\n",
       "      <td>True</td>\n",
       "      <td>True</td>\n",
       "      <td>None</td>\n",
       "      <td>None</td>\n",
       "      <td>None</td>\n",
       "      <td>None</td>\n",
       "      <td>None</td>\n",
       "      <td>None</td>\n",
       "      <td>None</td>\n",
       "      <td>...</td>\n",
       "      <td>None</td>\n",
       "      <td>None</td>\n",
       "      <td>None</td>\n",
       "      <td>None</td>\n",
       "      <td>None</td>\n",
       "      <td>None</td>\n",
       "      <td>None</td>\n",
       "      <td>None</td>\n",
       "      <td>None</td>\n",
       "      <td>None</td>\n",
       "    </tr>\n",
       "    <tr>\n",
       "      <th>sourceKeyword</th>\n",
       "      <td>(not provided)</td>\n",
       "      <td>(not provided)</td>\n",
       "      <td>None</td>\n",
       "      <td>None</td>\n",
       "      <td>(not provided)</td>\n",
       "      <td>None</td>\n",
       "      <td>(not provided)</td>\n",
       "      <td>(not provided)</td>\n",
       "      <td>youtube merch</td>\n",
       "      <td>None</td>\n",
       "      <td>...</td>\n",
       "      <td>None</td>\n",
       "      <td>(not provided)</td>\n",
       "      <td>None</td>\n",
       "      <td>None</td>\n",
       "      <td>None</td>\n",
       "      <td>None</td>\n",
       "      <td>None</td>\n",
       "      <td>(not provided)</td>\n",
       "      <td>(not provided)</td>\n",
       "      <td>(not provided)</td>\n",
       "    </tr>\n",
       "    <tr>\n",
       "      <th>medium</th>\n",
       "      <td>organic</td>\n",
       "      <td>organic</td>\n",
       "      <td>(none)</td>\n",
       "      <td>(none)</td>\n",
       "      <td>organic</td>\n",
       "      <td>(none)</td>\n",
       "      <td>organic</td>\n",
       "      <td>organic</td>\n",
       "      <td>cpc</td>\n",
       "      <td>(none)</td>\n",
       "      <td>...</td>\n",
       "      <td>referral</td>\n",
       "      <td>organic</td>\n",
       "      <td>referral</td>\n",
       "      <td>(none)</td>\n",
       "      <td>cpm</td>\n",
       "      <td>referral</td>\n",
       "      <td>(none)</td>\n",
       "      <td>organic</td>\n",
       "      <td>organic</td>\n",
       "      <td>organic</td>\n",
       "    </tr>\n",
       "    <tr>\n",
       "      <th>isVideoAd</th>\n",
       "      <td>None</td>\n",
       "      <td>None</td>\n",
       "      <td>None</td>\n",
       "      <td>False</td>\n",
       "      <td>None</td>\n",
       "      <td>None</td>\n",
       "      <td>None</td>\n",
       "      <td>None</td>\n",
       "      <td>False</td>\n",
       "      <td>None</td>\n",
       "      <td>...</td>\n",
       "      <td>None</td>\n",
       "      <td>None</td>\n",
       "      <td>None</td>\n",
       "      <td>None</td>\n",
       "      <td>None</td>\n",
       "      <td>None</td>\n",
       "      <td>None</td>\n",
       "      <td>None</td>\n",
       "      <td>None</td>\n",
       "      <td>None</td>\n",
       "    </tr>\n",
       "    <tr>\n",
       "      <th>fullVisitorId</th>\n",
       "      <td>4988612949713423910</td>\n",
       "      <td>4988612949713423910</td>\n",
       "      <td>4992317753515158805</td>\n",
       "      <td>4992772271736200092</td>\n",
       "      <td>4992825232100275341</td>\n",
       "      <td>4993450863033496114</td>\n",
       "      <td>4993876737142975317</td>\n",
       "      <td>4994319889838750000</td>\n",
       "      <td>4995251874694255755</td>\n",
       "      <td>4995356988620593823</td>\n",
       "      <td>...</td>\n",
       "      <td>548102970131289821</td>\n",
       "      <td>5482759080804282482</td>\n",
       "      <td>5482820136547373575</td>\n",
       "      <td>5484144360559795874</td>\n",
       "      <td>5484144360559795874</td>\n",
       "      <td>5484991115522820610</td>\n",
       "      <td>548545757162990083</td>\n",
       "      <td>5485988366687211191</td>\n",
       "      <td>5486542684848997564</td>\n",
       "      <td>5486542684848997564</td>\n",
       "    </tr>\n",
       "    <tr>\n",
       "      <th>visitId</th>\n",
       "      <td>1489617360</td>\n",
       "      <td>1490043910</td>\n",
       "      <td>1496175863</td>\n",
       "      <td>1478983581</td>\n",
       "      <td>1493188415</td>\n",
       "      <td>1485313789</td>\n",
       "      <td>1493496187</td>\n",
       "      <td>1472164694</td>\n",
       "      <td>1495500364</td>\n",
       "      <td>1481560042</td>\n",
       "      <td>...</td>\n",
       "      <td>1488334035</td>\n",
       "      <td>1471792462</td>\n",
       "      <td>1483509740</td>\n",
       "      <td>1479231404</td>\n",
       "      <td>1481143955</td>\n",
       "      <td>1486249397</td>\n",
       "      <td>1501625147</td>\n",
       "      <td>1489295209</td>\n",
       "      <td>1474066322</td>\n",
       "      <td>1474066322</td>\n",
       "    </tr>\n",
       "    <tr>\n",
       "      <th>date</th>\n",
       "      <td>20170315</td>\n",
       "      <td>20170320</td>\n",
       "      <td>20170530</td>\n",
       "      <td>20161112</td>\n",
       "      <td>20170425</td>\n",
       "      <td>20170124</td>\n",
       "      <td>20170429</td>\n",
       "      <td>20160825</td>\n",
       "      <td>20170522</td>\n",
       "      <td>20161212</td>\n",
       "      <td>...</td>\n",
       "      <td>20170228</td>\n",
       "      <td>20160821</td>\n",
       "      <td>20170103</td>\n",
       "      <td>20161115</td>\n",
       "      <td>20161207</td>\n",
       "      <td>20170204</td>\n",
       "      <td>20170801</td>\n",
       "      <td>20170311</td>\n",
       "      <td>20160916</td>\n",
       "      <td>20160916</td>\n",
       "    </tr>\n",
       "    <tr>\n",
       "      <th>newVisits</th>\n",
       "      <td>NaN</td>\n",
       "      <td>NaN</td>\n",
       "      <td>1.0</td>\n",
       "      <td>1.0</td>\n",
       "      <td>1.0</td>\n",
       "      <td>1.0</td>\n",
       "      <td>1.0</td>\n",
       "      <td>1.0</td>\n",
       "      <td>1.0</td>\n",
       "      <td>1.0</td>\n",
       "      <td>...</td>\n",
       "      <td>1.0</td>\n",
       "      <td>1.0</td>\n",
       "      <td>1.0</td>\n",
       "      <td>1.0</td>\n",
       "      <td>NaN</td>\n",
       "      <td>1.0</td>\n",
       "      <td>1.0</td>\n",
       "      <td>1.0</td>\n",
       "      <td>1.0</td>\n",
       "      <td>1.0</td>\n",
       "    </tr>\n",
       "    <tr>\n",
       "      <th>hitReferer</th>\n",
       "      <td>None</td>\n",
       "      <td>None</td>\n",
       "      <td>None</td>\n",
       "      <td>None</td>\n",
       "      <td>https://www.google.com/</td>\n",
       "      <td>None</td>\n",
       "      <td>https://www.google.lt/</td>\n",
       "      <td>None</td>\n",
       "      <td>None</td>\n",
       "      <td>None</td>\n",
       "      <td>...</td>\n",
       "      <td>None</td>\n",
       "      <td>None</td>\n",
       "      <td>None</td>\n",
       "      <td>None</td>\n",
       "      <td>None</td>\n",
       "      <td>None</td>\n",
       "      <td>None</td>\n",
       "      <td>https://www.google.co.in/</td>\n",
       "      <td>None</td>\n",
       "      <td>None</td>\n",
       "    </tr>\n",
       "    <tr>\n",
       "      <th>hitType</th>\n",
       "      <td>PAGE</td>\n",
       "      <td>EVENT</td>\n",
       "      <td>PAGE</td>\n",
       "      <td>PAGE</td>\n",
       "      <td>PAGE</td>\n",
       "      <td>EVENT</td>\n",
       "      <td>PAGE</td>\n",
       "      <td>PAGE</td>\n",
       "      <td>PAGE</td>\n",
       "      <td>PAGE</td>\n",
       "      <td>...</td>\n",
       "      <td>PAGE</td>\n",
       "      <td>PAGE</td>\n",
       "      <td>PAGE</td>\n",
       "      <td>PAGE</td>\n",
       "      <td>PAGE</td>\n",
       "      <td>PAGE</td>\n",
       "      <td>PAGE</td>\n",
       "      <td>PAGE</td>\n",
       "      <td>PAGE</td>\n",
       "      <td>PAGE</td>\n",
       "    </tr>\n",
       "    <tr>\n",
       "      <th>hitAction_type</th>\n",
       "      <td>0</td>\n",
       "      <td>3</td>\n",
       "      <td>0</td>\n",
       "      <td>0</td>\n",
       "      <td>0</td>\n",
       "      <td>1</td>\n",
       "      <td>0</td>\n",
       "      <td>0</td>\n",
       "      <td>0</td>\n",
       "      <td>0</td>\n",
       "      <td>...</td>\n",
       "      <td>0</td>\n",
       "      <td>0</td>\n",
       "      <td>0</td>\n",
       "      <td>0</td>\n",
       "      <td>0</td>\n",
       "      <td>0</td>\n",
       "      <td>0</td>\n",
       "      <td>0</td>\n",
       "      <td>0</td>\n",
       "      <td>0</td>\n",
       "    </tr>\n",
       "    <tr>\n",
       "      <th>hitNumber</th>\n",
       "      <td>10</td>\n",
       "      <td>18</td>\n",
       "      <td>12</td>\n",
       "      <td>31</td>\n",
       "      <td>1</td>\n",
       "      <td>11</td>\n",
       "      <td>1</td>\n",
       "      <td>4</td>\n",
       "      <td>2</td>\n",
       "      <td>6</td>\n",
       "      <td>...</td>\n",
       "      <td>2</td>\n",
       "      <td>6</td>\n",
       "      <td>2</td>\n",
       "      <td>8</td>\n",
       "      <td>10</td>\n",
       "      <td>22</td>\n",
       "      <td>3</td>\n",
       "      <td>1</td>\n",
       "      <td>7</td>\n",
       "      <td>14</td>\n",
       "    </tr>\n",
       "    <tr>\n",
       "      <th>hitHour</th>\n",
       "      <td>15</td>\n",
       "      <td>14</td>\n",
       "      <td>13</td>\n",
       "      <td>12</td>\n",
       "      <td>23</td>\n",
       "      <td>19</td>\n",
       "      <td>13</td>\n",
       "      <td>15</td>\n",
       "      <td>17</td>\n",
       "      <td>8</td>\n",
       "      <td>...</td>\n",
       "      <td>18</td>\n",
       "      <td>8</td>\n",
       "      <td>22</td>\n",
       "      <td>9</td>\n",
       "      <td>12</td>\n",
       "      <td>15</td>\n",
       "      <td>15</td>\n",
       "      <td>21</td>\n",
       "      <td>15</td>\n",
       "      <td>15</td>\n",
       "    </tr>\n",
       "    <tr>\n",
       "      <th>hitMin</th>\n",
       "      <td>40</td>\n",
       "      <td>10</td>\n",
       "      <td>26</td>\n",
       "      <td>51</td>\n",
       "      <td>33</td>\n",
       "      <td>14</td>\n",
       "      <td>3</td>\n",
       "      <td>39</td>\n",
       "      <td>46</td>\n",
       "      <td>29</td>\n",
       "      <td>...</td>\n",
       "      <td>7</td>\n",
       "      <td>14</td>\n",
       "      <td>2</td>\n",
       "      <td>38</td>\n",
       "      <td>55</td>\n",
       "      <td>8</td>\n",
       "      <td>8</td>\n",
       "      <td>6</td>\n",
       "      <td>54</td>\n",
       "      <td>56</td>\n",
       "    </tr>\n",
       "    <tr>\n",
       "      <th>timeMicroSec</th>\n",
       "      <td>264371</td>\n",
       "      <td>305715</td>\n",
       "      <td>137426</td>\n",
       "      <td>324561</td>\n",
       "      <td>0</td>\n",
       "      <td>305746</td>\n",
       "      <td>0</td>\n",
       "      <td>82304</td>\n",
       "      <td>16380</td>\n",
       "      <td>136818</td>\n",
       "      <td>...</td>\n",
       "      <td>14532</td>\n",
       "      <td>25104</td>\n",
       "      <td>3212</td>\n",
       "      <td>106539</td>\n",
       "      <td>198713</td>\n",
       "      <td>335209</td>\n",
       "      <td>135731</td>\n",
       "      <td>0</td>\n",
       "      <td>167400</td>\n",
       "      <td>263195</td>\n",
       "    </tr>\n",
       "    <tr>\n",
       "      <th>v2ProductName</th>\n",
       "      <td>Google Kick Ball</td>\n",
       "      <td>Red Shine 15 oz Mug</td>\n",
       "      <td>Google Men's Airflow 1/4 Zip Pullover Black</td>\n",
       "      <td>Ballpoint LED Light Pen</td>\n",
       "      <td>YouTube Wool Heather Cap Heather/Black</td>\n",
       "      <td>Red Spiral Google Notebook</td>\n",
       "      <td>Android Rise 14 oz Mug</td>\n",
       "      <td>Compact Journal with Recycled Pages</td>\n",
       "      <td>Google Men's Vintage Tank</td>\n",
       "      <td>Google Men's Performance Full Zip Jacket Black</td>\n",
       "      <td>...</td>\n",
       "      <td>Google Trucker Hat</td>\n",
       "      <td>YouTube Women's Short Sleeve Crew Tee</td>\n",
       "      <td>Plastic Sliding Flashlight</td>\n",
       "      <td>Google Women's Convertible Vest-Jacket Sea Foa...</td>\n",
       "      <td>Google Women's 1/4 Zip Jacket Charcoal</td>\n",
       "      <td>Android 5-Panel Low Cap</td>\n",
       "      <td>Android Twill Cap</td>\n",
       "      <td>Google Men's Performance Polo Grey/Black</td>\n",
       "      <td>Google Twill Cap</td>\n",
       "      <td>Google Men's Vintage Badge Tee Black</td>\n",
       "    </tr>\n",
       "    <tr>\n",
       "      <th>productListName</th>\n",
       "      <td>Category</td>\n",
       "      <td>(not set)</td>\n",
       "      <td>Category</td>\n",
       "      <td>Category</td>\n",
       "      <td>Category</td>\n",
       "      <td>Category</td>\n",
       "      <td>Category</td>\n",
       "      <td>Category</td>\n",
       "      <td>Category</td>\n",
       "      <td>Category</td>\n",
       "      <td>...</td>\n",
       "      <td>Category</td>\n",
       "      <td>Category</td>\n",
       "      <td>Category</td>\n",
       "      <td>Category</td>\n",
       "      <td>Category</td>\n",
       "      <td>Category</td>\n",
       "      <td>Category</td>\n",
       "      <td>Category</td>\n",
       "      <td>Category</td>\n",
       "      <td>Category</td>\n",
       "    </tr>\n",
       "    <tr>\n",
       "      <th>isClick</th>\n",
       "      <td>None</td>\n",
       "      <td>None</td>\n",
       "      <td>None</td>\n",
       "      <td>None</td>\n",
       "      <td>None</td>\n",
       "      <td>True</td>\n",
       "      <td>None</td>\n",
       "      <td>None</td>\n",
       "      <td>None</td>\n",
       "      <td>None</td>\n",
       "      <td>...</td>\n",
       "      <td>None</td>\n",
       "      <td>None</td>\n",
       "      <td>None</td>\n",
       "      <td>None</td>\n",
       "      <td>None</td>\n",
       "      <td>None</td>\n",
       "      <td>None</td>\n",
       "      <td>None</td>\n",
       "      <td>None</td>\n",
       "      <td>None</td>\n",
       "    </tr>\n",
       "    <tr>\n",
       "      <th>isImpression</th>\n",
       "      <td>True</td>\n",
       "      <td>None</td>\n",
       "      <td>True</td>\n",
       "      <td>True</td>\n",
       "      <td>True</td>\n",
       "      <td>None</td>\n",
       "      <td>True</td>\n",
       "      <td>True</td>\n",
       "      <td>True</td>\n",
       "      <td>True</td>\n",
       "      <td>...</td>\n",
       "      <td>True</td>\n",
       "      <td>True</td>\n",
       "      <td>True</td>\n",
       "      <td>True</td>\n",
       "      <td>True</td>\n",
       "      <td>True</td>\n",
       "      <td>True</td>\n",
       "      <td>True</td>\n",
       "      <td>True</td>\n",
       "      <td>True</td>\n",
       "    </tr>\n",
       "    <tr>\n",
       "      <th>sessionQualityDim</th>\n",
       "      <td>NaN</td>\n",
       "      <td>NaN</td>\n",
       "      <td>NaN</td>\n",
       "      <td>NaN</td>\n",
       "      <td>NaN</td>\n",
       "      <td>NaN</td>\n",
       "      <td>NaN</td>\n",
       "      <td>NaN</td>\n",
       "      <td>NaN</td>\n",
       "      <td>NaN</td>\n",
       "      <td>...</td>\n",
       "      <td>NaN</td>\n",
       "      <td>NaN</td>\n",
       "      <td>NaN</td>\n",
       "      <td>NaN</td>\n",
       "      <td>NaN</td>\n",
       "      <td>NaN</td>\n",
       "      <td>1.0</td>\n",
       "      <td>NaN</td>\n",
       "      <td>NaN</td>\n",
       "      <td>NaN</td>\n",
       "    </tr>\n",
       "    <tr>\n",
       "      <th>timeOnScreen</th>\n",
       "      <td>None</td>\n",
       "      <td>None</td>\n",
       "      <td>None</td>\n",
       "      <td>None</td>\n",
       "      <td>None</td>\n",
       "      <td>None</td>\n",
       "      <td>None</td>\n",
       "      <td>None</td>\n",
       "      <td>None</td>\n",
       "      <td>None</td>\n",
       "      <td>...</td>\n",
       "      <td>None</td>\n",
       "      <td>None</td>\n",
       "      <td>None</td>\n",
       "      <td>None</td>\n",
       "      <td>None</td>\n",
       "      <td>None</td>\n",
       "      <td>None</td>\n",
       "      <td>None</td>\n",
       "      <td>None</td>\n",
       "      <td>None</td>\n",
       "    </tr>\n",
       "    <tr>\n",
       "      <th>timeOnSite</th>\n",
       "      <td>1897.0</td>\n",
       "      <td>1721.0</td>\n",
       "      <td>537.0</td>\n",
       "      <td>341.0</td>\n",
       "      <td>817.0</td>\n",
       "      <td>2293.0</td>\n",
       "      <td>NaN</td>\n",
       "      <td>547.0</td>\n",
       "      <td>16.0</td>\n",
       "      <td>182.0</td>\n",
       "      <td>...</td>\n",
       "      <td>42.0</td>\n",
       "      <td>58.0</td>\n",
       "      <td>3.0</td>\n",
       "      <td>218.0</td>\n",
       "      <td>789.0</td>\n",
       "      <td>349.0</td>\n",
       "      <td>325.0</td>\n",
       "      <td>NaN</td>\n",
       "      <td>263.0</td>\n",
       "      <td>263.0</td>\n",
       "    </tr>\n",
       "    <tr>\n",
       "      <th>totalTransactionRevenue</th>\n",
       "      <td>NaN</td>\n",
       "      <td>36980000.0</td>\n",
       "      <td>NaN</td>\n",
       "      <td>NaN</td>\n",
       "      <td>NaN</td>\n",
       "      <td>30980000.0</td>\n",
       "      <td>NaN</td>\n",
       "      <td>NaN</td>\n",
       "      <td>NaN</td>\n",
       "      <td>NaN</td>\n",
       "      <td>...</td>\n",
       "      <td>NaN</td>\n",
       "      <td>NaN</td>\n",
       "      <td>NaN</td>\n",
       "      <td>NaN</td>\n",
       "      <td>NaN</td>\n",
       "      <td>NaN</td>\n",
       "      <td>NaN</td>\n",
       "      <td>NaN</td>\n",
       "      <td>NaN</td>\n",
       "      <td>NaN</td>\n",
       "    </tr>\n",
       "  </tbody>\n",
       "</table>\n",
       "<p>24 rows × 925 columns</p>\n",
       "</div>"
      ],
      "text/plain": [
       "                                         0                    1    \\\n",
       "source                                google               google   \n",
       "isTrueDirect                            True                 True   \n",
       "sourceKeyword                 (not provided)       (not provided)   \n",
       "medium                               organic              organic   \n",
       "isVideoAd                               None                 None   \n",
       "fullVisitorId            4988612949713423910  4988612949713423910   \n",
       "visitId                           1489617360           1490043910   \n",
       "date                                20170315             20170320   \n",
       "newVisits                                NaN                  NaN   \n",
       "hitReferer                              None                 None   \n",
       "hitType                                 PAGE                EVENT   \n",
       "hitAction_type                             0                    3   \n",
       "hitNumber                                 10                   18   \n",
       "hitHour                                   15                   14   \n",
       "hitMin                                    40                   10   \n",
       "timeMicroSec                          264371               305715   \n",
       "v2ProductName               Google Kick Ball  Red Shine 15 oz Mug   \n",
       "productListName                     Category            (not set)   \n",
       "isClick                                 None                 None   \n",
       "isImpression                            True                 None   \n",
       "sessionQualityDim                        NaN                  NaN   \n",
       "timeOnScreen                            None                 None   \n",
       "timeOnSite                            1897.0               1721.0   \n",
       "totalTransactionRevenue                  NaN           36980000.0   \n",
       "\n",
       "                                                                 2    \\\n",
       "source                                                      (direct)   \n",
       "isTrueDirect                                                    True   \n",
       "sourceKeyword                                                   None   \n",
       "medium                                                        (none)   \n",
       "isVideoAd                                                       None   \n",
       "fullVisitorId                                    4992317753515158805   \n",
       "visitId                                                   1496175863   \n",
       "date                                                        20170530   \n",
       "newVisits                                                        1.0   \n",
       "hitReferer                                                      None   \n",
       "hitType                                                         PAGE   \n",
       "hitAction_type                                                     0   \n",
       "hitNumber                                                         12   \n",
       "hitHour                                                           13   \n",
       "hitMin                                                            26   \n",
       "timeMicroSec                                                  137426   \n",
       "v2ProductName            Google Men's Airflow 1/4 Zip Pullover Black   \n",
       "productListName                                             Category   \n",
       "isClick                                                         None   \n",
       "isImpression                                                    True   \n",
       "sessionQualityDim                                                NaN   \n",
       "timeOnScreen                                                    None   \n",
       "timeOnSite                                                     537.0   \n",
       "totalTransactionRevenue                                          NaN   \n",
       "\n",
       "                                             3    \\\n",
       "source                                  (direct)   \n",
       "isTrueDirect                                None   \n",
       "sourceKeyword                               None   \n",
       "medium                                    (none)   \n",
       "isVideoAd                                  False   \n",
       "fullVisitorId                4992772271736200092   \n",
       "visitId                               1478983581   \n",
       "date                                    20161112   \n",
       "newVisits                                    1.0   \n",
       "hitReferer                                  None   \n",
       "hitType                                     PAGE   \n",
       "hitAction_type                                 0   \n",
       "hitNumber                                     31   \n",
       "hitHour                                       12   \n",
       "hitMin                                        51   \n",
       "timeMicroSec                              324561   \n",
       "v2ProductName            Ballpoint LED Light Pen   \n",
       "productListName                         Category   \n",
       "isClick                                     None   \n",
       "isImpression                                True   \n",
       "sessionQualityDim                            NaN   \n",
       "timeOnScreen                                None   \n",
       "timeOnSite                                 341.0   \n",
       "totalTransactionRevenue                      NaN   \n",
       "\n",
       "                                                            4    \\\n",
       "source                                                   google   \n",
       "isTrueDirect                                               None   \n",
       "sourceKeyword                                    (not provided)   \n",
       "medium                                                  organic   \n",
       "isVideoAd                                                  None   \n",
       "fullVisitorId                               4992825232100275341   \n",
       "visitId                                              1493188415   \n",
       "date                                                   20170425   \n",
       "newVisits                                                   1.0   \n",
       "hitReferer                              https://www.google.com/   \n",
       "hitType                                                    PAGE   \n",
       "hitAction_type                                                0   \n",
       "hitNumber                                                     1   \n",
       "hitHour                                                      23   \n",
       "hitMin                                                       33   \n",
       "timeMicroSec                                                  0   \n",
       "v2ProductName            YouTube Wool Heather Cap Heather/Black   \n",
       "productListName                                        Category   \n",
       "isClick                                                    None   \n",
       "isImpression                                               True   \n",
       "sessionQualityDim                                           NaN   \n",
       "timeOnScreen                                               None   \n",
       "timeOnSite                                                817.0   \n",
       "totalTransactionRevenue                                     NaN   \n",
       "\n",
       "                                                5                       6    \\\n",
       "source                                     (direct)                  google   \n",
       "isTrueDirect                                   None                    None   \n",
       "sourceKeyword                                  None          (not provided)   \n",
       "medium                                       (none)                 organic   \n",
       "isVideoAd                                      None                    None   \n",
       "fullVisitorId                   4993450863033496114     4993876737142975317   \n",
       "visitId                                  1485313789              1493496187   \n",
       "date                                       20170124                20170429   \n",
       "newVisits                                       1.0                     1.0   \n",
       "hitReferer                                     None  https://www.google.lt/   \n",
       "hitType                                       EVENT                    PAGE   \n",
       "hitAction_type                                    1                       0   \n",
       "hitNumber                                        11                       1   \n",
       "hitHour                                          19                      13   \n",
       "hitMin                                           14                       3   \n",
       "timeMicroSec                                 305746                       0   \n",
       "v2ProductName            Red Spiral Google Notebook  Android Rise 14 oz Mug   \n",
       "productListName                            Category                Category   \n",
       "isClick                                        True                    None   \n",
       "isImpression                                   None                    True   \n",
       "sessionQualityDim                               NaN                     NaN   \n",
       "timeOnScreen                                   None                    None   \n",
       "timeOnSite                                   2293.0                     NaN   \n",
       "totalTransactionRevenue                  30980000.0                     NaN   \n",
       "\n",
       "                                                         7    \\\n",
       "source                                                google   \n",
       "isTrueDirect                                            None   \n",
       "sourceKeyword                                 (not provided)   \n",
       "medium                                               organic   \n",
       "isVideoAd                                               None   \n",
       "fullVisitorId                            4994319889838750000   \n",
       "visitId                                           1472164694   \n",
       "date                                                20160825   \n",
       "newVisits                                                1.0   \n",
       "hitReferer                                              None   \n",
       "hitType                                                 PAGE   \n",
       "hitAction_type                                             0   \n",
       "hitNumber                                                  4   \n",
       "hitHour                                                   15   \n",
       "hitMin                                                    39   \n",
       "timeMicroSec                                           82304   \n",
       "v2ProductName            Compact Journal with Recycled Pages   \n",
       "productListName                                     Category   \n",
       "isClick                                                 None   \n",
       "isImpression                                            True   \n",
       "sessionQualityDim                                        NaN   \n",
       "timeOnScreen                                            None   \n",
       "timeOnSite                                             547.0   \n",
       "totalTransactionRevenue                                  NaN   \n",
       "\n",
       "                                               8    \\\n",
       "source                                      google   \n",
       "isTrueDirect                                  None   \n",
       "sourceKeyword                        youtube merch   \n",
       "medium                                         cpc   \n",
       "isVideoAd                                    False   \n",
       "fullVisitorId                  4995251874694255755   \n",
       "visitId                                 1495500364   \n",
       "date                                      20170522   \n",
       "newVisits                                      1.0   \n",
       "hitReferer                                    None   \n",
       "hitType                                       PAGE   \n",
       "hitAction_type                                   0   \n",
       "hitNumber                                        2   \n",
       "hitHour                                         17   \n",
       "hitMin                                          46   \n",
       "timeMicroSec                                 16380   \n",
       "v2ProductName            Google Men's Vintage Tank   \n",
       "productListName                           Category   \n",
       "isClick                                       None   \n",
       "isImpression                                  True   \n",
       "sessionQualityDim                              NaN   \n",
       "timeOnScreen                                  None   \n",
       "timeOnSite                                    16.0   \n",
       "totalTransactionRevenue                        NaN   \n",
       "\n",
       "                                                                    9    ...  \\\n",
       "source                                                         (direct)  ...   \n",
       "isTrueDirect                                                       None  ...   \n",
       "sourceKeyword                                                      None  ...   \n",
       "medium                                                           (none)  ...   \n",
       "isVideoAd                                                          None  ...   \n",
       "fullVisitorId                                       4995356988620593823  ...   \n",
       "visitId                                                      1481560042  ...   \n",
       "date                                                           20161212  ...   \n",
       "newVisits                                                           1.0  ...   \n",
       "hitReferer                                                         None  ...   \n",
       "hitType                                                            PAGE  ...   \n",
       "hitAction_type                                                        0  ...   \n",
       "hitNumber                                                             6  ...   \n",
       "hitHour                                                               8  ...   \n",
       "hitMin                                                               29  ...   \n",
       "timeMicroSec                                                     136818  ...   \n",
       "v2ProductName            Google Men's Performance Full Zip Jacket Black  ...   \n",
       "productListName                                                Category  ...   \n",
       "isClick                                                            None  ...   \n",
       "isImpression                                                       True  ...   \n",
       "sessionQualityDim                                                   NaN  ...   \n",
       "timeOnScreen                                                       None  ...   \n",
       "timeOnSite                                                        182.0  ...   \n",
       "totalTransactionRevenue                                             NaN  ...   \n",
       "\n",
       "                                        915  \\\n",
       "source                          youtube.com   \n",
       "isTrueDirect                           None   \n",
       "sourceKeyword                          None   \n",
       "medium                             referral   \n",
       "isVideoAd                              None   \n",
       "fullVisitorId            548102970131289821   \n",
       "visitId                          1488334035   \n",
       "date                               20170228   \n",
       "newVisits                               1.0   \n",
       "hitReferer                             None   \n",
       "hitType                                PAGE   \n",
       "hitAction_type                            0   \n",
       "hitNumber                                 2   \n",
       "hitHour                                  18   \n",
       "hitMin                                    7   \n",
       "timeMicroSec                          14532   \n",
       "v2ProductName            Google Trucker Hat   \n",
       "productListName                    Category   \n",
       "isClick                                None   \n",
       "isImpression                           True   \n",
       "sessionQualityDim                       NaN   \n",
       "timeOnScreen                           None   \n",
       "timeOnSite                             42.0   \n",
       "totalTransactionRevenue                 NaN   \n",
       "\n",
       "                                                           916  \\\n",
       "source                                                  google   \n",
       "isTrueDirect                                              None   \n",
       "sourceKeyword                                   (not provided)   \n",
       "medium                                                 organic   \n",
       "isVideoAd                                                 None   \n",
       "fullVisitorId                              5482759080804282482   \n",
       "visitId                                             1471792462   \n",
       "date                                                  20160821   \n",
       "newVisits                                                  1.0   \n",
       "hitReferer                                                None   \n",
       "hitType                                                   PAGE   \n",
       "hitAction_type                                               0   \n",
       "hitNumber                                                    6   \n",
       "hitHour                                                      8   \n",
       "hitMin                                                      14   \n",
       "timeMicroSec                                             25104   \n",
       "v2ProductName            YouTube Women's Short Sleeve Crew Tee   \n",
       "productListName                                       Category   \n",
       "isClick                                                   None   \n",
       "isImpression                                              True   \n",
       "sessionQualityDim                                          NaN   \n",
       "timeOnScreen                                              None   \n",
       "timeOnSite                                                58.0   \n",
       "totalTransactionRevenue                                    NaN   \n",
       "\n",
       "                                                917  \\\n",
       "source                                  youtube.com   \n",
       "isTrueDirect                                   None   \n",
       "sourceKeyword                                  None   \n",
       "medium                                     referral   \n",
       "isVideoAd                                      None   \n",
       "fullVisitorId                   5482820136547373575   \n",
       "visitId                                  1483509740   \n",
       "date                                       20170103   \n",
       "newVisits                                       1.0   \n",
       "hitReferer                                     None   \n",
       "hitType                                        PAGE   \n",
       "hitAction_type                                    0   \n",
       "hitNumber                                         2   \n",
       "hitHour                                          22   \n",
       "hitMin                                            2   \n",
       "timeMicroSec                                   3212   \n",
       "v2ProductName            Plastic Sliding Flashlight   \n",
       "productListName                            Category   \n",
       "isClick                                        None   \n",
       "isImpression                                   True   \n",
       "sessionQualityDim                               NaN   \n",
       "timeOnScreen                                   None   \n",
       "timeOnSite                                      3.0   \n",
       "totalTransactionRevenue                         NaN   \n",
       "\n",
       "                                                                       918  \\\n",
       "source                                                            (direct)   \n",
       "isTrueDirect                                                          None   \n",
       "sourceKeyword                                                         None   \n",
       "medium                                                              (none)   \n",
       "isVideoAd                                                             None   \n",
       "fullVisitorId                                          5484144360559795874   \n",
       "visitId                                                         1479231404   \n",
       "date                                                              20161115   \n",
       "newVisits                                                              1.0   \n",
       "hitReferer                                                            None   \n",
       "hitType                                                               PAGE   \n",
       "hitAction_type                                                           0   \n",
       "hitNumber                                                                8   \n",
       "hitHour                                                                  9   \n",
       "hitMin                                                                  38   \n",
       "timeMicroSec                                                        106539   \n",
       "v2ProductName            Google Women's Convertible Vest-Jacket Sea Foa...   \n",
       "productListName                                                   Category   \n",
       "isClick                                                               None   \n",
       "isImpression                                                          True   \n",
       "sessionQualityDim                                                      NaN   \n",
       "timeOnScreen                                                          None   \n",
       "timeOnSite                                                           218.0   \n",
       "totalTransactionRevenue                                                NaN   \n",
       "\n",
       "                                                            919  \\\n",
       "source                                                      dfa   \n",
       "isTrueDirect                                               None   \n",
       "sourceKeyword                                              None   \n",
       "medium                                                      cpm   \n",
       "isVideoAd                                                  None   \n",
       "fullVisitorId                               5484144360559795874   \n",
       "visitId                                              1481143955   \n",
       "date                                                   20161207   \n",
       "newVisits                                                   NaN   \n",
       "hitReferer                                                 None   \n",
       "hitType                                                    PAGE   \n",
       "hitAction_type                                                0   \n",
       "hitNumber                                                    10   \n",
       "hitHour                                                      12   \n",
       "hitMin                                                       55   \n",
       "timeMicroSec                                             198713   \n",
       "v2ProductName            Google Women's 1/4 Zip Jacket Charcoal   \n",
       "productListName                                        Category   \n",
       "isClick                                                    None   \n",
       "isImpression                                               True   \n",
       "sessionQualityDim                                           NaN   \n",
       "timeOnScreen                                               None   \n",
       "timeOnSite                                                789.0   \n",
       "totalTransactionRevenue                                     NaN   \n",
       "\n",
       "                                             920                 921  \\\n",
       "source                               youtube.com            (direct)   \n",
       "isTrueDirect                                None                None   \n",
       "sourceKeyword                               None                None   \n",
       "medium                                  referral              (none)   \n",
       "isVideoAd                                   None                None   \n",
       "fullVisitorId                5484991115522820610  548545757162990083   \n",
       "visitId                               1486249397          1501625147   \n",
       "date                                    20170204            20170801   \n",
       "newVisits                                    1.0                 1.0   \n",
       "hitReferer                                  None                None   \n",
       "hitType                                     PAGE                PAGE   \n",
       "hitAction_type                                 0                   0   \n",
       "hitNumber                                     22                   3   \n",
       "hitHour                                       15                  15   \n",
       "hitMin                                         8                   8   \n",
       "timeMicroSec                              335209              135731   \n",
       "v2ProductName            Android 5-Panel Low Cap   Android Twill Cap   \n",
       "productListName                         Category            Category   \n",
       "isClick                                     None                None   \n",
       "isImpression                                True                True   \n",
       "sessionQualityDim                            NaN                 1.0   \n",
       "timeOnScreen                                None                None   \n",
       "timeOnSite                                 349.0               325.0   \n",
       "totalTransactionRevenue                      NaN                 NaN   \n",
       "\n",
       "                                                              922  \\\n",
       "source                                                     google   \n",
       "isTrueDirect                                                 None   \n",
       "sourceKeyword                                      (not provided)   \n",
       "medium                                                    organic   \n",
       "isVideoAd                                                    None   \n",
       "fullVisitorId                                 5485988366687211191   \n",
       "visitId                                                1489295209   \n",
       "date                                                     20170311   \n",
       "newVisits                                                     1.0   \n",
       "hitReferer                              https://www.google.co.in/   \n",
       "hitType                                                      PAGE   \n",
       "hitAction_type                                                  0   \n",
       "hitNumber                                                       1   \n",
       "hitHour                                                        21   \n",
       "hitMin                                                          6   \n",
       "timeMicroSec                                                    0   \n",
       "v2ProductName            Google Men's Performance Polo Grey/Black   \n",
       "productListName                                          Category   \n",
       "isClick                                                      None   \n",
       "isImpression                                                 True   \n",
       "sessionQualityDim                                             NaN   \n",
       "timeOnScreen                                                 None   \n",
       "timeOnSite                                                    NaN   \n",
       "totalTransactionRevenue                                       NaN   \n",
       "\n",
       "                                         923  \\\n",
       "source                                google   \n",
       "isTrueDirect                            None   \n",
       "sourceKeyword                 (not provided)   \n",
       "medium                               organic   \n",
       "isVideoAd                               None   \n",
       "fullVisitorId            5486542684848997564   \n",
       "visitId                           1474066322   \n",
       "date                                20160916   \n",
       "newVisits                                1.0   \n",
       "hitReferer                              None   \n",
       "hitType                                 PAGE   \n",
       "hitAction_type                             0   \n",
       "hitNumber                                  7   \n",
       "hitHour                                   15   \n",
       "hitMin                                    54   \n",
       "timeMicroSec                          167400   \n",
       "v2ProductName               Google Twill Cap   \n",
       "productListName                     Category   \n",
       "isClick                                 None   \n",
       "isImpression                            True   \n",
       "sessionQualityDim                        NaN   \n",
       "timeOnScreen                            None   \n",
       "timeOnSite                             263.0   \n",
       "totalTransactionRevenue                  NaN   \n",
       "\n",
       "                                                          924  \n",
       "source                                                 google  \n",
       "isTrueDirect                                             None  \n",
       "sourceKeyword                                  (not provided)  \n",
       "medium                                                organic  \n",
       "isVideoAd                                                None  \n",
       "fullVisitorId                             5486542684848997564  \n",
       "visitId                                            1474066322  \n",
       "date                                                 20160916  \n",
       "newVisits                                                 1.0  \n",
       "hitReferer                                               None  \n",
       "hitType                                                  PAGE  \n",
       "hitAction_type                                              0  \n",
       "hitNumber                                                  14  \n",
       "hitHour                                                    15  \n",
       "hitMin                                                     56  \n",
       "timeMicroSec                                           263195  \n",
       "v2ProductName            Google Men's Vintage Badge Tee Black  \n",
       "productListName                                      Category  \n",
       "isClick                                                  None  \n",
       "isImpression                                             True  \n",
       "sessionQualityDim                                         NaN  \n",
       "timeOnScreen                                             None  \n",
       "timeOnSite                                              263.0  \n",
       "totalTransactionRevenue                                   NaN  \n",
       "\n",
       "[24 rows x 925 columns]"
      ]
     },
     "execution_count": 15,
     "metadata": {},
     "output_type": "execute_result"
    }
   ],
   "source": [
    "raw_df.sample(0.001).toPandas().transpose()"
   ]
  },
  {
   "cell_type": "code",
   "execution_count": 16,
   "metadata": {
    "colab": {
     "base_uri": "https://localhost:8080/"
    },
    "id": "eH8yD5VU4X2_",
    "outputId": "e01aad4a-0439-4e36-8096-ed55b0bf9d00"
   },
   "outputs": [
    {
     "name": "stdout",
     "output_type": "stream",
     "text": [
      "root\n",
      " |-- source: string (nullable = true)\n",
      " |-- isTrueDirect: boolean (nullable = true)\n",
      " |-- sourceKeyword: string (nullable = true)\n",
      " |-- medium: string (nullable = true)\n",
      " |-- isVideoAd: boolean (nullable = true)\n",
      " |-- fullVisitorId: long (nullable = true)\n",
      " |-- visitId: integer (nullable = true)\n",
      " |-- date: integer (nullable = true)\n",
      " |-- newVisits: integer (nullable = true)\n",
      " |-- hitReferer: string (nullable = true)\n",
      " |-- hitType: string (nullable = true)\n",
      " |-- hitAction_type: integer (nullable = true)\n",
      " |-- hitNumber: integer (nullable = true)\n",
      " |-- hitHour: integer (nullable = true)\n",
      " |-- hitMin: integer (nullable = true)\n",
      " |-- timeMicroSec: integer (nullable = true)\n",
      " |-- v2ProductName: string (nullable = true)\n",
      " |-- productListName: string (nullable = true)\n",
      " |-- isClick: boolean (nullable = true)\n",
      " |-- isImpression: boolean (nullable = true)\n",
      " |-- sessionQualityDim: integer (nullable = true)\n",
      " |-- timeOnScreen: string (nullable = true)\n",
      " |-- timeOnSite: integer (nullable = true)\n",
      " |-- totalTransactionRevenue: long (nullable = true)\n",
      "\n"
     ]
    }
   ],
   "source": [
    "raw_df.printSchema()"
   ]
  },
  {
   "cell_type": "markdown",
   "metadata": {
    "id": "aYgYTdPgPcai"
   },
   "source": [
    "### Exploratory Data Analysis - Univariate Analysis\n",
    "\n"
   ]
  },
  {
   "cell_type": "code",
   "execution_count": 17,
   "metadata": {
    "colab": {
     "base_uri": "https://localhost:8080/",
     "height": 708
    },
    "id": "OITcXS_l4S9n",
    "outputId": "a97881b3-cc1a-4348-9278-27c3fdbb9ca3"
   },
   "outputs": [
    {
     "name": "stderr",
     "output_type": "stream",
     "text": [
      "                                                                                \r"
     ]
    },
    {
     "data": {
      "text/html": [
       "<div>\n",
       "<style scoped>\n",
       "    .dataframe tbody tr th:only-of-type {\n",
       "        vertical-align: middle;\n",
       "    }\n",
       "\n",
       "    .dataframe tbody tr th {\n",
       "        vertical-align: top;\n",
       "    }\n",
       "\n",
       "    .dataframe thead th {\n",
       "        text-align: right;\n",
       "    }\n",
       "</style>\n",
       "<table border=\"1\" class=\"dataframe\">\n",
       "  <thead>\n",
       "    <tr style=\"text-align: right;\">\n",
       "      <th></th>\n",
       "      <th>0</th>\n",
       "      <th>1</th>\n",
       "      <th>2</th>\n",
       "      <th>3</th>\n",
       "      <th>4</th>\n",
       "    </tr>\n",
       "  </thead>\n",
       "  <tbody>\n",
       "    <tr>\n",
       "      <th>summary</th>\n",
       "      <td>count</td>\n",
       "      <td>mean</td>\n",
       "      <td>stddev</td>\n",
       "      <td>min</td>\n",
       "      <td>max</td>\n",
       "    </tr>\n",
       "    <tr>\n",
       "      <th>source</th>\n",
       "      <td>917814</td>\n",
       "      <td>None</td>\n",
       "      <td>None</td>\n",
       "      <td>(direct)</td>\n",
       "      <td>youtube.com</td>\n",
       "    </tr>\n",
       "    <tr>\n",
       "      <th>sourceKeyword</th>\n",
       "      <td>322031</td>\n",
       "      <td>None</td>\n",
       "      <td>None</td>\n",
       "      <td>(Remarketing/Content targeting)</td>\n",
       "      <td>yyoutubr</td>\n",
       "    </tr>\n",
       "    <tr>\n",
       "      <th>medium</th>\n",
       "      <td>917814</td>\n",
       "      <td>None</td>\n",
       "      <td>None</td>\n",
       "      <td>(none)</td>\n",
       "      <td>referral</td>\n",
       "    </tr>\n",
       "    <tr>\n",
       "      <th>fullVisitorId</th>\n",
       "      <td>917814</td>\n",
       "      <td>4.7679506549928141E18</td>\n",
       "      <td>1.42707561410277837E18</td>\n",
       "      <td>514359656957582</td>\n",
       "      <td>5487531102128447544</td>\n",
       "    </tr>\n",
       "    <tr>\n",
       "      <th>visitId</th>\n",
       "      <td>917814</td>\n",
       "      <td>1.4828991660307045E9</td>\n",
       "      <td>9692290.975135243</td>\n",
       "      <td>1470037326</td>\n",
       "      <td>1501656575</td>\n",
       "    </tr>\n",
       "    <tr>\n",
       "      <th>date</th>\n",
       "      <td>917814</td>\n",
       "      <td>2.0165139267192483E7</td>\n",
       "      <td>4699.035428253378</td>\n",
       "      <td>20160801</td>\n",
       "      <td>20170801</td>\n",
       "    </tr>\n",
       "    <tr>\n",
       "      <th>newVisits</th>\n",
       "      <td>647359</td>\n",
       "      <td>1.0</td>\n",
       "      <td>0.0</td>\n",
       "      <td>1</td>\n",
       "      <td>1</td>\n",
       "    </tr>\n",
       "    <tr>\n",
       "      <th>hitReferer</th>\n",
       "      <td>119959</td>\n",
       "      <td>None</td>\n",
       "      <td>None</td>\n",
       "      <td>http://googleads.g.doubleclick.net/pagead/ads?...</td>\n",
       "      <td>https://youtube.com/yt/about/copyright/</td>\n",
       "    </tr>\n",
       "    <tr>\n",
       "      <th>hitType</th>\n",
       "      <td>917814</td>\n",
       "      <td>None</td>\n",
       "      <td>None</td>\n",
       "      <td>EVENT</td>\n",
       "      <td>PAGE</td>\n",
       "    </tr>\n",
       "    <tr>\n",
       "      <th>hitAction_type</th>\n",
       "      <td>917814</td>\n",
       "      <td>0.18108135199506653</td>\n",
       "      <td>0.7980562985767482</td>\n",
       "      <td>0</td>\n",
       "      <td>6</td>\n",
       "    </tr>\n",
       "    <tr>\n",
       "      <th>hitNumber</th>\n",
       "      <td>917814</td>\n",
       "      <td>11.936170073675058</td>\n",
       "      <td>19.048950870892316</td>\n",
       "      <td>1</td>\n",
       "      <td>239</td>\n",
       "    </tr>\n",
       "    <tr>\n",
       "      <th>hitHour</th>\n",
       "      <td>917814</td>\n",
       "      <td>12.427243428407063</td>\n",
       "      <td>5.993956058897788</td>\n",
       "      <td>0</td>\n",
       "      <td>23</td>\n",
       "    </tr>\n",
       "    <tr>\n",
       "      <th>hitMin</th>\n",
       "      <td>917814</td>\n",
       "      <td>29.86619620097318</td>\n",
       "      <td>17.25780109935462</td>\n",
       "      <td>0</td>\n",
       "      <td>59</td>\n",
       "    </tr>\n",
       "    <tr>\n",
       "      <th>timeMicroSec</th>\n",
       "      <td>917814</td>\n",
       "      <td>291059.62081097043</td>\n",
       "      <td>554542.5064780046</td>\n",
       "      <td>0</td>\n",
       "      <td>9963065</td>\n",
       "    </tr>\n",
       "    <tr>\n",
       "      <th>v2ProductName</th>\n",
       "      <td>917814</td>\n",
       "      <td>None</td>\n",
       "      <td>None</td>\n",
       "      <td>\"7\"\" Dog Frisbee\"</td>\n",
       "      <td>YouTube Youth Short Sleeve Tee Red</td>\n",
       "    </tr>\n",
       "    <tr>\n",
       "      <th>productListName</th>\n",
       "      <td>917814</td>\n",
       "      <td>None</td>\n",
       "      <td>None</td>\n",
       "      <td>(not set)</td>\n",
       "      <td>Search Results</td>\n",
       "    </tr>\n",
       "    <tr>\n",
       "      <th>sessionQualityDim</th>\n",
       "      <td>61782</td>\n",
       "      <td>18.657068401799876</td>\n",
       "      <td>27.512960054299242</td>\n",
       "      <td>1</td>\n",
       "      <td>94</td>\n",
       "    </tr>\n",
       "    <tr>\n",
       "      <th>timeOnScreen</th>\n",
       "      <td>0</td>\n",
       "      <td>None</td>\n",
       "      <td>None</td>\n",
       "      <td>None</td>\n",
       "      <td>None</td>\n",
       "    </tr>\n",
       "    <tr>\n",
       "      <th>timeOnSite</th>\n",
       "      <td>850509</td>\n",
       "      <td>660.041210616231</td>\n",
       "      <td>930.0535167228322</td>\n",
       "      <td>1</td>\n",
       "      <td>9963</td>\n",
       "    </tr>\n",
       "    <tr>\n",
       "      <th>totalTransactionRevenue</th>\n",
       "      <td>70300</td>\n",
       "      <td>1.978806652916074E8</td>\n",
       "      <td>4.625284848391805E8</td>\n",
       "      <td>6980000</td>\n",
       "      <td>5608400000</td>\n",
       "    </tr>\n",
       "  </tbody>\n",
       "</table>\n",
       "</div>"
      ],
      "text/plain": [
       "                              0                      1  \\\n",
       "summary                   count                   mean   \n",
       "source                   917814                   None   \n",
       "sourceKeyword            322031                   None   \n",
       "medium                   917814                   None   \n",
       "fullVisitorId            917814  4.7679506549928141E18   \n",
       "visitId                  917814   1.4828991660307045E9   \n",
       "date                     917814   2.0165139267192483E7   \n",
       "newVisits                647359                    1.0   \n",
       "hitReferer               119959                   None   \n",
       "hitType                  917814                   None   \n",
       "hitAction_type           917814    0.18108135199506653   \n",
       "hitNumber                917814     11.936170073675058   \n",
       "hitHour                  917814     12.427243428407063   \n",
       "hitMin                   917814      29.86619620097318   \n",
       "timeMicroSec             917814     291059.62081097043   \n",
       "v2ProductName            917814                   None   \n",
       "productListName          917814                   None   \n",
       "sessionQualityDim         61782     18.657068401799876   \n",
       "timeOnScreen                  0                   None   \n",
       "timeOnSite               850509       660.041210616231   \n",
       "totalTransactionRevenue   70300    1.978806652916074E8   \n",
       "\n",
       "                                              2  \\\n",
       "summary                                  stddev   \n",
       "source                                     None   \n",
       "sourceKeyword                              None   \n",
       "medium                                     None   \n",
       "fullVisitorId            1.42707561410277837E18   \n",
       "visitId                       9692290.975135243   \n",
       "date                          4699.035428253378   \n",
       "newVisits                                   0.0   \n",
       "hitReferer                                 None   \n",
       "hitType                                    None   \n",
       "hitAction_type               0.7980562985767482   \n",
       "hitNumber                    19.048950870892316   \n",
       "hitHour                       5.993956058897788   \n",
       "hitMin                        17.25780109935462   \n",
       "timeMicroSec                  554542.5064780046   \n",
       "v2ProductName                              None   \n",
       "productListName                            None   \n",
       "sessionQualityDim            27.512960054299242   \n",
       "timeOnScreen                               None   \n",
       "timeOnSite                    930.0535167228322   \n",
       "totalTransactionRevenue     4.625284848391805E8   \n",
       "\n",
       "                                                                         3  \\\n",
       "summary                                                                min   \n",
       "source                                                            (direct)   \n",
       "sourceKeyword                              (Remarketing/Content targeting)   \n",
       "medium                                                              (none)   \n",
       "fullVisitorId                                              514359656957582   \n",
       "visitId                                                         1470037326   \n",
       "date                                                              20160801   \n",
       "newVisits                                                                1   \n",
       "hitReferer               http://googleads.g.doubleclick.net/pagead/ads?...   \n",
       "hitType                                                              EVENT   \n",
       "hitAction_type                                                           0   \n",
       "hitNumber                                                                1   \n",
       "hitHour                                                                  0   \n",
       "hitMin                                                                   0   \n",
       "timeMicroSec                                                             0   \n",
       "v2ProductName                                            \"7\"\" Dog Frisbee\"   \n",
       "productListName                                                  (not set)   \n",
       "sessionQualityDim                                                        1   \n",
       "timeOnScreen                                                          None   \n",
       "timeOnSite                                                               1   \n",
       "totalTransactionRevenue                                            6980000   \n",
       "\n",
       "                                                               4  \n",
       "summary                                                      max  \n",
       "source                                               youtube.com  \n",
       "sourceKeyword                                           yyoutubr  \n",
       "medium                                                  referral  \n",
       "fullVisitorId                                5487531102128447544  \n",
       "visitId                                               1501656575  \n",
       "date                                                    20170801  \n",
       "newVisits                                                      1  \n",
       "hitReferer               https://youtube.com/yt/about/copyright/  \n",
       "hitType                                                     PAGE  \n",
       "hitAction_type                                                 6  \n",
       "hitNumber                                                    239  \n",
       "hitHour                                                       23  \n",
       "hitMin                                                        59  \n",
       "timeMicroSec                                             9963065  \n",
       "v2ProductName                 YouTube Youth Short Sleeve Tee Red  \n",
       "productListName                                   Search Results  \n",
       "sessionQualityDim                                             94  \n",
       "timeOnScreen                                                None  \n",
       "timeOnSite                                                  9963  \n",
       "totalTransactionRevenue                               5608400000  "
      ]
     },
     "execution_count": 17,
     "metadata": {},
     "output_type": "execute_result"
    }
   ],
   "source": [
    "raw_df.describe().toPandas().transpose()"
   ]
  },
  {
   "cell_type": "code",
   "execution_count": 18,
   "metadata": {
    "colab": {
     "base_uri": "https://localhost:8080/"
    },
    "id": "N1lRvEZVXS6I",
    "outputId": "d23f753d-8cc5-467b-f4ab-e1bedcc923a8"
   },
   "outputs": [
    {
     "name": "stdout",
     "output_type": "stream",
     "text": [
      "Numeric columns: ['visitId', 'date', 'newVisits', 'hitAction_type', 'hitNumber', 'hitHour', 'hitMin', 'timeMicroSec', 'sessionQualityDim', 'timeOnSite']\n",
      "Non-numeric columns: ['source', 'isTrueDirect', 'sourceKeyword', 'medium', 'isVideoAd', 'fullVisitorId', 'hitReferer', 'hitType', 'v2ProductName', 'productListName', 'isClick', 'isImpression', 'timeOnScreen', 'totalTransactionRevenue']\n"
     ]
    }
   ],
   "source": [
    "from pyspark.sql.types import IntegerType, FloatType\n",
    "\n",
    "numeric_columns = []\n",
    "non_numeric_columns = []\n",
    "\n",
    "for col_name in raw_df.columns:\n",
    "    # Check if the column type is numeric\n",
    "    if isinstance(raw_df.schema[col_name].dataType, IntegerType) or isinstance(raw_df.schema[col_name].dataType, FloatType):\n",
    "        numeric_columns.append(col_name)\n",
    "    else:\n",
    "        non_numeric_columns.append(col_name)\n",
    "\n",
    "print(f\"Numeric columns: {numeric_columns}\")\n",
    "print(f\"Non-numeric columns: {non_numeric_columns}\")\n"
   ]
  },
  {
   "cell_type": "code",
   "execution_count": 19,
   "metadata": {
    "colab": {
     "base_uri": "https://localhost:8080/"
    },
    "id": "FBN4Umn0ddll",
    "outputId": "bf67adf0-c302-4139-f4cb-cb2546f98d46"
   },
   "outputs": [
    {
     "data": {
      "text/plain": [
       "['visitId',\n",
       " 'date',\n",
       " 'newVisits',\n",
       " 'hitAction_type',\n",
       " 'hitNumber',\n",
       " 'hitHour',\n",
       " 'hitMin',\n",
       " 'timeMicroSec',\n",
       " 'sessionQualityDim',\n",
       " 'timeOnSite']"
      ]
     },
     "execution_count": 19,
     "metadata": {},
     "output_type": "execute_result"
    }
   ],
   "source": [
    "numeric_columns"
   ]
  },
  {
   "cell_type": "code",
   "execution_count": 20,
   "metadata": {
    "colab": {
     "base_uri": "https://localhost:8080/"
    },
    "id": "1sjoch0EddiO",
    "outputId": "671fdc90-1630-4934-948e-442dccf94a6b"
   },
   "outputs": [
    {
     "data": {
      "text/plain": [
       "['source',\n",
       " 'isTrueDirect',\n",
       " 'sourceKeyword',\n",
       " 'medium',\n",
       " 'isVideoAd',\n",
       " 'fullVisitorId',\n",
       " 'hitReferer',\n",
       " 'hitType',\n",
       " 'v2ProductName',\n",
       " 'productListName',\n",
       " 'isClick',\n",
       " 'isImpression',\n",
       " 'timeOnScreen',\n",
       " 'totalTransactionRevenue']"
      ]
     },
     "execution_count": 20,
     "metadata": {},
     "output_type": "execute_result"
    }
   ],
   "source": [
    "non_numeric_columns"
   ]
  },
  {
   "cell_type": "code",
   "execution_count": 21,
   "metadata": {
    "colab": {
     "base_uri": "https://localhost:8080/",
     "height": 363
    },
    "id": "Gw9w5uaZdl5G",
    "outputId": "b171184a-f2ac-4245-957a-956f7dd7a19c"
   },
   "outputs": [
    {
     "name": "stderr",
     "output_type": "stream",
     "text": [
      "                                                                                \r"
     ]
    },
    {
     "data": {
      "text/html": [
       "<div>\n",
       "<style scoped>\n",
       "    .dataframe tbody tr th:only-of-type {\n",
       "        vertical-align: middle;\n",
       "    }\n",
       "\n",
       "    .dataframe tbody tr th {\n",
       "        vertical-align: top;\n",
       "    }\n",
       "\n",
       "    .dataframe thead th {\n",
       "        text-align: right;\n",
       "    }\n",
       "</style>\n",
       "<table border=\"1\" class=\"dataframe\">\n",
       "  <thead>\n",
       "    <tr style=\"text-align: right;\">\n",
       "      <th></th>\n",
       "      <th>0</th>\n",
       "    </tr>\n",
       "  </thead>\n",
       "  <tbody>\n",
       "    <tr>\n",
       "      <th>visitId</th>\n",
       "      <td>0</td>\n",
       "    </tr>\n",
       "    <tr>\n",
       "      <th>date</th>\n",
       "      <td>0</td>\n",
       "    </tr>\n",
       "    <tr>\n",
       "      <th>newVisits</th>\n",
       "      <td>270455</td>\n",
       "    </tr>\n",
       "    <tr>\n",
       "      <th>hitAction_type</th>\n",
       "      <td>0</td>\n",
       "    </tr>\n",
       "    <tr>\n",
       "      <th>hitNumber</th>\n",
       "      <td>0</td>\n",
       "    </tr>\n",
       "    <tr>\n",
       "      <th>hitHour</th>\n",
       "      <td>0</td>\n",
       "    </tr>\n",
       "    <tr>\n",
       "      <th>hitMin</th>\n",
       "      <td>0</td>\n",
       "    </tr>\n",
       "    <tr>\n",
       "      <th>timeMicroSec</th>\n",
       "      <td>0</td>\n",
       "    </tr>\n",
       "    <tr>\n",
       "      <th>sessionQualityDim</th>\n",
       "      <td>856032</td>\n",
       "    </tr>\n",
       "    <tr>\n",
       "      <th>timeOnSite</th>\n",
       "      <td>67305</td>\n",
       "    </tr>\n",
       "  </tbody>\n",
       "</table>\n",
       "</div>"
      ],
      "text/plain": [
       "                        0\n",
       "visitId                 0\n",
       "date                    0\n",
       "newVisits          270455\n",
       "hitAction_type          0\n",
       "hitNumber               0\n",
       "hitHour                 0\n",
       "hitMin                  0\n",
       "timeMicroSec            0\n",
       "sessionQualityDim  856032\n",
       "timeOnSite          67305"
      ]
     },
     "execution_count": 21,
     "metadata": {},
     "output_type": "execute_result"
    }
   ],
   "source": [
    "from pyspark.sql.functions import count, when, isnan, col\n",
    "# Check for null values\n",
    "raw_df.select(numeric_columns).select([count(when(isnan(c) | col(c).isNull(), c)).alias(c) \\\n",
    "                                       for c in raw_df.select(numeric_columns).columns]).toPandas().transpose()"
   ]
  },
  {
   "cell_type": "code",
   "execution_count": 22,
   "metadata": {
    "colab": {
     "base_uri": "https://localhost:8080/"
    },
    "id": "thb_RtxnfZ0x",
    "outputId": "7f87e425-a30e-4fb8-b8b5-2bd6a664b354"
   },
   "outputs": [
    {
     "name": "stderr",
     "output_type": "stream",
     "text": [
      "                                                                                \r"
     ]
    },
    {
     "name": "stdout",
     "output_type": "stream",
     "text": [
      "+-----------------+------+\n",
      "|sessionQualityDim| count|\n",
      "+-----------------+------+\n",
      "|               31|    45|\n",
      "|               85|   250|\n",
      "|               65|   211|\n",
      "|               53|   366|\n",
      "|               78|   134|\n",
      "|               34|   269|\n",
      "|               81|   427|\n",
      "|               28|    89|\n",
      "|               76|   492|\n",
      "|               26|   180|\n",
      "|               27|   128|\n",
      "|               44|   596|\n",
      "|               12|   451|\n",
      "|               91|   148|\n",
      "|               22|   189|\n",
      "|               47|   184|\n",
      "|             null|856032|\n",
      "|                1| 28967|\n",
      "|               52|    37|\n",
      "|               13|   141|\n",
      "+-----------------+------+\n",
      "only showing top 20 rows\n",
      "\n"
     ]
    }
   ],
   "source": [
    "raw_df.groupBy('sessionQualityDim').count().show()\n",
    "\n",
    "## สังเกตว่า หลักการเรื่อง Imputation ด้วย Avg หรือ Agg.func. ไม่สามารถนำมาใช้ได้เสมอไป\n",
    "## ลองคิดดูว่า หาก Avg('sessionQualityDim') แล้วได้ค่าหนึ่ง คำถามคือ ค่านั้นนำมาแทน null\n",
    "## จริงหรือ?"
   ]
  },
  {
   "cell_type": "code",
   "execution_count": 23,
   "metadata": {
    "colab": {
     "base_uri": "https://localhost:8080/"
    },
    "id": "q3pIb9ongPp1",
    "outputId": "1f1ceeb1-38fd-4537-fc89-e68b587e5e61"
   },
   "outputs": [
    {
     "name": "stderr",
     "output_type": "stream",
     "text": [
      "                                                                                \r"
     ]
    },
    {
     "name": "stdout",
     "output_type": "stream",
     "text": [
      "+---------+------+\n",
      "|newVisits| count|\n",
      "+---------+------+\n",
      "|     null|270455|\n",
      "|        1|647359|\n",
      "+---------+------+\n",
      "\n"
     ]
    },
    {
     "name": "stderr",
     "output_type": "stream",
     "text": [
      "                                                                                \r"
     ]
    }
   ],
   "source": [
    "raw_df.groupBy('newVisits').count().show()"
   ]
  },
  {
   "cell_type": "code",
   "execution_count": 24,
   "metadata": {
    "id": "NsiAg0UMgPm-"
   },
   "outputs": [],
   "source": [
    "from pyspark.sql import functions as sparkf\n",
    "\n",
    "noNull_df = raw_df.withColumn('newVisits',sparkf.when(sparkf.col('newVisits').isNull(),'NA')\\\n",
    "                  .otherwise(sparkf.col('newVisits')))\\\n",
    "                  .withColumn('sessionQualityDim',sparkf.when(sparkf.col('sessionQualityDim').isNull(),'NA')\\\n",
    "                  .otherwise(sparkf.col('sessionQualityDim')))\\\n",
    "                  .withColumn('timeOnSite',sparkf.when(sparkf.col('timeOnSite').isNull(),0)\\\n",
    "                  .otherwise(sparkf.col('timeOnSite')))\\\n",
    "                  .withColumn('totalTransactionRevenue',sparkf.when(sparkf.col('totalTransactionRevenue').isNull(),0)\\\n",
    "                  .otherwise(sparkf.col('totalTransactionRevenue')))"
   ]
  },
  {
   "cell_type": "code",
   "execution_count": 25,
   "metadata": {
    "colab": {
     "base_uri": "https://localhost:8080/",
     "height": 363
    },
    "id": "XvqV_zPQozPo",
    "outputId": "f9e83a45-2300-4c21-f33b-3937ced6dd62"
   },
   "outputs": [
    {
     "name": "stderr",
     "output_type": "stream",
     "text": [
      "                                                                                \r"
     ]
    },
    {
     "data": {
      "text/html": [
       "<div>\n",
       "<style scoped>\n",
       "    .dataframe tbody tr th:only-of-type {\n",
       "        vertical-align: middle;\n",
       "    }\n",
       "\n",
       "    .dataframe tbody tr th {\n",
       "        vertical-align: top;\n",
       "    }\n",
       "\n",
       "    .dataframe thead th {\n",
       "        text-align: right;\n",
       "    }\n",
       "</style>\n",
       "<table border=\"1\" class=\"dataframe\">\n",
       "  <thead>\n",
       "    <tr style=\"text-align: right;\">\n",
       "      <th></th>\n",
       "      <th>0</th>\n",
       "    </tr>\n",
       "  </thead>\n",
       "  <tbody>\n",
       "    <tr>\n",
       "      <th>visitId</th>\n",
       "      <td>0</td>\n",
       "    </tr>\n",
       "    <tr>\n",
       "      <th>date</th>\n",
       "      <td>0</td>\n",
       "    </tr>\n",
       "    <tr>\n",
       "      <th>newVisits</th>\n",
       "      <td>0</td>\n",
       "    </tr>\n",
       "    <tr>\n",
       "      <th>hitAction_type</th>\n",
       "      <td>0</td>\n",
       "    </tr>\n",
       "    <tr>\n",
       "      <th>hitNumber</th>\n",
       "      <td>0</td>\n",
       "    </tr>\n",
       "    <tr>\n",
       "      <th>hitHour</th>\n",
       "      <td>0</td>\n",
       "    </tr>\n",
       "    <tr>\n",
       "      <th>hitMin</th>\n",
       "      <td>0</td>\n",
       "    </tr>\n",
       "    <tr>\n",
       "      <th>timeMicroSec</th>\n",
       "      <td>0</td>\n",
       "    </tr>\n",
       "    <tr>\n",
       "      <th>sessionQualityDim</th>\n",
       "      <td>0</td>\n",
       "    </tr>\n",
       "    <tr>\n",
       "      <th>timeOnSite</th>\n",
       "      <td>0</td>\n",
       "    </tr>\n",
       "  </tbody>\n",
       "</table>\n",
       "</div>"
      ],
      "text/plain": [
       "                   0\n",
       "visitId            0\n",
       "date               0\n",
       "newVisits          0\n",
       "hitAction_type     0\n",
       "hitNumber          0\n",
       "hitHour            0\n",
       "hitMin             0\n",
       "timeMicroSec       0\n",
       "sessionQualityDim  0\n",
       "timeOnSite         0"
      ]
     },
     "execution_count": 25,
     "metadata": {},
     "output_type": "execute_result"
    }
   ],
   "source": [
    "noNull_df.select(numeric_columns).select([count(when(isnan(c) | col(c).isNull(), c)).alias(c) \\\n",
    "                                       for c in noNull_df.select(numeric_columns).columns]).toPandas().transpose()"
   ]
  },
  {
   "cell_type": "code",
   "execution_count": 26,
   "metadata": {
    "id": "HXu2tLK2pioo"
   },
   "outputs": [],
   "source": [
    "### raw_df.printSchema()"
   ]
  },
  {
   "cell_type": "code",
   "execution_count": 27,
   "metadata": {
    "id": "rUfSHo_DozEs"
   },
   "outputs": [],
   "source": [
    "### noNull_df.printSchema()"
   ]
  },
  {
   "cell_type": "code",
   "execution_count": 28,
   "metadata": {
    "colab": {
     "base_uri": "https://localhost:8080/"
    },
    "id": "_-4k4ob1rKzb",
    "outputId": "6fa4408e-8de2-4977-b731-d008084570e1"
   },
   "outputs": [
    {
     "name": "stdout",
     "output_type": "stream",
     "text": [
      "Numeric columns: ['visitId', 'date', 'hitAction_type', 'hitNumber', 'hitHour', 'hitMin', 'timeMicroSec', 'timeOnSite']\n",
      "Non-numeric columns: ['source', 'isTrueDirect', 'sourceKeyword', 'medium', 'isVideoAd', 'fullVisitorId', 'newVisits', 'hitReferer', 'hitType', 'v2ProductName', 'productListName', 'isClick', 'isImpression', 'sessionQualityDim', 'timeOnScreen', 'totalTransactionRevenue']\n"
     ]
    }
   ],
   "source": [
    "from pyspark.sql.types import IntegerType, FloatType\n",
    "\n",
    "numeric_columns = []\n",
    "non_numeric_columns = []\n",
    "\n",
    "for col_name in noNull_df.columns:\n",
    "    # Check if the column type is numeric\n",
    "    if isinstance(noNull_df.schema[col_name].dataType, IntegerType) or isinstance(noNull_df.schema[col_name].dataType, FloatType):\n",
    "        numeric_columns.append(col_name)\n",
    "    else:\n",
    "        non_numeric_columns.append(col_name)\n",
    "\n",
    "print(f\"Numeric columns: {numeric_columns}\")\n",
    "print(f\"Non-numeric columns: {non_numeric_columns}\")"
   ]
  },
  {
   "cell_type": "code",
   "execution_count": 29,
   "metadata": {
    "colab": {
     "base_uri": "https://localhost:8080/"
    },
    "id": "SqrO2yNSXS2_",
    "outputId": "d5f9a203-b08a-442f-b140-ee18b30a1120"
   },
   "outputs": [
    {
     "name": "stderr",
     "output_type": "stream",
     "text": [
      "                                                                                \r"
     ]
    },
    {
     "name": "stdout",
     "output_type": "stream",
     "text": [
      "Column visitId has 0 outliers\n"
     ]
    },
    {
     "name": "stderr",
     "output_type": "stream",
     "text": [
      "                                                                                \r"
     ]
    },
    {
     "name": "stdout",
     "output_type": "stream",
     "text": [
      "Column date has 0 outliers\n"
     ]
    },
    {
     "name": "stderr",
     "output_type": "stream",
     "text": [
      "                                                                                \r"
     ]
    },
    {
     "name": "stdout",
     "output_type": "stream",
     "text": [
      "Column hitAction_type has 63911 outliers\n"
     ]
    },
    {
     "name": "stderr",
     "output_type": "stream",
     "text": [
      "                                                                                \r"
     ]
    },
    {
     "name": "stdout",
     "output_type": "stream",
     "text": [
      "Column hitNumber has 107855 outliers\n"
     ]
    },
    {
     "name": "stderr",
     "output_type": "stream",
     "text": [
      "                                                                                \r"
     ]
    },
    {
     "name": "stdout",
     "output_type": "stream",
     "text": [
      "Column hitHour has 0 outliers\n"
     ]
    },
    {
     "name": "stderr",
     "output_type": "stream",
     "text": [
      "                                                                                \r"
     ]
    },
    {
     "name": "stdout",
     "output_type": "stream",
     "text": [
      "Column hitMin has 0 outliers\n"
     ]
    },
    {
     "name": "stderr",
     "output_type": "stream",
     "text": [
      "                                                                                \r"
     ]
    },
    {
     "name": "stdout",
     "output_type": "stream",
     "text": [
      "Column timeMicroSec has 108522 outliers\n"
     ]
    },
    {
     "name": "stderr",
     "output_type": "stream",
     "text": [
      "[Stage 53:==============>                                           (1 + 3) / 4]\r"
     ]
    },
    {
     "name": "stdout",
     "output_type": "stream",
     "text": [
      "Column timeOnSite has 70879 outliers\n"
     ]
    },
    {
     "name": "stderr",
     "output_type": "stream",
     "text": [
      "                                                                                \r"
     ]
    }
   ],
   "source": [
    "from pyspark.sql.functions import col\n",
    "\n",
    "# Calculate Q1, Q3, and IQR for each numeric column\n",
    "for col_name in numeric_columns:\n",
    "    quantiles = raw_df.stat.approxQuantile(col_name, [0.25, 0.75], 0.05)\n",
    "    Q1 = quantiles[0]\n",
    "    Q3 = quantiles[1]\n",
    "    IQR = Q3 - Q1\n",
    "\n",
    "    # Filter values out of the (Q1 - 1.5 * IQR, Q3 + 1.5 * IQR) range\n",
    "    outliers = raw_df.filter((col(col_name) < Q1 - 1.5 * IQR) | (col(col_name) > Q3 + 1.5 * IQR))\n",
    "    print(f\"Column {col_name} has {outliers.count()} outliers\")\n"
   ]
  },
  {
   "cell_type": "code",
   "execution_count": 30,
   "metadata": {
    "colab": {
     "base_uri": "https://localhost:8080/"
    },
    "id": "_jeRJHzgXS0I",
    "outputId": "fd1b3acb-fdcf-4272-dc55-8821110cee47"
   },
   "outputs": [
    {
     "name": "stderr",
     "output_type": "stream",
     "text": [
      "                                                                                \r"
     ]
    },
    {
     "name": "stdout",
     "output_type": "stream",
     "text": [
      "Column visitId has 0 outliers\n"
     ]
    },
    {
     "name": "stderr",
     "output_type": "stream",
     "text": [
      "                                                                                \r"
     ]
    },
    {
     "name": "stdout",
     "output_type": "stream",
     "text": [
      "Column date has 0 outliers\n"
     ]
    },
    {
     "name": "stderr",
     "output_type": "stream",
     "text": [
      "                                                                                \r"
     ]
    },
    {
     "name": "stdout",
     "output_type": "stream",
     "text": [
      "Column hitAction_type has 0 outliers\n"
     ]
    },
    {
     "name": "stderr",
     "output_type": "stream",
     "text": [
      "                                                                                \r"
     ]
    },
    {
     "name": "stdout",
     "output_type": "stream",
     "text": [
      "Column hitNumber has 122 outliers\n"
     ]
    },
    {
     "name": "stderr",
     "output_type": "stream",
     "text": [
      "                                                                                \r"
     ]
    },
    {
     "name": "stdout",
     "output_type": "stream",
     "text": [
      "Column hitHour has 57903 outliers\n"
     ]
    },
    {
     "name": "stderr",
     "output_type": "stream",
     "text": [
      "                                                                                \r"
     ]
    },
    {
     "name": "stdout",
     "output_type": "stream",
     "text": [
      "Column hitMin has 42814 outliers\n"
     ]
    },
    {
     "name": "stderr",
     "output_type": "stream",
     "text": [
      "                                                                                \r"
     ]
    },
    {
     "name": "stdout",
     "output_type": "stream",
     "text": [
      "Column timeMicroSec has 1471 outliers\n"
     ]
    },
    {
     "name": "stderr",
     "output_type": "stream",
     "text": [
      "[Stage 77:==============>                                           (1 + 3) / 4]\r"
     ]
    },
    {
     "name": "stdout",
     "output_type": "stream",
     "text": [
      "Column timeOnSite has 8389 outliers\n"
     ]
    },
    {
     "name": "stderr",
     "output_type": "stream",
     "text": [
      "                                                                                \r"
     ]
    }
   ],
   "source": [
    "from pyspark.sql.functions import log\n",
    "\n",
    "# Initialize DataFrame\n",
    "takeLog_df = noNull_df\n",
    "\n",
    "# Loop through each numeric column and take log to fix skewness\n",
    "for col in numeric_columns:\n",
    "    takeLog_df = takeLog_df.withColumn(col, log(takeLog_df[col]))\n",
    "\n",
    "# Check outliers\n",
    "for col in numeric_columns:\n",
    "    bounds = {\n",
    "        c: dict(\n",
    "            zip([\"q1\", \"q3\"], takeLog_df.approxQuantile(c, [0.25, 0.75], 0))\n",
    "        )\n",
    "        for c in [col]\n",
    "    }\n",
    "\n",
    "    for c in bounds:\n",
    "        iqr = bounds[c]['q3'] - bounds[c]['q1']\n",
    "        bounds[c]['lower'] = bounds[c]['q1'] - (iqr * 1.5)\n",
    "        bounds[c]['upper'] = bounds[c]['q3'] + (iqr * 1.5)\n",
    "        print(f\"Column {c} has {takeLog_df.filter((takeLog_df[c] < bounds[c]['lower']) | (takeLog_df[c] > bounds[c]['upper'])).count()} outliers\")\n"
   ]
  },
  {
   "cell_type": "code",
   "execution_count": 31,
   "metadata": {
    "colab": {
     "base_uri": "https://localhost:8080/"
    },
    "id": "ZUqoZyD1Be4T",
    "outputId": "b8e3ba14-fec3-49ee-e6f1-3ece43e53df0"
   },
   "outputs": [
    {
     "data": {
      "text/plain": [
       "['visitId',\n",
       " 'date',\n",
       " 'hitAction_type',\n",
       " 'hitNumber',\n",
       " 'hitHour',\n",
       " 'hitMin',\n",
       " 'timeMicroSec',\n",
       " 'timeOnSite']"
      ]
     },
     "execution_count": 31,
     "metadata": {},
     "output_type": "execute_result"
    }
   ],
   "source": [
    "numeric_columns"
   ]
  },
  {
   "cell_type": "raw",
   "metadata": {
    "colab": {
     "base_uri": "https://localhost:8080/"
    },
    "id": "adK2zYToZDzB",
    "outputId": "c369a2ab-fb47-4884-a7af-d207c1f9b05f"
   },
   "source": [
    "from pyspark.ml.feature import VectorAssembler, StandardScaler\n",
    "from pyspark.ml.linalg import Vectors, VectorUDT\n",
    "from pyspark.sql.functions import col, abs, udf\n",
    "\n",
    "# สร้าง UDF (User Defined Function) ในการแปลง Vector เป็น float\n",
    "vector_to_float_udf = udf(lambda vector: float(vector[0]), FloatType())\n",
    "\n",
    "# สร้าง StandardScaler object\n",
    "scaler = StandardScaler(inputCol=\"features\", outputCol=\"scaledFeatures\", withStd=True, withMean=True)\n",
    "\n",
    "# เริ่มต้นด้วย DataFrame ที่ไม่มี Null\n",
    "zScore_df = noNull_df\n",
    "\n",
    "# สร้าง dataframe ที่จะถูก scale\n",
    "for c in numeric_columns:\n",
    "    # ใส่คอลัมน์ที่คำนวณได้ลงใน VectorAssembler\n",
    "    assembler = VectorAssembler(inputCols=[c], outputCol=\"features\")\n",
    "    output = assembler.transform(zScore_df)\n",
    "    \n",
    "    # คำนวณ statistics และแปลง data ด้วย StandardScaler\n",
    "    scalerModel = scaler.fit(output)\n",
    "    scaledData = scalerModel.transform(output)\n",
    "    \n",
    "    # เพิ่ม column z-score ไปยัง dataframe ที่มีอยู่แล้ว\n",
    "    zScore_df = scaledData.withColumn(f'{c}_zscore', vector_to_float_udf('scaledFeatures'))\n",
    "    \n",
    "    # ลบคอลัมน์ที่ไม่ใช้แล้วออกจาก DataFrame\n",
    "    zScore_df = zScore_df.drop('features', 'scaledFeatures')\n",
    "\n",
    "# หา outlier ด้วยการแสดงรายการที่มี z-score > 3 หรือ < -3\n",
    "for c in numeric_columns:\n",
    "    outliers = zScore_df.filter((abs(col(f'{c}_zscore')) > 3))\n",
    "    print(f'Column {c} has {outliers.count()} outliers')\n",
    "\n",
    "# แสดง DataFrame ใหม่\n",
    "zScore_df.show()\n",
    "\n"
   ]
  },
  {
   "cell_type": "code",
   "execution_count": 32,
   "metadata": {
    "colab": {
     "base_uri": "https://localhost:8080/"
    },
    "id": "YYi01CBcGNJm",
    "outputId": "ce646d2f-439d-4f48-ab7a-3fedc57cade2"
   },
   "outputs": [
    {
     "name": "stderr",
     "output_type": "stream",
     "text": [
      "[Stage 86:>                                                         (0 + 4) / 4]\r"
     ]
    },
    {
     "name": "stdout",
     "output_type": "stream",
     "text": [
      "Number of rows after removing outliers: 612294\n"
     ]
    },
    {
     "name": "stderr",
     "output_type": "stream",
     "text": [
      "                                                                                \r"
     ]
    }
   ],
   "source": [
    "from pyspark.sql.functions import col\n",
    "\n",
    "# สร้าง DataFrame ใหม่เพื่อจัดการ outlier\n",
    "filtered_dfs = {}\n",
    "filtered_dfs[numeric_columns[0]] = noNull_df\n",
    "\n",
    "# ทำการกรอง outliers ออกจาก DataFrame\n",
    "for idx, c in enumerate(numeric_columns[1:], start=1):\n",
    "    # คำนวณ IQR\n",
    "    Q1, Q3 = filtered_dfs[numeric_columns[idx-1]].approxQuantile(c, [0.25, 0.75], 0.05)\n",
    "    IQR = Q3 - Q1\n",
    "\n",
    "    # กำหนดระดับที่จะถือว่าเป็น outliers\n",
    "    lower_bound = Q1 - 1.5 * IQR\n",
    "    upper_bound = Q3 + 1.5 * IQR\n",
    "\n",
    "    # กรอง outliers ออกจาก DataFrame และสร้าง DataFrame ใหม่\n",
    "    filtered_dfs[c] = filtered_dfs[numeric_columns[idx-1]].filter((col(c) >= lower_bound) & (col(c) <= upper_bound))\n",
    "\n",
    "noOutlier_df = filtered_dfs[numeric_columns[-1]]\n",
    "\n",
    "print(f\"Number of rows after removing outliers: {noOutlier_df.count()}\")\n"
   ]
  },
  {
   "cell_type": "code",
   "execution_count": null,
   "metadata": {
    "id": "oNNG0XoJGNGe"
   },
   "outputs": [],
   "source": []
  },
  {
   "cell_type": "code",
   "execution_count": null,
   "metadata": {
    "id": "STrttelVGNDm"
   },
   "outputs": [],
   "source": []
  },
  {
   "cell_type": "code",
   "execution_count": null,
   "metadata": {
    "id": "27PrdYvdGNAf"
   },
   "outputs": [],
   "source": []
  },
  {
   "cell_type": "code",
   "execution_count": null,
   "metadata": {
    "id": "QsHTYg4qGM9p"
   },
   "outputs": [],
   "source": []
  },
  {
   "cell_type": "code",
   "execution_count": null,
   "metadata": {
    "id": "8F571yy4GM6f"
   },
   "outputs": [],
   "source": []
  },
  {
   "cell_type": "code",
   "execution_count": null,
   "metadata": {
    "id": "L6KU0mlzGM3X"
   },
   "outputs": [],
   "source": []
  },
  {
   "cell_type": "code",
   "execution_count": null,
   "metadata": {
    "id": "rne4MR-cGM0i"
   },
   "outputs": [],
   "source": []
  },
  {
   "cell_type": "code",
   "execution_count": 33,
   "metadata": {
    "colab": {
     "base_uri": "https://localhost:8080/"
    },
    "id": "g0O4gulVh86Q",
    "outputId": "daa1fac4-e7ed-4fff-ad22-4cfaf691acf7"
   },
   "outputs": [
    {
     "name": "stderr",
     "output_type": "stream",
     "text": [
      "                                                                                \r"
     ]
    },
    {
     "name": "stdout",
     "output_type": "stream",
     "text": [
      "+--------------------+------+\n",
      "|              source| count|\n",
      "+--------------------+------+\n",
      "|            (direct)|502654|\n",
      "|              google|320612|\n",
      "|         youtube.com| 34750|\n",
      "|            Partners|  9949|\n",
      "|                 dfa|  8696|\n",
      "|analytics.google.com|  6144|\n",
      "|          google.com|  4537|\n",
      "|    sites.google.com|  3866|\n",
      "|siliconvalley.abo...|  3399|\n",
      "|      m.facebook.com|  2283|\n",
      "|        facebook.com|  2073|\n",
      "|          reddit.com|  1978|\n",
      "|     mail.google.com|  1833|\n",
      "|                bing|  1543|\n",
      "|           qiita.com|  1496|\n",
      "|               yahoo|  1441|\n",
      "|           quora.com|  1252|\n",
      "|                t.co|   996|\n",
      "|   groups.google.com|   950|\n",
      "|      l.facebook.com|   517|\n",
      "+--------------------+------+\n",
      "only showing top 20 rows\n",
      "\n"
     ]
    },
    {
     "name": "stderr",
     "output_type": "stream",
     "text": [
      "                                                                                \r"
     ]
    },
    {
     "name": "stdout",
     "output_type": "stream",
     "text": [
      "+------------+------+\n",
      "|isTrueDirect| count|\n",
      "+------------+------+\n",
      "|        null|580491|\n",
      "|        true|337323|\n",
      "+------------+------+\n",
      "\n"
     ]
    },
    {
     "name": "stderr",
     "output_type": "stream",
     "text": [
      "                                                                                \r"
     ]
    },
    {
     "name": "stdout",
     "output_type": "stream",
     "text": [
      "+--------------------+------+\n",
      "|       sourceKeyword| count|\n",
      "+--------------------+------+\n",
      "|                null|595783|\n",
      "|      (not provided)|296422|\n",
      "|    6qEhsCssdK0z36ri| 12471|\n",
      "|  Google Merchandise|  2529|\n",
      "|    1hZbAqLCbjwfgOH7|  2273|\n",
      "|google merchandis...|  2061|\n",
      "|    category_l1==166|   457|\n",
      "|(Remarketing/Cont...|   373|\n",
      "|    1X4Me6ZKNV0zg-jV|   330|\n",
      "|googlemerchandise...|   323|\n",
      "|             youtube|   207|\n",
      "|+google +merchand...|   201|\n",
      "|        google merch|   198|\n",
      "|         google stor|   171|\n",
      "|       youtube merch|   169|\n",
      "|+Google +Merchandise|   164|\n",
      "|Google Merchandis...|   164|\n",
      "|      +google +store|   162|\n",
      "|             Youtube|   140|\n",
      "|        google store|   121|\n",
      "+--------------------+------+\n",
      "only showing top 20 rows\n",
      "\n"
     ]
    },
    {
     "name": "stderr",
     "output_type": "stream",
     "text": [
      "                                                                                \r"
     ]
    },
    {
     "name": "stdout",
     "output_type": "stream",
     "text": [
      "+---------+------+\n",
      "|   medium| count|\n",
      "+---------+------+\n",
      "|   (none)|502654|\n",
      "|  organic|302345|\n",
      "| referral| 72078|\n",
      "|      cpc| 21580|\n",
      "|affiliate|  9949|\n",
      "|      cpm|  9136|\n",
      "|(not set)|    72|\n",
      "+---------+------+\n",
      "\n"
     ]
    },
    {
     "name": "stderr",
     "output_type": "stream",
     "text": [
      "                                                                                \r"
     ]
    },
    {
     "name": "stdout",
     "output_type": "stream",
     "text": [
      "+---------+------+\n",
      "|isVideoAd| count|\n",
      "+---------+------+\n",
      "|     null|885422|\n",
      "|    false| 32392|\n",
      "+---------+------+\n",
      "\n"
     ]
    },
    {
     "name": "stderr",
     "output_type": "stream",
     "text": [
      "                                                                                \r"
     ]
    },
    {
     "name": "stdout",
     "output_type": "stream",
     "text": [
      "+-------------------+-----+\n",
      "|      fullVisitorId|count|\n",
      "+-------------------+-----+\n",
      "|5456301402188625337| 3416|\n",
      "|5208937953046059083| 2377|\n",
      "|5399906287295745418| 2338|\n",
      "|5310912563447452038| 1792|\n",
      "|5370310992308515600| 1777|\n",
      "|5143600689169444167| 1651|\n",
      "|5217792392522047587| 1605|\n",
      "|4998444590527389280| 1550|\n",
      "|5479405825116961439| 1482|\n",
      "|5174129705003851738| 1472|\n",
      "|5341271361784611942| 1443|\n",
      "|5305785224618680102| 1413|\n",
      "|5423659711610895780| 1267|\n",
      "|5002959687839673544| 1211|\n",
      "|5128888224452873031| 1179|\n",
      "|5315382266855883329| 1164|\n",
      "|5457033415990547887| 1143|\n",
      "| 506797253390432707| 1094|\n",
      "|5391968741622668774| 1081|\n",
      "|5031234556107572838| 1081|\n",
      "+-------------------+-----+\n",
      "only showing top 20 rows\n",
      "\n"
     ]
    },
    {
     "name": "stderr",
     "output_type": "stream",
     "text": [
      "                                                                                \r"
     ]
    },
    {
     "name": "stdout",
     "output_type": "stream",
     "text": [
      "+----------+-----+\n",
      "|   visitId|count|\n",
      "+----------+-----+\n",
      "|1487093395| 1777|\n",
      "|1472342843| 1306|\n",
      "|1474845319|  995|\n",
      "|1473902040|  986|\n",
      "|1471629165|  950|\n",
      "|1474799746|  924|\n",
      "|1472479074|  920|\n",
      "|1472343066|  919|\n",
      "|1473468179|  913|\n",
      "|1479842010|  867|\n",
      "|1481587574|  817|\n",
      "|1478550894|  793|\n",
      "|1473022577|  790|\n",
      "|1470432463|  786|\n",
      "|1471836187|  781|\n",
      "|1474775547|  779|\n",
      "|1471884865|  775|\n",
      "|1471752880|  773|\n",
      "|1473181908|  755|\n",
      "|1483021729|  753|\n",
      "+----------+-----+\n",
      "only showing top 20 rows\n",
      "\n"
     ]
    },
    {
     "name": "stderr",
     "output_type": "stream",
     "text": [
      "                                                                                \r"
     ]
    },
    {
     "name": "stdout",
     "output_type": "stream",
     "text": [
      "+--------+-----+\n",
      "|    date|count|\n",
      "+--------+-----+\n",
      "|20160815| 8733|\n",
      "|20160914| 8693|\n",
      "|20160822| 8214|\n",
      "|20160831| 7571|\n",
      "|20160804| 7514|\n",
      "|20160816| 7394|\n",
      "|20160811| 7300|\n",
      "|20160823| 6858|\n",
      "|20160906| 6836|\n",
      "|20160921| 6828|\n",
      "|20160907| 6598|\n",
      "|20160913| 6506|\n",
      "|20160812| 6430|\n",
      "|20160902| 6246|\n",
      "|20160809| 6237|\n",
      "|20160817| 6064|\n",
      "|20160827| 6021|\n",
      "|20160802| 5946|\n",
      "|20160805| 5946|\n",
      "|20160909| 5633|\n",
      "+--------+-----+\n",
      "only showing top 20 rows\n",
      "\n"
     ]
    },
    {
     "name": "stderr",
     "output_type": "stream",
     "text": [
      "                                                                                \r"
     ]
    },
    {
     "name": "stdout",
     "output_type": "stream",
     "text": [
      "+---------+------+\n",
      "|newVisits| count|\n",
      "+---------+------+\n",
      "|        1|647359|\n",
      "|     null|270455|\n",
      "+---------+------+\n",
      "\n"
     ]
    },
    {
     "name": "stderr",
     "output_type": "stream",
     "text": [
      "                                                                                \r"
     ]
    },
    {
     "name": "stdout",
     "output_type": "stream",
     "text": [
      "+--------------------+------+\n",
      "|          hitReferer| count|\n",
      "+--------------------+------+\n",
      "|                null|797855|\n",
      "|https://www.googl...| 38623|\n",
      "|https://www.googl...|  7437|\n",
      "|https://www.youtu...|  7204|\n",
      "|https://www.googl...|  6743|\n",
      "|https://www.googl...|  3560|\n",
      "|https://www.googl...|  2873|\n",
      "|https://www.googl...|  2854|\n",
      "|http://www.google...|  2356|\n",
      "|https://www.googl...|  1912|\n",
      "|https://www.googl...|  1909|\n",
      "|https://www.googl...|  1573|\n",
      "|https://www.googl...|  1329|\n",
      "|https://www.googl...|  1200|\n",
      "|https://www.googl...|   968|\n",
      "|https://www.googl...|   967|\n",
      "|https://www.googl...|   845|\n",
      "|https://www.googl...|   839|\n",
      "|https://www.googl...|   768|\n",
      "|https://www.googl...|   764|\n",
      "+--------------------+------+\n",
      "only showing top 20 rows\n",
      "\n"
     ]
    },
    {
     "name": "stderr",
     "output_type": "stream",
     "text": [
      "                                                                                \r"
     ]
    },
    {
     "name": "stdout",
     "output_type": "stream",
     "text": [
      "+-------+------+\n",
      "|hitType| count|\n",
      "+-------+------+\n",
      "|   PAGE|886585|\n",
      "|  EVENT| 31229|\n",
      "+-------+------+\n",
      "\n"
     ]
    },
    {
     "name": "stderr",
     "output_type": "stream",
     "text": [
      "[Stage 110:>                                                        (0 + 4) / 4]\r"
     ]
    },
    {
     "name": "stdout",
     "output_type": "stream",
     "text": [
      "+--------------+------+\n",
      "|hitAction_type| count|\n",
      "+--------------+------+\n",
      "|             0|853903|\n",
      "|             1| 22253|\n",
      "|             2| 18313|\n",
      "|             5| 12380|\n",
      "|             3|  6200|\n",
      "|             6|  3880|\n",
      "|             4|   885|\n",
      "+--------------+------+\n",
      "\n"
     ]
    },
    {
     "name": "stderr",
     "output_type": "stream",
     "text": [
      "                                                                                \r"
     ]
    },
    {
     "name": "stdout",
     "output_type": "stream",
     "text": [
      "+---------+------+\n",
      "|hitNumber| count|\n",
      "+---------+------+\n",
      "|        1|128949|\n",
      "|        3|104988|\n",
      "|        2|101344|\n",
      "|        4| 75432|\n",
      "|        5| 54931|\n",
      "|        6| 45212|\n",
      "|        7| 40069|\n",
      "|        8| 33037|\n",
      "|        9| 28159|\n",
      "|       10| 24166|\n",
      "|       11| 21807|\n",
      "|       12| 18867|\n",
      "|       13| 17060|\n",
      "|       14| 14858|\n",
      "|       15| 13635|\n",
      "|       16| 12554|\n",
      "|       17| 11389|\n",
      "|       18| 10054|\n",
      "|       19|  9889|\n",
      "|       20|  8821|\n",
      "+---------+------+\n",
      "only showing top 20 rows\n",
      "\n"
     ]
    },
    {
     "name": "stderr",
     "output_type": "stream",
     "text": [
      "[Stage 115:===================================================> (196 + 4) / 200]\r"
     ]
    },
    {
     "name": "stdout",
     "output_type": "stream",
     "text": [
      "+-------+-----+\n",
      "|hitHour|count|\n",
      "+-------+-----+\n",
      "|     11|64196|\n",
      "|     10|60383|\n",
      "|     13|57946|\n",
      "|     14|54553|\n",
      "|     12|53822|\n",
      "|      9|48343|\n",
      "|      8|45227|\n",
      "|     16|44962|\n",
      "|     15|43676|\n",
      "|     18|39950|\n",
      "|     17|39395|\n",
      "|     20|39173|\n",
      "|      7|37065|\n",
      "|     22|34531|\n",
      "|     19|34193|\n",
      "|     21|33678|\n",
      "|     23|31245|\n",
      "|      6|30732|\n",
      "|      5|24574|\n",
      "|      0|23328|\n",
      "+-------+-----+\n",
      "only showing top 20 rows\n",
      "\n"
     ]
    },
    {
     "name": "stderr",
     "output_type": "stream",
     "text": [
      "                                                                                \r"
     ]
    },
    {
     "name": "stdout",
     "output_type": "stream",
     "text": [
      "+------+-----+\n",
      "|hitMin|count|\n",
      "+------+-----+\n",
      "|    21|16750|\n",
      "|    43|16699|\n",
      "|    58|16398|\n",
      "|    23|16368|\n",
      "|    52|16307|\n",
      "|    41|16248|\n",
      "|    30|16110|\n",
      "|    57|16085|\n",
      "|    54|16050|\n",
      "|    36|15954|\n",
      "|    56|15943|\n",
      "|    28|15817|\n",
      "|    53|15790|\n",
      "|    26|15789|\n",
      "|    20|15767|\n",
      "|     9|15726|\n",
      "|    35|15698|\n",
      "|    40|15657|\n",
      "|     6|15593|\n",
      "|    42|15579|\n",
      "+------+-----+\n",
      "only showing top 20 rows\n",
      "\n"
     ]
    },
    {
     "name": "stderr",
     "output_type": "stream",
     "text": [
      "                                                                                \r"
     ]
    },
    {
     "name": "stdout",
     "output_type": "stream",
     "text": [
      "+------------+------+\n",
      "|timeMicroSec| count|\n",
      "+------------+------+\n",
      "|           0|129394|\n",
      "|       13598|    80|\n",
      "|        9553|    80|\n",
      "|       11300|    80|\n",
      "|      374888|    80|\n",
      "|       13027|    80|\n",
      "|       11756|    79|\n",
      "|       13796|    79|\n",
      "|       17138|    73|\n",
      "|           1|    72|\n",
      "|       56918|    71|\n",
      "|       33192|    70|\n",
      "|        8860|    70|\n",
      "|       32959|    70|\n",
      "|       97580|    70|\n",
      "|       11187|    69|\n",
      "|       27902|    68|\n",
      "|      534363|    68|\n",
      "|        8751|    68|\n",
      "|       10930|    68|\n",
      "+------------+------+\n",
      "only showing top 20 rows\n",
      "\n"
     ]
    },
    {
     "name": "stderr",
     "output_type": "stream",
     "text": [
      "                                                                                \r"
     ]
    },
    {
     "name": "stdout",
     "output_type": "stream",
     "text": [
      "+--------------------+-----+\n",
      "|       v2ProductName|count|\n",
      "+--------------------+-----+\n",
      "|Google Men's 100%...|15365|\n",
      "|22 oz YouTube Bot...|10277|\n",
      "|YouTube Men's Sho...|10125|\n",
      "|YouTube Custom De...| 9866|\n",
      "|Google Men's 100%...| 9319|\n",
      "|YouTube Men's Sho...| 9286|\n",
      "|   YouTube Twill Cap| 9252|\n",
      "|Google Men's 100%...| 9227|\n",
      "|Electronics Acces...| 8507|\n",
      "|YouTube Men's Sho...| 7970|\n",
      "|YouTube Wool Heat...| 7968|\n",
      "|Google Laptop and...| 7866|\n",
      "|YouTube Leatheret...| 7599|\n",
      "|Google Men's  Zip...| 7392|\n",
      "| YouTube Trucker Hat| 7285|\n",
      "|Google Men's Wate...| 7100|\n",
      "|Suitcase Organize...| 7014|\n",
      "|Google Men's 100%...| 6847|\n",
      "|Google Alpine Sty...| 6602|\n",
      "|Google Men's Vint...| 6565|\n",
      "+--------------------+-----+\n",
      "only showing top 20 rows\n",
      "\n"
     ]
    },
    {
     "name": "stderr",
     "output_type": "stream",
     "text": [
      "                                                                                \r"
     ]
    },
    {
     "name": "stdout",
     "output_type": "stream",
     "text": [
      "+----------------+------+\n",
      "| productListName| count|\n",
      "+----------------+------+\n",
      "|        Category|847919|\n",
      "|Related Products| 28085|\n",
      "|       (not set)| 23657|\n",
      "|  Search Results| 18153|\n",
      "+----------------+------+\n",
      "\n"
     ]
    },
    {
     "name": "stderr",
     "output_type": "stream",
     "text": [
      "                                                                                \r"
     ]
    },
    {
     "name": "stdout",
     "output_type": "stream",
     "text": [
      "+-------+------+\n",
      "|isClick| count|\n",
      "+-------+------+\n",
      "|   null|895561|\n",
      "|   true| 22253|\n",
      "+-------+------+\n",
      "\n"
     ]
    },
    {
     "name": "stderr",
     "output_type": "stream",
     "text": [
      "                                                                                \r"
     ]
    },
    {
     "name": "stdout",
     "output_type": "stream",
     "text": [
      "+------------+------+\n",
      "|isImpression| count|\n",
      "+------------+------+\n",
      "|        true|853903|\n",
      "|        null| 63911|\n",
      "+------------+------+\n",
      "\n"
     ]
    },
    {
     "name": "stderr",
     "output_type": "stream",
     "text": [
      "                                                                                \r"
     ]
    },
    {
     "name": "stdout",
     "output_type": "stream",
     "text": [
      "+-----------------+------+\n",
      "|sessionQualityDim| count|\n",
      "+-----------------+------+\n",
      "|             null|856032|\n",
      "|                1| 28967|\n",
      "|                2|  4177|\n",
      "|                3|  1816|\n",
      "|                4|  1641|\n",
      "|                5|  1529|\n",
      "|                7|   825|\n",
      "|                6|   824|\n",
      "|               68|   679|\n",
      "|               19|   601|\n",
      "|               44|   596|\n",
      "|               10|   596|\n",
      "|                8|   569|\n",
      "|               77|   561|\n",
      "|               76|   492|\n",
      "|               80|   478|\n",
      "|               54|   466|\n",
      "|                9|   462|\n",
      "|               12|   451|\n",
      "|               62|   433|\n",
      "+-----------------+------+\n",
      "only showing top 20 rows\n",
      "\n"
     ]
    },
    {
     "name": "stderr",
     "output_type": "stream",
     "text": [
      "[Stage 130:==========================================>              (3 + 1) / 4]\r"
     ]
    },
    {
     "name": "stdout",
     "output_type": "stream",
     "text": [
      "+------------+------+\n",
      "|timeOnScreen| count|\n",
      "+------------+------+\n",
      "|        null|917814|\n",
      "+------------+------+\n",
      "\n"
     ]
    },
    {
     "name": "stderr",
     "output_type": "stream",
     "text": [
      "                                                                                \r"
     ]
    },
    {
     "name": "stdout",
     "output_type": "stream",
     "text": [
      "+----------+-----+\n",
      "|timeOnSite|count|\n",
      "+----------+-----+\n",
      "|      null|67305|\n",
      "|        64| 2333|\n",
      "|        67| 2264|\n",
      "|        24| 2246|\n",
      "|        55| 2230|\n",
      "|        54| 2214|\n",
      "|        13| 2212|\n",
      "|        26| 2210|\n",
      "|       106| 2188|\n",
      "|       158| 2174|\n",
      "|        87| 2120|\n",
      "|        56| 2120|\n",
      "|        90| 2119|\n",
      "|        38| 2117|\n",
      "|        35| 2113|\n",
      "|      2469| 2099|\n",
      "|        86| 2070|\n",
      "|        52| 2060|\n",
      "|       215| 2045|\n",
      "|       169| 2026|\n",
      "+----------+-----+\n",
      "only showing top 20 rows\n",
      "\n"
     ]
    },
    {
     "name": "stderr",
     "output_type": "stream",
     "text": [
      "                                                                                \r"
     ]
    },
    {
     "name": "stdout",
     "output_type": "stream",
     "text": [
      "+-----------------------+------+\n",
      "|totalTransactionRevenue| count|\n",
      "+-----------------------+------+\n",
      "|                   null|847514|\n",
      "|              186860000|   950|\n",
      "|              220520000|   920|\n",
      "|              681400000|   817|\n",
      "|              192440000|   786|\n",
      "|               81980000|   704|\n",
      "|              108630000|   671|\n",
      "|               32950000|   652|\n",
      "|               79150000|   644|\n",
      "|              355970000|   626|\n",
      "|              208640000|   583|\n",
      "|               80060000|   579|\n",
      "|              127380000|   577|\n",
      "|               54000000|   569|\n",
      "|              150340000|   565|\n",
      "|              101940000|   556|\n",
      "|               29980000|   540|\n",
      "|              216630000|   524|\n",
      "|              307740000|   522|\n",
      "|               28980000|   511|\n",
      "+-----------------------+------+\n",
      "only showing top 20 rows\n",
      "\n"
     ]
    }
   ],
   "source": [
    "for a in business_requiredCol_list:\n",
    "  raw_df.groupBy(a).count().orderBy('count',ascending = False).show()"
   ]
  },
  {
   "cell_type": "code",
   "execution_count": 34,
   "metadata": {
    "colab": {
     "base_uri": "https://localhost:8080/"
    },
    "id": "0mqNh_RohAJ1",
    "outputId": "51b35ea0-5987-467d-a30c-5df04905629a"
   },
   "outputs": [
    {
     "name": "stderr",
     "output_type": "stream",
     "text": [
      "[Stage 136:==========================================>              (3 + 1) / 4]\r"
     ]
    },
    {
     "name": "stdout",
     "output_type": "stream",
     "text": [
      "+--------------+------+\n",
      "|hitAction_type| count|\n",
      "+--------------+------+\n",
      "|             0|853903|\n",
      "|             1| 22253|\n",
      "|             2| 18313|\n",
      "|             3|  6200|\n",
      "|             4|   885|\n",
      "|             5| 12380|\n",
      "|             6|  3880|\n",
      "+--------------+------+\n",
      "\n"
     ]
    },
    {
     "name": "stderr",
     "output_type": "stream",
     "text": [
      "                                                                                \r"
     ]
    }
   ],
   "source": [
    "raw_df.groupBy('hitAction_type').count().orderBy('hitAction_type').show()"
   ]
  },
  {
   "cell_type": "code",
   "execution_count": 35,
   "metadata": {
    "colab": {
     "base_uri": "https://localhost:8080/"
    },
    "id": "4nrpUb6tNDDX",
    "outputId": "722dc84a-4adb-49a9-9390-b9904ece682c"
   },
   "outputs": [
    {
     "name": "stderr",
     "output_type": "stream",
     "text": [
      "                                                                                \r"
     ]
    },
    {
     "name": "stdout",
     "output_type": "stream",
     "text": [
      "+------------+------+\n",
      "|isTrueDirect| count|\n",
      "+------------+------+\n",
      "|        null|580491|\n",
      "|        true|337323|\n",
      "+------------+------+\n",
      "\n"
     ]
    }
   ],
   "source": [
    "raw_df.groupBy('isTrueDirect').count().show()"
   ]
  },
  {
   "cell_type": "code",
   "execution_count": 36,
   "metadata": {
    "colab": {
     "base_uri": "https://localhost:8080/"
    },
    "id": "hceyKkVYORcJ",
    "outputId": "6419f437-d282-495b-ade9-2a77b1e07db4"
   },
   "outputs": [
    {
     "name": "stderr",
     "output_type": "stream",
     "text": [
      "                                                                                \r"
     ]
    },
    {
     "name": "stdout",
     "output_type": "stream",
     "text": [
      "+---------+------+\n",
      "|   medium| count|\n",
      "+---------+------+\n",
      "|   (none)|502654|\n",
      "|      cpc| 21580|\n",
      "| referral| 72078|\n",
      "|  organic|302345|\n",
      "|affiliate|  9949|\n",
      "|(not set)|    72|\n",
      "|      cpm|  9136|\n",
      "+---------+------+\n",
      "\n"
     ]
    }
   ],
   "source": [
    "raw_df.groupBy('medium').count().show()"
   ]
  },
  {
   "cell_type": "code",
   "execution_count": 37,
   "metadata": {
    "colab": {
     "base_uri": "https://localhost:8080/",
     "height": 708
    },
    "id": "v3BCykqaCp_V",
    "outputId": "047972f1-08e6-47bd-8706-f9f4dd1a4112"
   },
   "outputs": [
    {
     "name": "stderr",
     "output_type": "stream",
     "text": [
      "                                                                                \r"
     ]
    },
    {
     "data": {
      "text/html": [
       "<div>\n",
       "<style scoped>\n",
       "    .dataframe tbody tr th:only-of-type {\n",
       "        vertical-align: middle;\n",
       "    }\n",
       "\n",
       "    .dataframe tbody tr th {\n",
       "        vertical-align: top;\n",
       "    }\n",
       "\n",
       "    .dataframe thead th {\n",
       "        text-align: right;\n",
       "    }\n",
       "</style>\n",
       "<table border=\"1\" class=\"dataframe\">\n",
       "  <thead>\n",
       "    <tr style=\"text-align: right;\">\n",
       "      <th></th>\n",
       "      <th>0</th>\n",
       "      <th>1</th>\n",
       "      <th>2</th>\n",
       "      <th>3</th>\n",
       "      <th>4</th>\n",
       "    </tr>\n",
       "  </thead>\n",
       "  <tbody>\n",
       "    <tr>\n",
       "      <th>summary</th>\n",
       "      <td>count</td>\n",
       "      <td>mean</td>\n",
       "      <td>stddev</td>\n",
       "      <td>min</td>\n",
       "      <td>max</td>\n",
       "    </tr>\n",
       "    <tr>\n",
       "      <th>source</th>\n",
       "      <td>917814</td>\n",
       "      <td>None</td>\n",
       "      <td>None</td>\n",
       "      <td>(direct)</td>\n",
       "      <td>youtube.com</td>\n",
       "    </tr>\n",
       "    <tr>\n",
       "      <th>sourceKeyword</th>\n",
       "      <td>322031</td>\n",
       "      <td>None</td>\n",
       "      <td>None</td>\n",
       "      <td>(Remarketing/Content targeting)</td>\n",
       "      <td>yyoutubr</td>\n",
       "    </tr>\n",
       "    <tr>\n",
       "      <th>medium</th>\n",
       "      <td>917814</td>\n",
       "      <td>None</td>\n",
       "      <td>None</td>\n",
       "      <td>(none)</td>\n",
       "      <td>referral</td>\n",
       "    </tr>\n",
       "    <tr>\n",
       "      <th>fullVisitorId</th>\n",
       "      <td>917814</td>\n",
       "      <td>4.7679506549928141E18</td>\n",
       "      <td>1.42707561410277811E18</td>\n",
       "      <td>514359656957582</td>\n",
       "      <td>5487531102128447544</td>\n",
       "    </tr>\n",
       "    <tr>\n",
       "      <th>visitId</th>\n",
       "      <td>917814</td>\n",
       "      <td>1.4828991660307045E9</td>\n",
       "      <td>9692290.975135246</td>\n",
       "      <td>1470037326</td>\n",
       "      <td>1501656575</td>\n",
       "    </tr>\n",
       "    <tr>\n",
       "      <th>date</th>\n",
       "      <td>917814</td>\n",
       "      <td>2.0165139267192483E7</td>\n",
       "      <td>4699.035428253388</td>\n",
       "      <td>20160801</td>\n",
       "      <td>20170801</td>\n",
       "    </tr>\n",
       "    <tr>\n",
       "      <th>newVisits</th>\n",
       "      <td>647359</td>\n",
       "      <td>1.0</td>\n",
       "      <td>0.0</td>\n",
       "      <td>1</td>\n",
       "      <td>1</td>\n",
       "    </tr>\n",
       "    <tr>\n",
       "      <th>hitReferer</th>\n",
       "      <td>119959</td>\n",
       "      <td>None</td>\n",
       "      <td>None</td>\n",
       "      <td>http://googleads.g.doubleclick.net/pagead/ads?...</td>\n",
       "      <td>https://youtube.com/yt/about/copyright/</td>\n",
       "    </tr>\n",
       "    <tr>\n",
       "      <th>hitType</th>\n",
       "      <td>917814</td>\n",
       "      <td>None</td>\n",
       "      <td>None</td>\n",
       "      <td>EVENT</td>\n",
       "      <td>PAGE</td>\n",
       "    </tr>\n",
       "    <tr>\n",
       "      <th>hitAction_type</th>\n",
       "      <td>917814</td>\n",
       "      <td>0.18108135199506653</td>\n",
       "      <td>0.7980562985767482</td>\n",
       "      <td>0</td>\n",
       "      <td>6</td>\n",
       "    </tr>\n",
       "    <tr>\n",
       "      <th>hitNumber</th>\n",
       "      <td>917814</td>\n",
       "      <td>11.936170073675058</td>\n",
       "      <td>19.048950870892313</td>\n",
       "      <td>1</td>\n",
       "      <td>239</td>\n",
       "    </tr>\n",
       "    <tr>\n",
       "      <th>hitHour</th>\n",
       "      <td>917814</td>\n",
       "      <td>12.427243428407063</td>\n",
       "      <td>5.993956058897788</td>\n",
       "      <td>0</td>\n",
       "      <td>23</td>\n",
       "    </tr>\n",
       "    <tr>\n",
       "      <th>hitMin</th>\n",
       "      <td>917814</td>\n",
       "      <td>29.86619620097318</td>\n",
       "      <td>17.257801099354616</td>\n",
       "      <td>0</td>\n",
       "      <td>59</td>\n",
       "    </tr>\n",
       "    <tr>\n",
       "      <th>timeMicroSec</th>\n",
       "      <td>917814</td>\n",
       "      <td>291059.62081097043</td>\n",
       "      <td>554542.5064780046</td>\n",
       "      <td>0</td>\n",
       "      <td>9963065</td>\n",
       "    </tr>\n",
       "    <tr>\n",
       "      <th>v2ProductName</th>\n",
       "      <td>917814</td>\n",
       "      <td>None</td>\n",
       "      <td>None</td>\n",
       "      <td>\"7\"\" Dog Frisbee\"</td>\n",
       "      <td>YouTube Youth Short Sleeve Tee Red</td>\n",
       "    </tr>\n",
       "    <tr>\n",
       "      <th>productListName</th>\n",
       "      <td>917814</td>\n",
       "      <td>None</td>\n",
       "      <td>None</td>\n",
       "      <td>(not set)</td>\n",
       "      <td>Search Results</td>\n",
       "    </tr>\n",
       "    <tr>\n",
       "      <th>sessionQualityDim</th>\n",
       "      <td>61782</td>\n",
       "      <td>18.657068401799876</td>\n",
       "      <td>27.512960054299242</td>\n",
       "      <td>1</td>\n",
       "      <td>94</td>\n",
       "    </tr>\n",
       "    <tr>\n",
       "      <th>timeOnScreen</th>\n",
       "      <td>0</td>\n",
       "      <td>None</td>\n",
       "      <td>None</td>\n",
       "      <td>None</td>\n",
       "      <td>None</td>\n",
       "    </tr>\n",
       "    <tr>\n",
       "      <th>timeOnSite</th>\n",
       "      <td>850509</td>\n",
       "      <td>660.041210616231</td>\n",
       "      <td>930.0535167228322</td>\n",
       "      <td>1</td>\n",
       "      <td>9963</td>\n",
       "    </tr>\n",
       "    <tr>\n",
       "      <th>totalTransactionRevenue</th>\n",
       "      <td>70300</td>\n",
       "      <td>1.978806652916074E8</td>\n",
       "      <td>4.625284848391805E8</td>\n",
       "      <td>6980000</td>\n",
       "      <td>5608400000</td>\n",
       "    </tr>\n",
       "  </tbody>\n",
       "</table>\n",
       "</div>"
      ],
      "text/plain": [
       "                              0                      1  \\\n",
       "summary                   count                   mean   \n",
       "source                   917814                   None   \n",
       "sourceKeyword            322031                   None   \n",
       "medium                   917814                   None   \n",
       "fullVisitorId            917814  4.7679506549928141E18   \n",
       "visitId                  917814   1.4828991660307045E9   \n",
       "date                     917814   2.0165139267192483E7   \n",
       "newVisits                647359                    1.0   \n",
       "hitReferer               119959                   None   \n",
       "hitType                  917814                   None   \n",
       "hitAction_type           917814    0.18108135199506653   \n",
       "hitNumber                917814     11.936170073675058   \n",
       "hitHour                  917814     12.427243428407063   \n",
       "hitMin                   917814      29.86619620097318   \n",
       "timeMicroSec             917814     291059.62081097043   \n",
       "v2ProductName            917814                   None   \n",
       "productListName          917814                   None   \n",
       "sessionQualityDim         61782     18.657068401799876   \n",
       "timeOnScreen                  0                   None   \n",
       "timeOnSite               850509       660.041210616231   \n",
       "totalTransactionRevenue   70300    1.978806652916074E8   \n",
       "\n",
       "                                              2  \\\n",
       "summary                                  stddev   \n",
       "source                                     None   \n",
       "sourceKeyword                              None   \n",
       "medium                                     None   \n",
       "fullVisitorId            1.42707561410277811E18   \n",
       "visitId                       9692290.975135246   \n",
       "date                          4699.035428253388   \n",
       "newVisits                                   0.0   \n",
       "hitReferer                                 None   \n",
       "hitType                                    None   \n",
       "hitAction_type               0.7980562985767482   \n",
       "hitNumber                    19.048950870892313   \n",
       "hitHour                       5.993956058897788   \n",
       "hitMin                       17.257801099354616   \n",
       "timeMicroSec                  554542.5064780046   \n",
       "v2ProductName                              None   \n",
       "productListName                            None   \n",
       "sessionQualityDim            27.512960054299242   \n",
       "timeOnScreen                               None   \n",
       "timeOnSite                    930.0535167228322   \n",
       "totalTransactionRevenue     4.625284848391805E8   \n",
       "\n",
       "                                                                         3  \\\n",
       "summary                                                                min   \n",
       "source                                                            (direct)   \n",
       "sourceKeyword                              (Remarketing/Content targeting)   \n",
       "medium                                                              (none)   \n",
       "fullVisitorId                                              514359656957582   \n",
       "visitId                                                         1470037326   \n",
       "date                                                              20160801   \n",
       "newVisits                                                                1   \n",
       "hitReferer               http://googleads.g.doubleclick.net/pagead/ads?...   \n",
       "hitType                                                              EVENT   \n",
       "hitAction_type                                                           0   \n",
       "hitNumber                                                                1   \n",
       "hitHour                                                                  0   \n",
       "hitMin                                                                   0   \n",
       "timeMicroSec                                                             0   \n",
       "v2ProductName                                            \"7\"\" Dog Frisbee\"   \n",
       "productListName                                                  (not set)   \n",
       "sessionQualityDim                                                        1   \n",
       "timeOnScreen                                                          None   \n",
       "timeOnSite                                                               1   \n",
       "totalTransactionRevenue                                            6980000   \n",
       "\n",
       "                                                               4  \n",
       "summary                                                      max  \n",
       "source                                               youtube.com  \n",
       "sourceKeyword                                           yyoutubr  \n",
       "medium                                                  referral  \n",
       "fullVisitorId                                5487531102128447544  \n",
       "visitId                                               1501656575  \n",
       "date                                                    20170801  \n",
       "newVisits                                                      1  \n",
       "hitReferer               https://youtube.com/yt/about/copyright/  \n",
       "hitType                                                     PAGE  \n",
       "hitAction_type                                                 6  \n",
       "hitNumber                                                    239  \n",
       "hitHour                                                       23  \n",
       "hitMin                                                        59  \n",
       "timeMicroSec                                             9963065  \n",
       "v2ProductName                 YouTube Youth Short Sleeve Tee Red  \n",
       "productListName                                   Search Results  \n",
       "sessionQualityDim                                             94  \n",
       "timeOnScreen                                                None  \n",
       "timeOnSite                                                  9963  \n",
       "totalTransactionRevenue                               5608400000  "
      ]
     },
     "execution_count": 37,
     "metadata": {},
     "output_type": "execute_result"
    }
   ],
   "source": [
    "raw_df.describe().toPandas().transpose()"
   ]
  },
  {
   "cell_type": "code",
   "execution_count": 38,
   "metadata": {
    "id": "rxtBUz6k-KYC"
   },
   "outputs": [
    {
     "name": "stderr",
     "output_type": "stream",
     "text": [
      "                                                                                \r"
     ]
    }
   ],
   "source": [
    "df = raw_df.select(['hitAction_type','hitHour','hitMin','productListName','hitType']).toPandas()"
   ]
  },
  {
   "cell_type": "code",
   "execution_count": 39,
   "metadata": {
    "colab": {
     "base_uri": "https://localhost:8080/",
     "height": 643
    },
    "id": "-CdKvvLXvCUN",
    "outputId": "cd61a934-4cea-4aca-fcbe-5dfc20d12b56"
   },
   "outputs": [
    {
     "data": {
      "image/png": "[encoded data removed]",
      "text/plain": [
       "<Figure size 1280x720 with 1 Axes>"
      ]
     },
     "metadata": {
      "needs_background": "light"
     },
     "output_type": "display_data"
    }
   ],
   "source": [
    "# Initialize parameters\n",
    "x_var = 'hitAction_type'\n",
    "groupby_var = 'hitHour'\n",
    "\n",
    "# Group data by the variable of interest\n",
    "df_grouped = df.groupby(groupby_var)\n",
    "\n",
    "# Extract the values of x_var for each group\n",
    "grouped_values = [group[x_var].values.tolist() for _, group in df_grouped]\n",
    "\n",
    "# Define colors for each group\n",
    "colors = [plt.cm.Spectral(i/float(len(grouped_values)-1)) for i in range(len(grouped_values))]\n",
    "\n",
    "# Create a figure\n",
    "plt.figure(figsize=(16,9), dpi=80)\n",
    "\n",
    "# Create a stacked histogram\n",
    "n, bins, patches = plt.hist(grouped_values, df[x_var].unique().__len__(), stacked=True, density=False, color=colors[:len(grouped_values)])\n",
    "\n",
    "# Add a legend\n",
    "plt.legend({group:col for group, col in zip(np.unique(df[groupby_var]).tolist(), colors[:len(grouped_values)])})\n",
    "\n",
    "# Add title and labels\n",
    "plt.title(f\"Stacked Histogram of {x_var} colored by {groupby_var}\", fontsize=22)\n",
    "plt.xlabel(x_var)\n",
    "plt.ylabel(\"Frequency\")\n",
    "\n",
    "# Set the range of y-axis\n",
    "plt.ylim(0, 1000000)\n",
    "\n",
    "# Get unique values of x_var\n",
    "unique_x_var = np.unique(df[x_var]).tolist()\n",
    "\n",
    "# Use arange to generate ticks locations\n",
    "bins = np.arange(len(unique_x_var))\n",
    "\n",
    "# Set the labels of x-axis\n",
    "plt.xticks(ticks=bins, labels=unique_x_var, rotation=90, horizontalalignment='left')\n",
    "\n",
    "\n",
    "# Display the plot\n",
    "plt.show()\n"
   ]
  },
  {
   "cell_type": "code",
   "execution_count": 40,
   "metadata": {
    "colab": {
     "base_uri": "https://localhost:8080/",
     "height": 598
    },
    "id": "Gwsr8sQgvWZC",
    "outputId": "0c696d08-baa3-4889-b6be-5fe1165ab608"
   },
   "outputs": [
    {
     "name": "stderr",
     "output_type": "stream",
     "text": [
      "                                                                                \r"
     ]
    },
    {
     "data": {
      "text/plain": [
       "(array([ 40.,   0.,   6.,  50.,  40.,  52.,  86., 166., 298., 156., 296.,\n",
       "        378., 362., 302., 258., 204., 214., 176., 314., 230., 104.,  84.,\n",
       "         40.,  24.]),\n",
       " array([ 0.        ,  0.95833333,  1.91666667,  2.875     ,  3.83333333,\n",
       "         4.79166667,  5.75      ,  6.70833333,  7.66666667,  8.625     ,\n",
       "         9.58333333, 10.54166667, 11.5       , 12.45833333, 13.41666667,\n",
       "        14.375     , 15.33333333, 16.29166667, 17.25      , 18.20833333,\n",
       "        19.16666667, 20.125     , 21.08333333, 22.04166667, 23.        ]),\n",
       " <BarContainer object of 24 artists>)"
      ]
     },
     "execution_count": 40,
     "metadata": {},
     "output_type": "execute_result"
    },
    {
     "data": {
      "image/png": "[encoded data removed]",
      "text/plain": [
       "<Figure size 432x288 with 1 Axes>"
      ]
     },
     "metadata": {
      "needs_background": "light"
     },
     "output_type": "display_data"
    }
   ],
   "source": [
    "### แสดงการซื้อ (hitAction_type = 6) แจงแจงตามช่วงเวลา\n",
    "\n",
    "bins, counts = raw_df.select('hitHour') \\\n",
    ".filter(raw_df.hitAction_type == 6).rdd.flatMap(lambda x: x).histogram(24)\n",
    "plt.hist(bins[:-1], bins=bins, weights=counts)"
   ]
  },
  {
   "cell_type": "code",
   "execution_count": 41,
   "metadata": {
    "colab": {
     "base_uri": "https://localhost:8080/",
     "height": 598
    },
    "id": "A6hmmYkMp-zI",
    "outputId": "a0875bfe-2e3d-4154-ee1a-7670a46c4bf2"
   },
   "outputs": [
    {
     "name": "stderr",
     "output_type": "stream",
     "text": [
      "                                                                                \r"
     ]
    },
    {
     "data": {
      "text/plain": [
       "(array([22011., 20836., 17807., 16511., 17866., 23204., 28773., 34309.,\n",
       "        41773., 45066., 55886., 59403., 49586., 53460., 50273., 40598.,\n",
       "        41683., 36184., 36316., 31854., 36670., 31523., 32674., 29637.]),\n",
       " array([ 0.        ,  0.95833333,  1.91666667,  2.875     ,  3.83333333,\n",
       "         4.79166667,  5.75      ,  6.70833333,  7.66666667,  8.625     ,\n",
       "         9.58333333, 10.54166667, 11.5       , 12.45833333, 13.41666667,\n",
       "        14.375     , 15.33333333, 16.29166667, 17.25      , 18.20833333,\n",
       "        19.16666667, 20.125     , 21.08333333, 22.04166667, 23.        ]),\n",
       " <BarContainer object of 24 artists>)"
      ]
     },
     "execution_count": 41,
     "metadata": {},
     "output_type": "execute_result"
    },
    {
     "data": {
      "image/png": "[encoded data removed]",
      "text/plain": [
       "<Figure size 432x288 with 1 Axes>"
      ]
     },
     "metadata": {
      "needs_background": "light"
     },
     "output_type": "display_data"
    }
   ],
   "source": [
    "### แสดงการไม่ซื้อ (hitAction_type = 0) แจงแจงตามช่วงเวลา\n",
    "\n",
    "bins, counts = raw_df.select('hitHour') \\\n",
    ".filter(raw_df.hitAction_type == 0).rdd.flatMap(lambda x: x).histogram(24)\n",
    "plt.hist(bins[:-1], bins=bins, weights=counts)"
   ]
  },
  {
   "cell_type": "code",
   "execution_count": 42,
   "metadata": {
    "colab": {
     "base_uri": "https://localhost:8080/",
     "height": 643
    },
    "id": "qY4Y6J__qQWt",
    "outputId": "eb9ffc54-88fa-40c1-bf25-9f1c80f44030"
   },
   "outputs": [
    {
     "data": {
      "image/png": "[encoded data removed]",
      "text/plain": [
       "<Figure size 1280x720 with 1 Axes>"
      ]
     },
     "metadata": {
      "needs_background": "light"
     },
     "output_type": "display_data"
    }
   ],
   "source": [
    "# Initialize parameters\n",
    "x_var = 'hitAction_type'\n",
    "groupby_var = 'hitType'\n",
    "\n",
    "# Group data by the variable of interest\n",
    "df_grouped = df.groupby(groupby_var)\n",
    "\n",
    "# Extract the values of x_var for each group\n",
    "grouped_values = [group[x_var].values.tolist() for _, group in df_grouped]\n",
    "\n",
    "# Define colors for each group\n",
    "colors = [plt.cm.Spectral(i/float(len(grouped_values)-1)) for i in range(len(grouped_values))]\n",
    "\n",
    "# Create a figure\n",
    "plt.figure(figsize=(16,9), dpi=80)\n",
    "\n",
    "# Create a stacked histogram\n",
    "n, bins, patches = plt.hist(grouped_values, df[x_var].unique().__len__(), stacked=True, density=False, color=colors[:len(grouped_values)])\n",
    "\n",
    "# Add a legend\n",
    "plt.legend({group:col for group, col in zip(np.unique(df[groupby_var]).tolist(), colors[:len(grouped_values)])})\n",
    "\n",
    "# Add title and labels\n",
    "plt.title(f\"Stacked Histogram of {x_var} colored by {groupby_var}\", fontsize=22)\n",
    "plt.xlabel(x_var)\n",
    "plt.ylabel(\"Frequency\")\n",
    "\n",
    "# Set the range of y-axis\n",
    "plt.ylim(0, 500)\n",
    "\n",
    "# Get unique values of x_var\n",
    "unique_x_var = np.unique(df[x_var]).tolist()\n",
    "\n",
    "# Use arange to generate ticks locations\n",
    "bins = np.arange(len(unique_x_var))\n",
    "\n",
    "# Set the labels of x-axis\n",
    "plt.xticks(ticks=bins, labels=unique_x_var, rotation=90, horizontalalignment='left')\n",
    "\n",
    "\n",
    "# Display the plot\n",
    "plt.show()\n"
   ]
  },
  {
   "cell_type": "markdown",
   "metadata": {
    "id": "VjyhhtffPWwo"
   },
   "source": [
    "### Finding out partial duplicated records - Spurious Patterns"
   ]
  },
  {
   "cell_type": "markdown",
   "metadata": {
    "id": "mU_EMag-o3zh"
   },
   "source": [
    "*โค้ดด้านล่างแสดงให้เห็นว่า มีลูกค้ากี่ราย*"
   ]
  },
  {
   "cell_type": "code",
   "execution_count": 43,
   "metadata": {
    "colab": {
     "base_uri": "https://localhost:8080/"
    },
    "id": "nMArXXKJNwJc",
    "outputId": "50710174-7862-4a59-ace9-750e6b0b5c76"
   },
   "outputs": [
    {
     "name": "stderr",
     "output_type": "stream",
     "text": [
      "[Stage 166:====================================>                (136 + 4) / 200]\r"
     ]
    },
    {
     "name": "stdout",
     "output_type": "stream",
     "text": [
      "+---------------+\n",
      "|num_unique_user|\n",
      "+---------------+\n",
      "|          18006|\n",
      "+---------------+\n",
      "\n"
     ]
    },
    {
     "name": "stderr",
     "output_type": "stream",
     "text": [
      "                                                                                \r"
     ]
    }
   ],
   "source": [
    "raw_df.select(sparkf.countDistinct('fullVisitorId').alias('num_unique_user')).show()"
   ]
  },
  {
   "cell_type": "markdown",
   "metadata": {
    "id": "xipjG59dolmn"
   },
   "source": [
    "*โค้ดด้านล่างแสดงให้เห็นว่า ลูกค้าแต่ละราย (fullVisitorId) ที่เข้ามาได้หลายครั้ง (visitId) นั้นเกิด Hit ได้ตั้งแต่ 1 ครั้งขึ้นไป*"
   ]
  },
  {
   "cell_type": "code",
   "execution_count": 44,
   "metadata": {
    "id": "3EFLj_I8rxBR"
   },
   "outputs": [],
   "source": [
    "sessionWindow = W.partitionBy('fullVisitorId','visitId').orderBy(sparkf.col(\"hitNumber\").cast(\"long\"))\\\n",
    "                 .rangeBetween(-sys.maxsize, sys.maxsize)"
   ]
  },
  {
   "cell_type": "code",
   "execution_count": 45,
   "metadata": {
    "id": "cuaXdfufvP-t"
   },
   "outputs": [],
   "source": [
    "allHit = sparkf.expr(\"count('hitNumber')\")"
   ]
  },
  {
   "cell_type": "code",
   "execution_count": 46,
   "metadata": {
    "colab": {
     "base_uri": "https://localhost:8080/"
    },
    "id": "lGlqzuFLrwkx",
    "outputId": "e95169db-7e30-4884-acff-d2f5e4a8927c"
   },
   "outputs": [
    {
     "name": "stderr",
     "output_type": "stream",
     "text": [
      "23/05/21 00:18:08 WARN package: Truncated the string representation of a plan since it was too large. This behavior can be adjusted by setting 'spark.sql.debug.maxToStringFields'.\n",
      "[Stage 169:===================================================> (195 + 4) / 200]\r"
     ]
    },
    {
     "name": "stdout",
     "output_type": "stream",
     "text": [
      "+----------------+----------+------+\n",
      "|   fullVisitorId|   visitId|numHit|\n",
      "+----------------+----------+------+\n",
      "| 514359656957582|1481535186|    24|\n",
      "| 526704849855859|1492044399|    12|\n",
      "|5046942961392781|1486511444|    60|\n",
      "|5046942961392781|1486514836|    12|\n",
      "|5123065735856055|1470410433|    84|\n",
      "|5134451956558008|1486960913|    12|\n",
      "|5134451956558008|1486964401|    12|\n",
      "+----------------+----------+------+\n",
      "only showing top 7 rows\n",
      "\n"
     ]
    },
    {
     "name": "stderr",
     "output_type": "stream",
     "text": [
      "                                                                                \r"
     ]
    }
   ],
   "source": [
    "raw_df.withColumn('numHit',allHit.over(sessionWindow))\\\n",
    ".select('fullVisitorId','visitId','numHit')\\\n",
    ".distinct().orderBy('fullVisitorId','visitId').show(7)"
   ]
  },
  {
   "cell_type": "markdown",
   "metadata": {
    "id": "y0sBLbWpRiKl"
   },
   "source": [
    "*โค้ดด้านล่าง เป็นการ cross-check ว่าการคำนวนข้างบนนั้นถูกต้องแล้ว*"
   ]
  },
  {
   "cell_type": "code",
   "execution_count": 47,
   "metadata": {
    "colab": {
     "base_uri": "https://localhost:8080/"
    },
    "id": "xMM0ppjzzNnz",
    "outputId": "18fcbfc9-d5b8-4f39-8079-37c1cd3d9d79"
   },
   "outputs": [
    {
     "name": "stderr",
     "output_type": "stream",
     "text": [
      "                                                                                \r"
     ]
    },
    {
     "data": {
      "text/plain": [
       "12"
      ]
     },
     "execution_count": 47,
     "metadata": {},
     "output_type": "execute_result"
    }
   ],
   "source": [
    "raw_df.filter((sparkf.col('fullVisitorId') == '4991536060599177108')&(sparkf.col('VisitId') == '1495501367'))\\\n",
    ".count()"
   ]
  },
  {
   "cell_type": "markdown",
   "metadata": {
    "id": "jXEb0kOgOaDC"
   },
   "source": [
    "*โค้ดด้านล่างแสดงให้เห็นว่า บาง visitId เท่านั้นนั้นที่มี hitAction_type เป็นเลข 6*"
   ]
  },
  {
   "cell_type": "code",
   "execution_count": 48,
   "metadata": {
    "colab": {
     "base_uri": "https://localhost:8080/"
    },
    "id": "sRdwVNpBOftw",
    "outputId": "31e5fc74-d317-4e1c-937f-ffbe0d19bf0b"
   },
   "outputs": [
    {
     "name": "stderr",
     "output_type": "stream",
     "text": [
      "[Stage 173:===================================================> (194 + 4) / 200]\r"
     ]
    },
    {
     "name": "stdout",
     "output_type": "stream",
     "text": [
      "+------------------+----------+--------------------+\n",
      "|     fullVisitorId|   visitId|sum_hitAction_type_6|\n",
      "+------------------+----------+--------------------+\n",
      "| 52868681653220057|1487247308|                   6|\n",
      "| 52947395050573230|1473344657|                   4|\n",
      "| 53866968780969645|1481914028|                   2|\n",
      "|500766381427960566|1489605660|                   6|\n",
      "|500771270741221130|1481728507|                   8|\n",
      "|500926353574528949|1491191147|                   6|\n",
      "|502027330594674519|1488479930|                   2|\n",
      "|502427268661784166|1475681795|                   4|\n",
      "|507378123137078709|1492017734|                  12|\n",
      "|512376512516526849|1484413414|                   2|\n",
      "|512988788718016553|1494940948|                   4|\n",
      "|513403330506317388|1484058394|                   6|\n",
      "|513403330506317388|1488427898|                   4|\n",
      "|514366605460721708|1481841909|                   6|\n",
      "|514478324726152361|1480456502|                   4|\n",
      "|514517908760071241|1485384182|                   2|\n",
      "|515195001502319520|1480385724|                   8|\n",
      "|515770511624914543|1493699819|                   4|\n",
      "|515770511624914543|1494428047|                   4|\n",
      "|516734366347147622|1478384303|                   4|\n",
      "+------------------+----------+--------------------+\n",
      "only showing top 20 rows\n",
      "\n"
     ]
    },
    {
     "name": "stderr",
     "output_type": "stream",
     "text": [
      "                                                                                \r"
     ]
    }
   ],
   "source": [
    "raw_df\\\n",
    "      .withColumn('numHit',allHit.over(sessionWindow))\\\n",
    "      .withColumn('hitAction_type_6',sparkf.when(sparkf.col('hitAction_type')==6,1).otherwise(0))\\\n",
    "      .withColumn('sum_hitAction_type_6',sparkf.sum(sparkf.col('hitAction_type_6')).over(sessionWindow))\\\n",
    "      .filter(sparkf.col('sum_hitAction_type_6')>=1)\\\n",
    "      .select(['fullVisitorId','visitId','sum_hitAction_type_6'])\\\n",
    "      .distinct().orderBy('fullVisitorId','visitId').show()"
   ]
  },
  {
   "cell_type": "markdown",
   "metadata": {
    "id": "Y6vUB5q6QWQi"
   },
   "source": [
    "*โค้ดด้านล่าง เป็นการ cross-check ว่าการคำนวนข้างบนนั้นถูกต้องแล้ว*"
   ]
  },
  {
   "cell_type": "code",
   "execution_count": 49,
   "metadata": {
    "colab": {
     "base_uri": "https://localhost:8080/"
    },
    "id": "rB4ooSnn-hPI",
    "outputId": "f0a91c81-f2a3-40f1-bef1-79b45c9b4519"
   },
   "outputs": [
    {
     "name": "stderr",
     "output_type": "stream",
     "text": [
      "[Stage 174:>                                                        (0 + 4) / 4]\r"
     ]
    },
    {
     "name": "stdout",
     "output_type": "stream",
     "text": [
      "+------------------+----------+-----+\n",
      "|     fullVisitorId|   visitId|count|\n",
      "+------------------+----------+-----+\n",
      "| 52868681653220057|1487247308|  102|\n",
      "| 52947395050573230|1473344657|   43|\n",
      "| 53866968780969645|1481914028|   97|\n",
      "|500766381427960566|1489605660|  136|\n",
      "|500771270741221130|1481728507|  162|\n",
      "|500926353574528949|1491191147|   39|\n",
      "|502027330594674519|1488479930|   17|\n",
      "|502427268661784166|1475681795|  158|\n",
      "|507378123137078709|1492017734|  172|\n",
      "|512376512516526849|1484413414|   67|\n",
      "|512988788718016553|1494940948|   30|\n",
      "|513403330506317388|1484058394|  119|\n",
      "|513403330506317388|1488427898|   42|\n",
      "|514366605460721708|1481841909|   18|\n",
      "|514478324726152361|1480456502|   46|\n",
      "|514517908760071241|1485384182|   25|\n",
      "|515195001502319520|1480385724|  177|\n",
      "|515770511624914543|1493699819|   71|\n",
      "|515770511624914543|1494428047|   70|\n",
      "|516734366347147622|1478384303|  192|\n",
      "+------------------+----------+-----+\n",
      "only showing top 20 rows\n",
      "\n"
     ]
    },
    {
     "name": "stderr",
     "output_type": "stream",
     "text": [
      "                                                                                \r"
     ]
    }
   ],
   "source": [
    "raw_df.filter(sparkf.col('totalTransactionRevenue') >=0)\\\n",
    ".groupBy('fullVisitorId','visitId').count().alias('numHit').orderBy('fullVisitorId','visitId').show()"
   ]
  },
  {
   "cell_type": "code",
   "execution_count": 50,
   "metadata": {
    "colab": {
     "base_uri": "https://localhost:8080/"
    },
    "id": "yD2Vgj-jphYt",
    "outputId": "c6342f1f-5840-4ea4-ec06-f9a5c301a268"
   },
   "outputs": [
    {
     "name": "stderr",
     "output_type": "stream",
     "text": [
      "[Stage 176:>                                                        (0 + 4) / 4]\r"
     ]
    },
    {
     "name": "stdout",
     "output_type": "stream",
     "text": [
      "+------------------+----------+-----+\n",
      "|     fullVisitorId|   visitId|count|\n",
      "+------------------+----------+-----+\n",
      "| 52868681653220057|1487247308|    6|\n",
      "| 52947395050573230|1473344657|    4|\n",
      "| 53866968780969645|1481914028|    2|\n",
      "|500766381427960566|1489605660|    6|\n",
      "|500771270741221130|1481728507|    8|\n",
      "|500926353574528949|1491191147|    6|\n",
      "|502027330594674519|1488479930|    2|\n",
      "|502427268661784166|1475681795|    4|\n",
      "|507378123137078709|1492017734|   12|\n",
      "|512376512516526849|1484413414|    2|\n",
      "|512988788718016553|1494940948|    4|\n",
      "|513403330506317388|1484058394|    6|\n",
      "|513403330506317388|1488427898|    4|\n",
      "|514366605460721708|1481841909|    6|\n",
      "|514478324726152361|1480456502|    4|\n",
      "|514517908760071241|1485384182|    2|\n",
      "|515195001502319520|1480385724|    8|\n",
      "|515770511624914543|1493699819|    4|\n",
      "|515770511624914543|1494428047|    4|\n",
      "|516734366347147622|1478384303|    4|\n",
      "+------------------+----------+-----+\n",
      "only showing top 20 rows\n",
      "\n"
     ]
    },
    {
     "name": "stderr",
     "output_type": "stream",
     "text": [
      "                                                                                \r"
     ]
    }
   ],
   "source": [
    "raw_df.filter(sparkf.col('hitAction_type')==6)\\\n",
    "      .select('fullVisitorId','visitId').groupBy('fullVisitorId','visitId').count()\\\n",
    "      .orderBy('fullVisitorId','visitId').show()"
   ]
  },
  {
   "cell_type": "code",
   "execution_count": 51,
   "metadata": {
    "colab": {
     "base_uri": "https://localhost:8080/"
    },
    "id": "NjxkYgHSF1Wk",
    "outputId": "19354cec-95a1-4d75-f3bc-6edece761b60"
   },
   "outputs": [
    {
     "name": "stderr",
     "output_type": "stream",
     "text": [
      "[Stage 179:========================================>            (152 + 4) / 200]\r"
     ]
    },
    {
     "name": "stdout",
     "output_type": "stream",
     "text": [
      "+-------------------+----------+---------+------------+--------------+------+----------------+--------------------+\n",
      "|      fullVisitorId|   visitId|hitNumber|timeMicroSec|hitAction_type|numHit|hitAction_type_6|sum_hitAction_type_6|\n",
      "+-------------------+----------+---------+------------+--------------+------+----------------+--------------------+\n",
      "|4995924842281653133|1486131356|        2|       11890|             0|    75|               0|                   6|\n",
      "|4995924842281653133|1486131356|        2|       11890|             0|    75|               0|                   6|\n",
      "|4995924842281653133|1486131356|        2|       11890|             0|    75|               0|                   6|\n",
      "|4995924842281653133|1486131356|        2|       11890|             0|    75|               0|                   6|\n",
      "|4995924842281653133|1486131356|        2|       11890|             0|    75|               0|                   6|\n",
      "|4995924842281653133|1486131356|        2|       11890|             0|    75|               0|                   6|\n",
      "|4995924842281653133|1486131356|        2|       11890|             0|    75|               0|                   6|\n",
      "|4995924842281653133|1486131356|        2|       11890|             0|    75|               0|                   6|\n",
      "|4995924842281653133|1486131356|        2|       11890|             0|    75|               0|                   6|\n",
      "|4995924842281653133|1486131356|        2|       11890|             0|    75|               0|                   6|\n",
      "|4995924842281653133|1486131356|        2|       11890|             0|    75|               0|                   6|\n",
      "|4995924842281653133|1486131356|        3|       31696|             0|    75|               0|                   6|\n",
      "|4995924842281653133|1486131356|        3|       31696|             0|    75|               0|                   6|\n",
      "|4995924842281653133|1486131356|        3|       31696|             0|    75|               0|                   6|\n",
      "|4995924842281653133|1486131356|        3|       31696|             0|    75|               0|                   6|\n",
      "|4995924842281653133|1486131356|        3|       31696|             0|    75|               0|                   6|\n",
      "|4995924842281653133|1486131356|        3|       31696|             0|    75|               0|                   6|\n",
      "|4995924842281653133|1486131356|        3|       31696|             0|    75|               0|                   6|\n",
      "|4995924842281653133|1486131356|        3|       31696|             0|    75|               0|                   6|\n",
      "|4995924842281653133|1486131356|        3|       31696|             0|    75|               0|                   6|\n",
      "+-------------------+----------+---------+------------+--------------+------+----------------+--------------------+\n",
      "only showing top 20 rows\n",
      "\n"
     ]
    },
    {
     "name": "stderr",
     "output_type": "stream",
     "text": [
      "                                                                                \r"
     ]
    }
   ],
   "source": [
    "raw_df\\\n",
    "      .withColumn('numHit',allHit.over(sessionWindow))\\\n",
    "      .withColumn('hitAction_type_6',sparkf.when(sparkf.col('hitAction_type')==6,1).otherwise(0))\\\n",
    "      .withColumn('sum_hitAction_type_6',sparkf.sum(sparkf.col('hitAction_type_6')).over(sessionWindow))\\\n",
    "      .filter((sparkf.col('fullVisitorId') == '4995924842281653133')&(sparkf.col('VisitId') == '1486131356'))\\\n",
    "      .select(['fullVisitorId','visitId','hitNumber','timeMicroSec','hitAction_type'\\\n",
    "               ,'numHit','hitAction_type_6','sum_hitAction_type_6'])\\\n",
    "      .orderBy('hitNumber').show()"
   ]
  },
  {
   "cell_type": "code",
   "execution_count": 52,
   "metadata": {
    "colab": {
     "base_uri": "https://localhost:8080/"
    },
    "id": "xbG54918F1Q2",
    "outputId": "1a81d5c5-8974-450f-a5d6-758cf22ae82d"
   },
   "outputs": [
    {
     "name": "stderr",
     "output_type": "stream",
     "text": [
      "[Stage 181:=================================================>   (187 + 4) / 200]\r"
     ]
    },
    {
     "name": "stdout",
     "output_type": "stream",
     "text": [
      "+-------------------+----------+---------+------------+--------------+------+----------------+--------------------+\n",
      "|      fullVisitorId|   visitId|hitNumber|timeMicroSec|hitAction_type|numHit|hitAction_type_6|sum_hitAction_type_6|\n",
      "+-------------------+----------+---------+------------+--------------+------+----------------+--------------------+\n",
      "|4988683855814257726|1492045051|        2|       29151|             0|    55|               0|                   2|\n",
      "|4988683855814257726|1492045051|        2|       29151|             0|    55|               0|                   2|\n",
      "|4988683855814257726|1492045051|        2|       29151|             0|    55|               0|                   2|\n",
      "|4988683855814257726|1492045051|        2|       29151|             0|    55|               0|                   2|\n",
      "|4988683855814257726|1492045051|        2|       29151|             0|    55|               0|                   2|\n",
      "|4988683855814257726|1492045051|        2|       29151|             0|    55|               0|                   2|\n",
      "|4988683855814257726|1492045051|        2|       29151|             0|    55|               0|                   2|\n",
      "|4988683855814257726|1492045051|        2|       29151|             0|    55|               0|                   2|\n",
      "|4988683855814257726|1492045051|        2|       29151|             0|    55|               0|                   2|\n",
      "|4988683855814257726|1492045051|        2|       29151|             0|    55|               0|                   2|\n",
      "|4988683855814257726|1492045051|        2|       29151|             0|    55|               0|                   2|\n",
      "|4988683855814257726|1492045051|        2|       29151|             0|    55|               0|                   2|\n",
      "|4988683855814257726|1492045051|        3|       62305|             0|    55|               0|                   2|\n",
      "|4988683855814257726|1492045051|        3|       62305|             0|    55|               0|                   2|\n",
      "|4988683855814257726|1492045051|        3|       62305|             0|    55|               0|                   2|\n",
      "|4988683855814257726|1492045051|        3|       62305|             0|    55|               0|                   2|\n",
      "|4988683855814257726|1492045051|        3|       62305|             0|    55|               0|                   2|\n",
      "|4988683855814257726|1492045051|        3|       62305|             0|    55|               0|                   2|\n",
      "|4988683855814257726|1492045051|        3|       62305|             0|    55|               0|                   2|\n",
      "|4988683855814257726|1492045051|        3|       62305|             0|    55|               0|                   2|\n",
      "|4988683855814257726|1492045051|        3|       62305|             0|    55|               0|                   2|\n",
      "|4988683855814257726|1492045051|        3|       62305|             0|    55|               0|                   2|\n",
      "|4988683855814257726|1492045051|        3|       62305|             0|    55|               0|                   2|\n",
      "|4988683855814257726|1492045051|        3|       62305|             0|    55|               0|                   2|\n",
      "|4988683855814257726|1492045051|        4|       82771|             1|    55|               0|                   2|\n",
      "|4988683855814257726|1492045051|        5|       82771|             2|    55|               0|                   2|\n",
      "|4988683855814257726|1492045051|        6|       90238|             3|    55|               0|                   2|\n",
      "|4988683855814257726|1492045051|        7|      126091|             2|    55|               0|                   2|\n",
      "|4988683855814257726|1492045051|        8|      126091|             1|    55|               0|                   2|\n",
      "|4988683855814257726|1492045051|        9|      143594|             0|    55|               0|                   2|\n",
      "|4988683855814257726|1492045051|        9|      143594|             0|    55|               0|                   2|\n",
      "|4988683855814257726|1492045051|        9|      143594|             0|    55|               0|                   2|\n",
      "|4988683855814257726|1492045051|        9|      143594|             0|    55|               0|                   2|\n",
      "|4988683855814257726|1492045051|        9|      143594|             0|    55|               0|                   2|\n",
      "|4988683855814257726|1492045051|        9|      143594|             0|    55|               0|                   2|\n",
      "|4988683855814257726|1492045051|        9|      143594|             0|    55|               0|                   2|\n",
      "|4988683855814257726|1492045051|        9|      143594|             0|    55|               0|                   2|\n",
      "|4988683855814257726|1492045051|        9|      143594|             0|    55|               0|                   2|\n",
      "|4988683855814257726|1492045051|        9|      143594|             0|    55|               0|                   2|\n",
      "|4988683855814257726|1492045051|        9|      143594|             0|    55|               0|                   2|\n",
      "|4988683855814257726|1492045051|        9|      143594|             0|    55|               0|                   2|\n",
      "|4988683855814257726|1492045051|       11|      222205|             5|    55|               0|                   2|\n",
      "|4988683855814257726|1492045051|       12|      240245|             5|    55|               0|                   2|\n",
      "|4988683855814257726|1492045051|       13|      319362|             5|    55|               0|                   2|\n",
      "|4988683855814257726|1492045051|       14|      333522|             6|    55|               1|                   2|\n",
      "|4988683855814257726|1492045051|       15|      333523|             6|    55|               1|                   2|\n",
      "|4988683855814257726|1492045051|       16|      349201|             0|    55|               0|                   2|\n",
      "|4988683855814257726|1492045051|       16|      349201|             0|    55|               0|                   2|\n",
      "|4988683855814257726|1492045051|       16|      349201|             0|    55|               0|                   2|\n",
      "|4988683855814257726|1492045051|       16|      349201|             0|    55|               0|                   2|\n",
      "|4988683855814257726|1492045051|       16|      349201|             0|    55|               0|                   2|\n",
      "|4988683855814257726|1492045051|       16|      349201|             0|    55|               0|                   2|\n",
      "|4988683855814257726|1492045051|       16|      349201|             0|    55|               0|                   2|\n",
      "|4988683855814257726|1492045051|       16|      349201|             0|    55|               0|                   2|\n",
      "|4988683855814257726|1492045051|       16|      349201|             0|    55|               0|                   2|\n",
      "+-------------------+----------+---------+------------+--------------+------+----------------+--------------------+\n",
      "\n"
     ]
    },
    {
     "name": "stderr",
     "output_type": "stream",
     "text": [
      "                                                                                \r"
     ]
    }
   ],
   "source": [
    "raw_df\\\n",
    "      .withColumn('numHit',allHit.over(sessionWindow))\\\n",
    "      .withColumn('hitAction_type_6',sparkf.when(sparkf.col('hitAction_type')==6,1).otherwise(0))\\\n",
    "      .withColumn('sum_hitAction_type_6',sparkf.sum(sparkf.col('hitAction_type_6')).over(sessionWindow))\\\n",
    "      .filter((sparkf.col('fullVisitorId') == '4988683855814257726')&(sparkf.col('VisitId') == '1492045051'))\\\n",
    "      .select(['fullVisitorId','visitId','hitNumber','timeMicroSec','hitAction_type'\\\n",
    "               ,'numHit','hitAction_type_6','sum_hitAction_type_6'])\\\n",
    "      .orderBy('hitNumber').show(100)"
   ]
  },
  {
   "cell_type": "code",
   "execution_count": 53,
   "metadata": {
    "colab": {
     "base_uri": "https://localhost:8080/"
    },
    "id": "N7r3n6t4F0zg",
    "outputId": "c9469c96-0129-4313-8f4d-2f41b5f3310f"
   },
   "outputs": [
    {
     "name": "stderr",
     "output_type": "stream",
     "text": [
      "                                                                                \r"
     ]
    },
    {
     "data": {
      "text/plain": [
       "55"
      ]
     },
     "execution_count": 53,
     "metadata": {},
     "output_type": "execute_result"
    }
   ],
   "source": [
    "raw_df\\\n",
    "      .withColumn('numHit',allHit.over(sessionWindow))\\\n",
    "      .withColumn('hitAction_type_6',sparkf.when(sparkf.col('hitAction_type')==6,1).otherwise(0))\\\n",
    "      .withColumn('sum_hitAction_type_6',sparkf.sum(sparkf.col('hitAction_type_6')).over(sessionWindow))\\\n",
    "      .filter((sparkf.col('fullVisitorId') == '4988683855814257726')&(sparkf.col('VisitId') == '1492045051'))\\\n",
    "      .count()"
   ]
  },
  {
   "cell_type": "markdown",
   "metadata": {
    "id": "p_Ade4amSKqD"
   },
   "source": [
    "*โค้ดด้านล่างแสดงให้เห็นว่า บาง visitId เท่านั้นนั้นที่ hitAction_type ตัวสุดท้ายเป็นเลข 6*"
   ]
  },
  {
   "cell_type": "code",
   "execution_count": 54,
   "metadata": {
    "id": "pKDPBIrT2NeT"
   },
   "outputs": [],
   "source": [
    "Get_lastHitAction_Type = sparkf.last(sparkf.col('hitAction_type').cast(IntegerType()))"
   ]
  },
  {
   "cell_type": "code",
   "execution_count": 55,
   "metadata": {
    "colab": {
     "base_uri": "https://localhost:8080/"
    },
    "id": "YKP9axEo3BY-",
    "outputId": "33e16723-ae85-44e8-869e-f150395842ad"
   },
   "outputs": [
    {
     "name": "stderr",
     "output_type": "stream",
     "text": [
      "[Stage 185:=============================================>       (172 + 4) / 200]\r"
     ]
    },
    {
     "name": "stdout",
     "output_type": "stream",
     "text": [
      "+------------------+----------+------+------------------+\n",
      "|     fullVisitorId|   visitId|numHit|lastHitAction_type|\n",
      "+------------------+----------+------+------------------+\n",
      "| 52868681653220057|1487247308|   102|                 6|\n",
      "| 52947395050573230|1473344657|    43|                 6|\n",
      "| 53866968780969645|1481914028|    97|                 6|\n",
      "|500766381427960566|1489605660|   136|                 6|\n",
      "|500771270741221130|1481728507|   162|                 6|\n",
      "|500926353574528949|1491191147|    39|                 6|\n",
      "|502027330594674519|1488479930|    17|                 6|\n",
      "|502427268661784166|1475681795|   158|                 6|\n",
      "|507378123137078709|1492017734|   172|                 6|\n",
      "|512376512516526849|1484413414|    67|                 6|\n",
      "|512988788718016553|1494940948|    30|                 6|\n",
      "|513403330506317388|1484058394|   119|                 6|\n",
      "|513403330506317388|1488427898|    42|                 6|\n",
      "|514366605460721708|1481841909|    18|                 6|\n",
      "|514478324726152361|1480456502|    46|                 6|\n",
      "|514517908760071241|1485384182|    25|                 6|\n",
      "|515195001502319520|1480385724|   177|                 6|\n",
      "|515770511624914543|1494428047|    70|                 6|\n",
      "|516734366347147622|1478384303|   192|                 6|\n",
      "|517644101045776450|1488658878|    34|                 6|\n",
      "+------------------+----------+------+------------------+\n",
      "only showing top 20 rows\n",
      "\n"
     ]
    },
    {
     "name": "stderr",
     "output_type": "stream",
     "text": [
      "                                                                                \r"
     ]
    }
   ],
   "source": [
    "raw_df.withColumn('numHit',allHit.over(sessionWindow))\\\n",
    "      .withColumn('lastHitAction_type',Get_lastHitAction_Type.over(sessionWindow))\\\n",
    "      .select('fullVisitorId','visitId','numHit','lastHitAction_type')\\\n",
    "      .filter(sparkf.col('lastHitAction_type') == 6)\\\n",
    "      .distinct().orderBy('fullVisitorId','visitId').show()"
   ]
  },
  {
   "cell_type": "code",
   "execution_count": 56,
   "metadata": {
    "colab": {
     "base_uri": "https://localhost:8080/"
    },
    "id": "uQniwU2R4Yob",
    "outputId": "7b936345-2602-4532-8ca2-bb7163b8eae4"
   },
   "outputs": [
    {
     "name": "stdout",
     "output_type": "stream",
     "text": [
      "+--------+----------+---------+--------------+---------+------------+--------------------+----------+-----------------------+\n",
      "|  source|   visitId|newVisits|hitAction_type|hitNumber|timeMicroSec|       v2ProductName|timeOnSite|totalTransactionRevenue|\n",
      "+--------+----------+---------+--------------+---------+------------+--------------------+----------+-----------------------+\n",
      "|(direct)|1492045051|        1|             0|        2|       29151|Google Men's Long...|       349|               50790000|\n",
      "|(direct)|1492045051|        1|             0|        2|       29151|Google Men's Shor...|       349|               50790000|\n",
      "|(direct)|1492045051|        1|             0|        2|       29151|Google Men's Shor...|       349|               50790000|\n",
      "|(direct)|1492045051|        1|             0|        2|       29151|YouTube Men's Sho...|       349|               50790000|\n",
      "|(direct)|1492045051|        1|             0|        2|       29151|Google Men's Perf...|       349|               50790000|\n",
      "|(direct)|1492045051|        1|             0|        2|       29151|Google Men's Vint...|       349|               50790000|\n",
      "|(direct)|1492045051|        1|             0|        2|       29151|Google Men's 100%...|       349|               50790000|\n",
      "|(direct)|1492045051|        1|             0|        2|       29151|YouTube Men's Sho...|       349|               50790000|\n",
      "|(direct)|1492045051|        1|             0|        2|       29151|Google Men's 100%...|       349|               50790000|\n",
      "|(direct)|1492045051|        1|             0|        2|       29151|YouTube Men's Sho...|       349|               50790000|\n",
      "|(direct)|1492045051|        1|             0|        2|       29151|Google Men's 100%...|       349|               50790000|\n",
      "|(direct)|1492045051|        1|             0|        2|       29151|Google Men's 100%...|       349|               50790000|\n",
      "|(direct)|1492045051|        1|             0|        3|       62305|Google Men's Perf...|       349|               50790000|\n",
      "|(direct)|1492045051|        1|             0|        3|       62305|Google Men's Ligh...|       349|               50790000|\n",
      "|(direct)|1492045051|        1|             0|        3|       62305|Google Men's Weat...|       349|               50790000|\n",
      "|(direct)|1492045051|        1|             0|        3|       62305|Google Men's Conv...|       349|               50790000|\n",
      "|(direct)|1492045051|        1|             0|        3|       62305|Google Men's Quil...|       349|               50790000|\n",
      "|(direct)|1492045051|        1|             0|        3|       62305|Google Men's Micr...|       349|               50790000|\n",
      "|(direct)|1492045051|        1|             0|        3|       62305|Google Tri-blend ...|       349|               50790000|\n",
      "|(direct)|1492045051|        1|             0|        3|       62305|Google Men's Wate...|       349|               50790000|\n",
      "|(direct)|1492045051|        1|             0|        3|       62305|Google Men's Pull...|       349|               50790000|\n",
      "|(direct)|1492045051|        1|             0|        3|       62305|Android Men's  Zi...|       349|               50790000|\n",
      "|(direct)|1492045051|        1|             0|        3|       62305|Google Men's Quil...|       349|               50790000|\n",
      "|(direct)|1492045051|        1|             0|        3|       62305|Google Men's  Zip...|       349|               50790000|\n",
      "|(direct)|1492045051|        1|             1|        4|       82771|Google Men's  Zip...|       349|               50790000|\n",
      "|(direct)|1492045051|        1|             2|        5|       82771|Google Men's  Zip...|       349|               50790000|\n",
      "|(direct)|1492045051|        1|             3|        6|       90238|Google Men's  Zip...|       349|               50790000|\n",
      "|(direct)|1492045051|        1|             2|        7|      126091|Google Tri-blend ...|       349|               50790000|\n",
      "|(direct)|1492045051|        1|             1|        8|      126091|Google Tri-blend ...|       349|               50790000|\n",
      "|(direct)|1492045051|        1|             0|        9|      143594|Google Men's 100%...|       349|               50790000|\n",
      "|(direct)|1492045051|        1|             0|        9|      143594|YouTube Men's Sho...|       349|               50790000|\n",
      "|(direct)|1492045051|        1|             0|        9|      143594|Google Men's Long...|       349|               50790000|\n",
      "|(direct)|1492045051|        1|             0|        9|      143594|Google Men's 100%...|       349|               50790000|\n",
      "|(direct)|1492045051|        1|             0|        9|      143594|Google Men's  Zip...|       349|               50790000|\n",
      "|(direct)|1492045051|        1|             0|        9|      143594|Google Men's 100%...|       349|               50790000|\n",
      "|(direct)|1492045051|        1|             0|        9|      143594|Android Men's  Zi...|       349|               50790000|\n",
      "|(direct)|1492045051|        1|             0|        9|      143594|Google Men's Wate...|       349|               50790000|\n",
      "|(direct)|1492045051|        1|             0|        9|      143594|Google Men's 100%...|       349|               50790000|\n",
      "|(direct)|1492045051|        1|             0|        9|      143594|YouTube Men's Sho...|       349|               50790000|\n",
      "|(direct)|1492045051|        1|             0|        9|      143594|Google Men's Pull...|       349|               50790000|\n",
      "|(direct)|1492045051|        1|             0|        9|      143594|Google Men's Shor...|       349|               50790000|\n",
      "|(direct)|1492045051|        1|             5|       11|      222205|Google Men's  Zip...|       349|               50790000|\n",
      "|(direct)|1492045051|        1|             5|       12|      240245|Google Men's  Zip...|       349|               50790000|\n",
      "|(direct)|1492045051|        1|             5|       13|      319362|Google Men's  Zip...|       349|               50790000|\n",
      "|(direct)|1492045051|        1|             6|       14|      333522|Google Men's  Zip...|       349|               50790000|\n",
      "|(direct)|1492045051|        1|             6|       15|      333523|Google Men's  Zip...|       349|               50790000|\n",
      "|(direct)|1492045051|        1|             0|       16|      349201|Compact Bluetooth...|       349|               50790000|\n",
      "|(direct)|1492045051|        1|             0|       16|      349201|Google Bongo Cuph...|       349|               50790000|\n",
      "|(direct)|1492045051|        1|             0|       16|      349201|Google Water Resi...|       349|               50790000|\n",
      "|(direct)|1492045051|        1|             0|       16|      349201|Google Pocket Blu...|       349|               50790000|\n",
      "|(direct)|1492045051|        1|             0|       16|      349201|Metal Earbuds wit...|       349|               50790000|\n",
      "|(direct)|1492045051|        1|             0|       16|      349201|Micro Wireless Ea...|       349|               50790000|\n",
      "|(direct)|1492045051|        1|             0|       16|      349201|Google Bluetooth ...|       349|               50790000|\n",
      "|(direct)|1492045051|        1|             0|       16|      349201|Google G Noise-re...|       349|               50790000|\n",
      "|(direct)|1492045051|        1|             0|       16|      349201|Google Bluetooth ...|       349|               50790000|\n",
      "+--------+----------+---------+--------------+---------+------------+--------------------+----------+-----------------------+\n",
      "\n"
     ]
    },
    {
     "name": "stderr",
     "output_type": "stream",
     "text": [
      "                                                                                \r"
     ]
    }
   ],
   "source": [
    "raw_df\\\n",
    "      .withColumn('numHit',allHit.over(sessionWindow))\\\n",
    "      .withColumn('hitAction_type_6',sparkf.when(sparkf.col('hitAction_type')==6,1).otherwise(0))\\\n",
    "      .withColumn('sum_hitAction_type_6',sparkf.sum(sparkf.col('hitAction_type_6')).over(sessionWindow))\\\n",
    ".filter((sparkf.col('fullVisitorId') == '4988683855814257726')&(sparkf.col('VisitId') == '1492045051'))\\\n",
    ".select(customerBehaviorCol_list)\\\n",
    ".orderBy('hitNumber').show(100)"
   ]
  },
  {
   "cell_type": "code",
   "execution_count": null,
   "metadata": {
    "id": "iFEMs_fx8FN9"
   },
   "outputs": [],
   "source": []
  },
  {
   "cell_type": "markdown",
   "metadata": {
    "id": "lWRsq4oEOzoC"
   },
   "source": [
    "# 3. Data Preparation"
   ]
  },
  {
   "cell_type": "code",
   "execution_count": 57,
   "metadata": {
    "id": "EJ7mXWCSN2XO"
   },
   "outputs": [],
   "source": [
    "# Drop columns\n",
    "# 'source', 'sourceKeyword', 'isVideoAd', 'visitId', 'hitReferer', 'timeMicroSec', 'v2ProductName', 'timeOnScreen'\n",
    "\n",
    "# onehot\n",
    "# 'productListName', 'dayofweek', 'hitAction_type'\n",
    "\n",
    "# standardization (don't need)\n",
    "# 'timeOnSite', 'totalTransactionRevenue'"
   ]
  },
  {
   "cell_type": "markdown",
   "metadata": {
    "id": "N6_9w-fQ0SbV"
   },
   "source": [
    "*โค้ดด้านล่าง แสดงการตรวจหาค่า null ว่าอยู่ที่ column และ row ใด*"
   ]
  },
  {
   "cell_type": "code",
   "execution_count": 58,
   "metadata": {
    "colab": {
     "base_uri": "https://localhost:8080/",
     "height": 947
    },
    "id": "9MjFyzRXzs69",
    "outputId": "b6782e6d-f99f-414d-dd97-07514657ea6c"
   },
   "outputs": [
    {
     "name": "stderr",
     "output_type": "stream",
     "text": [
      "                                                                                \r"
     ]
    },
    {
     "data": {
      "text/html": [
       "<div>\n",
       "<style scoped>\n",
       "    .dataframe tbody tr th:only-of-type {\n",
       "        vertical-align: middle;\n",
       "    }\n",
       "\n",
       "    .dataframe tbody tr th {\n",
       "        vertical-align: top;\n",
       "    }\n",
       "\n",
       "    .dataframe thead th {\n",
       "        text-align: right;\n",
       "    }\n",
       "</style>\n",
       "<table border=\"1\" class=\"dataframe\">\n",
       "  <thead>\n",
       "    <tr style=\"text-align: right;\">\n",
       "      <th></th>\n",
       "      <th>0</th>\n",
       "      <th>1</th>\n",
       "      <th>2</th>\n",
       "      <th>3</th>\n",
       "      <th>4</th>\n",
       "      <th>5</th>\n",
       "      <th>6</th>\n",
       "      <th>7</th>\n",
       "      <th>8</th>\n",
       "      <th>9</th>\n",
       "      <th>...</th>\n",
       "      <th>917804</th>\n",
       "      <th>917805</th>\n",
       "      <th>917806</th>\n",
       "      <th>917807</th>\n",
       "      <th>917808</th>\n",
       "      <th>917809</th>\n",
       "      <th>917810</th>\n",
       "      <th>917811</th>\n",
       "      <th>917812</th>\n",
       "      <th>917813</th>\n",
       "    </tr>\n",
       "  </thead>\n",
       "  <tbody>\n",
       "    <tr>\n",
       "      <th>source</th>\n",
       "      <td>google</td>\n",
       "      <td>google</td>\n",
       "      <td>google</td>\n",
       "      <td>google</td>\n",
       "      <td>google</td>\n",
       "      <td>google</td>\n",
       "      <td>google</td>\n",
       "      <td>google</td>\n",
       "      <td>google</td>\n",
       "      <td>google</td>\n",
       "      <td>...</td>\n",
       "      <td>google.com.ua</td>\n",
       "      <td>google.com.ua</td>\n",
       "      <td>google.com.ua</td>\n",
       "      <td>google.com.ua</td>\n",
       "      <td>google.com.ua</td>\n",
       "      <td>google.com.ua</td>\n",
       "      <td>google.com.ua</td>\n",
       "      <td>google.com.ua</td>\n",
       "      <td>google.com.ua</td>\n",
       "      <td>google.com.ua</td>\n",
       "    </tr>\n",
       "    <tr>\n",
       "      <th>isTrueDirect</th>\n",
       "      <td>True</td>\n",
       "      <td>True</td>\n",
       "      <td>True</td>\n",
       "      <td>True</td>\n",
       "      <td>True</td>\n",
       "      <td>True</td>\n",
       "      <td>True</td>\n",
       "      <td>True</td>\n",
       "      <td>True</td>\n",
       "      <td>True</td>\n",
       "      <td>...</td>\n",
       "      <td>None</td>\n",
       "      <td>None</td>\n",
       "      <td>None</td>\n",
       "      <td>None</td>\n",
       "      <td>None</td>\n",
       "      <td>None</td>\n",
       "      <td>None</td>\n",
       "      <td>None</td>\n",
       "      <td>None</td>\n",
       "      <td>None</td>\n",
       "    </tr>\n",
       "    <tr>\n",
       "      <th>sourceKeyword</th>\n",
       "      <td>(not provided)</td>\n",
       "      <td>(not provided)</td>\n",
       "      <td>(not provided)</td>\n",
       "      <td>(not provided)</td>\n",
       "      <td>(not provided)</td>\n",
       "      <td>(not provided)</td>\n",
       "      <td>(not provided)</td>\n",
       "      <td>(not provided)</td>\n",
       "      <td>(not provided)</td>\n",
       "      <td>(not provided)</td>\n",
       "      <td>...</td>\n",
       "      <td>None</td>\n",
       "      <td>None</td>\n",
       "      <td>None</td>\n",
       "      <td>None</td>\n",
       "      <td>None</td>\n",
       "      <td>None</td>\n",
       "      <td>None</td>\n",
       "      <td>None</td>\n",
       "      <td>None</td>\n",
       "      <td>None</td>\n",
       "    </tr>\n",
       "    <tr>\n",
       "      <th>medium</th>\n",
       "      <td>organic</td>\n",
       "      <td>organic</td>\n",
       "      <td>organic</td>\n",
       "      <td>organic</td>\n",
       "      <td>organic</td>\n",
       "      <td>organic</td>\n",
       "      <td>organic</td>\n",
       "      <td>organic</td>\n",
       "      <td>organic</td>\n",
       "      <td>organic</td>\n",
       "      <td>...</td>\n",
       "      <td>referral</td>\n",
       "      <td>referral</td>\n",
       "      <td>referral</td>\n",
       "      <td>referral</td>\n",
       "      <td>referral</td>\n",
       "      <td>referral</td>\n",
       "      <td>referral</td>\n",
       "      <td>referral</td>\n",
       "      <td>referral</td>\n",
       "      <td>referral</td>\n",
       "    </tr>\n",
       "    <tr>\n",
       "      <th>isVideoAd</th>\n",
       "      <td>None</td>\n",
       "      <td>None</td>\n",
       "      <td>None</td>\n",
       "      <td>None</td>\n",
       "      <td>None</td>\n",
       "      <td>None</td>\n",
       "      <td>None</td>\n",
       "      <td>None</td>\n",
       "      <td>None</td>\n",
       "      <td>None</td>\n",
       "      <td>...</td>\n",
       "      <td>None</td>\n",
       "      <td>None</td>\n",
       "      <td>None</td>\n",
       "      <td>None</td>\n",
       "      <td>None</td>\n",
       "      <td>None</td>\n",
       "      <td>None</td>\n",
       "      <td>None</td>\n",
       "      <td>None</td>\n",
       "      <td>None</td>\n",
       "    </tr>\n",
       "    <tr>\n",
       "      <th>fullVisitorId</th>\n",
       "      <td>4988612949713423910</td>\n",
       "      <td>4988612949713423910</td>\n",
       "      <td>4988612949713423910</td>\n",
       "      <td>4988612949713423910</td>\n",
       "      <td>4988612949713423910</td>\n",
       "      <td>4988612949713423910</td>\n",
       "      <td>4988612949713423910</td>\n",
       "      <td>4988612949713423910</td>\n",
       "      <td>4988612949713423910</td>\n",
       "      <td>4988612949713423910</td>\n",
       "      <td>...</td>\n",
       "      <td>548755853977389454</td>\n",
       "      <td>548755853977389454</td>\n",
       "      <td>548755853977389454</td>\n",
       "      <td>548755853977389454</td>\n",
       "      <td>548755853977389454</td>\n",
       "      <td>548755853977389454</td>\n",
       "      <td>548755853977389454</td>\n",
       "      <td>548755853977389454</td>\n",
       "      <td>548755853977389454</td>\n",
       "      <td>548755853977389454</td>\n",
       "    </tr>\n",
       "    <tr>\n",
       "      <th>visitId</th>\n",
       "      <td>1489617360</td>\n",
       "      <td>1489617360</td>\n",
       "      <td>1489617360</td>\n",
       "      <td>1489617360</td>\n",
       "      <td>1489617360</td>\n",
       "      <td>1489617360</td>\n",
       "      <td>1489617360</td>\n",
       "      <td>1489617360</td>\n",
       "      <td>1489617360</td>\n",
       "      <td>1489617360</td>\n",
       "      <td>...</td>\n",
       "      <td>1478328393</td>\n",
       "      <td>1478328393</td>\n",
       "      <td>1478328393</td>\n",
       "      <td>1478328393</td>\n",
       "      <td>1478328393</td>\n",
       "      <td>1478328393</td>\n",
       "      <td>1478328393</td>\n",
       "      <td>1478328393</td>\n",
       "      <td>1478328393</td>\n",
       "      <td>1478328393</td>\n",
       "    </tr>\n",
       "    <tr>\n",
       "      <th>date</th>\n",
       "      <td>20170315</td>\n",
       "      <td>20170315</td>\n",
       "      <td>20170315</td>\n",
       "      <td>20170315</td>\n",
       "      <td>20170315</td>\n",
       "      <td>20170315</td>\n",
       "      <td>20170315</td>\n",
       "      <td>20170315</td>\n",
       "      <td>20170315</td>\n",
       "      <td>20170315</td>\n",
       "      <td>...</td>\n",
       "      <td>20161104</td>\n",
       "      <td>20161104</td>\n",
       "      <td>20161104</td>\n",
       "      <td>20161104</td>\n",
       "      <td>20161104</td>\n",
       "      <td>20161104</td>\n",
       "      <td>20161104</td>\n",
       "      <td>20161104</td>\n",
       "      <td>20161104</td>\n",
       "      <td>20161104</td>\n",
       "    </tr>\n",
       "    <tr>\n",
       "      <th>newVisits</th>\n",
       "      <td>NaN</td>\n",
       "      <td>NaN</td>\n",
       "      <td>NaN</td>\n",
       "      <td>NaN</td>\n",
       "      <td>NaN</td>\n",
       "      <td>NaN</td>\n",
       "      <td>NaN</td>\n",
       "      <td>NaN</td>\n",
       "      <td>NaN</td>\n",
       "      <td>NaN</td>\n",
       "      <td>...</td>\n",
       "      <td>1.0</td>\n",
       "      <td>1.0</td>\n",
       "      <td>1.0</td>\n",
       "      <td>1.0</td>\n",
       "      <td>1.0</td>\n",
       "      <td>1.0</td>\n",
       "      <td>1.0</td>\n",
       "      <td>1.0</td>\n",
       "      <td>1.0</td>\n",
       "      <td>1.0</td>\n",
       "    </tr>\n",
       "    <tr>\n",
       "      <th>hitReferer</th>\n",
       "      <td>None</td>\n",
       "      <td>None</td>\n",
       "      <td>None</td>\n",
       "      <td>None</td>\n",
       "      <td>None</td>\n",
       "      <td>None</td>\n",
       "      <td>None</td>\n",
       "      <td>None</td>\n",
       "      <td>None</td>\n",
       "      <td>None</td>\n",
       "      <td>...</td>\n",
       "      <td>https://www.google.com.ua/imgres?imgurl=https%...</td>\n",
       "      <td>https://www.google.com.ua/imgres?imgurl=https%...</td>\n",
       "      <td>https://www.google.com.ua/imgres?imgurl=https%...</td>\n",
       "      <td>https://www.google.com.ua/imgres?imgurl=https%...</td>\n",
       "      <td>https://www.google.com.ua/imgres?imgurl=https%...</td>\n",
       "      <td>https://www.google.com.ua/imgres?imgurl=https%...</td>\n",
       "      <td>https://www.google.com.ua/imgres?imgurl=https%...</td>\n",
       "      <td>https://www.google.com.ua/imgres?imgurl=https%...</td>\n",
       "      <td>https://www.google.com.ua/imgres?imgurl=https%...</td>\n",
       "      <td>https://www.google.com.ua/imgres?imgurl=https%...</td>\n",
       "    </tr>\n",
       "    <tr>\n",
       "      <th>hitType</th>\n",
       "      <td>PAGE</td>\n",
       "      <td>PAGE</td>\n",
       "      <td>PAGE</td>\n",
       "      <td>PAGE</td>\n",
       "      <td>PAGE</td>\n",
       "      <td>PAGE</td>\n",
       "      <td>PAGE</td>\n",
       "      <td>PAGE</td>\n",
       "      <td>PAGE</td>\n",
       "      <td>PAGE</td>\n",
       "      <td>...</td>\n",
       "      <td>PAGE</td>\n",
       "      <td>PAGE</td>\n",
       "      <td>PAGE</td>\n",
       "      <td>PAGE</td>\n",
       "      <td>PAGE</td>\n",
       "      <td>PAGE</td>\n",
       "      <td>PAGE</td>\n",
       "      <td>PAGE</td>\n",
       "      <td>PAGE</td>\n",
       "      <td>PAGE</td>\n",
       "    </tr>\n",
       "    <tr>\n",
       "      <th>hitAction_type</th>\n",
       "      <td>0</td>\n",
       "      <td>0</td>\n",
       "      <td>0</td>\n",
       "      <td>0</td>\n",
       "      <td>0</td>\n",
       "      <td>0</td>\n",
       "      <td>0</td>\n",
       "      <td>0</td>\n",
       "      <td>0</td>\n",
       "      <td>0</td>\n",
       "      <td>...</td>\n",
       "      <td>0</td>\n",
       "      <td>0</td>\n",
       "      <td>0</td>\n",
       "      <td>0</td>\n",
       "      <td>0</td>\n",
       "      <td>0</td>\n",
       "      <td>0</td>\n",
       "      <td>0</td>\n",
       "      <td>0</td>\n",
       "      <td>0</td>\n",
       "    </tr>\n",
       "    <tr>\n",
       "      <th>hitNumber</th>\n",
       "      <td>28</td>\n",
       "      <td>27</td>\n",
       "      <td>10</td>\n",
       "      <td>44</td>\n",
       "      <td>22</td>\n",
       "      <td>40</td>\n",
       "      <td>23</td>\n",
       "      <td>7</td>\n",
       "      <td>10</td>\n",
       "      <td>4</td>\n",
       "      <td>...</td>\n",
       "      <td>1</td>\n",
       "      <td>1</td>\n",
       "      <td>1</td>\n",
       "      <td>1</td>\n",
       "      <td>1</td>\n",
       "      <td>1</td>\n",
       "      <td>1</td>\n",
       "      <td>1</td>\n",
       "      <td>1</td>\n",
       "      <td>1</td>\n",
       "    </tr>\n",
       "    <tr>\n",
       "      <th>hitHour</th>\n",
       "      <td>15</td>\n",
       "      <td>15</td>\n",
       "      <td>15</td>\n",
       "      <td>16</td>\n",
       "      <td>15</td>\n",
       "      <td>15</td>\n",
       "      <td>15</td>\n",
       "      <td>15</td>\n",
       "      <td>15</td>\n",
       "      <td>15</td>\n",
       "      <td>...</td>\n",
       "      <td>23</td>\n",
       "      <td>23</td>\n",
       "      <td>23</td>\n",
       "      <td>23</td>\n",
       "      <td>23</td>\n",
       "      <td>23</td>\n",
       "      <td>23</td>\n",
       "      <td>23</td>\n",
       "      <td>23</td>\n",
       "      <td>23</td>\n",
       "    </tr>\n",
       "    <tr>\n",
       "      <th>hitMin</th>\n",
       "      <td>46</td>\n",
       "      <td>46</td>\n",
       "      <td>40</td>\n",
       "      <td>6</td>\n",
       "      <td>43</td>\n",
       "      <td>47</td>\n",
       "      <td>43</td>\n",
       "      <td>38</td>\n",
       "      <td>40</td>\n",
       "      <td>36</td>\n",
       "      <td>...</td>\n",
       "      <td>46</td>\n",
       "      <td>46</td>\n",
       "      <td>46</td>\n",
       "      <td>46</td>\n",
       "      <td>46</td>\n",
       "      <td>46</td>\n",
       "      <td>46</td>\n",
       "      <td>46</td>\n",
       "      <td>46</td>\n",
       "      <td>46</td>\n",
       "    </tr>\n",
       "    <tr>\n",
       "      <th>timeMicroSec</th>\n",
       "      <td>608771</td>\n",
       "      <td>605064</td>\n",
       "      <td>264371</td>\n",
       "      <td>1814141</td>\n",
       "      <td>420004</td>\n",
       "      <td>668793</td>\n",
       "      <td>475751</td>\n",
       "      <td>169534</td>\n",
       "      <td>264371</td>\n",
       "      <td>6901</td>\n",
       "      <td>...</td>\n",
       "      <td>0</td>\n",
       "      <td>0</td>\n",
       "      <td>0</td>\n",
       "      <td>0</td>\n",
       "      <td>0</td>\n",
       "      <td>0</td>\n",
       "      <td>0</td>\n",
       "      <td>0</td>\n",
       "      <td>0</td>\n",
       "      <td>0</td>\n",
       "    </tr>\n",
       "    <tr>\n",
       "      <th>v2ProductName</th>\n",
       "      <td>Google Accent Insulated Stainless Steel Bottle</td>\n",
       "      <td>Google Pocket Bluetooth Speaker</td>\n",
       "      <td>Android Luggage Tag</td>\n",
       "      <td>Red Shine 15 oz Mug</td>\n",
       "      <td>Suitcase Organizer Cubes</td>\n",
       "      <td>Micro Wireless Earbud</td>\n",
       "      <td>Google Water Resistant Bluetooth Speaker</td>\n",
       "      <td>Android Journal Book Set</td>\n",
       "      <td>Windup Android</td>\n",
       "      <td>Google Laptop Backpack</td>\n",
       "      <td>...</td>\n",
       "      <td>Seat Pack Organizer</td>\n",
       "      <td>Fashion Sunglasses &amp; Pouch</td>\n",
       "      <td>Google Sunglasses</td>\n",
       "      <td>Google Luggage Tag</td>\n",
       "      <td>YouTube Luggage Tag</td>\n",
       "      <td>SPF-15 Slim &amp; Slender Lip Balm</td>\n",
       "      <td>Suitcase Organizer Cubes</td>\n",
       "      <td>Switch Tone Color Crayon Pen</td>\n",
       "      <td>1 oz Hand Sanitizer</td>\n",
       "      <td>Straw Beach Mat</td>\n",
       "    </tr>\n",
       "    <tr>\n",
       "      <th>productListName</th>\n",
       "      <td>Category</td>\n",
       "      <td>Category</td>\n",
       "      <td>Category</td>\n",
       "      <td>Category</td>\n",
       "      <td>Category</td>\n",
       "      <td>Category</td>\n",
       "      <td>Category</td>\n",
       "      <td>Category</td>\n",
       "      <td>Category</td>\n",
       "      <td>Related Products</td>\n",
       "      <td>...</td>\n",
       "      <td>Category</td>\n",
       "      <td>Category</td>\n",
       "      <td>Category</td>\n",
       "      <td>Category</td>\n",
       "      <td>Category</td>\n",
       "      <td>Category</td>\n",
       "      <td>Category</td>\n",
       "      <td>Category</td>\n",
       "      <td>Category</td>\n",
       "      <td>Category</td>\n",
       "    </tr>\n",
       "    <tr>\n",
       "      <th>isClick</th>\n",
       "      <td>None</td>\n",
       "      <td>None</td>\n",
       "      <td>None</td>\n",
       "      <td>None</td>\n",
       "      <td>None</td>\n",
       "      <td>None</td>\n",
       "      <td>None</td>\n",
       "      <td>None</td>\n",
       "      <td>None</td>\n",
       "      <td>None</td>\n",
       "      <td>...</td>\n",
       "      <td>None</td>\n",
       "      <td>None</td>\n",
       "      <td>None</td>\n",
       "      <td>None</td>\n",
       "      <td>None</td>\n",
       "      <td>None</td>\n",
       "      <td>None</td>\n",
       "      <td>None</td>\n",
       "      <td>None</td>\n",
       "      <td>None</td>\n",
       "    </tr>\n",
       "    <tr>\n",
       "      <th>isImpression</th>\n",
       "      <td>True</td>\n",
       "      <td>True</td>\n",
       "      <td>True</td>\n",
       "      <td>True</td>\n",
       "      <td>True</td>\n",
       "      <td>True</td>\n",
       "      <td>True</td>\n",
       "      <td>True</td>\n",
       "      <td>True</td>\n",
       "      <td>True</td>\n",
       "      <td>...</td>\n",
       "      <td>True</td>\n",
       "      <td>True</td>\n",
       "      <td>True</td>\n",
       "      <td>True</td>\n",
       "      <td>True</td>\n",
       "      <td>True</td>\n",
       "      <td>True</td>\n",
       "      <td>True</td>\n",
       "      <td>True</td>\n",
       "      <td>True</td>\n",
       "    </tr>\n",
       "    <tr>\n",
       "      <th>sessionQualityDim</th>\n",
       "      <td>NaN</td>\n",
       "      <td>NaN</td>\n",
       "      <td>NaN</td>\n",
       "      <td>NaN</td>\n",
       "      <td>NaN</td>\n",
       "      <td>NaN</td>\n",
       "      <td>NaN</td>\n",
       "      <td>NaN</td>\n",
       "      <td>NaN</td>\n",
       "      <td>NaN</td>\n",
       "      <td>...</td>\n",
       "      <td>NaN</td>\n",
       "      <td>NaN</td>\n",
       "      <td>NaN</td>\n",
       "      <td>NaN</td>\n",
       "      <td>NaN</td>\n",
       "      <td>NaN</td>\n",
       "      <td>NaN</td>\n",
       "      <td>NaN</td>\n",
       "      <td>NaN</td>\n",
       "      <td>NaN</td>\n",
       "    </tr>\n",
       "    <tr>\n",
       "      <th>timeOnScreen</th>\n",
       "      <td>None</td>\n",
       "      <td>None</td>\n",
       "      <td>None</td>\n",
       "      <td>None</td>\n",
       "      <td>None</td>\n",
       "      <td>None</td>\n",
       "      <td>None</td>\n",
       "      <td>None</td>\n",
       "      <td>None</td>\n",
       "      <td>None</td>\n",
       "      <td>...</td>\n",
       "      <td>None</td>\n",
       "      <td>None</td>\n",
       "      <td>None</td>\n",
       "      <td>None</td>\n",
       "      <td>None</td>\n",
       "      <td>None</td>\n",
       "      <td>None</td>\n",
       "      <td>None</td>\n",
       "      <td>None</td>\n",
       "      <td>None</td>\n",
       "    </tr>\n",
       "    <tr>\n",
       "      <th>timeOnSite</th>\n",
       "      <td>1897.0</td>\n",
       "      <td>1897.0</td>\n",
       "      <td>1897.0</td>\n",
       "      <td>1897.0</td>\n",
       "      <td>1897.0</td>\n",
       "      <td>1897.0</td>\n",
       "      <td>1897.0</td>\n",
       "      <td>1897.0</td>\n",
       "      <td>1897.0</td>\n",
       "      <td>1897.0</td>\n",
       "      <td>...</td>\n",
       "      <td>NaN</td>\n",
       "      <td>NaN</td>\n",
       "      <td>NaN</td>\n",
       "      <td>NaN</td>\n",
       "      <td>NaN</td>\n",
       "      <td>NaN</td>\n",
       "      <td>NaN</td>\n",
       "      <td>NaN</td>\n",
       "      <td>NaN</td>\n",
       "      <td>NaN</td>\n",
       "    </tr>\n",
       "    <tr>\n",
       "      <th>totalTransactionRevenue</th>\n",
       "      <td>NaN</td>\n",
       "      <td>NaN</td>\n",
       "      <td>NaN</td>\n",
       "      <td>NaN</td>\n",
       "      <td>NaN</td>\n",
       "      <td>NaN</td>\n",
       "      <td>NaN</td>\n",
       "      <td>NaN</td>\n",
       "      <td>NaN</td>\n",
       "      <td>NaN</td>\n",
       "      <td>...</td>\n",
       "      <td>NaN</td>\n",
       "      <td>NaN</td>\n",
       "      <td>NaN</td>\n",
       "      <td>NaN</td>\n",
       "      <td>NaN</td>\n",
       "      <td>NaN</td>\n",
       "      <td>NaN</td>\n",
       "      <td>NaN</td>\n",
       "      <td>NaN</td>\n",
       "      <td>NaN</td>\n",
       "    </tr>\n",
       "  </tbody>\n",
       "</table>\n",
       "<p>24 rows × 917814 columns</p>\n",
       "</div>"
      ],
      "text/plain": [
       "                                                                 0       \\\n",
       "source                                                           google   \n",
       "isTrueDirect                                                       True   \n",
       "sourceKeyword                                            (not provided)   \n",
       "medium                                                          organic   \n",
       "isVideoAd                                                          None   \n",
       "fullVisitorId                                       4988612949713423910   \n",
       "visitId                                                      1489617360   \n",
       "date                                                           20170315   \n",
       "newVisits                                                           NaN   \n",
       "hitReferer                                                         None   \n",
       "hitType                                                            PAGE   \n",
       "hitAction_type                                                        0   \n",
       "hitNumber                                                            28   \n",
       "hitHour                                                              15   \n",
       "hitMin                                                               46   \n",
       "timeMicroSec                                                     608771   \n",
       "v2ProductName            Google Accent Insulated Stainless Steel Bottle   \n",
       "productListName                                                Category   \n",
       "isClick                                                            None   \n",
       "isImpression                                                       True   \n",
       "sessionQualityDim                                                   NaN   \n",
       "timeOnScreen                                                       None   \n",
       "timeOnSite                                                       1897.0   \n",
       "totalTransactionRevenue                                             NaN   \n",
       "\n",
       "                                                  1                    2       \\\n",
       "source                                            google               google   \n",
       "isTrueDirect                                        True                 True   \n",
       "sourceKeyword                             (not provided)       (not provided)   \n",
       "medium                                           organic              organic   \n",
       "isVideoAd                                           None                 None   \n",
       "fullVisitorId                        4988612949713423910  4988612949713423910   \n",
       "visitId                                       1489617360           1489617360   \n",
       "date                                            20170315             20170315   \n",
       "newVisits                                            NaN                  NaN   \n",
       "hitReferer                                          None                 None   \n",
       "hitType                                             PAGE                 PAGE   \n",
       "hitAction_type                                         0                    0   \n",
       "hitNumber                                             27                   10   \n",
       "hitHour                                               15                   15   \n",
       "hitMin                                                46                   40   \n",
       "timeMicroSec                                      605064               264371   \n",
       "v2ProductName            Google Pocket Bluetooth Speaker  Android Luggage Tag   \n",
       "productListName                                 Category             Category   \n",
       "isClick                                             None                 None   \n",
       "isImpression                                        True                 True   \n",
       "sessionQualityDim                                    NaN                  NaN   \n",
       "timeOnScreen                                        None                 None   \n",
       "timeOnSite                                        1897.0               1897.0   \n",
       "totalTransactionRevenue                              NaN                  NaN   \n",
       "\n",
       "                                      3                         4       \\\n",
       "source                                google                    google   \n",
       "isTrueDirect                            True                      True   \n",
       "sourceKeyword                 (not provided)            (not provided)   \n",
       "medium                               organic                   organic   \n",
       "isVideoAd                               None                      None   \n",
       "fullVisitorId            4988612949713423910       4988612949713423910   \n",
       "visitId                           1489617360                1489617360   \n",
       "date                                20170315                  20170315   \n",
       "newVisits                                NaN                       NaN   \n",
       "hitReferer                              None                      None   \n",
       "hitType                                 PAGE                      PAGE   \n",
       "hitAction_type                             0                         0   \n",
       "hitNumber                                 44                        22   \n",
       "hitHour                                   16                        15   \n",
       "hitMin                                     6                        43   \n",
       "timeMicroSec                         1814141                    420004   \n",
       "v2ProductName            Red Shine 15 oz Mug  Suitcase Organizer Cubes   \n",
       "productListName                     Category                  Category   \n",
       "isClick                                 None                      None   \n",
       "isImpression                            True                      True   \n",
       "sessionQualityDim                        NaN                       NaN   \n",
       "timeOnScreen                            None                      None   \n",
       "timeOnSite                            1897.0                    1897.0   \n",
       "totalTransactionRevenue                  NaN                       NaN   \n",
       "\n",
       "                                        5       \\\n",
       "source                                  google   \n",
       "isTrueDirect                              True   \n",
       "sourceKeyword                   (not provided)   \n",
       "medium                                 organic   \n",
       "isVideoAd                                 None   \n",
       "fullVisitorId              4988612949713423910   \n",
       "visitId                             1489617360   \n",
       "date                                  20170315   \n",
       "newVisits                                  NaN   \n",
       "hitReferer                                None   \n",
       "hitType                                   PAGE   \n",
       "hitAction_type                               0   \n",
       "hitNumber                                   40   \n",
       "hitHour                                     15   \n",
       "hitMin                                      47   \n",
       "timeMicroSec                            668793   \n",
       "v2ProductName            Micro Wireless Earbud   \n",
       "productListName                       Category   \n",
       "isClick                                   None   \n",
       "isImpression                              True   \n",
       "sessionQualityDim                          NaN   \n",
       "timeOnScreen                              None   \n",
       "timeOnSite                              1897.0   \n",
       "totalTransactionRevenue                    NaN   \n",
       "\n",
       "                                                           6       \\\n",
       "source                                                     google   \n",
       "isTrueDirect                                                 True   \n",
       "sourceKeyword                                      (not provided)   \n",
       "medium                                                    organic   \n",
       "isVideoAd                                                    None   \n",
       "fullVisitorId                                 4988612949713423910   \n",
       "visitId                                                1489617360   \n",
       "date                                                     20170315   \n",
       "newVisits                                                     NaN   \n",
       "hitReferer                                                   None   \n",
       "hitType                                                      PAGE   \n",
       "hitAction_type                                                  0   \n",
       "hitNumber                                                      23   \n",
       "hitHour                                                        15   \n",
       "hitMin                                                         43   \n",
       "timeMicroSec                                               475751   \n",
       "v2ProductName            Google Water Resistant Bluetooth Speaker   \n",
       "productListName                                          Category   \n",
       "isClick                                                      None   \n",
       "isImpression                                                 True   \n",
       "sessionQualityDim                                             NaN   \n",
       "timeOnScreen                                                 None   \n",
       "timeOnSite                                                 1897.0   \n",
       "totalTransactionRevenue                                       NaN   \n",
       "\n",
       "                                           7                    8       \\\n",
       "source                                     google               google   \n",
       "isTrueDirect                                 True                 True   \n",
       "sourceKeyword                      (not provided)       (not provided)   \n",
       "medium                                    organic              organic   \n",
       "isVideoAd                                    None                 None   \n",
       "fullVisitorId                 4988612949713423910  4988612949713423910   \n",
       "visitId                                1489617360           1489617360   \n",
       "date                                     20170315             20170315   \n",
       "newVisits                                     NaN                  NaN   \n",
       "hitReferer                                   None                 None   \n",
       "hitType                                      PAGE                 PAGE   \n",
       "hitAction_type                                  0                    0   \n",
       "hitNumber                                       7                   10   \n",
       "hitHour                                        15                   15   \n",
       "hitMin                                         38                   40   \n",
       "timeMicroSec                               169534               264371   \n",
       "v2ProductName            Android Journal Book Set       Windup Android   \n",
       "productListName                          Category             Category   \n",
       "isClick                                      None                 None   \n",
       "isImpression                                 True                 True   \n",
       "sessionQualityDim                             NaN                  NaN   \n",
       "timeOnScreen                                 None                 None   \n",
       "timeOnSite                                 1897.0               1897.0   \n",
       "totalTransactionRevenue                       NaN                  NaN   \n",
       "\n",
       "                                         9       ...  \\\n",
       "source                                   google  ...   \n",
       "isTrueDirect                               True  ...   \n",
       "sourceKeyword                    (not provided)  ...   \n",
       "medium                                  organic  ...   \n",
       "isVideoAd                                  None  ...   \n",
       "fullVisitorId               4988612949713423910  ...   \n",
       "visitId                              1489617360  ...   \n",
       "date                                   20170315  ...   \n",
       "newVisits                                   NaN  ...   \n",
       "hitReferer                                 None  ...   \n",
       "hitType                                    PAGE  ...   \n",
       "hitAction_type                                0  ...   \n",
       "hitNumber                                     4  ...   \n",
       "hitHour                                      15  ...   \n",
       "hitMin                                       36  ...   \n",
       "timeMicroSec                               6901  ...   \n",
       "v2ProductName            Google Laptop Backpack  ...   \n",
       "productListName                Related Products  ...   \n",
       "isClick                                    None  ...   \n",
       "isImpression                               True  ...   \n",
       "sessionQualityDim                           NaN  ...   \n",
       "timeOnScreen                               None  ...   \n",
       "timeOnSite                               1897.0  ...   \n",
       "totalTransactionRevenue                     NaN  ...   \n",
       "\n",
       "                                                                    917804  \\\n",
       "source                                                       google.com.ua   \n",
       "isTrueDirect                                                          None   \n",
       "sourceKeyword                                                         None   \n",
       "medium                                                            referral   \n",
       "isVideoAd                                                             None   \n",
       "fullVisitorId                                           548755853977389454   \n",
       "visitId                                                         1478328393   \n",
       "date                                                              20161104   \n",
       "newVisits                                                              1.0   \n",
       "hitReferer               https://www.google.com.ua/imgres?imgurl=https%...   \n",
       "hitType                                                               PAGE   \n",
       "hitAction_type                                                           0   \n",
       "hitNumber                                                                1   \n",
       "hitHour                                                                 23   \n",
       "hitMin                                                                  46   \n",
       "timeMicroSec                                                             0   \n",
       "v2ProductName                                          Seat Pack Organizer   \n",
       "productListName                                                   Category   \n",
       "isClick                                                               None   \n",
       "isImpression                                                          True   \n",
       "sessionQualityDim                                                      NaN   \n",
       "timeOnScreen                                                          None   \n",
       "timeOnSite                                                             NaN   \n",
       "totalTransactionRevenue                                                NaN   \n",
       "\n",
       "                                                                    917805  \\\n",
       "source                                                       google.com.ua   \n",
       "isTrueDirect                                                          None   \n",
       "sourceKeyword                                                         None   \n",
       "medium                                                            referral   \n",
       "isVideoAd                                                             None   \n",
       "fullVisitorId                                           548755853977389454   \n",
       "visitId                                                         1478328393   \n",
       "date                                                              20161104   \n",
       "newVisits                                                              1.0   \n",
       "hitReferer               https://www.google.com.ua/imgres?imgurl=https%...   \n",
       "hitType                                                               PAGE   \n",
       "hitAction_type                                                           0   \n",
       "hitNumber                                                                1   \n",
       "hitHour                                                                 23   \n",
       "hitMin                                                                  46   \n",
       "timeMicroSec                                                             0   \n",
       "v2ProductName                                   Fashion Sunglasses & Pouch   \n",
       "productListName                                                   Category   \n",
       "isClick                                                               None   \n",
       "isImpression                                                          True   \n",
       "sessionQualityDim                                                      NaN   \n",
       "timeOnScreen                                                          None   \n",
       "timeOnSite                                                             NaN   \n",
       "totalTransactionRevenue                                                NaN   \n",
       "\n",
       "                                                                    917806  \\\n",
       "source                                                       google.com.ua   \n",
       "isTrueDirect                                                          None   \n",
       "sourceKeyword                                                         None   \n",
       "medium                                                            referral   \n",
       "isVideoAd                                                             None   \n",
       "fullVisitorId                                           548755853977389454   \n",
       "visitId                                                         1478328393   \n",
       "date                                                              20161104   \n",
       "newVisits                                                              1.0   \n",
       "hitReferer               https://www.google.com.ua/imgres?imgurl=https%...   \n",
       "hitType                                                               PAGE   \n",
       "hitAction_type                                                           0   \n",
       "hitNumber                                                                1   \n",
       "hitHour                                                                 23   \n",
       "hitMin                                                                  46   \n",
       "timeMicroSec                                                             0   \n",
       "v2ProductName                                            Google Sunglasses   \n",
       "productListName                                                   Category   \n",
       "isClick                                                               None   \n",
       "isImpression                                                          True   \n",
       "sessionQualityDim                                                      NaN   \n",
       "timeOnScreen                                                          None   \n",
       "timeOnSite                                                             NaN   \n",
       "totalTransactionRevenue                                                NaN   \n",
       "\n",
       "                                                                    917807  \\\n",
       "source                                                       google.com.ua   \n",
       "isTrueDirect                                                          None   \n",
       "sourceKeyword                                                         None   \n",
       "medium                                                            referral   \n",
       "isVideoAd                                                             None   \n",
       "fullVisitorId                                           548755853977389454   \n",
       "visitId                                                         1478328393   \n",
       "date                                                              20161104   \n",
       "newVisits                                                              1.0   \n",
       "hitReferer               https://www.google.com.ua/imgres?imgurl=https%...   \n",
       "hitType                                                               PAGE   \n",
       "hitAction_type                                                           0   \n",
       "hitNumber                                                                1   \n",
       "hitHour                                                                 23   \n",
       "hitMin                                                                  46   \n",
       "timeMicroSec                                                             0   \n",
       "v2ProductName                                           Google Luggage Tag   \n",
       "productListName                                                   Category   \n",
       "isClick                                                               None   \n",
       "isImpression                                                          True   \n",
       "sessionQualityDim                                                      NaN   \n",
       "timeOnScreen                                                          None   \n",
       "timeOnSite                                                             NaN   \n",
       "totalTransactionRevenue                                                NaN   \n",
       "\n",
       "                                                                    917808  \\\n",
       "source                                                       google.com.ua   \n",
       "isTrueDirect                                                          None   \n",
       "sourceKeyword                                                         None   \n",
       "medium                                                            referral   \n",
       "isVideoAd                                                             None   \n",
       "fullVisitorId                                           548755853977389454   \n",
       "visitId                                                         1478328393   \n",
       "date                                                              20161104   \n",
       "newVisits                                                              1.0   \n",
       "hitReferer               https://www.google.com.ua/imgres?imgurl=https%...   \n",
       "hitType                                                               PAGE   \n",
       "hitAction_type                                                           0   \n",
       "hitNumber                                                                1   \n",
       "hitHour                                                                 23   \n",
       "hitMin                                                                  46   \n",
       "timeMicroSec                                                             0   \n",
       "v2ProductName                                          YouTube Luggage Tag   \n",
       "productListName                                                   Category   \n",
       "isClick                                                               None   \n",
       "isImpression                                                          True   \n",
       "sessionQualityDim                                                      NaN   \n",
       "timeOnScreen                                                          None   \n",
       "timeOnSite                                                             NaN   \n",
       "totalTransactionRevenue                                                NaN   \n",
       "\n",
       "                                                                    917809  \\\n",
       "source                                                       google.com.ua   \n",
       "isTrueDirect                                                          None   \n",
       "sourceKeyword                                                         None   \n",
       "medium                                                            referral   \n",
       "isVideoAd                                                             None   \n",
       "fullVisitorId                                           548755853977389454   \n",
       "visitId                                                         1478328393   \n",
       "date                                                              20161104   \n",
       "newVisits                                                              1.0   \n",
       "hitReferer               https://www.google.com.ua/imgres?imgurl=https%...   \n",
       "hitType                                                               PAGE   \n",
       "hitAction_type                                                           0   \n",
       "hitNumber                                                                1   \n",
       "hitHour                                                                 23   \n",
       "hitMin                                                                  46   \n",
       "timeMicroSec                                                             0   \n",
       "v2ProductName                               SPF-15 Slim & Slender Lip Balm   \n",
       "productListName                                                   Category   \n",
       "isClick                                                               None   \n",
       "isImpression                                                          True   \n",
       "sessionQualityDim                                                      NaN   \n",
       "timeOnScreen                                                          None   \n",
       "timeOnSite                                                             NaN   \n",
       "totalTransactionRevenue                                                NaN   \n",
       "\n",
       "                                                                    917810  \\\n",
       "source                                                       google.com.ua   \n",
       "isTrueDirect                                                          None   \n",
       "sourceKeyword                                                         None   \n",
       "medium                                                            referral   \n",
       "isVideoAd                                                             None   \n",
       "fullVisitorId                                           548755853977389454   \n",
       "visitId                                                         1478328393   \n",
       "date                                                              20161104   \n",
       "newVisits                                                              1.0   \n",
       "hitReferer               https://www.google.com.ua/imgres?imgurl=https%...   \n",
       "hitType                                                               PAGE   \n",
       "hitAction_type                                                           0   \n",
       "hitNumber                                                                1   \n",
       "hitHour                                                                 23   \n",
       "hitMin                                                                  46   \n",
       "timeMicroSec                                                             0   \n",
       "v2ProductName                                     Suitcase Organizer Cubes   \n",
       "productListName                                                   Category   \n",
       "isClick                                                               None   \n",
       "isImpression                                                          True   \n",
       "sessionQualityDim                                                      NaN   \n",
       "timeOnScreen                                                          None   \n",
       "timeOnSite                                                             NaN   \n",
       "totalTransactionRevenue                                                NaN   \n",
       "\n",
       "                                                                    917811  \\\n",
       "source                                                       google.com.ua   \n",
       "isTrueDirect                                                          None   \n",
       "sourceKeyword                                                         None   \n",
       "medium                                                            referral   \n",
       "isVideoAd                                                             None   \n",
       "fullVisitorId                                           548755853977389454   \n",
       "visitId                                                         1478328393   \n",
       "date                                                              20161104   \n",
       "newVisits                                                              1.0   \n",
       "hitReferer               https://www.google.com.ua/imgres?imgurl=https%...   \n",
       "hitType                                                               PAGE   \n",
       "hitAction_type                                                           0   \n",
       "hitNumber                                                                1   \n",
       "hitHour                                                                 23   \n",
       "hitMin                                                                  46   \n",
       "timeMicroSec                                                             0   \n",
       "v2ProductName                                 Switch Tone Color Crayon Pen   \n",
       "productListName                                                   Category   \n",
       "isClick                                                               None   \n",
       "isImpression                                                          True   \n",
       "sessionQualityDim                                                      NaN   \n",
       "timeOnScreen                                                          None   \n",
       "timeOnSite                                                             NaN   \n",
       "totalTransactionRevenue                                                NaN   \n",
       "\n",
       "                                                                    917812  \\\n",
       "source                                                       google.com.ua   \n",
       "isTrueDirect                                                          None   \n",
       "sourceKeyword                                                         None   \n",
       "medium                                                            referral   \n",
       "isVideoAd                                                             None   \n",
       "fullVisitorId                                           548755853977389454   \n",
       "visitId                                                         1478328393   \n",
       "date                                                              20161104   \n",
       "newVisits                                                              1.0   \n",
       "hitReferer               https://www.google.com.ua/imgres?imgurl=https%...   \n",
       "hitType                                                               PAGE   \n",
       "hitAction_type                                                           0   \n",
       "hitNumber                                                                1   \n",
       "hitHour                                                                 23   \n",
       "hitMin                                                                  46   \n",
       "timeMicroSec                                                             0   \n",
       "v2ProductName                                          1 oz Hand Sanitizer   \n",
       "productListName                                                   Category   \n",
       "isClick                                                               None   \n",
       "isImpression                                                          True   \n",
       "sessionQualityDim                                                      NaN   \n",
       "timeOnScreen                                                          None   \n",
       "timeOnSite                                                             NaN   \n",
       "totalTransactionRevenue                                                NaN   \n",
       "\n",
       "                                                                    917813  \n",
       "source                                                       google.com.ua  \n",
       "isTrueDirect                                                          None  \n",
       "sourceKeyword                                                         None  \n",
       "medium                                                            referral  \n",
       "isVideoAd                                                             None  \n",
       "fullVisitorId                                           548755853977389454  \n",
       "visitId                                                         1478328393  \n",
       "date                                                              20161104  \n",
       "newVisits                                                              1.0  \n",
       "hitReferer               https://www.google.com.ua/imgres?imgurl=https%...  \n",
       "hitType                                                               PAGE  \n",
       "hitAction_type                                                           0  \n",
       "hitNumber                                                                1  \n",
       "hitHour                                                                 23  \n",
       "hitMin                                                                  46  \n",
       "timeMicroSec                                                             0  \n",
       "v2ProductName                                              Straw Beach Mat  \n",
       "productListName                                                   Category  \n",
       "isClick                                                               None  \n",
       "isImpression                                                          True  \n",
       "sessionQualityDim                                                      NaN  \n",
       "timeOnScreen                                                          None  \n",
       "timeOnSite                                                             NaN  \n",
       "totalTransactionRevenue                                                NaN  \n",
       "\n",
       "[24 rows x 917814 columns]"
      ]
     },
     "execution_count": 58,
     "metadata": {},
     "output_type": "execute_result"
    }
   ],
   "source": [
    "raw_df.filter(reduce(lambda a1, a2: a1 | a2,\\\n",
    "                     (sparkf.col(c).isNull() \\\n",
    "                      for c in raw_df.columns))).toPandas().transpose()"
   ]
  },
  {
   "cell_type": "code",
   "execution_count": 59,
   "metadata": {
    "id": "G4R-a_OsRnCm"
   },
   "outputs": [],
   "source": [
    "df2 = raw_df.withColumn('isTrueDirect', sparkf.when(raw_df.isTrueDirect == 'true', 1).otherwise(0)) \\\n",
    ".withColumn('medium_organic', sparkf.when(raw_df.medium == 'organic', 1).otherwise(0)) \\\n",
    ".withColumn('dayofweek', sparkf.dayofweek(sparkf.to_date(sparkf.col('date').cast('string'), 'yyyyMMdd'))) \\\n",
    ".withColumn('newVisits', sparkf.when(raw_df.newVisits == '1', 1).otherwise(0)) \\\n",
    ".withColumn('hitType_page', sparkf.when(raw_df.hitType == 'PAGE', 1).otherwise(0)) \\\n",
    ".withColumn('purchased', sparkf.when(raw_df.hitAction_type == 6, 1).otherwise(0)) \\\n",
    ".withColumn('hitHour_00_02', sparkf.when((raw_df.hitHour >= 0) & (raw_df.hitHour <= 2), 1).otherwise(0)) \\\n",
    ".withColumn('hitHour_03_05', sparkf.when((raw_df.hitHour >= 3) & (raw_df.hitHour <= 5), 1).otherwise(0)) \\\n",
    ".withColumn('hitHour_06_08', sparkf.when((raw_df.hitHour >= 6) & (raw_df.hitHour <= 8), 1).otherwise(0)) \\\n",
    ".withColumn('hitHour_09_11', sparkf.when((raw_df.hitHour >= 9) & (raw_df.hitHour <= 11), 1).otherwise(0)) \\\n",
    ".withColumn('hitHour_12_14', sparkf.when((raw_df.hitHour >= 12) & (raw_df.hitHour <= 14), 1).otherwise(0)) \\\n",
    ".withColumn('hitHour_15_17', sparkf.when((raw_df.hitHour >= 15) & (raw_df.hitHour <= 17), 1).otherwise(0)) \\\n",
    ".withColumn('hitHour_18_20', sparkf.when((raw_df.hitHour >= 18) & (raw_df.hitHour <= 20), 1).otherwise(0)) \\\n",
    ".withColumn('hitHour_21_23', sparkf.when((raw_df.hitHour >= 21) & (raw_df.hitHour <= 23), 1).otherwise(0)) \\\n",
    ".withColumn('hitMin_00_14', sparkf.when((raw_df.hitMin >= 0) & (raw_df.hitHour < 15), 1).otherwise(0)) \\\n",
    ".withColumn('hitMin_15_29', sparkf.when((raw_df.hitMin >= 15) & (raw_df.hitHour < 30), 1).otherwise(0)) \\\n",
    ".withColumn('hitMin_30_44', sparkf.when((raw_df.hitMin >= 30) & (raw_df.hitHour < 45), 1).otherwise(0)) \\\n",
    ".withColumn('hitMin_45_60', sparkf.when((raw_df.hitMin >= 45) & (raw_df.hitHour < 60), 1).otherwise(0)) \\\n",
    ".withColumn('isClick', sparkf.when(raw_df.isClick, 1).otherwise(0)) \\\n",
    ".withColumn('isImpression', sparkf.when(raw_df.isImpression, 1).otherwise(0)) \\\n",
    ".withColumn('hitaction_1', sparkf.when(raw_df.hitAction_type == 1, 1).otherwise(0)) \\\n",
    ".withColumn('hitaction_2', sparkf.when(raw_df.hitAction_type == 2, 1).otherwise(0)) \\\n",
    ".withColumn('hitaction_3', sparkf.when(raw_df.hitAction_type == 3, 1).otherwise(0)) \\\n",
    ".withColumn('hitaction_4', sparkf.when(raw_df.hitAction_type == 4, 1).otherwise(0)) \\\n",
    ".withColumn('hitaction_5', sparkf.when(raw_df.hitAction_type == 5, 1).otherwise(0)) \\\n",
    ".withColumn('hitaction_6', sparkf.when(raw_df.hitAction_type == 6, 1).otherwise(0)) \\\n",
    ".na.fill(value=0, subset=['timeOnSite', 'sessionQualityDim', 'totalTransactionRevenue'])\n",
    "# .drop('source', 'medium', 'date', 'hitType', 'hitHour', 'hitMin', 'sourceKeyword', 'isVideoAd', 'fullVisitorId', 'visitId', 'hitReferer', 'timeMicroSec', 'v2ProductName', 'timeOnScreen')"
   ]
  },
  {
   "cell_type": "code",
   "execution_count": 60,
   "metadata": {
    "colab": {
     "base_uri": "https://localhost:8080/"
    },
    "id": "ubUZR3h-anFo",
    "outputId": "6163ace1-a2a8-4eaa-df57-5b73cb55f570"
   },
   "outputs": [
    {
     "name": "stdout",
     "output_type": "stream",
     "text": [
      "root\n",
      " |-- source: string (nullable = true)\n",
      " |-- isTrueDirect: integer (nullable = false)\n",
      " |-- sourceKeyword: string (nullable = true)\n",
      " |-- medium: string (nullable = true)\n",
      " |-- isVideoAd: boolean (nullable = true)\n",
      " |-- fullVisitorId: long (nullable = true)\n",
      " |-- visitId: integer (nullable = true)\n",
      " |-- date: integer (nullable = true)\n",
      " |-- newVisits: integer (nullable = false)\n",
      " |-- hitReferer: string (nullable = true)\n",
      " |-- hitType: string (nullable = true)\n",
      " |-- hitAction_type: integer (nullable = true)\n",
      " |-- hitNumber: integer (nullable = true)\n",
      " |-- hitHour: integer (nullable = true)\n",
      " |-- hitMin: integer (nullable = true)\n",
      " |-- timeMicroSec: integer (nullable = true)\n",
      " |-- v2ProductName: string (nullable = true)\n",
      " |-- productListName: string (nullable = true)\n",
      " |-- isClick: integer (nullable = false)\n",
      " |-- isImpression: integer (nullable = false)\n",
      " |-- sessionQualityDim: integer (nullable = true)\n",
      " |-- timeOnScreen: string (nullable = true)\n",
      " |-- timeOnSite: integer (nullable = true)\n",
      " |-- totalTransactionRevenue: long (nullable = true)\n",
      " |-- medium_organic: integer (nullable = false)\n",
      " |-- dayofweek: integer (nullable = true)\n",
      " |-- hitType_page: integer (nullable = false)\n",
      " |-- purchased: integer (nullable = false)\n",
      " |-- hitHour_00_02: integer (nullable = false)\n",
      " |-- hitHour_03_05: integer (nullable = false)\n",
      " |-- hitHour_06_08: integer (nullable = false)\n",
      " |-- hitHour_09_11: integer (nullable = false)\n",
      " |-- hitHour_12_14: integer (nullable = false)\n",
      " |-- hitHour_15_17: integer (nullable = false)\n",
      " |-- hitHour_18_20: integer (nullable = false)\n",
      " |-- hitHour_21_23: integer (nullable = false)\n",
      " |-- hitMin_00_14: integer (nullable = false)\n",
      " |-- hitMin_15_29: integer (nullable = false)\n",
      " |-- hitMin_30_44: integer (nullable = false)\n",
      " |-- hitMin_45_60: integer (nullable = false)\n",
      " |-- hitaction_1: integer (nullable = false)\n",
      " |-- hitaction_2: integer (nullable = false)\n",
      " |-- hitaction_3: integer (nullable = false)\n",
      " |-- hitaction_4: integer (nullable = false)\n",
      " |-- hitaction_5: integer (nullable = false)\n",
      " |-- hitaction_6: integer (nullable = false)\n",
      "\n"
     ]
    }
   ],
   "source": [
    "df2.printSchema() ##Aekanun"
   ]
  },
  {
   "cell_type": "code",
   "execution_count": 61,
   "metadata": {
    "colab": {
     "base_uri": "https://localhost:8080/"
    },
    "id": "-yDVp_DEmOjS",
    "outputId": "fbb69e89-09fa-4088-bebc-e8a28d84e6f8"
   },
   "outputs": [
    {
     "name": "stdout",
     "output_type": "stream",
     "text": [
      "+------+------------+--------------+-------+---------+-------------------+----------+--------+---------+----------+-------+--------------+---------+-------+------+------------+--------------------+----------------+-------+------------+-----------------+------------+----------+-----------------------+--------------+---------+------------+---------+-------------+-------------+-------------+-------------+-------------+-------------+-------------+-------------+------------+------------+------------+------------+-----------+-----------+-----------+-----------+-----------+-----------+\n",
      "|source|isTrueDirect| sourceKeyword| medium|isVideoAd|      fullVisitorId|   visitId|    date|newVisits|hitReferer|hitType|hitAction_type|hitNumber|hitHour|hitMin|timeMicroSec|       v2ProductName| productListName|isClick|isImpression|sessionQualityDim|timeOnScreen|timeOnSite|totalTransactionRevenue|medium_organic|dayofweek|hitType_page|purchased|hitHour_00_02|hitHour_03_05|hitHour_06_08|hitHour_09_11|hitHour_12_14|hitHour_15_17|hitHour_18_20|hitHour_21_23|hitMin_00_14|hitMin_15_29|hitMin_30_44|hitMin_45_60|hitaction_1|hitaction_2|hitaction_3|hitaction_4|hitaction_5|hitaction_6|\n",
      "+------+------------+--------------+-------+---------+-------------------+----------+--------+---------+----------+-------+--------------+---------+-------+------+------------+--------------------+----------------+-------+------------+-----------------+------------+----------+-----------------------+--------------+---------+------------+---------+-------------+-------------+-------------+-------------+-------------+-------------+-------------+-------------+------------+------------+------------+------------+-----------+-----------+-----------+-----------+-----------+-----------+\n",
      "|google|           1|(not provided)|organic|     null|4988612949713423910|1489617360|20170315|        0|      null|   PAGE|             0|       28|     15|    46|      608771|Google Accent Ins...|        Category|      0|           1|                0|        null|      1897|                      0|             1|        4|           1|        0|            0|            0|            0|            0|            0|            1|            0|            0|           0|           1|           1|           1|          0|          0|          0|          0|          0|          0|\n",
      "|google|           1|(not provided)|organic|     null|4988612949713423910|1489617360|20170315|        0|      null|   PAGE|             0|       27|     15|    46|      605064|Google Pocket Blu...|        Category|      0|           1|                0|        null|      1897|                      0|             1|        4|           1|        0|            0|            0|            0|            0|            0|            1|            0|            0|           0|           1|           1|           1|          0|          0|          0|          0|          0|          0|\n",
      "|google|           1|(not provided)|organic|     null|4988612949713423910|1489617360|20170315|        0|      null|   PAGE|             0|       10|     15|    40|      264371| Android Luggage Tag|        Category|      0|           1|                0|        null|      1897|                      0|             1|        4|           1|        0|            0|            0|            0|            0|            0|            1|            0|            0|           0|           1|           1|           0|          0|          0|          0|          0|          0|          0|\n",
      "|google|           1|(not provided)|organic|     null|4988612949713423910|1489617360|20170315|        0|      null|   PAGE|             0|       44|     16|     6|     1814141| Red Shine 15 oz Mug|        Category|      0|           1|                0|        null|      1897|                      0|             1|        4|           1|        0|            0|            0|            0|            0|            0|            1|            0|            0|           0|           0|           0|           0|          0|          0|          0|          0|          0|          0|\n",
      "|google|           1|(not provided)|organic|     null|4988612949713423910|1489617360|20170315|        0|      null|   PAGE|             0|       22|     15|    43|      420004|Suitcase Organize...|        Category|      0|           1|                0|        null|      1897|                      0|             1|        4|           1|        0|            0|            0|            0|            0|            0|            1|            0|            0|           0|           1|           1|           0|          0|          0|          0|          0|          0|          0|\n",
      "|google|           1|(not provided)|organic|     null|4988612949713423910|1489617360|20170315|        0|      null|   PAGE|             0|       40|     15|    47|      668793|Micro Wireless Ea...|        Category|      0|           1|                0|        null|      1897|                      0|             1|        4|           1|        0|            0|            0|            0|            0|            0|            1|            0|            0|           0|           1|           1|           1|          0|          0|          0|          0|          0|          0|\n",
      "|google|           1|(not provided)|organic|     null|4988612949713423910|1489617360|20170315|        0|      null|   PAGE|             0|       23|     15|    43|      475751|Google Water Resi...|        Category|      0|           1|                0|        null|      1897|                      0|             1|        4|           1|        0|            0|            0|            0|            0|            0|            1|            0|            0|           0|           1|           1|           0|          0|          0|          0|          0|          0|          0|\n",
      "|google|           1|(not provided)|organic|     null|4988612949713423910|1489617360|20170315|        0|      null|   PAGE|             0|        7|     15|    38|      169534|Android Journal B...|        Category|      0|           1|                0|        null|      1897|                      0|             1|        4|           1|        0|            0|            0|            0|            0|            0|            1|            0|            0|           0|           1|           1|           0|          0|          0|          0|          0|          0|          0|\n",
      "|google|           1|(not provided)|organic|     null|4988612949713423910|1489617360|20170315|        0|      null|   PAGE|             0|       10|     15|    40|      264371|      Windup Android|        Category|      0|           1|                0|        null|      1897|                      0|             1|        4|           1|        0|            0|            0|            0|            0|            0|            1|            0|            0|           0|           1|           1|           0|          0|          0|          0|          0|          0|          0|\n",
      "|google|           1|(not provided)|organic|     null|4988612949713423910|1489617360|20170315|        0|      null|   PAGE|             0|        4|     15|    36|        6901|Google Laptop Bac...|Related Products|      0|           1|                0|        null|      1897|                      0|             1|        4|           1|        0|            0|            0|            0|            0|            0|            1|            0|            0|           0|           1|           1|           0|          0|          0|          0|          0|          0|          0|\n",
      "|google|           1|(not provided)|organic|     null|4988612949713423910|1489617360|20170315|        0|      null|   PAGE|             0|       20|     15|    41|      332236|YouTube Wool Heat...|        Category|      0|           1|                0|        null|      1897|                      0|             1|        4|           1|        0|            0|            0|            0|            0|            0|            1|            0|            0|           0|           1|           1|           0|          0|          0|          0|          0|          0|          0|\n",
      "|google|           1|(not provided)|organic|     null|4988612949713423910|1489617360|20170315|        0|      null|   PAGE|             0|       22|     15|    43|      420004| Waterproof Backpack|        Category|      0|           1|                0|        null|      1897|                      0|             1|        4|           1|        0|            0|            0|            0|            0|            0|            1|            0|            0|           0|           1|           1|           0|          0|          0|          0|          0|          0|          0|\n",
      "|google|           1|(not provided)|organic|     null|4988612949713423910|1489617360|20170315|        0|      null|   PAGE|             0|       23|     15|    43|      475751|Micro Wireless Ea...|        Category|      0|           1|                0|        null|      1897|                      0|             1|        4|           1|        0|            0|            0|            0|            0|            0|            1|            0|            0|           0|           1|           1|           0|          0|          0|          0|          0|          0|          0|\n",
      "|google|           1|(not provided)|organic|     null|4988612949713423910|1489617360|20170315|        0|      null|   PAGE|             0|       28|     15|    46|      608771|Google 17oz Stain...|        Category|      0|           1|                0|        null|      1897|                      0|             1|        4|           1|        0|            0|            0|            0|            0|            0|            1|            0|            0|           0|           1|           1|           1|          0|          0|          0|          0|          0|          0|\n",
      "|google|           1|(not provided)|organic|     null|4988612949713423910|1489617360|20170315|        0|      null|   PAGE|             0|       40|     15|    47|      668793|Google G Noise-re...|        Category|      0|           1|                0|        null|      1897|                      0|             1|        4|           1|        0|            0|            0|            0|            0|            0|            1|            0|            0|           0|           1|           1|           1|          0|          0|          0|          0|          0|          0|\n",
      "|google|           1|(not provided)|organic|     null|4988612949713423910|1489617360|20170315|        0|      null|   PAGE|             0|       23|     15|    43|      475751|Google Bluetooth ...|        Category|      0|           1|                0|        null|      1897|                      0|             1|        4|           1|        0|            0|            0|            0|            0|            0|            1|            0|            0|           0|           1|           1|           0|          0|          0|          0|          0|          0|          0|\n",
      "|google|           1|(not provided)|organic|     null|4988612949713423910|1489617360|20170315|        0|      null|   PAGE|             0|       27|     15|    46|      605064|Micro Wireless Ea...|        Category|      0|           1|                0|        null|      1897|                      0|             1|        4|           1|        0|            0|            0|            0|            0|            0|            1|            0|            0|           0|           1|           1|           1|          0|          0|          0|          0|          0|          0|\n",
      "|google|           1|(not provided)|organic|     null|4988612949713423910|1489617360|20170315|        0|      null|   PAGE|             0|       45|     16|     6|     1823878|Google Insulated ...|        Category|      0|           1|                0|        null|      1897|                      0|             1|        4|           1|        0|            0|            0|            0|            0|            0|            1|            0|            0|           0|           0|           0|           0|          0|          0|          0|          0|          0|          0|\n",
      "|google|           1|(not provided)|organic|     null|4988612949713423910|1489617360|20170315|        0|      null|   PAGE|             0|       21|     15|    41|      353052|Google Women's 3/...|        Category|      0|           1|                0|        null|      1897|                      0|             1|        4|           1|        0|            0|            0|            0|            0|            0|            1|            0|            0|           0|           1|           1|           0|          0|          0|          0|          0|          0|          0|\n",
      "|google|           1|(not provided)|organic|     null|4988612949713423910|1489617360|20170315|        0|      null|   PAGE|             0|        8|     15|    39|      205833|  Bottle Opener Clip|        Category|      0|           1|                0|        null|      1897|                      0|             1|        4|           1|        0|            0|            0|            0|            0|            0|            1|            0|            0|           0|           1|           1|           0|          0|          0|          0|          0|          0|          0|\n",
      "+------+------------+--------------+-------+---------+-------------------+----------+--------+---------+----------+-------+--------------+---------+-------+------+------------+--------------------+----------------+-------+------------+-----------------+------------+----------+-----------------------+--------------+---------+------------+---------+-------------+-------------+-------------+-------------+-------------+-------------+-------------+-------------+------------+------------+------------+------------+-----------+-----------+-----------+-----------+-----------+-----------+\n",
      "only showing top 20 rows\n",
      "\n"
     ]
    }
   ],
   "source": [
    "df2.show()"
   ]
  },
  {
   "cell_type": "code",
   "execution_count": 62,
   "metadata": {
    "colab": {
     "base_uri": "https://localhost:8080/"
    },
    "id": "O97qy_GP_EMv",
    "outputId": "b3060389-675f-47d8-ae16-ac3101eda7d9"
   },
   "outputs": [
    {
     "name": "stderr",
     "output_type": "stream",
     "text": [
      "                                                                                \r"
     ]
    },
    {
     "name": "stdout",
     "output_type": "stream",
     "text": [
      "+---------------+-----+\n",
      "|productListName|count|\n",
      "+---------------+-----+\n",
      "|      (not set)| 3880|\n",
      "+---------------+-----+\n",
      "\n"
     ]
    }
   ],
   "source": [
    "df2.filter(df2.hitaction_6 >= 1).groupBy('productListName').count().show()"
   ]
  },
  {
   "cell_type": "code",
   "execution_count": 63,
   "metadata": {
    "id": "wu0bk49AeN5P"
   },
   "outputs": [],
   "source": [
    "df3 = df2.groupBy('fullVisitorId', 'visitId', 'v2ProductName', \n",
    "                  'isTrueDirect', 'medium_organic', 'dayofweek',\n",
    "                  'newVisits', 'hitType_page',\n",
    "                  'hitHour_00_02', 'hitHour_03_05', 'hitHour_06_08', 'hitHour_09_11', \n",
    "                  'hitHour_12_14', 'hitHour_15_17',  'hitHour_18_20', 'hitHour_21_23', \n",
    "                  ) \\\n",
    ".agg(sparkf.sum('hitaction_1').alias('sum_hitaction_1')\n",
    ", sparkf.sum('hitaction_2').alias('sum_hitaction_2')\n",
    ", sparkf.sum('hitaction_3').alias('sum_hitaction_3')\n",
    ", sparkf.sum('hitaction_4').alias('sum_hitaction_4')\n",
    ", sparkf.sum('hitaction_5').alias('sum_hitaction_5')\n",
    ", sparkf.sum('hitaction_6').alias('sum_hitaction_6')\n",
    ", sparkf.max('hitNumber').alias('hitNumber')\n",
    ", sparkf.max('timeOnSite').alias('timeOnSite')\n",
    ", sparkf.max('sessionQualityDim').alias('sessionQualityDim')\n",
    ", sparkf.max('totalTransactionRevenue').alias('totalTransactionRevenue')\n",
    ", sparkf.max('isClick').alias('isClick')\n",
    ", sparkf.max('isImpression').alias('isImpression')\n",
    ")"
   ]
  },
  {
   "cell_type": "code",
   "execution_count": 64,
   "metadata": {
    "id": "Lx84yeCDtEuH"
   },
   "outputs": [],
   "source": [
    "df3 = df3.withColumn('target', sparkf.when(df3.sum_hitaction_6 >= 1, 1).otherwise(0))"
   ]
  },
  {
   "cell_type": "code",
   "execution_count": 65,
   "metadata": {
    "colab": {
     "base_uri": "https://localhost:8080/",
     "height": 990
    },
    "id": "Nys18fuC2IZq",
    "outputId": "c89256e2-dea2-4d03-88fa-e9211b98c85c"
   },
   "outputs": [
    {
     "name": "stderr",
     "output_type": "stream",
     "text": [
      "                                                                                \r"
     ]
    },
    {
     "data": {
      "text/html": [
       "<div>\n",
       "<style scoped>\n",
       "    .dataframe tbody tr th:only-of-type {\n",
       "        vertical-align: middle;\n",
       "    }\n",
       "\n",
       "    .dataframe tbody tr th {\n",
       "        vertical-align: top;\n",
       "    }\n",
       "\n",
       "    .dataframe thead th {\n",
       "        text-align: right;\n",
       "    }\n",
       "</style>\n",
       "<table border=\"1\" class=\"dataframe\">\n",
       "  <thead>\n",
       "    <tr style=\"text-align: right;\">\n",
       "      <th></th>\n",
       "      <th>0</th>\n",
       "      <th>1</th>\n",
       "      <th>2</th>\n",
       "      <th>3</th>\n",
       "      <th>4</th>\n",
       "    </tr>\n",
       "  </thead>\n",
       "  <tbody>\n",
       "    <tr>\n",
       "      <th>summary</th>\n",
       "      <td>count</td>\n",
       "      <td>mean</td>\n",
       "      <td>stddev</td>\n",
       "      <td>min</td>\n",
       "      <td>max</td>\n",
       "    </tr>\n",
       "    <tr>\n",
       "      <th>fullVisitorId</th>\n",
       "      <td>636420</td>\n",
       "      <td>4.7591779043841403E18</td>\n",
       "      <td>1.43788778900572262E18</td>\n",
       "      <td>514359656957582</td>\n",
       "      <td>5487531102128447544</td>\n",
       "    </tr>\n",
       "    <tr>\n",
       "      <th>visitId</th>\n",
       "      <td>636420</td>\n",
       "      <td>1.4832625402124038E9</td>\n",
       "      <td>9721153.90715016</td>\n",
       "      <td>1470037326</td>\n",
       "      <td>1501656575</td>\n",
       "    </tr>\n",
       "    <tr>\n",
       "      <th>v2ProductName</th>\n",
       "      <td>636420</td>\n",
       "      <td>None</td>\n",
       "      <td>None</td>\n",
       "      <td>\"7\"\" Dog Frisbee\"</td>\n",
       "      <td>YouTube Youth Short Sleeve Tee Red</td>\n",
       "    </tr>\n",
       "    <tr>\n",
       "      <th>isTrueDirect</th>\n",
       "      <td>636420</td>\n",
       "      <td>0.3486078375915276</td>\n",
       "      <td>0.4765299255774955</td>\n",
       "      <td>0</td>\n",
       "      <td>1</td>\n",
       "    </tr>\n",
       "    <tr>\n",
       "      <th>medium_organic</th>\n",
       "      <td>636420</td>\n",
       "      <td>0.3322585713836774</td>\n",
       "      <td>0.4710235256725394</td>\n",
       "      <td>0</td>\n",
       "      <td>1</td>\n",
       "    </tr>\n",
       "    <tr>\n",
       "      <th>dayofweek</th>\n",
       "      <td>636420</td>\n",
       "      <td>3.9352424499544325</td>\n",
       "      <td>1.8421856927605083</td>\n",
       "      <td>1</td>\n",
       "      <td>7</td>\n",
       "    </tr>\n",
       "    <tr>\n",
       "      <th>newVisits</th>\n",
       "      <td>636420</td>\n",
       "      <td>0.7284466232990793</td>\n",
       "      <td>0.44476111691992143</td>\n",
       "      <td>0</td>\n",
       "      <td>1</td>\n",
       "    </tr>\n",
       "    <tr>\n",
       "      <th>hitType_page</th>\n",
       "      <td>636420</td>\n",
       "      <td>0.9757660035825398</td>\n",
       "      <td>0.15377498818397486</td>\n",
       "      <td>0</td>\n",
       "      <td>1</td>\n",
       "    </tr>\n",
       "    <tr>\n",
       "      <th>hitHour_00_02</th>\n",
       "      <td>636420</td>\n",
       "      <td>0.07368718770623173</td>\n",
       "      <td>0.2612613506174498</td>\n",
       "      <td>0</td>\n",
       "      <td>1</td>\n",
       "    </tr>\n",
       "    <tr>\n",
       "      <th>hitHour_03_05</th>\n",
       "      <td>636420</td>\n",
       "      <td>0.06894503629678514</td>\n",
       "      <td>0.2533608476670931</td>\n",
       "      <td>0</td>\n",
       "      <td>1</td>\n",
       "    </tr>\n",
       "    <tr>\n",
       "      <th>hitHour_06_08</th>\n",
       "      <td>636420</td>\n",
       "      <td>0.12639294805317244</td>\n",
       "      <td>0.3322919563187558</td>\n",
       "      <td>0</td>\n",
       "      <td>1</td>\n",
       "    </tr>\n",
       "    <tr>\n",
       "      <th>hitHour_09_11</th>\n",
       "      <td>636420</td>\n",
       "      <td>0.18581911316426258</td>\n",
       "      <td>0.3889609338589653</td>\n",
       "      <td>0</td>\n",
       "      <td>1</td>\n",
       "    </tr>\n",
       "    <tr>\n",
       "      <th>hitHour_12_14</th>\n",
       "      <td>636420</td>\n",
       "      <td>0.17926840765532195</td>\n",
       "      <td>0.3835772110777401</td>\n",
       "      <td>0</td>\n",
       "      <td>1</td>\n",
       "    </tr>\n",
       "    <tr>\n",
       "      <th>hitHour_15_17</th>\n",
       "      <td>636420</td>\n",
       "      <td>0.13754910279375254</td>\n",
       "      <td>0.34442638330376896</td>\n",
       "      <td>0</td>\n",
       "      <td>1</td>\n",
       "    </tr>\n",
       "    <tr>\n",
       "      <th>hitHour_18_20</th>\n",
       "      <td>636420</td>\n",
       "      <td>0.120134502372647</td>\n",
       "      <td>0.3251190086742649</td>\n",
       "      <td>0</td>\n",
       "      <td>1</td>\n",
       "    </tr>\n",
       "    <tr>\n",
       "      <th>hitHour_21_23</th>\n",
       "      <td>636420</td>\n",
       "      <td>0.1082037019578266</td>\n",
       "      <td>0.3106377511882542</td>\n",
       "      <td>0</td>\n",
       "      <td>1</td>\n",
       "    </tr>\n",
       "    <tr>\n",
       "      <th>sum_hitaction_1</th>\n",
       "      <td>636420</td>\n",
       "      <td>0.03496590302001823</td>\n",
       "      <td>0.3007511682771589</td>\n",
       "      <td>0</td>\n",
       "      <td>48</td>\n",
       "    </tr>\n",
       "    <tr>\n",
       "      <th>sum_hitaction_2</th>\n",
       "      <td>636420</td>\n",
       "      <td>0.0287750227836963</td>\n",
       "      <td>0.25241396610215006</td>\n",
       "      <td>0</td>\n",
       "      <td>47</td>\n",
       "    </tr>\n",
       "    <tr>\n",
       "      <th>sum_hitaction_3</th>\n",
       "      <td>636420</td>\n",
       "      <td>0.009741994280506584</td>\n",
       "      <td>0.13833909742120287</td>\n",
       "      <td>0</td>\n",
       "      <td>21</td>\n",
       "    </tr>\n",
       "    <tr>\n",
       "      <th>sum_hitaction_4</th>\n",
       "      <td>636420</td>\n",
       "      <td>0.0013905911190723107</td>\n",
       "      <td>0.04550384850273129</td>\n",
       "      <td>0</td>\n",
       "      <td>12</td>\n",
       "    </tr>\n",
       "    <tr>\n",
       "      <th>sum_hitaction_5</th>\n",
       "      <td>636420</td>\n",
       "      <td>0.019452562773011533</td>\n",
       "      <td>0.35920316030528965</td>\n",
       "      <td>0</td>\n",
       "      <td>33</td>\n",
       "    </tr>\n",
       "    <tr>\n",
       "      <th>sum_hitaction_6</th>\n",
       "      <td>636420</td>\n",
       "      <td>0.006096602872317024</td>\n",
       "      <td>0.12070443483804943</td>\n",
       "      <td>0</td>\n",
       "      <td>10</td>\n",
       "    </tr>\n",
       "    <tr>\n",
       "      <th>hitNumber</th>\n",
       "      <td>636420</td>\n",
       "      <td>9.917317180478301</td>\n",
       "      <td>15.640945415178914</td>\n",
       "      <td>1</td>\n",
       "      <td>239</td>\n",
       "    </tr>\n",
       "    <tr>\n",
       "      <th>timeOnSite</th>\n",
       "      <td>636420</td>\n",
       "      <td>455.7721583231199</td>\n",
       "      <td>712.2224840786472</td>\n",
       "      <td>0</td>\n",
       "      <td>9963</td>\n",
       "    </tr>\n",
       "    <tr>\n",
       "      <th>sessionQualityDim</th>\n",
       "      <td>636420</td>\n",
       "      <td>0.9999135790829955</td>\n",
       "      <td>7.415506265350946</td>\n",
       "      <td>0</td>\n",
       "      <td>94</td>\n",
       "    </tr>\n",
       "    <tr>\n",
       "      <th>totalTransactionRevenue</th>\n",
       "      <td>636420</td>\n",
       "      <td>8445628.89286949</td>\n",
       "      <td>9.98044919340114E7</td>\n",
       "      <td>0</td>\n",
       "      <td>5608400000</td>\n",
       "    </tr>\n",
       "    <tr>\n",
       "      <th>isClick</th>\n",
       "      <td>636420</td>\n",
       "      <td>0.02086829452248515</td>\n",
       "      <td>0.14294348852646033</td>\n",
       "      <td>0</td>\n",
       "      <td>1</td>\n",
       "    </tr>\n",
       "    <tr>\n",
       "      <th>isImpression</th>\n",
       "      <td>636420</td>\n",
       "      <td>0.9755554508029289</td>\n",
       "      <td>0.1544249030507743</td>\n",
       "      <td>0</td>\n",
       "      <td>1</td>\n",
       "    </tr>\n",
       "    <tr>\n",
       "      <th>target</th>\n",
       "      <td>636420</td>\n",
       "      <td>0.0028251783413469093</td>\n",
       "      <td>0.053077312811829286</td>\n",
       "      <td>0</td>\n",
       "      <td>1</td>\n",
       "    </tr>\n",
       "  </tbody>\n",
       "</table>\n",
       "</div>"
      ],
      "text/plain": [
       "                              0                      1  \\\n",
       "summary                   count                   mean   \n",
       "fullVisitorId            636420  4.7591779043841403E18   \n",
       "visitId                  636420   1.4832625402124038E9   \n",
       "v2ProductName            636420                   None   \n",
       "isTrueDirect             636420     0.3486078375915276   \n",
       "medium_organic           636420     0.3322585713836774   \n",
       "dayofweek                636420     3.9352424499544325   \n",
       "newVisits                636420     0.7284466232990793   \n",
       "hitType_page             636420     0.9757660035825398   \n",
       "hitHour_00_02            636420    0.07368718770623173   \n",
       "hitHour_03_05            636420    0.06894503629678514   \n",
       "hitHour_06_08            636420    0.12639294805317244   \n",
       "hitHour_09_11            636420    0.18581911316426258   \n",
       "hitHour_12_14            636420    0.17926840765532195   \n",
       "hitHour_15_17            636420    0.13754910279375254   \n",
       "hitHour_18_20            636420      0.120134502372647   \n",
       "hitHour_21_23            636420     0.1082037019578266   \n",
       "sum_hitaction_1          636420    0.03496590302001823   \n",
       "sum_hitaction_2          636420     0.0287750227836963   \n",
       "sum_hitaction_3          636420   0.009741994280506584   \n",
       "sum_hitaction_4          636420  0.0013905911190723107   \n",
       "sum_hitaction_5          636420   0.019452562773011533   \n",
       "sum_hitaction_6          636420   0.006096602872317024   \n",
       "hitNumber                636420      9.917317180478301   \n",
       "timeOnSite               636420      455.7721583231199   \n",
       "sessionQualityDim        636420     0.9999135790829955   \n",
       "totalTransactionRevenue  636420       8445628.89286949   \n",
       "isClick                  636420    0.02086829452248515   \n",
       "isImpression             636420     0.9755554508029289   \n",
       "target                   636420  0.0028251783413469093   \n",
       "\n",
       "                                              2                  3  \\\n",
       "summary                                  stddev                min   \n",
       "fullVisitorId            1.43788778900572262E18    514359656957582   \n",
       "visitId                        9721153.90715016         1470037326   \n",
       "v2ProductName                              None  \"7\"\" Dog Frisbee\"   \n",
       "isTrueDirect                 0.4765299255774955                  0   \n",
       "medium_organic               0.4710235256725394                  0   \n",
       "dayofweek                    1.8421856927605083                  1   \n",
       "newVisits                   0.44476111691992143                  0   \n",
       "hitType_page                0.15377498818397486                  0   \n",
       "hitHour_00_02                0.2612613506174498                  0   \n",
       "hitHour_03_05                0.2533608476670931                  0   \n",
       "hitHour_06_08                0.3322919563187558                  0   \n",
       "hitHour_09_11                0.3889609338589653                  0   \n",
       "hitHour_12_14                0.3835772110777401                  0   \n",
       "hitHour_15_17               0.34442638330376896                  0   \n",
       "hitHour_18_20                0.3251190086742649                  0   \n",
       "hitHour_21_23                0.3106377511882542                  0   \n",
       "sum_hitaction_1              0.3007511682771589                  0   \n",
       "sum_hitaction_2             0.25241396610215006                  0   \n",
       "sum_hitaction_3             0.13833909742120287                  0   \n",
       "sum_hitaction_4             0.04550384850273129                  0   \n",
       "sum_hitaction_5             0.35920316030528965                  0   \n",
       "sum_hitaction_6             0.12070443483804943                  0   \n",
       "hitNumber                    15.640945415178914                  1   \n",
       "timeOnSite                    712.2224840786472                  0   \n",
       "sessionQualityDim             7.415506265350946                  0   \n",
       "totalTransactionRevenue      9.98044919340114E7                  0   \n",
       "isClick                     0.14294348852646033                  0   \n",
       "isImpression                 0.1544249030507743                  0   \n",
       "target                     0.053077312811829286                  0   \n",
       "\n",
       "                                                          4  \n",
       "summary                                                 max  \n",
       "fullVisitorId                           5487531102128447544  \n",
       "visitId                                          1501656575  \n",
       "v2ProductName            YouTube Youth Short Sleeve Tee Red  \n",
       "isTrueDirect                                              1  \n",
       "medium_organic                                            1  \n",
       "dayofweek                                                 7  \n",
       "newVisits                                                 1  \n",
       "hitType_page                                              1  \n",
       "hitHour_00_02                                             1  \n",
       "hitHour_03_05                                             1  \n",
       "hitHour_06_08                                             1  \n",
       "hitHour_09_11                                             1  \n",
       "hitHour_12_14                                             1  \n",
       "hitHour_15_17                                             1  \n",
       "hitHour_18_20                                             1  \n",
       "hitHour_21_23                                             1  \n",
       "sum_hitaction_1                                          48  \n",
       "sum_hitaction_2                                          47  \n",
       "sum_hitaction_3                                          21  \n",
       "sum_hitaction_4                                          12  \n",
       "sum_hitaction_5                                          33  \n",
       "sum_hitaction_6                                          10  \n",
       "hitNumber                                               239  \n",
       "timeOnSite                                             9963  \n",
       "sessionQualityDim                                        94  \n",
       "totalTransactionRevenue                          5608400000  \n",
       "isClick                                                   1  \n",
       "isImpression                                              1  \n",
       "target                                                    1  "
      ]
     },
     "execution_count": 65,
     "metadata": {},
     "output_type": "execute_result"
    }
   ],
   "source": [
    "df3.describe().toPandas().transpose()"
   ]
  },
  {
   "cell_type": "markdown",
   "metadata": {
    "id": "ScHqgR3j0WNg"
   },
   "source": [
    "*โค้ดด้านล่าง แสดงการนับจำนวนค่า null ที่อาจหลงเหลืออยู่จากการ cleansing and transformation*"
   ]
  },
  {
   "cell_type": "code",
   "execution_count": 66,
   "metadata": {
    "colab": {
     "base_uri": "https://localhost:8080/"
    },
    "id": "K3EsYdQSvqXz",
    "outputId": "c1650490-bf74-4473-9691-e8280b601cc9"
   },
   "outputs": [
    {
     "name": "stderr",
     "output_type": "stream",
     "text": [
      "[Stage 203:=====================================>               (143 + 4) / 200]\r"
     ]
    },
    {
     "name": "stdout",
     "output_type": "stream",
     "text": [
      "+-------------+-------+-------------+------------+--------------+---------+---------+------------+-------------+-------------+-------------+-------------+-------------+-------------+-------------+-------------+---------------+---------------+---------------+---------------+---------------+---------------+---------+----------+-----------------+-----------------------+-------+------------+------+\n",
      "|fullVisitorId|visitId|v2ProductName|isTrueDirect|medium_organic|dayofweek|newVisits|hitType_page|hitHour_00_02|hitHour_03_05|hitHour_06_08|hitHour_09_11|hitHour_12_14|hitHour_15_17|hitHour_18_20|hitHour_21_23|sum_hitaction_1|sum_hitaction_2|sum_hitaction_3|sum_hitaction_4|sum_hitaction_5|sum_hitaction_6|hitNumber|timeOnSite|sessionQualityDim|totalTransactionRevenue|isClick|isImpression|target|\n",
      "+-------------+-------+-------------+------------+--------------+---------+---------+------------+-------------+-------------+-------------+-------------+-------------+-------------+-------------+-------------+---------------+---------------+---------------+---------------+---------------+---------------+---------+----------+-----------------+-----------------------+-------+------------+------+\n",
      "|            0|      0|            0|           0|             0|        0|        0|           0|            0|            0|            0|            0|            0|            0|            0|            0|              0|              0|              0|              0|              0|              0|        0|         0|                0|                      0|      0|           0|     0|\n",
      "+-------------+-------+-------------+------------+--------------+---------+---------+------------+-------------+-------------+-------------+-------------+-------------+-------------+-------------+-------------+---------------+---------------+---------------+---------------+---------------+---------------+---------+----------+-----------------+-----------------------+-------+------------+------+\n",
      "\n"
     ]
    },
    {
     "name": "stderr",
     "output_type": "stream",
     "text": [
      "                                                                                \r"
     ]
    }
   ],
   "source": [
    "df3.select([sparkf.count(sparkf.when(sparkf.col(col).isNull(),True)).alias(col) for col in df3.columns]).show()"
   ]
  },
  {
   "cell_type": "code",
   "execution_count": 67,
   "metadata": {
    "colab": {
     "base_uri": "https://localhost:8080/"
    },
    "id": "i_oT-40t3h3w",
    "outputId": "90bb865f-080f-46b3-eb87-60b51099d9a0"
   },
   "outputs": [
    {
     "name": "stdout",
     "output_type": "stream",
     "text": [
      "root\n",
      " |-- fullVisitorId: long (nullable = true)\n",
      " |-- visitId: integer (nullable = true)\n",
      " |-- v2ProductName: string (nullable = true)\n",
      " |-- isTrueDirect: integer (nullable = false)\n",
      " |-- medium_organic: integer (nullable = false)\n",
      " |-- dayofweek: integer (nullable = true)\n",
      " |-- newVisits: integer (nullable = false)\n",
      " |-- hitType_page: integer (nullable = false)\n",
      " |-- hitHour_00_02: integer (nullable = false)\n",
      " |-- hitHour_03_05: integer (nullable = false)\n",
      " |-- hitHour_06_08: integer (nullable = false)\n",
      " |-- hitHour_09_11: integer (nullable = false)\n",
      " |-- hitHour_12_14: integer (nullable = false)\n",
      " |-- hitHour_15_17: integer (nullable = false)\n",
      " |-- hitHour_18_20: integer (nullable = false)\n",
      " |-- hitHour_21_23: integer (nullable = false)\n",
      " |-- sum_hitaction_1: long (nullable = true)\n",
      " |-- sum_hitaction_2: long (nullable = true)\n",
      " |-- sum_hitaction_3: long (nullable = true)\n",
      " |-- sum_hitaction_4: long (nullable = true)\n",
      " |-- sum_hitaction_5: long (nullable = true)\n",
      " |-- sum_hitaction_6: long (nullable = true)\n",
      " |-- hitNumber: integer (nullable = true)\n",
      " |-- timeOnSite: integer (nullable = true)\n",
      " |-- sessionQualityDim: integer (nullable = true)\n",
      " |-- totalTransactionRevenue: long (nullable = true)\n",
      " |-- isClick: integer (nullable = true)\n",
      " |-- isImpression: integer (nullable = true)\n",
      " |-- target: integer (nullable = false)\n",
      "\n"
     ]
    }
   ],
   "source": [
    "df3.printSchema()"
   ]
  },
  {
   "cell_type": "code",
   "execution_count": 68,
   "metadata": {
    "colab": {
     "base_uri": "https://localhost:8080/"
    },
    "id": "CQ8bs93SrFcF",
    "outputId": "bcc7713f-560e-426c-e847-d03ef1623316"
   },
   "outputs": [
    {
     "name": "stderr",
     "output_type": "stream",
     "text": [
      "[Stage 206:===================================================> (195 + 4) / 200]\r"
     ]
    },
    {
     "name": "stdout",
     "output_type": "stream",
     "text": [
      "+---------------+------+------+\n",
      "|sum_hitaction_1|target| count|\n",
      "+---------------+------+------+\n",
      "|              0|     1|  1798|\n",
      "|              0|     0|621341|\n",
      "|              1|     0|  7883|\n",
      "|              2|     0|  3509|\n",
      "|              3|     0|  1088|\n",
      "|              4|     0|   463|\n",
      "|              5|     0|   161|\n",
      "|              6|     0|    77|\n",
      "|              7|     0|    44|\n",
      "|              8|     0|    14|\n",
      "|              9|     0|    14|\n",
      "|             10|     0|    10|\n",
      "|             11|     0|     2|\n",
      "|             12|     0|     3|\n",
      "|             13|     0|     3|\n",
      "|             14|     0|     1|\n",
      "|             15|     0|     2|\n",
      "|             16|     0|     1|\n",
      "|             19|     0|     1|\n",
      "|             21|     0|     1|\n",
      "+---------------+------+------+\n",
      "only showing top 20 rows\n",
      "\n"
     ]
    },
    {
     "name": "stderr",
     "output_type": "stream",
     "text": [
      "                                                                                \r"
     ]
    }
   ],
   "source": [
    "df3.groupBy('sum_hitaction_1', 'target').count().sort('sum_hitaction_1').show()"
   ]
  },
  {
   "cell_type": "code",
   "execution_count": 69,
   "metadata": {
    "colab": {
     "base_uri": "https://localhost:8080/"
    },
    "id": "X8hLxvlQtvuo",
    "outputId": "a822dc75-e110-4fd1-ec36-132484fb80fe"
   },
   "outputs": [
    {
     "name": "stderr",
     "output_type": "stream",
     "text": [
      "[Stage 209:===================================================> (193 + 4) / 200]\r"
     ]
    },
    {
     "name": "stdout",
     "output_type": "stream",
     "text": [
      "+---------------+------+------+\n",
      "|sum_hitaction_2|target| count|\n",
      "+---------------+------+------+\n",
      "|              0|     0|622274|\n",
      "|              0|     1|   757|\n",
      "|              1|     0|  9865|\n",
      "|              1|     1|   862|\n",
      "|              2|     1|   121|\n",
      "|              2|     0|  1312|\n",
      "|              3|     0|   792|\n",
      "|              3|     1|    39|\n",
      "|              4|     0|   164|\n",
      "|              4|     1|     8|\n",
      "|              5|     1|     6|\n",
      "|              5|     0|   106|\n",
      "|              6|     1|     3|\n",
      "|              6|     0|    39|\n",
      "|              7|     0|    31|\n",
      "|              8|     0|     6|\n",
      "|              8|     1|     1|\n",
      "|              9|     0|    14|\n",
      "|             10|     0|     3|\n",
      "|             11|     0|     2|\n",
      "+---------------+------+------+\n",
      "only showing top 20 rows\n",
      "\n"
     ]
    },
    {
     "name": "stderr",
     "output_type": "stream",
     "text": [
      "                                                                                \r"
     ]
    }
   ],
   "source": [
    "df3.groupBy('sum_hitaction_2', 'target').count().sort('sum_hitaction_2').show()"
   ]
  },
  {
   "cell_type": "code",
   "execution_count": 70,
   "metadata": {
    "colab": {
     "base_uri": "https://localhost:8080/"
    },
    "id": "MX_-NZztuPY9",
    "outputId": "6de7d044-f1ec-4fd7-acdb-ba4ad26c3ac0"
   },
   "outputs": [
    {
     "name": "stderr",
     "output_type": "stream",
     "text": [
      "[Stage 212:=============================================>       (171 + 4) / 200]\r"
     ]
    },
    {
     "name": "stdout",
     "output_type": "stream",
     "text": [
      "+---------------+------+------+\n",
      "|sum_hitaction_3|target| count|\n",
      "+---------------+------+------+\n",
      "|              0|     0|629615|\n",
      "|              0|     1|  1798|\n",
      "|              1|     0|  4332|\n",
      "|              2|     0|   467|\n",
      "|              3|     0|   112|\n",
      "|              4|     0|    47|\n",
      "|              5|     0|    15|\n",
      "|              6|     0|    11|\n",
      "|              7|     0|     5|\n",
      "|              8|     0|     2|\n",
      "|              9|     0|     1|\n",
      "|             10|     0|     2|\n",
      "|             12|     0|     4|\n",
      "|             13|     0|     3|\n",
      "|             14|     0|     1|\n",
      "|             15|     0|     2|\n",
      "|             18|     0|     1|\n",
      "|             19|     0|     1|\n",
      "|             21|     0|     1|\n",
      "+---------------+------+------+\n",
      "\n"
     ]
    },
    {
     "name": "stderr",
     "output_type": "stream",
     "text": [
      "                                                                                \r"
     ]
    }
   ],
   "source": [
    "df3.groupBy('sum_hitaction_3', 'target').count().sort('sum_hitaction_3').show()"
   ]
  },
  {
   "cell_type": "code",
   "execution_count": 71,
   "metadata": {
    "colab": {
     "base_uri": "https://localhost:8080/"
    },
    "id": "ABlgtL8quQel",
    "outputId": "2c461bf5-89af-491b-f36b-a4d73c6991d1"
   },
   "outputs": [
    {
     "name": "stderr",
     "output_type": "stream",
     "text": [
      "[Stage 215:===========================================>         (165 + 4) / 200]\r"
     ]
    },
    {
     "name": "stdout",
     "output_type": "stream",
     "text": [
      "+---------------+------+------+\n",
      "|sum_hitaction_4|target| count|\n",
      "+---------------+------+------+\n",
      "|              0|     1|  1798|\n",
      "|              0|     0|633835|\n",
      "|              1|     0|   732|\n",
      "|              2|     0|    36|\n",
      "|              3|     0|    12|\n",
      "|              4|     0|     1|\n",
      "|              5|     0|     3|\n",
      "|              6|     0|     1|\n",
      "|              8|     0|     1|\n",
      "|             12|     0|     1|\n",
      "+---------------+------+------+\n",
      "\n"
     ]
    },
    {
     "name": "stderr",
     "output_type": "stream",
     "text": [
      "                                                                                \r"
     ]
    }
   ],
   "source": [
    "df3.groupBy('sum_hitaction_4', 'target').count().sort('sum_hitaction_4').show()"
   ]
  },
  {
   "cell_type": "code",
   "execution_count": 72,
   "metadata": {
    "colab": {
     "base_uri": "https://localhost:8080/"
    },
    "id": "vVvqKMj2uQ42",
    "outputId": "4e167775-02f9-4bcb-ed69-7e6fe6136dc2"
   },
   "outputs": [
    {
     "name": "stderr",
     "output_type": "stream",
     "text": [
      "[Stage 218:====================================================>(198 + 2) / 200]\r"
     ]
    },
    {
     "name": "stdout",
     "output_type": "stream",
     "text": [
      "+---------------+------+------+\n",
      "|sum_hitaction_5|target| count|\n",
      "+---------------+------+------+\n",
      "|              0|     1|     6|\n",
      "|              0|     0|633422|\n",
      "|              1|     0|   512|\n",
      "|              1|     1|    17|\n",
      "|              2|     1|    67|\n",
      "|              2|     0|   216|\n",
      "|              3|     0|   136|\n",
      "|              3|     1|   530|\n",
      "|              4|     1|   436|\n",
      "|              4|     0|   170|\n",
      "|              5|     0|    59|\n",
      "|              5|     1|   248|\n",
      "|              6|     0|    29|\n",
      "|              6|     1|   150|\n",
      "|              7|     1|    70|\n",
      "|              7|     0|    23|\n",
      "|              8|     1|   114|\n",
      "|              8|     0|     2|\n",
      "|              9|     1|    54|\n",
      "|              9|     0|    22|\n",
      "+---------------+------+------+\n",
      "only showing top 20 rows\n",
      "\n"
     ]
    },
    {
     "name": "stderr",
     "output_type": "stream",
     "text": [
      "                                                                                \r"
     ]
    }
   ],
   "source": [
    "df3.groupBy('sum_hitaction_5', 'target').count().sort('sum_hitaction_5').show()"
   ]
  },
  {
   "cell_type": "markdown",
   "metadata": {},
   "source": [
    "## May 2023"
   ]
  },
  {
   "cell_type": "code",
   "execution_count": 73,
   "metadata": {},
   "outputs": [
    {
     "name": "stdout",
     "output_type": "stream",
     "text": [
      "root\n",
      " |-- fullVisitorId: long (nullable = true)\n",
      " |-- visitId: integer (nullable = true)\n",
      " |-- v2ProductName: string (nullable = true)\n",
      " |-- isTrueDirect: integer (nullable = false)\n",
      " |-- medium_organic: integer (nullable = false)\n",
      " |-- dayofweek: integer (nullable = true)\n",
      " |-- newVisits: integer (nullable = false)\n",
      " |-- hitType_page: integer (nullable = false)\n",
      " |-- hitHour_00_02: integer (nullable = false)\n",
      " |-- hitHour_03_05: integer (nullable = false)\n",
      " |-- hitHour_06_08: integer (nullable = false)\n",
      " |-- hitHour_09_11: integer (nullable = false)\n",
      " |-- hitHour_12_14: integer (nullable = false)\n",
      " |-- hitHour_15_17: integer (nullable = false)\n",
      " |-- hitHour_18_20: integer (nullable = false)\n",
      " |-- hitHour_21_23: integer (nullable = false)\n",
      " |-- sum_hitaction_1: long (nullable = true)\n",
      " |-- sum_hitaction_2: long (nullable = true)\n",
      " |-- sum_hitaction_3: long (nullable = true)\n",
      " |-- sum_hitaction_4: long (nullable = true)\n",
      " |-- sum_hitaction_5: long (nullable = true)\n",
      " |-- sum_hitaction_6: long (nullable = true)\n",
      " |-- hitNumber: integer (nullable = true)\n",
      " |-- timeOnSite: integer (nullable = true)\n",
      " |-- sessionQualityDim: integer (nullable = true)\n",
      " |-- totalTransactionRevenue: long (nullable = true)\n",
      " |-- isClick: integer (nullable = true)\n",
      " |-- isImpression: integer (nullable = true)\n",
      " |-- target: integer (nullable = false)\n",
      "\n"
     ]
    }
   ],
   "source": [
    "df3.printSchema()"
   ]
  },
  {
   "cell_type": "code",
   "execution_count": 74,
   "metadata": {},
   "outputs": [
    {
     "name": "stderr",
     "output_type": "stream",
     "text": [
      "                                                                                \r"
     ]
    },
    {
     "data": {
      "text/html": [
       "<div>\n",
       "<style scoped>\n",
       "    .dataframe tbody tr th:only-of-type {\n",
       "        vertical-align: middle;\n",
       "    }\n",
       "\n",
       "    .dataframe tbody tr th {\n",
       "        vertical-align: top;\n",
       "    }\n",
       "\n",
       "    .dataframe thead th {\n",
       "        text-align: right;\n",
       "    }\n",
       "</style>\n",
       "<table border=\"1\" class=\"dataframe\">\n",
       "  <thead>\n",
       "    <tr style=\"text-align: right;\">\n",
       "      <th></th>\n",
       "      <th>0</th>\n",
       "      <th>1</th>\n",
       "      <th>2</th>\n",
       "      <th>3</th>\n",
       "      <th>4</th>\n",
       "    </tr>\n",
       "  </thead>\n",
       "  <tbody>\n",
       "    <tr>\n",
       "      <th>summary</th>\n",
       "      <td>count</td>\n",
       "      <td>mean</td>\n",
       "      <td>stddev</td>\n",
       "      <td>min</td>\n",
       "      <td>max</td>\n",
       "    </tr>\n",
       "    <tr>\n",
       "      <th>fullVisitorId</th>\n",
       "      <td>636420</td>\n",
       "      <td>4.7591779043841464E18</td>\n",
       "      <td>1.43788778900572314E18</td>\n",
       "      <td>514359656957582</td>\n",
       "      <td>5487531102128447544</td>\n",
       "    </tr>\n",
       "    <tr>\n",
       "      <th>visitId</th>\n",
       "      <td>636420</td>\n",
       "      <td>1.4832625402124038E9</td>\n",
       "      <td>9721153.90715016</td>\n",
       "      <td>1470037326</td>\n",
       "      <td>1501656575</td>\n",
       "    </tr>\n",
       "    <tr>\n",
       "      <th>v2ProductName</th>\n",
       "      <td>636420</td>\n",
       "      <td>None</td>\n",
       "      <td>None</td>\n",
       "      <td>\"7\"\" Dog Frisbee\"</td>\n",
       "      <td>YouTube Youth Short Sleeve Tee Red</td>\n",
       "    </tr>\n",
       "    <tr>\n",
       "      <th>isTrueDirect</th>\n",
       "      <td>636420</td>\n",
       "      <td>0.3486078375915276</td>\n",
       "      <td>0.4765299255774955</td>\n",
       "      <td>0</td>\n",
       "      <td>1</td>\n",
       "    </tr>\n",
       "    <tr>\n",
       "      <th>medium_organic</th>\n",
       "      <td>636420</td>\n",
       "      <td>0.3322585713836774</td>\n",
       "      <td>0.4710235256725394</td>\n",
       "      <td>0</td>\n",
       "      <td>1</td>\n",
       "    </tr>\n",
       "    <tr>\n",
       "      <th>dayofweek</th>\n",
       "      <td>636420</td>\n",
       "      <td>3.9352424499544325</td>\n",
       "      <td>1.842185692760508</td>\n",
       "      <td>1</td>\n",
       "      <td>7</td>\n",
       "    </tr>\n",
       "    <tr>\n",
       "      <th>newVisits</th>\n",
       "      <td>636420</td>\n",
       "      <td>0.7284466232990793</td>\n",
       "      <td>0.44476111691992193</td>\n",
       "      <td>0</td>\n",
       "      <td>1</td>\n",
       "    </tr>\n",
       "    <tr>\n",
       "      <th>hitType_page</th>\n",
       "      <td>636420</td>\n",
       "      <td>0.9757660035825398</td>\n",
       "      <td>0.15377498818397484</td>\n",
       "      <td>0</td>\n",
       "      <td>1</td>\n",
       "    </tr>\n",
       "    <tr>\n",
       "      <th>hitHour_00_02</th>\n",
       "      <td>636420</td>\n",
       "      <td>0.07368718770623173</td>\n",
       "      <td>0.2612613506174499</td>\n",
       "      <td>0</td>\n",
       "      <td>1</td>\n",
       "    </tr>\n",
       "    <tr>\n",
       "      <th>hitHour_03_05</th>\n",
       "      <td>636420</td>\n",
       "      <td>0.06894503629678514</td>\n",
       "      <td>0.25336084766709316</td>\n",
       "      <td>0</td>\n",
       "      <td>1</td>\n",
       "    </tr>\n",
       "    <tr>\n",
       "      <th>hitHour_06_08</th>\n",
       "      <td>636420</td>\n",
       "      <td>0.12639294805317244</td>\n",
       "      <td>0.33229195631875563</td>\n",
       "      <td>0</td>\n",
       "      <td>1</td>\n",
       "    </tr>\n",
       "    <tr>\n",
       "      <th>hitHour_09_11</th>\n",
       "      <td>636420</td>\n",
       "      <td>0.18581911316426258</td>\n",
       "      <td>0.38896093385896546</td>\n",
       "      <td>0</td>\n",
       "      <td>1</td>\n",
       "    </tr>\n",
       "    <tr>\n",
       "      <th>hitHour_12_14</th>\n",
       "      <td>636420</td>\n",
       "      <td>0.17926840765532195</td>\n",
       "      <td>0.3835772110777402</td>\n",
       "      <td>0</td>\n",
       "      <td>1</td>\n",
       "    </tr>\n",
       "    <tr>\n",
       "      <th>hitHour_15_17</th>\n",
       "      <td>636420</td>\n",
       "      <td>0.13754910279375254</td>\n",
       "      <td>0.3444263833037692</td>\n",
       "      <td>0</td>\n",
       "      <td>1</td>\n",
       "    </tr>\n",
       "    <tr>\n",
       "      <th>hitHour_18_20</th>\n",
       "      <td>636420</td>\n",
       "      <td>0.120134502372647</td>\n",
       "      <td>0.32511900867426513</td>\n",
       "      <td>0</td>\n",
       "      <td>1</td>\n",
       "    </tr>\n",
       "    <tr>\n",
       "      <th>hitHour_21_23</th>\n",
       "      <td>636420</td>\n",
       "      <td>0.1082037019578266</td>\n",
       "      <td>0.31063775118825426</td>\n",
       "      <td>0</td>\n",
       "      <td>1</td>\n",
       "    </tr>\n",
       "    <tr>\n",
       "      <th>sum_hitaction_1</th>\n",
       "      <td>636420</td>\n",
       "      <td>0.03496590302001823</td>\n",
       "      <td>0.30075116827715903</td>\n",
       "      <td>0</td>\n",
       "      <td>48</td>\n",
       "    </tr>\n",
       "    <tr>\n",
       "      <th>sum_hitaction_2</th>\n",
       "      <td>636420</td>\n",
       "      <td>0.0287750227836963</td>\n",
       "      <td>0.25241396610215006</td>\n",
       "      <td>0</td>\n",
       "      <td>47</td>\n",
       "    </tr>\n",
       "    <tr>\n",
       "      <th>sum_hitaction_3</th>\n",
       "      <td>636420</td>\n",
       "      <td>0.009741994280506584</td>\n",
       "      <td>0.13833909742120287</td>\n",
       "      <td>0</td>\n",
       "      <td>21</td>\n",
       "    </tr>\n",
       "    <tr>\n",
       "      <th>sum_hitaction_4</th>\n",
       "      <td>636420</td>\n",
       "      <td>0.0013905911190723107</td>\n",
       "      <td>0.0455038485027313</td>\n",
       "      <td>0</td>\n",
       "      <td>12</td>\n",
       "    </tr>\n",
       "    <tr>\n",
       "      <th>sum_hitaction_5</th>\n",
       "      <td>636420</td>\n",
       "      <td>0.019452562773011533</td>\n",
       "      <td>0.35920316030528976</td>\n",
       "      <td>0</td>\n",
       "      <td>33</td>\n",
       "    </tr>\n",
       "    <tr>\n",
       "      <th>sum_hitaction_6</th>\n",
       "      <td>636420</td>\n",
       "      <td>0.006096602872317024</td>\n",
       "      <td>0.1207044348380495</td>\n",
       "      <td>0</td>\n",
       "      <td>10</td>\n",
       "    </tr>\n",
       "    <tr>\n",
       "      <th>hitNumber</th>\n",
       "      <td>636420</td>\n",
       "      <td>9.917317180478301</td>\n",
       "      <td>15.64094541517892</td>\n",
       "      <td>1</td>\n",
       "      <td>239</td>\n",
       "    </tr>\n",
       "    <tr>\n",
       "      <th>timeOnSite</th>\n",
       "      <td>636420</td>\n",
       "      <td>455.7721583231199</td>\n",
       "      <td>712.2224840786467</td>\n",
       "      <td>0</td>\n",
       "      <td>9963</td>\n",
       "    </tr>\n",
       "    <tr>\n",
       "      <th>sessionQualityDim</th>\n",
       "      <td>636420</td>\n",
       "      <td>0.9999135790829955</td>\n",
       "      <td>7.415506265350946</td>\n",
       "      <td>0</td>\n",
       "      <td>94</td>\n",
       "    </tr>\n",
       "    <tr>\n",
       "      <th>totalTransactionRevenue</th>\n",
       "      <td>636420</td>\n",
       "      <td>8445628.89286949</td>\n",
       "      <td>9.980449193401144E7</td>\n",
       "      <td>0</td>\n",
       "      <td>5608400000</td>\n",
       "    </tr>\n",
       "    <tr>\n",
       "      <th>isClick</th>\n",
       "      <td>636420</td>\n",
       "      <td>0.02086829452248515</td>\n",
       "      <td>0.14294348852646035</td>\n",
       "      <td>0</td>\n",
       "      <td>1</td>\n",
       "    </tr>\n",
       "    <tr>\n",
       "      <th>isImpression</th>\n",
       "      <td>636420</td>\n",
       "      <td>0.9755554508029289</td>\n",
       "      <td>0.1544249030507743</td>\n",
       "      <td>0</td>\n",
       "      <td>1</td>\n",
       "    </tr>\n",
       "    <tr>\n",
       "      <th>target</th>\n",
       "      <td>636420</td>\n",
       "      <td>0.0028251783413469093</td>\n",
       "      <td>0.05307731281182929</td>\n",
       "      <td>0</td>\n",
       "      <td>1</td>\n",
       "    </tr>\n",
       "  </tbody>\n",
       "</table>\n",
       "</div>"
      ],
      "text/plain": [
       "                              0                      1  \\\n",
       "summary                   count                   mean   \n",
       "fullVisitorId            636420  4.7591779043841464E18   \n",
       "visitId                  636420   1.4832625402124038E9   \n",
       "v2ProductName            636420                   None   \n",
       "isTrueDirect             636420     0.3486078375915276   \n",
       "medium_organic           636420     0.3322585713836774   \n",
       "dayofweek                636420     3.9352424499544325   \n",
       "newVisits                636420     0.7284466232990793   \n",
       "hitType_page             636420     0.9757660035825398   \n",
       "hitHour_00_02            636420    0.07368718770623173   \n",
       "hitHour_03_05            636420    0.06894503629678514   \n",
       "hitHour_06_08            636420    0.12639294805317244   \n",
       "hitHour_09_11            636420    0.18581911316426258   \n",
       "hitHour_12_14            636420    0.17926840765532195   \n",
       "hitHour_15_17            636420    0.13754910279375254   \n",
       "hitHour_18_20            636420      0.120134502372647   \n",
       "hitHour_21_23            636420     0.1082037019578266   \n",
       "sum_hitaction_1          636420    0.03496590302001823   \n",
       "sum_hitaction_2          636420     0.0287750227836963   \n",
       "sum_hitaction_3          636420   0.009741994280506584   \n",
       "sum_hitaction_4          636420  0.0013905911190723107   \n",
       "sum_hitaction_5          636420   0.019452562773011533   \n",
       "sum_hitaction_6          636420   0.006096602872317024   \n",
       "hitNumber                636420      9.917317180478301   \n",
       "timeOnSite               636420      455.7721583231199   \n",
       "sessionQualityDim        636420     0.9999135790829955   \n",
       "totalTransactionRevenue  636420       8445628.89286949   \n",
       "isClick                  636420    0.02086829452248515   \n",
       "isImpression             636420     0.9755554508029289   \n",
       "target                   636420  0.0028251783413469093   \n",
       "\n",
       "                                              2                  3  \\\n",
       "summary                                  stddev                min   \n",
       "fullVisitorId            1.43788778900572314E18    514359656957582   \n",
       "visitId                        9721153.90715016         1470037326   \n",
       "v2ProductName                              None  \"7\"\" Dog Frisbee\"   \n",
       "isTrueDirect                 0.4765299255774955                  0   \n",
       "medium_organic               0.4710235256725394                  0   \n",
       "dayofweek                     1.842185692760508                  1   \n",
       "newVisits                   0.44476111691992193                  0   \n",
       "hitType_page                0.15377498818397484                  0   \n",
       "hitHour_00_02                0.2612613506174499                  0   \n",
       "hitHour_03_05               0.25336084766709316                  0   \n",
       "hitHour_06_08               0.33229195631875563                  0   \n",
       "hitHour_09_11               0.38896093385896546                  0   \n",
       "hitHour_12_14                0.3835772110777402                  0   \n",
       "hitHour_15_17                0.3444263833037692                  0   \n",
       "hitHour_18_20               0.32511900867426513                  0   \n",
       "hitHour_21_23               0.31063775118825426                  0   \n",
       "sum_hitaction_1             0.30075116827715903                  0   \n",
       "sum_hitaction_2             0.25241396610215006                  0   \n",
       "sum_hitaction_3             0.13833909742120287                  0   \n",
       "sum_hitaction_4              0.0455038485027313                  0   \n",
       "sum_hitaction_5             0.35920316030528976                  0   \n",
       "sum_hitaction_6              0.1207044348380495                  0   \n",
       "hitNumber                     15.64094541517892                  1   \n",
       "timeOnSite                    712.2224840786467                  0   \n",
       "sessionQualityDim             7.415506265350946                  0   \n",
       "totalTransactionRevenue     9.980449193401144E7                  0   \n",
       "isClick                     0.14294348852646035                  0   \n",
       "isImpression                 0.1544249030507743                  0   \n",
       "target                      0.05307731281182929                  0   \n",
       "\n",
       "                                                          4  \n",
       "summary                                                 max  \n",
       "fullVisitorId                           5487531102128447544  \n",
       "visitId                                          1501656575  \n",
       "v2ProductName            YouTube Youth Short Sleeve Tee Red  \n",
       "isTrueDirect                                              1  \n",
       "medium_organic                                            1  \n",
       "dayofweek                                                 7  \n",
       "newVisits                                                 1  \n",
       "hitType_page                                              1  \n",
       "hitHour_00_02                                             1  \n",
       "hitHour_03_05                                             1  \n",
       "hitHour_06_08                                             1  \n",
       "hitHour_09_11                                             1  \n",
       "hitHour_12_14                                             1  \n",
       "hitHour_15_17                                             1  \n",
       "hitHour_18_20                                             1  \n",
       "hitHour_21_23                                             1  \n",
       "sum_hitaction_1                                          48  \n",
       "sum_hitaction_2                                          47  \n",
       "sum_hitaction_3                                          21  \n",
       "sum_hitaction_4                                          12  \n",
       "sum_hitaction_5                                          33  \n",
       "sum_hitaction_6                                          10  \n",
       "hitNumber                                               239  \n",
       "timeOnSite                                             9963  \n",
       "sessionQualityDim                                        94  \n",
       "totalTransactionRevenue                          5608400000  \n",
       "isClick                                                   1  \n",
       "isImpression                                              1  \n",
       "target                                                    1  "
      ]
     },
     "execution_count": 74,
     "metadata": {},
     "output_type": "execute_result"
    }
   ],
   "source": [
    "df3.describe().toPandas().transpose()"
   ]
  },
  {
   "cell_type": "code",
   "execution_count": 75,
   "metadata": {},
   "outputs": [
    {
     "name": "stderr",
     "output_type": "stream",
     "text": [
      "                                                                                \r"
     ]
    }
   ],
   "source": [
    "df = df3.toPandas()"
   ]
  },
  {
   "cell_type": "code",
   "execution_count": 76,
   "metadata": {},
   "outputs": [
    {
     "data": {
      "image/png": "[encoded data removed]",
      "text/plain": [
       "<Figure size 432x288 with 1 Axes>"
      ]
     },
     "metadata": {
      "needs_background": "light"
     },
     "output_type": "display_data"
    }
   ],
   "source": [
    "import pandas as pd\n",
    "import matplotlib.pyplot as plt\n",
    "\n",
    "# Initialize parameters\n",
    "x_var = 'target'\n",
    "groupby_var = 'isImpression'\n",
    "\n",
    "# Group the data by target variable and count the values of dayofweek variable\n",
    "grouped = df.groupby(x_var)[groupby_var].value_counts()\n",
    "\n",
    "# Calculate the percentage for each group\n",
    "grouped_pct = grouped.groupby(level=0).apply(lambda x: 100 * x / float(x.sum()))\n",
    "\n",
    "# Create 100% stacked bar chart\n",
    "fig, ax = plt.subplots()\n",
    "grouped_pct.unstack().plot(kind='bar', stacked=True, ax=ax)\n",
    "\n",
    "# Adjust x and y labels\n",
    "ax.set_xlabel(x_var)\n",
    "ax.set_ylabel('Percentage')\n",
    "\n",
    "# Name each part of the stack bar\n",
    "legend_labels = [f'{groupby_var}_{label}' for label in grouped_pct.unstack().columns]\n",
    "ax.legend(legend_labels)\n",
    "\n",
    "# Display the plot\n",
    "plt.show()"
   ]
  },
  {
   "cell_type": "code",
   "execution_count": 77,
   "metadata": {},
   "outputs": [
    {
     "data": {
      "image/png": "[encoded data removed]",
      "text/plain": [
       "<Figure size 432x288 with 1 Axes>"
      ]
     },
     "metadata": {
      "needs_background": "light"
     },
     "output_type": "display_data"
    }
   ],
   "source": [
    "import pandas as pd\n",
    "import matplotlib.pyplot as plt\n",
    "\n",
    "# Initialize parameters\n",
    "x_var = 'target'\n",
    "groupby_var = 'newVisits'\n",
    "\n",
    "# Group the data by target variable and count the values of dayofweek variable\n",
    "grouped = df.groupby(x_var)[groupby_var].value_counts()\n",
    "\n",
    "# Calculate the percentage for each group\n",
    "grouped_pct = grouped.groupby(level=0).apply(lambda x: 100 * x / float(x.sum()))\n",
    "\n",
    "# Create 100% stacked bar chart\n",
    "fig, ax = plt.subplots()\n",
    "grouped_pct.unstack().plot(kind='bar', stacked=True, ax=ax)\n",
    "\n",
    "# Adjust x and y labels\n",
    "ax.set_xlabel(x_var)\n",
    "ax.set_ylabel('Percentage')\n",
    "\n",
    "# Name each part of the stack bar\n",
    "legend_labels = [f'{groupby_var}_{label}' for label in grouped_pct.unstack().columns]\n",
    "ax.legend(legend_labels)\n",
    "\n",
    "# Display the plot\n",
    "plt.show()\n"
   ]
  },
  {
   "cell_type": "code",
   "execution_count": 78,
   "metadata": {},
   "outputs": [
    {
     "data": {
      "image/png": "[encoded data removed]",
      "text/plain": [
       "<Figure size 432x288 with 1 Axes>"
      ]
     },
     "metadata": {
      "needs_background": "light"
     },
     "output_type": "display_data"
    }
   ],
   "source": [
    "import pandas as pd\n",
    "import matplotlib.pyplot as plt\n",
    "\n",
    "# Initialize parameters\n",
    "x_var = 'target'\n",
    "groupby_var = 'dayofweek'\n",
    "\n",
    "# Group the data by target variable and count the values of dayofweek variable\n",
    "grouped = df.groupby(x_var)[groupby_var].value_counts()\n",
    "\n",
    "# Calculate the percentage for each group\n",
    "grouped_pct = grouped.groupby(level=0).apply(lambda x: 100 * x / float(x.sum()))\n",
    "\n",
    "# Create 100% stacked bar chart\n",
    "fig, ax = plt.subplots()\n",
    "grouped_pct.unstack().plot(kind='bar', stacked=True, ax=ax)\n",
    "\n",
    "# Adjust x and y labels\n",
    "ax.set_xlabel(x_var)\n",
    "ax.set_ylabel('Percentage')\n",
    "\n",
    "# Name each part of the stack bar\n",
    "legend_labels = [f'{groupby_var}_{label}' for label in grouped_pct.unstack().columns]\n",
    "ax.legend(legend_labels)\n",
    "\n",
    "# Display the plot\n",
    "plt.show()\n"
   ]
  },
  {
   "cell_type": "code",
   "execution_count": 79,
   "metadata": {},
   "outputs": [
    {
     "data": {
      "image/png": "[encoded data removed]",
      "text/plain": [
       "<Figure size 432x288 with 1 Axes>"
      ]
     },
     "metadata": {
      "needs_background": "light"
     },
     "output_type": "display_data"
    }
   ],
   "source": [
    "import pandas as pd\n",
    "import matplotlib.pyplot as plt\n",
    "\n",
    "# Initialize parameters\n",
    "x_var = 'target'\n",
    "groupby_var = 'isClick'\n",
    "\n",
    "# Group the data by target variable and count the values of dayofweek variable\n",
    "grouped = df.groupby(x_var)[groupby_var].value_counts()\n",
    "\n",
    "# Calculate the percentage for each group\n",
    "grouped_pct = grouped.groupby(level=0).apply(lambda x: 100 * x / float(x.sum()))\n",
    "\n",
    "# Create 100% stacked bar chart\n",
    "fig, ax = plt.subplots()\n",
    "grouped_pct.unstack().plot(kind='bar', stacked=True, ax=ax)\n",
    "\n",
    "# Adjust x and y labels\n",
    "ax.set_xlabel(x_var)\n",
    "ax.set_ylabel('Percentage')\n",
    "\n",
    "# Name each part of the stack bar\n",
    "legend_labels = [f'{groupby_var}_{label}' for label in grouped_pct.unstack().columns]\n",
    "ax.legend(legend_labels)\n",
    "\n",
    "# Display the plot\n",
    "plt.show()\n"
   ]
  },
  {
   "cell_type": "code",
   "execution_count": null,
   "metadata": {},
   "outputs": [],
   "source": []
  },
  {
   "cell_type": "raw",
   "metadata": {},
   "source": [
    "\n",
    "\n",
    "# เรียกใช้ Module/Library ของ Python\n",
    "\n",
    "import numpy as np\n",
    "import scipy as sp\n",
    "import pandas as pd\n",
    "import matplotlib as mpl\n",
    "import matplotlib.pyplot as plt\n",
    "import seaborn as sns\n",
    "\n",
    "# Pandas options\n",
    "pd.set_option('display.max_colwidth', 1000, 'display.max_rows', None, 'display.max_columns', None)\n",
    "\n",
    "# Plotting options\n",
    "%matplotlib inline\n",
    "mpl.style.use('ggplot')\n",
    "sns.set(style='whitegrid')\n",
    "\n",
    "import warnings\n",
    "warnings.filterwarnings(\"ignore\")\n",
    "\n"
   ]
  },
  {
   "cell_type": "code",
   "execution_count": 80,
   "metadata": {},
   "outputs": [],
   "source": [
    "def plot_outliers_and_distribution(df, var, target='target'):\n",
    "    \"\"\"\n",
    "    This function plots a boxplot to check outliers and a violin plot to see the distribution\n",
    "    grouped by the target variable in one figure.\n",
    "    df: pandas DataFrame\n",
    "    var: str, variable/column to check\n",
    "    target: str, target variable\n",
    "    \"\"\"\n",
    "    import matplotlib.pyplot as plt\n",
    "    import seaborn as sns\n",
    "\n",
    "    fig, axs = plt.subplots(ncols=2, figsize=(14, 6))\n",
    "\n",
    "    # Boxplot for outliers\n",
    "    sns.boxplot(x=target, y=var, data=df, ax=axs[0])\n",
    "    axs[0].set_title(f'Boxplot of {var} Grouped by {target}')\n",
    "\n",
    "    # Violin plot for distribution\n",
    "    sns.violinplot(x=target, y=var, data=df, ax=axs[1])\n",
    "    axs[1].set_title(f'Violin plot of {var} Grouped by {target}')\n",
    "\n",
    "    plt.tight_layout()\n",
    "    plt.show()\n",
    "\n",
    "# To use the function, simply call it with your DataFrame and variable:\n",
    "# plot_outliers_and_distribution(df, 'timeOnSite')\n"
   ]
  },
  {
   "cell_type": "code",
   "execution_count": null,
   "metadata": {},
   "outputs": [],
   "source": []
  },
  {
   "cell_type": "code",
   "execution_count": 81,
   "metadata": {},
   "outputs": [
    {
     "data": {
      "image/png": "[encoded data removed]",
      "text/plain": [
       "<Figure size 1008x432 with 2 Axes>"
      ]
     },
     "metadata": {
      "needs_background": "light"
     },
     "output_type": "display_data"
    }
   ],
   "source": [
    "plot_outliers_and_distribution(df, 'hitNumber')"
   ]
  },
  {
   "cell_type": "code",
   "execution_count": null,
   "metadata": {},
   "outputs": [],
   "source": []
  },
  {
   "cell_type": "code",
   "execution_count": 82,
   "metadata": {},
   "outputs": [
    {
     "data": {
      "image/png": "[encoded data removed]",
      "text/plain": [
       "<Figure size 1008x432 with 2 Axes>"
      ]
     },
     "metadata": {
      "needs_background": "light"
     },
     "output_type": "display_data"
    }
   ],
   "source": [
    "plot_outliers_and_distribution(df, 'sum_hitaction_2')"
   ]
  },
  {
   "cell_type": "code",
   "execution_count": 83,
   "metadata": {},
   "outputs": [
    {
     "data": {
      "image/png": "[encoded data removed]",
      "text/plain": [
       "<Figure size 1008x432 with 2 Axes>"
      ]
     },
     "metadata": {
      "needs_background": "light"
     },
     "output_type": "display_data"
    }
   ],
   "source": [
    "plot_outliers_and_distribution(df, 'sum_hitaction_1')"
   ]
  },
  {
   "cell_type": "code",
   "execution_count": 84,
   "metadata": {},
   "outputs": [
    {
     "data": {
      "image/png": "[encoded data removed]",
      "text/plain": [
       "<Figure size 1008x432 with 2 Axes>"
      ]
     },
     "metadata": {
      "needs_background": "light"
     },
     "output_type": "display_data"
    }
   ],
   "source": [
    "plot_outliers_and_distribution(df, 'sum_hitaction_3')"
   ]
  },
  {
   "cell_type": "code",
   "execution_count": 85,
   "metadata": {},
   "outputs": [
    {
     "data": {
      "image/png": "[encoded data removed]",
      "text/plain": [
       "<Figure size 1008x432 with 2 Axes>"
      ]
     },
     "metadata": {
      "needs_background": "light"
     },
     "output_type": "display_data"
    }
   ],
   "source": [
    "plot_outliers_and_distribution(df, 'sum_hitaction_4')"
   ]
  },
  {
   "cell_type": "code",
   "execution_count": 86,
   "metadata": {},
   "outputs": [
    {
     "data": {
      "image/png": "[encoded data removed]",
      "text/plain": [
       "<Figure size 1008x432 with 2 Axes>"
      ]
     },
     "metadata": {
      "needs_background": "light"
     },
     "output_type": "display_data"
    }
   ],
   "source": [
    "plot_outliers_and_distribution(df, 'sum_hitaction_5')"
   ]
  },
  {
   "cell_type": "code",
   "execution_count": 87,
   "metadata": {},
   "outputs": [
    {
     "data": {
      "image/png": "[encoded data removed]",
      "text/plain": [
       "<Figure size 1008x432 with 2 Axes>"
      ]
     },
     "metadata": {
      "needs_background": "light"
     },
     "output_type": "display_data"
    }
   ],
   "source": [
    "plot_outliers_and_distribution(df, 'sum_hitaction_6')"
   ]
  },
  {
   "cell_type": "code",
   "execution_count": null,
   "metadata": {},
   "outputs": [],
   "source": []
  },
  {
   "cell_type": "code",
   "execution_count": 88,
   "metadata": {},
   "outputs": [
    {
     "data": {
      "image/png": "[encoded data removed]",
      "text/plain": [
       "<Figure size 1008x432 with 2 Axes>"
      ]
     },
     "metadata": {
      "needs_background": "light"
     },
     "output_type": "display_data"
    }
   ],
   "source": [
    "plot_outliers_and_distribution(df, 'timeOnSite')"
   ]
  },
  {
   "cell_type": "code",
   "execution_count": null,
   "metadata": {},
   "outputs": [],
   "source": []
  },
  {
   "cell_type": "code",
   "execution_count": null,
   "metadata": {},
   "outputs": [],
   "source": []
  },
  {
   "cell_type": "code",
   "execution_count": null,
   "metadata": {},
   "outputs": [],
   "source": []
  },
  {
   "cell_type": "code",
   "execution_count": 89,
   "metadata": {},
   "outputs": [],
   "source": [
    "import matplotlib.pyplot as plt\n",
    "import seaborn as sns\n",
    "\n",
    "def scatter_plot_with_hue(dataframe, x_var, y_var, hue_var):\n",
    "    # Create a new figure and set the size\n",
    "    plt.figure(figsize=(10, 6))\n",
    "\n",
    "    # Create a scatter plot with x_var on the x-axis, and y_var on the y-axis\n",
    "    # Use different colors for different hue_var categories\n",
    "    sns.scatterplot(x=x_var, y=y_var, hue=hue_var, data=dataframe)\n",
    "\n",
    "    # Add labels to the x and y axes, and a title to the plot\n",
    "    plt.xlabel(x_var)\n",
    "    plt.ylabel(y_var)\n",
    "    plt.title('Scatter Plot of {} vs. {}, by {}'.format(x_var, y_var, hue_var))\n",
    "\n",
    "    # Display the plot\n",
    "    plt.show()\n"
   ]
  },
  {
   "cell_type": "code",
   "execution_count": 90,
   "metadata": {},
   "outputs": [
    {
     "data": {
      "image/png": "[encoded data removed]",
      "text/plain": [
       "<Figure size 720x432 with 1 Axes>"
      ]
     },
     "metadata": {
      "needs_background": "light"
     },
     "output_type": "display_data"
    }
   ],
   "source": [
    "scatter_plot_with_hue(df, 'hitNumber', 'timeOnSite', 'target')\n"
   ]
  },
  {
   "cell_type": "markdown",
   "metadata": {
    "id": "pxz2VF4dPScX"
   },
   "source": [
    "## Data Encoding"
   ]
  },
  {
   "cell_type": "code",
   "execution_count": 91,
   "metadata": {
    "id": "XHR7ND2ww6h4"
   },
   "outputs": [],
   "source": [
    "# productList_indexer = StringIndexer(inputCol='productListName', outputCol='productList_index')\n",
    "# productList_ohe = OneHotEncoder(inputCol='productList_index', outputCol='productList_vec')"
   ]
  },
  {
   "cell_type": "code",
   "execution_count": 92,
   "metadata": {
    "id": "wfdEJg2uIAjr"
   },
   "outputs": [],
   "source": [
    "# onehot_encoder = OneHotEncoder(inputCols=['hitAction_type', 'dayofweek'], outputCols=['hitAction_type_vec', 'dayofweek_vec'])\n",
    "onehot_encoder = OneHotEncoder(inputCols=['dayofweek'], outputCols=['dayofweek_vec'])"
   ]
  },
  {
   "cell_type": "code",
   "execution_count": 93,
   "metadata": {
    "id": "NJf6Ya4uKuLW"
   },
   "outputs": [],
   "source": [
    "label_stringIdx = StringIndexer(inputCol = 'target', outputCol = 'label')"
   ]
  },
  {
   "cell_type": "code",
   "execution_count": 94,
   "metadata": {
    "colab": {
     "base_uri": "https://localhost:8080/"
    },
    "id": "irKNLCkJ_6cV",
    "outputId": "8813f981-7a1b-4425-8462-a64c29edfe21"
   },
   "outputs": [
    {
     "data": {
      "text/plain": [
       "['fullVisitorId',\n",
       " 'visitId',\n",
       " 'v2ProductName',\n",
       " 'isTrueDirect',\n",
       " 'medium_organic',\n",
       " 'dayofweek',\n",
       " 'newVisits',\n",
       " 'hitType_page',\n",
       " 'hitHour_00_02',\n",
       " 'hitHour_03_05',\n",
       " 'hitHour_06_08',\n",
       " 'hitHour_09_11',\n",
       " 'hitHour_12_14',\n",
       " 'hitHour_15_17',\n",
       " 'hitHour_18_20',\n",
       " 'hitHour_21_23',\n",
       " 'sum_hitaction_1',\n",
       " 'sum_hitaction_2',\n",
       " 'sum_hitaction_3',\n",
       " 'sum_hitaction_4',\n",
       " 'sum_hitaction_5',\n",
       " 'sum_hitaction_6',\n",
       " 'hitNumber',\n",
       " 'timeOnSite',\n",
       " 'sessionQualityDim',\n",
       " 'totalTransactionRevenue',\n",
       " 'isClick',\n",
       " 'isImpression',\n",
       " 'target']"
      ]
     },
     "execution_count": 94,
     "metadata": {},
     "output_type": "execute_result"
    }
   ],
   "source": [
    "df3.schema.names"
   ]
  },
  {
   "cell_type": "code",
   "execution_count": 95,
   "metadata": {
    "id": "_96sxOWG93Ni"
   },
   "outputs": [],
   "source": [
    "# vector_assembler = VectorAssembler\\\n",
    "# (inputCols = ['isTrueDirect', 'newVisits', 'hitAction_type_vec', 'hitNumber', 'isClick', 'isImpression', 'sessionQualityDim', 'timeOnSite', 'totalTransactionRevenue', \\\n",
    "#  'medium_organic', 'hitType_page', 'hitHour_00_02', 'hitHour_03_05', 'hitHour_06_08', 'hitHour_09_11', 'hitHour_12_14', 'hitHour_15_17', 'hitHour_18_20', \\\n",
    "#  'hitHour_21_23', 'hitMin_00_14', 'hitMin_15_29', 'hitMin_30_44', 'hitMin_45_60', \\\n",
    "#  'dayofweek_vec', 'hitAction_type_vec', 'productList_vec'], outputCol = 'features')"
   ]
  },
  {
   "cell_type": "code",
   "execution_count": 96,
   "metadata": {
    "id": "aHFZAGYPALvj"
   },
   "outputs": [],
   "source": [
    "vector_assembler = VectorAssembler\\\n",
    "(inputCols = [\\\n",
    "              ###'isTrueDirect',\n",
    " ###'medium_organic',\n",
    " ###'dayofweek_vec',\n",
    " 'newVisits',\n",
    " ###'hitType_page',\n",
    " ###'hitHour_00_02',\n",
    " ###'hitHour_03_05',\n",
    " ###'hitHour_06_08',\n",
    " ###'hitHour_09_11',\n",
    " ###'hitHour_12_14',\n",
    " ###'hitHour_15_17',\n",
    " ###'hitHour_18_20',\n",
    " ###'hitHour_21_23',\n",
    " ###'sum_hitaction_1',\n",
    " 'sum_hitaction_2',\n",
    " ###'sum_hitaction_3',\n",
    " ###'sum_hitaction_4',\n",
    "#  'sum_hitaction_5',\n",
    "#  'sum_hitaction_6',\n",
    " 'hitNumber',\n",
    " 'timeOnSite',\n",
    " ###'sessionQualityDim',\n",
    " ###'isClick',\n",
    " 'isImpression'\\\n",
    " ], outputCol = 'features')"
   ]
  },
  {
   "cell_type": "code",
   "execution_count": 97,
   "metadata": {
    "id": "pTfJquqbIYn1"
   },
   "outputs": [],
   "source": [
    "# pipeline = Pipeline(stages=[productList_indexer, productList_ohe, onehot_encoder, label_stringIdx, vector_assembler])\n",
    "pipeline = Pipeline(stages=[onehot_encoder, label_stringIdx, vector_assembler])\n"
   ]
  },
  {
   "cell_type": "code",
   "execution_count": 98,
   "metadata": {
    "colab": {
     "base_uri": "https://localhost:8080/"
    },
    "id": "H4Bsa0_IIvvb",
    "outputId": "64a58379-9d13-4ce5-c52a-a4380cfcedba"
   },
   "outputs": [
    {
     "name": "stderr",
     "output_type": "stream",
     "text": [
      "[Stage 231:============================>                            (2 + 2) / 4]\r"
     ]
    },
    {
     "name": "stdout",
     "output_type": "stream",
     "text": [
      "+-------------------+----------+--------------------+------------+--------------+---------+---------+------------+-------------+-------------+-------------+-------------+-------------+-------------+-------------+-------------+---------------+---------------+---------------+---------------+---------------+---------------+---------+----------+-----------------+-----------------------+-------+------------+------+-------------+-----+--------------------+\n",
      "|      fullVisitorId|   visitId|       v2ProductName|isTrueDirect|medium_organic|dayofweek|newVisits|hitType_page|hitHour_00_02|hitHour_03_05|hitHour_06_08|hitHour_09_11|hitHour_12_14|hitHour_15_17|hitHour_18_20|hitHour_21_23|sum_hitaction_1|sum_hitaction_2|sum_hitaction_3|sum_hitaction_4|sum_hitaction_5|sum_hitaction_6|hitNumber|timeOnSite|sessionQualityDim|totalTransactionRevenue|isClick|isImpression|target|dayofweek_vec|label|            features|\n",
      "+-------------------+----------+--------------------+------------+--------------+---------+---------+------------+-------------+-------------+-------------+-------------+-------------+-------------+-------------+-------------+---------------+---------------+---------------+---------------+---------------+---------------+---------+----------+-----------------+-----------------------+-------+------------+------+-------------+-----+--------------------+\n",
      "|5115545068433509666|1470664073|Android Women's S...|           1|             0|        2|        0|           1|            0|            0|            1|            0|            0|            0|            0|            0|              0|              0|              0|              0|              0|              0|        1|         0|                0|                      0|      0|           1|     0|(7,[2],[1.0])|  0.0| (5,[2,4],[1.0,1.0])|\n",
      "| 511575028555789341|1473369220|Google Stylus Pen...|           0|             0|        5|        1|           1|            0|            0|            0|            0|            1|            0|            0|            0|              0|              0|              0|              0|              0|              0|        5|       155|                0|                      0|      0|           1|     0|(7,[5],[1.0])|  0.0|[1.0,0.0,5.0,155....|\n",
      "|5115823030237170853|1495539432|YouTube Men's Vin...|           1|             0|        3|        1|           1|            0|            1|            0|            0|            0|            0|            0|            0|              0|              0|              0|              0|              0|              0|        1|         0|                0|                      0|      0|           1|     0|(7,[3],[1.0])|  0.0|[1.0,0.0,1.0,0.0,...|\n",
      "|5115968422074330526|1474746436|Google Pocket Blu...|           0|             0|        7|        1|           1|            0|            0|            0|            0|            1|            0|            0|            0|              0|              0|              0|              0|              0|              0|        3|        89|                0|                      0|      0|           1|     0|    (7,[],[])|  0.0|[1.0,0.0,3.0,89.0...|\n",
      "|5116057906586529751|1494079604|Android Sticker S...|           0|             1|        7|        1|           1|            0|            0|            1|            0|            0|            0|            0|            0|              0|              0|              0|              0|              0|              0|        3|        95|                0|                      0|      0|           1|     0|    (7,[],[])|  0.0|[1.0,0.0,3.0,95.0...|\n",
      "|5116095560753599175|1470934957|Google Adult Tee ...|           0|             0|        5|        1|           1|            0|            0|            0|            1|            0|            0|            0|            0|              0|              0|              0|              0|              0|              0|       44|      1485|                0|               39320000|      0|           1|     0|(7,[5],[1.0])|  0.0|[1.0,0.0,44.0,148...|\n",
      "|5116120029208375750|1496921689|   YouTube Twill Cap|           0|             0|        5|        1|           1|            0|            1|            0|            0|            0|            0|            0|            0|              0|              0|              0|              0|              0|              0|        1|        58|                0|                      0|      0|           1|     0|(7,[5],[1.0])|  0.0|[1.0,0.0,1.0,58.0...|\n",
      "|5116471876441160413|1482909281|Google Men's Perf...|           1|             0|        3|        0|           1|            0|            0|            0|            0|            0|            0|            0|            1|              0|              0|              0|              0|              0|              0|        2|        46|                0|                      0|      0|           1|     0|(7,[3],[1.0])|  0.0|[0.0,0.0,2.0,46.0...|\n",
      "|5116583547093463752|1499206470|Suitcase Organize...|           0|             1|        3|        1|           1|            0|            0|            0|            0|            0|            1|            0|            0|              0|              0|              0|              0|              0|              0|        3|        27|                1|                      0|      0|           1|     0|(7,[3],[1.0])|  0.0|[1.0,0.0,3.0,27.0...|\n",
      "|5116887908959530967|1470864940| 1 oz Hand Sanitizer|           0|             1|        4|        1|           1|            0|            0|            0|            0|            1|            0|            0|            0|              0|              0|              0|              0|              0|              0|        4|       922|                0|                      0|      0|           1|     0|(7,[4],[1.0])|  0.0|[1.0,0.0,4.0,922....|\n",
      "|5116894653501290690|1473920114|  Rainbow Stylus Pen|           0|             1|        4|        1|           1|            0|            0|            0|            0|            0|            0|            0|            1|              0|              0|              0|              0|              0|              0|       23|       273|                0|                      0|      0|           1|     0|(7,[4],[1.0])|  0.0|[1.0,0.0,23.0,273...|\n",
      "|5116922976978430102|1471201048|YouTube Men's Sho...|           0|             1|        1|        1|           1|            0|            0|            0|            1|            0|            0|            0|            0|              0|              0|              0|              0|              0|              0|        4|        44|                0|                      0|      0|           1|     0|(7,[1],[1.0])|  0.0|[1.0,0.0,4.0,44.0...|\n",
      "|5116922976978430102|1471201048|22 oz YouTube Bot...|           0|             1|        1|        1|           1|            0|            0|            0|            1|            0|            0|            0|            0|              0|              0|              0|              0|              0|              0|        4|        44|                0|                      0|      0|           1|     0|(7,[1],[1.0])|  0.0|[1.0,0.0,4.0,44.0...|\n",
      "| 511705011733833530|1470791461|Android Women's S...|           1|             1|        3|        0|           1|            0|            0|            0|            0|            0|            0|            1|            0|              0|              0|              0|              0|              0|              0|        1|         0|                0|                      0|      0|           1|     0|(7,[3],[1.0])|  0.0| (5,[2,4],[1.0,1.0])|\n",
      "|5117145097453064474|1471468469|Gunmetal Roller B...|           0|             0|        4|        1|           1|            0|            0|            0|            0|            1|            0|            0|            0|              0|              0|              0|              0|              0|              0|        8|       178|                0|                      0|      0|           1|     0|(7,[4],[1.0])|  0.0|[1.0,0.0,8.0,178....|\n",
      "|5117243738158961794|1495582012|   YouTube Twill Cap|           1|             0|        3|        1|           1|            0|            0|            0|            0|            0|            1|            0|            0|              0|              0|              0|              0|              0|              0|       37|       459|                0|                      0|      0|           1|     0|(7,[3],[1.0])|  0.0|[1.0,0.0,37.0,459...|\n",
      "|5117422066685789993|1482281603|Google Men's  Zip...|           0|             0|        3|        1|           1|            0|            0|            0|            0|            0|            1|            0|            0|              0|              0|              0|              0|              0|              0|        3|        78|                0|                      0|      0|           1|     0|(7,[3],[1.0])|  0.0|[1.0,0.0,3.0,78.0...|\n",
      "|5117665780989983260|1480708812|Google Men's 100%...|           1|             0|        6|        1|           1|            0|            0|            0|            0|            1|            0|            0|            0|              0|              0|              0|              0|              0|              0|        2|       253|                0|                      0|      0|           1|     0|(7,[6],[1.0])|  0.0|[1.0,0.0,2.0,253....|\n",
      "|5118007859991692473|1479519381|YouTube Wool Heat...|           0|             0|        6|        1|           1|            0|            0|            0|            0|            0|            1|            0|            0|              0|              0|              0|              0|              0|              0|        2|         5|                0|                      0|      0|           1|     0|(7,[6],[1.0])|  0.0|[1.0,0.0,2.0,5.0,...|\n",
      "|5118082462024257218|1494814430|Google Toddler Sh...|           0|             1|        1|        1|           1|            0|            0|            0|            0|            0|            0|            1|            0|              0|              0|              0|              0|              0|              0|        6|       250|                0|                      0|      0|           1|     0|(7,[1],[1.0])|  0.0|[1.0,0.0,6.0,250....|\n",
      "+-------------------+----------+--------------------+------------+--------------+---------+---------+------------+-------------+-------------+-------------+-------------+-------------+-------------+-------------+-------------+---------------+---------------+---------------+---------------+---------------+---------------+---------+----------+-----------------+-----------------------+-------+------------+------+-------------+-----+--------------------+\n",
      "only showing top 20 rows\n",
      "\n"
     ]
    },
    {
     "name": "stderr",
     "output_type": "stream",
     "text": [
      "                                                                                \r"
     ]
    }
   ],
   "source": [
    "final_df = pipeline.fit(df3).transform(df3)\n",
    "final_df.show()"
   ]
  },
  {
   "cell_type": "code",
   "execution_count": 99,
   "metadata": {
    "colab": {
     "base_uri": "https://localhost:8080/"
    },
    "id": "qWgApjebVudF",
    "outputId": "65f2dd47-fa64-48a0-e231-33c97e24cfd4"
   },
   "outputs": [
    {
     "data": {
      "text/plain": [
       "917814"
      ]
     },
     "execution_count": 99,
     "metadata": {},
     "output_type": "execute_result"
    }
   ],
   "source": [
    "raw_df.count() ##Aekanun"
   ]
  },
  {
   "cell_type": "code",
   "execution_count": 100,
   "metadata": {
    "colab": {
     "base_uri": "https://localhost:8080/"
    },
    "id": "4Fepq05dVj7F",
    "outputId": "4ea08d22-c665-46d4-8ac5-e23e054e453f"
   },
   "outputs": [
    {
     "name": "stderr",
     "output_type": "stream",
     "text": [
      "                                                                                \r"
     ]
    },
    {
     "data": {
      "text/plain": [
       "636420"
      ]
     },
     "execution_count": 100,
     "metadata": {},
     "output_type": "execute_result"
    }
   ],
   "source": [
    "df3.count() ##Aekanun"
   ]
  },
  {
   "cell_type": "markdown",
   "metadata": {
    "id": "8n7AtuvkS2_-"
   },
   "source": [
    "## Split data"
   ]
  },
  {
   "cell_type": "code",
   "execution_count": 101,
   "metadata": {
    "colab": {
     "base_uri": "https://localhost:8080/"
    },
    "id": "3Eu3D6tkS0K1",
    "outputId": "4109aa6c-86ba-4e85-ed10-62d2164fe99f"
   },
   "outputs": [
    {
     "name": "stderr",
     "output_type": "stream",
     "text": [
      "                                                                                \r"
     ]
    },
    {
     "name": "stdout",
     "output_type": "stream",
     "text": [
      "Training Dataset: 509123\n"
     ]
    },
    {
     "name": "stderr",
     "output_type": "stream",
     "text": [
      "[Stage 242:=================================================>   (186 + 4) / 200]\r"
     ]
    },
    {
     "name": "stdout",
     "output_type": "stream",
     "text": [
      "Test Dataset: 127297\n"
     ]
    },
    {
     "name": "stderr",
     "output_type": "stream",
     "text": [
      "                                                                                \r"
     ]
    }
   ],
   "source": [
    "train_df, test_df = final_df.randomSplit([0.8, 0.2], seed=49)\n",
    "print(\"Training Dataset: \" + str(train_df.count()))\n",
    "print(\"Test Dataset: \" + str(test_df.count()))"
   ]
  },
  {
   "cell_type": "code",
   "execution_count": 102,
   "metadata": {
    "colab": {
     "base_uri": "https://localhost:8080/"
    },
    "id": "YfmB0yT-YLmH",
    "outputId": "830092af-c74d-40d4-cf1f-4b0cdd4e0b91"
   },
   "outputs": [
    {
     "name": "stderr",
     "output_type": "stream",
     "text": [
      "                                                                                \r"
     ]
    },
    {
     "name": "stdout",
     "output_type": "stream",
     "text": [
      "+-----+------+\n",
      "|label| count|\n",
      "+-----+------+\n",
      "|  0.0|507680|\n",
      "|  1.0|  1443|\n",
      "+-----+------+\n",
      "\n"
     ]
    }
   ],
   "source": [
    "train_df.groupBy('label').count().show()"
   ]
  },
  {
   "cell_type": "code",
   "execution_count": 103,
   "metadata": {
    "colab": {
     "base_uri": "https://localhost:8080/"
    },
    "id": "lVTS3ynKYUIf",
    "outputId": "5f2f9b6e-f50d-42bd-d9ee-a7eee2919d18"
   },
   "outputs": [
    {
     "name": "stderr",
     "output_type": "stream",
     "text": [
      "                                                                                \r"
     ]
    },
    {
     "name": "stdout",
     "output_type": "stream",
     "text": [
      "+-----+------+\n",
      "|label| count|\n",
      "+-----+------+\n",
      "|  0.0|126942|\n",
      "|  1.0|   355|\n",
      "+-----+------+\n",
      "\n"
     ]
    }
   ],
   "source": [
    "test_df.groupBy('label').count().show()"
   ]
  },
  {
   "cell_type": "markdown",
   "metadata": {
    "id": "kQ7Wji5mBqOd"
   },
   "source": [
    "## Oversampling"
   ]
  },
  {
   "cell_type": "code",
   "execution_count": 104,
   "metadata": {
    "id": "oKx_ak-SBpvk"
   },
   "outputs": [
    {
     "name": "stderr",
     "output_type": "stream",
     "text": [
      "                                                                                \r"
     ]
    }
   ],
   "source": [
    "balanceRatio = train_df.filter(sparkf.col('label') == 1).count() / train_df.count()"
   ]
  },
  {
   "cell_type": "code",
   "execution_count": 105,
   "metadata": {
    "colab": {
     "base_uri": "https://localhost:8080/"
    },
    "id": "57yxF9McFR0O",
    "outputId": "2e6e4f0d-3bb4-4448-e93a-9df5cff1aea9"
   },
   "outputs": [
    {
     "data": {
      "text/plain": [
       "0.002834285624495456"
      ]
     },
     "execution_count": 105,
     "metadata": {},
     "output_type": "execute_result"
    }
   ],
   "source": [
    "balanceRatio"
   ]
  },
  {
   "cell_type": "code",
   "execution_count": 106,
   "metadata": {
    "id": "yh8IraJgFWvX"
   },
   "outputs": [],
   "source": [
    "calWeight = sparkf.udf(lambda x: 1 * balanceRatio if x == 0 else (1 * (1.0 - balanceRatio)), DoubleType())"
   ]
  },
  {
   "cell_type": "code",
   "execution_count": 107,
   "metadata": {
    "id": "RlXlx1D1F4dg"
   },
   "outputs": [],
   "source": [
    "weighted_df = train_df.withColumn('class_weight', calWeight('label'))"
   ]
  },
  {
   "cell_type": "markdown",
   "metadata": {
    "id": "eTmn1_BWP09F"
   },
   "source": [
    "# 4. Modeling"
   ]
  },
  {
   "cell_type": "code",
   "execution_count": 108,
   "metadata": {
    "id": "1-zY8HgZ6vc0"
   },
   "outputs": [],
   "source": [
    "rf = RandomForestClassifier(labelCol='label', featuresCol='features', weightCol='class_weight', seed=49)"
   ]
  },
  {
   "cell_type": "code",
   "execution_count": 109,
   "metadata": {
    "id": "Z7qKvgiVMPeA"
   },
   "outputs": [
    {
     "name": "stderr",
     "output_type": "stream",
     "text": [
      "                                                                                \r"
     ]
    }
   ],
   "source": [
    "rfModel = rf.fit(weighted_df)"
   ]
  },
  {
   "cell_type": "code",
   "execution_count": 110,
   "metadata": {
    "id": "2ixQ3FTAMwB4"
   },
   "outputs": [],
   "source": [
    "result_df = rfModel.transform(test_df.dropna())"
   ]
  },
  {
   "cell_type": "code",
   "execution_count": 111,
   "metadata": {
    "colab": {
     "base_uri": "https://localhost:8080/"
    },
    "id": "Uw42lnZgQ50W",
    "outputId": "4b394e3a-166e-421a-9b58-bd42a8a4ae08"
   },
   "outputs": [
    {
     "name": "stderr",
     "output_type": "stream",
     "text": [
      "                                                                                \r"
     ]
    },
    {
     "name": "stdout",
     "output_type": "stream",
     "text": [
      "+-----+----------+\n",
      "|label|prediction|\n",
      "+-----+----------+\n",
      "|  1.0|       1.0|\n",
      "|  1.0|       1.0|\n",
      "|  1.0|       1.0|\n",
      "|  1.0|       0.0|\n",
      "|  1.0|       1.0|\n",
      "|  1.0|       1.0|\n",
      "|  1.0|       1.0|\n",
      "|  1.0|       1.0|\n",
      "|  1.0|       1.0|\n",
      "|  1.0|       1.0|\n",
      "|  1.0|       1.0|\n",
      "|  1.0|       1.0|\n",
      "|  1.0|       1.0|\n",
      "|  1.0|       1.0|\n",
      "|  1.0|       1.0|\n",
      "|  1.0|       1.0|\n",
      "|  1.0|       1.0|\n",
      "|  1.0|       1.0|\n",
      "|  1.0|       1.0|\n",
      "|  1.0|       1.0|\n",
      "+-----+----------+\n",
      "only showing top 20 rows\n",
      "\n"
     ]
    }
   ],
   "source": [
    "result_df.select(['label', 'prediction']).filter(result_df.label == 1).show()"
   ]
  },
  {
   "cell_type": "code",
   "execution_count": 112,
   "metadata": {
    "colab": {
     "base_uri": "https://localhost:8080/"
    },
    "id": "Uepn0XeVJJhn",
    "outputId": "ca50eb71-2ef7-474c-a960-3e22ffd6c542"
   },
   "outputs": [
    {
     "name": "stderr",
     "output_type": "stream",
     "text": [
      "                                                                                \r"
     ]
    },
    {
     "name": "stdout",
     "output_type": "stream",
     "text": [
      "+----------+------+\n",
      "|prediction| count|\n",
      "+----------+------+\n",
      "|       0.0|124074|\n",
      "|       1.0|  3223|\n",
      "+----------+------+\n",
      "\n"
     ]
    }
   ],
   "source": [
    "result_df.groupBy('prediction').count().show()"
   ]
  },
  {
   "cell_type": "code",
   "execution_count": 113,
   "metadata": {
    "colab": {
     "base_uri": "https://localhost:8080/"
    },
    "id": "7vqID1bwWNWl",
    "outputId": "04e02cd5-d212-4b07-b63f-0bb417d00e80"
   },
   "outputs": [
    {
     "name": "stderr",
     "output_type": "stream",
     "text": [
      "                                                                                \r"
     ]
    },
    {
     "name": "stdout",
     "output_type": "stream",
     "text": [
      "+-----+----------+------+\n",
      "|label|prediction| count|\n",
      "+-----+----------+------+\n",
      "|  1.0|       1.0|   341|\n",
      "|  0.0|       1.0|  2882|\n",
      "|  1.0|       0.0|    14|\n",
      "|  0.0|       0.0|124060|\n",
      "+-----+----------+------+\n",
      "\n"
     ]
    }
   ],
   "source": [
    "result_df.groupBy('label','prediction').count().show()"
   ]
  },
  {
   "cell_type": "code",
   "execution_count": 114,
   "metadata": {
    "id": "YTLbjdI3GEUt"
   },
   "outputs": [],
   "source": [
    "featureImportances = rfModel.featureImportances.toArray()"
   ]
  },
  {
   "cell_type": "code",
   "execution_count": 115,
   "metadata": {
    "id": "DBywO6ZeGERs"
   },
   "outputs": [],
   "source": [
    "def ExtractFeatureImp(featureImp, dataset, featuresCol):\n",
    "    list_extract = []\n",
    "    for i in dataset.schema[featuresCol].metadata[\"ml_attr\"][\"attrs\"]:\n",
    "        list_extract = list_extract + dataset.schema[featuresCol].metadata[\"ml_attr\"][\"attrs\"][i]\n",
    "    varlist = pd.DataFrame(list_extract)\n",
    "    varlist['score'] = varlist['idx'].apply(lambda x: featureImp[x])\n",
    "    return(varlist.sort_values('score', ascending = False))"
   ]
  },
  {
   "cell_type": "code",
   "execution_count": 116,
   "metadata": {
    "colab": {
     "base_uri": "https://localhost:8080/",
     "height": 206
    },
    "id": "GDFqJKh7GAmS",
    "outputId": "fd38efd9-81fc-4a24-c302-bcbe069b23ab"
   },
   "outputs": [
    {
     "data": {
      "text/html": [
       "<div>\n",
       "<style scoped>\n",
       "    .dataframe tbody tr th:only-of-type {\n",
       "        vertical-align: middle;\n",
       "    }\n",
       "\n",
       "    .dataframe tbody tr th {\n",
       "        vertical-align: top;\n",
       "    }\n",
       "\n",
       "    .dataframe thead th {\n",
       "        text-align: right;\n",
       "    }\n",
       "</style>\n",
       "<table border=\"1\" class=\"dataframe\">\n",
       "  <thead>\n",
       "    <tr style=\"text-align: right;\">\n",
       "      <th></th>\n",
       "      <th>idx</th>\n",
       "      <th>name</th>\n",
       "      <th>score</th>\n",
       "    </tr>\n",
       "  </thead>\n",
       "  <tbody>\n",
       "    <tr>\n",
       "      <th>2</th>\n",
       "      <td>2</td>\n",
       "      <td>hitNumber</td>\n",
       "      <td>0.589396</td>\n",
       "    </tr>\n",
       "    <tr>\n",
       "      <th>4</th>\n",
       "      <td>4</td>\n",
       "      <td>isImpression</td>\n",
       "      <td>0.209667</td>\n",
       "    </tr>\n",
       "    <tr>\n",
       "      <th>1</th>\n",
       "      <td>1</td>\n",
       "      <td>sum_hitaction_2</td>\n",
       "      <td>0.125666</td>\n",
       "    </tr>\n",
       "    <tr>\n",
       "      <th>3</th>\n",
       "      <td>3</td>\n",
       "      <td>timeOnSite</td>\n",
       "      <td>0.063312</td>\n",
       "    </tr>\n",
       "    <tr>\n",
       "      <th>0</th>\n",
       "      <td>0</td>\n",
       "      <td>newVisits</td>\n",
       "      <td>0.011958</td>\n",
       "    </tr>\n",
       "  </tbody>\n",
       "</table>\n",
       "</div>"
      ],
      "text/plain": [
       "   idx             name     score\n",
       "2    2        hitNumber  0.589396\n",
       "4    4     isImpression  0.209667\n",
       "1    1  sum_hitaction_2  0.125666\n",
       "3    3       timeOnSite  0.063312\n",
       "0    0        newVisits  0.011958"
      ]
     },
     "execution_count": 116,
     "metadata": {},
     "output_type": "execute_result"
    }
   ],
   "source": [
    "ExtractFeatureImp(featureImportances, result_df, \"features\").head(30)"
   ]
  },
  {
   "cell_type": "code",
   "execution_count": 117,
   "metadata": {
    "colab": {
     "base_uri": "https://localhost:8080/"
    },
    "id": "w6IBfpjKYck_",
    "outputId": "86ad38b9-c229-40ca-9841-6829c8a4e571"
   },
   "outputs": [
    {
     "data": {
      "text/plain": [
       "20"
      ]
     },
     "execution_count": 117,
     "metadata": {},
     "output_type": "execute_result"
    }
   ],
   "source": [
    "rfModel.getNumTrees"
   ]
  },
  {
   "cell_type": "markdown",
   "metadata": {
    "id": "yOFhocs9SXjM"
   },
   "source": [
    "# 5. Evaluation"
   ]
  },
  {
   "cell_type": "code",
   "execution_count": 118,
   "metadata": {
    "colab": {
     "base_uri": "https://localhost:8080/"
    },
    "id": "2R9hI32PSZwx",
    "outputId": "92f37197-c407-410f-88ed-c096c05f4bc2"
   },
   "outputs": [
    {
     "name": "stderr",
     "output_type": "stream",
     "text": [
      "                                                                                \r"
     ]
    },
    {
     "name": "stdout",
     "output_type": "stream",
     "text": [
      "Area Under ROC = 0.96893\n"
     ]
    }
   ],
   "source": [
    "evaluator = BinaryClassificationEvaluator(rawPredictionCol='prediction', labelCol='label', metricName='areaUnderROC')\n",
    "print('Area Under ROC = %g' % evaluator.evaluate(result_df))"
   ]
  },
  {
   "cell_type": "code",
   "execution_count": 119,
   "metadata": {
    "colab": {
     "base_uri": "https://localhost:8080/"
    },
    "id": "F87WSFDcSrcr",
    "outputId": "16214348-131b-4305-e3b5-a85d017217e8"
   },
   "outputs": [
    {
     "name": "stderr",
     "output_type": "stream",
     "text": [
      "                                                                                \r"
     ]
    },
    {
     "name": "stdout",
     "output_type": "stream",
     "text": [
      "F1 score = 0.986238\n"
     ]
    },
    {
     "name": "stderr",
     "output_type": "stream",
     "text": [
      "                                                                                \r"
     ]
    },
    {
     "name": "stdout",
     "output_type": "stream",
     "text": [
      "Precision = 0.999887\n"
     ]
    },
    {
     "name": "stderr",
     "output_type": "stream",
     "text": [
      "[Stage 360:====================================================>(197 + 3) / 200]\r"
     ]
    },
    {
     "name": "stdout",
     "output_type": "stream",
     "text": [
      "Recall = 0.977297\n"
     ]
    },
    {
     "name": "stderr",
     "output_type": "stream",
     "text": [
      "                                                                                \r"
     ]
    }
   ],
   "source": [
    "evaluator = MulticlassClassificationEvaluator(predictionCol='prediction', labelCol='label')\n",
    "print('F1 score = %g' % evaluator.evaluate(result_df))\n",
    "print('Precision = %g' % evaluator.evaluate(result_df, {evaluator.metricName: 'precisionByLabel'}))\n",
    "print('Recall = %g' % evaluator.evaluate(result_df, {evaluator.metricName: 'recallByLabel'}))"
   ]
  },
  {
   "cell_type": "markdown",
   "metadata": {
    "id": "Z5S0HOnVTh1O"
   },
   "source": [
    "## Tuning"
   ]
  },
  {
   "cell_type": "code",
   "execution_count": 120,
   "metadata": {
    "id": "CEGokYijThJn"
   },
   "outputs": [],
   "source": [
    "paramGrid = ParamGridBuilder() \\\n",
    ".addGrid(rf.numTrees, [20, 50, 100]) \\\n",
    ".build()"
   ]
  },
  {
   "cell_type": "code",
   "execution_count": 121,
   "metadata": {
    "id": "B2psdRLzXYUZ"
   },
   "outputs": [],
   "source": [
    "crossval = CrossValidator(estimator=rf, \n",
    "                          estimatorParamMaps=paramGrid, \n",
    "                          evaluator=BinaryClassificationEvaluator(), \n",
    "                          numFolds=5)"
   ]
  },
  {
   "cell_type": "code",
   "execution_count": 122,
   "metadata": {
    "id": "oKy5rZQ_YQeJ"
   },
   "outputs": [
    {
     "name": "stderr",
     "output_type": "stream",
     "text": [
      "                                                                                \r"
     ]
    }
   ],
   "source": [
    "cvModel = crossval.fit(weighted_df)"
   ]
  },
  {
   "cell_type": "code",
   "execution_count": 123,
   "metadata": {
    "id": "FP6vhz6gdlpa"
   },
   "outputs": [],
   "source": [
    "result_cv_df = cvModel.transform(test_df.dropna())"
   ]
  },
  {
   "cell_type": "code",
   "execution_count": 124,
   "metadata": {
    "id": "Yc8U6y09d1GX"
   },
   "outputs": [
    {
     "name": "stderr",
     "output_type": "stream",
     "text": [
      "                                                                                \r"
     ]
    },
    {
     "name": "stdout",
     "output_type": "stream",
     "text": [
      "Area Under ROC = 0.967494\n"
     ]
    }
   ],
   "source": [
    "evaluator = BinaryClassificationEvaluator(rawPredictionCol='prediction', labelCol='label', metricName='areaUnderROC')\n",
    "print('Area Under ROC = %g' % evaluator.evaluate(result_cv_df))"
   ]
  },
  {
   "cell_type": "markdown",
   "metadata": {
    "id": "E5cguk7rNi3F"
   },
   "source": [
    "# 6. Deployment"
   ]
  },
  {
   "cell_type": "markdown",
   "metadata": {
    "id": "lGJZf7BxNlvr"
   },
   "source": [
    "REST API"
   ]
  },
  {
   "cell_type": "code",
   "execution_count": null,
   "metadata": {
    "id": "vfHdTmOsGEaL"
   },
   "outputs": [],
   "source": []
  },
  {
   "cell_type": "code",
   "execution_count": null,
   "metadata": {
    "id": "iAo1ZIuzGEXl"
   },
   "outputs": [],
   "source": []
  },
  {
   "cell_type": "code",
   "execution_count": null,
   "metadata": {
    "id": "h1fTH47IKD3j"
   },
   "outputs": [],
   "source": []
  }
 ],
 "metadata": {
  "colab": {
   "collapsed_sections": [
    "hGSzhwXj3yeo",
    "lWRsq4oEOzoC"
   ],
   "provenance": []
  },
  "kernelspec": {
   "display_name": "Python 3 (ipykernel)",
   "language": "python",
   "name": "python3"
  },
  "language_info": {
   "codemirror_mode": {
    "name": "ipython",
    "version": 3
   },
   "file_extension": ".py",
   "mimetype": "text/x-python",
   "name": "python",
   "nbconvert_exporter": "python",
   "pygments_lexer": "ipython3",
   "version": "3.9.2"
  }
 },
 "nbformat": 4,
 "nbformat_minor": 4
}
