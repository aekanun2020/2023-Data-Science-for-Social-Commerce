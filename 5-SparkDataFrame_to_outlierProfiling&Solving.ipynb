{
 "cells": [
  {
   "cell_type": "code",
   "execution_count": 1,
   "id": "9aaa2eb7",
   "metadata": {},
   "outputs": [
    {
     "name": "stderr",
     "output_type": "stream",
     "text": [
      "23/05/22 14:36:27 WARN NativeCodeLoader: Unable to load native-hadoop library for your platform... using builtin-java classes where applicable\n",
      "Using Spark's default log4j profile: org/apache/spark/log4j-defaults.properties\n",
      "Setting default log level to \"WARN\".\n",
      "To adjust logging level use sc.setLogLevel(newLevel). For SparkR, use setLogLevel(newLevel).\n"
     ]
    }
   ],
   "source": [
    "from pyspark.sql import SparkSession\n",
    "\n",
    "# สร้าง SparkSession ใหม่\n",
    "spark = (\n",
    "    SparkSession.builder\n",
    "        # กำหนดชื่อแอปพลิเคชัน\n",
    "        .appName(\"Social Commerce\")\n",
    "        # กำหนด URL ของ Spark master\n",
    "        .master(\"spark://spark-master:7077\")\n",
    "        # กำหนดจำนวน memory ที่ executor จะใช้\n",
    "        .config(\"spark.executor.memory\", \"1000m\")\n",
    "        # กำหนดจำนวน cores ที่ executor จะใช้\n",
    "        .config(\"spark.executor.cores\", \"2\")\n",
    "        # กำหนดจำนวน cores สูงสุดที่ Spark จะใช้\n",
    "        .config(\"spark.cores.max\", \"6\")\n",
    "        # สร้าง SparkSession ถ้ายังไม่มี, ถ้ามีแล้วจะใช้ SparkSession ที่มีอยู่\n",
    "        .getOrCreate()\n",
    ")"
   ]
  },
  {
   "cell_type": "code",
   "execution_count": 2,
   "id": "c8a1ff07",
   "metadata": {},
   "outputs": [
    {
     "name": "stderr",
     "output_type": "stream",
     "text": [
      "                                                                                \r"
     ]
    }
   ],
   "source": [
    "# ใช้ SparkSession ที่เราสร้างขึ้น (spark) ในการอ่านข้อมูล\n",
    "\n",
    "raw_df = (\n",
    "    spark.read  # ใช้วิธีการอ่านข้อมูล (read method)\n",
    "        .format(\"csv\")  # กำหนดรูปแบบของไฟล์ที่จะอ่านเป็น CSV\n",
    "        .option(\"header\", \"true\")  # กำหนดว่าไฟล์ CSV มี header ที่บรรทัดแรก\n",
    "        .option(\"inferSchema\",\"true\")  # อนุญาตให้ Spark ทำการสืบความหมายของ schema จากข้อมูล\n",
    "        .load(\"000000000000\")  # โหลดข้อมูลจากไฟล์ที่ชื่อ \"000000000000\"\n",
    ")"
   ]
  },
  {
   "cell_type": "code",
   "execution_count": 3,
   "id": "e8b21fcc",
   "metadata": {},
   "outputs": [
    {
     "name": "stdout",
     "output_type": "stream",
     "text": [
      "root\n",
      " |-- source: string (nullable = true)\n",
      " |-- isTrueDirect: boolean (nullable = true)\n",
      " |-- sourceKeyword: string (nullable = true)\n",
      " |-- medium: string (nullable = true)\n",
      " |-- isVideoAd: boolean (nullable = true)\n",
      " |-- fullVisitorId: long (nullable = true)\n",
      " |-- visitId: integer (nullable = true)\n",
      " |-- date: integer (nullable = true)\n",
      " |-- newVisits: integer (nullable = true)\n",
      " |-- hitReferer: string (nullable = true)\n",
      " |-- hitType: string (nullable = true)\n",
      " |-- hitAction_type: integer (nullable = true)\n",
      " |-- hitNumber: integer (nullable = true)\n",
      " |-- hitHour: integer (nullable = true)\n",
      " |-- hitMin: integer (nullable = true)\n",
      " |-- timeMicroSec: integer (nullable = true)\n",
      " |-- v2ProductName: string (nullable = true)\n",
      " |-- productListName: string (nullable = true)\n",
      " |-- isClick: boolean (nullable = true)\n",
      " |-- isImpression: boolean (nullable = true)\n",
      " |-- sessionQualityDim: integer (nullable = true)\n",
      " |-- timeOnScreen: string (nullable = true)\n",
      " |-- timeOnSite: integer (nullable = true)\n",
      " |-- totalTransactionRevenue: long (nullable = true)\n",
      "\n"
     ]
    }
   ],
   "source": [
    "# printSchema เป็นฟังก์ชันที่ใช้แสดง schema ของ DataFrame\n",
    "# Schema คือโครงสร้างของ DataFrame ซึ่งประกอบด้วยชื่อคอลัมน์ ชนิดข้อมูล และคุณสมบัติอื่นๆ\n",
    "# การใช้ printSchema ช่วยให้เราเข้าใจโครงสร้างข้อมูลของเรา\n",
    "\n",
    "raw_df.printSchema()"
   ]
  },
  {
   "cell_type": "code",
   "execution_count": 4,
   "id": "3ceb9419",
   "metadata": {},
   "outputs": [
    {
     "name": "stderr",
     "output_type": "stream",
     "text": [
      "                                                                                \r"
     ]
    },
    {
     "data": {
      "text/plain": [
       "917814"
      ]
     },
     "execution_count": 4,
     "metadata": {},
     "output_type": "execute_result"
    }
   ],
   "source": [
    "# count เป็นฟังก์ชันที่ใช้ในการนับจำนวนแถวใน DataFrame\n",
    "# ใช้สำหรับการตรวจสอบขนาดของ DataFrame ซึ่งสามารถช่วยเราเข้าใจจำนวนข้อมูลที่ต้องจัดการ\n",
    "\n",
    "raw_df.count()\n"
   ]
  },
  {
   "cell_type": "code",
   "execution_count": 5,
   "id": "49a13451",
   "metadata": {},
   "outputs": [
    {
     "name": "stderr",
     "output_type": "stream",
     "text": [
      "                                                                                \r"
     ]
    },
    {
     "data": {
      "text/html": [
       "<div>\n",
       "<style scoped>\n",
       "    .dataframe tbody tr th:only-of-type {\n",
       "        vertical-align: middle;\n",
       "    }\n",
       "\n",
       "    .dataframe tbody tr th {\n",
       "        vertical-align: top;\n",
       "    }\n",
       "\n",
       "    .dataframe thead th {\n",
       "        text-align: right;\n",
       "    }\n",
       "</style>\n",
       "<table border=\"1\" class=\"dataframe\">\n",
       "  <thead>\n",
       "    <tr style=\"text-align: right;\">\n",
       "      <th></th>\n",
       "      <th>0</th>\n",
       "      <th>1</th>\n",
       "      <th>2</th>\n",
       "      <th>3</th>\n",
       "      <th>4</th>\n",
       "    </tr>\n",
       "  </thead>\n",
       "  <tbody>\n",
       "    <tr>\n",
       "      <th>summary</th>\n",
       "      <td>count</td>\n",
       "      <td>mean</td>\n",
       "      <td>stddev</td>\n",
       "      <td>min</td>\n",
       "      <td>max</td>\n",
       "    </tr>\n",
       "    <tr>\n",
       "      <th>source</th>\n",
       "      <td>917814</td>\n",
       "      <td>None</td>\n",
       "      <td>None</td>\n",
       "      <td>(direct)</td>\n",
       "      <td>youtube.com</td>\n",
       "    </tr>\n",
       "    <tr>\n",
       "      <th>sourceKeyword</th>\n",
       "      <td>322031</td>\n",
       "      <td>None</td>\n",
       "      <td>None</td>\n",
       "      <td>(Remarketing/Content targeting)</td>\n",
       "      <td>yyoutubr</td>\n",
       "    </tr>\n",
       "    <tr>\n",
       "      <th>medium</th>\n",
       "      <td>917814</td>\n",
       "      <td>None</td>\n",
       "      <td>None</td>\n",
       "      <td>(none)</td>\n",
       "      <td>referral</td>\n",
       "    </tr>\n",
       "    <tr>\n",
       "      <th>fullVisitorId</th>\n",
       "      <td>917814</td>\n",
       "      <td>4.7679506549928141E18</td>\n",
       "      <td>1.42707561410277811E18</td>\n",
       "      <td>514359656957582</td>\n",
       "      <td>5487531102128447544</td>\n",
       "    </tr>\n",
       "    <tr>\n",
       "      <th>visitId</th>\n",
       "      <td>917814</td>\n",
       "      <td>1.4828991660307045E9</td>\n",
       "      <td>9692290.975135246</td>\n",
       "      <td>1470037326</td>\n",
       "      <td>1501656575</td>\n",
       "    </tr>\n",
       "    <tr>\n",
       "      <th>date</th>\n",
       "      <td>917814</td>\n",
       "      <td>2.0165139267192483E7</td>\n",
       "      <td>4699.035428253388</td>\n",
       "      <td>20160801</td>\n",
       "      <td>20170801</td>\n",
       "    </tr>\n",
       "    <tr>\n",
       "      <th>newVisits</th>\n",
       "      <td>647359</td>\n",
       "      <td>1.0</td>\n",
       "      <td>0.0</td>\n",
       "      <td>1</td>\n",
       "      <td>1</td>\n",
       "    </tr>\n",
       "    <tr>\n",
       "      <th>hitReferer</th>\n",
       "      <td>119959</td>\n",
       "      <td>None</td>\n",
       "      <td>None</td>\n",
       "      <td>http://googleads.g.doubleclick.net/pagead/ads?...</td>\n",
       "      <td>https://youtube.com/yt/about/copyright/</td>\n",
       "    </tr>\n",
       "    <tr>\n",
       "      <th>hitType</th>\n",
       "      <td>917814</td>\n",
       "      <td>None</td>\n",
       "      <td>None</td>\n",
       "      <td>EVENT</td>\n",
       "      <td>PAGE</td>\n",
       "    </tr>\n",
       "    <tr>\n",
       "      <th>hitAction_type</th>\n",
       "      <td>917814</td>\n",
       "      <td>0.18108135199506653</td>\n",
       "      <td>0.7980562985767482</td>\n",
       "      <td>0</td>\n",
       "      <td>6</td>\n",
       "    </tr>\n",
       "    <tr>\n",
       "      <th>hitNumber</th>\n",
       "      <td>917814</td>\n",
       "      <td>11.936170073675058</td>\n",
       "      <td>19.048950870892313</td>\n",
       "      <td>1</td>\n",
       "      <td>239</td>\n",
       "    </tr>\n",
       "    <tr>\n",
       "      <th>hitHour</th>\n",
       "      <td>917814</td>\n",
       "      <td>12.427243428407063</td>\n",
       "      <td>5.993956058897788</td>\n",
       "      <td>0</td>\n",
       "      <td>23</td>\n",
       "    </tr>\n",
       "    <tr>\n",
       "      <th>hitMin</th>\n",
       "      <td>917814</td>\n",
       "      <td>29.86619620097318</td>\n",
       "      <td>17.257801099354616</td>\n",
       "      <td>0</td>\n",
       "      <td>59</td>\n",
       "    </tr>\n",
       "    <tr>\n",
       "      <th>timeMicroSec</th>\n",
       "      <td>917814</td>\n",
       "      <td>291059.62081097043</td>\n",
       "      <td>554542.5064780046</td>\n",
       "      <td>0</td>\n",
       "      <td>9963065</td>\n",
       "    </tr>\n",
       "    <tr>\n",
       "      <th>v2ProductName</th>\n",
       "      <td>917814</td>\n",
       "      <td>None</td>\n",
       "      <td>None</td>\n",
       "      <td>\"7\"\" Dog Frisbee\"</td>\n",
       "      <td>YouTube Youth Short Sleeve Tee Red</td>\n",
       "    </tr>\n",
       "    <tr>\n",
       "      <th>productListName</th>\n",
       "      <td>917814</td>\n",
       "      <td>None</td>\n",
       "      <td>None</td>\n",
       "      <td>(not set)</td>\n",
       "      <td>Search Results</td>\n",
       "    </tr>\n",
       "    <tr>\n",
       "      <th>sessionQualityDim</th>\n",
       "      <td>61782</td>\n",
       "      <td>18.657068401799876</td>\n",
       "      <td>27.512960054299242</td>\n",
       "      <td>1</td>\n",
       "      <td>94</td>\n",
       "    </tr>\n",
       "    <tr>\n",
       "      <th>timeOnScreen</th>\n",
       "      <td>0</td>\n",
       "      <td>None</td>\n",
       "      <td>None</td>\n",
       "      <td>None</td>\n",
       "      <td>None</td>\n",
       "    </tr>\n",
       "    <tr>\n",
       "      <th>timeOnSite</th>\n",
       "      <td>850509</td>\n",
       "      <td>660.041210616231</td>\n",
       "      <td>930.0535167228322</td>\n",
       "      <td>1</td>\n",
       "      <td>9963</td>\n",
       "    </tr>\n",
       "    <tr>\n",
       "      <th>totalTransactionRevenue</th>\n",
       "      <td>70300</td>\n",
       "      <td>1.978806652916074E8</td>\n",
       "      <td>4.625284848391805E8</td>\n",
       "      <td>6980000</td>\n",
       "      <td>5608400000</td>\n",
       "    </tr>\n",
       "  </tbody>\n",
       "</table>\n",
       "</div>"
      ],
      "text/plain": [
       "                              0                      1  \\\n",
       "summary                   count                   mean   \n",
       "source                   917814                   None   \n",
       "sourceKeyword            322031                   None   \n",
       "medium                   917814                   None   \n",
       "fullVisitorId            917814  4.7679506549928141E18   \n",
       "visitId                  917814   1.4828991660307045E9   \n",
       "date                     917814   2.0165139267192483E7   \n",
       "newVisits                647359                    1.0   \n",
       "hitReferer               119959                   None   \n",
       "hitType                  917814                   None   \n",
       "hitAction_type           917814    0.18108135199506653   \n",
       "hitNumber                917814     11.936170073675058   \n",
       "hitHour                  917814     12.427243428407063   \n",
       "hitMin                   917814      29.86619620097318   \n",
       "timeMicroSec             917814     291059.62081097043   \n",
       "v2ProductName            917814                   None   \n",
       "productListName          917814                   None   \n",
       "sessionQualityDim         61782     18.657068401799876   \n",
       "timeOnScreen                  0                   None   \n",
       "timeOnSite               850509       660.041210616231   \n",
       "totalTransactionRevenue   70300    1.978806652916074E8   \n",
       "\n",
       "                                              2  \\\n",
       "summary                                  stddev   \n",
       "source                                     None   \n",
       "sourceKeyword                              None   \n",
       "medium                                     None   \n",
       "fullVisitorId            1.42707561410277811E18   \n",
       "visitId                       9692290.975135246   \n",
       "date                          4699.035428253388   \n",
       "newVisits                                   0.0   \n",
       "hitReferer                                 None   \n",
       "hitType                                    None   \n",
       "hitAction_type               0.7980562985767482   \n",
       "hitNumber                    19.048950870892313   \n",
       "hitHour                       5.993956058897788   \n",
       "hitMin                       17.257801099354616   \n",
       "timeMicroSec                  554542.5064780046   \n",
       "v2ProductName                              None   \n",
       "productListName                            None   \n",
       "sessionQualityDim            27.512960054299242   \n",
       "timeOnScreen                               None   \n",
       "timeOnSite                    930.0535167228322   \n",
       "totalTransactionRevenue     4.625284848391805E8   \n",
       "\n",
       "                                                                         3  \\\n",
       "summary                                                                min   \n",
       "source                                                            (direct)   \n",
       "sourceKeyword                              (Remarketing/Content targeting)   \n",
       "medium                                                              (none)   \n",
       "fullVisitorId                                              514359656957582   \n",
       "visitId                                                         1470037326   \n",
       "date                                                              20160801   \n",
       "newVisits                                                                1   \n",
       "hitReferer               http://googleads.g.doubleclick.net/pagead/ads?...   \n",
       "hitType                                                              EVENT   \n",
       "hitAction_type                                                           0   \n",
       "hitNumber                                                                1   \n",
       "hitHour                                                                  0   \n",
       "hitMin                                                                   0   \n",
       "timeMicroSec                                                             0   \n",
       "v2ProductName                                            \"7\"\" Dog Frisbee\"   \n",
       "productListName                                                  (not set)   \n",
       "sessionQualityDim                                                        1   \n",
       "timeOnScreen                                                          None   \n",
       "timeOnSite                                                               1   \n",
       "totalTransactionRevenue                                            6980000   \n",
       "\n",
       "                                                               4  \n",
       "summary                                                      max  \n",
       "source                                               youtube.com  \n",
       "sourceKeyword                                           yyoutubr  \n",
       "medium                                                  referral  \n",
       "fullVisitorId                                5487531102128447544  \n",
       "visitId                                               1501656575  \n",
       "date                                                    20170801  \n",
       "newVisits                                                      1  \n",
       "hitReferer               https://youtube.com/yt/about/copyright/  \n",
       "hitType                                                     PAGE  \n",
       "hitAction_type                                                 6  \n",
       "hitNumber                                                    239  \n",
       "hitHour                                                       23  \n",
       "hitMin                                                        59  \n",
       "timeMicroSec                                             9963065  \n",
       "v2ProductName                 YouTube Youth Short Sleeve Tee Red  \n",
       "productListName                                   Search Results  \n",
       "sessionQualityDim                                             94  \n",
       "timeOnScreen                                                None  \n",
       "timeOnSite                                                  9963  \n",
       "totalTransactionRevenue                               5608400000  "
      ]
     },
     "execution_count": 5,
     "metadata": {},
     "output_type": "execute_result"
    }
   ],
   "source": [
    "# describe เป็นฟังก์ชันที่ใช้สร้างสถิติของ DataFrame\n",
    "# สถิติที่สร้างขึ้นจะมีการนับ (count), ค่าเฉลี่ย (mean), ค่าส่วนเบี่ยงเบนมาตรฐาน (stddev), ค่าต่ำสุด (min), และค่าสูงสุด (max) ของแต่ละคอลัมน์\n",
    "# toPandas เป็นฟังก์ชันที่ใช้แปลง Spark DataFrame เป็น Pandas DataFrame\n",
    "# transpose เป็นฟังก์ชันของ Pandas ที่ใช้สลับแถวเป็นคอลัมน์และคอลัมน์เป็นแถว\n",
    "# การ transpose มักจะใช้เพื่อทำให้ข้อมูลง่ายต่อการมองเห็น\n",
    "\n",
    "raw_df.describe().toPandas().transpose()\n"
   ]
  },
  {
   "cell_type": "markdown",
   "id": "fb851f22",
   "metadata": {},
   "source": [
    "(1) Missing Value\n",
    "\n",
    "การขาดหายของข้อมูล (Missing Value) คือความผิดปกติที่สำคัญที่สุดในข้อมูลของเรา. count ใน describe() บอกเราว่ามีข้อมูลทั้งหมดกี่รายการในแต่ละคอลัมน์. เราสามารถเปรียบเทียบค่า count นี้กับจำนวนรายการทั้งหมดที่คาดว่าจะมีในข้อมูล. หาก count ต่ำกว่าที่คาดความหายของข้อมูลจะเป็นปัญหาที่เราต้องจัดการ.\n",
    "\n",
    "(2) Outlier\n",
    "\n",
    "ค่าผิดปกติ (Outliers) เป็นจุดข้อมูลที่มีค่าต่างจากส่วนใหญ่ของข้อมูล. min และ max ใน describe() จะบอกเราว่าข้อมูลเริ่มที่ค่าเท่าไรและลุกลามถึงค่าเท่าไร หากมีค่า min หรือ max ที่ผิดปกติ (เช่น ค่าที่สูงหรือต่ำมากเกินไป) เราอาจต้องสงสัยว่ามีข้อมูลผิดปกติ.\n",
    "\n",
    "(3) Dispersion\n",
    "\n",
    "ค่าการกระจาย (Dispersion) บอกเราว่าข้อมูลกระจายอย่างไร. stddev ใน describe() บอกเราว่าข้อมูลมีการกระจายมากเท่าไร หาก stddev สูง ข้อมูลจะมีการกระจายมาก หาก stddev ต่ำ ข้อมูลจะมีการกระจายน้อย.\n",
    "\n",
    "(4) Difference Scale\n",
    "\n",
    "ค่าสเกลต่างกัน (Difference Scale) หมายถึงความแตกต่างในการวัดข้อมูลระหว่างคอลัมน์ต่างๆ mean ใน describe() บอกเราว่าข้อมูลมีค่าเฉลี่ยเท่าไร โดยเราสามารถใช้เพื่อเปรียบเทียบค่าเฉลี่ยของคอลัมน์ต่างๆ เราสามารถปรับสเกลของข้อมูลในคอลัมน์ให้สอดคล้องกันโดยใช้การปรับสเกล (scaling) เช่น min-max scaling หรือ standard scaling."
   ]
  },
  {
   "cell_type": "code",
   "execution_count": 6,
   "id": "50d9f2a8",
   "metadata": {},
   "outputs": [
    {
     "name": "stdout",
     "output_type": "stream",
     "text": [
      "Numeric columns: ['fullVisitorId', 'visitId', 'date', 'newVisits', 'hitAction_type', 'hitNumber', 'hitHour', 'hitMin', 'timeMicroSec', 'sessionQualityDim', 'timeOnSite', 'totalTransactionRevenue']\n",
      "Non-numeric columns: ['source', 'isTrueDirect', 'sourceKeyword', 'medium', 'isVideoAd', 'hitReferer', 'hitType', 'v2ProductName', 'productListName', 'isClick', 'isImpression', 'timeOnScreen']\n"
     ]
    }
   ],
   "source": [
    "# Importing required data types from PySpark\n",
    "from pyspark.sql.types import IntegerType, FloatType, LongType, StringType\n",
    "\n",
    "# Initializing empty lists for numeric and non-numeric columns\n",
    "numeric_columns = []\n",
    "non_numeric_columns = []\n",
    "\n",
    "# Looping through each column in the DataFrame\n",
    "for col_name in raw_df.columns:\n",
    "    # Checking if the column data type is numeric (IntegerType, FloatType, or LongType)\n",
    "    if isinstance(raw_df.schema[col_name].dataType, (IntegerType, FloatType, LongType)):\n",
    "        # If it is numeric, then add the column name to the numeric_columns list\n",
    "        numeric_columns.append(col_name)\n",
    "    else:\n",
    "        # If it's not numeric, then add the column name to the non_numeric_columns list\n",
    "        non_numeric_columns.append(col_name)\n",
    "\n",
    "# Printing the list of numeric columns\n",
    "print(f\"Numeric columns: {numeric_columns}\")\n",
    "\n",
    "# Printing the list of non-numeric columns\n",
    "print(f\"Non-numeric columns: {non_numeric_columns}\")\n"
   ]
  },
  {
   "cell_type": "code",
   "execution_count": 7,
   "id": "ee198750",
   "metadata": {},
   "outputs": [
    {
     "name": "stderr",
     "output_type": "stream",
     "text": [
      "                                                                                \r"
     ]
    },
    {
     "name": "stdout",
     "output_type": "stream",
     "text": [
      "Column: fullVisitorId\n"
     ]
    },
    {
     "name": "stderr",
     "output_type": "stream",
     "text": [
      "                                                                                \r"
     ]
    },
    {
     "name": "stdout",
     "output_type": "stream",
     "text": [
      "Outlier count: 90805\n",
      "Outlier range: < 4.636851387992723e+18 OR > 5.801489678900736e+18\n",
      "\n"
     ]
    },
    {
     "name": "stderr",
     "output_type": "stream",
     "text": [
      "                                                                                \r"
     ]
    },
    {
     "name": "stdout",
     "output_type": "stream",
     "text": [
      "Column: visitId\n"
     ]
    },
    {
     "name": "stderr",
     "output_type": "stream",
     "text": [
      "                                                                                \r"
     ]
    },
    {
     "name": "stdout",
     "output_type": "stream",
     "text": [
      "Outlier count: 0\n",
      "Outlier range: < 1448245415.5 OR > 1516209107.5\n",
      "\n"
     ]
    },
    {
     "name": "stderr",
     "output_type": "stream",
     "text": [
      "                                                                                \r"
     ]
    },
    {
     "name": "stdout",
     "output_type": "stream",
     "text": [
      "Column: date\n"
     ]
    },
    {
     "name": "stderr",
     "output_type": "stream",
     "text": [
      "                                                                                \r"
     ]
    },
    {
     "name": "stdout",
     "output_type": "stream",
     "text": [
      "Outlier count: 0\n",
      "Outlier range: < 20146788.0 OR > 20184452.0\n",
      "\n"
     ]
    },
    {
     "name": "stderr",
     "output_type": "stream",
     "text": [
      "                                                                                \r"
     ]
    },
    {
     "name": "stdout",
     "output_type": "stream",
     "text": [
      "Column: newVisits\n"
     ]
    },
    {
     "name": "stderr",
     "output_type": "stream",
     "text": [
      "                                                                                \r"
     ]
    },
    {
     "name": "stdout",
     "output_type": "stream",
     "text": [
      "Outlier count: 0\n",
      "Outlier range: < 1.0 OR > 1.0\n",
      "\n"
     ]
    },
    {
     "name": "stderr",
     "output_type": "stream",
     "text": [
      "                                                                                \r"
     ]
    },
    {
     "name": "stdout",
     "output_type": "stream",
     "text": [
      "Column: hitAction_type\n"
     ]
    },
    {
     "name": "stderr",
     "output_type": "stream",
     "text": [
      "                                                                                \r"
     ]
    },
    {
     "name": "stdout",
     "output_type": "stream",
     "text": [
      "Outlier count: 63911\n",
      "Outlier range: < 0.0 OR > 0.0\n",
      "\n"
     ]
    },
    {
     "name": "stderr",
     "output_type": "stream",
     "text": [
      "                                                                                \r"
     ]
    },
    {
     "name": "stdout",
     "output_type": "stream",
     "text": [
      "Column: hitNumber\n"
     ]
    },
    {
     "name": "stderr",
     "output_type": "stream",
     "text": [
      "                                                                                \r"
     ]
    },
    {
     "name": "stdout",
     "output_type": "stream",
     "text": [
      "Outlier count: 107855\n",
      "Outlier range: < -10.5 OR > 25.5\n",
      "\n"
     ]
    },
    {
     "name": "stderr",
     "output_type": "stream",
     "text": [
      "                                                                                \r"
     ]
    },
    {
     "name": "stdout",
     "output_type": "stream",
     "text": [
      "Column: hitHour\n"
     ]
    },
    {
     "name": "stderr",
     "output_type": "stream",
     "text": [
      "                                                                                \r"
     ]
    },
    {
     "name": "stdout",
     "output_type": "stream",
     "text": [
      "Outlier count: 0\n",
      "Outlier range: < -3.0 OR > 29.0\n",
      "\n"
     ]
    },
    {
     "name": "stderr",
     "output_type": "stream",
     "text": [
      "                                                                                \r"
     ]
    },
    {
     "name": "stdout",
     "output_type": "stream",
     "text": [
      "Column: hitMin\n"
     ]
    },
    {
     "name": "stderr",
     "output_type": "stream",
     "text": [
      "                                                                                \r"
     ]
    },
    {
     "name": "stdout",
     "output_type": "stream",
     "text": [
      "Outlier count: 0\n",
      "Outlier range: < -27.0 OR > 85.0\n",
      "\n"
     ]
    },
    {
     "name": "stderr",
     "output_type": "stream",
     "text": [
      "                                                                                \r"
     ]
    },
    {
     "name": "stdout",
     "output_type": "stream",
     "text": [
      "Column: timeMicroSec\n"
     ]
    },
    {
     "name": "stderr",
     "output_type": "stream",
     "text": [
      "                                                                                \r"
     ]
    },
    {
     "name": "stdout",
     "output_type": "stream",
     "text": [
      "Outlier count: 108522\n",
      "Outlier range: < -361549.0 OR > 657971.0\n",
      "\n"
     ]
    },
    {
     "name": "stderr",
     "output_type": "stream",
     "text": [
      "                                                                                \r"
     ]
    },
    {
     "name": "stdout",
     "output_type": "stream",
     "text": [
      "Column: sessionQualityDim\n"
     ]
    },
    {
     "name": "stderr",
     "output_type": "stream",
     "text": [
      "                                                                                \r"
     ]
    },
    {
     "name": "stdout",
     "output_type": "stream",
     "text": [
      "Outlier count: 12166\n",
      "Outlier range: < -26.0 OR > 46.0\n",
      "\n"
     ]
    },
    {
     "name": "stderr",
     "output_type": "stream",
     "text": [
      "                                                                                \r"
     ]
    },
    {
     "name": "stdout",
     "output_type": "stream",
     "text": [
      "Column: timeOnSite\n"
     ]
    },
    {
     "name": "stderr",
     "output_type": "stream",
     "text": [
      "                                                                                \r"
     ]
    },
    {
     "name": "stdout",
     "output_type": "stream",
     "text": [
      "Outlier count: 70879\n",
      "Outlier range: < -877.0 OR > 1795.0\n",
      "\n"
     ]
    },
    {
     "name": "stderr",
     "output_type": "stream",
     "text": [
      "                                                                                \r"
     ]
    },
    {
     "name": "stdout",
     "output_type": "stream",
     "text": [
      "Column: totalTransactionRevenue\n"
     ]
    },
    {
     "name": "stderr",
     "output_type": "stream",
     "text": [
      "[Stage 40:=============================>                            (2 + 2) / 4]\r"
     ]
    },
    {
     "name": "stdout",
     "output_type": "stream",
     "text": [
      "Outlier count: 8730\n",
      "Outlier range: < -122395000.0 OR > 308845000.0\n",
      "\n"
     ]
    },
    {
     "name": "stderr",
     "output_type": "stream",
     "text": [
      "                                                                                \r"
     ]
    }
   ],
   "source": [
    "from pyspark.sql.functions import col, expr\n",
    "\n",
    "# Loop through every numeric column\n",
    "for col_name in numeric_columns:\n",
    "    # Calculate IQR\n",
    "    bounds = raw_df.approxQuantile(col_name, [0.25, 0.75], 0.05)\n",
    "    IQR = bounds[1] - bounds[0]\n",
    "\n",
    "    # Calculate lower and upper bounds\n",
    "    lower_bound = bounds[0] - 1.5 * IQR\n",
    "    upper_bound = bounds[1] + 1.5 * IQR\n",
    "\n",
    "    # Find outliers\n",
    "    outliers = raw_df.filter((col(col_name) < lower_bound) | (col(col_name) > upper_bound))\n",
    "\n",
    "    # Print only the column name, the count of outliers and the outlier range\n",
    "    print(f\"Column: {col_name}\")\n",
    "    print(f\"Outlier count: {outliers.count()}\")\n",
    "    print(f\"Outlier range: < {lower_bound} OR > {upper_bound}\\n\")\n"
   ]
  },
  {
   "cell_type": "code",
   "execution_count": 8,
   "id": "2b5b6464",
   "metadata": {},
   "outputs": [
    {
     "name": "stderr",
     "output_type": "stream",
     "text": [
      "                                                                                \r"
     ]
    },
    {
     "data": {
      "image/png": "[encoded data removed]",
      "text/plain": [
       "<Figure size 720x360 with 1 Axes>"
      ]
     },
     "metadata": {
      "needs_background": "light"
     },
     "output_type": "display_data"
    },
    {
     "data": {
      "image/png": "[encoded data removed]",
      "text/plain": [
       "<Figure size 720x360 with 1 Axes>"
      ]
     },
     "metadata": {
      "needs_background": "light"
     },
     "output_type": "display_data"
    },
    {
     "data": {
      "image/png": "[encoded data removed]",
      "text/plain": [
       "<Figure size 720x360 with 1 Axes>"
      ]
     },
     "metadata": {
      "needs_background": "light"
     },
     "output_type": "display_data"
    },
    {
     "data": {
      "image/png": "[encoded data removed]",
      "text/plain": [
       "<Figure size 720x360 with 1 Axes>"
      ]
     },
     "metadata": {
      "needs_background": "light"
     },
     "output_type": "display_data"
    },
    {
     "data": {
      "image/png": "[encoded data removed]",
      "text/plain": [
       "<Figure size 720x360 with 1 Axes>"
      ]
     },
     "metadata": {
      "needs_background": "light"
     },
     "output_type": "display_data"
    },
    {
     "data": {
      "image/png": "[encoded data removed]",
      "text/plain": [
       "<Figure size 720x360 with 1 Axes>"
      ]
     },
     "metadata": {
      "needs_background": "light"
     },
     "output_type": "display_data"
    },
    {
     "data": {
      "image/png": "[encoded data removed]",
      "text/plain": [
       "<Figure size 720x360 with 1 Axes>"
      ]
     },
     "metadata": {
      "needs_background": "light"
     },
     "output_type": "display_data"
    },
    {
     "data": {
      "image/png": "[encoded data removed]",
      "text/plain": [
       "<Figure size 720x360 with 1 Axes>"
      ]
     },
     "metadata": {
      "needs_background": "light"
     },
     "output_type": "display_data"
    },
    {
     "data": {
      "image/png": "[encoded data removed]",
      "text/plain": [
       "<Figure size 720x360 with 1 Axes>"
      ]
     },
     "metadata": {
      "needs_background": "light"
     },
     "output_type": "display_data"
    },
    {
     "data": {
      "image/png": "[encoded data removed]",
      "text/plain": [
       "<Figure size 720x360 with 1 Axes>"
      ]
     },
     "metadata": {
      "needs_background": "light"
     },
     "output_type": "display_data"
    },
    {
     "data": {
      "image/png": "[encoded data removed]",
      "text/plain": [
       "<Figure size 720x360 with 1 Axes>"
      ]
     },
     "metadata": {
      "needs_background": "light"
     },
     "output_type": "display_data"
    },
    {
     "data": {
      "image/png": "[encoded data removed]",
      "text/plain": [
       "<Figure size 720x360 with 1 Axes>"
      ]
     },
     "metadata": {
      "needs_background": "light"
     },
     "output_type": "display_data"
    }
   ],
   "source": [
    "import matplotlib.pyplot as plt\n",
    "import seaborn as sns\n",
    "\n",
    "# Convert your PySpark DataFrame to Pandas\n",
    "pandas_df = raw_df.toPandas()\n",
    "\n",
    "# Loop through every numeric column\n",
    "for col_name in numeric_columns:\n",
    "    plt.figure(figsize=(10, 5))  # Increase the size of the plot\n",
    "    sns.boxplot(x=pandas_df[col_name])  # Seaborn box plot\n",
    "    plt.title(f'Boxplot of {col_name}')  # Adding a title\n",
    "    plt.show()  # Display the plot\n"
   ]
  },
  {
   "cell_type": "code",
   "execution_count": 9,
   "id": "bc127c8c",
   "metadata": {},
   "outputs": [],
   "source": [
    "from pyspark.sql.functions import col\n",
    "\n",
    "# ลบแถวที่มีค่า 'timeOnSite' น้อยกว่า -877 หรือมากกว่า 1795\n",
    "cleaned_df = raw_df.filter((col(\"timeOnSite\") >= -877) & (col(\"timeOnSite\") <= 1795))\n"
   ]
  },
  {
   "cell_type": "code",
   "execution_count": 10,
   "id": "b6302164",
   "metadata": {},
   "outputs": [
    {
     "name": "stderr",
     "output_type": "stream",
     "text": [
      "                                                                                \r"
     ]
    },
    {
     "data": {
      "text/plain": [
       "779630"
      ]
     },
     "execution_count": 10,
     "metadata": {},
     "output_type": "execute_result"
    }
   ],
   "source": [
    "cleaned_df.count()"
   ]
  },
  {
   "cell_type": "code",
   "execution_count": 11,
   "id": "d3264698",
   "metadata": {},
   "outputs": [
    {
     "data": {
      "text/plain": [
       "917814"
      ]
     },
     "execution_count": 11,
     "metadata": {},
     "output_type": "execute_result"
    }
   ],
   "source": [
    "raw_df.count()"
   ]
  },
  {
   "cell_type": "code",
   "execution_count": 12,
   "id": "db4eadfe",
   "metadata": {},
   "outputs": [
    {
     "name": "stderr",
     "output_type": "stream",
     "text": [
      "[Stage 47:>                                                         (0 + 4) / 4]\r"
     ]
    },
    {
     "name": "stdout",
     "output_type": "stream",
     "text": [
      "+-------+------------------+\n",
      "|summary|        timeOnsite|\n",
      "+-------+------------------+\n",
      "|  count|            779630|\n",
      "|   mean|444.31880507420186|\n",
      "| stddev|429.85563114394535|\n",
      "|    min|                 1|\n",
      "|    max|              1794|\n",
      "+-------+------------------+\n",
      "\n"
     ]
    },
    {
     "name": "stderr",
     "output_type": "stream",
     "text": [
      "                                                                                \r"
     ]
    }
   ],
   "source": [
    "cleaned_df.select('timeOnsite').describe().show()"
   ]
  },
  {
   "cell_type": "code",
   "execution_count": null,
   "id": "c49dfd23",
   "metadata": {},
   "outputs": [],
   "source": []
  }
 ],
 "metadata": {
  "kernelspec": {
   "display_name": "Python 3 (ipykernel)",
   "language": "python",
   "name": "python3"
  },
  "language_info": {
   "codemirror_mode": {
    "name": "ipython",
    "version": 3
   },
   "file_extension": ".py",
   "mimetype": "text/x-python",
   "name": "python",
   "nbconvert_exporter": "python",
   "pygments_lexer": "ipython3",
   "version": "3.9.2"
  }
 },
 "nbformat": 4,
 "nbformat_minor": 5
}
