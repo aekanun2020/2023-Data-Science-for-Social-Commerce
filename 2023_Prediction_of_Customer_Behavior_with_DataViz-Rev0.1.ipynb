{
  "nbformat": 4,
  "nbformat_minor": 0,
  "metadata": {
    "kernelspec": {
      "display_name": "Python 3",
      "language": "python",
      "name": "python3"
    },
    "language_info": {
      "codemirror_mode": {
        "name": "ipython",
        "version": 3
      },
      "file_extension": ".py",
      "mimetype": "text/x-python",
      "name": "python",
      "nbconvert_exporter": "python",
      "pygments_lexer": "ipython3",
      "version": "3.6.1"
    },
    "colab": {
      "provenance": [],
      "collapsed_sections": [
        "hGSzhwXj3yeo",
        "lWRsq4oEOzoC"
      ],
      "include_colab_link": true
    }
  },
  "cells": [
    {
      "cell_type": "markdown",
      "metadata": {
        "id": "view-in-github",
        "colab_type": "text"
      },
      "source": [
        "<a href=\"https://colab.research.google.com/github/aekanun2020/2023-Data-Science-for-Social-Commerce/blob/main/2023_Prediction_of_Customer_Behavior_with_DataViz-Rev0.1.ipynb\" target=\"_parent\"><img src=\"https://colab.research.google.com/assets/colab-badge.svg\" alt=\"Open In Colab\"/></a>"
      ]
    },
    {
      "cell_type": "markdown",
      "source": [
        "# Setting up Spark Environment"
      ],
      "metadata": {
        "id": "SYq4wBqPMeUF"
      }
    },
    {
      "cell_type": "code",
      "source": [
        "# Install necessary packages\n",
        "!pip install pyspark==3.2.0\n",
        "\n",
        "# Import necessary libraries\n",
        "from pyspark.sql import SparkSession\n",
        "from pyspark.ml.feature import VectorAssembler, StringIndexer\n",
        "from pyspark.ml.regression import DecisionTreeRegressor\n",
        "from pyspark.ml import Pipeline\n",
        "from pyspark.ml.evaluation import RegressionEvaluator\n",
        "\n",
        "# Create SparkSession\n",
        "spark = SparkSession.builder.master(\"local[*]\").getOrCreate()"
      ],
      "metadata": {
        "colab": {
          "base_uri": "https://localhost:8080/"
        },
        "id": "JlXR8MhDQ1_a",
        "outputId": "bb5eeaa2-dcf2-4fa6-e283-5fd881835a54"
      },
      "execution_count": 1,
      "outputs": [
        {
          "output_type": "stream",
          "name": "stdout",
          "text": [
            "Looking in indexes: https://pypi.org/simple, https://us-python.pkg.dev/colab-wheels/public/simple/\n",
            "Collecting pyspark==3.2.0\n",
            "  Downloading pyspark-3.2.0.tar.gz (281.3 MB)\n",
            "\u001b[2K     \u001b[90m━━━━━━━━━━━━━━━━━━━━━━━━━━━━━━━━━━━━━━━\u001b[0m \u001b[32m281.3/281.3 MB\u001b[0m \u001b[31m1.8 MB/s\u001b[0m eta \u001b[36m0:00:00\u001b[0m\n",
            "\u001b[?25h  Preparing metadata (setup.py) ... \u001b[?25l\u001b[?25hdone\n",
            "Collecting py4j==0.10.9.2 (from pyspark==3.2.0)\n",
            "  Downloading py4j-0.10.9.2-py2.py3-none-any.whl (198 kB)\n",
            "\u001b[2K     \u001b[90m━━━━━━━━━━━━━━━━━━━━━━━━━━━━━━━━━━━━━━\u001b[0m \u001b[32m198.8/198.8 kB\u001b[0m \u001b[31m15.4 MB/s\u001b[0m eta \u001b[36m0:00:00\u001b[0m\n",
            "\u001b[?25hBuilding wheels for collected packages: pyspark\n",
            "  Building wheel for pyspark (setup.py) ... \u001b[?25l\u001b[?25hdone\n",
            "  Created wheel for pyspark: filename=pyspark-3.2.0-py2.py3-none-any.whl size=281805900 sha256=51a0c105868cdaa41631e918ce941c8876b8b46804154cf47ca3e6efc4c82ab5\n",
            "  Stored in directory: /root/.cache/pip/wheels/32/97/d3/8b6d964c8700e4fbb561c71638a92ec55dac9be51eb5fea86d\n",
            "Successfully built pyspark\n",
            "Installing collected packages: py4j, pyspark\n",
            "  Attempting uninstall: py4j\n",
            "    Found existing installation: py4j 0.10.9.7\n",
            "    Uninstalling py4j-0.10.9.7:\n",
            "      Successfully uninstalled py4j-0.10.9.7\n",
            "Successfully installed py4j-0.10.9.2 pyspark-3.2.0\n"
          ]
        }
      ]
    },
    {
      "cell_type": "markdown",
      "source": [
        "## Libraries and Modules Installation"
      ],
      "metadata": {
        "id": "7OpgrJBRMZ0_"
      }
    },
    {
      "cell_type": "code",
      "source": [
        "#Spark\n",
        "from pyspark.sql import functions as sparkf\n",
        "from pyspark.sql import Window as W\n",
        "from pyspark.sql.types import *\n",
        "from pyspark.ml.feature import StringIndexer, OneHotEncoder\n",
        "from pyspark.mllib.linalg import Vectors\n",
        "from pyspark.ml.feature import VectorAssembler\n",
        "from pyspark.ml import Pipeline\n",
        "from pyspark.ml.classification import RandomForestClassifier\n",
        "from pyspark.ml.tuning import CrossValidator, ParamGridBuilder\n",
        "from pyspark.ml.evaluation import BinaryClassificationEvaluator, MulticlassClassificationEvaluator\n",
        "\n",
        "#Python\n",
        "import matplotlib.pyplot as plt\n",
        "import pandas as pd\n",
        "import numpy as np\n",
        "import sys\n",
        "from functools import reduce"
      ],
      "metadata": {
        "id": "QeyucOzDM1hG"
      },
      "execution_count": 2,
      "outputs": []
    },
    {
      "cell_type": "markdown",
      "source": [
        "## Data Collection"
      ],
      "metadata": {
        "id": "dGE-VXFnlt7O"
      }
    },
    {
      "cell_type": "code",
      "metadata": {
        "collapsed": true,
        "id": "GsltUxZza2LE",
        "colab": {
          "base_uri": "https://localhost:8080/"
        },
        "outputId": "87098fe7-0b89-48bc-9be8-488bf67423f5"
      },
      "source": [
        "! wget https://storage.googleapis.com/22may2023/testfunnel.csv"
      ],
      "execution_count": 3,
      "outputs": [
        {
          "output_type": "stream",
          "name": "stdout",
          "text": [
            "--2023-05-20 10:35:42--  https://storage.googleapis.com/22may2023/testfunnel.csv\n",
            "Resolving storage.googleapis.com (storage.googleapis.com)... 173.194.216.128, 173.194.217.128, 173.194.215.128, ...\n",
            "Connecting to storage.googleapis.com (storage.googleapis.com)|173.194.216.128|:443... connected.\n",
            "HTTP request sent, awaiting response... 200 OK\n",
            "Length: 1501012 (1.4M) [text/csv]\n",
            "Saving to: ‘testfunnel.csv’\n",
            "\n",
            "\rtestfunnel.csv        0%[                    ]       0  --.-KB/s               \rtestfunnel.csv      100%[===================>]   1.43M  --.-KB/s    in 0.01s   \n",
            "\n",
            "2023-05-20 10:35:42 (123 MB/s) - ‘testfunnel.csv’ saved [1501012/1501012]\n",
            "\n"
          ]
        }
      ]
    },
    {
      "cell_type": "code",
      "metadata": {
        "id": "Fn4-dQJpaeTW",
        "colab": {
          "base_uri": "https://localhost:8080/"
        },
        "outputId": "0782af72-0d7f-4772-aaf4-2cfd16014522"
      },
      "source": [
        "! head -3 testfunnel.csv"
      ],
      "execution_count": 4,
      "outputs": [
        {
          "output_type": "stream",
          "name": "stdout",
          "text": [
            "source,isTrueDirect,sourceKeyword,medium,isVideoAd,fullVisitorId,visitId,date,newVisits,hitReferer,hitType,hitAction_type,hitNumber,hitHour,hitMin,timeMicroSec,v2ProductName,productListName,isClick,isImpression,sessionQualityDim,timeOnScreen,timeOnSite,totalTransactionRevenue\n",
            "google,true,(not provided),organic,,4988612949713423910,1489617360,20170315,,,PAGE,0,28,15,46,608771,Google Accent Insulated Stainless Steel Bottle,Category,,true,,,1897,\n",
            "google,true,(not provided),organic,,4988612949713423910,1489617360,20170315,,,PAGE,0,27,15,46,605064,Google Pocket Bluetooth Speaker,Category,,true,,,1897,\n"
          ]
        }
      ]
    },
    {
      "cell_type": "code",
      "source": [
        "! wc -l testfunnel.csv"
      ],
      "metadata": {
        "id": "ZPIGtjCqEFmS",
        "colab": {
          "base_uri": "https://localhost:8080/"
        },
        "outputId": "695b2a99-1196-461c-dc78-2925a7932b8e"
      },
      "execution_count": 5,
      "outputs": [
        {
          "output_type": "stream",
          "name": "stdout",
          "text": [
            "10000 testfunnel.csv\n"
          ]
        }
      ]
    },
    {
      "cell_type": "code",
      "metadata": {
        "id": "DRVIPIh503XR"
      },
      "source": [
        "raw_df = spark.read.option('header','true')\\\n",
        ".option(\"inferSchema\" , \"true\")\\\n",
        ".format('csv').load('./testfunnel.csv')"
      ],
      "execution_count": 6,
      "outputs": []
    },
    {
      "cell_type": "code",
      "source": [],
      "metadata": {
        "id": "qMxsQ3M_lp-p"
      },
      "execution_count": 6,
      "outputs": []
    },
    {
      "cell_type": "markdown",
      "metadata": {
        "id": "hGSzhwXj3yeo"
      },
      "source": [
        "# 1. Business Understanding"
      ]
    },
    {
      "cell_type": "markdown",
      "source": [
        "**ธุรกิจต้องการได้รับ Machine Learning Model ที่ทำให้ทราบล่วงหน้าว่า ลูกค้าที่กำลังเลือกดูสินค้าอยู่ จะซื้อหรือไม่ซื้อสินค้าหรือไม่ (Binary Classification)**"
      ],
      "metadata": {
        "id": "dDaZFOMCNNuP"
      }
    },
    {
      "cell_type": "code",
      "source": [
        "business_requiredCol_list = [x for x in raw_df.columns]"
      ],
      "metadata": {
        "id": "BO6KPVFqkV5l"
      },
      "execution_count": 7,
      "outputs": []
    },
    {
      "cell_type": "code",
      "source": [
        "customerBehaviorCol_list = [x for x in raw_df.columns \\\n",
        "         if ((x != 'sourceKeyword')&(x != 'fullVisitorId')&(x != 'isVideoAd')&(x != 'date')\\\n",
        "             &(x != 'isTrueDirect')&(x != 'hitHour')&(x != 'hitMin')&(x != 'isClick')\\\n",
        "             &(x != 'productListName')&(x != 'isImpression')&(x != 'sessionQualityDim')&(x != 'timeOnScreen')\\\n",
        "             &(x != 'hitReferer')&(x != 'medium')&(x != 'hitType'))]"
      ],
      "metadata": {
        "id": "pzf467KYc88w"
      },
      "execution_count": 8,
      "outputs": []
    },
    {
      "cell_type": "markdown",
      "metadata": {
        "id": "QcjImh624NjJ"
      },
      "source": [
        "# 2. Data Understanding"
      ]
    },
    {
      "cell_type": "markdown",
      "source": [
        "### Previewing Data"
      ],
      "metadata": {
        "id": "F9gMDPZFufhb"
      }
    },
    {
      "cell_type": "code",
      "metadata": {
        "id": "0p6sML4L34WI",
        "colab": {
          "base_uri": "https://localhost:8080/"
        },
        "outputId": "8608c4ac-9b44-479b-d345-f509cd53170f"
      },
      "source": [
        "raw_df.count()"
      ],
      "execution_count": 9,
      "outputs": [
        {
          "output_type": "execute_result",
          "data": {
            "text/plain": [
              "9999"
            ]
          },
          "metadata": {},
          "execution_count": 9
        }
      ]
    },
    {
      "cell_type": "code",
      "metadata": {
        "id": "mBjlU_WkckEg",
        "colab": {
          "base_uri": "https://localhost:8080/"
        },
        "outputId": "7205b042-e223-405d-8e66-1a984074815f"
      },
      "source": [
        "len(raw_df.columns)"
      ],
      "execution_count": 10,
      "outputs": [
        {
          "output_type": "execute_result",
          "data": {
            "text/plain": [
              "24"
            ]
          },
          "metadata": {},
          "execution_count": 10
        }
      ]
    },
    {
      "cell_type": "code",
      "metadata": {
        "id": "eoEDqDr809CE",
        "colab": {
          "base_uri": "https://localhost:8080/",
          "height": 918
        },
        "outputId": "5bbe76d9-07c1-4cb9-b804-7fa9982c5491"
      },
      "source": [
        "raw_df.sample(0.001).toPandas().transpose()"
      ],
      "execution_count": 11,
      "outputs": [
        {
          "output_type": "execute_result",
          "data": {
            "text/plain": [
              "                                                         0  \\\n",
              "source                                         youtube.com   \n",
              "isTrueDirect                                          None   \n",
              "sourceKeyword                                         None   \n",
              "medium                                            referral   \n",
              "isVideoAd                                             None   \n",
              "fullVisitorId                          4989425631710413740   \n",
              "visitId                                         1484473722   \n",
              "date                                              20170115   \n",
              "newVisits                                              1.0   \n",
              "hitReferer               https://www.youtube.com/yt/about/   \n",
              "hitType                                               PAGE   \n",
              "hitAction_type                                           0   \n",
              "hitNumber                                                1   \n",
              "hitHour                                                  1   \n",
              "hitMin                                                  48   \n",
              "timeMicroSec                                             0   \n",
              "v2ProductName                        YouTube Custom Decals   \n",
              "productListName                                   Category   \n",
              "isClick                                               None   \n",
              "isImpression                                          True   \n",
              "sessionQualityDim                                      NaN   \n",
              "timeOnScreen                                          None   \n",
              "timeOnSite                                             NaN   \n",
              "totalTransactionRevenue                                NaN   \n",
              "\n",
              "                                           1  \\\n",
              "source                              (direct)   \n",
              "isTrueDirect                            None   \n",
              "sourceKeyword                           None   \n",
              "medium                                (none)   \n",
              "isVideoAd                               None   \n",
              "fullVisitorId            4990198874063509353   \n",
              "visitId                           1477021389   \n",
              "date                                20161020   \n",
              "newVisits                                1.0   \n",
              "hitReferer                              None   \n",
              "hitType                                 PAGE   \n",
              "hitAction_type                             0   \n",
              "hitNumber                                 30   \n",
              "hitHour                                   20   \n",
              "hitMin                                    48   \n",
              "timeMicroSec                          326564   \n",
              "v2ProductName                Google Tote Bag   \n",
              "productListName                     Category   \n",
              "isClick                                 None   \n",
              "isImpression                            True   \n",
              "sessionQualityDim                        NaN   \n",
              "timeOnScreen                            None   \n",
              "timeOnSite                             875.0   \n",
              "totalTransactionRevenue           29980000.0   \n",
              "\n",
              "                                                                 2  \\\n",
              "source                                                    (direct)   \n",
              "isTrueDirect                                                  None   \n",
              "sourceKeyword                                                 None   \n",
              "medium                                                      (none)   \n",
              "isVideoAd                                                     None   \n",
              "fullVisitorId                                   499124294013106751   \n",
              "visitId                                                 1482346001   \n",
              "date                                                      20161221   \n",
              "newVisits                                                      1.0   \n",
              "hitReferer                                                    None   \n",
              "hitType                                                       PAGE   \n",
              "hitAction_type                                                   0   \n",
              "hitNumber                                                       14   \n",
              "hitHour                                                         10   \n",
              "hitMin                                                          48   \n",
              "timeMicroSec                                                 98383   \n",
              "v2ProductName            YouTube Men's Short Sleeve Hero Tee White   \n",
              "productListName                                           Category   \n",
              "isClick                                                       None   \n",
              "isImpression                                                  True   \n",
              "sessionQualityDim                                              NaN   \n",
              "timeOnScreen                                                  None   \n",
              "timeOnSite                                                   271.0   \n",
              "totalTransactionRevenue                                        NaN   \n",
              "\n",
              "                                                   3  \\\n",
              "source                                        google   \n",
              "isTrueDirect                                    None   \n",
              "sourceKeyword                         (not provided)   \n",
              "medium                                       organic   \n",
              "isVideoAd                                       None   \n",
              "fullVisitorId                    4991962803971844700   \n",
              "visitId                                   1475876346   \n",
              "date                                        20161007   \n",
              "newVisits                                        1.0   \n",
              "hitReferer                                      None   \n",
              "hitType                                         PAGE   \n",
              "hitAction_type                                     0   \n",
              "hitNumber                                          6   \n",
              "hitHour                                           14   \n",
              "hitMin                                            40   \n",
              "timeMicroSec                                  108278   \n",
              "v2ProductName            Google Laptop Tech Backpack   \n",
              "productListName                             Category   \n",
              "isClick                                         None   \n",
              "isImpression                                    True   \n",
              "sessionQualityDim                                NaN   \n",
              "timeOnScreen                                    None   \n",
              "timeOnSite                                     359.0   \n",
              "totalTransactionRevenue                          NaN   \n",
              "\n",
              "                                                            4  \\\n",
              "source                                               (direct)   \n",
              "isTrueDirect                                             True   \n",
              "sourceKeyword                                            None   \n",
              "medium                                                 (none)   \n",
              "isVideoAd                                                None   \n",
              "fullVisitorId                             4992408491484467549   \n",
              "visitId                                            1495435253   \n",
              "date                                                 20170521   \n",
              "newVisits                                                 1.0   \n",
              "hitReferer                                               None   \n",
              "hitType                                                  PAGE   \n",
              "hitAction_type                                              0   \n",
              "hitNumber                                                   3   \n",
              "hitHour                                                    23   \n",
              "hitMin                                                     42   \n",
              "timeMicroSec                                            91465   \n",
              "v2ProductName            Google Men's Vintage Badge Tee Black   \n",
              "productListName                                      Category   \n",
              "isClick                                                  None   \n",
              "isImpression                                             True   \n",
              "sessionQualityDim                                         NaN   \n",
              "timeOnScreen                                             None   \n",
              "timeOnSite                                              100.0   \n",
              "totalTransactionRevenue                                   NaN   \n",
              "\n",
              "                                                                   5  \\\n",
              "source                                                           dfa   \n",
              "isTrueDirect                                                    None   \n",
              "sourceKeyword                                                   None   \n",
              "medium                                                           cpm   \n",
              "isVideoAd                                                       None   \n",
              "fullVisitorId                                    4992819126088253676   \n",
              "visitId                                                   1476945917   \n",
              "date                                                        20161019   \n",
              "newVisits                                                        NaN   \n",
              "hitReferer                                                      None   \n",
              "hitType                                                         PAGE   \n",
              "hitAction_type                                                     0   \n",
              "hitNumber                                                         20   \n",
              "hitHour                                                           23   \n",
              "hitMin                                                            56   \n",
              "timeMicroSec                                                  666169   \n",
              "v2ProductName            Google Men's Watershed Full Zip Hoodie Grey   \n",
              "productListName                                             Category   \n",
              "isClick                                                         None   \n",
              "isImpression                                                    True   \n",
              "sessionQualityDim                                                NaN   \n",
              "timeOnScreen                                                    None   \n",
              "timeOnSite                                                     722.0   \n",
              "totalTransactionRevenue                                          NaN   \n",
              "\n",
              "                                                       6  \\\n",
              "source                                          (direct)   \n",
              "isTrueDirect                                        True   \n",
              "sourceKeyword                                       None   \n",
              "medium                                            (none)   \n",
              "isVideoAd                                           None   \n",
              "fullVisitorId                        4993852637585406336   \n",
              "visitId                                       1490377737   \n",
              "date                                            20170324   \n",
              "newVisits                                            NaN   \n",
              "hitReferer                                          None   \n",
              "hitType                                             PAGE   \n",
              "hitAction_type                                         0   \n",
              "hitNumber                                              6   \n",
              "hitHour                                               10   \n",
              "hitMin                                                51   \n",
              "timeMicroSec                                      136186   \n",
              "v2ProductName            YouTube Spiral Journal with Pen   \n",
              "productListName                                 Category   \n",
              "isClick                                             None   \n",
              "isImpression                                        True   \n",
              "sessionQualityDim                                    NaN   \n",
              "timeOnScreen                                        None   \n",
              "timeOnSite                                         136.0   \n",
              "totalTransactionRevenue                              NaN   \n",
              "\n",
              "                                                    7  \\\n",
              "source                                       (direct)   \n",
              "isTrueDirect                                     None   \n",
              "sourceKeyword                                    None   \n",
              "medium                                         (none)   \n",
              "isVideoAd                                        None   \n",
              "fullVisitorId                     4994497108711145043   \n",
              "visitId                                    1498086476   \n",
              "date                                         20170621   \n",
              "newVisits                                         1.0   \n",
              "hitReferer                                       None   \n",
              "hitType                                          PAGE   \n",
              "hitAction_type                                      0   \n",
              "hitNumber                                           5   \n",
              "hitHour                                            16   \n",
              "hitMin                                              9   \n",
              "timeMicroSec                                   113124   \n",
              "v2ProductName            Waze Mood Happy Window Decal   \n",
              "productListName                              Category   \n",
              "isClick                                          None   \n",
              "isImpression                                     True   \n",
              "sessionQualityDim                                 NaN   \n",
              "timeOnScreen                                     None   \n",
              "timeOnSite                                      137.0   \n",
              "totalTransactionRevenue                           NaN   \n",
              "\n",
              "                                                                   8  \\\n",
              "source                                                      (direct)   \n",
              "isTrueDirect                                                    None   \n",
              "sourceKeyword                                                   None   \n",
              "medium                                                        (none)   \n",
              "isVideoAd                                                       None   \n",
              "fullVisitorId                                    4995356988620593823   \n",
              "visitId                                                   1481560042   \n",
              "date                                                        20161212   \n",
              "newVisits                                                        1.0   \n",
              "hitReferer                                                      None   \n",
              "hitType                                                         PAGE   \n",
              "hitAction_type                                                     0   \n",
              "hitNumber                                                          6   \n",
              "hitHour                                                            8   \n",
              "hitMin                                                            29   \n",
              "timeMicroSec                                                  136818   \n",
              "v2ProductName            Google Men's Watershed Full Zip Hoodie Grey   \n",
              "productListName                                             Category   \n",
              "isClick                                                         None   \n",
              "isImpression                                                    True   \n",
              "sessionQualityDim                                                NaN   \n",
              "timeOnScreen                                                    None   \n",
              "timeOnSite                                                     182.0   \n",
              "totalTransactionRevenue                                          NaN   \n",
              "\n",
              "                                                        9  \n",
              "source                                           (direct)  \n",
              "isTrueDirect                                         True  \n",
              "sourceKeyword                                        None  \n",
              "medium                                             (none)  \n",
              "isVideoAd                                            None  \n",
              "fullVisitorId                         4995899860057743088  \n",
              "visitId                                        1474047117  \n",
              "date                                             20160916  \n",
              "newVisits                                             NaN  \n",
              "hitReferer                                           None  \n",
              "hitType                                              PAGE  \n",
              "hitAction_type                                          0  \n",
              "hitNumber                                              11  \n",
              "hitHour                                                10  \n",
              "hitMin                                                 35  \n",
              "timeMicroSec                                       191382  \n",
              "v2ProductName            Google Men's Skater Tee Charcoal  \n",
              "productListName                                  Category  \n",
              "isClick                                              None  \n",
              "isImpression                                         True  \n",
              "sessionQualityDim                                     NaN  \n",
              "timeOnScreen                                         None  \n",
              "timeOnSite                                          448.0  \n",
              "totalTransactionRevenue                        33990000.0  "
            ],
            "text/html": [
              "\n",
              "  <div id=\"df-50accdd2-8d77-4925-9abb-d2a6893c416b\">\n",
              "    <div class=\"colab-df-container\">\n",
              "      <div>\n",
              "<style scoped>\n",
              "    .dataframe tbody tr th:only-of-type {\n",
              "        vertical-align: middle;\n",
              "    }\n",
              "\n",
              "    .dataframe tbody tr th {\n",
              "        vertical-align: top;\n",
              "    }\n",
              "\n",
              "    .dataframe thead th {\n",
              "        text-align: right;\n",
              "    }\n",
              "</style>\n",
              "<table border=\"1\" class=\"dataframe\">\n",
              "  <thead>\n",
              "    <tr style=\"text-align: right;\">\n",
              "      <th></th>\n",
              "      <th>0</th>\n",
              "      <th>1</th>\n",
              "      <th>2</th>\n",
              "      <th>3</th>\n",
              "      <th>4</th>\n",
              "      <th>5</th>\n",
              "      <th>6</th>\n",
              "      <th>7</th>\n",
              "      <th>8</th>\n",
              "      <th>9</th>\n",
              "    </tr>\n",
              "  </thead>\n",
              "  <tbody>\n",
              "    <tr>\n",
              "      <th>source</th>\n",
              "      <td>youtube.com</td>\n",
              "      <td>(direct)</td>\n",
              "      <td>(direct)</td>\n",
              "      <td>google</td>\n",
              "      <td>(direct)</td>\n",
              "      <td>dfa</td>\n",
              "      <td>(direct)</td>\n",
              "      <td>(direct)</td>\n",
              "      <td>(direct)</td>\n",
              "      <td>(direct)</td>\n",
              "    </tr>\n",
              "    <tr>\n",
              "      <th>isTrueDirect</th>\n",
              "      <td>None</td>\n",
              "      <td>None</td>\n",
              "      <td>None</td>\n",
              "      <td>None</td>\n",
              "      <td>True</td>\n",
              "      <td>None</td>\n",
              "      <td>True</td>\n",
              "      <td>None</td>\n",
              "      <td>None</td>\n",
              "      <td>True</td>\n",
              "    </tr>\n",
              "    <tr>\n",
              "      <th>sourceKeyword</th>\n",
              "      <td>None</td>\n",
              "      <td>None</td>\n",
              "      <td>None</td>\n",
              "      <td>(not provided)</td>\n",
              "      <td>None</td>\n",
              "      <td>None</td>\n",
              "      <td>None</td>\n",
              "      <td>None</td>\n",
              "      <td>None</td>\n",
              "      <td>None</td>\n",
              "    </tr>\n",
              "    <tr>\n",
              "      <th>medium</th>\n",
              "      <td>referral</td>\n",
              "      <td>(none)</td>\n",
              "      <td>(none)</td>\n",
              "      <td>organic</td>\n",
              "      <td>(none)</td>\n",
              "      <td>cpm</td>\n",
              "      <td>(none)</td>\n",
              "      <td>(none)</td>\n",
              "      <td>(none)</td>\n",
              "      <td>(none)</td>\n",
              "    </tr>\n",
              "    <tr>\n",
              "      <th>isVideoAd</th>\n",
              "      <td>None</td>\n",
              "      <td>None</td>\n",
              "      <td>None</td>\n",
              "      <td>None</td>\n",
              "      <td>None</td>\n",
              "      <td>None</td>\n",
              "      <td>None</td>\n",
              "      <td>None</td>\n",
              "      <td>None</td>\n",
              "      <td>None</td>\n",
              "    </tr>\n",
              "    <tr>\n",
              "      <th>fullVisitorId</th>\n",
              "      <td>4989425631710413740</td>\n",
              "      <td>4990198874063509353</td>\n",
              "      <td>499124294013106751</td>\n",
              "      <td>4991962803971844700</td>\n",
              "      <td>4992408491484467549</td>\n",
              "      <td>4992819126088253676</td>\n",
              "      <td>4993852637585406336</td>\n",
              "      <td>4994497108711145043</td>\n",
              "      <td>4995356988620593823</td>\n",
              "      <td>4995899860057743088</td>\n",
              "    </tr>\n",
              "    <tr>\n",
              "      <th>visitId</th>\n",
              "      <td>1484473722</td>\n",
              "      <td>1477021389</td>\n",
              "      <td>1482346001</td>\n",
              "      <td>1475876346</td>\n",
              "      <td>1495435253</td>\n",
              "      <td>1476945917</td>\n",
              "      <td>1490377737</td>\n",
              "      <td>1498086476</td>\n",
              "      <td>1481560042</td>\n",
              "      <td>1474047117</td>\n",
              "    </tr>\n",
              "    <tr>\n",
              "      <th>date</th>\n",
              "      <td>20170115</td>\n",
              "      <td>20161020</td>\n",
              "      <td>20161221</td>\n",
              "      <td>20161007</td>\n",
              "      <td>20170521</td>\n",
              "      <td>20161019</td>\n",
              "      <td>20170324</td>\n",
              "      <td>20170621</td>\n",
              "      <td>20161212</td>\n",
              "      <td>20160916</td>\n",
              "    </tr>\n",
              "    <tr>\n",
              "      <th>newVisits</th>\n",
              "      <td>1.0</td>\n",
              "      <td>1.0</td>\n",
              "      <td>1.0</td>\n",
              "      <td>1.0</td>\n",
              "      <td>1.0</td>\n",
              "      <td>NaN</td>\n",
              "      <td>NaN</td>\n",
              "      <td>1.0</td>\n",
              "      <td>1.0</td>\n",
              "      <td>NaN</td>\n",
              "    </tr>\n",
              "    <tr>\n",
              "      <th>hitReferer</th>\n",
              "      <td>https://www.youtube.com/yt/about/</td>\n",
              "      <td>None</td>\n",
              "      <td>None</td>\n",
              "      <td>None</td>\n",
              "      <td>None</td>\n",
              "      <td>None</td>\n",
              "      <td>None</td>\n",
              "      <td>None</td>\n",
              "      <td>None</td>\n",
              "      <td>None</td>\n",
              "    </tr>\n",
              "    <tr>\n",
              "      <th>hitType</th>\n",
              "      <td>PAGE</td>\n",
              "      <td>PAGE</td>\n",
              "      <td>PAGE</td>\n",
              "      <td>PAGE</td>\n",
              "      <td>PAGE</td>\n",
              "      <td>PAGE</td>\n",
              "      <td>PAGE</td>\n",
              "      <td>PAGE</td>\n",
              "      <td>PAGE</td>\n",
              "      <td>PAGE</td>\n",
              "    </tr>\n",
              "    <tr>\n",
              "      <th>hitAction_type</th>\n",
              "      <td>0</td>\n",
              "      <td>0</td>\n",
              "      <td>0</td>\n",
              "      <td>0</td>\n",
              "      <td>0</td>\n",
              "      <td>0</td>\n",
              "      <td>0</td>\n",
              "      <td>0</td>\n",
              "      <td>0</td>\n",
              "      <td>0</td>\n",
              "    </tr>\n",
              "    <tr>\n",
              "      <th>hitNumber</th>\n",
              "      <td>1</td>\n",
              "      <td>30</td>\n",
              "      <td>14</td>\n",
              "      <td>6</td>\n",
              "      <td>3</td>\n",
              "      <td>20</td>\n",
              "      <td>6</td>\n",
              "      <td>5</td>\n",
              "      <td>6</td>\n",
              "      <td>11</td>\n",
              "    </tr>\n",
              "    <tr>\n",
              "      <th>hitHour</th>\n",
              "      <td>1</td>\n",
              "      <td>20</td>\n",
              "      <td>10</td>\n",
              "      <td>14</td>\n",
              "      <td>23</td>\n",
              "      <td>23</td>\n",
              "      <td>10</td>\n",
              "      <td>16</td>\n",
              "      <td>8</td>\n",
              "      <td>10</td>\n",
              "    </tr>\n",
              "    <tr>\n",
              "      <th>hitMin</th>\n",
              "      <td>48</td>\n",
              "      <td>48</td>\n",
              "      <td>48</td>\n",
              "      <td>40</td>\n",
              "      <td>42</td>\n",
              "      <td>56</td>\n",
              "      <td>51</td>\n",
              "      <td>9</td>\n",
              "      <td>29</td>\n",
              "      <td>35</td>\n",
              "    </tr>\n",
              "    <tr>\n",
              "      <th>timeMicroSec</th>\n",
              "      <td>0</td>\n",
              "      <td>326564</td>\n",
              "      <td>98383</td>\n",
              "      <td>108278</td>\n",
              "      <td>91465</td>\n",
              "      <td>666169</td>\n",
              "      <td>136186</td>\n",
              "      <td>113124</td>\n",
              "      <td>136818</td>\n",
              "      <td>191382</td>\n",
              "    </tr>\n",
              "    <tr>\n",
              "      <th>v2ProductName</th>\n",
              "      <td>YouTube Custom Decals</td>\n",
              "      <td>Google Tote Bag</td>\n",
              "      <td>YouTube Men's Short Sleeve Hero Tee White</td>\n",
              "      <td>Google Laptop Tech Backpack</td>\n",
              "      <td>Google Men's Vintage Badge Tee Black</td>\n",
              "      <td>Google Men's Watershed Full Zip Hoodie Grey</td>\n",
              "      <td>YouTube Spiral Journal with Pen</td>\n",
              "      <td>Waze Mood Happy Window Decal</td>\n",
              "      <td>Google Men's Watershed Full Zip Hoodie Grey</td>\n",
              "      <td>Google Men's Skater Tee Charcoal</td>\n",
              "    </tr>\n",
              "    <tr>\n",
              "      <th>productListName</th>\n",
              "      <td>Category</td>\n",
              "      <td>Category</td>\n",
              "      <td>Category</td>\n",
              "      <td>Category</td>\n",
              "      <td>Category</td>\n",
              "      <td>Category</td>\n",
              "      <td>Category</td>\n",
              "      <td>Category</td>\n",
              "      <td>Category</td>\n",
              "      <td>Category</td>\n",
              "    </tr>\n",
              "    <tr>\n",
              "      <th>isClick</th>\n",
              "      <td>None</td>\n",
              "      <td>None</td>\n",
              "      <td>None</td>\n",
              "      <td>None</td>\n",
              "      <td>None</td>\n",
              "      <td>None</td>\n",
              "      <td>None</td>\n",
              "      <td>None</td>\n",
              "      <td>None</td>\n",
              "      <td>None</td>\n",
              "    </tr>\n",
              "    <tr>\n",
              "      <th>isImpression</th>\n",
              "      <td>True</td>\n",
              "      <td>True</td>\n",
              "      <td>True</td>\n",
              "      <td>True</td>\n",
              "      <td>True</td>\n",
              "      <td>True</td>\n",
              "      <td>True</td>\n",
              "      <td>True</td>\n",
              "      <td>True</td>\n",
              "      <td>True</td>\n",
              "    </tr>\n",
              "    <tr>\n",
              "      <th>sessionQualityDim</th>\n",
              "      <td>NaN</td>\n",
              "      <td>NaN</td>\n",
              "      <td>NaN</td>\n",
              "      <td>NaN</td>\n",
              "      <td>NaN</td>\n",
              "      <td>NaN</td>\n",
              "      <td>NaN</td>\n",
              "      <td>NaN</td>\n",
              "      <td>NaN</td>\n",
              "      <td>NaN</td>\n",
              "    </tr>\n",
              "    <tr>\n",
              "      <th>timeOnScreen</th>\n",
              "      <td>None</td>\n",
              "      <td>None</td>\n",
              "      <td>None</td>\n",
              "      <td>None</td>\n",
              "      <td>None</td>\n",
              "      <td>None</td>\n",
              "      <td>None</td>\n",
              "      <td>None</td>\n",
              "      <td>None</td>\n",
              "      <td>None</td>\n",
              "    </tr>\n",
              "    <tr>\n",
              "      <th>timeOnSite</th>\n",
              "      <td>NaN</td>\n",
              "      <td>875.0</td>\n",
              "      <td>271.0</td>\n",
              "      <td>359.0</td>\n",
              "      <td>100.0</td>\n",
              "      <td>722.0</td>\n",
              "      <td>136.0</td>\n",
              "      <td>137.0</td>\n",
              "      <td>182.0</td>\n",
              "      <td>448.0</td>\n",
              "    </tr>\n",
              "    <tr>\n",
              "      <th>totalTransactionRevenue</th>\n",
              "      <td>NaN</td>\n",
              "      <td>29980000.0</td>\n",
              "      <td>NaN</td>\n",
              "      <td>NaN</td>\n",
              "      <td>NaN</td>\n",
              "      <td>NaN</td>\n",
              "      <td>NaN</td>\n",
              "      <td>NaN</td>\n",
              "      <td>NaN</td>\n",
              "      <td>33990000.0</td>\n",
              "    </tr>\n",
              "  </tbody>\n",
              "</table>\n",
              "</div>\n",
              "      <button class=\"colab-df-convert\" onclick=\"convertToInteractive('df-50accdd2-8d77-4925-9abb-d2a6893c416b')\"\n",
              "              title=\"Convert this dataframe to an interactive table.\"\n",
              "              style=\"display:none;\">\n",
              "        \n",
              "  <svg xmlns=\"http://www.w3.org/2000/svg\" height=\"24px\"viewBox=\"0 0 24 24\"\n",
              "       width=\"24px\">\n",
              "    <path d=\"M0 0h24v24H0V0z\" fill=\"none\"/>\n",
              "    <path d=\"M18.56 5.44l.94 2.06.94-2.06 2.06-.94-2.06-.94-.94-2.06-.94 2.06-2.06.94zm-11 1L8.5 8.5l.94-2.06 2.06-.94-2.06-.94L8.5 2.5l-.94 2.06-2.06.94zm10 10l.94 2.06.94-2.06 2.06-.94-2.06-.94-.94-2.06-.94 2.06-2.06.94z\"/><path d=\"M17.41 7.96l-1.37-1.37c-.4-.4-.92-.59-1.43-.59-.52 0-1.04.2-1.43.59L10.3 9.45l-7.72 7.72c-.78.78-.78 2.05 0 2.83L4 21.41c.39.39.9.59 1.41.59.51 0 1.02-.2 1.41-.59l7.78-7.78 2.81-2.81c.8-.78.8-2.07 0-2.86zM5.41 20L4 18.59l7.72-7.72 1.47 1.35L5.41 20z\"/>\n",
              "  </svg>\n",
              "      </button>\n",
              "      \n",
              "  <style>\n",
              "    .colab-df-container {\n",
              "      display:flex;\n",
              "      flex-wrap:wrap;\n",
              "      gap: 12px;\n",
              "    }\n",
              "\n",
              "    .colab-df-convert {\n",
              "      background-color: #E8F0FE;\n",
              "      border: none;\n",
              "      border-radius: 50%;\n",
              "      cursor: pointer;\n",
              "      display: none;\n",
              "      fill: #1967D2;\n",
              "      height: 32px;\n",
              "      padding: 0 0 0 0;\n",
              "      width: 32px;\n",
              "    }\n",
              "\n",
              "    .colab-df-convert:hover {\n",
              "      background-color: #E2EBFA;\n",
              "      box-shadow: 0px 1px 2px rgba(60, 64, 67, 0.3), 0px 1px 3px 1px rgba(60, 64, 67, 0.15);\n",
              "      fill: #174EA6;\n",
              "    }\n",
              "\n",
              "    [theme=dark] .colab-df-convert {\n",
              "      background-color: #3B4455;\n",
              "      fill: #D2E3FC;\n",
              "    }\n",
              "\n",
              "    [theme=dark] .colab-df-convert:hover {\n",
              "      background-color: #434B5C;\n",
              "      box-shadow: 0px 1px 3px 1px rgba(0, 0, 0, 0.15);\n",
              "      filter: drop-shadow(0px 1px 2px rgba(0, 0, 0, 0.3));\n",
              "      fill: #FFFFFF;\n",
              "    }\n",
              "  </style>\n",
              "\n",
              "      <script>\n",
              "        const buttonEl =\n",
              "          document.querySelector('#df-50accdd2-8d77-4925-9abb-d2a6893c416b button.colab-df-convert');\n",
              "        buttonEl.style.display =\n",
              "          google.colab.kernel.accessAllowed ? 'block' : 'none';\n",
              "\n",
              "        async function convertToInteractive(key) {\n",
              "          const element = document.querySelector('#df-50accdd2-8d77-4925-9abb-d2a6893c416b');\n",
              "          const dataTable =\n",
              "            await google.colab.kernel.invokeFunction('convertToInteractive',\n",
              "                                                     [key], {});\n",
              "          if (!dataTable) return;\n",
              "\n",
              "          const docLinkHtml = 'Like what you see? Visit the ' +\n",
              "            '<a target=\"_blank\" href=https://colab.research.google.com/notebooks/data_table.ipynb>data table notebook</a>'\n",
              "            + ' to learn more about interactive tables.';\n",
              "          element.innerHTML = '';\n",
              "          dataTable['output_type'] = 'display_data';\n",
              "          await google.colab.output.renderOutput(dataTable, element);\n",
              "          const docLink = document.createElement('div');\n",
              "          docLink.innerHTML = docLinkHtml;\n",
              "          element.appendChild(docLink);\n",
              "        }\n",
              "      </script>\n",
              "    </div>\n",
              "  </div>\n",
              "  "
            ]
          },
          "metadata": {},
          "execution_count": 11
        }
      ]
    },
    {
      "cell_type": "code",
      "metadata": {
        "id": "eH8yD5VU4X2_",
        "colab": {
          "base_uri": "https://localhost:8080/"
        },
        "outputId": "948bd3a1-0e49-46ec-b7de-ac1ce6bf7439"
      },
      "source": [
        "raw_df.printSchema()"
      ],
      "execution_count": 12,
      "outputs": [
        {
          "output_type": "stream",
          "name": "stdout",
          "text": [
            "root\n",
            " |-- source: string (nullable = true)\n",
            " |-- isTrueDirect: boolean (nullable = true)\n",
            " |-- sourceKeyword: string (nullable = true)\n",
            " |-- medium: string (nullable = true)\n",
            " |-- isVideoAd: boolean (nullable = true)\n",
            " |-- fullVisitorId: long (nullable = true)\n",
            " |-- visitId: integer (nullable = true)\n",
            " |-- date: integer (nullable = true)\n",
            " |-- newVisits: integer (nullable = true)\n",
            " |-- hitReferer: string (nullable = true)\n",
            " |-- hitType: string (nullable = true)\n",
            " |-- hitAction_type: integer (nullable = true)\n",
            " |-- hitNumber: integer (nullable = true)\n",
            " |-- hitHour: integer (nullable = true)\n",
            " |-- hitMin: integer (nullable = true)\n",
            " |-- timeMicroSec: integer (nullable = true)\n",
            " |-- v2ProductName: string (nullable = true)\n",
            " |-- productListName: string (nullable = true)\n",
            " |-- isClick: boolean (nullable = true)\n",
            " |-- isImpression: boolean (nullable = true)\n",
            " |-- sessionQualityDim: integer (nullable = true)\n",
            " |-- timeOnScreen: string (nullable = true)\n",
            " |-- timeOnSite: integer (nullable = true)\n",
            " |-- totalTransactionRevenue: integer (nullable = true)\n",
            "\n"
          ]
        }
      ]
    },
    {
      "cell_type": "markdown",
      "source": [
        "### Exploratory Data Analysis - Univariate Analysis\n",
        "\n"
      ],
      "metadata": {
        "id": "aYgYTdPgPcai"
      }
    },
    {
      "cell_type": "code",
      "metadata": {
        "id": "OITcXS_l4S9n",
        "colab": {
          "base_uri": "https://localhost:8080/",
          "height": 708
        },
        "outputId": "cacda32b-6dc5-45af-96d0-77442a422de9"
      },
      "source": [
        "raw_df.describe().toPandas().transpose()"
      ],
      "execution_count": 13,
      "outputs": [
        {
          "output_type": "execute_result",
          "data": {
            "text/plain": [
              "                             0                      1                       2  \\\n",
              "summary                  count                   mean                  stddev   \n",
              "source                    9999                   None                    None   \n",
              "sourceKeyword             4042                   None                    None   \n",
              "medium                    9999                   None                    None   \n",
              "fullVisitorId             9999  4.5067648825526333E18  1.39995873491150899E18   \n",
              "visitId                   9999   1.4850613864552455E9       9020666.664979974   \n",
              "date                      9999    2.016601000310031E7       4694.944823979139   \n",
              "newVisits                 7269                    1.0                     0.0   \n",
              "hitReferer                1333                   None                    None   \n",
              "hitType                   9999                   None                    None   \n",
              "hitAction_type            9999    0.13831383138313832      0.6864877640641197   \n",
              "hitNumber                 9999      8.662666266626662       9.871484517186275   \n",
              "hitHour                   9999     12.168916891689168       5.910241630273632   \n",
              "hitMin                    9999      31.84038403840384      16.330427485675383   \n",
              "timeMicroSec              9999     213867.12121212122      369723.31608154083   \n",
              "v2ProductName             9999                   None                    None   \n",
              "productListName           9999                   None                    None   \n",
              "sessionQualityDim          698     12.074498567335244       24.99957319792061   \n",
              "timeOnScreen                 0                   None                    None   \n",
              "timeOnSite                8958       539.221478008484       689.0300130553856   \n",
              "totalTransactionRevenue    707    4.211295615275814E7    2.4358685560020592E7   \n",
              "\n",
              "                                                                         3  \\\n",
              "summary                                                                min   \n",
              "source                                                            (direct)   \n",
              "sourceKeyword                                               (not provided)   \n",
              "medium                                                              (none)   \n",
              "fullVisitorId                                            49898505875812980   \n",
              "visitId                                                         1470106850   \n",
              "date                                                              20160801   \n",
              "newVisits                                                                1   \n",
              "hitReferer               http://images.google.co.in/imgres?imgurl=https...   \n",
              "hitType                                                              EVENT   \n",
              "hitAction_type                                                           0   \n",
              "hitNumber                                                                1   \n",
              "hitHour                                                                  0   \n",
              "hitMin                                                                   0   \n",
              "timeMicroSec                                                             0   \n",
              "v2ProductName                                          1 oz Hand Sanitizer   \n",
              "productListName                                                  (not set)   \n",
              "sessionQualityDim                                                        1   \n",
              "timeOnScreen                                                          None   \n",
              "timeOnSite                                                               3   \n",
              "totalTransactionRevenue                                           20580000   \n",
              "\n",
              "                                                               4  \n",
              "summary                                                      max  \n",
              "source                                               youtube.com  \n",
              "sourceKeyword                                      youtube merch  \n",
              "medium                                                  referral  \n",
              "fullVisitorId                                4995924842281653133  \n",
              "visitId                                               1501649190  \n",
              "date                                                    20170801  \n",
              "newVisits                                                      1  \n",
              "hitReferer               https://www.youtube.com/yt/about/press/  \n",
              "hitType                                                     PAGE  \n",
              "hitAction_type                                                 6  \n",
              "hitNumber                                                     56  \n",
              "hitHour                                                       23  \n",
              "hitMin                                                        59  \n",
              "timeMicroSec                                             3513993  \n",
              "v2ProductName                 YouTube Youth Short Sleeve Tee Red  \n",
              "productListName                                   Search Results  \n",
              "sessionQualityDim                                             79  \n",
              "timeOnScreen                                                None  \n",
              "timeOnSite                                                  3514  \n",
              "totalTransactionRevenue                                128970000  "
            ],
            "text/html": [
              "\n",
              "  <div id=\"df-1431b483-facc-4cdc-9c1d-d5815fefe0e6\">\n",
              "    <div class=\"colab-df-container\">\n",
              "      <div>\n",
              "<style scoped>\n",
              "    .dataframe tbody tr th:only-of-type {\n",
              "        vertical-align: middle;\n",
              "    }\n",
              "\n",
              "    .dataframe tbody tr th {\n",
              "        vertical-align: top;\n",
              "    }\n",
              "\n",
              "    .dataframe thead th {\n",
              "        text-align: right;\n",
              "    }\n",
              "</style>\n",
              "<table border=\"1\" class=\"dataframe\">\n",
              "  <thead>\n",
              "    <tr style=\"text-align: right;\">\n",
              "      <th></th>\n",
              "      <th>0</th>\n",
              "      <th>1</th>\n",
              "      <th>2</th>\n",
              "      <th>3</th>\n",
              "      <th>4</th>\n",
              "    </tr>\n",
              "  </thead>\n",
              "  <tbody>\n",
              "    <tr>\n",
              "      <th>summary</th>\n",
              "      <td>count</td>\n",
              "      <td>mean</td>\n",
              "      <td>stddev</td>\n",
              "      <td>min</td>\n",
              "      <td>max</td>\n",
              "    </tr>\n",
              "    <tr>\n",
              "      <th>source</th>\n",
              "      <td>9999</td>\n",
              "      <td>None</td>\n",
              "      <td>None</td>\n",
              "      <td>(direct)</td>\n",
              "      <td>youtube.com</td>\n",
              "    </tr>\n",
              "    <tr>\n",
              "      <th>sourceKeyword</th>\n",
              "      <td>4042</td>\n",
              "      <td>None</td>\n",
              "      <td>None</td>\n",
              "      <td>(not provided)</td>\n",
              "      <td>youtube merch</td>\n",
              "    </tr>\n",
              "    <tr>\n",
              "      <th>medium</th>\n",
              "      <td>9999</td>\n",
              "      <td>None</td>\n",
              "      <td>None</td>\n",
              "      <td>(none)</td>\n",
              "      <td>referral</td>\n",
              "    </tr>\n",
              "    <tr>\n",
              "      <th>fullVisitorId</th>\n",
              "      <td>9999</td>\n",
              "      <td>4.5067648825526333E18</td>\n",
              "      <td>1.39995873491150899E18</td>\n",
              "      <td>49898505875812980</td>\n",
              "      <td>4995924842281653133</td>\n",
              "    </tr>\n",
              "    <tr>\n",
              "      <th>visitId</th>\n",
              "      <td>9999</td>\n",
              "      <td>1.4850613864552455E9</td>\n",
              "      <td>9020666.664979974</td>\n",
              "      <td>1470106850</td>\n",
              "      <td>1501649190</td>\n",
              "    </tr>\n",
              "    <tr>\n",
              "      <th>date</th>\n",
              "      <td>9999</td>\n",
              "      <td>2.016601000310031E7</td>\n",
              "      <td>4694.944823979139</td>\n",
              "      <td>20160801</td>\n",
              "      <td>20170801</td>\n",
              "    </tr>\n",
              "    <tr>\n",
              "      <th>newVisits</th>\n",
              "      <td>7269</td>\n",
              "      <td>1.0</td>\n",
              "      <td>0.0</td>\n",
              "      <td>1</td>\n",
              "      <td>1</td>\n",
              "    </tr>\n",
              "    <tr>\n",
              "      <th>hitReferer</th>\n",
              "      <td>1333</td>\n",
              "      <td>None</td>\n",
              "      <td>None</td>\n",
              "      <td>http://images.google.co.in/imgres?imgurl=https...</td>\n",
              "      <td>https://www.youtube.com/yt/about/press/</td>\n",
              "    </tr>\n",
              "    <tr>\n",
              "      <th>hitType</th>\n",
              "      <td>9999</td>\n",
              "      <td>None</td>\n",
              "      <td>None</td>\n",
              "      <td>EVENT</td>\n",
              "      <td>PAGE</td>\n",
              "    </tr>\n",
              "    <tr>\n",
              "      <th>hitAction_type</th>\n",
              "      <td>9999</td>\n",
              "      <td>0.13831383138313832</td>\n",
              "      <td>0.6864877640641197</td>\n",
              "      <td>0</td>\n",
              "      <td>6</td>\n",
              "    </tr>\n",
              "    <tr>\n",
              "      <th>hitNumber</th>\n",
              "      <td>9999</td>\n",
              "      <td>8.662666266626662</td>\n",
              "      <td>9.871484517186275</td>\n",
              "      <td>1</td>\n",
              "      <td>56</td>\n",
              "    </tr>\n",
              "    <tr>\n",
              "      <th>hitHour</th>\n",
              "      <td>9999</td>\n",
              "      <td>12.168916891689168</td>\n",
              "      <td>5.910241630273632</td>\n",
              "      <td>0</td>\n",
              "      <td>23</td>\n",
              "    </tr>\n",
              "    <tr>\n",
              "      <th>hitMin</th>\n",
              "      <td>9999</td>\n",
              "      <td>31.84038403840384</td>\n",
              "      <td>16.330427485675383</td>\n",
              "      <td>0</td>\n",
              "      <td>59</td>\n",
              "    </tr>\n",
              "    <tr>\n",
              "      <th>timeMicroSec</th>\n",
              "      <td>9999</td>\n",
              "      <td>213867.12121212122</td>\n",
              "      <td>369723.31608154083</td>\n",
              "      <td>0</td>\n",
              "      <td>3513993</td>\n",
              "    </tr>\n",
              "    <tr>\n",
              "      <th>v2ProductName</th>\n",
              "      <td>9999</td>\n",
              "      <td>None</td>\n",
              "      <td>None</td>\n",
              "      <td>1 oz Hand Sanitizer</td>\n",
              "      <td>YouTube Youth Short Sleeve Tee Red</td>\n",
              "    </tr>\n",
              "    <tr>\n",
              "      <th>productListName</th>\n",
              "      <td>9999</td>\n",
              "      <td>None</td>\n",
              "      <td>None</td>\n",
              "      <td>(not set)</td>\n",
              "      <td>Search Results</td>\n",
              "    </tr>\n",
              "    <tr>\n",
              "      <th>sessionQualityDim</th>\n",
              "      <td>698</td>\n",
              "      <td>12.074498567335244</td>\n",
              "      <td>24.99957319792061</td>\n",
              "      <td>1</td>\n",
              "      <td>79</td>\n",
              "    </tr>\n",
              "    <tr>\n",
              "      <th>timeOnScreen</th>\n",
              "      <td>0</td>\n",
              "      <td>None</td>\n",
              "      <td>None</td>\n",
              "      <td>None</td>\n",
              "      <td>None</td>\n",
              "    </tr>\n",
              "    <tr>\n",
              "      <th>timeOnSite</th>\n",
              "      <td>8958</td>\n",
              "      <td>539.221478008484</td>\n",
              "      <td>689.0300130553856</td>\n",
              "      <td>3</td>\n",
              "      <td>3514</td>\n",
              "    </tr>\n",
              "    <tr>\n",
              "      <th>totalTransactionRevenue</th>\n",
              "      <td>707</td>\n",
              "      <td>4.211295615275814E7</td>\n",
              "      <td>2.4358685560020592E7</td>\n",
              "      <td>20580000</td>\n",
              "      <td>128970000</td>\n",
              "    </tr>\n",
              "  </tbody>\n",
              "</table>\n",
              "</div>\n",
              "      <button class=\"colab-df-convert\" onclick=\"convertToInteractive('df-1431b483-facc-4cdc-9c1d-d5815fefe0e6')\"\n",
              "              title=\"Convert this dataframe to an interactive table.\"\n",
              "              style=\"display:none;\">\n",
              "        \n",
              "  <svg xmlns=\"http://www.w3.org/2000/svg\" height=\"24px\"viewBox=\"0 0 24 24\"\n",
              "       width=\"24px\">\n",
              "    <path d=\"M0 0h24v24H0V0z\" fill=\"none\"/>\n",
              "    <path d=\"M18.56 5.44l.94 2.06.94-2.06 2.06-.94-2.06-.94-.94-2.06-.94 2.06-2.06.94zm-11 1L8.5 8.5l.94-2.06 2.06-.94-2.06-.94L8.5 2.5l-.94 2.06-2.06.94zm10 10l.94 2.06.94-2.06 2.06-.94-2.06-.94-.94-2.06-.94 2.06-2.06.94z\"/><path d=\"M17.41 7.96l-1.37-1.37c-.4-.4-.92-.59-1.43-.59-.52 0-1.04.2-1.43.59L10.3 9.45l-7.72 7.72c-.78.78-.78 2.05 0 2.83L4 21.41c.39.39.9.59 1.41.59.51 0 1.02-.2 1.41-.59l7.78-7.78 2.81-2.81c.8-.78.8-2.07 0-2.86zM5.41 20L4 18.59l7.72-7.72 1.47 1.35L5.41 20z\"/>\n",
              "  </svg>\n",
              "      </button>\n",
              "      \n",
              "  <style>\n",
              "    .colab-df-container {\n",
              "      display:flex;\n",
              "      flex-wrap:wrap;\n",
              "      gap: 12px;\n",
              "    }\n",
              "\n",
              "    .colab-df-convert {\n",
              "      background-color: #E8F0FE;\n",
              "      border: none;\n",
              "      border-radius: 50%;\n",
              "      cursor: pointer;\n",
              "      display: none;\n",
              "      fill: #1967D2;\n",
              "      height: 32px;\n",
              "      padding: 0 0 0 0;\n",
              "      width: 32px;\n",
              "    }\n",
              "\n",
              "    .colab-df-convert:hover {\n",
              "      background-color: #E2EBFA;\n",
              "      box-shadow: 0px 1px 2px rgba(60, 64, 67, 0.3), 0px 1px 3px 1px rgba(60, 64, 67, 0.15);\n",
              "      fill: #174EA6;\n",
              "    }\n",
              "\n",
              "    [theme=dark] .colab-df-convert {\n",
              "      background-color: #3B4455;\n",
              "      fill: #D2E3FC;\n",
              "    }\n",
              "\n",
              "    [theme=dark] .colab-df-convert:hover {\n",
              "      background-color: #434B5C;\n",
              "      box-shadow: 0px 1px 3px 1px rgba(0, 0, 0, 0.15);\n",
              "      filter: drop-shadow(0px 1px 2px rgba(0, 0, 0, 0.3));\n",
              "      fill: #FFFFFF;\n",
              "    }\n",
              "  </style>\n",
              "\n",
              "      <script>\n",
              "        const buttonEl =\n",
              "          document.querySelector('#df-1431b483-facc-4cdc-9c1d-d5815fefe0e6 button.colab-df-convert');\n",
              "        buttonEl.style.display =\n",
              "          google.colab.kernel.accessAllowed ? 'block' : 'none';\n",
              "\n",
              "        async function convertToInteractive(key) {\n",
              "          const element = document.querySelector('#df-1431b483-facc-4cdc-9c1d-d5815fefe0e6');\n",
              "          const dataTable =\n",
              "            await google.colab.kernel.invokeFunction('convertToInteractive',\n",
              "                                                     [key], {});\n",
              "          if (!dataTable) return;\n",
              "\n",
              "          const docLinkHtml = 'Like what you see? Visit the ' +\n",
              "            '<a target=\"_blank\" href=https://colab.research.google.com/notebooks/data_table.ipynb>data table notebook</a>'\n",
              "            + ' to learn more about interactive tables.';\n",
              "          element.innerHTML = '';\n",
              "          dataTable['output_type'] = 'display_data';\n",
              "          await google.colab.output.renderOutput(dataTable, element);\n",
              "          const docLink = document.createElement('div');\n",
              "          docLink.innerHTML = docLinkHtml;\n",
              "          element.appendChild(docLink);\n",
              "        }\n",
              "      </script>\n",
              "    </div>\n",
              "  </div>\n",
              "  "
            ]
          },
          "metadata": {},
          "execution_count": 13
        }
      ]
    },
    {
      "cell_type": "code",
      "source": [
        "from pyspark.sql.types import IntegerType, FloatType\n",
        "\n",
        "numeric_columns = []\n",
        "non_numeric_columns = []\n",
        "\n",
        "for col_name in raw_df.columns:\n",
        "    # Check if the column type is numeric\n",
        "    if isinstance(raw_df.schema[col_name].dataType, IntegerType) or isinstance(raw_df.schema[col_name].dataType, FloatType):\n",
        "        numeric_columns.append(col_name)\n",
        "    else:\n",
        "        non_numeric_columns.append(col_name)\n",
        "\n",
        "print(f\"Numeric columns: {numeric_columns}\")\n",
        "print(f\"Non-numeric columns: {non_numeric_columns}\")\n"
      ],
      "metadata": {
        "colab": {
          "base_uri": "https://localhost:8080/"
        },
        "id": "N1lRvEZVXS6I",
        "outputId": "ee709a0b-8f50-4bcd-dca0-1f52070d7dec"
      },
      "execution_count": 14,
      "outputs": [
        {
          "output_type": "stream",
          "name": "stdout",
          "text": [
            "Numeric columns: ['visitId', 'date', 'newVisits', 'hitAction_type', 'hitNumber', 'hitHour', 'hitMin', 'timeMicroSec', 'sessionQualityDim', 'timeOnSite', 'totalTransactionRevenue']\n",
            "Non-numeric columns: ['source', 'isTrueDirect', 'sourceKeyword', 'medium', 'isVideoAd', 'fullVisitorId', 'hitReferer', 'hitType', 'v2ProductName', 'productListName', 'isClick', 'isImpression', 'timeOnScreen']\n"
          ]
        }
      ]
    },
    {
      "cell_type": "code",
      "source": [
        "numeric_columns"
      ],
      "metadata": {
        "colab": {
          "base_uri": "https://localhost:8080/"
        },
        "id": "FBN4Umn0ddll",
        "outputId": "2d39598f-2984-414e-8622-a9738e262319"
      },
      "execution_count": 15,
      "outputs": [
        {
          "output_type": "execute_result",
          "data": {
            "text/plain": [
              "['visitId',\n",
              " 'date',\n",
              " 'newVisits',\n",
              " 'hitAction_type',\n",
              " 'hitNumber',\n",
              " 'hitHour',\n",
              " 'hitMin',\n",
              " 'timeMicroSec',\n",
              " 'sessionQualityDim',\n",
              " 'timeOnSite',\n",
              " 'totalTransactionRevenue']"
            ]
          },
          "metadata": {},
          "execution_count": 15
        }
      ]
    },
    {
      "cell_type": "code",
      "source": [
        "non_numeric_columns"
      ],
      "metadata": {
        "colab": {
          "base_uri": "https://localhost:8080/"
        },
        "id": "1sjoch0EddiO",
        "outputId": "7ba1aae0-afef-4805-b635-6c897d24ce95"
      },
      "execution_count": 16,
      "outputs": [
        {
          "output_type": "execute_result",
          "data": {
            "text/plain": [
              "['source',\n",
              " 'isTrueDirect',\n",
              " 'sourceKeyword',\n",
              " 'medium',\n",
              " 'isVideoAd',\n",
              " 'fullVisitorId',\n",
              " 'hitReferer',\n",
              " 'hitType',\n",
              " 'v2ProductName',\n",
              " 'productListName',\n",
              " 'isClick',\n",
              " 'isImpression',\n",
              " 'timeOnScreen']"
            ]
          },
          "metadata": {},
          "execution_count": 16
        }
      ]
    },
    {
      "cell_type": "code",
      "source": [
        "from pyspark.sql.functions import count, when, isnan, col\n",
        "# Check for null values\n",
        "raw_df.select(numeric_columns).select([count(when(isnan(c) | col(c).isNull(), c)).alias(c) \\\n",
        "                                       for c in raw_df.select(numeric_columns).columns]).toPandas().transpose()"
      ],
      "metadata": {
        "colab": {
          "base_uri": "https://localhost:8080/",
          "height": 394
        },
        "id": "Gw9w5uaZdl5G",
        "outputId": "1b9db4ab-6ace-4c97-a4ba-1a01b2256aff"
      },
      "execution_count": 17,
      "outputs": [
        {
          "output_type": "execute_result",
          "data": {
            "text/plain": [
              "                            0\n",
              "visitId                     0\n",
              "date                        0\n",
              "newVisits                2730\n",
              "hitAction_type              0\n",
              "hitNumber                   0\n",
              "hitHour                     0\n",
              "hitMin                      0\n",
              "timeMicroSec                0\n",
              "sessionQualityDim        9301\n",
              "timeOnSite               1041\n",
              "totalTransactionRevenue  9292"
            ],
            "text/html": [
              "\n",
              "  <div id=\"df-7b456f63-3f20-45f4-9d06-8d71ead9da13\">\n",
              "    <div class=\"colab-df-container\">\n",
              "      <div>\n",
              "<style scoped>\n",
              "    .dataframe tbody tr th:only-of-type {\n",
              "        vertical-align: middle;\n",
              "    }\n",
              "\n",
              "    .dataframe tbody tr th {\n",
              "        vertical-align: top;\n",
              "    }\n",
              "\n",
              "    .dataframe thead th {\n",
              "        text-align: right;\n",
              "    }\n",
              "</style>\n",
              "<table border=\"1\" class=\"dataframe\">\n",
              "  <thead>\n",
              "    <tr style=\"text-align: right;\">\n",
              "      <th></th>\n",
              "      <th>0</th>\n",
              "    </tr>\n",
              "  </thead>\n",
              "  <tbody>\n",
              "    <tr>\n",
              "      <th>visitId</th>\n",
              "      <td>0</td>\n",
              "    </tr>\n",
              "    <tr>\n",
              "      <th>date</th>\n",
              "      <td>0</td>\n",
              "    </tr>\n",
              "    <tr>\n",
              "      <th>newVisits</th>\n",
              "      <td>2730</td>\n",
              "    </tr>\n",
              "    <tr>\n",
              "      <th>hitAction_type</th>\n",
              "      <td>0</td>\n",
              "    </tr>\n",
              "    <tr>\n",
              "      <th>hitNumber</th>\n",
              "      <td>0</td>\n",
              "    </tr>\n",
              "    <tr>\n",
              "      <th>hitHour</th>\n",
              "      <td>0</td>\n",
              "    </tr>\n",
              "    <tr>\n",
              "      <th>hitMin</th>\n",
              "      <td>0</td>\n",
              "    </tr>\n",
              "    <tr>\n",
              "      <th>timeMicroSec</th>\n",
              "      <td>0</td>\n",
              "    </tr>\n",
              "    <tr>\n",
              "      <th>sessionQualityDim</th>\n",
              "      <td>9301</td>\n",
              "    </tr>\n",
              "    <tr>\n",
              "      <th>timeOnSite</th>\n",
              "      <td>1041</td>\n",
              "    </tr>\n",
              "    <tr>\n",
              "      <th>totalTransactionRevenue</th>\n",
              "      <td>9292</td>\n",
              "    </tr>\n",
              "  </tbody>\n",
              "</table>\n",
              "</div>\n",
              "      <button class=\"colab-df-convert\" onclick=\"convertToInteractive('df-7b456f63-3f20-45f4-9d06-8d71ead9da13')\"\n",
              "              title=\"Convert this dataframe to an interactive table.\"\n",
              "              style=\"display:none;\">\n",
              "        \n",
              "  <svg xmlns=\"http://www.w3.org/2000/svg\" height=\"24px\"viewBox=\"0 0 24 24\"\n",
              "       width=\"24px\">\n",
              "    <path d=\"M0 0h24v24H0V0z\" fill=\"none\"/>\n",
              "    <path d=\"M18.56 5.44l.94 2.06.94-2.06 2.06-.94-2.06-.94-.94-2.06-.94 2.06-2.06.94zm-11 1L8.5 8.5l.94-2.06 2.06-.94-2.06-.94L8.5 2.5l-.94 2.06-2.06.94zm10 10l.94 2.06.94-2.06 2.06-.94-2.06-.94-.94-2.06-.94 2.06-2.06.94z\"/><path d=\"M17.41 7.96l-1.37-1.37c-.4-.4-.92-.59-1.43-.59-.52 0-1.04.2-1.43.59L10.3 9.45l-7.72 7.72c-.78.78-.78 2.05 0 2.83L4 21.41c.39.39.9.59 1.41.59.51 0 1.02-.2 1.41-.59l7.78-7.78 2.81-2.81c.8-.78.8-2.07 0-2.86zM5.41 20L4 18.59l7.72-7.72 1.47 1.35L5.41 20z\"/>\n",
              "  </svg>\n",
              "      </button>\n",
              "      \n",
              "  <style>\n",
              "    .colab-df-container {\n",
              "      display:flex;\n",
              "      flex-wrap:wrap;\n",
              "      gap: 12px;\n",
              "    }\n",
              "\n",
              "    .colab-df-convert {\n",
              "      background-color: #E8F0FE;\n",
              "      border: none;\n",
              "      border-radius: 50%;\n",
              "      cursor: pointer;\n",
              "      display: none;\n",
              "      fill: #1967D2;\n",
              "      height: 32px;\n",
              "      padding: 0 0 0 0;\n",
              "      width: 32px;\n",
              "    }\n",
              "\n",
              "    .colab-df-convert:hover {\n",
              "      background-color: #E2EBFA;\n",
              "      box-shadow: 0px 1px 2px rgba(60, 64, 67, 0.3), 0px 1px 3px 1px rgba(60, 64, 67, 0.15);\n",
              "      fill: #174EA6;\n",
              "    }\n",
              "\n",
              "    [theme=dark] .colab-df-convert {\n",
              "      background-color: #3B4455;\n",
              "      fill: #D2E3FC;\n",
              "    }\n",
              "\n",
              "    [theme=dark] .colab-df-convert:hover {\n",
              "      background-color: #434B5C;\n",
              "      box-shadow: 0px 1px 3px 1px rgba(0, 0, 0, 0.15);\n",
              "      filter: drop-shadow(0px 1px 2px rgba(0, 0, 0, 0.3));\n",
              "      fill: #FFFFFF;\n",
              "    }\n",
              "  </style>\n",
              "\n",
              "      <script>\n",
              "        const buttonEl =\n",
              "          document.querySelector('#df-7b456f63-3f20-45f4-9d06-8d71ead9da13 button.colab-df-convert');\n",
              "        buttonEl.style.display =\n",
              "          google.colab.kernel.accessAllowed ? 'block' : 'none';\n",
              "\n",
              "        async function convertToInteractive(key) {\n",
              "          const element = document.querySelector('#df-7b456f63-3f20-45f4-9d06-8d71ead9da13');\n",
              "          const dataTable =\n",
              "            await google.colab.kernel.invokeFunction('convertToInteractive',\n",
              "                                                     [key], {});\n",
              "          if (!dataTable) return;\n",
              "\n",
              "          const docLinkHtml = 'Like what you see? Visit the ' +\n",
              "            '<a target=\"_blank\" href=https://colab.research.google.com/notebooks/data_table.ipynb>data table notebook</a>'\n",
              "            + ' to learn more about interactive tables.';\n",
              "          element.innerHTML = '';\n",
              "          dataTable['output_type'] = 'display_data';\n",
              "          await google.colab.output.renderOutput(dataTable, element);\n",
              "          const docLink = document.createElement('div');\n",
              "          docLink.innerHTML = docLinkHtml;\n",
              "          element.appendChild(docLink);\n",
              "        }\n",
              "      </script>\n",
              "    </div>\n",
              "  </div>\n",
              "  "
            ]
          },
          "metadata": {},
          "execution_count": 17
        }
      ]
    },
    {
      "cell_type": "code",
      "source": [
        "raw_df.groupBy('sessionQualityDim').count().show()\n",
        "\n",
        "## สังเกตว่า หลักการเรื่อง Imputation ด้วย Avg หรือ Agg.func. ไม่สามารถนำมาใช้ได้เสมอไป\n",
        "## ลองคิดดูว่า หาก Avg('sessionQualityDim') แล้วได้ค่าหนึ่ง คำถามคือ ค่านั้นนำมาแทน null\n",
        "## จริงหรือ?"
      ],
      "metadata": {
        "colab": {
          "base_uri": "https://localhost:8080/"
        },
        "id": "thb_RtxnfZ0x",
        "outputId": "dcb659dd-9e84-441a-a512-ca3368ac7114"
      },
      "execution_count": 18,
      "outputs": [
        {
          "output_type": "stream",
          "name": "stdout",
          "text": [
            "+-----------------+-----+\n",
            "|sessionQualityDim|count|\n",
            "+-----------------+-----+\n",
            "|                1|  425|\n",
            "|               16|   68|\n",
            "|                5|   10|\n",
            "|                8|   14|\n",
            "|                2|   98|\n",
            "|               79|   83|\n",
            "|             null| 9301|\n",
            "+-----------------+-----+\n",
            "\n"
          ]
        }
      ]
    },
    {
      "cell_type": "code",
      "source": [
        "raw_df.groupBy('newVisits').count().show()"
      ],
      "metadata": {
        "colab": {
          "base_uri": "https://localhost:8080/"
        },
        "id": "q3pIb9ongPp1",
        "outputId": "8a66c633-c23a-46ee-8dff-b1050f6b3ec7"
      },
      "execution_count": 19,
      "outputs": [
        {
          "output_type": "stream",
          "name": "stdout",
          "text": [
            "+---------+-----+\n",
            "|newVisits|count|\n",
            "+---------+-----+\n",
            "|        1| 7269|\n",
            "|     null| 2730|\n",
            "+---------+-----+\n",
            "\n"
          ]
        }
      ]
    },
    {
      "cell_type": "code",
      "source": [
        "from pyspark.sql import functions as sparkf\n",
        "\n",
        "noNull_df = raw_df.withColumn('newVisits',sparkf.when(sparkf.col('newVisits').isNull(),'NA')\\\n",
        "                  .otherwise(sparkf.col('newVisits')))\\\n",
        "                  .withColumn('sessionQualityDim',sparkf.when(sparkf.col('sessionQualityDim').isNull(),'NA')\\\n",
        "                  .otherwise(sparkf.col('sessionQualityDim')))\\\n",
        "                  .withColumn('timeOnSite',sparkf.when(sparkf.col('timeOnSite').isNull(),0)\\\n",
        "                  .otherwise(sparkf.col('timeOnSite')))\\\n",
        "                  .withColumn('totalTransactionRevenue',sparkf.when(sparkf.col('totalTransactionRevenue').isNull(),0)\\\n",
        "                  .otherwise(sparkf.col('totalTransactionRevenue')))"
      ],
      "metadata": {
        "id": "NsiAg0UMgPm-"
      },
      "execution_count": 20,
      "outputs": []
    },
    {
      "cell_type": "code",
      "source": [
        "noNull_df.select(numeric_columns).select([count(when(isnan(c) | col(c).isNull(), c)).alias(c) \\\n",
        "                                       for c in noNull_df.select(numeric_columns).columns]).toPandas().transpose()"
      ],
      "metadata": {
        "colab": {
          "base_uri": "https://localhost:8080/",
          "height": 394
        },
        "id": "XvqV_zPQozPo",
        "outputId": "55b12dba-b86c-435c-eaf2-3d90ef988c64"
      },
      "execution_count": 21,
      "outputs": [
        {
          "output_type": "execute_result",
          "data": {
            "text/plain": [
              "                         0\n",
              "visitId                  0\n",
              "date                     0\n",
              "newVisits                0\n",
              "hitAction_type           0\n",
              "hitNumber                0\n",
              "hitHour                  0\n",
              "hitMin                   0\n",
              "timeMicroSec             0\n",
              "sessionQualityDim        0\n",
              "timeOnSite               0\n",
              "totalTransactionRevenue  0"
            ],
            "text/html": [
              "\n",
              "  <div id=\"df-11ef2378-0fee-4911-bff1-aef8a370471e\">\n",
              "    <div class=\"colab-df-container\">\n",
              "      <div>\n",
              "<style scoped>\n",
              "    .dataframe tbody tr th:only-of-type {\n",
              "        vertical-align: middle;\n",
              "    }\n",
              "\n",
              "    .dataframe tbody tr th {\n",
              "        vertical-align: top;\n",
              "    }\n",
              "\n",
              "    .dataframe thead th {\n",
              "        text-align: right;\n",
              "    }\n",
              "</style>\n",
              "<table border=\"1\" class=\"dataframe\">\n",
              "  <thead>\n",
              "    <tr style=\"text-align: right;\">\n",
              "      <th></th>\n",
              "      <th>0</th>\n",
              "    </tr>\n",
              "  </thead>\n",
              "  <tbody>\n",
              "    <tr>\n",
              "      <th>visitId</th>\n",
              "      <td>0</td>\n",
              "    </tr>\n",
              "    <tr>\n",
              "      <th>date</th>\n",
              "      <td>0</td>\n",
              "    </tr>\n",
              "    <tr>\n",
              "      <th>newVisits</th>\n",
              "      <td>0</td>\n",
              "    </tr>\n",
              "    <tr>\n",
              "      <th>hitAction_type</th>\n",
              "      <td>0</td>\n",
              "    </tr>\n",
              "    <tr>\n",
              "      <th>hitNumber</th>\n",
              "      <td>0</td>\n",
              "    </tr>\n",
              "    <tr>\n",
              "      <th>hitHour</th>\n",
              "      <td>0</td>\n",
              "    </tr>\n",
              "    <tr>\n",
              "      <th>hitMin</th>\n",
              "      <td>0</td>\n",
              "    </tr>\n",
              "    <tr>\n",
              "      <th>timeMicroSec</th>\n",
              "      <td>0</td>\n",
              "    </tr>\n",
              "    <tr>\n",
              "      <th>sessionQualityDim</th>\n",
              "      <td>0</td>\n",
              "    </tr>\n",
              "    <tr>\n",
              "      <th>timeOnSite</th>\n",
              "      <td>0</td>\n",
              "    </tr>\n",
              "    <tr>\n",
              "      <th>totalTransactionRevenue</th>\n",
              "      <td>0</td>\n",
              "    </tr>\n",
              "  </tbody>\n",
              "</table>\n",
              "</div>\n",
              "      <button class=\"colab-df-convert\" onclick=\"convertToInteractive('df-11ef2378-0fee-4911-bff1-aef8a370471e')\"\n",
              "              title=\"Convert this dataframe to an interactive table.\"\n",
              "              style=\"display:none;\">\n",
              "        \n",
              "  <svg xmlns=\"http://www.w3.org/2000/svg\" height=\"24px\"viewBox=\"0 0 24 24\"\n",
              "       width=\"24px\">\n",
              "    <path d=\"M0 0h24v24H0V0z\" fill=\"none\"/>\n",
              "    <path d=\"M18.56 5.44l.94 2.06.94-2.06 2.06-.94-2.06-.94-.94-2.06-.94 2.06-2.06.94zm-11 1L8.5 8.5l.94-2.06 2.06-.94-2.06-.94L8.5 2.5l-.94 2.06-2.06.94zm10 10l.94 2.06.94-2.06 2.06-.94-2.06-.94-.94-2.06-.94 2.06-2.06.94z\"/><path d=\"M17.41 7.96l-1.37-1.37c-.4-.4-.92-.59-1.43-.59-.52 0-1.04.2-1.43.59L10.3 9.45l-7.72 7.72c-.78.78-.78 2.05 0 2.83L4 21.41c.39.39.9.59 1.41.59.51 0 1.02-.2 1.41-.59l7.78-7.78 2.81-2.81c.8-.78.8-2.07 0-2.86zM5.41 20L4 18.59l7.72-7.72 1.47 1.35L5.41 20z\"/>\n",
              "  </svg>\n",
              "      </button>\n",
              "      \n",
              "  <style>\n",
              "    .colab-df-container {\n",
              "      display:flex;\n",
              "      flex-wrap:wrap;\n",
              "      gap: 12px;\n",
              "    }\n",
              "\n",
              "    .colab-df-convert {\n",
              "      background-color: #E8F0FE;\n",
              "      border: none;\n",
              "      border-radius: 50%;\n",
              "      cursor: pointer;\n",
              "      display: none;\n",
              "      fill: #1967D2;\n",
              "      height: 32px;\n",
              "      padding: 0 0 0 0;\n",
              "      width: 32px;\n",
              "    }\n",
              "\n",
              "    .colab-df-convert:hover {\n",
              "      background-color: #E2EBFA;\n",
              "      box-shadow: 0px 1px 2px rgba(60, 64, 67, 0.3), 0px 1px 3px 1px rgba(60, 64, 67, 0.15);\n",
              "      fill: #174EA6;\n",
              "    }\n",
              "\n",
              "    [theme=dark] .colab-df-convert {\n",
              "      background-color: #3B4455;\n",
              "      fill: #D2E3FC;\n",
              "    }\n",
              "\n",
              "    [theme=dark] .colab-df-convert:hover {\n",
              "      background-color: #434B5C;\n",
              "      box-shadow: 0px 1px 3px 1px rgba(0, 0, 0, 0.15);\n",
              "      filter: drop-shadow(0px 1px 2px rgba(0, 0, 0, 0.3));\n",
              "      fill: #FFFFFF;\n",
              "    }\n",
              "  </style>\n",
              "\n",
              "      <script>\n",
              "        const buttonEl =\n",
              "          document.querySelector('#df-11ef2378-0fee-4911-bff1-aef8a370471e button.colab-df-convert');\n",
              "        buttonEl.style.display =\n",
              "          google.colab.kernel.accessAllowed ? 'block' : 'none';\n",
              "\n",
              "        async function convertToInteractive(key) {\n",
              "          const element = document.querySelector('#df-11ef2378-0fee-4911-bff1-aef8a370471e');\n",
              "          const dataTable =\n",
              "            await google.colab.kernel.invokeFunction('convertToInteractive',\n",
              "                                                     [key], {});\n",
              "          if (!dataTable) return;\n",
              "\n",
              "          const docLinkHtml = 'Like what you see? Visit the ' +\n",
              "            '<a target=\"_blank\" href=https://colab.research.google.com/notebooks/data_table.ipynb>data table notebook</a>'\n",
              "            + ' to learn more about interactive tables.';\n",
              "          element.innerHTML = '';\n",
              "          dataTable['output_type'] = 'display_data';\n",
              "          await google.colab.output.renderOutput(dataTable, element);\n",
              "          const docLink = document.createElement('div');\n",
              "          docLink.innerHTML = docLinkHtml;\n",
              "          element.appendChild(docLink);\n",
              "        }\n",
              "      </script>\n",
              "    </div>\n",
              "  </div>\n",
              "  "
            ]
          },
          "metadata": {},
          "execution_count": 21
        }
      ]
    },
    {
      "cell_type": "code",
      "source": [
        "### raw_df.printSchema()"
      ],
      "metadata": {
        "id": "HXu2tLK2pioo"
      },
      "execution_count": 22,
      "outputs": []
    },
    {
      "cell_type": "code",
      "source": [
        "### noNull_df.printSchema()"
      ],
      "metadata": {
        "id": "rUfSHo_DozEs"
      },
      "execution_count": 23,
      "outputs": []
    },
    {
      "cell_type": "code",
      "source": [
        "from pyspark.sql.types import IntegerType, FloatType\n",
        "\n",
        "numeric_columns = []\n",
        "non_numeric_columns = []\n",
        "\n",
        "for col_name in noNull_df.columns:\n",
        "    # Check if the column type is numeric\n",
        "    if isinstance(noNull_df.schema[col_name].dataType, IntegerType) or isinstance(noNull_df.schema[col_name].dataType, FloatType):\n",
        "        numeric_columns.append(col_name)\n",
        "    else:\n",
        "        non_numeric_columns.append(col_name)\n",
        "\n",
        "print(f\"Numeric columns: {numeric_columns}\")\n",
        "print(f\"Non-numeric columns: {non_numeric_columns}\")"
      ],
      "metadata": {
        "colab": {
          "base_uri": "https://localhost:8080/"
        },
        "id": "_-4k4ob1rKzb",
        "outputId": "83caaa32-d5fc-4674-99b1-8234af0befb1"
      },
      "execution_count": 24,
      "outputs": [
        {
          "output_type": "stream",
          "name": "stdout",
          "text": [
            "Numeric columns: ['visitId', 'date', 'hitAction_type', 'hitNumber', 'hitHour', 'hitMin', 'timeMicroSec', 'timeOnSite', 'totalTransactionRevenue']\n",
            "Non-numeric columns: ['source', 'isTrueDirect', 'sourceKeyword', 'medium', 'isVideoAd', 'fullVisitorId', 'newVisits', 'hitReferer', 'hitType', 'v2ProductName', 'productListName', 'isClick', 'isImpression', 'sessionQualityDim', 'timeOnScreen']\n"
          ]
        }
      ]
    },
    {
      "cell_type": "code",
      "source": [
        "from pyspark.sql.functions import col\n",
        "\n",
        "# Calculate Q1, Q3, and IQR for each numeric column\n",
        "for col_name in numeric_columns:\n",
        "    quantiles = raw_df.stat.approxQuantile(col_name, [0.25, 0.75], 0.05)\n",
        "    Q1 = quantiles[0]\n",
        "    Q3 = quantiles[1]\n",
        "    IQR = Q3 - Q1\n",
        "\n",
        "    # Filter values out of the (Q1 - 1.5 * IQR, Q3 + 1.5 * IQR) range\n",
        "    outliers = raw_df.filter((col(col_name) < Q1 - 1.5 * IQR) | (col(col_name) > Q3 + 1.5 * IQR))\n",
        "    print(f\"Column {col_name} has {outliers.count()} outliers\")\n"
      ],
      "metadata": {
        "colab": {
          "base_uri": "https://localhost:8080/"
        },
        "id": "SqrO2yNSXS2_",
        "outputId": "a8fd29d0-07cc-4afa-f221-04fbc5a32e78"
      },
      "execution_count": 25,
      "outputs": [
        {
          "output_type": "stream",
          "name": "stdout",
          "text": [
            "Column visitId has 0 outliers\n",
            "Column date has 0 outliers\n",
            "Column hitAction_type has 562 outliers\n",
            "Column hitNumber has 1055 outliers\n",
            "Column hitHour has 0 outliers\n",
            "Column hitMin has 0 outliers\n",
            "Column timeMicroSec has 1204 outliers\n",
            "Column timeOnSite has 1188 outliers\n",
            "Column totalTransactionRevenue has 183 outliers\n"
          ]
        }
      ]
    },
    {
      "cell_type": "code",
      "source": [
        "from pyspark.sql.functions import log\n",
        "\n",
        "# Initialize DataFrame\n",
        "takeLog_df = noNull_df\n",
        "\n",
        "# Loop through each numeric column and take log to fix skewness\n",
        "for col in numeric_columns:\n",
        "    takeLog_df = takeLog_df.withColumn(col, log(takeLog_df[col]))\n",
        "\n",
        "# Check outliers\n",
        "for col in numeric_columns:\n",
        "    bounds = {\n",
        "        c: dict(\n",
        "            zip([\"q1\", \"q3\"], takeLog_df.approxQuantile(c, [0.25, 0.75], 0))\n",
        "        )\n",
        "        for c in [col]\n",
        "    }\n",
        "\n",
        "    for c in bounds:\n",
        "        iqr = bounds[c]['q3'] - bounds[c]['q1']\n",
        "        bounds[c]['lower'] = bounds[c]['q1'] - (iqr * 1.5)\n",
        "        bounds[c]['upper'] = bounds[c]['q3'] + (iqr * 1.5)\n",
        "        print(f\"Column {c} has {takeLog_df.filter((takeLog_df[c] < bounds[c]['lower']) | (takeLog_df[c] > bounds[c]['upper'])).count()} outliers\")\n"
      ],
      "metadata": {
        "colab": {
          "base_uri": "https://localhost:8080/"
        },
        "id": "_jeRJHzgXS0I",
        "outputId": "5b12df1a-4e8e-455d-ba0e-ff9d46a9151d"
      },
      "execution_count": 26,
      "outputs": [
        {
          "output_type": "stream",
          "name": "stdout",
          "text": [
            "Column visitId has 0 outliers\n",
            "Column date has 0 outliers\n",
            "Column hitAction_type has 0 outliers\n",
            "Column hitNumber has 0 outliers\n",
            "Column hitHour has 366 outliers\n",
            "Column hitMin has 581 outliers\n",
            "Column timeMicroSec has 17 outliers\n",
            "Column timeOnSite has 136 outliers\n",
            "Column totalTransactionRevenue has 50 outliers\n"
          ]
        }
      ]
    },
    {
      "cell_type": "code",
      "source": [
        "numeric_columns"
      ],
      "metadata": {
        "colab": {
          "base_uri": "https://localhost:8080/"
        },
        "id": "ZUqoZyD1Be4T",
        "outputId": "f63baaea-aa6a-49e2-f437-461e0bbb749d"
      },
      "execution_count": 27,
      "outputs": [
        {
          "output_type": "execute_result",
          "data": {
            "text/plain": [
              "['visitId',\n",
              " 'date',\n",
              " 'hitAction_type',\n",
              " 'hitNumber',\n",
              " 'hitHour',\n",
              " 'hitMin',\n",
              " 'timeMicroSec',\n",
              " 'timeOnSite',\n",
              " 'totalTransactionRevenue']"
            ]
          },
          "metadata": {},
          "execution_count": 27
        }
      ]
    },
    {
      "cell_type": "code",
      "source": [
        "from pyspark.ml.feature import VectorAssembler, StandardScaler\n",
        "from pyspark.ml.linalg import Vectors, VectorUDT\n",
        "from pyspark.sql.functions import col, abs, udf\n",
        "\n",
        "# สร้าง UDF (User Defined Function) ในการแปลง Vector เป็น float\n",
        "vector_to_float_udf = udf(lambda vector: float(vector[0]), FloatType())\n",
        "\n",
        "# สร้าง StandardScaler object\n",
        "scaler = StandardScaler(inputCol=\"features\", outputCol=\"scaledFeatures\", withStd=True, withMean=True)\n",
        "\n",
        "# เริ่มต้นด้วย DataFrame ที่ไม่มี Null\n",
        "zScore_df = noNull_df\n",
        "\n",
        "# สร้าง dataframe ที่จะถูก scale\n",
        "for c in numeric_columns:\n",
        "    # ใส่คอลัมน์ที่คำนวณได้ลงใน VectorAssembler\n",
        "    assembler = VectorAssembler(inputCols=[c], outputCol=\"features\")\n",
        "    output = assembler.transform(zScore_df)\n",
        "    \n",
        "    # คำนวณ statistics และแปลง data ด้วย StandardScaler\n",
        "    scalerModel = scaler.fit(output)\n",
        "    scaledData = scalerModel.transform(output)\n",
        "    \n",
        "    # เพิ่ม column z-score ไปยัง dataframe ที่มีอยู่แล้ว\n",
        "    zScore_df = scaledData.withColumn(f'{c}_zscore', vector_to_float_udf('scaledFeatures'))\n",
        "    \n",
        "    # ลบคอลัมน์ที่ไม่ใช้แล้วออกจาก DataFrame\n",
        "    zScore_df = zScore_df.drop('features', 'scaledFeatures')\n",
        "\n",
        "# หา outlier ด้วยการแสดงรายการที่มี z-score > 3 หรือ < -3\n",
        "for c in numeric_columns:\n",
        "    outliers = zScore_df.filter((abs(col(f'{c}_zscore')) > 3))\n",
        "    print(f'Column {c} has {outliers.count()} outliers')\n",
        "\n",
        "# แสดง DataFrame ใหม่\n",
        "zScore_df.show()\n",
        "\n"
      ],
      "metadata": {
        "colab": {
          "base_uri": "https://localhost:8080/"
        },
        "id": "adK2zYToZDzB",
        "outputId": "c5560464-6948-4926-b698-c9e4d1b8512c"
      },
      "execution_count": 28,
      "outputs": [
        {
          "output_type": "stream",
          "name": "stdout",
          "text": [
            "Column visitId has 0 outliers\n",
            "Column date has 0 outliers\n",
            "Column hitAction_type has 189 outliers\n",
            "Column hitNumber has 214 outliers\n",
            "Column hitHour has 0 outliers\n",
            "Column hitMin has 0 outliers\n",
            "Column timeMicroSec has 220 outliers\n",
            "Column timeOnSite has 297 outliers\n",
            "Column totalTransactionRevenue has 183 outliers\n",
            "+------+------------+--------------+-------+---------+-------------------+----------+--------+---------+----------+-------+--------------+---------+-------+------+------------+--------------------+----------------+-------+------------+-----------------+------------+----------+-----------------------+--------------+-----------+---------------------+----------------+--------------+-------------+-------------------+-----------------+------------------------------+\n",
            "|source|isTrueDirect| sourceKeyword| medium|isVideoAd|      fullVisitorId|   visitId|    date|newVisits|hitReferer|hitType|hitAction_type|hitNumber|hitHour|hitMin|timeMicroSec|       v2ProductName| productListName|isClick|isImpression|sessionQualityDim|timeOnScreen|timeOnSite|totalTransactionRevenue|visitId_zscore|date_zscore|hitAction_type_zscore|hitNumber_zscore|hitHour_zscore|hitMin_zscore|timeMicroSec_zscore|timeOnSite_zscore|totalTransactionRevenue_zscore|\n",
            "+------+------------+--------------+-------+---------+-------------------+----------+--------+---------+----------+-------+--------------+---------+-------+------+------------+--------------------+----------------+-------+------------+-----------------+------------+----------+-----------------------+--------------+-----------+---------------------+----------------+--------------+-------------+-------------------+-----------------+------------------------------+\n",
            "|google|        true|(not provided)|organic|     null|4988612949713423910|1489617360|20170315|       NA|      null|   PAGE|             0|       28|     15|    46|      608771|Google Accent Ins...|        Category|   null|        true|               NA|        null|      1897|                      0|    0.50505954|   0.916943|           -0.2014804|       1.9589083|     0.4790131|   0.86706954|          1.0681065|         2.102024|                   -0.23656063|\n",
            "|google|        true|(not provided)|organic|     null|4988612949713423910|1489617360|20170315|       NA|      null|   PAGE|             0|       27|     15|    46|      605064|Google Pocket Blu...|        Category|   null|        true|               NA|        null|      1897|                      0|    0.50505954|   0.916943|           -0.2014804|       1.8576065|     0.4790131|   0.86706954|          1.0580801|         2.102024|                   -0.23656063|\n",
            "|google|        true|(not provided)|organic|     null|4988612949713423910|1489617360|20170315|       NA|      null|   PAGE|             0|       10|     15|    40|      264371| Android Luggage Tag|        Category|   null|        true|               NA|        null|      1897|                      0|    0.50505954|   0.916943|           -0.2014804|      0.13547443|     0.4790131|    0.4996572|         0.13659912|         2.102024|                   -0.23656063|\n",
            "|google|        true|(not provided)|organic|     null|4988612949713423910|1489617360|20170315|       NA|      null|   PAGE|             0|       44|     16|     6|     1814141| Red Shine 15 oz Mug|        Category|   null|        true|               NA|        null|      1897|                      0|    0.50505954|   0.916943|           -0.2014804|       3.5797386|     0.6482109|   -1.5823458|          4.3283014|         2.102024|                   -0.23656063|\n",
            "|google|        true|(not provided)|organic|     null|4988612949713423910|1489617360|20170315|       NA|      null|   PAGE|             0|       22|     15|    43|      420004|Suitcase Organize...|        Category|   null|        true|               NA|        null|      1897|                      0|    0.50505954|   0.916943|           -0.2014804|       1.3510971|     0.4790131|    0.6833634|         0.55754364|         2.102024|                   -0.23656063|\n",
            "|google|        true|(not provided)|organic|     null|4988612949713423910|1489617360|20170315|       NA|      null|   PAGE|             0|       40|     15|    47|      668793|Micro Wireless Ea...|        Category|   null|        true|               NA|        null|      1897|                      0|    0.50505954|   0.916943|           -0.2014804|        3.174531|     0.4790131|    0.9283049|          1.2304496|         2.102024|                   -0.23656063|\n",
            "|google|        true|(not provided)|organic|     null|4988612949713423910|1489617360|20170315|       NA|      null|   PAGE|             0|       23|     15|    43|      475751|Google Water Resi...|        Category|   null|        true|               NA|        null|      1897|                      0|    0.50505954|   0.916943|           -0.2014804|       1.4523989|     0.4790131|    0.6833634|         0.70832396|         2.102024|                   -0.23656063|\n",
            "|google|        true|(not provided)|organic|     null|4988612949713423910|1489617360|20170315|       NA|      null|   PAGE|             0|        7|     15|    38|      169534|Android Journal B...|        Category|   null|        true|               NA|        null|      1897|                      0|    0.50505954|   0.916943|           -0.2014804|     -0.16843122|     0.4790131|   0.37718645|       -0.119908914|         2.102024|                   -0.23656063|\n",
            "|google|        true|(not provided)|organic|     null|4988612949713423910|1489617360|20170315|       NA|      null|   PAGE|             0|       10|     15|    40|      264371|      Windup Android|        Category|   null|        true|               NA|        null|      1897|                      0|    0.50505954|   0.916943|           -0.2014804|      0.13547443|     0.4790131|    0.4996572|         0.13659912|         2.102024|                   -0.23656063|\n",
            "|google|        true|(not provided)|organic|     null|4988612949713423910|1489617360|20170315|       NA|      null|   PAGE|             0|        4|     15|    36|        6901|Google Laptop Bac...|Related Products|   null|        true|               NA|        null|      1897|                      0|    0.50505954|   0.916943|           -0.2014804|      -0.4723369|     0.4790131|   0.25471568|         -0.5597865|         2.102024|                   -0.23656063|\n",
            "|google|        true|(not provided)|organic|     null|4988612949713423910|1489617360|20170315|       NA|      null|   PAGE|             0|       20|     15|    41|      332236|YouTube Wool Heat...|        Category|   null|        true|               NA|        null|      1897|                      0|    0.50505954|   0.916943|           -0.2014804|       1.1484933|     0.4790131|    0.5608926|          0.3201553|         2.102024|                   -0.23656063|\n",
            "|google|        true|(not provided)|organic|     null|4988612949713423910|1489617360|20170315|       NA|      null|   PAGE|             0|       22|     15|    43|      420004| Waterproof Backpack|        Category|   null|        true|               NA|        null|      1897|                      0|    0.50505954|   0.916943|           -0.2014804|       1.3510971|     0.4790131|    0.6833634|         0.55754364|         2.102024|                   -0.23656063|\n",
            "|google|        true|(not provided)|organic|     null|4988612949713423910|1489617360|20170315|       NA|      null|   PAGE|             0|       23|     15|    43|      475751|Micro Wireless Ea...|        Category|   null|        true|               NA|        null|      1897|                      0|    0.50505954|   0.916943|           -0.2014804|       1.4523989|     0.4790131|    0.6833634|         0.70832396|         2.102024|                   -0.23656063|\n",
            "|google|        true|(not provided)|organic|     null|4988612949713423910|1489617360|20170315|       NA|      null|   PAGE|             0|       28|     15|    46|      608771|Google 17oz Stain...|        Category|   null|        true|               NA|        null|      1897|                      0|    0.50505954|   0.916943|           -0.2014804|       1.9589083|     0.4790131|   0.86706954|          1.0681065|         2.102024|                   -0.23656063|\n",
            "|google|        true|(not provided)|organic|     null|4988612949713423910|1489617360|20170315|       NA|      null|   PAGE|             0|       40|     15|    47|      668793|Google G Noise-re...|        Category|   null|        true|               NA|        null|      1897|                      0|    0.50505954|   0.916943|           -0.2014804|        3.174531|     0.4790131|    0.9283049|          1.2304496|         2.102024|                   -0.23656063|\n",
            "|google|        true|(not provided)|organic|     null|4988612949713423910|1489617360|20170315|       NA|      null|   PAGE|             0|       23|     15|    43|      475751|Google Bluetooth ...|        Category|   null|        true|               NA|        null|      1897|                      0|    0.50505954|   0.916943|           -0.2014804|       1.4523989|     0.4790131|    0.6833634|         0.70832396|         2.102024|                   -0.23656063|\n",
            "|google|        true|(not provided)|organic|     null|4988612949713423910|1489617360|20170315|       NA|      null|   PAGE|             0|       27|     15|    46|      605064|Micro Wireless Ea...|        Category|   null|        true|               NA|        null|      1897|                      0|    0.50505954|   0.916943|           -0.2014804|       1.8576065|     0.4790131|   0.86706954|          1.0580801|         2.102024|                   -0.23656063|\n",
            "|google|        true|(not provided)|organic|     null|4988612949713423910|1489617360|20170315|       NA|      null|   PAGE|             0|       45|     16|     6|     1823878|Google Insulated ...|        Category|   null|        true|               NA|        null|      1897|                      0|    0.50505954|   0.916943|           -0.2014804|       3.6810405|     0.6482109|   -1.5823458|           4.354637|         2.102024|                   -0.23656063|\n",
            "|google|        true|(not provided)|organic|     null|4988612949713423910|1489617360|20170315|       NA|      null|   PAGE|             0|       21|     15|    41|      353052|Google Women's 3/...|        Category|   null|        true|               NA|        null|      1897|                      0|    0.50505954|   0.916943|           -0.2014804|       1.2497952|     0.4790131|    0.5608926|         0.37645686|         2.102024|                   -0.23656063|\n",
            "|google|        true|(not provided)|organic|     null|4988612949713423910|1489617360|20170315|       NA|      null|   PAGE|             0|        8|     15|    39|      205833|  Bottle Opener Clip|        Category|   null|        true|               NA|        null|      1897|                      0|    0.50505954|   0.916943|           -0.2014804|    -0.067129344|     0.4790131|   0.43842185|       -0.021730091|         2.102024|                   -0.23656063|\n",
            "+------+------------+--------------+-------+---------+-------------------+----------+--------+---------+----------+-------+--------------+---------+-------+------+------------+--------------------+----------------+-------+------------+-----------------+------------+----------+-----------------------+--------------+-----------+---------------------+----------------+--------------+-------------+-------------------+-----------------+------------------------------+\n",
            "only showing top 20 rows\n",
            "\n"
          ]
        }
      ]
    },
    {
      "cell_type": "code",
      "source": [
        "from pyspark.sql.functions import col\n",
        "\n",
        "# สร้าง DataFrame ใหม่เพื่อจัดการ outlier\n",
        "filtered_dfs = {}\n",
        "filtered_dfs[numeric_columns[0]] = noNull_df\n",
        "\n",
        "# ทำการกรอง outliers ออกจาก DataFrame\n",
        "for idx, c in enumerate(numeric_columns[1:], start=1):\n",
        "    # คำนวณ IQR\n",
        "    Q1, Q3 = filtered_dfs[numeric_columns[idx-1]].approxQuantile(c, [0.25, 0.75], 0.05)\n",
        "    IQR = Q3 - Q1\n",
        "\n",
        "    # กำหนดระดับที่จะถือว่าเป็น outliers\n",
        "    lower_bound = Q1 - 1.5 * IQR\n",
        "    upper_bound = Q3 + 1.5 * IQR\n",
        "\n",
        "    # กรอง outliers ออกจาก DataFrame และสร้าง DataFrame ใหม่\n",
        "    filtered_dfs[c] = filtered_dfs[numeric_columns[idx-1]].filter((col(c) >= lower_bound) & (col(c) <= upper_bound))\n",
        "\n",
        "noOutlier_df = filtered_dfs[numeric_columns[-1]]\n",
        "\n",
        "print(f\"Number of rows after removing outliers: {noOutlier_df.count()}\")\n"
      ],
      "metadata": {
        "colab": {
          "base_uri": "https://localhost:8080/"
        },
        "id": "YYi01CBcGNJm",
        "outputId": "1e68539e-462a-466a-d143-3af475bc8a0b"
      },
      "execution_count": 29,
      "outputs": [
        {
          "output_type": "stream",
          "name": "stdout",
          "text": [
            "Number of rows after removing outliers: 6809\n"
          ]
        }
      ]
    },
    {
      "cell_type": "code",
      "source": [],
      "metadata": {
        "id": "oNNG0XoJGNGe"
      },
      "execution_count": 29,
      "outputs": []
    },
    {
      "cell_type": "code",
      "source": [],
      "metadata": {
        "id": "STrttelVGNDm"
      },
      "execution_count": 29,
      "outputs": []
    },
    {
      "cell_type": "code",
      "source": [],
      "metadata": {
        "id": "27PrdYvdGNAf"
      },
      "execution_count": 29,
      "outputs": []
    },
    {
      "cell_type": "code",
      "source": [],
      "metadata": {
        "id": "QsHTYg4qGM9p"
      },
      "execution_count": 29,
      "outputs": []
    },
    {
      "cell_type": "code",
      "source": [],
      "metadata": {
        "id": "8F571yy4GM6f"
      },
      "execution_count": 29,
      "outputs": []
    },
    {
      "cell_type": "code",
      "source": [],
      "metadata": {
        "id": "L6KU0mlzGM3X"
      },
      "execution_count": 29,
      "outputs": []
    },
    {
      "cell_type": "code",
      "source": [],
      "metadata": {
        "id": "rne4MR-cGM0i"
      },
      "execution_count": 29,
      "outputs": []
    },
    {
      "cell_type": "code",
      "source": [
        "for a in business_requiredCol_list:\n",
        "  raw_df.groupBy(a).count().orderBy('count',ascending = False).show()"
      ],
      "metadata": {
        "id": "g0O4gulVh86Q",
        "colab": {
          "base_uri": "https://localhost:8080/"
        },
        "outputId": "64e0a2ad-28f1-4e2c-d392-e803c7f51666"
      },
      "execution_count": 30,
      "outputs": [
        {
          "output_type": "stream",
          "name": "stdout",
          "text": [
            "+--------------------+-----+\n",
            "|              source|count|\n",
            "+--------------------+-----+\n",
            "|            (direct)| 4972|\n",
            "|              google| 4104|\n",
            "|         youtube.com|  346|\n",
            "|                 dfa|  185|\n",
            "|            Partners|   84|\n",
            "|       images.google|   75|\n",
            "|          reddit.com|   58|\n",
            "|analytics.google.com|   45|\n",
            "|          google.com|   43|\n",
            "|     blog.golang.org|   39|\n",
            "|      m.facebook.com|   19|\n",
            "|           quora.com|   12|\n",
            "| images.google.co.in|   12|\n",
            "|        facebook.com|    2|\n",
            "|                t.co|    2|\n",
            "|   groups.google.com|    1|\n",
            "+--------------------+-----+\n",
            "\n",
            "+------------+-----+\n",
            "|isTrueDirect|count|\n",
            "+------------+-----+\n",
            "|        null| 6648|\n",
            "|        true| 3351|\n",
            "+------------+-----+\n",
            "\n",
            "+--------------------+-----+\n",
            "|       sourceKeyword|count|\n",
            "+--------------------+-----+\n",
            "|                null| 5957|\n",
            "|      (not provided)| 3940|\n",
            "|    6qEhsCssdK0z36ri|   65|\n",
            "|google merchandis...|   13|\n",
            "| okay google youtube|   12|\n",
            "|       youtube merch|   12|\n",
            "+--------------------+-----+\n",
            "\n",
            "+---------+-----+\n",
            "|   medium|count|\n",
            "+---------+-----+\n",
            "|   (none)| 4972|\n",
            "|  organic| 3977|\n",
            "| referral|  579|\n",
            "|      cpm|  297|\n",
            "|      cpc|   90|\n",
            "|affiliate|   84|\n",
            "+---------+-----+\n",
            "\n",
            "+---------+-----+\n",
            "|isVideoAd|count|\n",
            "+---------+-----+\n",
            "|     null| 9538|\n",
            "|    false|  461|\n",
            "+---------+-----+\n",
            "\n",
            "+-------------------+-----+\n",
            "|      fullVisitorId|count|\n",
            "+-------------------+-----+\n",
            "|4992819126088253676|  360|\n",
            "|4992970334133037215|  357|\n",
            "|4992499749003799871|  352|\n",
            "|4995584940873803432|  350|\n",
            "| 499124294013106751|  268|\n",
            "|4990803917337260315|  267|\n",
            "|4988612949713423910|  218|\n",
            "|4993613447705442396|  210|\n",
            "|4995903322841177843|  189|\n",
            "|4993852637585406336|  170|\n",
            "|4990198874063509353|  169|\n",
            "|4990257633001131707|  167|\n",
            "|4995239461409228195|  152|\n",
            "|4990634493822624181|  147|\n",
            "| 498905464420111059|  147|\n",
            "|4989796484973187255|  145|\n",
            "|4991962803971844700|  139|\n",
            "| 499575320342848437|  139|\n",
            "|4995566005380940326|  138|\n",
            "|4992317753515158805|  133|\n",
            "+-------------------+-----+\n",
            "only showing top 20 rows\n",
            "\n",
            "+----------+-----+\n",
            "|   visitId|count|\n",
            "+----------+-----+\n",
            "|1472235854|  257|\n",
            "|1476938325|  209|\n",
            "|1474383410|  205|\n",
            "|1493223582|  189|\n",
            "|1489617360|  187|\n",
            "|1477021389|  169|\n",
            "|1485540848|  167|\n",
            "|1474396786|  152|\n",
            "|1492621822|  147|\n",
            "|1473189127|  147|\n",
            "|1473919452|  145|\n",
            "|1486916946|  144|\n",
            "|1475876346|  139|\n",
            "|1476945917|  139|\n",
            "|1472164694|  129|\n",
            "|1496175863|  128|\n",
            "|1491752911|  128|\n",
            "|1478983581|  124|\n",
            "|1488300417|  120|\n",
            "|1470147990|  117|\n",
            "+----------+-----+\n",
            "only showing top 20 rows\n",
            "\n",
            "+--------+-----+\n",
            "|    date|count|\n",
            "+--------+-----+\n",
            "|20160920|  357|\n",
            "|20160826|  350|\n",
            "|20161019|  309|\n",
            "|20161020|  220|\n",
            "|20161003|  202|\n",
            "|20170315|  202|\n",
            "|20170426|  201|\n",
            "|20160906|  173|\n",
            "|20170412|  173|\n",
            "|20170127|  167|\n",
            "|20170124|  148|\n",
            "|20170419|  147|\n",
            "|20160914|  145|\n",
            "|20170212|  144|\n",
            "|20170409|  140|\n",
            "|20161007|  139|\n",
            "|20161221|  133|\n",
            "|20160825|  129|\n",
            "|20170516|  128|\n",
            "|20170530|  128|\n",
            "+--------+-----+\n",
            "only showing top 20 rows\n",
            "\n",
            "+---------+-----+\n",
            "|newVisits|count|\n",
            "+---------+-----+\n",
            "|        1| 7269|\n",
            "|     null| 2730|\n",
            "+---------+-----+\n",
            "\n",
            "+--------------------+-----+\n",
            "|          hitReferer|count|\n",
            "+--------------------+-----+\n",
            "|                null| 8666|\n",
            "|https://www.googl...|  458|\n",
            "|https://www.googl...|   74|\n",
            "|https://www.googl...|   60|\n",
            "|https://www.youtu...|   60|\n",
            "|https://www.googl...|   48|\n",
            "|https://www.googl...|   48|\n",
            "|http://www.google...|   45|\n",
            "|https://www.googl...|   39|\n",
            "|https://www.reddi...|   34|\n",
            "|https://www.googl...|   34|\n",
            "|https://www.googl...|   34|\n",
            "|https://www.googl...|   31|\n",
            "|https://www.googl...|   27|\n",
            "|https://www.youtu...|   24|\n",
            "|https://www.googl...|   24|\n",
            "|https://www.googl...|   24|\n",
            "|https://www.googl...|   18|\n",
            "|http://m.facebook...|   17|\n",
            "|https://www.googl...|   14|\n",
            "+--------------------+-----+\n",
            "only showing top 20 rows\n",
            "\n",
            "+-------+-----+\n",
            "|hitType|count|\n",
            "+-------+-----+\n",
            "|   PAGE| 9685|\n",
            "|  EVENT|  314|\n",
            "+-------+-----+\n",
            "\n",
            "+--------------+-----+\n",
            "|hitAction_type|count|\n",
            "+--------------+-----+\n",
            "|             0| 9437|\n",
            "|             1|  210|\n",
            "|             2|  163|\n",
            "|             5|   70|\n",
            "|             3|   59|\n",
            "|             6|   40|\n",
            "|             4|   20|\n",
            "+--------------+-----+\n",
            "\n",
            "+---------+-----+\n",
            "|hitNumber|count|\n",
            "+---------+-----+\n",
            "|        1| 1753|\n",
            "|        3| 1271|\n",
            "|        2| 1107|\n",
            "|        4|  924|\n",
            "|        5|  585|\n",
            "|        6|  440|\n",
            "|        7|  390|\n",
            "|       11|  345|\n",
            "|        8|  283|\n",
            "|       10|  266|\n",
            "|       12|  229|\n",
            "|       13|  221|\n",
            "|        9|  167|\n",
            "|       14|  153|\n",
            "|       16|  153|\n",
            "|       15|  137|\n",
            "|       19|  124|\n",
            "|       20|  123|\n",
            "|       28|  103|\n",
            "|       26|   94|\n",
            "+---------+-----+\n",
            "only showing top 20 rows\n",
            "\n",
            "+-------+-----+\n",
            "|hitHour|count|\n",
            "+-------+-----+\n",
            "|      9|  942|\n",
            "|     11|  931|\n",
            "|     10|  847|\n",
            "|     15|  696|\n",
            "|      8|  686|\n",
            "|     23|  618|\n",
            "|     12|  576|\n",
            "|     14|  492|\n",
            "|      7|  431|\n",
            "|     20|  395|\n",
            "|     21|  368|\n",
            "|     17|  356|\n",
            "|      5|  319|\n",
            "|     16|  316|\n",
            "|      0|  302|\n",
            "|      6|  268|\n",
            "|     22|  262|\n",
            "|     13|  229|\n",
            "|     19|  209|\n",
            "|      4|  202|\n",
            "+-------+-----+\n",
            "only showing top 20 rows\n",
            "\n",
            "+------+-----+\n",
            "|hitMin|count|\n",
            "+------+-----+\n",
            "|    26|  333|\n",
            "|    47|  275|\n",
            "|    39|  273|\n",
            "|    45|  267|\n",
            "|    43|  267|\n",
            "|    27|  252|\n",
            "|    40|  243|\n",
            "|    23|  243|\n",
            "|    14|  233|\n",
            "|    58|  227|\n",
            "|    46|  224|\n",
            "|    49|  219|\n",
            "|    32|  214|\n",
            "|    54|  206|\n",
            "|    28|  203|\n",
            "|    42|  199|\n",
            "|    37|  197|\n",
            "|     0|  195|\n",
            "|    48|  192|\n",
            "|    24|  192|\n",
            "+------+-----+\n",
            "only showing top 20 rows\n",
            "\n",
            "+------------+-----+\n",
            "|timeMicroSec|count|\n",
            "+------------+-----+\n",
            "|           0| 1753|\n",
            "|      129984|   34|\n",
            "|      176502|   34|\n",
            "|      242339|   34|\n",
            "|      229115|   34|\n",
            "|      140139|   34|\n",
            "|      133919|   34|\n",
            "|       82304|   34|\n",
            "|       71262|   34|\n",
            "|      203668|   34|\n",
            "|      128331|   34|\n",
            "|      673951|   34|\n",
            "|      202545|   34|\n",
            "|      142821|   34|\n",
            "|       13033|   34|\n",
            "|      191382|   34|\n",
            "|      218940|   34|\n",
            "|       20703|   34|\n",
            "|      252392|   34|\n",
            "|       91480|   34|\n",
            "+------------+-----+\n",
            "only showing top 20 rows\n",
            "\n",
            "+--------------------+-----+\n",
            "|       v2ProductName|count|\n",
            "+--------------------+-----+\n",
            "|Google Men's 100%...|  211|\n",
            "|Google Men's 100%...|  138|\n",
            "|Google Men's 100%...|  135|\n",
            "|Google Men's  Zip...|  123|\n",
            "|Google Men's Wate...|  119|\n",
            "|22 oz YouTube Bot...|  119|\n",
            "|YouTube Men's Sho...|  118|\n",
            "|   YouTube Twill Cap|  107|\n",
            "|Google Women's Sh...|  106|\n",
            "|Google Women's Sh...|  103|\n",
            "|YouTube Men's Sho...|  101|\n",
            "|YouTube Custom De...|   99|\n",
            "|Electronics Acces...|   95|\n",
            "|Google Men's 100%...|   89|\n",
            "|YouTube Men's Sho...|   88|\n",
            "|Android Men's  Zi...|   88|\n",
            "| Waterproof Backpack|   88|\n",
            "|Google Alpine Sty...|   85|\n",
            "|YouTube Leatheret...|   83|\n",
            "|YouTube Hard Cove...|   80|\n",
            "+--------------------+-----+\n",
            "only showing top 20 rows\n",
            "\n",
            "+----------------+-----+\n",
            "| productListName|count|\n",
            "+----------------+-----+\n",
            "|        Category| 9241|\n",
            "|Related Products|  338|\n",
            "|  Search Results|  228|\n",
            "|       (not set)|  192|\n",
            "+----------------+-----+\n",
            "\n",
            "+-------+-----+\n",
            "|isClick|count|\n",
            "+-------+-----+\n",
            "|   null| 9789|\n",
            "|   true|  210|\n",
            "+-------+-----+\n",
            "\n",
            "+------------+-----+\n",
            "|isImpression|count|\n",
            "+------------+-----+\n",
            "|        true| 9437|\n",
            "|        null|  562|\n",
            "+------------+-----+\n",
            "\n",
            "+-----------------+-----+\n",
            "|sessionQualityDim|count|\n",
            "+-----------------+-----+\n",
            "|             null| 9301|\n",
            "|                1|  425|\n",
            "|                2|   98|\n",
            "|               79|   83|\n",
            "|               16|   68|\n",
            "|                8|   14|\n",
            "|                5|   10|\n",
            "+-----------------+-----+\n",
            "\n",
            "+------------+-----+\n",
            "|timeOnScreen|count|\n",
            "+------------+-----+\n",
            "|        null| 9999|\n",
            "+------------+-----+\n",
            "\n",
            "+----------+-----+\n",
            "|timeOnSite|count|\n",
            "+----------+-----+\n",
            "|      null| 1041|\n",
            "|       674|  257|\n",
            "|       232|  252|\n",
            "|       537|  212|\n",
            "|      3052|  209|\n",
            "|       487|  207|\n",
            "|       977|  189|\n",
            "|      1897|  187|\n",
            "|       875|  169|\n",
            "|       867|  167|\n",
            "|       363|  152|\n",
            "|      1966|  147|\n",
            "|       290|  147|\n",
            "|       138|  145|\n",
            "|       359|  139|\n",
            "|       547|  129|\n",
            "|      1188|  128|\n",
            "|       341|  124|\n",
            "|       436|  120|\n",
            "|       248|  120|\n",
            "+----------+-----+\n",
            "only showing top 20 rows\n",
            "\n",
            "+-----------------------+-----+\n",
            "|totalTransactionRevenue|count|\n",
            "+-----------------------+-----+\n",
            "|                   null| 9292|\n",
            "|               29980000|  169|\n",
            "|               33990000|   90|\n",
            "|               33180000|   88|\n",
            "|               59960000|   78|\n",
            "|               30980000|   73|\n",
            "|               50790000|   55|\n",
            "|              116760000|   30|\n",
            "|               20580000|   28|\n",
            "|               36980000|   25|\n",
            "|               23990000|   21|\n",
            "|               28190000|   20|\n",
            "|              128970000|   20|\n",
            "|               34590000|   10|\n",
            "+-----------------------+-----+\n",
            "\n"
          ]
        }
      ]
    },
    {
      "cell_type": "code",
      "source": [
        "raw_df.groupBy('hitAction_type').count().orderBy('hitAction_type').show()"
      ],
      "metadata": {
        "id": "0mqNh_RohAJ1",
        "colab": {
          "base_uri": "https://localhost:8080/"
        },
        "outputId": "3015102c-92b9-49f2-f795-9db60cbc3100"
      },
      "execution_count": 31,
      "outputs": [
        {
          "output_type": "stream",
          "name": "stdout",
          "text": [
            "+--------------+-----+\n",
            "|hitAction_type|count|\n",
            "+--------------+-----+\n",
            "|             0| 9437|\n",
            "|             1|  210|\n",
            "|             2|  163|\n",
            "|             3|   59|\n",
            "|             4|   20|\n",
            "|             5|   70|\n",
            "|             6|   40|\n",
            "+--------------+-----+\n",
            "\n"
          ]
        }
      ]
    },
    {
      "cell_type": "code",
      "source": [
        "raw_df.groupBy('isTrueDirect').count().show()"
      ],
      "metadata": {
        "id": "4nrpUb6tNDDX",
        "colab": {
          "base_uri": "https://localhost:8080/"
        },
        "outputId": "81fa282e-528f-49a2-b9ec-027220c056fc"
      },
      "execution_count": 32,
      "outputs": [
        {
          "output_type": "stream",
          "name": "stdout",
          "text": [
            "+------------+-----+\n",
            "|isTrueDirect|count|\n",
            "+------------+-----+\n",
            "|        true| 3351|\n",
            "|        null| 6648|\n",
            "+------------+-----+\n",
            "\n"
          ]
        }
      ]
    },
    {
      "cell_type": "code",
      "source": [
        "raw_df.groupBy('medium').count().show()"
      ],
      "metadata": {
        "id": "hceyKkVYORcJ",
        "colab": {
          "base_uri": "https://localhost:8080/"
        },
        "outputId": "0c832ed2-b5b3-4310-c5e3-3d9c419311dd"
      },
      "execution_count": 33,
      "outputs": [
        {
          "output_type": "stream",
          "name": "stdout",
          "text": [
            "+---------+-----+\n",
            "|   medium|count|\n",
            "+---------+-----+\n",
            "|   (none)| 4972|\n",
            "|      cpc|   90|\n",
            "| referral|  579|\n",
            "|  organic| 3977|\n",
            "|affiliate|   84|\n",
            "|      cpm|  297|\n",
            "+---------+-----+\n",
            "\n"
          ]
        }
      ]
    },
    {
      "cell_type": "code",
      "source": [
        "df = raw_df.select(['hitAction_type','hitHour','hitMin','productListName']).toPandas()"
      ],
      "metadata": {
        "id": "rxtBUz6k-KYC"
      },
      "execution_count": 34,
      "outputs": []
    },
    {
      "cell_type": "code",
      "source": [
        "# Initialize parameters\n",
        "x_var = 'hitAction_type'\n",
        "groupby_var = 'hitHour'\n",
        "\n",
        "# Group data by the variable of interest\n",
        "df_grouped = df.groupby(groupby_var)\n",
        "\n",
        "# Extract the values of x_var for each group\n",
        "grouped_values = [group[x_var].values.tolist() for _, group in df_grouped]\n",
        "\n",
        "# Define colors for each group\n",
        "colors = [plt.cm.Spectral(i/float(len(grouped_values)-1)) for i in range(len(grouped_values))]\n",
        "\n",
        "# Create a figure\n",
        "plt.figure(figsize=(16,9), dpi=80)\n",
        "\n",
        "# Create a stacked histogram\n",
        "n, bins, patches = plt.hist(grouped_values, df[x_var].unique().__len__(), stacked=True, density=False, color=colors[:len(grouped_values)])\n",
        "\n",
        "# Add a legend\n",
        "plt.legend({group:col for group, col in zip(np.unique(df[groupby_var]).tolist(), colors[:len(grouped_values)])})\n",
        "\n",
        "# Add title and labels\n",
        "plt.title(f\"Stacked Histogram of {x_var} colored by {groupby_var}\", fontsize=22)\n",
        "plt.xlabel(x_var)\n",
        "plt.ylabel(\"Frequency\")\n",
        "\n",
        "# Set the range of y-axis\n",
        "plt.ylim(0, 500)\n",
        "\n",
        "# Get unique values of x_var\n",
        "unique_x_var = np.unique(df[x_var]).tolist()\n",
        "\n",
        "# Use arange to generate ticks locations\n",
        "bins = np.arange(len(unique_x_var))\n",
        "\n",
        "# Set the labels of x-axis\n",
        "plt.xticks(ticks=bins, labels=unique_x_var, rotation=90, horizontalalignment='left')\n",
        "\n",
        "\n",
        "# Display the plot\n",
        "plt.show()\n"
      ],
      "metadata": {
        "id": "-CdKvvLXvCUN",
        "colab": {
          "base_uri": "https://localhost:8080/",
          "height": 643
        },
        "outputId": "700e74cd-f369-4a8e-b9f6-03e4a4365b35"
      },
      "execution_count": 35,
      "outputs": [
        {
          "output_type": "display_data",
          "data": {
            "text/plain": [
              "<Figure size 1280x720 with 1 Axes>"
            ],
            "image/png": "[encoded data removed]"
          },
          "metadata": {}
        }
      ]
    },
    {
      "cell_type": "code",
      "source": [
        "### แสดงการซื้อ (hitAction_type = 6) แจงแจงตามช่วงเวลา\n",
        "\n",
        "bins, counts = raw_df.select('hitHour') \\\n",
        ".filter(raw_df.hitAction_type == 6).rdd.flatMap(lambda x: x).histogram(24)\n",
        "plt.hist(bins[:-1], bins=bins, weights=counts)"
      ],
      "metadata": {
        "id": "Gwsr8sQgvWZC",
        "colab": {
          "base_uri": "https://localhost:8080/",
          "height": 579
        },
        "outputId": "4e84fe5b-6e4f-4e45-c483-d513c0fcb50c"
      },
      "execution_count": 36,
      "outputs": [
        {
          "output_type": "execute_result",
          "data": {
            "text/plain": [
              "(array([8., 4., 0., 0., 0., 0., 8., 0., 0., 0., 0., 0., 2., 6., 0., 0., 0.,\n",
              "        0., 0., 0., 2., 0., 4., 6.]),\n",
              " array([ 6.        ,  6.58333333,  7.16666667,  7.75      ,  8.33333333,\n",
              "         8.91666667,  9.5       , 10.08333333, 10.66666667, 11.25      ,\n",
              "        11.83333333, 12.41666667, 13.        , 13.58333333, 14.16666667,\n",
              "        14.75      , 15.33333333, 15.91666667, 16.5       , 17.08333333,\n",
              "        17.66666667, 18.25      , 18.83333333, 19.41666667, 20.        ]),\n",
              " <BarContainer object of 24 artists>)"
            ]
          },
          "metadata": {},
          "execution_count": 36
        },
        {
          "output_type": "display_data",
          "data": {
            "text/plain": [
              "<Figure size 640x480 with 1 Axes>"
            ],
            "image/png": "[encoded data removed]"
          },
          "metadata": {}
        }
      ]
    },
    {
      "cell_type": "code",
      "source": [
        "### แสดงการไม่ซื้อ (hitAction_type = 0) แจงแจงตามช่วงเวลา\n",
        "\n",
        "bins, counts = raw_df.select('hitHour') \\\n",
        ".filter(raw_df.hitAction_type == 0).rdd.flatMap(lambda x: x).histogram(24)\n",
        "plt.hist(bins[:-1], bins=bins, weights=counts)"
      ],
      "metadata": {
        "colab": {
          "base_uri": "https://localhost:8080/",
          "height": 598
        },
        "id": "A6hmmYkMp-zI",
        "outputId": "d74229bc-8ef8-4766-aa2d-8c3336b73739"
      },
      "execution_count": 37,
      "outputs": [
        {
          "output_type": "execute_result",
          "data": {
            "text/plain": [
              "(array([300., 156.,  96., 108., 202., 312., 239., 401., 668., 861., 768.,\n",
              "        881., 559., 205., 449., 656., 302., 343., 182., 182., 355., 362.,\n",
              "        256., 594.]),\n",
              " array([ 0.        ,  0.95833333,  1.91666667,  2.875     ,  3.83333333,\n",
              "         4.79166667,  5.75      ,  6.70833333,  7.66666667,  8.625     ,\n",
              "         9.58333333, 10.54166667, 11.5       , 12.45833333, 13.41666667,\n",
              "        14.375     , 15.33333333, 16.29166667, 17.25      , 18.20833333,\n",
              "        19.16666667, 20.125     , 21.08333333, 22.04166667, 23.        ]),\n",
              " <BarContainer object of 24 artists>)"
            ]
          },
          "metadata": {},
          "execution_count": 37
        },
        {
          "output_type": "display_data",
          "data": {
            "text/plain": [
              "<Figure size 640x480 with 1 Axes>"
            ],
            "image/png": "[encoded data removed]"
          },
          "metadata": {}
        }
      ]
    },
    {
      "cell_type": "code",
      "source": [
        "# Initialize parameters\n",
        "x_var = 'hitAction_type'\n",
        "groupby_var = 'productListName'\n",
        "\n",
        "# Group data by the variable of interest\n",
        "df_grouped = df.groupby(groupby_var)\n",
        "\n",
        "# Extract the values of x_var for each group\n",
        "grouped_values = [group[x_var].values.tolist() for _, group in df_grouped]\n",
        "\n",
        "# Define colors for each group\n",
        "colors = [plt.cm.Spectral(i/float(len(grouped_values)-1)) for i in range(len(grouped_values))]\n",
        "\n",
        "# Create a figure\n",
        "plt.figure(figsize=(16,9), dpi=80)\n",
        "\n",
        "# Create a stacked histogram\n",
        "n, bins, patches = plt.hist(grouped_values, df[x_var].unique().__len__(), stacked=True, density=False, color=colors[:len(grouped_values)])\n",
        "\n",
        "# Add a legend\n",
        "plt.legend({group:col for group, col in zip(np.unique(df[groupby_var]).tolist(), colors[:len(grouped_values)])})\n",
        "\n",
        "# Add title and labels\n",
        "plt.title(f\"Stacked Histogram of {x_var} colored by {groupby_var}\", fontsize=22)\n",
        "plt.xlabel(x_var)\n",
        "plt.ylabel(\"Frequency\")\n",
        "\n",
        "# Set the range of y-axis\n",
        "plt.ylim(0, 500)\n",
        "\n",
        "# Get unique values of x_var\n",
        "unique_x_var = np.unique(df[x_var]).tolist()\n",
        "\n",
        "# Use arange to generate ticks locations\n",
        "bins = np.arange(len(unique_x_var))\n",
        "\n",
        "# Set the labels of x-axis\n",
        "plt.xticks(ticks=bins, labels=unique_x_var, rotation=90, horizontalalignment='left')\n",
        "\n",
        "\n",
        "# Display the plot\n",
        "plt.show()\n"
      ],
      "metadata": {
        "colab": {
          "base_uri": "https://localhost:8080/",
          "height": 643
        },
        "id": "qY4Y6J__qQWt",
        "outputId": "ad03e5ed-ad71-445d-b252-767db9ab9f78"
      },
      "execution_count": 38,
      "outputs": [
        {
          "output_type": "display_data",
          "data": {
            "text/plain": [
              "<Figure size 1280x720 with 1 Axes>"
            ],
            "image/png": "[encoded data removed]"
          },
          "metadata": {}
        }
      ]
    },
    {
      "cell_type": "markdown",
      "source": [
        "### Finding out partial duplicated records - Spurious Patterns"
      ],
      "metadata": {
        "id": "VjyhhtffPWwo"
      }
    },
    {
      "cell_type": "markdown",
      "source": [
        "*โค้ดด้านล่างแสดงให้เห็นว่า มีลูกค้ากี่ราย*"
      ],
      "metadata": {
        "id": "mU_EMag-o3zh"
      }
    },
    {
      "cell_type": "code",
      "source": [
        "raw_df.select(sparkf.countDistinct('fullVisitorId').alias('num_unique_user')).show()"
      ],
      "metadata": {
        "id": "nMArXXKJNwJc",
        "outputId": "c89d140c-8097-49a0-d15b-d6c21521ef83",
        "colab": {
          "base_uri": "https://localhost:8080/"
        }
      },
      "execution_count": 39,
      "outputs": [
        {
          "output_type": "stream",
          "name": "stdout",
          "text": [
            "+---------------+\n",
            "|num_unique_user|\n",
            "+---------------+\n",
            "|            242|\n",
            "+---------------+\n",
            "\n"
          ]
        }
      ]
    },
    {
      "cell_type": "markdown",
      "source": [
        "*โค้ดด้านล่างแสดงให้เห็นว่า ลูกค้าแต่ละราย (fullVisitorId) ที่เข้ามาได้หลายครั้ง (visitId) นั้นเกิด Hit ได้ตั้งแต่ 1 ครั้งขึ้นไป*"
      ],
      "metadata": {
        "id": "xipjG59dolmn"
      }
    },
    {
      "cell_type": "code",
      "source": [
        "sessionWindow = W.partitionBy('fullVisitorId','visitId').orderBy(sparkf.col(\"hitNumber\").cast(\"long\"))\\\n",
        "                 .rangeBetween(-sys.maxsize, sys.maxsize)"
      ],
      "metadata": {
        "id": "3EFLj_I8rxBR"
      },
      "execution_count": 40,
      "outputs": []
    },
    {
      "cell_type": "code",
      "source": [
        "allHit = sparkf.expr(\"count('hitNumber')\")"
      ],
      "metadata": {
        "id": "cuaXdfufvP-t"
      },
      "execution_count": 41,
      "outputs": []
    },
    {
      "cell_type": "code",
      "source": [
        "raw_df.withColumn('numHit',allHit.over(sessionWindow))\\\n",
        ".select('fullVisitorId','visitId','numHit')\\\n",
        ".distinct().orderBy('fullVisitorId','visitId').show(7)"
      ],
      "metadata": {
        "id": "lGlqzuFLrwkx",
        "outputId": "a21e63aa-c7f0-4455-e050-0ea4c8fcccc5",
        "colab": {
          "base_uri": "https://localhost:8080/"
        }
      },
      "execution_count": 42,
      "outputs": [
        {
          "output_type": "stream",
          "name": "stdout",
          "text": [
            "+------------------+----------+------+\n",
            "|     fullVisitorId|   visitId|numHit|\n",
            "+------------------+----------+------+\n",
            "| 49898505875812980|1491367151|     2|\n",
            "| 49898679051871719|1494605584|    14|\n",
            "| 49898679051871719|1494616733|    18|\n",
            "| 49898679051871719|1494874385|     1|\n",
            "| 49898679051871719|1496681648|    12|\n",
            "| 49898679051871719|1496681649|    12|\n",
            "|498878131324403508|1483764178|    12|\n",
            "+------------------+----------+------+\n",
            "only showing top 7 rows\n",
            "\n"
          ]
        }
      ]
    },
    {
      "cell_type": "markdown",
      "source": [
        "*โค้ดด้านล่าง เป็นการ cross-check ว่าการคำนวนข้างบนนั้นถูกต้องแล้ว*"
      ],
      "metadata": {
        "id": "y0sBLbWpRiKl"
      }
    },
    {
      "cell_type": "code",
      "source": [
        "raw_df.filter((sparkf.col('fullVisitorId') == '4991536060599177108')&(sparkf.col('VisitId') == '1495501367'))\\\n",
        ".count()"
      ],
      "metadata": {
        "id": "xMM0ppjzzNnz",
        "outputId": "305cd106-2475-4ef3-e73d-267239588ea1",
        "colab": {
          "base_uri": "https://localhost:8080/"
        }
      },
      "execution_count": 43,
      "outputs": [
        {
          "output_type": "execute_result",
          "data": {
            "text/plain": [
              "12"
            ]
          },
          "metadata": {},
          "execution_count": 43
        }
      ]
    },
    {
      "cell_type": "markdown",
      "source": [
        "*โค้ดด้านล่างแสดงให้เห็นว่า บาง visitId เท่านั้นนั้นที่มี hitAction_type เป็นเลข 6*"
      ],
      "metadata": {
        "id": "jXEb0kOgOaDC"
      }
    },
    {
      "cell_type": "code",
      "source": [
        "raw_df\\\n",
        "      .withColumn('numHit',allHit.over(sessionWindow))\\\n",
        "      .withColumn('hitAction_type_6',sparkf.when(sparkf.col('hitAction_type')==6,1).otherwise(0))\\\n",
        "      .withColumn('sum_hitAction_type_6',sparkf.sum(sparkf.col('hitAction_type_6')).over(sessionWindow))\\\n",
        "      .filter(sparkf.col('sum_hitAction_type_6')>=1)\\\n",
        "      .select(['fullVisitorId','visitId','sum_hitAction_type_6'])\\\n",
        "      .distinct().orderBy('fullVisitorId','visitId').show()"
      ],
      "metadata": {
        "id": "sRdwVNpBOftw",
        "outputId": "728bff85-9237-4f1f-ddad-277c8bb0050a",
        "colab": {
          "base_uri": "https://localhost:8080/"
        }
      },
      "execution_count": 44,
      "outputs": [
        {
          "output_type": "stream",
          "name": "stdout",
          "text": [
            "+-------------------+----------+--------------------+\n",
            "|      fullVisitorId|   visitId|sum_hitAction_type_6|\n",
            "+-------------------+----------+--------------------+\n",
            "|4988612949713423910|1490043910|                   4|\n",
            "|4988683855814257726|1492045051|                   2|\n",
            "|4989274933392395231|1487773059|                   6|\n",
            "|4990198874063509353|1477021389|                   4|\n",
            "|4993450863033496114|1485313789|                   4|\n",
            "|4993485206334150199|1470106850|                   2|\n",
            "|4993519711854402788|1487369367|                   2|\n",
            "|4993852637585406336|1494000490|                   4|\n",
            "|4995584940873803432|1497289186|                   2|\n",
            "|4995584940873803432|1498486477|                   4|\n",
            "|4995606827430436569|1488143869|                   2|\n",
            "|4995899860057743088|1474047117|                   2|\n",
            "|4995924842281653133|1486131356|                   2|\n",
            "+-------------------+----------+--------------------+\n",
            "\n"
          ]
        }
      ]
    },
    {
      "cell_type": "markdown",
      "source": [
        "*โค้ดด้านล่าง เป็นการ cross-check ว่าการคำนวนข้างบนนั้นถูกต้องแล้ว*"
      ],
      "metadata": {
        "id": "Y6vUB5q6QWQi"
      }
    },
    {
      "cell_type": "code",
      "source": [
        "raw_df.filter(sparkf.col('totalTransactionRevenue') >=0)\\\n",
        ".groupBy('fullVisitorId','visitId').count().alias('numHit').orderBy('fullVisitorId','visitId').show()"
      ],
      "metadata": {
        "id": "rB4ooSnn-hPI",
        "outputId": "f4bda299-d994-4428-8c0e-f7ef5e2957e2",
        "colab": {
          "base_uri": "https://localhost:8080/"
        }
      },
      "execution_count": 45,
      "outputs": [
        {
          "output_type": "stream",
          "name": "stdout",
          "text": [
            "+-------------------+----------+-----+\n",
            "|      fullVisitorId|   visitId|count|\n",
            "+-------------------+----------+-----+\n",
            "|4988612949713423910|1490043910|   25|\n",
            "|4988683855814257726|1492045051|   55|\n",
            "|4989274933392395231|1487773059|   78|\n",
            "|4990198874063509353|1477021389|  169|\n",
            "|4993450863033496114|1485313789|   73|\n",
            "|4993485206334150199|1470106850|   21|\n",
            "|4993519711854402788|1487369367|   10|\n",
            "|4993852637585406336|1494000490|   88|\n",
            "|4995584940873803432|1497289186|   20|\n",
            "|4995584940873803432|1498486477|   30|\n",
            "|4995606827430436569|1488143869|   28|\n",
            "|4995899860057743088|1474047117|   90|\n",
            "|4995924842281653133|1486131356|   20|\n",
            "+-------------------+----------+-----+\n",
            "\n"
          ]
        }
      ]
    },
    {
      "cell_type": "code",
      "source": [
        "raw_df.filter(sparkf.col('hitAction_type')==6)\\\n",
        "      .select('fullVisitorId','visitId').groupBy('fullVisitorId','visitId').count()\\\n",
        "      .orderBy('fullVisitorId','visitId').show()"
      ],
      "metadata": {
        "id": "yD2Vgj-jphYt",
        "outputId": "c2e96b34-cf21-48f3-ab4e-a2d8e556dd2a",
        "colab": {
          "base_uri": "https://localhost:8080/"
        }
      },
      "execution_count": 46,
      "outputs": [
        {
          "output_type": "stream",
          "name": "stdout",
          "text": [
            "+-------------------+----------+-----+\n",
            "|      fullVisitorId|   visitId|count|\n",
            "+-------------------+----------+-----+\n",
            "|4988612949713423910|1490043910|    4|\n",
            "|4988683855814257726|1492045051|    2|\n",
            "|4989274933392395231|1487773059|    6|\n",
            "|4990198874063509353|1477021389|    4|\n",
            "|4993450863033496114|1485313789|    4|\n",
            "|4993485206334150199|1470106850|    2|\n",
            "|4993519711854402788|1487369367|    2|\n",
            "|4993852637585406336|1494000490|    4|\n",
            "|4995584940873803432|1497289186|    2|\n",
            "|4995584940873803432|1498486477|    4|\n",
            "|4995606827430436569|1488143869|    2|\n",
            "|4995899860057743088|1474047117|    2|\n",
            "|4995924842281653133|1486131356|    2|\n",
            "+-------------------+----------+-----+\n",
            "\n"
          ]
        }
      ]
    },
    {
      "cell_type": "code",
      "source": [
        "raw_df\\\n",
        "      .withColumn('numHit',allHit.over(sessionWindow))\\\n",
        "      .withColumn('hitAction_type_6',sparkf.when(sparkf.col('hitAction_type')==6,1).otherwise(0))\\\n",
        "      .withColumn('sum_hitAction_type_6',sparkf.sum(sparkf.col('hitAction_type_6')).over(sessionWindow))\\\n",
        "      .filter((sparkf.col('fullVisitorId') == '4995924842281653133')&(sparkf.col('VisitId') == '1486131356'))\\\n",
        "      .select(['fullVisitorId','visitId','hitNumber','timeMicroSec','hitAction_type'\\\n",
        "               ,'numHit','hitAction_type_6','sum_hitAction_type_6'])\\\n",
        "      .orderBy('hitNumber').show()"
      ],
      "metadata": {
        "id": "NjxkYgHSF1Wk",
        "outputId": "91e8ebf3-8881-453e-e147-2c6ebe7e7390",
        "colab": {
          "base_uri": "https://localhost:8080/"
        }
      },
      "execution_count": 47,
      "outputs": [
        {
          "output_type": "stream",
          "name": "stdout",
          "text": [
            "+-------------------+----------+---------+------------+--------------+------+----------------+--------------------+\n",
            "|      fullVisitorId|   visitId|hitNumber|timeMicroSec|hitAction_type|numHit|hitAction_type_6|sum_hitAction_type_6|\n",
            "+-------------------+----------+---------+------------+--------------+------+----------------+--------------------+\n",
            "|4995924842281653133|1486131356|        2|       11890|             0|    20|               0|                   2|\n",
            "|4995924842281653133|1486131356|        3|       31696|             0|    20|               0|                   2|\n",
            "|4995924842281653133|1486131356|        3|       31696|             0|    20|               0|                   2|\n",
            "|4995924842281653133|1486131356|        3|       31696|             0|    20|               0|                   2|\n",
            "|4995924842281653133|1486131356|        3|       31696|             0|    20|               0|                   2|\n",
            "|4995924842281653133|1486131356|        4|       37239|             2|    20|               0|                   2|\n",
            "|4995924842281653133|1486131356|       10|       81537|             0|    20|               0|                   2|\n",
            "|4995924842281653133|1486131356|       10|       81537|             0|    20|               0|                   2|\n",
            "|4995924842281653133|1486131356|       10|       81537|             0|    20|               0|                   2|\n",
            "|4995924842281653133|1486131356|       10|       81537|             0|    20|               0|                   2|\n",
            "|4995924842281653133|1486131356|       10|       81537|             0|    20|               0|                   2|\n",
            "|4995924842281653133|1486131356|       16|      116200|             0|    20|               0|                   2|\n",
            "|4995924842281653133|1486131356|       16|      116200|             0|    20|               0|                   2|\n",
            "|4995924842281653133|1486131356|       16|      116200|             0|    20|               0|                   2|\n",
            "|4995924842281653133|1486131356|       16|      116200|             0|    20|               0|                   2|\n",
            "|4995924842281653133|1486131356|       16|      116200|             0|    20|               0|                   2|\n",
            "|4995924842281653133|1486131356|       25|      253469|             5|    20|               0|                   2|\n",
            "|4995924842281653133|1486131356|       26|      281733|             5|    20|               0|                   2|\n",
            "|4995924842281653133|1486131356|       30|      359711|             6|    20|               1|                   2|\n",
            "|4995924842281653133|1486131356|       30|      359711|             6|    20|               1|                   2|\n",
            "+-------------------+----------+---------+------------+--------------+------+----------------+--------------------+\n",
            "\n"
          ]
        }
      ]
    },
    {
      "cell_type": "code",
      "source": [
        "raw_df\\\n",
        "      .withColumn('numHit',allHit.over(sessionWindow))\\\n",
        "      .withColumn('hitAction_type_6',sparkf.when(sparkf.col('hitAction_type')==6,1).otherwise(0))\\\n",
        "      .withColumn('sum_hitAction_type_6',sparkf.sum(sparkf.col('hitAction_type_6')).over(sessionWindow))\\\n",
        "      .filter((sparkf.col('fullVisitorId') == '4988683855814257726')&(sparkf.col('VisitId') == '1492045051'))\\\n",
        "      .select(['fullVisitorId','visitId','hitNumber','timeMicroSec','hitAction_type'\\\n",
        "               ,'numHit','hitAction_type_6','sum_hitAction_type_6'])\\\n",
        "      .orderBy('hitNumber').show(100)"
      ],
      "metadata": {
        "id": "xbG54918F1Q2",
        "outputId": "fb146fda-2465-4579-a898-fccec7a5db05",
        "colab": {
          "base_uri": "https://localhost:8080/"
        }
      },
      "execution_count": 48,
      "outputs": [
        {
          "output_type": "stream",
          "name": "stdout",
          "text": [
            "+-------------------+----------+---------+------------+--------------+------+----------------+--------------------+\n",
            "|      fullVisitorId|   visitId|hitNumber|timeMicroSec|hitAction_type|numHit|hitAction_type_6|sum_hitAction_type_6|\n",
            "+-------------------+----------+---------+------------+--------------+------+----------------+--------------------+\n",
            "|4988683855814257726|1492045051|        2|       29151|             0|    55|               0|                   2|\n",
            "|4988683855814257726|1492045051|        2|       29151|             0|    55|               0|                   2|\n",
            "|4988683855814257726|1492045051|        2|       29151|             0|    55|               0|                   2|\n",
            "|4988683855814257726|1492045051|        2|       29151|             0|    55|               0|                   2|\n",
            "|4988683855814257726|1492045051|        2|       29151|             0|    55|               0|                   2|\n",
            "|4988683855814257726|1492045051|        2|       29151|             0|    55|               0|                   2|\n",
            "|4988683855814257726|1492045051|        2|       29151|             0|    55|               0|                   2|\n",
            "|4988683855814257726|1492045051|        2|       29151|             0|    55|               0|                   2|\n",
            "|4988683855814257726|1492045051|        2|       29151|             0|    55|               0|                   2|\n",
            "|4988683855814257726|1492045051|        2|       29151|             0|    55|               0|                   2|\n",
            "|4988683855814257726|1492045051|        2|       29151|             0|    55|               0|                   2|\n",
            "|4988683855814257726|1492045051|        2|       29151|             0|    55|               0|                   2|\n",
            "|4988683855814257726|1492045051|        3|       62305|             0|    55|               0|                   2|\n",
            "|4988683855814257726|1492045051|        3|       62305|             0|    55|               0|                   2|\n",
            "|4988683855814257726|1492045051|        3|       62305|             0|    55|               0|                   2|\n",
            "|4988683855814257726|1492045051|        3|       62305|             0|    55|               0|                   2|\n",
            "|4988683855814257726|1492045051|        3|       62305|             0|    55|               0|                   2|\n",
            "|4988683855814257726|1492045051|        3|       62305|             0|    55|               0|                   2|\n",
            "|4988683855814257726|1492045051|        3|       62305|             0|    55|               0|                   2|\n",
            "|4988683855814257726|1492045051|        3|       62305|             0|    55|               0|                   2|\n",
            "|4988683855814257726|1492045051|        3|       62305|             0|    55|               0|                   2|\n",
            "|4988683855814257726|1492045051|        3|       62305|             0|    55|               0|                   2|\n",
            "|4988683855814257726|1492045051|        3|       62305|             0|    55|               0|                   2|\n",
            "|4988683855814257726|1492045051|        3|       62305|             0|    55|               0|                   2|\n",
            "|4988683855814257726|1492045051|        4|       82771|             1|    55|               0|                   2|\n",
            "|4988683855814257726|1492045051|        5|       82771|             2|    55|               0|                   2|\n",
            "|4988683855814257726|1492045051|        6|       90238|             3|    55|               0|                   2|\n",
            "|4988683855814257726|1492045051|        7|      126091|             2|    55|               0|                   2|\n",
            "|4988683855814257726|1492045051|        8|      126091|             1|    55|               0|                   2|\n",
            "|4988683855814257726|1492045051|        9|      143594|             0|    55|               0|                   2|\n",
            "|4988683855814257726|1492045051|        9|      143594|             0|    55|               0|                   2|\n",
            "|4988683855814257726|1492045051|        9|      143594|             0|    55|               0|                   2|\n",
            "|4988683855814257726|1492045051|        9|      143594|             0|    55|               0|                   2|\n",
            "|4988683855814257726|1492045051|        9|      143594|             0|    55|               0|                   2|\n",
            "|4988683855814257726|1492045051|        9|      143594|             0|    55|               0|                   2|\n",
            "|4988683855814257726|1492045051|        9|      143594|             0|    55|               0|                   2|\n",
            "|4988683855814257726|1492045051|        9|      143594|             0|    55|               0|                   2|\n",
            "|4988683855814257726|1492045051|        9|      143594|             0|    55|               0|                   2|\n",
            "|4988683855814257726|1492045051|        9|      143594|             0|    55|               0|                   2|\n",
            "|4988683855814257726|1492045051|        9|      143594|             0|    55|               0|                   2|\n",
            "|4988683855814257726|1492045051|        9|      143594|             0|    55|               0|                   2|\n",
            "|4988683855814257726|1492045051|       11|      222205|             5|    55|               0|                   2|\n",
            "|4988683855814257726|1492045051|       12|      240245|             5|    55|               0|                   2|\n",
            "|4988683855814257726|1492045051|       13|      319362|             5|    55|               0|                   2|\n",
            "|4988683855814257726|1492045051|       14|      333522|             6|    55|               1|                   2|\n",
            "|4988683855814257726|1492045051|       15|      333523|             6|    55|               1|                   2|\n",
            "|4988683855814257726|1492045051|       16|      349201|             0|    55|               0|                   2|\n",
            "|4988683855814257726|1492045051|       16|      349201|             0|    55|               0|                   2|\n",
            "|4988683855814257726|1492045051|       16|      349201|             0|    55|               0|                   2|\n",
            "|4988683855814257726|1492045051|       16|      349201|             0|    55|               0|                   2|\n",
            "|4988683855814257726|1492045051|       16|      349201|             0|    55|               0|                   2|\n",
            "|4988683855814257726|1492045051|       16|      349201|             0|    55|               0|                   2|\n",
            "|4988683855814257726|1492045051|       16|      349201|             0|    55|               0|                   2|\n",
            "|4988683855814257726|1492045051|       16|      349201|             0|    55|               0|                   2|\n",
            "|4988683855814257726|1492045051|       16|      349201|             0|    55|               0|                   2|\n",
            "+-------------------+----------+---------+------------+--------------+------+----------------+--------------------+\n",
            "\n"
          ]
        }
      ]
    },
    {
      "cell_type": "code",
      "source": [
        "raw_df\\\n",
        "      .withColumn('numHit',allHit.over(sessionWindow))\\\n",
        "      .withColumn('hitAction_type_6',sparkf.when(sparkf.col('hitAction_type')==6,1).otherwise(0))\\\n",
        "      .withColumn('sum_hitAction_type_6',sparkf.sum(sparkf.col('hitAction_type_6')).over(sessionWindow))\\\n",
        "      .filter((sparkf.col('fullVisitorId') == '4988683855814257726')&(sparkf.col('VisitId') == '1492045051'))\\\n",
        "      .count()"
      ],
      "metadata": {
        "id": "N7r3n6t4F0zg",
        "outputId": "e3bb4c08-5927-428e-b0d7-b935c3c32c4a",
        "colab": {
          "base_uri": "https://localhost:8080/"
        }
      },
      "execution_count": 49,
      "outputs": [
        {
          "output_type": "execute_result",
          "data": {
            "text/plain": [
              "55"
            ]
          },
          "metadata": {},
          "execution_count": 49
        }
      ]
    },
    {
      "cell_type": "markdown",
      "source": [
        "*โค้ดด้านล่างแสดงให้เห็นว่า บาง visitId เท่านั้นนั้นที่ hitAction_type ตัวสุดท้ายเป็นเลข 6*"
      ],
      "metadata": {
        "id": "p_Ade4amSKqD"
      }
    },
    {
      "cell_type": "code",
      "source": [
        "Get_lastHitAction_Type = sparkf.last(sparkf.col('hitAction_type').cast(IntegerType()))"
      ],
      "metadata": {
        "id": "pKDPBIrT2NeT"
      },
      "execution_count": 50,
      "outputs": []
    },
    {
      "cell_type": "code",
      "source": [
        "raw_df.withColumn('numHit',allHit.over(sessionWindow))\\\n",
        "      .withColumn('lastHitAction_type',Get_lastHitAction_Type.over(sessionWindow))\\\n",
        "      .select('fullVisitorId','visitId','numHit','lastHitAction_type')\\\n",
        "      .filter(sparkf.col('lastHitAction_type') == 6)\\\n",
        "      .distinct().orderBy('fullVisitorId','visitId').show()"
      ],
      "metadata": {
        "id": "YKP9axEo3BY-",
        "outputId": "e6d3427d-6113-4435-f463-8b241ca67ef4",
        "colab": {
          "base_uri": "https://localhost:8080/"
        }
      },
      "execution_count": 51,
      "outputs": [
        {
          "output_type": "stream",
          "name": "stdout",
          "text": [
            "+-------------------+----------+------+------------------+\n",
            "|      fullVisitorId|   visitId|numHit|lastHitAction_type|\n",
            "+-------------------+----------+------+------------------+\n",
            "|4988612949713423910|1490043910|    25|                 6|\n",
            "|4993485206334150199|1470106850|    21|                 6|\n",
            "|4993519711854402788|1487369367|    10|                 6|\n",
            "|4993852637585406336|1494000490|    88|                 6|\n",
            "|4995584940873803432|1497289186|    20|                 6|\n",
            "|4995584940873803432|1498486477|    30|                 6|\n",
            "|4995606827430436569|1488143869|    28|                 6|\n",
            "|4995899860057743088|1474047117|    90|                 6|\n",
            "|4995924842281653133|1486131356|    20|                 6|\n",
            "+-------------------+----------+------+------------------+\n",
            "\n"
          ]
        }
      ]
    },
    {
      "cell_type": "code",
      "source": [
        "raw_df\\\n",
        "      .withColumn('numHit',allHit.over(sessionWindow))\\\n",
        "      .withColumn('hitAction_type_6',sparkf.when(sparkf.col('hitAction_type')==6,1).otherwise(0))\\\n",
        "      .withColumn('sum_hitAction_type_6',sparkf.sum(sparkf.col('hitAction_type_6')).over(sessionWindow))\\\n",
        ".filter((sparkf.col('fullVisitorId') == '4988683855814257726')&(sparkf.col('VisitId') == '1492045051'))\\\n",
        ".select(customerBehaviorCol_list)\\\n",
        ".orderBy('hitNumber').show(100)"
      ],
      "metadata": {
        "id": "uQniwU2R4Yob",
        "outputId": "1a859132-496f-457f-e966-16a7bda6b654",
        "colab": {
          "base_uri": "https://localhost:8080/"
        }
      },
      "execution_count": 52,
      "outputs": [
        {
          "output_type": "stream",
          "name": "stdout",
          "text": [
            "+--------+----------+---------+--------------+---------+------------+--------------------+----------+-----------------------+\n",
            "|  source|   visitId|newVisits|hitAction_type|hitNumber|timeMicroSec|       v2ProductName|timeOnSite|totalTransactionRevenue|\n",
            "+--------+----------+---------+--------------+---------+------------+--------------------+----------+-----------------------+\n",
            "|(direct)|1492045051|        1|             0|        2|       29151|Google Men's Long...|       349|               50790000|\n",
            "|(direct)|1492045051|        1|             0|        2|       29151|Google Men's Shor...|       349|               50790000|\n",
            "|(direct)|1492045051|        1|             0|        2|       29151|Google Men's Shor...|       349|               50790000|\n",
            "|(direct)|1492045051|        1|             0|        2|       29151|YouTube Men's Sho...|       349|               50790000|\n",
            "|(direct)|1492045051|        1|             0|        2|       29151|Google Men's Perf...|       349|               50790000|\n",
            "|(direct)|1492045051|        1|             0|        2|       29151|Google Men's Vint...|       349|               50790000|\n",
            "|(direct)|1492045051|        1|             0|        2|       29151|Google Men's 100%...|       349|               50790000|\n",
            "|(direct)|1492045051|        1|             0|        2|       29151|YouTube Men's Sho...|       349|               50790000|\n",
            "|(direct)|1492045051|        1|             0|        2|       29151|Google Men's 100%...|       349|               50790000|\n",
            "|(direct)|1492045051|        1|             0|        2|       29151|YouTube Men's Sho...|       349|               50790000|\n",
            "|(direct)|1492045051|        1|             0|        2|       29151|Google Men's 100%...|       349|               50790000|\n",
            "|(direct)|1492045051|        1|             0|        2|       29151|Google Men's 100%...|       349|               50790000|\n",
            "|(direct)|1492045051|        1|             0|        3|       62305|Google Men's Perf...|       349|               50790000|\n",
            "|(direct)|1492045051|        1|             0|        3|       62305|Google Men's Ligh...|       349|               50790000|\n",
            "|(direct)|1492045051|        1|             0|        3|       62305|Google Men's Weat...|       349|               50790000|\n",
            "|(direct)|1492045051|        1|             0|        3|       62305|Google Men's Conv...|       349|               50790000|\n",
            "|(direct)|1492045051|        1|             0|        3|       62305|Google Men's Quil...|       349|               50790000|\n",
            "|(direct)|1492045051|        1|             0|        3|       62305|Google Men's Micr...|       349|               50790000|\n",
            "|(direct)|1492045051|        1|             0|        3|       62305|Google Tri-blend ...|       349|               50790000|\n",
            "|(direct)|1492045051|        1|             0|        3|       62305|Google Men's Wate...|       349|               50790000|\n",
            "|(direct)|1492045051|        1|             0|        3|       62305|Google Men's Pull...|       349|               50790000|\n",
            "|(direct)|1492045051|        1|             0|        3|       62305|Android Men's  Zi...|       349|               50790000|\n",
            "|(direct)|1492045051|        1|             0|        3|       62305|Google Men's Quil...|       349|               50790000|\n",
            "|(direct)|1492045051|        1|             0|        3|       62305|Google Men's  Zip...|       349|               50790000|\n",
            "|(direct)|1492045051|        1|             1|        4|       82771|Google Men's  Zip...|       349|               50790000|\n",
            "|(direct)|1492045051|        1|             2|        5|       82771|Google Men's  Zip...|       349|               50790000|\n",
            "|(direct)|1492045051|        1|             3|        6|       90238|Google Men's  Zip...|       349|               50790000|\n",
            "|(direct)|1492045051|        1|             2|        7|      126091|Google Tri-blend ...|       349|               50790000|\n",
            "|(direct)|1492045051|        1|             1|        8|      126091|Google Tri-blend ...|       349|               50790000|\n",
            "|(direct)|1492045051|        1|             0|        9|      143594|Google Men's 100%...|       349|               50790000|\n",
            "|(direct)|1492045051|        1|             0|        9|      143594|YouTube Men's Sho...|       349|               50790000|\n",
            "|(direct)|1492045051|        1|             0|        9|      143594|Google Men's Long...|       349|               50790000|\n",
            "|(direct)|1492045051|        1|             0|        9|      143594|Google Men's 100%...|       349|               50790000|\n",
            "|(direct)|1492045051|        1|             0|        9|      143594|Google Men's  Zip...|       349|               50790000|\n",
            "|(direct)|1492045051|        1|             0|        9|      143594|Google Men's 100%...|       349|               50790000|\n",
            "|(direct)|1492045051|        1|             0|        9|      143594|Android Men's  Zi...|       349|               50790000|\n",
            "|(direct)|1492045051|        1|             0|        9|      143594|Google Men's Wate...|       349|               50790000|\n",
            "|(direct)|1492045051|        1|             0|        9|      143594|Google Men's 100%...|       349|               50790000|\n",
            "|(direct)|1492045051|        1|             0|        9|      143594|YouTube Men's Sho...|       349|               50790000|\n",
            "|(direct)|1492045051|        1|             0|        9|      143594|Google Men's Pull...|       349|               50790000|\n",
            "|(direct)|1492045051|        1|             0|        9|      143594|Google Men's Shor...|       349|               50790000|\n",
            "|(direct)|1492045051|        1|             5|       11|      222205|Google Men's  Zip...|       349|               50790000|\n",
            "|(direct)|1492045051|        1|             5|       12|      240245|Google Men's  Zip...|       349|               50790000|\n",
            "|(direct)|1492045051|        1|             5|       13|      319362|Google Men's  Zip...|       349|               50790000|\n",
            "|(direct)|1492045051|        1|             6|       14|      333522|Google Men's  Zip...|       349|               50790000|\n",
            "|(direct)|1492045051|        1|             6|       15|      333523|Google Men's  Zip...|       349|               50790000|\n",
            "|(direct)|1492045051|        1|             0|       16|      349201|Compact Bluetooth...|       349|               50790000|\n",
            "|(direct)|1492045051|        1|             0|       16|      349201|Google Bongo Cuph...|       349|               50790000|\n",
            "|(direct)|1492045051|        1|             0|       16|      349201|Google Water Resi...|       349|               50790000|\n",
            "|(direct)|1492045051|        1|             0|       16|      349201|Google Pocket Blu...|       349|               50790000|\n",
            "|(direct)|1492045051|        1|             0|       16|      349201|Metal Earbuds wit...|       349|               50790000|\n",
            "|(direct)|1492045051|        1|             0|       16|      349201|Micro Wireless Ea...|       349|               50790000|\n",
            "|(direct)|1492045051|        1|             0|       16|      349201|Google Bluetooth ...|       349|               50790000|\n",
            "|(direct)|1492045051|        1|             0|       16|      349201|Google G Noise-re...|       349|               50790000|\n",
            "|(direct)|1492045051|        1|             0|       16|      349201|Google Bluetooth ...|       349|               50790000|\n",
            "+--------+----------+---------+--------------+---------+------------+--------------------+----------+-----------------------+\n",
            "\n"
          ]
        }
      ]
    },
    {
      "cell_type": "code",
      "source": [],
      "metadata": {
        "id": "iFEMs_fx8FN9"
      },
      "execution_count": 52,
      "outputs": []
    },
    {
      "cell_type": "markdown",
      "source": [
        "# 3. Data Preparation"
      ],
      "metadata": {
        "id": "lWRsq4oEOzoC"
      }
    },
    {
      "cell_type": "code",
      "source": [
        "# Drop columns\n",
        "# 'source', 'sourceKeyword', 'isVideoAd', 'visitId', 'hitReferer', 'timeMicroSec', 'v2ProductName', 'timeOnScreen'\n",
        "\n",
        "# onehot\n",
        "# 'productListName', 'dayofweek', 'hitAction_type'\n",
        "\n",
        "# standardization (don't need)\n",
        "# 'timeOnSite', 'totalTransactionRevenue'"
      ],
      "metadata": {
        "id": "EJ7mXWCSN2XO"
      },
      "execution_count": 53,
      "outputs": []
    },
    {
      "cell_type": "markdown",
      "source": [
        "*โค้ดด้านล่าง แสดงการตรวจหาค่า null ว่าอยู่ที่ column และ row ใด*"
      ],
      "metadata": {
        "id": "N6_9w-fQ0SbV"
      }
    },
    {
      "cell_type": "code",
      "source": [
        "raw_df.filter(reduce(lambda a1, a2: a1 | a2,\\\n",
        "                     (sparkf.col(c).isNull() \\\n",
        "                      for c in raw_df.columns))).toPandas().transpose()"
      ],
      "metadata": {
        "id": "9MjFyzRXzs69",
        "outputId": "5ce0e420-890f-43f5-802b-84a8556456af",
        "colab": {
          "base_uri": "https://localhost:8080/",
          "height": 930
        }
      },
      "execution_count": 54,
      "outputs": [
        {
          "output_type": "execute_result",
          "data": {
            "text/plain": [
              "                                                                   0     \\\n",
              "source                                                           google   \n",
              "isTrueDirect                                                       True   \n",
              "sourceKeyword                                            (not provided)   \n",
              "medium                                                          organic   \n",
              "isVideoAd                                                          None   \n",
              "fullVisitorId                                       4988612949713423910   \n",
              "visitId                                                      1489617360   \n",
              "date                                                           20170315   \n",
              "newVisits                                                           NaN   \n",
              "hitReferer                                                         None   \n",
              "hitType                                                            PAGE   \n",
              "hitAction_type                                                        0   \n",
              "hitNumber                                                            28   \n",
              "hitHour                                                              15   \n",
              "hitMin                                                               46   \n",
              "timeMicroSec                                                     608771   \n",
              "v2ProductName            Google Accent Insulated Stainless Steel Bottle   \n",
              "productListName                                                Category   \n",
              "isClick                                                            None   \n",
              "isImpression                                                       True   \n",
              "sessionQualityDim                                                   NaN   \n",
              "timeOnScreen                                                       None   \n",
              "timeOnSite                                                       1897.0   \n",
              "totalTransactionRevenue                                             NaN   \n",
              "\n",
              "                                                    1                    2     \\\n",
              "source                                            google               google   \n",
              "isTrueDirect                                        True                 True   \n",
              "sourceKeyword                             (not provided)       (not provided)   \n",
              "medium                                           organic              organic   \n",
              "isVideoAd                                           None                 None   \n",
              "fullVisitorId                        4988612949713423910  4988612949713423910   \n",
              "visitId                                       1489617360           1489617360   \n",
              "date                                            20170315             20170315   \n",
              "newVisits                                            NaN                  NaN   \n",
              "hitReferer                                          None                 None   \n",
              "hitType                                             PAGE                 PAGE   \n",
              "hitAction_type                                         0                    0   \n",
              "hitNumber                                             27                   10   \n",
              "hitHour                                               15                   15   \n",
              "hitMin                                                46                   40   \n",
              "timeMicroSec                                      605064               264371   \n",
              "v2ProductName            Google Pocket Bluetooth Speaker  Android Luggage Tag   \n",
              "productListName                                 Category             Category   \n",
              "isClick                                             None                 None   \n",
              "isImpression                                        True                 True   \n",
              "sessionQualityDim                                    NaN                  NaN   \n",
              "timeOnScreen                                        None                 None   \n",
              "timeOnSite                                        1897.0               1897.0   \n",
              "totalTransactionRevenue                              NaN                  NaN   \n",
              "\n",
              "                                        3                         4     \\\n",
              "source                                google                    google   \n",
              "isTrueDirect                            True                      True   \n",
              "sourceKeyword                 (not provided)            (not provided)   \n",
              "medium                               organic                   organic   \n",
              "isVideoAd                               None                      None   \n",
              "fullVisitorId            4988612949713423910       4988612949713423910   \n",
              "visitId                           1489617360                1489617360   \n",
              "date                                20170315                  20170315   \n",
              "newVisits                                NaN                       NaN   \n",
              "hitReferer                              None                      None   \n",
              "hitType                                 PAGE                      PAGE   \n",
              "hitAction_type                             0                         0   \n",
              "hitNumber                                 44                        22   \n",
              "hitHour                                   16                        15   \n",
              "hitMin                                     6                        43   \n",
              "timeMicroSec                         1814141                    420004   \n",
              "v2ProductName            Red Shine 15 oz Mug  Suitcase Organizer Cubes   \n",
              "productListName                     Category                  Category   \n",
              "isClick                                 None                      None   \n",
              "isImpression                            True                      True   \n",
              "sessionQualityDim                        NaN                       NaN   \n",
              "timeOnScreen                            None                      None   \n",
              "timeOnSite                            1897.0                    1897.0   \n",
              "totalTransactionRevenue                  NaN                       NaN   \n",
              "\n",
              "                                          5     \\\n",
              "source                                  google   \n",
              "isTrueDirect                              True   \n",
              "sourceKeyword                   (not provided)   \n",
              "medium                                 organic   \n",
              "isVideoAd                                 None   \n",
              "fullVisitorId              4988612949713423910   \n",
              "visitId                             1489617360   \n",
              "date                                  20170315   \n",
              "newVisits                                  NaN   \n",
              "hitReferer                                None   \n",
              "hitType                                   PAGE   \n",
              "hitAction_type                               0   \n",
              "hitNumber                                   40   \n",
              "hitHour                                     15   \n",
              "hitMin                                      47   \n",
              "timeMicroSec                            668793   \n",
              "v2ProductName            Micro Wireless Earbud   \n",
              "productListName                       Category   \n",
              "isClick                                   None   \n",
              "isImpression                              True   \n",
              "sessionQualityDim                          NaN   \n",
              "timeOnScreen                              None   \n",
              "timeOnSite                              1897.0   \n",
              "totalTransactionRevenue                    NaN   \n",
              "\n",
              "                                                             6     \\\n",
              "source                                                     google   \n",
              "isTrueDirect                                                 True   \n",
              "sourceKeyword                                      (not provided)   \n",
              "medium                                                    organic   \n",
              "isVideoAd                                                    None   \n",
              "fullVisitorId                                 4988612949713423910   \n",
              "visitId                                                1489617360   \n",
              "date                                                     20170315   \n",
              "newVisits                                                     NaN   \n",
              "hitReferer                                                   None   \n",
              "hitType                                                      PAGE   \n",
              "hitAction_type                                                  0   \n",
              "hitNumber                                                      23   \n",
              "hitHour                                                        15   \n",
              "hitMin                                                         43   \n",
              "timeMicroSec                                               475751   \n",
              "v2ProductName            Google Water Resistant Bluetooth Speaker   \n",
              "productListName                                          Category   \n",
              "isClick                                                      None   \n",
              "isImpression                                                 True   \n",
              "sessionQualityDim                                             NaN   \n",
              "timeOnScreen                                                 None   \n",
              "timeOnSite                                                 1897.0   \n",
              "totalTransactionRevenue                                       NaN   \n",
              "\n",
              "                                             7                    8     \\\n",
              "source                                     google               google   \n",
              "isTrueDirect                                 True                 True   \n",
              "sourceKeyword                      (not provided)       (not provided)   \n",
              "medium                                    organic              organic   \n",
              "isVideoAd                                    None                 None   \n",
              "fullVisitorId                 4988612949713423910  4988612949713423910   \n",
              "visitId                                1489617360           1489617360   \n",
              "date                                     20170315             20170315   \n",
              "newVisits                                     NaN                  NaN   \n",
              "hitReferer                                   None                 None   \n",
              "hitType                                      PAGE                 PAGE   \n",
              "hitAction_type                                  0                    0   \n",
              "hitNumber                                       7                   10   \n",
              "hitHour                                        15                   15   \n",
              "hitMin                                         38                   40   \n",
              "timeMicroSec                               169534               264371   \n",
              "v2ProductName            Android Journal Book Set       Windup Android   \n",
              "productListName                          Category             Category   \n",
              "isClick                                      None                 None   \n",
              "isImpression                                 True                 True   \n",
              "sessionQualityDim                             NaN                  NaN   \n",
              "timeOnScreen                                 None                 None   \n",
              "timeOnSite                                 1897.0               1897.0   \n",
              "totalTransactionRevenue                       NaN                  NaN   \n",
              "\n",
              "                                           9     ...  \\\n",
              "source                                   google  ...   \n",
              "isTrueDirect                               True  ...   \n",
              "sourceKeyword                    (not provided)  ...   \n",
              "medium                                  organic  ...   \n",
              "isVideoAd                                  None  ...   \n",
              "fullVisitorId               4988612949713423910  ...   \n",
              "visitId                              1489617360  ...   \n",
              "date                                   20170315  ...   \n",
              "newVisits                                   NaN  ...   \n",
              "hitReferer                                 None  ...   \n",
              "hitType                                    PAGE  ...   \n",
              "hitAction_type                                0  ...   \n",
              "hitNumber                                     4  ...   \n",
              "hitHour                                      15  ...   \n",
              "hitMin                                       36  ...   \n",
              "timeMicroSec                               6901  ...   \n",
              "v2ProductName            Google Laptop Backpack  ...   \n",
              "productListName                Related Products  ...   \n",
              "isClick                                    None  ...   \n",
              "isImpression                               True  ...   \n",
              "sessionQualityDim                           NaN  ...   \n",
              "timeOnScreen                               None  ...   \n",
              "timeOnSite                               1897.0  ...   \n",
              "totalTransactionRevenue                     NaN  ...   \n",
              "\n",
              "                                                                9989  \\\n",
              "source                                                      (direct)   \n",
              "isTrueDirect                                                    True   \n",
              "sourceKeyword                                                   None   \n",
              "medium                                                        (none)   \n",
              "isVideoAd                                                       None   \n",
              "fullVisitorId                                    4995924842281653133   \n",
              "visitId                                                   1486131356   \n",
              "date                                                        20170203   \n",
              "newVisits                                                        NaN   \n",
              "hitReferer                                                      None   \n",
              "hitType                                                         PAGE   \n",
              "hitAction_type                                                     0   \n",
              "hitNumber                                                          3   \n",
              "hitHour                                                            6   \n",
              "hitMin                                                            16   \n",
              "timeMicroSec                                                   31696   \n",
              "v2ProductName            Google Men's Convertible Vest-Jacket Pewter   \n",
              "productListName                                             Category   \n",
              "isClick                                                         None   \n",
              "isImpression                                                    True   \n",
              "sessionQualityDim                                                NaN   \n",
              "timeOnScreen                                                    None   \n",
              "timeOnSite                                                     360.0   \n",
              "totalTransactionRevenue                                  128970000.0   \n",
              "\n",
              "                                                                      9990  \\\n",
              "source                                                            (direct)   \n",
              "isTrueDirect                                                          True   \n",
              "sourceKeyword                                                         None   \n",
              "medium                                                              (none)   \n",
              "isVideoAd                                                             None   \n",
              "fullVisitorId                                          4995924842281653133   \n",
              "visitId                                                         1486131356   \n",
              "date                                                              20170203   \n",
              "newVisits                                                              NaN   \n",
              "hitReferer                                                            None   \n",
              "hitType                                                               PAGE   \n",
              "hitAction_type                                                           0   \n",
              "hitNumber                                                               16   \n",
              "hitHour                                                                  6   \n",
              "hitMin                                                                  17   \n",
              "timeMicroSec                                                        116200   \n",
              "v2ProductName            Android Women's Long Sleeve Blended Cardigan Grey   \n",
              "productListName                                                   Category   \n",
              "isClick                                                               None   \n",
              "isImpression                                                          True   \n",
              "sessionQualityDim                                                      NaN   \n",
              "timeOnScreen                                                          None   \n",
              "timeOnSite                                                           360.0   \n",
              "totalTransactionRevenue                                        128970000.0   \n",
              "\n",
              "                                                                      9991  \\\n",
              "source                                                            (direct)   \n",
              "isTrueDirect                                                          True   \n",
              "sourceKeyword                                                         None   \n",
              "medium                                                              (none)   \n",
              "isVideoAd                                                             None   \n",
              "fullVisitorId                                          4995924842281653133   \n",
              "visitId                                                         1486131356   \n",
              "date                                                              20170203   \n",
              "newVisits                                                              NaN   \n",
              "hitReferer                                                            None   \n",
              "hitType                                                               PAGE   \n",
              "hitAction_type                                                           0   \n",
              "hitNumber                                                                3   \n",
              "hitHour                                                                  6   \n",
              "hitMin                                                                  16   \n",
              "timeMicroSec                                                         31696   \n",
              "v2ProductName            Google Men's Microfiber 1/4 Zip Pullover Grey/...   \n",
              "productListName                                                   Category   \n",
              "isClick                                                               None   \n",
              "isImpression                                                          True   \n",
              "sessionQualityDim                                                      NaN   \n",
              "timeOnScreen                                                          None   \n",
              "timeOnSite                                                           360.0   \n",
              "totalTransactionRevenue                                        128970000.0   \n",
              "\n",
              "                                                                      9992  \\\n",
              "source                                                            (direct)   \n",
              "isTrueDirect                                                          True   \n",
              "sourceKeyword                                                         None   \n",
              "medium                                                              (none)   \n",
              "isVideoAd                                                             None   \n",
              "fullVisitorId                                          4995924842281653133   \n",
              "visitId                                                         1486131356   \n",
              "date                                                              20170203   \n",
              "newVisits                                                              NaN   \n",
              "hitReferer                                                            None   \n",
              "hitType                                                               PAGE   \n",
              "hitAction_type                                                           0   \n",
              "hitNumber                                                               10   \n",
              "hitHour                                                                  6   \n",
              "hitMin                                                                  17   \n",
              "timeMicroSec                                                         81537   \n",
              "v2ProductName            Google Men's Microfiber 1/4 Zip Pullover Grey/...   \n",
              "productListName                                                   Category   \n",
              "isClick                                                               None   \n",
              "isImpression                                                          True   \n",
              "sessionQualityDim                                                      NaN   \n",
              "timeOnScreen                                                          None   \n",
              "timeOnSite                                                           360.0   \n",
              "totalTransactionRevenue                                        128970000.0   \n",
              "\n",
              "                                                              9993  \\\n",
              "source                                                    (direct)   \n",
              "isTrueDirect                                                  True   \n",
              "sourceKeyword                                                 None   \n",
              "medium                                                      (none)   \n",
              "isVideoAd                                                     None   \n",
              "fullVisitorId                                  4995924842281653133   \n",
              "visitId                                                 1486131356   \n",
              "date                                                      20170203   \n",
              "newVisits                                                      NaN   \n",
              "hitReferer                                                    None   \n",
              "hitType                                                       PAGE   \n",
              "hitAction_type                                                   0   \n",
              "hitNumber                                                       10   \n",
              "hitHour                                                          6   \n",
              "hitMin                                                          17   \n",
              "timeMicroSec                                                 81537   \n",
              "v2ProductName            Google Men's Quilted Insulated Vest Black   \n",
              "productListName                                           Category   \n",
              "isClick                                                       None   \n",
              "isImpression                                                  True   \n",
              "sessionQualityDim                                              NaN   \n",
              "timeOnScreen                                                  None   \n",
              "timeOnSite                                                   360.0   \n",
              "totalTransactionRevenue                                128970000.0   \n",
              "\n",
              "                                              9994  \\\n",
              "source                                    (direct)   \n",
              "isTrueDirect                                  True   \n",
              "sourceKeyword                                 None   \n",
              "medium                                      (none)   \n",
              "isVideoAd                                     None   \n",
              "fullVisitorId                  4995924842281653133   \n",
              "visitId                                 1486131356   \n",
              "date                                      20170203   \n",
              "newVisits                                      NaN   \n",
              "hitReferer                                    None   \n",
              "hitType                                       PAGE   \n",
              "hitAction_type                                   0   \n",
              "hitNumber                                        3   \n",
              "hitHour                                          6   \n",
              "hitMin                                          16   \n",
              "timeMicroSec                                 31696   \n",
              "v2ProductName            Android Men's  Zip Hoodie   \n",
              "productListName                           Category   \n",
              "isClick                                       None   \n",
              "isImpression                                  True   \n",
              "sessionQualityDim                              NaN   \n",
              "timeOnScreen                                  None   \n",
              "timeOnSite                                   360.0   \n",
              "totalTransactionRevenue                128970000.0   \n",
              "\n",
              "                                                 9995  \\\n",
              "source                                       (direct)   \n",
              "isTrueDirect                                     True   \n",
              "sourceKeyword                                    None   \n",
              "medium                                         (none)   \n",
              "isVideoAd                                        None   \n",
              "fullVisitorId                     4995924842281653133   \n",
              "visitId                                    1486131356   \n",
              "date                                         20170203   \n",
              "newVisits                                         NaN   \n",
              "hitReferer                                       None   \n",
              "hitType                                          PAGE   \n",
              "hitAction_type                                      0   \n",
              "hitNumber                                          16   \n",
              "hitHour                                             6   \n",
              "hitMin                                             17   \n",
              "timeMicroSec                                   116200   \n",
              "v2ProductName            Google Women's Fleece Hoodie   \n",
              "productListName                              Category   \n",
              "isClick                                          None   \n",
              "isImpression                                     True   \n",
              "sessionQualityDim                                 NaN   \n",
              "timeOnScreen                                     None   \n",
              "timeOnSite                                      360.0   \n",
              "totalTransactionRevenue                   128970000.0   \n",
              "\n",
              "                                                                 9996  \\\n",
              "source                                                       (direct)   \n",
              "isTrueDirect                                                     True   \n",
              "sourceKeyword                                                    None   \n",
              "medium                                                         (none)   \n",
              "isVideoAd                                                        None   \n",
              "fullVisitorId                                     4995924842281653133   \n",
              "visitId                                                    1486131356   \n",
              "date                                                         20170203   \n",
              "newVisits                                                         NaN   \n",
              "hitReferer                                                       None   \n",
              "hitType                                                          PAGE   \n",
              "hitAction_type                                                      0   \n",
              "hitNumber                                                          10   \n",
              "hitHour                                                             6   \n",
              "hitMin                                                             17   \n",
              "timeMicroSec                                                    81537   \n",
              "v2ProductName            Google Men's Weatherblock Shell Jacket Black   \n",
              "productListName                                              Category   \n",
              "isClick                                                          None   \n",
              "isImpression                                                     True   \n",
              "sessionQualityDim                                                 NaN   \n",
              "timeOnScreen                                                     None   \n",
              "timeOnSite                                                      360.0   \n",
              "totalTransactionRevenue                                   128970000.0   \n",
              "\n",
              "                                                 9997  \\\n",
              "source                                       (direct)   \n",
              "isTrueDirect                                     True   \n",
              "sourceKeyword                                    None   \n",
              "medium                                         (none)   \n",
              "isVideoAd                                        None   \n",
              "fullVisitorId                     4995924842281653133   \n",
              "visitId                                    1486131356   \n",
              "date                                         20170203   \n",
              "newVisits                                         NaN   \n",
              "hitReferer                                       None   \n",
              "hitType                                          PAGE   \n",
              "hitAction_type                                      6   \n",
              "hitNumber                                          30   \n",
              "hitHour                                             6   \n",
              "hitMin                                             21   \n",
              "timeMicroSec                                   359711   \n",
              "v2ProductName            Google Women's Fleece Hoodie   \n",
              "productListName                             (not set)   \n",
              "isClick                                          None   \n",
              "isImpression                                     None   \n",
              "sessionQualityDim                                 NaN   \n",
              "timeOnScreen                                     None   \n",
              "timeOnSite                                      360.0   \n",
              "totalTransactionRevenue                   128970000.0   \n",
              "\n",
              "                                                      9998  \n",
              "source                                            (direct)  \n",
              "isTrueDirect                                          True  \n",
              "sourceKeyword                                         None  \n",
              "medium                                              (none)  \n",
              "isVideoAd                                             None  \n",
              "fullVisitorId                          4995924842281653133  \n",
              "visitId                                         1486131356  \n",
              "date                                              20170203  \n",
              "newVisits                                              NaN  \n",
              "hitReferer                                            None  \n",
              "hitType                                               PAGE  \n",
              "hitAction_type                                           5  \n",
              "hitNumber                                               25  \n",
              "hitHour                                                  6  \n",
              "hitMin                                                  20  \n",
              "timeMicroSec                                        253469  \n",
              "v2ProductName            Google Men's Pullover Hoodie Grey  \n",
              "productListName                                  (not set)  \n",
              "isClick                                               None  \n",
              "isImpression                                          None  \n",
              "sessionQualityDim                                      NaN  \n",
              "timeOnScreen                                          None  \n",
              "timeOnSite                                           360.0  \n",
              "totalTransactionRevenue                        128970000.0  \n",
              "\n",
              "[24 rows x 9999 columns]"
            ],
            "text/html": [
              "\n",
              "  <div id=\"df-7f7ab40a-5e40-44d1-aa3b-b9c4df13a696\">\n",
              "    <div class=\"colab-df-container\">\n",
              "      <div>\n",
              "<style scoped>\n",
              "    .dataframe tbody tr th:only-of-type {\n",
              "        vertical-align: middle;\n",
              "    }\n",
              "\n",
              "    .dataframe tbody tr th {\n",
              "        vertical-align: top;\n",
              "    }\n",
              "\n",
              "    .dataframe thead th {\n",
              "        text-align: right;\n",
              "    }\n",
              "</style>\n",
              "<table border=\"1\" class=\"dataframe\">\n",
              "  <thead>\n",
              "    <tr style=\"text-align: right;\">\n",
              "      <th></th>\n",
              "      <th>0</th>\n",
              "      <th>1</th>\n",
              "      <th>2</th>\n",
              "      <th>3</th>\n",
              "      <th>4</th>\n",
              "      <th>5</th>\n",
              "      <th>6</th>\n",
              "      <th>7</th>\n",
              "      <th>8</th>\n",
              "      <th>9</th>\n",
              "      <th>...</th>\n",
              "      <th>9989</th>\n",
              "      <th>9990</th>\n",
              "      <th>9991</th>\n",
              "      <th>9992</th>\n",
              "      <th>9993</th>\n",
              "      <th>9994</th>\n",
              "      <th>9995</th>\n",
              "      <th>9996</th>\n",
              "      <th>9997</th>\n",
              "      <th>9998</th>\n",
              "    </tr>\n",
              "  </thead>\n",
              "  <tbody>\n",
              "    <tr>\n",
              "      <th>source</th>\n",
              "      <td>google</td>\n",
              "      <td>google</td>\n",
              "      <td>google</td>\n",
              "      <td>google</td>\n",
              "      <td>google</td>\n",
              "      <td>google</td>\n",
              "      <td>google</td>\n",
              "      <td>google</td>\n",
              "      <td>google</td>\n",
              "      <td>google</td>\n",
              "      <td>...</td>\n",
              "      <td>(direct)</td>\n",
              "      <td>(direct)</td>\n",
              "      <td>(direct)</td>\n",
              "      <td>(direct)</td>\n",
              "      <td>(direct)</td>\n",
              "      <td>(direct)</td>\n",
              "      <td>(direct)</td>\n",
              "      <td>(direct)</td>\n",
              "      <td>(direct)</td>\n",
              "      <td>(direct)</td>\n",
              "    </tr>\n",
              "    <tr>\n",
              "      <th>isTrueDirect</th>\n",
              "      <td>True</td>\n",
              "      <td>True</td>\n",
              "      <td>True</td>\n",
              "      <td>True</td>\n",
              "      <td>True</td>\n",
              "      <td>True</td>\n",
              "      <td>True</td>\n",
              "      <td>True</td>\n",
              "      <td>True</td>\n",
              "      <td>True</td>\n",
              "      <td>...</td>\n",
              "      <td>True</td>\n",
              "      <td>True</td>\n",
              "      <td>True</td>\n",
              "      <td>True</td>\n",
              "      <td>True</td>\n",
              "      <td>True</td>\n",
              "      <td>True</td>\n",
              "      <td>True</td>\n",
              "      <td>True</td>\n",
              "      <td>True</td>\n",
              "    </tr>\n",
              "    <tr>\n",
              "      <th>sourceKeyword</th>\n",
              "      <td>(not provided)</td>\n",
              "      <td>(not provided)</td>\n",
              "      <td>(not provided)</td>\n",
              "      <td>(not provided)</td>\n",
              "      <td>(not provided)</td>\n",
              "      <td>(not provided)</td>\n",
              "      <td>(not provided)</td>\n",
              "      <td>(not provided)</td>\n",
              "      <td>(not provided)</td>\n",
              "      <td>(not provided)</td>\n",
              "      <td>...</td>\n",
              "      <td>None</td>\n",
              "      <td>None</td>\n",
              "      <td>None</td>\n",
              "      <td>None</td>\n",
              "      <td>None</td>\n",
              "      <td>None</td>\n",
              "      <td>None</td>\n",
              "      <td>None</td>\n",
              "      <td>None</td>\n",
              "      <td>None</td>\n",
              "    </tr>\n",
              "    <tr>\n",
              "      <th>medium</th>\n",
              "      <td>organic</td>\n",
              "      <td>organic</td>\n",
              "      <td>organic</td>\n",
              "      <td>organic</td>\n",
              "      <td>organic</td>\n",
              "      <td>organic</td>\n",
              "      <td>organic</td>\n",
              "      <td>organic</td>\n",
              "      <td>organic</td>\n",
              "      <td>organic</td>\n",
              "      <td>...</td>\n",
              "      <td>(none)</td>\n",
              "      <td>(none)</td>\n",
              "      <td>(none)</td>\n",
              "      <td>(none)</td>\n",
              "      <td>(none)</td>\n",
              "      <td>(none)</td>\n",
              "      <td>(none)</td>\n",
              "      <td>(none)</td>\n",
              "      <td>(none)</td>\n",
              "      <td>(none)</td>\n",
              "    </tr>\n",
              "    <tr>\n",
              "      <th>isVideoAd</th>\n",
              "      <td>None</td>\n",
              "      <td>None</td>\n",
              "      <td>None</td>\n",
              "      <td>None</td>\n",
              "      <td>None</td>\n",
              "      <td>None</td>\n",
              "      <td>None</td>\n",
              "      <td>None</td>\n",
              "      <td>None</td>\n",
              "      <td>None</td>\n",
              "      <td>...</td>\n",
              "      <td>None</td>\n",
              "      <td>None</td>\n",
              "      <td>None</td>\n",
              "      <td>None</td>\n",
              "      <td>None</td>\n",
              "      <td>None</td>\n",
              "      <td>None</td>\n",
              "      <td>None</td>\n",
              "      <td>None</td>\n",
              "      <td>None</td>\n",
              "    </tr>\n",
              "    <tr>\n",
              "      <th>fullVisitorId</th>\n",
              "      <td>4988612949713423910</td>\n",
              "      <td>4988612949713423910</td>\n",
              "      <td>4988612949713423910</td>\n",
              "      <td>4988612949713423910</td>\n",
              "      <td>4988612949713423910</td>\n",
              "      <td>4988612949713423910</td>\n",
              "      <td>4988612949713423910</td>\n",
              "      <td>4988612949713423910</td>\n",
              "      <td>4988612949713423910</td>\n",
              "      <td>4988612949713423910</td>\n",
              "      <td>...</td>\n",
              "      <td>4995924842281653133</td>\n",
              "      <td>4995924842281653133</td>\n",
              "      <td>4995924842281653133</td>\n",
              "      <td>4995924842281653133</td>\n",
              "      <td>4995924842281653133</td>\n",
              "      <td>4995924842281653133</td>\n",
              "      <td>4995924842281653133</td>\n",
              "      <td>4995924842281653133</td>\n",
              "      <td>4995924842281653133</td>\n",
              "      <td>4995924842281653133</td>\n",
              "    </tr>\n",
              "    <tr>\n",
              "      <th>visitId</th>\n",
              "      <td>1489617360</td>\n",
              "      <td>1489617360</td>\n",
              "      <td>1489617360</td>\n",
              "      <td>1489617360</td>\n",
              "      <td>1489617360</td>\n",
              "      <td>1489617360</td>\n",
              "      <td>1489617360</td>\n",
              "      <td>1489617360</td>\n",
              "      <td>1489617360</td>\n",
              "      <td>1489617360</td>\n",
              "      <td>...</td>\n",
              "      <td>1486131356</td>\n",
              "      <td>1486131356</td>\n",
              "      <td>1486131356</td>\n",
              "      <td>1486131356</td>\n",
              "      <td>1486131356</td>\n",
              "      <td>1486131356</td>\n",
              "      <td>1486131356</td>\n",
              "      <td>1486131356</td>\n",
              "      <td>1486131356</td>\n",
              "      <td>1486131356</td>\n",
              "    </tr>\n",
              "    <tr>\n",
              "      <th>date</th>\n",
              "      <td>20170315</td>\n",
              "      <td>20170315</td>\n",
              "      <td>20170315</td>\n",
              "      <td>20170315</td>\n",
              "      <td>20170315</td>\n",
              "      <td>20170315</td>\n",
              "      <td>20170315</td>\n",
              "      <td>20170315</td>\n",
              "      <td>20170315</td>\n",
              "      <td>20170315</td>\n",
              "      <td>...</td>\n",
              "      <td>20170203</td>\n",
              "      <td>20170203</td>\n",
              "      <td>20170203</td>\n",
              "      <td>20170203</td>\n",
              "      <td>20170203</td>\n",
              "      <td>20170203</td>\n",
              "      <td>20170203</td>\n",
              "      <td>20170203</td>\n",
              "      <td>20170203</td>\n",
              "      <td>20170203</td>\n",
              "    </tr>\n",
              "    <tr>\n",
              "      <th>newVisits</th>\n",
              "      <td>NaN</td>\n",
              "      <td>NaN</td>\n",
              "      <td>NaN</td>\n",
              "      <td>NaN</td>\n",
              "      <td>NaN</td>\n",
              "      <td>NaN</td>\n",
              "      <td>NaN</td>\n",
              "      <td>NaN</td>\n",
              "      <td>NaN</td>\n",
              "      <td>NaN</td>\n",
              "      <td>...</td>\n",
              "      <td>NaN</td>\n",
              "      <td>NaN</td>\n",
              "      <td>NaN</td>\n",
              "      <td>NaN</td>\n",
              "      <td>NaN</td>\n",
              "      <td>NaN</td>\n",
              "      <td>NaN</td>\n",
              "      <td>NaN</td>\n",
              "      <td>NaN</td>\n",
              "      <td>NaN</td>\n",
              "    </tr>\n",
              "    <tr>\n",
              "      <th>hitReferer</th>\n",
              "      <td>None</td>\n",
              "      <td>None</td>\n",
              "      <td>None</td>\n",
              "      <td>None</td>\n",
              "      <td>None</td>\n",
              "      <td>None</td>\n",
              "      <td>None</td>\n",
              "      <td>None</td>\n",
              "      <td>None</td>\n",
              "      <td>None</td>\n",
              "      <td>...</td>\n",
              "      <td>None</td>\n",
              "      <td>None</td>\n",
              "      <td>None</td>\n",
              "      <td>None</td>\n",
              "      <td>None</td>\n",
              "      <td>None</td>\n",
              "      <td>None</td>\n",
              "      <td>None</td>\n",
              "      <td>None</td>\n",
              "      <td>None</td>\n",
              "    </tr>\n",
              "    <tr>\n",
              "      <th>hitType</th>\n",
              "      <td>PAGE</td>\n",
              "      <td>PAGE</td>\n",
              "      <td>PAGE</td>\n",
              "      <td>PAGE</td>\n",
              "      <td>PAGE</td>\n",
              "      <td>PAGE</td>\n",
              "      <td>PAGE</td>\n",
              "      <td>PAGE</td>\n",
              "      <td>PAGE</td>\n",
              "      <td>PAGE</td>\n",
              "      <td>...</td>\n",
              "      <td>PAGE</td>\n",
              "      <td>PAGE</td>\n",
              "      <td>PAGE</td>\n",
              "      <td>PAGE</td>\n",
              "      <td>PAGE</td>\n",
              "      <td>PAGE</td>\n",
              "      <td>PAGE</td>\n",
              "      <td>PAGE</td>\n",
              "      <td>PAGE</td>\n",
              "      <td>PAGE</td>\n",
              "    </tr>\n",
              "    <tr>\n",
              "      <th>hitAction_type</th>\n",
              "      <td>0</td>\n",
              "      <td>0</td>\n",
              "      <td>0</td>\n",
              "      <td>0</td>\n",
              "      <td>0</td>\n",
              "      <td>0</td>\n",
              "      <td>0</td>\n",
              "      <td>0</td>\n",
              "      <td>0</td>\n",
              "      <td>0</td>\n",
              "      <td>...</td>\n",
              "      <td>0</td>\n",
              "      <td>0</td>\n",
              "      <td>0</td>\n",
              "      <td>0</td>\n",
              "      <td>0</td>\n",
              "      <td>0</td>\n",
              "      <td>0</td>\n",
              "      <td>0</td>\n",
              "      <td>6</td>\n",
              "      <td>5</td>\n",
              "    </tr>\n",
              "    <tr>\n",
              "      <th>hitNumber</th>\n",
              "      <td>28</td>\n",
              "      <td>27</td>\n",
              "      <td>10</td>\n",
              "      <td>44</td>\n",
              "      <td>22</td>\n",
              "      <td>40</td>\n",
              "      <td>23</td>\n",
              "      <td>7</td>\n",
              "      <td>10</td>\n",
              "      <td>4</td>\n",
              "      <td>...</td>\n",
              "      <td>3</td>\n",
              "      <td>16</td>\n",
              "      <td>3</td>\n",
              "      <td>10</td>\n",
              "      <td>10</td>\n",
              "      <td>3</td>\n",
              "      <td>16</td>\n",
              "      <td>10</td>\n",
              "      <td>30</td>\n",
              "      <td>25</td>\n",
              "    </tr>\n",
              "    <tr>\n",
              "      <th>hitHour</th>\n",
              "      <td>15</td>\n",
              "      <td>15</td>\n",
              "      <td>15</td>\n",
              "      <td>16</td>\n",
              "      <td>15</td>\n",
              "      <td>15</td>\n",
              "      <td>15</td>\n",
              "      <td>15</td>\n",
              "      <td>15</td>\n",
              "      <td>15</td>\n",
              "      <td>...</td>\n",
              "      <td>6</td>\n",
              "      <td>6</td>\n",
              "      <td>6</td>\n",
              "      <td>6</td>\n",
              "      <td>6</td>\n",
              "      <td>6</td>\n",
              "      <td>6</td>\n",
              "      <td>6</td>\n",
              "      <td>6</td>\n",
              "      <td>6</td>\n",
              "    </tr>\n",
              "    <tr>\n",
              "      <th>hitMin</th>\n",
              "      <td>46</td>\n",
              "      <td>46</td>\n",
              "      <td>40</td>\n",
              "      <td>6</td>\n",
              "      <td>43</td>\n",
              "      <td>47</td>\n",
              "      <td>43</td>\n",
              "      <td>38</td>\n",
              "      <td>40</td>\n",
              "      <td>36</td>\n",
              "      <td>...</td>\n",
              "      <td>16</td>\n",
              "      <td>17</td>\n",
              "      <td>16</td>\n",
              "      <td>17</td>\n",
              "      <td>17</td>\n",
              "      <td>16</td>\n",
              "      <td>17</td>\n",
              "      <td>17</td>\n",
              "      <td>21</td>\n",
              "      <td>20</td>\n",
              "    </tr>\n",
              "    <tr>\n",
              "      <th>timeMicroSec</th>\n",
              "      <td>608771</td>\n",
              "      <td>605064</td>\n",
              "      <td>264371</td>\n",
              "      <td>1814141</td>\n",
              "      <td>420004</td>\n",
              "      <td>668793</td>\n",
              "      <td>475751</td>\n",
              "      <td>169534</td>\n",
              "      <td>264371</td>\n",
              "      <td>6901</td>\n",
              "      <td>...</td>\n",
              "      <td>31696</td>\n",
              "      <td>116200</td>\n",
              "      <td>31696</td>\n",
              "      <td>81537</td>\n",
              "      <td>81537</td>\n",
              "      <td>31696</td>\n",
              "      <td>116200</td>\n",
              "      <td>81537</td>\n",
              "      <td>359711</td>\n",
              "      <td>253469</td>\n",
              "    </tr>\n",
              "    <tr>\n",
              "      <th>v2ProductName</th>\n",
              "      <td>Google Accent Insulated Stainless Steel Bottle</td>\n",
              "      <td>Google Pocket Bluetooth Speaker</td>\n",
              "      <td>Android Luggage Tag</td>\n",
              "      <td>Red Shine 15 oz Mug</td>\n",
              "      <td>Suitcase Organizer Cubes</td>\n",
              "      <td>Micro Wireless Earbud</td>\n",
              "      <td>Google Water Resistant Bluetooth Speaker</td>\n",
              "      <td>Android Journal Book Set</td>\n",
              "      <td>Windup Android</td>\n",
              "      <td>Google Laptop Backpack</td>\n",
              "      <td>...</td>\n",
              "      <td>Google Men's Convertible Vest-Jacket Pewter</td>\n",
              "      <td>Android Women's Long Sleeve Blended Cardigan Grey</td>\n",
              "      <td>Google Men's Microfiber 1/4 Zip Pullover Grey/...</td>\n",
              "      <td>Google Men's Microfiber 1/4 Zip Pullover Grey/...</td>\n",
              "      <td>Google Men's Quilted Insulated Vest Black</td>\n",
              "      <td>Android Men's  Zip Hoodie</td>\n",
              "      <td>Google Women's Fleece Hoodie</td>\n",
              "      <td>Google Men's Weatherblock Shell Jacket Black</td>\n",
              "      <td>Google Women's Fleece Hoodie</td>\n",
              "      <td>Google Men's Pullover Hoodie Grey</td>\n",
              "    </tr>\n",
              "    <tr>\n",
              "      <th>productListName</th>\n",
              "      <td>Category</td>\n",
              "      <td>Category</td>\n",
              "      <td>Category</td>\n",
              "      <td>Category</td>\n",
              "      <td>Category</td>\n",
              "      <td>Category</td>\n",
              "      <td>Category</td>\n",
              "      <td>Category</td>\n",
              "      <td>Category</td>\n",
              "      <td>Related Products</td>\n",
              "      <td>...</td>\n",
              "      <td>Category</td>\n",
              "      <td>Category</td>\n",
              "      <td>Category</td>\n",
              "      <td>Category</td>\n",
              "      <td>Category</td>\n",
              "      <td>Category</td>\n",
              "      <td>Category</td>\n",
              "      <td>Category</td>\n",
              "      <td>(not set)</td>\n",
              "      <td>(not set)</td>\n",
              "    </tr>\n",
              "    <tr>\n",
              "      <th>isClick</th>\n",
              "      <td>None</td>\n",
              "      <td>None</td>\n",
              "      <td>None</td>\n",
              "      <td>None</td>\n",
              "      <td>None</td>\n",
              "      <td>None</td>\n",
              "      <td>None</td>\n",
              "      <td>None</td>\n",
              "      <td>None</td>\n",
              "      <td>None</td>\n",
              "      <td>...</td>\n",
              "      <td>None</td>\n",
              "      <td>None</td>\n",
              "      <td>None</td>\n",
              "      <td>None</td>\n",
              "      <td>None</td>\n",
              "      <td>None</td>\n",
              "      <td>None</td>\n",
              "      <td>None</td>\n",
              "      <td>None</td>\n",
              "      <td>None</td>\n",
              "    </tr>\n",
              "    <tr>\n",
              "      <th>isImpression</th>\n",
              "      <td>True</td>\n",
              "      <td>True</td>\n",
              "      <td>True</td>\n",
              "      <td>True</td>\n",
              "      <td>True</td>\n",
              "      <td>True</td>\n",
              "      <td>True</td>\n",
              "      <td>True</td>\n",
              "      <td>True</td>\n",
              "      <td>True</td>\n",
              "      <td>...</td>\n",
              "      <td>True</td>\n",
              "      <td>True</td>\n",
              "      <td>True</td>\n",
              "      <td>True</td>\n",
              "      <td>True</td>\n",
              "      <td>True</td>\n",
              "      <td>True</td>\n",
              "      <td>True</td>\n",
              "      <td>None</td>\n",
              "      <td>None</td>\n",
              "    </tr>\n",
              "    <tr>\n",
              "      <th>sessionQualityDim</th>\n",
              "      <td>NaN</td>\n",
              "      <td>NaN</td>\n",
              "      <td>NaN</td>\n",
              "      <td>NaN</td>\n",
              "      <td>NaN</td>\n",
              "      <td>NaN</td>\n",
              "      <td>NaN</td>\n",
              "      <td>NaN</td>\n",
              "      <td>NaN</td>\n",
              "      <td>NaN</td>\n",
              "      <td>...</td>\n",
              "      <td>NaN</td>\n",
              "      <td>NaN</td>\n",
              "      <td>NaN</td>\n",
              "      <td>NaN</td>\n",
              "      <td>NaN</td>\n",
              "      <td>NaN</td>\n",
              "      <td>NaN</td>\n",
              "      <td>NaN</td>\n",
              "      <td>NaN</td>\n",
              "      <td>NaN</td>\n",
              "    </tr>\n",
              "    <tr>\n",
              "      <th>timeOnScreen</th>\n",
              "      <td>None</td>\n",
              "      <td>None</td>\n",
              "      <td>None</td>\n",
              "      <td>None</td>\n",
              "      <td>None</td>\n",
              "      <td>None</td>\n",
              "      <td>None</td>\n",
              "      <td>None</td>\n",
              "      <td>None</td>\n",
              "      <td>None</td>\n",
              "      <td>...</td>\n",
              "      <td>None</td>\n",
              "      <td>None</td>\n",
              "      <td>None</td>\n",
              "      <td>None</td>\n",
              "      <td>None</td>\n",
              "      <td>None</td>\n",
              "      <td>None</td>\n",
              "      <td>None</td>\n",
              "      <td>None</td>\n",
              "      <td>None</td>\n",
              "    </tr>\n",
              "    <tr>\n",
              "      <th>timeOnSite</th>\n",
              "      <td>1897.0</td>\n",
              "      <td>1897.0</td>\n",
              "      <td>1897.0</td>\n",
              "      <td>1897.0</td>\n",
              "      <td>1897.0</td>\n",
              "      <td>1897.0</td>\n",
              "      <td>1897.0</td>\n",
              "      <td>1897.0</td>\n",
              "      <td>1897.0</td>\n",
              "      <td>1897.0</td>\n",
              "      <td>...</td>\n",
              "      <td>360.0</td>\n",
              "      <td>360.0</td>\n",
              "      <td>360.0</td>\n",
              "      <td>360.0</td>\n",
              "      <td>360.0</td>\n",
              "      <td>360.0</td>\n",
              "      <td>360.0</td>\n",
              "      <td>360.0</td>\n",
              "      <td>360.0</td>\n",
              "      <td>360.0</td>\n",
              "    </tr>\n",
              "    <tr>\n",
              "      <th>totalTransactionRevenue</th>\n",
              "      <td>NaN</td>\n",
              "      <td>NaN</td>\n",
              "      <td>NaN</td>\n",
              "      <td>NaN</td>\n",
              "      <td>NaN</td>\n",
              "      <td>NaN</td>\n",
              "      <td>NaN</td>\n",
              "      <td>NaN</td>\n",
              "      <td>NaN</td>\n",
              "      <td>NaN</td>\n",
              "      <td>...</td>\n",
              "      <td>128970000.0</td>\n",
              "      <td>128970000.0</td>\n",
              "      <td>128970000.0</td>\n",
              "      <td>128970000.0</td>\n",
              "      <td>128970000.0</td>\n",
              "      <td>128970000.0</td>\n",
              "      <td>128970000.0</td>\n",
              "      <td>128970000.0</td>\n",
              "      <td>128970000.0</td>\n",
              "      <td>128970000.0</td>\n",
              "    </tr>\n",
              "  </tbody>\n",
              "</table>\n",
              "<p>24 rows × 9999 columns</p>\n",
              "</div>\n",
              "      <button class=\"colab-df-convert\" onclick=\"convertToInteractive('df-7f7ab40a-5e40-44d1-aa3b-b9c4df13a696')\"\n",
              "              title=\"Convert this dataframe to an interactive table.\"\n",
              "              style=\"display:none;\">\n",
              "        \n",
              "  <svg xmlns=\"http://www.w3.org/2000/svg\" height=\"24px\"viewBox=\"0 0 24 24\"\n",
              "       width=\"24px\">\n",
              "    <path d=\"M0 0h24v24H0V0z\" fill=\"none\"/>\n",
              "    <path d=\"M18.56 5.44l.94 2.06.94-2.06 2.06-.94-2.06-.94-.94-2.06-.94 2.06-2.06.94zm-11 1L8.5 8.5l.94-2.06 2.06-.94-2.06-.94L8.5 2.5l-.94 2.06-2.06.94zm10 10l.94 2.06.94-2.06 2.06-.94-2.06-.94-.94-2.06-.94 2.06-2.06.94z\"/><path d=\"M17.41 7.96l-1.37-1.37c-.4-.4-.92-.59-1.43-.59-.52 0-1.04.2-1.43.59L10.3 9.45l-7.72 7.72c-.78.78-.78 2.05 0 2.83L4 21.41c.39.39.9.59 1.41.59.51 0 1.02-.2 1.41-.59l7.78-7.78 2.81-2.81c.8-.78.8-2.07 0-2.86zM5.41 20L4 18.59l7.72-7.72 1.47 1.35L5.41 20z\"/>\n",
              "  </svg>\n",
              "      </button>\n",
              "      \n",
              "  <style>\n",
              "    .colab-df-container {\n",
              "      display:flex;\n",
              "      flex-wrap:wrap;\n",
              "      gap: 12px;\n",
              "    }\n",
              "\n",
              "    .colab-df-convert {\n",
              "      background-color: #E8F0FE;\n",
              "      border: none;\n",
              "      border-radius: 50%;\n",
              "      cursor: pointer;\n",
              "      display: none;\n",
              "      fill: #1967D2;\n",
              "      height: 32px;\n",
              "      padding: 0 0 0 0;\n",
              "      width: 32px;\n",
              "    }\n",
              "\n",
              "    .colab-df-convert:hover {\n",
              "      background-color: #E2EBFA;\n",
              "      box-shadow: 0px 1px 2px rgba(60, 64, 67, 0.3), 0px 1px 3px 1px rgba(60, 64, 67, 0.15);\n",
              "      fill: #174EA6;\n",
              "    }\n",
              "\n",
              "    [theme=dark] .colab-df-convert {\n",
              "      background-color: #3B4455;\n",
              "      fill: #D2E3FC;\n",
              "    }\n",
              "\n",
              "    [theme=dark] .colab-df-convert:hover {\n",
              "      background-color: #434B5C;\n",
              "      box-shadow: 0px 1px 3px 1px rgba(0, 0, 0, 0.15);\n",
              "      filter: drop-shadow(0px 1px 2px rgba(0, 0, 0, 0.3));\n",
              "      fill: #FFFFFF;\n",
              "    }\n",
              "  </style>\n",
              "\n",
              "      <script>\n",
              "        const buttonEl =\n",
              "          document.querySelector('#df-7f7ab40a-5e40-44d1-aa3b-b9c4df13a696 button.colab-df-convert');\n",
              "        buttonEl.style.display =\n",
              "          google.colab.kernel.accessAllowed ? 'block' : 'none';\n",
              "\n",
              "        async function convertToInteractive(key) {\n",
              "          const element = document.querySelector('#df-7f7ab40a-5e40-44d1-aa3b-b9c4df13a696');\n",
              "          const dataTable =\n",
              "            await google.colab.kernel.invokeFunction('convertToInteractive',\n",
              "                                                     [key], {});\n",
              "          if (!dataTable) return;\n",
              "\n",
              "          const docLinkHtml = 'Like what you see? Visit the ' +\n",
              "            '<a target=\"_blank\" href=https://colab.research.google.com/notebooks/data_table.ipynb>data table notebook</a>'\n",
              "            + ' to learn more about interactive tables.';\n",
              "          element.innerHTML = '';\n",
              "          dataTable['output_type'] = 'display_data';\n",
              "          await google.colab.output.renderOutput(dataTable, element);\n",
              "          const docLink = document.createElement('div');\n",
              "          docLink.innerHTML = docLinkHtml;\n",
              "          element.appendChild(docLink);\n",
              "        }\n",
              "      </script>\n",
              "    </div>\n",
              "  </div>\n",
              "  "
            ]
          },
          "metadata": {},
          "execution_count": 54
        }
      ]
    },
    {
      "cell_type": "code",
      "source": [
        "df2 = raw_df.withColumn('isTrueDirect', sparkf.when(raw_df.isTrueDirect == 'true', 1).otherwise(0)) \\\n",
        ".withColumn('medium_organic', sparkf.when(raw_df.medium == 'organic', 1).otherwise(0)) \\\n",
        ".withColumn('dayofweek', sparkf.dayofweek(sparkf.to_date(sparkf.col('date').cast('string'), 'yyyyMMdd'))) \\\n",
        ".withColumn('newVisits', sparkf.when(raw_df.newVisits == '1', 1).otherwise(0)) \\\n",
        ".withColumn('hitType_page', sparkf.when(raw_df.hitType == 'PAGE', 1).otherwise(0)) \\\n",
        ".withColumn('purchased', sparkf.when(raw_df.hitAction_type == 6, 1).otherwise(0)) \\\n",
        ".withColumn('hitHour_00_02', sparkf.when((raw_df.hitHour >= 0) & (raw_df.hitHour <= 2), 1).otherwise(0)) \\\n",
        ".withColumn('hitHour_03_05', sparkf.when((raw_df.hitHour >= 3) & (raw_df.hitHour <= 5), 1).otherwise(0)) \\\n",
        ".withColumn('hitHour_06_08', sparkf.when((raw_df.hitHour >= 6) & (raw_df.hitHour <= 8), 1).otherwise(0)) \\\n",
        ".withColumn('hitHour_09_11', sparkf.when((raw_df.hitHour >= 9) & (raw_df.hitHour <= 11), 1).otherwise(0)) \\\n",
        ".withColumn('hitHour_12_14', sparkf.when((raw_df.hitHour >= 12) & (raw_df.hitHour <= 14), 1).otherwise(0)) \\\n",
        ".withColumn('hitHour_15_17', sparkf.when((raw_df.hitHour >= 15) & (raw_df.hitHour <= 17), 1).otherwise(0)) \\\n",
        ".withColumn('hitHour_18_20', sparkf.when((raw_df.hitHour >= 18) & (raw_df.hitHour <= 20), 1).otherwise(0)) \\\n",
        ".withColumn('hitHour_21_23', sparkf.when((raw_df.hitHour >= 21) & (raw_df.hitHour <= 23), 1).otherwise(0)) \\\n",
        ".withColumn('hitMin_00_14', sparkf.when((raw_df.hitMin >= 0) & (raw_df.hitHour < 15), 1).otherwise(0)) \\\n",
        ".withColumn('hitMin_15_29', sparkf.when((raw_df.hitMin >= 15) & (raw_df.hitHour < 30), 1).otherwise(0)) \\\n",
        ".withColumn('hitMin_30_44', sparkf.when((raw_df.hitMin >= 30) & (raw_df.hitHour < 45), 1).otherwise(0)) \\\n",
        ".withColumn('hitMin_45_60', sparkf.when((raw_df.hitMin >= 45) & (raw_df.hitHour < 60), 1).otherwise(0)) \\\n",
        ".withColumn('isClick', sparkf.when(raw_df.isClick, 1).otherwise(0)) \\\n",
        ".withColumn('isImpression', sparkf.when(raw_df.isImpression, 1).otherwise(0)) \\\n",
        ".withColumn('hitaction_1', sparkf.when(raw_df.hitAction_type == 1, 1).otherwise(0)) \\\n",
        ".withColumn('hitaction_2', sparkf.when(raw_df.hitAction_type == 2, 1).otherwise(0)) \\\n",
        ".withColumn('hitaction_3', sparkf.when(raw_df.hitAction_type == 3, 1).otherwise(0)) \\\n",
        ".withColumn('hitaction_4', sparkf.when(raw_df.hitAction_type == 4, 1).otherwise(0)) \\\n",
        ".withColumn('hitaction_5', sparkf.when(raw_df.hitAction_type == 5, 1).otherwise(0)) \\\n",
        ".withColumn('hitaction_6', sparkf.when(raw_df.hitAction_type == 6, 1).otherwise(0)) \\\n",
        ".na.fill(value=0, subset=['timeOnSite', 'sessionQualityDim', 'totalTransactionRevenue'])\n",
        "# .drop('source', 'medium', 'date', 'hitType', 'hitHour', 'hitMin', 'sourceKeyword', 'isVideoAd', 'fullVisitorId', 'visitId', 'hitReferer', 'timeMicroSec', 'v2ProductName', 'timeOnScreen')"
      ],
      "metadata": {
        "id": "G4R-a_OsRnCm"
      },
      "execution_count": 55,
      "outputs": []
    },
    {
      "cell_type": "code",
      "source": [
        "df2.printSchema() ##Aekanun"
      ],
      "metadata": {
        "id": "ubUZR3h-anFo",
        "outputId": "7e87742c-9b58-4f36-caf5-566efbaddd31",
        "colab": {
          "base_uri": "https://localhost:8080/"
        }
      },
      "execution_count": 56,
      "outputs": [
        {
          "output_type": "stream",
          "name": "stdout",
          "text": [
            "root\n",
            " |-- source: string (nullable = true)\n",
            " |-- isTrueDirect: integer (nullable = false)\n",
            " |-- sourceKeyword: string (nullable = true)\n",
            " |-- medium: string (nullable = true)\n",
            " |-- isVideoAd: boolean (nullable = true)\n",
            " |-- fullVisitorId: long (nullable = true)\n",
            " |-- visitId: integer (nullable = true)\n",
            " |-- date: integer (nullable = true)\n",
            " |-- newVisits: integer (nullable = false)\n",
            " |-- hitReferer: string (nullable = true)\n",
            " |-- hitType: string (nullable = true)\n",
            " |-- hitAction_type: integer (nullable = true)\n",
            " |-- hitNumber: integer (nullable = true)\n",
            " |-- hitHour: integer (nullable = true)\n",
            " |-- hitMin: integer (nullable = true)\n",
            " |-- timeMicroSec: integer (nullable = true)\n",
            " |-- v2ProductName: string (nullable = true)\n",
            " |-- productListName: string (nullable = true)\n",
            " |-- isClick: integer (nullable = false)\n",
            " |-- isImpression: integer (nullable = false)\n",
            " |-- sessionQualityDim: integer (nullable = true)\n",
            " |-- timeOnScreen: string (nullable = true)\n",
            " |-- timeOnSite: integer (nullable = true)\n",
            " |-- totalTransactionRevenue: integer (nullable = true)\n",
            " |-- medium_organic: integer (nullable = false)\n",
            " |-- dayofweek: integer (nullable = true)\n",
            " |-- hitType_page: integer (nullable = false)\n",
            " |-- purchased: integer (nullable = false)\n",
            " |-- hitHour_00_02: integer (nullable = false)\n",
            " |-- hitHour_03_05: integer (nullable = false)\n",
            " |-- hitHour_06_08: integer (nullable = false)\n",
            " |-- hitHour_09_11: integer (nullable = false)\n",
            " |-- hitHour_12_14: integer (nullable = false)\n",
            " |-- hitHour_15_17: integer (nullable = false)\n",
            " |-- hitHour_18_20: integer (nullable = false)\n",
            " |-- hitHour_21_23: integer (nullable = false)\n",
            " |-- hitMin_00_14: integer (nullable = false)\n",
            " |-- hitMin_15_29: integer (nullable = false)\n",
            " |-- hitMin_30_44: integer (nullable = false)\n",
            " |-- hitMin_45_60: integer (nullable = false)\n",
            " |-- hitaction_1: integer (nullable = false)\n",
            " |-- hitaction_2: integer (nullable = false)\n",
            " |-- hitaction_3: integer (nullable = false)\n",
            " |-- hitaction_4: integer (nullable = false)\n",
            " |-- hitaction_5: integer (nullable = false)\n",
            " |-- hitaction_6: integer (nullable = false)\n",
            "\n"
          ]
        }
      ]
    },
    {
      "cell_type": "code",
      "source": [
        "df2.show()"
      ],
      "metadata": {
        "id": "-yDVp_DEmOjS",
        "outputId": "5413edd9-c293-46f8-b2b5-a4d5f108a2d5",
        "colab": {
          "base_uri": "https://localhost:8080/"
        }
      },
      "execution_count": 57,
      "outputs": [
        {
          "output_type": "stream",
          "name": "stdout",
          "text": [
            "+------+------------+--------------+-------+---------+-------------------+----------+--------+---------+----------+-------+--------------+---------+-------+------+------------+--------------------+----------------+-------+------------+-----------------+------------+----------+-----------------------+--------------+---------+------------+---------+-------------+-------------+-------------+-------------+-------------+-------------+-------------+-------------+------------+------------+------------+------------+-----------+-----------+-----------+-----------+-----------+-----------+\n",
            "|source|isTrueDirect| sourceKeyword| medium|isVideoAd|      fullVisitorId|   visitId|    date|newVisits|hitReferer|hitType|hitAction_type|hitNumber|hitHour|hitMin|timeMicroSec|       v2ProductName| productListName|isClick|isImpression|sessionQualityDim|timeOnScreen|timeOnSite|totalTransactionRevenue|medium_organic|dayofweek|hitType_page|purchased|hitHour_00_02|hitHour_03_05|hitHour_06_08|hitHour_09_11|hitHour_12_14|hitHour_15_17|hitHour_18_20|hitHour_21_23|hitMin_00_14|hitMin_15_29|hitMin_30_44|hitMin_45_60|hitaction_1|hitaction_2|hitaction_3|hitaction_4|hitaction_5|hitaction_6|\n",
            "+------+------------+--------------+-------+---------+-------------------+----------+--------+---------+----------+-------+--------------+---------+-------+------+------------+--------------------+----------------+-------+------------+-----------------+------------+----------+-----------------------+--------------+---------+------------+---------+-------------+-------------+-------------+-------------+-------------+-------------+-------------+-------------+------------+------------+------------+------------+-----------+-----------+-----------+-----------+-----------+-----------+\n",
            "|google|           1|(not provided)|organic|     null|4988612949713423910|1489617360|20170315|        0|      null|   PAGE|             0|       28|     15|    46|      608771|Google Accent Ins...|        Category|      0|           1|                0|        null|      1897|                      0|             1|        4|           1|        0|            0|            0|            0|            0|            0|            1|            0|            0|           0|           1|           1|           1|          0|          0|          0|          0|          0|          0|\n",
            "|google|           1|(not provided)|organic|     null|4988612949713423910|1489617360|20170315|        0|      null|   PAGE|             0|       27|     15|    46|      605064|Google Pocket Blu...|        Category|      0|           1|                0|        null|      1897|                      0|             1|        4|           1|        0|            0|            0|            0|            0|            0|            1|            0|            0|           0|           1|           1|           1|          0|          0|          0|          0|          0|          0|\n",
            "|google|           1|(not provided)|organic|     null|4988612949713423910|1489617360|20170315|        0|      null|   PAGE|             0|       10|     15|    40|      264371| Android Luggage Tag|        Category|      0|           1|                0|        null|      1897|                      0|             1|        4|           1|        0|            0|            0|            0|            0|            0|            1|            0|            0|           0|           1|           1|           0|          0|          0|          0|          0|          0|          0|\n",
            "|google|           1|(not provided)|organic|     null|4988612949713423910|1489617360|20170315|        0|      null|   PAGE|             0|       44|     16|     6|     1814141| Red Shine 15 oz Mug|        Category|      0|           1|                0|        null|      1897|                      0|             1|        4|           1|        0|            0|            0|            0|            0|            0|            1|            0|            0|           0|           0|           0|           0|          0|          0|          0|          0|          0|          0|\n",
            "|google|           1|(not provided)|organic|     null|4988612949713423910|1489617360|20170315|        0|      null|   PAGE|             0|       22|     15|    43|      420004|Suitcase Organize...|        Category|      0|           1|                0|        null|      1897|                      0|             1|        4|           1|        0|            0|            0|            0|            0|            0|            1|            0|            0|           0|           1|           1|           0|          0|          0|          0|          0|          0|          0|\n",
            "|google|           1|(not provided)|organic|     null|4988612949713423910|1489617360|20170315|        0|      null|   PAGE|             0|       40|     15|    47|      668793|Micro Wireless Ea...|        Category|      0|           1|                0|        null|      1897|                      0|             1|        4|           1|        0|            0|            0|            0|            0|            0|            1|            0|            0|           0|           1|           1|           1|          0|          0|          0|          0|          0|          0|\n",
            "|google|           1|(not provided)|organic|     null|4988612949713423910|1489617360|20170315|        0|      null|   PAGE|             0|       23|     15|    43|      475751|Google Water Resi...|        Category|      0|           1|                0|        null|      1897|                      0|             1|        4|           1|        0|            0|            0|            0|            0|            0|            1|            0|            0|           0|           1|           1|           0|          0|          0|          0|          0|          0|          0|\n",
            "|google|           1|(not provided)|organic|     null|4988612949713423910|1489617360|20170315|        0|      null|   PAGE|             0|        7|     15|    38|      169534|Android Journal B...|        Category|      0|           1|                0|        null|      1897|                      0|             1|        4|           1|        0|            0|            0|            0|            0|            0|            1|            0|            0|           0|           1|           1|           0|          0|          0|          0|          0|          0|          0|\n",
            "|google|           1|(not provided)|organic|     null|4988612949713423910|1489617360|20170315|        0|      null|   PAGE|             0|       10|     15|    40|      264371|      Windup Android|        Category|      0|           1|                0|        null|      1897|                      0|             1|        4|           1|        0|            0|            0|            0|            0|            0|            1|            0|            0|           0|           1|           1|           0|          0|          0|          0|          0|          0|          0|\n",
            "|google|           1|(not provided)|organic|     null|4988612949713423910|1489617360|20170315|        0|      null|   PAGE|             0|        4|     15|    36|        6901|Google Laptop Bac...|Related Products|      0|           1|                0|        null|      1897|                      0|             1|        4|           1|        0|            0|            0|            0|            0|            0|            1|            0|            0|           0|           1|           1|           0|          0|          0|          0|          0|          0|          0|\n",
            "|google|           1|(not provided)|organic|     null|4988612949713423910|1489617360|20170315|        0|      null|   PAGE|             0|       20|     15|    41|      332236|YouTube Wool Heat...|        Category|      0|           1|                0|        null|      1897|                      0|             1|        4|           1|        0|            0|            0|            0|            0|            0|            1|            0|            0|           0|           1|           1|           0|          0|          0|          0|          0|          0|          0|\n",
            "|google|           1|(not provided)|organic|     null|4988612949713423910|1489617360|20170315|        0|      null|   PAGE|             0|       22|     15|    43|      420004| Waterproof Backpack|        Category|      0|           1|                0|        null|      1897|                      0|             1|        4|           1|        0|            0|            0|            0|            0|            0|            1|            0|            0|           0|           1|           1|           0|          0|          0|          0|          0|          0|          0|\n",
            "|google|           1|(not provided)|organic|     null|4988612949713423910|1489617360|20170315|        0|      null|   PAGE|             0|       23|     15|    43|      475751|Micro Wireless Ea...|        Category|      0|           1|                0|        null|      1897|                      0|             1|        4|           1|        0|            0|            0|            0|            0|            0|            1|            0|            0|           0|           1|           1|           0|          0|          0|          0|          0|          0|          0|\n",
            "|google|           1|(not provided)|organic|     null|4988612949713423910|1489617360|20170315|        0|      null|   PAGE|             0|       28|     15|    46|      608771|Google 17oz Stain...|        Category|      0|           1|                0|        null|      1897|                      0|             1|        4|           1|        0|            0|            0|            0|            0|            0|            1|            0|            0|           0|           1|           1|           1|          0|          0|          0|          0|          0|          0|\n",
            "|google|           1|(not provided)|organic|     null|4988612949713423910|1489617360|20170315|        0|      null|   PAGE|             0|       40|     15|    47|      668793|Google G Noise-re...|        Category|      0|           1|                0|        null|      1897|                      0|             1|        4|           1|        0|            0|            0|            0|            0|            0|            1|            0|            0|           0|           1|           1|           1|          0|          0|          0|          0|          0|          0|\n",
            "|google|           1|(not provided)|organic|     null|4988612949713423910|1489617360|20170315|        0|      null|   PAGE|             0|       23|     15|    43|      475751|Google Bluetooth ...|        Category|      0|           1|                0|        null|      1897|                      0|             1|        4|           1|        0|            0|            0|            0|            0|            0|            1|            0|            0|           0|           1|           1|           0|          0|          0|          0|          0|          0|          0|\n",
            "|google|           1|(not provided)|organic|     null|4988612949713423910|1489617360|20170315|        0|      null|   PAGE|             0|       27|     15|    46|      605064|Micro Wireless Ea...|        Category|      0|           1|                0|        null|      1897|                      0|             1|        4|           1|        0|            0|            0|            0|            0|            0|            1|            0|            0|           0|           1|           1|           1|          0|          0|          0|          0|          0|          0|\n",
            "|google|           1|(not provided)|organic|     null|4988612949713423910|1489617360|20170315|        0|      null|   PAGE|             0|       45|     16|     6|     1823878|Google Insulated ...|        Category|      0|           1|                0|        null|      1897|                      0|             1|        4|           1|        0|            0|            0|            0|            0|            0|            1|            0|            0|           0|           0|           0|           0|          0|          0|          0|          0|          0|          0|\n",
            "|google|           1|(not provided)|organic|     null|4988612949713423910|1489617360|20170315|        0|      null|   PAGE|             0|       21|     15|    41|      353052|Google Women's 3/...|        Category|      0|           1|                0|        null|      1897|                      0|             1|        4|           1|        0|            0|            0|            0|            0|            0|            1|            0|            0|           0|           1|           1|           0|          0|          0|          0|          0|          0|          0|\n",
            "|google|           1|(not provided)|organic|     null|4988612949713423910|1489617360|20170315|        0|      null|   PAGE|             0|        8|     15|    39|      205833|  Bottle Opener Clip|        Category|      0|           1|                0|        null|      1897|                      0|             1|        4|           1|        0|            0|            0|            0|            0|            0|            1|            0|            0|           0|           1|           1|           0|          0|          0|          0|          0|          0|          0|\n",
            "+------+------------+--------------+-------+---------+-------------------+----------+--------+---------+----------+-------+--------------+---------+-------+------+------------+--------------------+----------------+-------+------------+-----------------+------------+----------+-----------------------+--------------+---------+------------+---------+-------------+-------------+-------------+-------------+-------------+-------------+-------------+-------------+------------+------------+------------+------------+-----------+-----------+-----------+-----------+-----------+-----------+\n",
            "only showing top 20 rows\n",
            "\n"
          ]
        }
      ]
    },
    {
      "cell_type": "code",
      "source": [
        "df2.filter(df2.hitaction_6 >= 1).groupBy('productListName').count().show()"
      ],
      "metadata": {
        "id": "O97qy_GP_EMv",
        "outputId": "3b1780e7-a229-4e64-cefe-23a3c5ec0cf7",
        "colab": {
          "base_uri": "https://localhost:8080/"
        }
      },
      "execution_count": 58,
      "outputs": [
        {
          "output_type": "stream",
          "name": "stdout",
          "text": [
            "+---------------+-----+\n",
            "|productListName|count|\n",
            "+---------------+-----+\n",
            "|      (not set)|   40|\n",
            "+---------------+-----+\n",
            "\n"
          ]
        }
      ]
    },
    {
      "cell_type": "code",
      "source": [
        "df3 = df2.groupBy('fullVisitorId', 'visitId', 'v2ProductName', \n",
        "                  'isTrueDirect', 'medium_organic', 'dayofweek',\n",
        "                  'newVisits', 'hitType_page',\n",
        "                  'hitHour_00_02', 'hitHour_03_05', 'hitHour_06_08', 'hitHour_09_11', \n",
        "                  'hitHour_12_14', 'hitHour_15_17',  'hitHour_18_20', 'hitHour_21_23', \n",
        "                  ) \\\n",
        ".agg(sparkf.sum('hitaction_1').alias('sum_hitaction_1')\n",
        ", sparkf.sum('hitaction_2').alias('sum_hitaction_2')\n",
        ", sparkf.sum('hitaction_3').alias('sum_hitaction_3')\n",
        ", sparkf.sum('hitaction_4').alias('sum_hitaction_4')\n",
        ", sparkf.sum('hitaction_5').alias('sum_hitaction_5')\n",
        ", sparkf.sum('hitaction_6').alias('sum_hitaction_6')\n",
        ", sparkf.max('hitNumber').alias('hitNumber')\n",
        ", sparkf.max('timeOnSite').alias('timeOnSite')\n",
        ", sparkf.max('sessionQualityDim').alias('sessionQualityDim')\n",
        ", sparkf.max('totalTransactionRevenue').alias('totalTransactionRevenue')\n",
        ", sparkf.max('isClick').alias('isClick')\n",
        ", sparkf.max('isImpression').alias('isImpression')\n",
        ")"
      ],
      "metadata": {
        "id": "wu0bk49AeN5P"
      },
      "execution_count": 59,
      "outputs": []
    },
    {
      "cell_type": "code",
      "source": [
        "df3 = df3.withColumn('target', sparkf.when(df3.sum_hitaction_6 >= 1, 1).otherwise(0))"
      ],
      "metadata": {
        "id": "Lx84yeCDtEuH"
      },
      "execution_count": 60,
      "outputs": []
    },
    {
      "cell_type": "code",
      "source": [
        "df3.describe().toPandas().transpose()"
      ],
      "metadata": {
        "id": "Nys18fuC2IZq",
        "outputId": "8e743db2-c4fd-41a8-fb4a-c135d056088f",
        "colab": {
          "base_uri": "https://localhost:8080/",
          "height": 1000
        }
      },
      "execution_count": 61,
      "outputs": [
        {
          "output_type": "execute_result",
          "data": {
            "text/plain": [
              "                             0                      1                       2  \\\n",
              "summary                  count                   mean                  stddev   \n",
              "fullVisitorId             7617  4.4493490021048156E18  1.47066042399406797E18   \n",
              "visitId                   7617   1.4851405113559144E9       9238452.484933391   \n",
              "v2ProductName             7617                   None                    None   \n",
              "isTrueDirect              7617     0.3269003544702639     0.46911129177020827   \n",
              "medium_organic            7617      0.398188263095707     0.48955677385310736   \n",
              "dayofweek                 7617      3.703689116450046      1.7284168121283634   \n",
              "newVisits                 7617     0.7412367073651044      0.4379840584771592   \n",
              "hitType_page              7617     0.9776815019036366      0.1477269366444353   \n",
              "hitHour_00_02             7617    0.05894709203098333      0.2355411132459913   \n",
              "hitHour_03_05             7617    0.07102533805960352      0.2568840260711927   \n",
              "hitHour_06_08             7617    0.14703951687015884      0.3541685547393408   \n",
              "hitHour_09_11             7617    0.23972692661152684       0.426944795253722   \n",
              "hitHour_12_14             7617    0.13653669423657608      0.3433801176521248   \n",
              "hitHour_15_17             7617     0.1450702376263621      0.3521947594139853   \n",
              "hitHour_18_20             7617    0.08336615465406327     0.27645302052441595   \n",
              "hitHour_21_23             7617      0.118288039910726      0.3229700819733113   \n",
              "sum_hitaction_1           7617   0.027569909413154785     0.23545122485031472   \n",
              "sum_hitaction_2           7617   0.021399501115924906     0.18459296912044262   \n",
              "sum_hitaction_3           7617   0.007745831692267297     0.10410621238531276   \n",
              "sum_hitaction_4           7617  0.0026257056583956937     0.05607464015715312   \n",
              "sum_hitaction_5           7617   0.009189969804384928     0.18666012952423364   \n",
              "sum_hitaction_6           7617  0.0052514113167913875     0.10613404668122668   \n",
              "hitNumber                 7617      8.075882893527636       9.457057825300323   \n",
              "timeOnSite                7617      387.3942497046081       558.7784777710051   \n",
              "sessionQualityDim         7617     0.9569384272023106       7.842627839178679   \n",
              "totalTransactionRevenue   7617     1947462.2554811605     1.041751979742303E7   \n",
              "isClick                   7617   0.017198372062491793      0.1300184887364712   \n",
              "isImpression              7617      0.978075357752396     0.14644715072311004   \n",
              "target                    7617  0.0026257056583956937     0.05117768248680863   \n",
              "\n",
              "                                           3  \\\n",
              "summary                                  min   \n",
              "fullVisitorId              49898505875812980   \n",
              "visitId                           1470106850   \n",
              "v2ProductName            1 oz Hand Sanitizer   \n",
              "isTrueDirect                               0   \n",
              "medium_organic                             0   \n",
              "dayofweek                                  1   \n",
              "newVisits                                  0   \n",
              "hitType_page                               0   \n",
              "hitHour_00_02                              0   \n",
              "hitHour_03_05                              0   \n",
              "hitHour_06_08                              0   \n",
              "hitHour_09_11                              0   \n",
              "hitHour_12_14                              0   \n",
              "hitHour_15_17                              0   \n",
              "hitHour_18_20                              0   \n",
              "hitHour_21_23                              0   \n",
              "sum_hitaction_1                            0   \n",
              "sum_hitaction_2                            0   \n",
              "sum_hitaction_3                            0   \n",
              "sum_hitaction_4                            0   \n",
              "sum_hitaction_5                            0   \n",
              "sum_hitaction_6                            0   \n",
              "hitNumber                                  1   \n",
              "timeOnSite                                 0   \n",
              "sessionQualityDim                          0   \n",
              "totalTransactionRevenue                    0   \n",
              "isClick                                    0   \n",
              "isImpression                               0   \n",
              "target                                     0   \n",
              "\n",
              "                                                          4  \n",
              "summary                                                 max  \n",
              "fullVisitorId                           4995924842281653133  \n",
              "visitId                                          1501649190  \n",
              "v2ProductName            YouTube Youth Short Sleeve Tee Red  \n",
              "isTrueDirect                                              1  \n",
              "medium_organic                                            1  \n",
              "dayofweek                                                 7  \n",
              "newVisits                                                 1  \n",
              "hitType_page                                              1  \n",
              "hitHour_00_02                                             1  \n",
              "hitHour_03_05                                             1  \n",
              "hitHour_06_08                                             1  \n",
              "hitHour_09_11                                             1  \n",
              "hitHour_12_14                                             1  \n",
              "hitHour_15_17                                             1  \n",
              "hitHour_18_20                                             1  \n",
              "hitHour_21_23                                             1  \n",
              "sum_hitaction_1                                           6  \n",
              "sum_hitaction_2                                           5  \n",
              "sum_hitaction_3                                           5  \n",
              "sum_hitaction_4                                           2  \n",
              "sum_hitaction_5                                           8  \n",
              "sum_hitaction_6                                           4  \n",
              "hitNumber                                                56  \n",
              "timeOnSite                                             3514  \n",
              "sessionQualityDim                                        79  \n",
              "totalTransactionRevenue                           128970000  \n",
              "isClick                                                   1  \n",
              "isImpression                                              1  \n",
              "target                                                    1  "
            ],
            "text/html": [
              "\n",
              "  <div id=\"df-a343a0d1-55eb-481f-978f-c98c56060125\">\n",
              "    <div class=\"colab-df-container\">\n",
              "      <div>\n",
              "<style scoped>\n",
              "    .dataframe tbody tr th:only-of-type {\n",
              "        vertical-align: middle;\n",
              "    }\n",
              "\n",
              "    .dataframe tbody tr th {\n",
              "        vertical-align: top;\n",
              "    }\n",
              "\n",
              "    .dataframe thead th {\n",
              "        text-align: right;\n",
              "    }\n",
              "</style>\n",
              "<table border=\"1\" class=\"dataframe\">\n",
              "  <thead>\n",
              "    <tr style=\"text-align: right;\">\n",
              "      <th></th>\n",
              "      <th>0</th>\n",
              "      <th>1</th>\n",
              "      <th>2</th>\n",
              "      <th>3</th>\n",
              "      <th>4</th>\n",
              "    </tr>\n",
              "  </thead>\n",
              "  <tbody>\n",
              "    <tr>\n",
              "      <th>summary</th>\n",
              "      <td>count</td>\n",
              "      <td>mean</td>\n",
              "      <td>stddev</td>\n",
              "      <td>min</td>\n",
              "      <td>max</td>\n",
              "    </tr>\n",
              "    <tr>\n",
              "      <th>fullVisitorId</th>\n",
              "      <td>7617</td>\n",
              "      <td>4.4493490021048156E18</td>\n",
              "      <td>1.47066042399406797E18</td>\n",
              "      <td>49898505875812980</td>\n",
              "      <td>4995924842281653133</td>\n",
              "    </tr>\n",
              "    <tr>\n",
              "      <th>visitId</th>\n",
              "      <td>7617</td>\n",
              "      <td>1.4851405113559144E9</td>\n",
              "      <td>9238452.484933391</td>\n",
              "      <td>1470106850</td>\n",
              "      <td>1501649190</td>\n",
              "    </tr>\n",
              "    <tr>\n",
              "      <th>v2ProductName</th>\n",
              "      <td>7617</td>\n",
              "      <td>None</td>\n",
              "      <td>None</td>\n",
              "      <td>1 oz Hand Sanitizer</td>\n",
              "      <td>YouTube Youth Short Sleeve Tee Red</td>\n",
              "    </tr>\n",
              "    <tr>\n",
              "      <th>isTrueDirect</th>\n",
              "      <td>7617</td>\n",
              "      <td>0.3269003544702639</td>\n",
              "      <td>0.46911129177020827</td>\n",
              "      <td>0</td>\n",
              "      <td>1</td>\n",
              "    </tr>\n",
              "    <tr>\n",
              "      <th>medium_organic</th>\n",
              "      <td>7617</td>\n",
              "      <td>0.398188263095707</td>\n",
              "      <td>0.48955677385310736</td>\n",
              "      <td>0</td>\n",
              "      <td>1</td>\n",
              "    </tr>\n",
              "    <tr>\n",
              "      <th>dayofweek</th>\n",
              "      <td>7617</td>\n",
              "      <td>3.703689116450046</td>\n",
              "      <td>1.7284168121283634</td>\n",
              "      <td>1</td>\n",
              "      <td>7</td>\n",
              "    </tr>\n",
              "    <tr>\n",
              "      <th>newVisits</th>\n",
              "      <td>7617</td>\n",
              "      <td>0.7412367073651044</td>\n",
              "      <td>0.4379840584771592</td>\n",
              "      <td>0</td>\n",
              "      <td>1</td>\n",
              "    </tr>\n",
              "    <tr>\n",
              "      <th>hitType_page</th>\n",
              "      <td>7617</td>\n",
              "      <td>0.9776815019036366</td>\n",
              "      <td>0.1477269366444353</td>\n",
              "      <td>0</td>\n",
              "      <td>1</td>\n",
              "    </tr>\n",
              "    <tr>\n",
              "      <th>hitHour_00_02</th>\n",
              "      <td>7617</td>\n",
              "      <td>0.05894709203098333</td>\n",
              "      <td>0.2355411132459913</td>\n",
              "      <td>0</td>\n",
              "      <td>1</td>\n",
              "    </tr>\n",
              "    <tr>\n",
              "      <th>hitHour_03_05</th>\n",
              "      <td>7617</td>\n",
              "      <td>0.07102533805960352</td>\n",
              "      <td>0.2568840260711927</td>\n",
              "      <td>0</td>\n",
              "      <td>1</td>\n",
              "    </tr>\n",
              "    <tr>\n",
              "      <th>hitHour_06_08</th>\n",
              "      <td>7617</td>\n",
              "      <td>0.14703951687015884</td>\n",
              "      <td>0.3541685547393408</td>\n",
              "      <td>0</td>\n",
              "      <td>1</td>\n",
              "    </tr>\n",
              "    <tr>\n",
              "      <th>hitHour_09_11</th>\n",
              "      <td>7617</td>\n",
              "      <td>0.23972692661152684</td>\n",
              "      <td>0.426944795253722</td>\n",
              "      <td>0</td>\n",
              "      <td>1</td>\n",
              "    </tr>\n",
              "    <tr>\n",
              "      <th>hitHour_12_14</th>\n",
              "      <td>7617</td>\n",
              "      <td>0.13653669423657608</td>\n",
              "      <td>0.3433801176521248</td>\n",
              "      <td>0</td>\n",
              "      <td>1</td>\n",
              "    </tr>\n",
              "    <tr>\n",
              "      <th>hitHour_15_17</th>\n",
              "      <td>7617</td>\n",
              "      <td>0.1450702376263621</td>\n",
              "      <td>0.3521947594139853</td>\n",
              "      <td>0</td>\n",
              "      <td>1</td>\n",
              "    </tr>\n",
              "    <tr>\n",
              "      <th>hitHour_18_20</th>\n",
              "      <td>7617</td>\n",
              "      <td>0.08336615465406327</td>\n",
              "      <td>0.27645302052441595</td>\n",
              "      <td>0</td>\n",
              "      <td>1</td>\n",
              "    </tr>\n",
              "    <tr>\n",
              "      <th>hitHour_21_23</th>\n",
              "      <td>7617</td>\n",
              "      <td>0.118288039910726</td>\n",
              "      <td>0.3229700819733113</td>\n",
              "      <td>0</td>\n",
              "      <td>1</td>\n",
              "    </tr>\n",
              "    <tr>\n",
              "      <th>sum_hitaction_1</th>\n",
              "      <td>7617</td>\n",
              "      <td>0.027569909413154785</td>\n",
              "      <td>0.23545122485031472</td>\n",
              "      <td>0</td>\n",
              "      <td>6</td>\n",
              "    </tr>\n",
              "    <tr>\n",
              "      <th>sum_hitaction_2</th>\n",
              "      <td>7617</td>\n",
              "      <td>0.021399501115924906</td>\n",
              "      <td>0.18459296912044262</td>\n",
              "      <td>0</td>\n",
              "      <td>5</td>\n",
              "    </tr>\n",
              "    <tr>\n",
              "      <th>sum_hitaction_3</th>\n",
              "      <td>7617</td>\n",
              "      <td>0.007745831692267297</td>\n",
              "      <td>0.10410621238531276</td>\n",
              "      <td>0</td>\n",
              "      <td>5</td>\n",
              "    </tr>\n",
              "    <tr>\n",
              "      <th>sum_hitaction_4</th>\n",
              "      <td>7617</td>\n",
              "      <td>0.0026257056583956937</td>\n",
              "      <td>0.05607464015715312</td>\n",
              "      <td>0</td>\n",
              "      <td>2</td>\n",
              "    </tr>\n",
              "    <tr>\n",
              "      <th>sum_hitaction_5</th>\n",
              "      <td>7617</td>\n",
              "      <td>0.009189969804384928</td>\n",
              "      <td>0.18666012952423364</td>\n",
              "      <td>0</td>\n",
              "      <td>8</td>\n",
              "    </tr>\n",
              "    <tr>\n",
              "      <th>sum_hitaction_6</th>\n",
              "      <td>7617</td>\n",
              "      <td>0.0052514113167913875</td>\n",
              "      <td>0.10613404668122668</td>\n",
              "      <td>0</td>\n",
              "      <td>4</td>\n",
              "    </tr>\n",
              "    <tr>\n",
              "      <th>hitNumber</th>\n",
              "      <td>7617</td>\n",
              "      <td>8.075882893527636</td>\n",
              "      <td>9.457057825300323</td>\n",
              "      <td>1</td>\n",
              "      <td>56</td>\n",
              "    </tr>\n",
              "    <tr>\n",
              "      <th>timeOnSite</th>\n",
              "      <td>7617</td>\n",
              "      <td>387.3942497046081</td>\n",
              "      <td>558.7784777710051</td>\n",
              "      <td>0</td>\n",
              "      <td>3514</td>\n",
              "    </tr>\n",
              "    <tr>\n",
              "      <th>sessionQualityDim</th>\n",
              "      <td>7617</td>\n",
              "      <td>0.9569384272023106</td>\n",
              "      <td>7.842627839178679</td>\n",
              "      <td>0</td>\n",
              "      <td>79</td>\n",
              "    </tr>\n",
              "    <tr>\n",
              "      <th>totalTransactionRevenue</th>\n",
              "      <td>7617</td>\n",
              "      <td>1947462.2554811605</td>\n",
              "      <td>1.041751979742303E7</td>\n",
              "      <td>0</td>\n",
              "      <td>128970000</td>\n",
              "    </tr>\n",
              "    <tr>\n",
              "      <th>isClick</th>\n",
              "      <td>7617</td>\n",
              "      <td>0.017198372062491793</td>\n",
              "      <td>0.1300184887364712</td>\n",
              "      <td>0</td>\n",
              "      <td>1</td>\n",
              "    </tr>\n",
              "    <tr>\n",
              "      <th>isImpression</th>\n",
              "      <td>7617</td>\n",
              "      <td>0.978075357752396</td>\n",
              "      <td>0.14644715072311004</td>\n",
              "      <td>0</td>\n",
              "      <td>1</td>\n",
              "    </tr>\n",
              "    <tr>\n",
              "      <th>target</th>\n",
              "      <td>7617</td>\n",
              "      <td>0.0026257056583956937</td>\n",
              "      <td>0.05117768248680863</td>\n",
              "      <td>0</td>\n",
              "      <td>1</td>\n",
              "    </tr>\n",
              "  </tbody>\n",
              "</table>\n",
              "</div>\n",
              "      <button class=\"colab-df-convert\" onclick=\"convertToInteractive('df-a343a0d1-55eb-481f-978f-c98c56060125')\"\n",
              "              title=\"Convert this dataframe to an interactive table.\"\n",
              "              style=\"display:none;\">\n",
              "        \n",
              "  <svg xmlns=\"http://www.w3.org/2000/svg\" height=\"24px\"viewBox=\"0 0 24 24\"\n",
              "       width=\"24px\">\n",
              "    <path d=\"M0 0h24v24H0V0z\" fill=\"none\"/>\n",
              "    <path d=\"M18.56 5.44l.94 2.06.94-2.06 2.06-.94-2.06-.94-.94-2.06-.94 2.06-2.06.94zm-11 1L8.5 8.5l.94-2.06 2.06-.94-2.06-.94L8.5 2.5l-.94 2.06-2.06.94zm10 10l.94 2.06.94-2.06 2.06-.94-2.06-.94-.94-2.06-.94 2.06-2.06.94z\"/><path d=\"M17.41 7.96l-1.37-1.37c-.4-.4-.92-.59-1.43-.59-.52 0-1.04.2-1.43.59L10.3 9.45l-7.72 7.72c-.78.78-.78 2.05 0 2.83L4 21.41c.39.39.9.59 1.41.59.51 0 1.02-.2 1.41-.59l7.78-7.78 2.81-2.81c.8-.78.8-2.07 0-2.86zM5.41 20L4 18.59l7.72-7.72 1.47 1.35L5.41 20z\"/>\n",
              "  </svg>\n",
              "      </button>\n",
              "      \n",
              "  <style>\n",
              "    .colab-df-container {\n",
              "      display:flex;\n",
              "      flex-wrap:wrap;\n",
              "      gap: 12px;\n",
              "    }\n",
              "\n",
              "    .colab-df-convert {\n",
              "      background-color: #E8F0FE;\n",
              "      border: none;\n",
              "      border-radius: 50%;\n",
              "      cursor: pointer;\n",
              "      display: none;\n",
              "      fill: #1967D2;\n",
              "      height: 32px;\n",
              "      padding: 0 0 0 0;\n",
              "      width: 32px;\n",
              "    }\n",
              "\n",
              "    .colab-df-convert:hover {\n",
              "      background-color: #E2EBFA;\n",
              "      box-shadow: 0px 1px 2px rgba(60, 64, 67, 0.3), 0px 1px 3px 1px rgba(60, 64, 67, 0.15);\n",
              "      fill: #174EA6;\n",
              "    }\n",
              "\n",
              "    [theme=dark] .colab-df-convert {\n",
              "      background-color: #3B4455;\n",
              "      fill: #D2E3FC;\n",
              "    }\n",
              "\n",
              "    [theme=dark] .colab-df-convert:hover {\n",
              "      background-color: #434B5C;\n",
              "      box-shadow: 0px 1px 3px 1px rgba(0, 0, 0, 0.15);\n",
              "      filter: drop-shadow(0px 1px 2px rgba(0, 0, 0, 0.3));\n",
              "      fill: #FFFFFF;\n",
              "    }\n",
              "  </style>\n",
              "\n",
              "      <script>\n",
              "        const buttonEl =\n",
              "          document.querySelector('#df-a343a0d1-55eb-481f-978f-c98c56060125 button.colab-df-convert');\n",
              "        buttonEl.style.display =\n",
              "          google.colab.kernel.accessAllowed ? 'block' : 'none';\n",
              "\n",
              "        async function convertToInteractive(key) {\n",
              "          const element = document.querySelector('#df-a343a0d1-55eb-481f-978f-c98c56060125');\n",
              "          const dataTable =\n",
              "            await google.colab.kernel.invokeFunction('convertToInteractive',\n",
              "                                                     [key], {});\n",
              "          if (!dataTable) return;\n",
              "\n",
              "          const docLinkHtml = 'Like what you see? Visit the ' +\n",
              "            '<a target=\"_blank\" href=https://colab.research.google.com/notebooks/data_table.ipynb>data table notebook</a>'\n",
              "            + ' to learn more about interactive tables.';\n",
              "          element.innerHTML = '';\n",
              "          dataTable['output_type'] = 'display_data';\n",
              "          await google.colab.output.renderOutput(dataTable, element);\n",
              "          const docLink = document.createElement('div');\n",
              "          docLink.innerHTML = docLinkHtml;\n",
              "          element.appendChild(docLink);\n",
              "        }\n",
              "      </script>\n",
              "    </div>\n",
              "  </div>\n",
              "  "
            ]
          },
          "metadata": {},
          "execution_count": 61
        }
      ]
    },
    {
      "cell_type": "markdown",
      "source": [
        "*โค้ดด้านล่าง แสดงการนับจำนวนค่า null ที่อาจหลงเหลืออยู่จากการ cleansing and transformation*"
      ],
      "metadata": {
        "id": "ScHqgR3j0WNg"
      }
    },
    {
      "cell_type": "code",
      "source": [
        "df3.select([sparkf.count(sparkf.when(sparkf.col(col).isNull(),True)).alias(col) for col in df3.columns]).show()"
      ],
      "metadata": {
        "id": "K3EsYdQSvqXz",
        "outputId": "6d7e48fc-c4c5-41d2-f5fe-c91698072ac1",
        "colab": {
          "base_uri": "https://localhost:8080/"
        }
      },
      "execution_count": 62,
      "outputs": [
        {
          "output_type": "stream",
          "name": "stdout",
          "text": [
            "+-------------+-------+-------------+------------+--------------+---------+---------+------------+-------------+-------------+-------------+-------------+-------------+-------------+-------------+-------------+---------------+---------------+---------------+---------------+---------------+---------------+---------+----------+-----------------+-----------------------+-------+------------+------+\n",
            "|fullVisitorId|visitId|v2ProductName|isTrueDirect|medium_organic|dayofweek|newVisits|hitType_page|hitHour_00_02|hitHour_03_05|hitHour_06_08|hitHour_09_11|hitHour_12_14|hitHour_15_17|hitHour_18_20|hitHour_21_23|sum_hitaction_1|sum_hitaction_2|sum_hitaction_3|sum_hitaction_4|sum_hitaction_5|sum_hitaction_6|hitNumber|timeOnSite|sessionQualityDim|totalTransactionRevenue|isClick|isImpression|target|\n",
            "+-------------+-------+-------------+------------+--------------+---------+---------+------------+-------------+-------------+-------------+-------------+-------------+-------------+-------------+-------------+---------------+---------------+---------------+---------------+---------------+---------------+---------+----------+-----------------+-----------------------+-------+------------+------+\n",
            "|            0|      0|            0|           0|             0|        0|        0|           0|            0|            0|            0|            0|            0|            0|            0|            0|              0|              0|              0|              0|              0|              0|        0|         0|                0|                      0|      0|           0|     0|\n",
            "+-------------+-------+-------------+------------+--------------+---------+---------+------------+-------------+-------------+-------------+-------------+-------------+-------------+-------------+-------------+---------------+---------------+---------------+---------------+---------------+---------------+---------+----------+-----------------+-----------------------+-------+------------+------+\n",
            "\n"
          ]
        }
      ]
    },
    {
      "cell_type": "code",
      "source": [
        "df3.printSchema()"
      ],
      "metadata": {
        "id": "i_oT-40t3h3w",
        "outputId": "732aea0e-49e0-413e-983c-1da2c075c458",
        "colab": {
          "base_uri": "https://localhost:8080/"
        }
      },
      "execution_count": 63,
      "outputs": [
        {
          "output_type": "stream",
          "name": "stdout",
          "text": [
            "root\n",
            " |-- fullVisitorId: long (nullable = true)\n",
            " |-- visitId: integer (nullable = true)\n",
            " |-- v2ProductName: string (nullable = true)\n",
            " |-- isTrueDirect: integer (nullable = false)\n",
            " |-- medium_organic: integer (nullable = false)\n",
            " |-- dayofweek: integer (nullable = true)\n",
            " |-- newVisits: integer (nullable = false)\n",
            " |-- hitType_page: integer (nullable = false)\n",
            " |-- hitHour_00_02: integer (nullable = false)\n",
            " |-- hitHour_03_05: integer (nullable = false)\n",
            " |-- hitHour_06_08: integer (nullable = false)\n",
            " |-- hitHour_09_11: integer (nullable = false)\n",
            " |-- hitHour_12_14: integer (nullable = false)\n",
            " |-- hitHour_15_17: integer (nullable = false)\n",
            " |-- hitHour_18_20: integer (nullable = false)\n",
            " |-- hitHour_21_23: integer (nullable = false)\n",
            " |-- sum_hitaction_1: long (nullable = true)\n",
            " |-- sum_hitaction_2: long (nullable = true)\n",
            " |-- sum_hitaction_3: long (nullable = true)\n",
            " |-- sum_hitaction_4: long (nullable = true)\n",
            " |-- sum_hitaction_5: long (nullable = true)\n",
            " |-- sum_hitaction_6: long (nullable = true)\n",
            " |-- hitNumber: integer (nullable = true)\n",
            " |-- timeOnSite: integer (nullable = true)\n",
            " |-- sessionQualityDim: integer (nullable = true)\n",
            " |-- totalTransactionRevenue: integer (nullable = true)\n",
            " |-- isClick: integer (nullable = true)\n",
            " |-- isImpression: integer (nullable = true)\n",
            " |-- target: integer (nullable = false)\n",
            "\n"
          ]
        }
      ]
    },
    {
      "cell_type": "code",
      "source": [
        "df3.groupBy('sum_hitaction_1', 'target').count().sort('sum_hitaction_1').show()"
      ],
      "metadata": {
        "id": "CQ8bs93SrFcF",
        "outputId": "48087933-3687-4728-9473-ddd80644b014",
        "colab": {
          "base_uri": "https://localhost:8080/"
        }
      },
      "execution_count": 64,
      "outputs": [
        {
          "output_type": "stream",
          "name": "stdout",
          "text": [
            "+---------------+------+-----+\n",
            "|sum_hitaction_1|target|count|\n",
            "+---------------+------+-----+\n",
            "|              0|     0| 7466|\n",
            "|              0|     1|   20|\n",
            "|              1|     0|   71|\n",
            "|              2|     0|   48|\n",
            "|              3|     0|    8|\n",
            "|              4|     0|    2|\n",
            "|              5|     0|    1|\n",
            "|              6|     0|    1|\n",
            "+---------------+------+-----+\n",
            "\n"
          ]
        }
      ]
    },
    {
      "cell_type": "code",
      "source": [
        "df3.groupBy('sum_hitaction_2', 'target').count().sort('sum_hitaction_2').show()"
      ],
      "metadata": {
        "id": "X8hLxvlQtvuo",
        "outputId": "2a42c5a6-3282-47c1-b355-c6d39ba28eec",
        "colab": {
          "base_uri": "https://localhost:8080/"
        }
      },
      "execution_count": 65,
      "outputs": [
        {
          "output_type": "stream",
          "name": "stdout",
          "text": [
            "+---------------+------+-----+\n",
            "|sum_hitaction_2|target|count|\n",
            "+---------------+------+-----+\n",
            "|              0|     0| 7478|\n",
            "|              0|     1|    6|\n",
            "|              1|     0|  103|\n",
            "|              1|     1|   13|\n",
            "|              2|     0|    8|\n",
            "|              2|     1|    1|\n",
            "|              3|     0|    5|\n",
            "|              4|     0|    1|\n",
            "|              5|     0|    2|\n",
            "+---------------+------+-----+\n",
            "\n"
          ]
        }
      ]
    },
    {
      "cell_type": "code",
      "source": [
        "df3.groupBy('sum_hitaction_3', 'target').count().sort('sum_hitaction_3').show()"
      ],
      "metadata": {
        "id": "MX_-NZztuPY9",
        "outputId": "f67193c8-0101-4109-ad0b-eb9a1bc8f489",
        "colab": {
          "base_uri": "https://localhost:8080/"
        }
      },
      "execution_count": 66,
      "outputs": [
        {
          "output_type": "stream",
          "name": "stdout",
          "text": [
            "+---------------+------+-----+\n",
            "|sum_hitaction_3|target|count|\n",
            "+---------------+------+-----+\n",
            "|              0|     0| 7544|\n",
            "|              0|     1|   20|\n",
            "|              1|     0|   50|\n",
            "|              2|     0|    2|\n",
            "|              5|     0|    1|\n",
            "+---------------+------+-----+\n",
            "\n"
          ]
        }
      ]
    },
    {
      "cell_type": "code",
      "source": [
        "df3.groupBy('sum_hitaction_4', 'target').count().sort('sum_hitaction_4').show()"
      ],
      "metadata": {
        "id": "ABlgtL8quQel",
        "outputId": "7fd613ba-514e-4b7c-8542-f34b2d62403e",
        "colab": {
          "base_uri": "https://localhost:8080/"
        }
      },
      "execution_count": 67,
      "outputs": [
        {
          "output_type": "stream",
          "name": "stdout",
          "text": [
            "+---------------+------+-----+\n",
            "|sum_hitaction_4|target|count|\n",
            "+---------------+------+-----+\n",
            "|              0|     0| 7579|\n",
            "|              0|     1|   20|\n",
            "|              1|     0|   16|\n",
            "|              2|     0|    2|\n",
            "+---------------+------+-----+\n",
            "\n"
          ]
        }
      ]
    },
    {
      "cell_type": "code",
      "source": [
        "df3.groupBy('sum_hitaction_5', 'target').count().sort('sum_hitaction_5').show()"
      ],
      "metadata": {
        "id": "vVvqKMj2uQ42",
        "outputId": "fe35748f-e77c-44d5-8186-ad3002944e76",
        "colab": {
          "base_uri": "https://localhost:8080/"
        }
      },
      "execution_count": 68,
      "outputs": [
        {
          "output_type": "stream",
          "name": "stdout",
          "text": [
            "+---------------+------+-----+\n",
            "|sum_hitaction_5|target|count|\n",
            "+---------------+------+-----+\n",
            "|              0|     0| 7593|\n",
            "|              1|     0|    2|\n",
            "|              1|     1|    3|\n",
            "|              2|     0|    1|\n",
            "|              2|     1|    5|\n",
            "|              3|     0|    1|\n",
            "|              3|     1|    3|\n",
            "|              4|     1|    7|\n",
            "|              5|     1|    1|\n",
            "|              8|     1|    1|\n",
            "+---------------+------+-----+\n",
            "\n"
          ]
        }
      ]
    },
    {
      "cell_type": "markdown",
      "source": [
        "## Data Encoding"
      ],
      "metadata": {
        "id": "pxz2VF4dPScX"
      }
    },
    {
      "cell_type": "code",
      "source": [
        "# productList_indexer = StringIndexer(inputCol='productListName', outputCol='productList_index')\n",
        "# productList_ohe = OneHotEncoder(inputCol='productList_index', outputCol='productList_vec')"
      ],
      "metadata": {
        "id": "XHR7ND2ww6h4"
      },
      "execution_count": 69,
      "outputs": []
    },
    {
      "cell_type": "code",
      "source": [
        "# onehot_encoder = OneHotEncoder(inputCols=['hitAction_type', 'dayofweek'], outputCols=['hitAction_type_vec', 'dayofweek_vec'])\n",
        "onehot_encoder = OneHotEncoder(inputCols=['dayofweek'], outputCols=['dayofweek_vec'])"
      ],
      "metadata": {
        "id": "wfdEJg2uIAjr"
      },
      "execution_count": 70,
      "outputs": []
    },
    {
      "cell_type": "code",
      "source": [
        "label_stringIdx = StringIndexer(inputCol = 'target', outputCol = 'label')"
      ],
      "metadata": {
        "id": "NJf6Ya4uKuLW"
      },
      "execution_count": 71,
      "outputs": []
    },
    {
      "cell_type": "code",
      "source": [
        "df3.schema.names"
      ],
      "metadata": {
        "id": "irKNLCkJ_6cV",
        "outputId": "35f04bf3-5c75-455d-99f0-7bfd5855f72a",
        "colab": {
          "base_uri": "https://localhost:8080/"
        }
      },
      "execution_count": 72,
      "outputs": [
        {
          "output_type": "execute_result",
          "data": {
            "text/plain": [
              "['fullVisitorId',\n",
              " 'visitId',\n",
              " 'v2ProductName',\n",
              " 'isTrueDirect',\n",
              " 'medium_organic',\n",
              " 'dayofweek',\n",
              " 'newVisits',\n",
              " 'hitType_page',\n",
              " 'hitHour_00_02',\n",
              " 'hitHour_03_05',\n",
              " 'hitHour_06_08',\n",
              " 'hitHour_09_11',\n",
              " 'hitHour_12_14',\n",
              " 'hitHour_15_17',\n",
              " 'hitHour_18_20',\n",
              " 'hitHour_21_23',\n",
              " 'sum_hitaction_1',\n",
              " 'sum_hitaction_2',\n",
              " 'sum_hitaction_3',\n",
              " 'sum_hitaction_4',\n",
              " 'sum_hitaction_5',\n",
              " 'sum_hitaction_6',\n",
              " 'hitNumber',\n",
              " 'timeOnSite',\n",
              " 'sessionQualityDim',\n",
              " 'totalTransactionRevenue',\n",
              " 'isClick',\n",
              " 'isImpression',\n",
              " 'target']"
            ]
          },
          "metadata": {},
          "execution_count": 72
        }
      ]
    },
    {
      "cell_type": "code",
      "source": [
        "# vector_assembler = VectorAssembler\\\n",
        "# (inputCols = ['isTrueDirect', 'newVisits', 'hitAction_type_vec', 'hitNumber', 'isClick', 'isImpression', 'sessionQualityDim', 'timeOnSite', 'totalTransactionRevenue', \\\n",
        "#  'medium_organic', 'hitType_page', 'hitHour_00_02', 'hitHour_03_05', 'hitHour_06_08', 'hitHour_09_11', 'hitHour_12_14', 'hitHour_15_17', 'hitHour_18_20', \\\n",
        "#  'hitHour_21_23', 'hitMin_00_14', 'hitMin_15_29', 'hitMin_30_44', 'hitMin_45_60', \\\n",
        "#  'dayofweek_vec', 'hitAction_type_vec', 'productList_vec'], outputCol = 'features')"
      ],
      "metadata": {
        "id": "_96sxOWG93Ni"
      },
      "execution_count": 73,
      "outputs": []
    },
    {
      "cell_type": "code",
      "source": [
        "vector_assembler = VectorAssembler\\\n",
        "(inputCols = [\\\n",
        "              ###'isTrueDirect',\n",
        " ###'medium_organic',\n",
        " ###'dayofweek_vec',\n",
        " 'newVisits',\n",
        " ###'hitType_page',\n",
        " ###'hitHour_00_02',\n",
        " ###'hitHour_03_05',\n",
        " ###'hitHour_06_08',\n",
        " ###'hitHour_09_11',\n",
        " ###'hitHour_12_14',\n",
        " ###'hitHour_15_17',\n",
        " ###'hitHour_18_20',\n",
        " ###'hitHour_21_23',\n",
        " ###'sum_hitaction_1',\n",
        " 'sum_hitaction_2',\n",
        " ###'sum_hitaction_3',\n",
        " ###'sum_hitaction_4',\n",
        "#  'sum_hitaction_5',\n",
        "#  'sum_hitaction_6',\n",
        " 'hitNumber',\n",
        " 'timeOnSite',\n",
        " ###'sessionQualityDim',\n",
        " ###'isClick',\n",
        " 'isImpression'\\\n",
        " ], outputCol = 'features')"
      ],
      "metadata": {
        "id": "aHFZAGYPALvj"
      },
      "execution_count": 74,
      "outputs": []
    },
    {
      "cell_type": "code",
      "source": [
        "# pipeline = Pipeline(stages=[productList_indexer, productList_ohe, onehot_encoder, label_stringIdx, vector_assembler])\n",
        "pipeline = Pipeline(stages=[onehot_encoder, label_stringIdx, vector_assembler])\n"
      ],
      "metadata": {
        "id": "pTfJquqbIYn1"
      },
      "execution_count": 75,
      "outputs": []
    },
    {
      "cell_type": "code",
      "source": [
        "final_df = pipeline.fit(df3).transform(df3)\n",
        "final_df.show()"
      ],
      "metadata": {
        "id": "H4Bsa0_IIvvb",
        "outputId": "7587b7ce-eb60-49c0-bc69-17df0fdfa308",
        "colab": {
          "base_uri": "https://localhost:8080/"
        }
      },
      "execution_count": 76,
      "outputs": [
        {
          "output_type": "stream",
          "name": "stdout",
          "text": [
            "+-------------------+----------+--------------------+------------+--------------+---------+---------+------------+-------------+-------------+-------------+-------------+-------------+-------------+-------------+-------------+---------------+---------------+---------------+---------------+---------------+---------------+---------+----------+-----------------+-----------------------+-------+------------+------+-------------+-----+--------------------+\n",
            "|      fullVisitorId|   visitId|       v2ProductName|isTrueDirect|medium_organic|dayofweek|newVisits|hitType_page|hitHour_00_02|hitHour_03_05|hitHour_06_08|hitHour_09_11|hitHour_12_14|hitHour_15_17|hitHour_18_20|hitHour_21_23|sum_hitaction_1|sum_hitaction_2|sum_hitaction_3|sum_hitaction_4|sum_hitaction_5|sum_hitaction_6|hitNumber|timeOnSite|sessionQualityDim|totalTransactionRevenue|isClick|isImpression|target|dayofweek_vec|label|            features|\n",
            "+-------------------+----------+--------------------+------------+--------------+---------+---------+------------+-------------+-------------+-------------+-------------+-------------+-------------+-------------+-------------+---------------+---------------+---------------+---------------+---------------+---------------+---------+----------+-----------------+-----------------------+-------+------------+------+-------------+-----+--------------------+\n",
            "|4988612949713423910|1490043910| Red Shine 15 oz Mug|           1|             1|        2|        0|           1|            0|            0|            0|            0|            1|            0|            0|            0|              0|              1|              0|              0|              4|              2|       26|      1721|                0|               36980000|      0|           1|     1|(7,[2],[1.0])|  1.0|[0.0,1.0,26.0,172...|\n",
            "|4988678797334870432|1482090260|Google Men's Perf...|           0|             0|        1|        1|           1|            0|            0|            0|            1|            0|            0|            0|            0|              0|              0|              0|              0|              0|              0|        4|       487|                0|                      0|      0|           1|     0|(7,[1],[1.0])|  0.0|[1.0,0.0,4.0,487....|\n",
            "|4988726250599795681|1498359792|   Google Power Bank|           0|             0|        7|        1|           1|            0|            0|            0|            0|            0|            0|            1|            0|              0|              0|              0|              0|              0|              0|        6|        87|                0|                      0|      0|           1|     0|    (7,[],[])|  0.0|[1.0,0.0,6.0,87.0...|\n",
            "|4988969836981282102|1499259209| Google RFID Journal|           1|             0|        4|        1|           1|            0|            1|            0|            0|            0|            0|            0|            0|              0|              0|              0|              0|              0|              0|        1|         0|                1|                      0|      0|           1|     0|(7,[4],[1.0])|  0.0|[1.0,0.0,1.0,0.0,...|\n",
            "|4989128074131027088|1499254061|22 oz YouTube Bot...|           0|             0|        4|        1|           1|            0|            1|            0|            0|            0|            0|            0|            0|              0|              0|              0|              0|              0|              0|        1|         0|                1|                      0|      0|           1|     0|(7,[4],[1.0])|  0.0|[1.0,0.0,1.0,0.0,...|\n",
            "|4989396316959402298|1498665257|Google 25 oz Red ...|           0|             0|        4|        1|           1|            0|            0|            1|            0|            0|            0|            0|            0|              0|              0|              0|              0|              0|              0|        3|        86|                0|                      0|      0|           1|     0|(7,[4],[1.0])|  0.0|[1.0,0.0,3.0,86.0...|\n",
            "|4990198874063509353|1477021389|26 oz Double Wall...|           0|             0|        5|        1|           1|            0|            0|            0|            0|            0|            0|            1|            0|              0|              0|              0|              0|              0|              0|       52|       875|                0|               29980000|      0|           1|     0|(7,[5],[1.0])|  0.0|[1.0,0.0,52.0,875...|\n",
            "|4990224662018269743|1496756819|Google Men's Quil...|           0|             0|        3|        1|           1|            0|            0|            1|            0|            0|            0|            0|            0|              0|              0|              0|              0|              0|              0|        1|        14|                0|                      0|      0|           1|     0|(7,[3],[1.0])|  0.0|[1.0,0.0,1.0,14.0...|\n",
            "|4990224662018269743|1496756819|YouTube Custom De...|           0|             0|        3|        1|           1|            0|            0|            1|            0|            0|            0|            0|            0|              0|              0|              0|              0|              0|              0|        2|        14|                0|                      0|      0|           1|     0|(7,[3],[1.0])|  0.0|[1.0,0.0,2.0,14.0...|\n",
            "|4990224662018269743|1496756819|Google Men's Wate...|           0|             0|        3|        1|           1|            0|            0|            1|            0|            0|            0|            0|            0|              0|              0|              0|              0|              0|              0|        1|        14|                0|                      0|      0|           1|     0|(7,[3],[1.0])|  0.0|[1.0,0.0,1.0,14.0...|\n",
            "|4990257633001131707|1485540848|Google Women's Sh...|           0|             0|        6|        1|           1|            0|            0|            0|            1|            0|            0|            0|            0|              0|              0|              0|              0|              0|              0|       25|       867|                0|                      0|      0|           1|     0|(7,[6],[1.0])|  0.0|[1.0,0.0,25.0,867...|\n",
            "| 499053624239186718|1499280930|Android Stretch F...|           0|             0|        4|        1|           1|            0|            0|            0|            1|            0|            0|            0|            0|              0|              0|              0|              0|              0|              0|        1|         0|                1|                      0|      0|           1|     0|(7,[4],[1.0])|  0.0|[1.0,0.0,1.0,0.0,...|\n",
            "|4990634493822624181|1492621822| Android Luggage Tag|           0|             0|        4|        1|           1|            0|            0|            0|            1|            0|            0|            0|            0|              0|              0|              0|              0|              0|              0|       37|      1966|                0|                      0|      0|           1|     0|(7,[4],[1.0])|  0.0|[1.0,0.0,37.0,196...|\n",
            "|4990803917337260315|1477067425|Google 17oz Stain...|           1|             0|        6|        0|           1|            0|            0|            0|            1|            0|            0|            0|            0|              0|              0|              0|              0|              0|              0|       10|       537|                0|                      0|      0|           1|     0|(7,[6],[1.0])|  0.0|[0.0,0.0,10.0,537...|\n",
            "|4991105026836415438|1488300417|    Google Twill Cap|           0|             1|        3|        1|           1|            0|            0|            1|            0|            0|            0|            0|            0|              0|              0|              0|              0|              0|              0|       16|       436|                0|                      0|      0|           1|     0|(7,[3],[1.0])|  0.0|[1.0,0.0,16.0,436...|\n",
            "| 499124294013106751|1486481439|Women's YouTube S...|           1|             0|        3|        0|           1|            0|            0|            1|            0|            0|            0|            0|            0|              0|              0|              0|              0|              0|              0|       11|       394|                0|                      0|      0|           1|     0|(7,[3],[1.0])|  0.0|[0.0,0.0,11.0,394...|\n",
            "|4991508383848014634|1498253209|Women's YouTube S...|           1|             0|        6|        1|           1|            0|            0|            0|            0|            1|            0|            0|            0|              0|              0|              0|              0|              0|              0|        1|         0|                0|                      0|      0|           1|     0|(7,[6],[1.0])|  0.0|[1.0,0.0,1.0,0.0,...|\n",
            "|4991710110216617350|1471605830|Google Men's Vint...|           1|             0|        6|        1|           1|            0|            1|            0|            0|            0|            0|            0|            0|              0|              0|              0|              0|              0|              0|        1|         0|                0|                      0|      0|           1|     0|(7,[6],[1.0])|  0.0|[1.0,0.0,1.0,0.0,...|\n",
            "|4991710110216617350|1471605830|Android Men's Vin...|           1|             0|        6|        1|           1|            0|            1|            0|            0|            0|            0|            0|            0|              0|              0|              0|              0|              0|              0|        1|         0|                0|                      0|      0|           1|     0|(7,[6],[1.0])|  0.0|[1.0,0.0,1.0,0.0,...|\n",
            "|4992499749003799871|1472235854|Google Men's 100%...|           0|             1|        6|        1|           1|            0|            0|            0|            1|            0|            0|            0|            0|              0|              0|              0|              0|              0|              0|       11|       674|                0|                      0|      0|           1|     0|(7,[6],[1.0])|  0.0|[1.0,0.0,11.0,674...|\n",
            "+-------------------+----------+--------------------+------------+--------------+---------+---------+------------+-------------+-------------+-------------+-------------+-------------+-------------+-------------+-------------+---------------+---------------+---------------+---------------+---------------+---------------+---------+----------+-----------------+-----------------------+-------+------------+------+-------------+-----+--------------------+\n",
            "only showing top 20 rows\n",
            "\n"
          ]
        }
      ]
    },
    {
      "cell_type": "code",
      "source": [
        "raw_df.count() ##Aekanun"
      ],
      "metadata": {
        "id": "qWgApjebVudF",
        "outputId": "31d72322-c1b3-4942-ea21-d7e1219626fd",
        "colab": {
          "base_uri": "https://localhost:8080/"
        }
      },
      "execution_count": 77,
      "outputs": [
        {
          "output_type": "execute_result",
          "data": {
            "text/plain": [
              "9999"
            ]
          },
          "metadata": {},
          "execution_count": 77
        }
      ]
    },
    {
      "cell_type": "code",
      "source": [
        "df3.count() ##Aekanun"
      ],
      "metadata": {
        "id": "4Fepq05dVj7F",
        "outputId": "1295fab6-3870-4be1-b889-7f9b61611882",
        "colab": {
          "base_uri": "https://localhost:8080/"
        }
      },
      "execution_count": 78,
      "outputs": [
        {
          "output_type": "execute_result",
          "data": {
            "text/plain": [
              "7617"
            ]
          },
          "metadata": {},
          "execution_count": 78
        }
      ]
    },
    {
      "cell_type": "markdown",
      "source": [
        "## Split data"
      ],
      "metadata": {
        "id": "8n7AtuvkS2_-"
      }
    },
    {
      "cell_type": "code",
      "source": [
        "train_df, test_df = final_df.randomSplit([0.8, 0.2], seed=49)\n",
        "print(\"Training Dataset: \" + str(train_df.count()))\n",
        "print(\"Test Dataset: \" + str(test_df.count()))"
      ],
      "metadata": {
        "id": "3Eu3D6tkS0K1",
        "outputId": "22a5bdc1-66f9-414b-90f3-55f6f3c45094",
        "colab": {
          "base_uri": "https://localhost:8080/"
        }
      },
      "execution_count": 79,
      "outputs": [
        {
          "output_type": "stream",
          "name": "stdout",
          "text": [
            "Training Dataset: 6117\n",
            "Test Dataset: 1500\n"
          ]
        }
      ]
    },
    {
      "cell_type": "code",
      "source": [
        "train_df.groupBy('label').count().show()"
      ],
      "metadata": {
        "id": "YfmB0yT-YLmH",
        "outputId": "c77fe27d-a547-4396-db32-dec8acaeb149",
        "colab": {
          "base_uri": "https://localhost:8080/"
        }
      },
      "execution_count": 80,
      "outputs": [
        {
          "output_type": "stream",
          "name": "stdout",
          "text": [
            "+-----+-----+\n",
            "|label|count|\n",
            "+-----+-----+\n",
            "|  0.0| 6101|\n",
            "|  1.0|   16|\n",
            "+-----+-----+\n",
            "\n"
          ]
        }
      ]
    },
    {
      "cell_type": "code",
      "source": [
        "test_df.groupBy('label').count().show()"
      ],
      "metadata": {
        "id": "lVTS3ynKYUIf",
        "outputId": "ca1d716b-48bd-4be4-b0a0-d5d26b5abf22",
        "colab": {
          "base_uri": "https://localhost:8080/"
        }
      },
      "execution_count": 81,
      "outputs": [
        {
          "output_type": "stream",
          "name": "stdout",
          "text": [
            "+-----+-----+\n",
            "|label|count|\n",
            "+-----+-----+\n",
            "|  0.0| 1496|\n",
            "|  1.0|    4|\n",
            "+-----+-----+\n",
            "\n"
          ]
        }
      ]
    },
    {
      "cell_type": "markdown",
      "source": [
        "## Oversampling"
      ],
      "metadata": {
        "id": "kQ7Wji5mBqOd"
      }
    },
    {
      "cell_type": "code",
      "source": [
        "balanceRatio = train_df.filter(sparkf.col('label') == 1).count() / train_df.count()"
      ],
      "metadata": {
        "id": "oKx_ak-SBpvk"
      },
      "execution_count": 82,
      "outputs": []
    },
    {
      "cell_type": "code",
      "source": [
        "balanceRatio"
      ],
      "metadata": {
        "id": "57yxF9McFR0O",
        "outputId": "c6e7c031-327e-4629-fce3-0cd072b102dc",
        "colab": {
          "base_uri": "https://localhost:8080/"
        }
      },
      "execution_count": 83,
      "outputs": [
        {
          "output_type": "execute_result",
          "data": {
            "text/plain": [
              "0.0026156612718652933"
            ]
          },
          "metadata": {},
          "execution_count": 83
        }
      ]
    },
    {
      "cell_type": "code",
      "source": [
        "calWeight = sparkf.udf(lambda x: 1 * balanceRatio if x == 0 else (1 * (1.0 - balanceRatio)), DoubleType())"
      ],
      "metadata": {
        "id": "yh8IraJgFWvX"
      },
      "execution_count": 84,
      "outputs": []
    },
    {
      "cell_type": "code",
      "source": [
        "weighted_df = train_df.withColumn('class_weight', calWeight('label'))"
      ],
      "metadata": {
        "id": "RlXlx1D1F4dg"
      },
      "execution_count": 85,
      "outputs": []
    },
    {
      "cell_type": "markdown",
      "source": [
        "# 4. Modeling"
      ],
      "metadata": {
        "id": "eTmn1_BWP09F"
      }
    },
    {
      "cell_type": "code",
      "source": [
        "rf = RandomForestClassifier(labelCol='label', featuresCol='features', weightCol='class_weight', seed=49)"
      ],
      "metadata": {
        "id": "1-zY8HgZ6vc0"
      },
      "execution_count": 86,
      "outputs": []
    },
    {
      "cell_type": "code",
      "source": [
        "rfModel = rf.fit(weighted_df)"
      ],
      "metadata": {
        "id": "Z7qKvgiVMPeA"
      },
      "execution_count": 87,
      "outputs": []
    },
    {
      "cell_type": "code",
      "source": [
        "result_df = rfModel.transform(test_df.dropna())"
      ],
      "metadata": {
        "id": "2ixQ3FTAMwB4"
      },
      "execution_count": 88,
      "outputs": []
    },
    {
      "cell_type": "code",
      "source": [
        "result_df.select(['label', 'prediction']).filter(result_df.label == 1).show()"
      ],
      "metadata": {
        "id": "Uw42lnZgQ50W",
        "outputId": "c5c3764b-9f0e-4683-a4e3-603a09c5bd13",
        "colab": {
          "base_uri": "https://localhost:8080/"
        }
      },
      "execution_count": 89,
      "outputs": [
        {
          "output_type": "stream",
          "name": "stdout",
          "text": [
            "+-----+----------+\n",
            "|label|prediction|\n",
            "+-----+----------+\n",
            "|  1.0|       0.0|\n",
            "|  1.0|       0.0|\n",
            "|  1.0|       1.0|\n",
            "|  1.0|       0.0|\n",
            "+-----+----------+\n",
            "\n"
          ]
        }
      ]
    },
    {
      "cell_type": "code",
      "source": [
        "result_df.groupBy('prediction').count().show()"
      ],
      "metadata": {
        "id": "Uepn0XeVJJhn",
        "outputId": "83192c6c-ca61-426e-df86-b94422ad9a97",
        "colab": {
          "base_uri": "https://localhost:8080/"
        }
      },
      "execution_count": 90,
      "outputs": [
        {
          "output_type": "stream",
          "name": "stdout",
          "text": [
            "+----------+-----+\n",
            "|prediction|count|\n",
            "+----------+-----+\n",
            "|       0.0| 1487|\n",
            "|       1.0|   13|\n",
            "+----------+-----+\n",
            "\n"
          ]
        }
      ]
    },
    {
      "cell_type": "code",
      "source": [
        "result_df.groupBy('label','prediction').count().show()"
      ],
      "metadata": {
        "id": "7vqID1bwWNWl",
        "outputId": "ba97afb4-4cf1-4e7a-c198-c2df49bcc2c3",
        "colab": {
          "base_uri": "https://localhost:8080/"
        }
      },
      "execution_count": 91,
      "outputs": [
        {
          "output_type": "stream",
          "name": "stdout",
          "text": [
            "+-----+----------+-----+\n",
            "|label|prediction|count|\n",
            "+-----+----------+-----+\n",
            "|  1.0|       1.0|    1|\n",
            "|  0.0|       1.0|   12|\n",
            "|  1.0|       0.0|    3|\n",
            "|  0.0|       0.0| 1484|\n",
            "+-----+----------+-----+\n",
            "\n"
          ]
        }
      ]
    },
    {
      "cell_type": "code",
      "source": [
        "featureImportances = rfModel.featureImportances.toArray()"
      ],
      "metadata": {
        "id": "YTLbjdI3GEUt"
      },
      "execution_count": 92,
      "outputs": []
    },
    {
      "cell_type": "code",
      "source": [
        "def ExtractFeatureImp(featureImp, dataset, featuresCol):\n",
        "    list_extract = []\n",
        "    for i in dataset.schema[featuresCol].metadata[\"ml_attr\"][\"attrs\"]:\n",
        "        list_extract = list_extract + dataset.schema[featuresCol].metadata[\"ml_attr\"][\"attrs\"][i]\n",
        "    varlist = pd.DataFrame(list_extract)\n",
        "    varlist['score'] = varlist['idx'].apply(lambda x: featureImp[x])\n",
        "    return(varlist.sort_values('score', ascending = False))"
      ],
      "metadata": {
        "id": "DBywO6ZeGERs"
      },
      "execution_count": 93,
      "outputs": []
    },
    {
      "cell_type": "code",
      "source": [
        "ExtractFeatureImp(featureImportances, result_df, \"features\").head(30)"
      ],
      "metadata": {
        "id": "GDFqJKh7GAmS",
        "outputId": "e4b0f721-8534-4fa0-b184-2b66b37f65d9",
        "colab": {
          "base_uri": "https://localhost:8080/",
          "height": 206
        }
      },
      "execution_count": 94,
      "outputs": [
        {
          "output_type": "execute_result",
          "data": {
            "text/plain": [
              "   idx             name     score\n",
              "2    2        hitNumber  0.580087\n",
              "1    1  sum_hitaction_2  0.186468\n",
              "3    3       timeOnSite  0.128000\n",
              "4    4     isImpression  0.060996\n",
              "0    0        newVisits  0.044448"
            ],
            "text/html": [
              "\n",
              "  <div id=\"df-ac6b952f-f5ca-45e4-a099-2cfcc92624b3\">\n",
              "    <div class=\"colab-df-container\">\n",
              "      <div>\n",
              "<style scoped>\n",
              "    .dataframe tbody tr th:only-of-type {\n",
              "        vertical-align: middle;\n",
              "    }\n",
              "\n",
              "    .dataframe tbody tr th {\n",
              "        vertical-align: top;\n",
              "    }\n",
              "\n",
              "    .dataframe thead th {\n",
              "        text-align: right;\n",
              "    }\n",
              "</style>\n",
              "<table border=\"1\" class=\"dataframe\">\n",
              "  <thead>\n",
              "    <tr style=\"text-align: right;\">\n",
              "      <th></th>\n",
              "      <th>idx</th>\n",
              "      <th>name</th>\n",
              "      <th>score</th>\n",
              "    </tr>\n",
              "  </thead>\n",
              "  <tbody>\n",
              "    <tr>\n",
              "      <th>2</th>\n",
              "      <td>2</td>\n",
              "      <td>hitNumber</td>\n",
              "      <td>0.580087</td>\n",
              "    </tr>\n",
              "    <tr>\n",
              "      <th>1</th>\n",
              "      <td>1</td>\n",
              "      <td>sum_hitaction_2</td>\n",
              "      <td>0.186468</td>\n",
              "    </tr>\n",
              "    <tr>\n",
              "      <th>3</th>\n",
              "      <td>3</td>\n",
              "      <td>timeOnSite</td>\n",
              "      <td>0.128000</td>\n",
              "    </tr>\n",
              "    <tr>\n",
              "      <th>4</th>\n",
              "      <td>4</td>\n",
              "      <td>isImpression</td>\n",
              "      <td>0.060996</td>\n",
              "    </tr>\n",
              "    <tr>\n",
              "      <th>0</th>\n",
              "      <td>0</td>\n",
              "      <td>newVisits</td>\n",
              "      <td>0.044448</td>\n",
              "    </tr>\n",
              "  </tbody>\n",
              "</table>\n",
              "</div>\n",
              "      <button class=\"colab-df-convert\" onclick=\"convertToInteractive('df-ac6b952f-f5ca-45e4-a099-2cfcc92624b3')\"\n",
              "              title=\"Convert this dataframe to an interactive table.\"\n",
              "              style=\"display:none;\">\n",
              "        \n",
              "  <svg xmlns=\"http://www.w3.org/2000/svg\" height=\"24px\"viewBox=\"0 0 24 24\"\n",
              "       width=\"24px\">\n",
              "    <path d=\"M0 0h24v24H0V0z\" fill=\"none\"/>\n",
              "    <path d=\"M18.56 5.44l.94 2.06.94-2.06 2.06-.94-2.06-.94-.94-2.06-.94 2.06-2.06.94zm-11 1L8.5 8.5l.94-2.06 2.06-.94-2.06-.94L8.5 2.5l-.94 2.06-2.06.94zm10 10l.94 2.06.94-2.06 2.06-.94-2.06-.94-.94-2.06-.94 2.06-2.06.94z\"/><path d=\"M17.41 7.96l-1.37-1.37c-.4-.4-.92-.59-1.43-.59-.52 0-1.04.2-1.43.59L10.3 9.45l-7.72 7.72c-.78.78-.78 2.05 0 2.83L4 21.41c.39.39.9.59 1.41.59.51 0 1.02-.2 1.41-.59l7.78-7.78 2.81-2.81c.8-.78.8-2.07 0-2.86zM5.41 20L4 18.59l7.72-7.72 1.47 1.35L5.41 20z\"/>\n",
              "  </svg>\n",
              "      </button>\n",
              "      \n",
              "  <style>\n",
              "    .colab-df-container {\n",
              "      display:flex;\n",
              "      flex-wrap:wrap;\n",
              "      gap: 12px;\n",
              "    }\n",
              "\n",
              "    .colab-df-convert {\n",
              "      background-color: #E8F0FE;\n",
              "      border: none;\n",
              "      border-radius: 50%;\n",
              "      cursor: pointer;\n",
              "      display: none;\n",
              "      fill: #1967D2;\n",
              "      height: 32px;\n",
              "      padding: 0 0 0 0;\n",
              "      width: 32px;\n",
              "    }\n",
              "\n",
              "    .colab-df-convert:hover {\n",
              "      background-color: #E2EBFA;\n",
              "      box-shadow: 0px 1px 2px rgba(60, 64, 67, 0.3), 0px 1px 3px 1px rgba(60, 64, 67, 0.15);\n",
              "      fill: #174EA6;\n",
              "    }\n",
              "\n",
              "    [theme=dark] .colab-df-convert {\n",
              "      background-color: #3B4455;\n",
              "      fill: #D2E3FC;\n",
              "    }\n",
              "\n",
              "    [theme=dark] .colab-df-convert:hover {\n",
              "      background-color: #434B5C;\n",
              "      box-shadow: 0px 1px 3px 1px rgba(0, 0, 0, 0.15);\n",
              "      filter: drop-shadow(0px 1px 2px rgba(0, 0, 0, 0.3));\n",
              "      fill: #FFFFFF;\n",
              "    }\n",
              "  </style>\n",
              "\n",
              "      <script>\n",
              "        const buttonEl =\n",
              "          document.querySelector('#df-ac6b952f-f5ca-45e4-a099-2cfcc92624b3 button.colab-df-convert');\n",
              "        buttonEl.style.display =\n",
              "          google.colab.kernel.accessAllowed ? 'block' : 'none';\n",
              "\n",
              "        async function convertToInteractive(key) {\n",
              "          const element = document.querySelector('#df-ac6b952f-f5ca-45e4-a099-2cfcc92624b3');\n",
              "          const dataTable =\n",
              "            await google.colab.kernel.invokeFunction('convertToInteractive',\n",
              "                                                     [key], {});\n",
              "          if (!dataTable) return;\n",
              "\n",
              "          const docLinkHtml = 'Like what you see? Visit the ' +\n",
              "            '<a target=\"_blank\" href=https://colab.research.google.com/notebooks/data_table.ipynb>data table notebook</a>'\n",
              "            + ' to learn more about interactive tables.';\n",
              "          element.innerHTML = '';\n",
              "          dataTable['output_type'] = 'display_data';\n",
              "          await google.colab.output.renderOutput(dataTable, element);\n",
              "          const docLink = document.createElement('div');\n",
              "          docLink.innerHTML = docLinkHtml;\n",
              "          element.appendChild(docLink);\n",
              "        }\n",
              "      </script>\n",
              "    </div>\n",
              "  </div>\n",
              "  "
            ]
          },
          "metadata": {},
          "execution_count": 94
        }
      ]
    },
    {
      "cell_type": "code",
      "source": [
        "rfModel.getNumTrees"
      ],
      "metadata": {
        "id": "w6IBfpjKYck_",
        "outputId": "e7509cb1-0f24-404e-f0dc-57fbe7479370",
        "colab": {
          "base_uri": "https://localhost:8080/"
        }
      },
      "execution_count": 95,
      "outputs": [
        {
          "output_type": "execute_result",
          "data": {
            "text/plain": [
              "20"
            ]
          },
          "metadata": {},
          "execution_count": 95
        }
      ]
    },
    {
      "cell_type": "markdown",
      "source": [
        "# 5. Evaluation"
      ],
      "metadata": {
        "id": "yOFhocs9SXjM"
      }
    },
    {
      "cell_type": "code",
      "source": [
        "evaluator = BinaryClassificationEvaluator(rawPredictionCol='prediction', labelCol='label', metricName='areaUnderROC')\n",
        "print('Area Under ROC = %g' % evaluator.evaluate(result_df))"
      ],
      "metadata": {
        "id": "2R9hI32PSZwx",
        "outputId": "591b866c-f8cb-4606-a8ca-a494f1bebb13",
        "colab": {
          "base_uri": "https://localhost:8080/"
        }
      },
      "execution_count": 96,
      "outputs": [
        {
          "output_type": "stream",
          "name": "stdout",
          "text": [
            "Area Under ROC = 0.620989\n"
          ]
        }
      ]
    },
    {
      "cell_type": "code",
      "source": [
        "evaluator = MulticlassClassificationEvaluator(predictionCol='prediction', labelCol='label')\n",
        "print('F1 score = %g' % evaluator.evaluate(result_df))\n",
        "print('Precision = %g' % evaluator.evaluate(result_df, {evaluator.metricName: 'precisionByLabel'}))\n",
        "print('Recall = %g' % evaluator.evaluate(result_df, {evaluator.metricName: 'recallByLabel'}))"
      ],
      "metadata": {
        "id": "F87WSFDcSrcr",
        "outputId": "0b4eba31-274e-4842-bfa7-3541026742a0",
        "colab": {
          "base_uri": "https://localhost:8080/"
        }
      },
      "execution_count": 97,
      "outputs": [
        {
          "output_type": "stream",
          "name": "stdout",
          "text": [
            "F1 score = 0.992632\n",
            "Precision = 0.997983\n",
            "Recall = 0.991979\n"
          ]
        }
      ]
    },
    {
      "cell_type": "markdown",
      "source": [
        "## Tuning"
      ],
      "metadata": {
        "id": "Z5S0HOnVTh1O"
      }
    },
    {
      "cell_type": "code",
      "source": [
        "paramGrid = ParamGridBuilder() \\\n",
        ".addGrid(rf.numTrees, [20, 50, 100]) \\\n",
        ".build()"
      ],
      "metadata": {
        "id": "CEGokYijThJn"
      },
      "execution_count": 98,
      "outputs": []
    },
    {
      "cell_type": "code",
      "source": [
        "crossval = CrossValidator(estimator=rf, \n",
        "                          estimatorParamMaps=paramGrid, \n",
        "                          evaluator=BinaryClassificationEvaluator(), \n",
        "                          numFolds=5)"
      ],
      "metadata": {
        "id": "B2psdRLzXYUZ"
      },
      "execution_count": 99,
      "outputs": []
    },
    {
      "cell_type": "code",
      "source": [
        "cvModel = crossval.fit(weighted_df)"
      ],
      "metadata": {
        "id": "oKy5rZQ_YQeJ"
      },
      "execution_count": 100,
      "outputs": []
    },
    {
      "cell_type": "code",
      "source": [
        "result_cv_df = cvModel.transform(test_df.dropna())"
      ],
      "metadata": {
        "id": "FP6vhz6gdlpa"
      },
      "execution_count": 101,
      "outputs": []
    },
    {
      "cell_type": "code",
      "source": [
        "evaluator = BinaryClassificationEvaluator(rawPredictionCol='prediction', labelCol='label', metricName='areaUnderROC')\n",
        "print('Area Under ROC = %g' % evaluator.evaluate(result_cv_df))"
      ],
      "metadata": {
        "id": "Yc8U6y09d1GX",
        "outputId": "cfc46004-0f1b-4271-b861-9ae3695c01b7",
        "colab": {
          "base_uri": "https://localhost:8080/"
        }
      },
      "execution_count": 102,
      "outputs": [
        {
          "output_type": "stream",
          "name": "stdout",
          "text": [
            "Area Under ROC = 0.747326\n"
          ]
        }
      ]
    },
    {
      "cell_type": "markdown",
      "source": [
        "# 6. Deployment"
      ],
      "metadata": {
        "id": "E5cguk7rNi3F"
      }
    },
    {
      "cell_type": "markdown",
      "source": [
        "REST API"
      ],
      "metadata": {
        "id": "lGJZf7BxNlvr"
      }
    },
    {
      "cell_type": "code",
      "source": [],
      "metadata": {
        "id": "vfHdTmOsGEaL"
      },
      "execution_count": 102,
      "outputs": []
    },
    {
      "cell_type": "code",
      "source": [],
      "metadata": {
        "id": "iAo1ZIuzGEXl"
      },
      "execution_count": 102,
      "outputs": []
    },
    {
      "cell_type": "code",
      "source": [],
      "metadata": {
        "id": "h1fTH47IKD3j"
      },
      "execution_count": 102,
      "outputs": []
    }
  ]
}