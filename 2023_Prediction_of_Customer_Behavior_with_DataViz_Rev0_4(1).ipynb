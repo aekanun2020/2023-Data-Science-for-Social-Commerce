{
 "cells": [
  {
   "cell_type": "markdown",
   "metadata": {
    "id": "SYq4wBqPMeUF"
   },
   "source": [
    "# Setting up Spark Environment"
   ]
  },
  {
   "cell_type": "code",
   "execution_count": 1,
   "metadata": {},
   "outputs": [
    {
     "name": "stderr",
     "output_type": "stream",
     "text": [
      "23/05/21 13:02:46 WARN NativeCodeLoader: Unable to load native-hadoop library for your platform... using builtin-java classes where applicable\n",
      "Using Spark's default log4j profile: org/apache/spark/log4j-defaults.properties\n",
      "Setting default log level to \"WARN\".\n",
      "To adjust logging level use sc.setLogLevel(newLevel). For SparkR, use setLogLevel(newLevel).\n"
     ]
    }
   ],
   "source": [
    "from pyspark.sql import SparkSession\n",
    "\n",
    "spark = SparkSession.\\\n",
    "        builder.\\\n",
    "        appName(\"Social Commerce\").\\\n",
    "        master(\"spark://spark-master:7077\").\\\n",
    "        config(\"spark.executor.memory\", \"1000m\").\\\n",
    "        config(\"spark.executor.cores\", \"2\").\\\n",
    "        config(\"spark.cores.max\", \"6\").\\\n",
    "        getOrCreate()\n",
    "\n"
   ]
  },
  {
   "cell_type": "code",
   "execution_count": 2,
   "metadata": {
    "colab": {
     "base_uri": "https://localhost:8080/"
    },
    "id": "JlXR8MhDQ1_a",
    "outputId": "f8dd2e3d-82f0-4369-c558-8e56ebfdabb9"
   },
   "outputs": [],
   "source": [
    "# Install necessary packages\n",
    "#!pip install pyspark==3.2.0\n",
    "\n",
    "# Import necessary libraries\n",
    "from pyspark.sql import SparkSession\n",
    "from pyspark.ml.feature import VectorAssembler, StringIndexer\n",
    "from pyspark.ml.regression import DecisionTreeRegressor\n",
    "from pyspark.ml import Pipeline\n",
    "from pyspark.ml.evaluation import RegressionEvaluator\n",
    "\n",
    "# Create SparkSession\n",
    "# spark = SparkSession.builder.master(\"local[*]\").getOrCreate()"
   ]
  },
  {
   "cell_type": "markdown",
   "metadata": {
    "id": "7OpgrJBRMZ0_"
   },
   "source": [
    "## Libraries and Modules Installation"
   ]
  },
  {
   "cell_type": "code",
   "execution_count": 3,
   "metadata": {
    "id": "QeyucOzDM1hG"
   },
   "outputs": [],
   "source": [
    "#Spark\n",
    "from pyspark.sql import functions as sparkf\n",
    "from pyspark.sql import Window as W\n",
    "from pyspark.sql.types import *\n",
    "from pyspark.ml.feature import StringIndexer, OneHotEncoder\n",
    "from pyspark.mllib.linalg import Vectors\n",
    "from pyspark.ml.feature import VectorAssembler\n",
    "from pyspark.ml import Pipeline\n",
    "from pyspark.ml.classification import RandomForestClassifier\n",
    "from pyspark.ml.tuning import CrossValidator, ParamGridBuilder\n",
    "from pyspark.ml.evaluation import BinaryClassificationEvaluator, MulticlassClassificationEvaluator\n",
    "\n",
    "#Python\n",
    "import matplotlib.pyplot as plt\n",
    "import pandas as pd\n",
    "import numpy as np\n",
    "import sys\n",
    "from functools import reduce"
   ]
  },
  {
   "cell_type": "markdown",
   "metadata": {
    "id": "dGE-VXFnlt7O"
   },
   "source": [
    "## Data Collection"
   ]
  },
  {
   "cell_type": "code",
   "execution_count": 4,
   "metadata": {},
   "outputs": [],
   "source": [
    "#! apt-get update\n",
    "#! apt-get install wget -y"
   ]
  },
  {
   "cell_type": "code",
   "execution_count": 5,
   "metadata": {
    "colab": {
     "base_uri": "https://localhost:8080/"
    },
    "id": "GsltUxZza2LE",
    "outputId": "f800f159-1bd5-4bee-95e4-7b2153b1dc7b"
   },
   "outputs": [],
   "source": [
    "#! wget https://storage.googleapis.com/22may2023/testfunnel.csv\n",
    "#! wget https://storage.googleapis.com/aekanunlab/funneldata.zip"
   ]
  },
  {
   "cell_type": "code",
   "execution_count": 6,
   "metadata": {},
   "outputs": [],
   "source": [
    "#! apt-get update\n",
    "#! apt-get install unzip -y"
   ]
  },
  {
   "cell_type": "code",
   "execution_count": 7,
   "metadata": {
    "colab": {
     "base_uri": "https://localhost:8080/"
    },
    "id": "Rx162KwKEiD3",
    "outputId": "d0fc49c2-6f0c-429e-ea1a-cd265a36d2c2"
   },
   "outputs": [],
   "source": [
    "#! unzip funneldata.zip"
   ]
  },
  {
   "cell_type": "code",
   "execution_count": 8,
   "metadata": {
    "colab": {
     "base_uri": "https://localhost:8080/"
    },
    "id": "Fn4-dQJpaeTW",
    "outputId": "7eb1c96f-c361-491d-a90b-51b5ecf06e2f"
   },
   "outputs": [
    {
     "name": "stdout",
     "output_type": "stream",
     "text": [
      "source,isTrueDirect,sourceKeyword,medium,isVideoAd,fullVisitorId,visitId,date,newVisits,hitReferer,hitType,hitAction_type,hitNumber,hitHour,hitMin,timeMicroSec,v2ProductName,productListName,isClick,isImpression,sessionQualityDim,timeOnScreen,timeOnSite,totalTransactionRevenue\n",
      "google,true,(not provided),organic,,4988612949713423910,1489617360,20170315,,,PAGE,0,28,15,46,608771,Google Accent Insulated Stainless Steel Bottle,Category,,true,,,1897,\n",
      "google,true,(not provided),organic,,4988612949713423910,1489617360,20170315,,,PAGE,0,27,15,46,605064,Google Pocket Bluetooth Speaker,Category,,true,,,1897,\n"
     ]
    }
   ],
   "source": [
    "#! head -3 testfunnel.csv\n",
    "! head -3 000000000000"
   ]
  },
  {
   "cell_type": "code",
   "execution_count": 9,
   "metadata": {
    "colab": {
     "base_uri": "https://localhost:8080/"
    },
    "id": "ZPIGtjCqEFmS",
    "outputId": "c6601f29-9415-4059-9f93-b851d7f6d3d0"
   },
   "outputs": [
    {
     "name": "stdout",
     "output_type": "stream",
     "text": [
      "917815 000000000000\n"
     ]
    }
   ],
   "source": [
    "#! wc -l testfunnel.csv\n",
    "! wc -l 000000000000"
   ]
  },
  {
   "cell_type": "code",
   "execution_count": 10,
   "metadata": {
    "id": "DRVIPIh503XR"
   },
   "outputs": [
    {
     "name": "stderr",
     "output_type": "stream",
     "text": [
      "                                                                                \r"
     ]
    }
   ],
   "source": [
    "raw_df = spark.read.option('header','true')\\\n",
    ".option(\"inferSchema\" , \"true\")\\\n",
    ".format('csv').load('./000000000000')"
   ]
  },
  {
   "cell_type": "code",
   "execution_count": null,
   "metadata": {
    "id": "qMxsQ3M_lp-p"
   },
   "outputs": [],
   "source": []
  },
  {
   "cell_type": "markdown",
   "metadata": {
    "id": "hGSzhwXj3yeo"
   },
   "source": [
    "# 1. Business Understanding"
   ]
  },
  {
   "cell_type": "markdown",
   "metadata": {
    "id": "dDaZFOMCNNuP"
   },
   "source": [
    "**ธุรกิจต้องการได้รับ Machine Learning Model ที่ทำให้ทราบล่วงหน้าว่า ลูกค้าที่กำลังเลือกดูสินค้าอยู่ จะซื้อหรือไม่ซื้อสินค้าหรือไม่ (Binary Classification)**"
   ]
  },
  {
   "cell_type": "code",
   "execution_count": 11,
   "metadata": {},
   "outputs": [],
   "source": [
    "business_requiredCol_list = [] ### ให้รู้ว่านี่คือรายชื่อ col. ที่ ignore ไม่ได้ และในท้ายที่สุดต้องยอม clean null ด้วย .dropna() บน col. เหล่านี้\n",
    "highDispersion = []\n",
    "highScale = []\n",
    "ignoredCols = []\n",
    "featureTrainingCols = []"
   ]
  },
  {
   "cell_type": "code",
   "execution_count": 12,
   "metadata": {
    "id": "BO6KPVFqkV5l"
   },
   "outputs": [],
   "source": [
    "business_requiredCol_list = [x for x in raw_df.columns]"
   ]
  },
  {
   "cell_type": "code",
   "execution_count": 13,
   "metadata": {
    "id": "pzf467KYc88w"
   },
   "outputs": [],
   "source": [
    "customerBehaviorCol_list = [x for x in raw_df.columns \\\n",
    "         if ((x != 'sourceKeyword')&(x != 'fullVisitorId')&(x != 'isVideoAd')&(x != 'date')\\\n",
    "             &(x != 'isTrueDirect')&(x != 'hitHour')&(x != 'hitMin')&(x != 'isClick')\\\n",
    "             &(x != 'productListName')&(x != 'isImpression')&(x != 'sessionQualityDim')&(x != 'timeOnScreen')\\\n",
    "             &(x != 'hitReferer')&(x != 'medium')&(x != 'hitType'))]"
   ]
  },
  {
   "cell_type": "code",
   "execution_count": 14,
   "metadata": {},
   "outputs": [
    {
     "data": {
      "text/plain": [
       "['source',\n",
       " 'visitId',\n",
       " 'newVisits',\n",
       " 'hitAction_type',\n",
       " 'hitNumber',\n",
       " 'timeMicroSec',\n",
       " 'v2ProductName',\n",
       " 'timeOnSite',\n",
       " 'totalTransactionRevenue']"
      ]
     },
     "execution_count": 14,
     "metadata": {},
     "output_type": "execute_result"
    }
   ],
   "source": [
    "customerBehaviorCol_list"
   ]
  },
  {
   "cell_type": "code",
   "execution_count": null,
   "metadata": {},
   "outputs": [],
   "source": []
  },
  {
   "cell_type": "code",
   "execution_count": null,
   "metadata": {},
   "outputs": [],
   "source": []
  },
  {
   "cell_type": "markdown",
   "metadata": {
    "id": "QcjImh624NjJ"
   },
   "source": [
    "# 2. Data Understanding"
   ]
  },
  {
   "cell_type": "markdown",
   "metadata": {
    "id": "F9gMDPZFufhb"
   },
   "source": [
    "### 2.1 Previewing Data"
   ]
  },
  {
   "cell_type": "code",
   "execution_count": 15,
   "metadata": {
    "colab": {
     "base_uri": "https://localhost:8080/"
    },
    "id": "0p6sML4L34WI",
    "outputId": "0da9a6d0-7a78-4b20-f469-e751a26e5c4b"
   },
   "outputs": [
    {
     "name": "stderr",
     "output_type": "stream",
     "text": [
      "                                                                                \r"
     ]
    },
    {
     "data": {
      "text/plain": [
       "917814"
      ]
     },
     "execution_count": 15,
     "metadata": {},
     "output_type": "execute_result"
    }
   ],
   "source": [
    "raw_df.count()"
   ]
  },
  {
   "cell_type": "code",
   "execution_count": 16,
   "metadata": {
    "colab": {
     "base_uri": "https://localhost:8080/"
    },
    "id": "mBjlU_WkckEg",
    "outputId": "2cf2415b-db85-4847-c3e4-6cd1b16e49b4"
   },
   "outputs": [
    {
     "data": {
      "text/plain": [
       "24"
      ]
     },
     "execution_count": 16,
     "metadata": {},
     "output_type": "execute_result"
    }
   ],
   "source": [
    "len(raw_df.columns)"
   ]
  },
  {
   "cell_type": "code",
   "execution_count": 17,
   "metadata": {
    "colab": {
     "base_uri": "https://localhost:8080/",
     "height": 947
    },
    "id": "eoEDqDr809CE",
    "outputId": "12206dfc-72de-403c-b831-5de8fb12e224"
   },
   "outputs": [
    {
     "name": "stderr",
     "output_type": "stream",
     "text": [
      "                                                                                \r"
     ]
    },
    {
     "data": {
      "text/html": [
       "<div>\n",
       "<style scoped>\n",
       "    .dataframe tbody tr th:only-of-type {\n",
       "        vertical-align: middle;\n",
       "    }\n",
       "\n",
       "    .dataframe tbody tr th {\n",
       "        vertical-align: top;\n",
       "    }\n",
       "\n",
       "    .dataframe thead th {\n",
       "        text-align: right;\n",
       "    }\n",
       "</style>\n",
       "<table border=\"1\" class=\"dataframe\">\n",
       "  <thead>\n",
       "    <tr style=\"text-align: right;\">\n",
       "      <th></th>\n",
       "      <th>0</th>\n",
       "      <th>1</th>\n",
       "      <th>2</th>\n",
       "      <th>3</th>\n",
       "      <th>4</th>\n",
       "      <th>5</th>\n",
       "      <th>6</th>\n",
       "      <th>7</th>\n",
       "      <th>8</th>\n",
       "      <th>9</th>\n",
       "      <th>10</th>\n",
       "      <th>11</th>\n",
       "    </tr>\n",
       "  </thead>\n",
       "  <tbody>\n",
       "    <tr>\n",
       "      <th>source</th>\n",
       "      <td>(direct)</td>\n",
       "      <td>(direct)</td>\n",
       "      <td>(direct)</td>\n",
       "      <td>(direct)</td>\n",
       "      <td>(direct)</td>\n",
       "      <td>google</td>\n",
       "      <td>analytics.google.com</td>\n",
       "      <td>(direct)</td>\n",
       "      <td>(direct)</td>\n",
       "      <td>dealspotr.com</td>\n",
       "      <td>(direct)</td>\n",
       "      <td>(direct)</td>\n",
       "    </tr>\n",
       "    <tr>\n",
       "      <th>isTrueDirect</th>\n",
       "      <td>None</td>\n",
       "      <td>True</td>\n",
       "      <td>True</td>\n",
       "      <td>None</td>\n",
       "      <td>None</td>\n",
       "      <td>None</td>\n",
       "      <td>None</td>\n",
       "      <td>True</td>\n",
       "      <td>None</td>\n",
       "      <td>True</td>\n",
       "      <td>None</td>\n",
       "      <td>True</td>\n",
       "    </tr>\n",
       "    <tr>\n",
       "      <th>sourceKeyword</th>\n",
       "      <td>None</td>\n",
       "      <td>None</td>\n",
       "      <td>None</td>\n",
       "      <td>None</td>\n",
       "      <td>None</td>\n",
       "      <td>(not provided)</td>\n",
       "      <td>None</td>\n",
       "      <td>None</td>\n",
       "      <td>None</td>\n",
       "      <td>None</td>\n",
       "      <td>None</td>\n",
       "      <td>None</td>\n",
       "    </tr>\n",
       "    <tr>\n",
       "      <th>medium</th>\n",
       "      <td>(none)</td>\n",
       "      <td>(none)</td>\n",
       "      <td>(none)</td>\n",
       "      <td>(none)</td>\n",
       "      <td>(none)</td>\n",
       "      <td>organic</td>\n",
       "      <td>referral</td>\n",
       "      <td>(none)</td>\n",
       "      <td>(none)</td>\n",
       "      <td>referral</td>\n",
       "      <td>(none)</td>\n",
       "      <td>(none)</td>\n",
       "    </tr>\n",
       "    <tr>\n",
       "      <th>isVideoAd</th>\n",
       "      <td>None</td>\n",
       "      <td>None</td>\n",
       "      <td>None</td>\n",
       "      <td>None</td>\n",
       "      <td>None</td>\n",
       "      <td>None</td>\n",
       "      <td>None</td>\n",
       "      <td>None</td>\n",
       "      <td>None</td>\n",
       "      <td>None</td>\n",
       "      <td>None</td>\n",
       "      <td>None</td>\n",
       "    </tr>\n",
       "    <tr>\n",
       "      <th>fullVisitorId</th>\n",
       "      <td>5084994463176065937</td>\n",
       "      <td>5086041801666974799</td>\n",
       "      <td>5175920907996496542</td>\n",
       "      <td>5185645869012304658</td>\n",
       "      <td>5194385472773193231</td>\n",
       "      <td>5231506599433598915</td>\n",
       "      <td>5257913853065465385</td>\n",
       "      <td>5300879295473662502</td>\n",
       "      <td>5305785224618680102</td>\n",
       "      <td>5340054383477452565</td>\n",
       "      <td>5368646030907298858</td>\n",
       "      <td>5483180427975545404</td>\n",
       "    </tr>\n",
       "    <tr>\n",
       "      <th>visitId</th>\n",
       "      <td>1473441877</td>\n",
       "      <td>1482509534</td>\n",
       "      <td>1480734238</td>\n",
       "      <td>1497981134</td>\n",
       "      <td>1478540248</td>\n",
       "      <td>1489195672</td>\n",
       "      <td>1473947683</td>\n",
       "      <td>1478485050</td>\n",
       "      <td>1478550894</td>\n",
       "      <td>1492106908</td>\n",
       "      <td>1486396839</td>\n",
       "      <td>1495438231</td>\n",
       "    </tr>\n",
       "    <tr>\n",
       "      <th>date</th>\n",
       "      <td>20160909</td>\n",
       "      <td>20161223</td>\n",
       "      <td>20161202</td>\n",
       "      <td>20170620</td>\n",
       "      <td>20161107</td>\n",
       "      <td>20170310</td>\n",
       "      <td>20160915</td>\n",
       "      <td>20161106</td>\n",
       "      <td>20161107</td>\n",
       "      <td>20170413</td>\n",
       "      <td>20170206</td>\n",
       "      <td>20170522</td>\n",
       "    </tr>\n",
       "    <tr>\n",
       "      <th>newVisits</th>\n",
       "      <td>1.0</td>\n",
       "      <td>NaN</td>\n",
       "      <td>NaN</td>\n",
       "      <td>1.0</td>\n",
       "      <td>1.0</td>\n",
       "      <td>1.0</td>\n",
       "      <td>1.0</td>\n",
       "      <td>1.0</td>\n",
       "      <td>1.0</td>\n",
       "      <td>NaN</td>\n",
       "      <td>1.0</td>\n",
       "      <td>1.0</td>\n",
       "    </tr>\n",
       "    <tr>\n",
       "      <th>hitReferer</th>\n",
       "      <td>None</td>\n",
       "      <td>None</td>\n",
       "      <td>None</td>\n",
       "      <td>None</td>\n",
       "      <td>None</td>\n",
       "      <td>None</td>\n",
       "      <td>None</td>\n",
       "      <td>None</td>\n",
       "      <td>None</td>\n",
       "      <td>None</td>\n",
       "      <td>http://www.google.at/</td>\n",
       "      <td>None</td>\n",
       "    </tr>\n",
       "    <tr>\n",
       "      <th>hitType</th>\n",
       "      <td>PAGE</td>\n",
       "      <td>PAGE</td>\n",
       "      <td>PAGE</td>\n",
       "      <td>EVENT</td>\n",
       "      <td>PAGE</td>\n",
       "      <td>PAGE</td>\n",
       "      <td>PAGE</td>\n",
       "      <td>PAGE</td>\n",
       "      <td>EVENT</td>\n",
       "      <td>PAGE</td>\n",
       "      <td>PAGE</td>\n",
       "      <td>PAGE</td>\n",
       "    </tr>\n",
       "    <tr>\n",
       "      <th>hitAction_type</th>\n",
       "      <td>0</td>\n",
       "      <td>0</td>\n",
       "      <td>0</td>\n",
       "      <td>3</td>\n",
       "      <td>0</td>\n",
       "      <td>0</td>\n",
       "      <td>0</td>\n",
       "      <td>0</td>\n",
       "      <td>3</td>\n",
       "      <td>0</td>\n",
       "      <td>0</td>\n",
       "      <td>0</td>\n",
       "    </tr>\n",
       "    <tr>\n",
       "      <th>hitNumber</th>\n",
       "      <td>10</td>\n",
       "      <td>2</td>\n",
       "      <td>5</td>\n",
       "      <td>8</td>\n",
       "      <td>34</td>\n",
       "      <td>5</td>\n",
       "      <td>11</td>\n",
       "      <td>4</td>\n",
       "      <td>216</td>\n",
       "      <td>37</td>\n",
       "      <td>1</td>\n",
       "      <td>2</td>\n",
       "    </tr>\n",
       "    <tr>\n",
       "      <th>hitHour</th>\n",
       "      <td>10</td>\n",
       "      <td>8</td>\n",
       "      <td>19</td>\n",
       "      <td>10</td>\n",
       "      <td>9</td>\n",
       "      <td>18</td>\n",
       "      <td>7</td>\n",
       "      <td>18</td>\n",
       "      <td>13</td>\n",
       "      <td>11</td>\n",
       "      <td>8</td>\n",
       "      <td>0</td>\n",
       "    </tr>\n",
       "    <tr>\n",
       "      <th>hitMin</th>\n",
       "      <td>25</td>\n",
       "      <td>12</td>\n",
       "      <td>4</td>\n",
       "      <td>56</td>\n",
       "      <td>45</td>\n",
       "      <td>0</td>\n",
       "      <td>4</td>\n",
       "      <td>17</td>\n",
       "      <td>8</td>\n",
       "      <td>17</td>\n",
       "      <td>0</td>\n",
       "      <td>30</td>\n",
       "    </tr>\n",
       "    <tr>\n",
       "      <th>timeMicroSec</th>\n",
       "      <td>78081</td>\n",
       "      <td>8605</td>\n",
       "      <td>22549</td>\n",
       "      <td>247326</td>\n",
       "      <td>452002</td>\n",
       "      <td>1946776</td>\n",
       "      <td>571527</td>\n",
       "      <td>15631</td>\n",
       "      <td>2000236</td>\n",
       "      <td>553779</td>\n",
       "      <td>0</td>\n",
       "      <td>5180</td>\n",
       "    </tr>\n",
       "    <tr>\n",
       "      <th>v2ProductName</th>\n",
       "      <td>Four Color Retractable Pen</td>\n",
       "      <td>You Tube Toddler Short Sleeve Tee Red</td>\n",
       "      <td>Google Alpine Style Backpack</td>\n",
       "      <td>Ballpoint Pen Blue</td>\n",
       "      <td>YouTube Wool Heather Cap Heather/Black</td>\n",
       "      <td>Google 40 oz Insulated Monster Bottle</td>\n",
       "      <td>You Tube Toddler Short Sleeve Tee Red</td>\n",
       "      <td>Google Men's 100% Cotton Short Sleeve Hero Tee...</td>\n",
       "      <td>Android Journal Book Set</td>\n",
       "      <td>Google Kick Ball</td>\n",
       "      <td>YouTube Luggage Tag</td>\n",
       "      <td>Google Snapback Hat Black</td>\n",
       "    </tr>\n",
       "    <tr>\n",
       "      <th>productListName</th>\n",
       "      <td>Category</td>\n",
       "      <td>Category</td>\n",
       "      <td>Category</td>\n",
       "      <td>(not set)</td>\n",
       "      <td>Category</td>\n",
       "      <td>Category</td>\n",
       "      <td>Category</td>\n",
       "      <td>Category</td>\n",
       "      <td>(not set)</td>\n",
       "      <td>Category</td>\n",
       "      <td>Category</td>\n",
       "      <td>Category</td>\n",
       "    </tr>\n",
       "    <tr>\n",
       "      <th>isClick</th>\n",
       "      <td>None</td>\n",
       "      <td>None</td>\n",
       "      <td>None</td>\n",
       "      <td>None</td>\n",
       "      <td>None</td>\n",
       "      <td>None</td>\n",
       "      <td>None</td>\n",
       "      <td>None</td>\n",
       "      <td>None</td>\n",
       "      <td>None</td>\n",
       "      <td>None</td>\n",
       "      <td>None</td>\n",
       "    </tr>\n",
       "    <tr>\n",
       "      <th>isImpression</th>\n",
       "      <td>True</td>\n",
       "      <td>True</td>\n",
       "      <td>True</td>\n",
       "      <td>None</td>\n",
       "      <td>True</td>\n",
       "      <td>True</td>\n",
       "      <td>True</td>\n",
       "      <td>True</td>\n",
       "      <td>None</td>\n",
       "      <td>True</td>\n",
       "      <td>True</td>\n",
       "      <td>True</td>\n",
       "    </tr>\n",
       "    <tr>\n",
       "      <th>sessionQualityDim</th>\n",
       "      <td>NaN</td>\n",
       "      <td>NaN</td>\n",
       "      <td>NaN</td>\n",
       "      <td>NaN</td>\n",
       "      <td>NaN</td>\n",
       "      <td>NaN</td>\n",
       "      <td>NaN</td>\n",
       "      <td>NaN</td>\n",
       "      <td>NaN</td>\n",
       "      <td>NaN</td>\n",
       "      <td>NaN</td>\n",
       "      <td>NaN</td>\n",
       "    </tr>\n",
       "    <tr>\n",
       "      <th>timeOnScreen</th>\n",
       "      <td>None</td>\n",
       "      <td>None</td>\n",
       "      <td>None</td>\n",
       "      <td>None</td>\n",
       "      <td>None</td>\n",
       "      <td>None</td>\n",
       "      <td>None</td>\n",
       "      <td>None</td>\n",
       "      <td>None</td>\n",
       "      <td>None</td>\n",
       "      <td>None</td>\n",
       "      <td>None</td>\n",
       "    </tr>\n",
       "    <tr>\n",
       "      <th>timeOnSite</th>\n",
       "      <td>78.0</td>\n",
       "      <td>503.0</td>\n",
       "      <td>67.0</td>\n",
       "      <td>1110.0</td>\n",
       "      <td>1565.0</td>\n",
       "      <td>2380.0</td>\n",
       "      <td>1382.0</td>\n",
       "      <td>16.0</td>\n",
       "      <td>2469.0</td>\n",
       "      <td>1747.0</td>\n",
       "      <td>NaN</td>\n",
       "      <td>350.0</td>\n",
       "    </tr>\n",
       "    <tr>\n",
       "      <th>totalTransactionRevenue</th>\n",
       "      <td>NaN</td>\n",
       "      <td>49790000.0</td>\n",
       "      <td>NaN</td>\n",
       "      <td>544250000.0</td>\n",
       "      <td>78760000.0</td>\n",
       "      <td>NaN</td>\n",
       "      <td>NaN</td>\n",
       "      <td>NaN</td>\n",
       "      <td>NaN</td>\n",
       "      <td>NaN</td>\n",
       "      <td>NaN</td>\n",
       "      <td>NaN</td>\n",
       "    </tr>\n",
       "  </tbody>\n",
       "</table>\n",
       "</div>"
      ],
      "text/plain": [
       "                                                 0   \\\n",
       "source                                     (direct)   \n",
       "isTrueDirect                                   None   \n",
       "sourceKeyword                                  None   \n",
       "medium                                       (none)   \n",
       "isVideoAd                                      None   \n",
       "fullVisitorId                   5084994463176065937   \n",
       "visitId                                  1473441877   \n",
       "date                                       20160909   \n",
       "newVisits                                       1.0   \n",
       "hitReferer                                     None   \n",
       "hitType                                        PAGE   \n",
       "hitAction_type                                    0   \n",
       "hitNumber                                        10   \n",
       "hitHour                                          10   \n",
       "hitMin                                           25   \n",
       "timeMicroSec                                  78081   \n",
       "v2ProductName            Four Color Retractable Pen   \n",
       "productListName                            Category   \n",
       "isClick                                        None   \n",
       "isImpression                                   True   \n",
       "sessionQualityDim                               NaN   \n",
       "timeOnScreen                                   None   \n",
       "timeOnSite                                     78.0   \n",
       "totalTransactionRevenue                         NaN   \n",
       "\n",
       "                                                            1   \\\n",
       "source                                                (direct)   \n",
       "isTrueDirect                                              True   \n",
       "sourceKeyword                                             None   \n",
       "medium                                                  (none)   \n",
       "isVideoAd                                                 None   \n",
       "fullVisitorId                              5086041801666974799   \n",
       "visitId                                             1482509534   \n",
       "date                                                  20161223   \n",
       "newVisits                                                  NaN   \n",
       "hitReferer                                                None   \n",
       "hitType                                                   PAGE   \n",
       "hitAction_type                                               0   \n",
       "hitNumber                                                    2   \n",
       "hitHour                                                      8   \n",
       "hitMin                                                      12   \n",
       "timeMicroSec                                              8605   \n",
       "v2ProductName            You Tube Toddler Short Sleeve Tee Red   \n",
       "productListName                                       Category   \n",
       "isClick                                                   None   \n",
       "isImpression                                              True   \n",
       "sessionQualityDim                                          NaN   \n",
       "timeOnScreen                                              None   \n",
       "timeOnSite                                               503.0   \n",
       "totalTransactionRevenue                             49790000.0   \n",
       "\n",
       "                                                   2                    3   \\\n",
       "source                                       (direct)             (direct)   \n",
       "isTrueDirect                                     True                 None   \n",
       "sourceKeyword                                    None                 None   \n",
       "medium                                         (none)               (none)   \n",
       "isVideoAd                                        None                 None   \n",
       "fullVisitorId                     5175920907996496542  5185645869012304658   \n",
       "visitId                                    1480734238           1497981134   \n",
       "date                                         20161202             20170620   \n",
       "newVisits                                         NaN                  1.0   \n",
       "hitReferer                                       None                 None   \n",
       "hitType                                          PAGE                EVENT   \n",
       "hitAction_type                                      0                    3   \n",
       "hitNumber                                           5                    8   \n",
       "hitHour                                            19                   10   \n",
       "hitMin                                              4                   56   \n",
       "timeMicroSec                                    22549               247326   \n",
       "v2ProductName            Google Alpine Style Backpack   Ballpoint Pen Blue   \n",
       "productListName                              Category            (not set)   \n",
       "isClick                                          None                 None   \n",
       "isImpression                                     True                 None   \n",
       "sessionQualityDim                                 NaN                  NaN   \n",
       "timeOnScreen                                     None                 None   \n",
       "timeOnSite                                       67.0               1110.0   \n",
       "totalTransactionRevenue                           NaN          544250000.0   \n",
       "\n",
       "                                                             4   \\\n",
       "source                                                 (direct)   \n",
       "isTrueDirect                                               None   \n",
       "sourceKeyword                                              None   \n",
       "medium                                                   (none)   \n",
       "isVideoAd                                                  None   \n",
       "fullVisitorId                               5194385472773193231   \n",
       "visitId                                              1478540248   \n",
       "date                                                   20161107   \n",
       "newVisits                                                   1.0   \n",
       "hitReferer                                                 None   \n",
       "hitType                                                    PAGE   \n",
       "hitAction_type                                                0   \n",
       "hitNumber                                                    34   \n",
       "hitHour                                                       9   \n",
       "hitMin                                                       45   \n",
       "timeMicroSec                                             452002   \n",
       "v2ProductName            YouTube Wool Heather Cap Heather/Black   \n",
       "productListName                                        Category   \n",
       "isClick                                                    None   \n",
       "isImpression                                               True   \n",
       "sessionQualityDim                                           NaN   \n",
       "timeOnScreen                                               None   \n",
       "timeOnSite                                               1565.0   \n",
       "totalTransactionRevenue                              78760000.0   \n",
       "\n",
       "                                                            5   \\\n",
       "source                                                  google   \n",
       "isTrueDirect                                              None   \n",
       "sourceKeyword                                   (not provided)   \n",
       "medium                                                 organic   \n",
       "isVideoAd                                                 None   \n",
       "fullVisitorId                              5231506599433598915   \n",
       "visitId                                             1489195672   \n",
       "date                                                  20170310   \n",
       "newVisits                                                  1.0   \n",
       "hitReferer                                                None   \n",
       "hitType                                                   PAGE   \n",
       "hitAction_type                                               0   \n",
       "hitNumber                                                    5   \n",
       "hitHour                                                     18   \n",
       "hitMin                                                       0   \n",
       "timeMicroSec                                           1946776   \n",
       "v2ProductName            Google 40 oz Insulated Monster Bottle   \n",
       "productListName                                       Category   \n",
       "isClick                                                   None   \n",
       "isImpression                                              True   \n",
       "sessionQualityDim                                          NaN   \n",
       "timeOnScreen                                              None   \n",
       "timeOnSite                                              2380.0   \n",
       "totalTransactionRevenue                                    NaN   \n",
       "\n",
       "                                                            6   \\\n",
       "source                                    analytics.google.com   \n",
       "isTrueDirect                                              None   \n",
       "sourceKeyword                                             None   \n",
       "medium                                                referral   \n",
       "isVideoAd                                                 None   \n",
       "fullVisitorId                              5257913853065465385   \n",
       "visitId                                             1473947683   \n",
       "date                                                  20160915   \n",
       "newVisits                                                  1.0   \n",
       "hitReferer                                                None   \n",
       "hitType                                                   PAGE   \n",
       "hitAction_type                                               0   \n",
       "hitNumber                                                   11   \n",
       "hitHour                                                      7   \n",
       "hitMin                                                       4   \n",
       "timeMicroSec                                            571527   \n",
       "v2ProductName            You Tube Toddler Short Sleeve Tee Red   \n",
       "productListName                                       Category   \n",
       "isClick                                                   None   \n",
       "isImpression                                              True   \n",
       "sessionQualityDim                                          NaN   \n",
       "timeOnScreen                                              None   \n",
       "timeOnSite                                              1382.0   \n",
       "totalTransactionRevenue                                    NaN   \n",
       "\n",
       "                                                                        7   \\\n",
       "source                                                            (direct)   \n",
       "isTrueDirect                                                          True   \n",
       "sourceKeyword                                                         None   \n",
       "medium                                                              (none)   \n",
       "isVideoAd                                                             None   \n",
       "fullVisitorId                                          5300879295473662502   \n",
       "visitId                                                         1478485050   \n",
       "date                                                              20161106   \n",
       "newVisits                                                              1.0   \n",
       "hitReferer                                                            None   \n",
       "hitType                                                               PAGE   \n",
       "hitAction_type                                                           0   \n",
       "hitNumber                                                                4   \n",
       "hitHour                                                                 18   \n",
       "hitMin                                                                  17   \n",
       "timeMicroSec                                                         15631   \n",
       "v2ProductName            Google Men's 100% Cotton Short Sleeve Hero Tee...   \n",
       "productListName                                                   Category   \n",
       "isClick                                                               None   \n",
       "isImpression                                                          True   \n",
       "sessionQualityDim                                                      NaN   \n",
       "timeOnScreen                                                          None   \n",
       "timeOnSite                                                            16.0   \n",
       "totalTransactionRevenue                                                NaN   \n",
       "\n",
       "                                               8                    9   \\\n",
       "source                                   (direct)        dealspotr.com   \n",
       "isTrueDirect                                 None                 True   \n",
       "sourceKeyword                                None                 None   \n",
       "medium                                     (none)             referral   \n",
       "isVideoAd                                    None                 None   \n",
       "fullVisitorId                 5305785224618680102  5340054383477452565   \n",
       "visitId                                1478550894           1492106908   \n",
       "date                                     20161107             20170413   \n",
       "newVisits                                     1.0                  NaN   \n",
       "hitReferer                                   None                 None   \n",
       "hitType                                     EVENT                 PAGE   \n",
       "hitAction_type                                  3                    0   \n",
       "hitNumber                                     216                   37   \n",
       "hitHour                                        13                   11   \n",
       "hitMin                                          8                   17   \n",
       "timeMicroSec                              2000236               553779   \n",
       "v2ProductName            Android Journal Book Set     Google Kick Ball   \n",
       "productListName                         (not set)             Category   \n",
       "isClick                                      None                 None   \n",
       "isImpression                                 None                 True   \n",
       "sessionQualityDim                             NaN                  NaN   \n",
       "timeOnScreen                                 None                 None   \n",
       "timeOnSite                                 2469.0               1747.0   \n",
       "totalTransactionRevenue                       NaN                  NaN   \n",
       "\n",
       "                                            10                         11  \n",
       "source                                (direct)                   (direct)  \n",
       "isTrueDirect                              None                       True  \n",
       "sourceKeyword                             None                       None  \n",
       "medium                                  (none)                     (none)  \n",
       "isVideoAd                                 None                       None  \n",
       "fullVisitorId              5368646030907298858        5483180427975545404  \n",
       "visitId                             1486396839                 1495438231  \n",
       "date                                  20170206                   20170522  \n",
       "newVisits                                  1.0                        1.0  \n",
       "hitReferer               http://www.google.at/                       None  \n",
       "hitType                                   PAGE                       PAGE  \n",
       "hitAction_type                               0                          0  \n",
       "hitNumber                                    1                          2  \n",
       "hitHour                                      8                          0  \n",
       "hitMin                                       0                         30  \n",
       "timeMicroSec                                 0                       5180  \n",
       "v2ProductName              YouTube Luggage Tag  Google Snapback Hat Black  \n",
       "productListName                       Category                   Category  \n",
       "isClick                                   None                       None  \n",
       "isImpression                              True                       True  \n",
       "sessionQualityDim                          NaN                        NaN  \n",
       "timeOnScreen                              None                       None  \n",
       "timeOnSite                                 NaN                      350.0  \n",
       "totalTransactionRevenue                    NaN                        NaN  "
      ]
     },
     "execution_count": 17,
     "metadata": {},
     "output_type": "execute_result"
    }
   ],
   "source": [
    "raw_df.sample(0.00001).toPandas().transpose()"
   ]
  },
  {
   "cell_type": "code",
   "execution_count": 18,
   "metadata": {
    "colab": {
     "base_uri": "https://localhost:8080/"
    },
    "id": "eH8yD5VU4X2_",
    "outputId": "e01aad4a-0439-4e36-8096-ed55b0bf9d00"
   },
   "outputs": [
    {
     "name": "stdout",
     "output_type": "stream",
     "text": [
      "root\n",
      " |-- source: string (nullable = true)\n",
      " |-- isTrueDirect: boolean (nullable = true)\n",
      " |-- sourceKeyword: string (nullable = true)\n",
      " |-- medium: string (nullable = true)\n",
      " |-- isVideoAd: boolean (nullable = true)\n",
      " |-- fullVisitorId: long (nullable = true)\n",
      " |-- visitId: integer (nullable = true)\n",
      " |-- date: integer (nullable = true)\n",
      " |-- newVisits: integer (nullable = true)\n",
      " |-- hitReferer: string (nullable = true)\n",
      " |-- hitType: string (nullable = true)\n",
      " |-- hitAction_type: integer (nullable = true)\n",
      " |-- hitNumber: integer (nullable = true)\n",
      " |-- hitHour: integer (nullable = true)\n",
      " |-- hitMin: integer (nullable = true)\n",
      " |-- timeMicroSec: integer (nullable = true)\n",
      " |-- v2ProductName: string (nullable = true)\n",
      " |-- productListName: string (nullable = true)\n",
      " |-- isClick: boolean (nullable = true)\n",
      " |-- isImpression: boolean (nullable = true)\n",
      " |-- sessionQualityDim: integer (nullable = true)\n",
      " |-- timeOnScreen: string (nullable = true)\n",
      " |-- timeOnSite: integer (nullable = true)\n",
      " |-- totalTransactionRevenue: long (nullable = true)\n",
      "\n"
     ]
    }
   ],
   "source": [
    "raw_df.printSchema()"
   ]
  },
  {
   "cell_type": "markdown",
   "metadata": {
    "id": "aYgYTdPgPcai"
   },
   "source": [
    "### 2.2 Basic Stat เพื่อพิจารณาในระดับเบื้องต้นเกี่ยวกับ Null, Abnormal ซึ่งดูจาก Value Ranges \n",
    "\n"
   ]
  },
  {
   "cell_type": "code",
   "execution_count": 19,
   "metadata": {
    "colab": {
     "base_uri": "https://localhost:8080/",
     "height": 708
    },
    "id": "OITcXS_l4S9n",
    "outputId": "a97881b3-cc1a-4348-9278-27c3fdbb9ca3"
   },
   "outputs": [
    {
     "name": "stderr",
     "output_type": "stream",
     "text": [
      "                                                                                \r"
     ]
    },
    {
     "data": {
      "text/html": [
       "<div>\n",
       "<style scoped>\n",
       "    .dataframe tbody tr th:only-of-type {\n",
       "        vertical-align: middle;\n",
       "    }\n",
       "\n",
       "    .dataframe tbody tr th {\n",
       "        vertical-align: top;\n",
       "    }\n",
       "\n",
       "    .dataframe thead th {\n",
       "        text-align: right;\n",
       "    }\n",
       "</style>\n",
       "<table border=\"1\" class=\"dataframe\">\n",
       "  <thead>\n",
       "    <tr style=\"text-align: right;\">\n",
       "      <th></th>\n",
       "      <th>0</th>\n",
       "      <th>1</th>\n",
       "      <th>2</th>\n",
       "      <th>3</th>\n",
       "      <th>4</th>\n",
       "    </tr>\n",
       "  </thead>\n",
       "  <tbody>\n",
       "    <tr>\n",
       "      <th>summary</th>\n",
       "      <td>count</td>\n",
       "      <td>mean</td>\n",
       "      <td>stddev</td>\n",
       "      <td>min</td>\n",
       "      <td>max</td>\n",
       "    </tr>\n",
       "    <tr>\n",
       "      <th>source</th>\n",
       "      <td>917814</td>\n",
       "      <td>None</td>\n",
       "      <td>None</td>\n",
       "      <td>(direct)</td>\n",
       "      <td>youtube.com</td>\n",
       "    </tr>\n",
       "    <tr>\n",
       "      <th>sourceKeyword</th>\n",
       "      <td>322031</td>\n",
       "      <td>None</td>\n",
       "      <td>None</td>\n",
       "      <td>(Remarketing/Content targeting)</td>\n",
       "      <td>yyoutubr</td>\n",
       "    </tr>\n",
       "    <tr>\n",
       "      <th>medium</th>\n",
       "      <td>917814</td>\n",
       "      <td>None</td>\n",
       "      <td>None</td>\n",
       "      <td>(none)</td>\n",
       "      <td>referral</td>\n",
       "    </tr>\n",
       "    <tr>\n",
       "      <th>fullVisitorId</th>\n",
       "      <td>917814</td>\n",
       "      <td>4.7679506549928141E18</td>\n",
       "      <td>1.42707561410277837E18</td>\n",
       "      <td>514359656957582</td>\n",
       "      <td>5487531102128447544</td>\n",
       "    </tr>\n",
       "    <tr>\n",
       "      <th>visitId</th>\n",
       "      <td>917814</td>\n",
       "      <td>1.4828991660307045E9</td>\n",
       "      <td>9692290.975135244</td>\n",
       "      <td>1470037326</td>\n",
       "      <td>1501656575</td>\n",
       "    </tr>\n",
       "    <tr>\n",
       "      <th>date</th>\n",
       "      <td>917814</td>\n",
       "      <td>2.0165139267192483E7</td>\n",
       "      <td>4699.035428253382</td>\n",
       "      <td>20160801</td>\n",
       "      <td>20170801</td>\n",
       "    </tr>\n",
       "    <tr>\n",
       "      <th>newVisits</th>\n",
       "      <td>647359</td>\n",
       "      <td>1.0</td>\n",
       "      <td>0.0</td>\n",
       "      <td>1</td>\n",
       "      <td>1</td>\n",
       "    </tr>\n",
       "    <tr>\n",
       "      <th>hitReferer</th>\n",
       "      <td>119959</td>\n",
       "      <td>None</td>\n",
       "      <td>None</td>\n",
       "      <td>http://googleads.g.doubleclick.net/pagead/ads?...</td>\n",
       "      <td>https://youtube.com/yt/about/copyright/</td>\n",
       "    </tr>\n",
       "    <tr>\n",
       "      <th>hitType</th>\n",
       "      <td>917814</td>\n",
       "      <td>None</td>\n",
       "      <td>None</td>\n",
       "      <td>EVENT</td>\n",
       "      <td>PAGE</td>\n",
       "    </tr>\n",
       "    <tr>\n",
       "      <th>hitAction_type</th>\n",
       "      <td>917814</td>\n",
       "      <td>0.18108135199506653</td>\n",
       "      <td>0.7980562985767482</td>\n",
       "      <td>0</td>\n",
       "      <td>6</td>\n",
       "    </tr>\n",
       "    <tr>\n",
       "      <th>hitNumber</th>\n",
       "      <td>917814</td>\n",
       "      <td>11.936170073675058</td>\n",
       "      <td>19.048950870892316</td>\n",
       "      <td>1</td>\n",
       "      <td>239</td>\n",
       "    </tr>\n",
       "    <tr>\n",
       "      <th>hitHour</th>\n",
       "      <td>917814</td>\n",
       "      <td>12.427243428407063</td>\n",
       "      <td>5.993956058897788</td>\n",
       "      <td>0</td>\n",
       "      <td>23</td>\n",
       "    </tr>\n",
       "    <tr>\n",
       "      <th>hitMin</th>\n",
       "      <td>917814</td>\n",
       "      <td>29.86619620097318</td>\n",
       "      <td>17.25780109935462</td>\n",
       "      <td>0</td>\n",
       "      <td>59</td>\n",
       "    </tr>\n",
       "    <tr>\n",
       "      <th>timeMicroSec</th>\n",
       "      <td>917814</td>\n",
       "      <td>291059.62081097043</td>\n",
       "      <td>554542.5064780046</td>\n",
       "      <td>0</td>\n",
       "      <td>9963065</td>\n",
       "    </tr>\n",
       "    <tr>\n",
       "      <th>v2ProductName</th>\n",
       "      <td>917814</td>\n",
       "      <td>None</td>\n",
       "      <td>None</td>\n",
       "      <td>\"7\"\" Dog Frisbee\"</td>\n",
       "      <td>YouTube Youth Short Sleeve Tee Red</td>\n",
       "    </tr>\n",
       "    <tr>\n",
       "      <th>productListName</th>\n",
       "      <td>917814</td>\n",
       "      <td>None</td>\n",
       "      <td>None</td>\n",
       "      <td>(not set)</td>\n",
       "      <td>Search Results</td>\n",
       "    </tr>\n",
       "    <tr>\n",
       "      <th>sessionQualityDim</th>\n",
       "      <td>61782</td>\n",
       "      <td>18.657068401799876</td>\n",
       "      <td>27.512960054299246</td>\n",
       "      <td>1</td>\n",
       "      <td>94</td>\n",
       "    </tr>\n",
       "    <tr>\n",
       "      <th>timeOnScreen</th>\n",
       "      <td>0</td>\n",
       "      <td>None</td>\n",
       "      <td>None</td>\n",
       "      <td>None</td>\n",
       "      <td>None</td>\n",
       "    </tr>\n",
       "    <tr>\n",
       "      <th>timeOnSite</th>\n",
       "      <td>850509</td>\n",
       "      <td>660.041210616231</td>\n",
       "      <td>930.0535167228323</td>\n",
       "      <td>1</td>\n",
       "      <td>9963</td>\n",
       "    </tr>\n",
       "    <tr>\n",
       "      <th>totalTransactionRevenue</th>\n",
       "      <td>70300</td>\n",
       "      <td>1.978806652916074E8</td>\n",
       "      <td>4.625284848391805E8</td>\n",
       "      <td>6980000</td>\n",
       "      <td>5608400000</td>\n",
       "    </tr>\n",
       "  </tbody>\n",
       "</table>\n",
       "</div>"
      ],
      "text/plain": [
       "                              0                      1  \\\n",
       "summary                   count                   mean   \n",
       "source                   917814                   None   \n",
       "sourceKeyword            322031                   None   \n",
       "medium                   917814                   None   \n",
       "fullVisitorId            917814  4.7679506549928141E18   \n",
       "visitId                  917814   1.4828991660307045E9   \n",
       "date                     917814   2.0165139267192483E7   \n",
       "newVisits                647359                    1.0   \n",
       "hitReferer               119959                   None   \n",
       "hitType                  917814                   None   \n",
       "hitAction_type           917814    0.18108135199506653   \n",
       "hitNumber                917814     11.936170073675058   \n",
       "hitHour                  917814     12.427243428407063   \n",
       "hitMin                   917814      29.86619620097318   \n",
       "timeMicroSec             917814     291059.62081097043   \n",
       "v2ProductName            917814                   None   \n",
       "productListName          917814                   None   \n",
       "sessionQualityDim         61782     18.657068401799876   \n",
       "timeOnScreen                  0                   None   \n",
       "timeOnSite               850509       660.041210616231   \n",
       "totalTransactionRevenue   70300    1.978806652916074E8   \n",
       "\n",
       "                                              2  \\\n",
       "summary                                  stddev   \n",
       "source                                     None   \n",
       "sourceKeyword                              None   \n",
       "medium                                     None   \n",
       "fullVisitorId            1.42707561410277837E18   \n",
       "visitId                       9692290.975135244   \n",
       "date                          4699.035428253382   \n",
       "newVisits                                   0.0   \n",
       "hitReferer                                 None   \n",
       "hitType                                    None   \n",
       "hitAction_type               0.7980562985767482   \n",
       "hitNumber                    19.048950870892316   \n",
       "hitHour                       5.993956058897788   \n",
       "hitMin                        17.25780109935462   \n",
       "timeMicroSec                  554542.5064780046   \n",
       "v2ProductName                              None   \n",
       "productListName                            None   \n",
       "sessionQualityDim            27.512960054299246   \n",
       "timeOnScreen                               None   \n",
       "timeOnSite                    930.0535167228323   \n",
       "totalTransactionRevenue     4.625284848391805E8   \n",
       "\n",
       "                                                                         3  \\\n",
       "summary                                                                min   \n",
       "source                                                            (direct)   \n",
       "sourceKeyword                              (Remarketing/Content targeting)   \n",
       "medium                                                              (none)   \n",
       "fullVisitorId                                              514359656957582   \n",
       "visitId                                                         1470037326   \n",
       "date                                                              20160801   \n",
       "newVisits                                                                1   \n",
       "hitReferer               http://googleads.g.doubleclick.net/pagead/ads?...   \n",
       "hitType                                                              EVENT   \n",
       "hitAction_type                                                           0   \n",
       "hitNumber                                                                1   \n",
       "hitHour                                                                  0   \n",
       "hitMin                                                                   0   \n",
       "timeMicroSec                                                             0   \n",
       "v2ProductName                                            \"7\"\" Dog Frisbee\"   \n",
       "productListName                                                  (not set)   \n",
       "sessionQualityDim                                                        1   \n",
       "timeOnScreen                                                          None   \n",
       "timeOnSite                                                               1   \n",
       "totalTransactionRevenue                                            6980000   \n",
       "\n",
       "                                                               4  \n",
       "summary                                                      max  \n",
       "source                                               youtube.com  \n",
       "sourceKeyword                                           yyoutubr  \n",
       "medium                                                  referral  \n",
       "fullVisitorId                                5487531102128447544  \n",
       "visitId                                               1501656575  \n",
       "date                                                    20170801  \n",
       "newVisits                                                      1  \n",
       "hitReferer               https://youtube.com/yt/about/copyright/  \n",
       "hitType                                                     PAGE  \n",
       "hitAction_type                                                 6  \n",
       "hitNumber                                                    239  \n",
       "hitHour                                                       23  \n",
       "hitMin                                                        59  \n",
       "timeMicroSec                                             9963065  \n",
       "v2ProductName                 YouTube Youth Short Sleeve Tee Red  \n",
       "productListName                                   Search Results  \n",
       "sessionQualityDim                                             94  \n",
       "timeOnScreen                                                None  \n",
       "timeOnSite                                                  9963  \n",
       "totalTransactionRevenue                               5608400000  "
      ]
     },
     "execution_count": 19,
     "metadata": {},
     "output_type": "execute_result"
    }
   ],
   "source": [
    "raw_df.describe().toPandas().transpose()"
   ]
  },
  {
   "cell_type": "code",
   "execution_count": 20,
   "metadata": {},
   "outputs": [],
   "source": [
    "### ทำให้เห็นว่า timeOnScreen, hitReferer แม้ว่า Business จะ require แต่ก็ไม่มีประโยชน์จะเก็บไว้ หรือบาง col อาจซับซ้อนเกินกว่าจะนำไปวิเคราะห์ใช้งาน\n",
    "\n",
    "ignoredCols = ['timeOnScreen','hitReferer','v2ProductName']"
   ]
  },
  {
   "cell_type": "markdown",
   "metadata": {},
   "source": [
    "### 2.3 แบ่งแยก Numeric Columns และ Non Numeric Columns"
   ]
  },
  {
   "cell_type": "code",
   "execution_count": 21,
   "metadata": {
    "colab": {
     "base_uri": "https://localhost:8080/"
    },
    "id": "N1lRvEZVXS6I",
    "outputId": "d23f753d-8cc5-467b-f4ab-e1bedcc923a8"
   },
   "outputs": [
    {
     "name": "stdout",
     "output_type": "stream",
     "text": [
      "Numeric columns: ['fullVisitorId', 'visitId', 'date', 'newVisits', 'hitAction_type', 'hitNumber', 'hitHour', 'hitMin', 'timeMicroSec', 'sessionQualityDim', 'timeOnSite', 'totalTransactionRevenue']\n",
      "Non-numeric columns: ['source', 'isTrueDirect', 'sourceKeyword', 'medium', 'isVideoAd', 'hitReferer', 'hitType', 'v2ProductName', 'productListName', 'isClick', 'isImpression', 'timeOnScreen']\n"
     ]
    }
   ],
   "source": [
    "from pyspark.sql.types import IntegerType, FloatType, LongType, StringType\n",
    "\n",
    "numeric_columns = []\n",
    "non_numeric_columns = []\n",
    "\n",
    "for col_name in raw_df.columns:\n",
    "    # Check if the column type is numeric\n",
    "    if isinstance(raw_df.schema[col_name].dataType, (IntegerType, FloatType, LongType)):\n",
    "        numeric_columns.append(col_name)\n",
    "    else:\n",
    "        non_numeric_columns.append(col_name)\n",
    "\n",
    "print(f\"Numeric columns: {numeric_columns}\")\n",
    "print(f\"Non-numeric columns: {non_numeric_columns}\")\n"
   ]
  },
  {
   "cell_type": "code",
   "execution_count": 22,
   "metadata": {
    "colab": {
     "base_uri": "https://localhost:8080/"
    },
    "id": "FBN4Umn0ddll",
    "outputId": "bf67adf0-c302-4139-f4cb-cb2546f98d46"
   },
   "outputs": [
    {
     "data": {
      "text/plain": [
       "['fullVisitorId',\n",
       " 'visitId',\n",
       " 'date',\n",
       " 'newVisits',\n",
       " 'hitAction_type',\n",
       " 'hitNumber',\n",
       " 'hitHour',\n",
       " 'hitMin',\n",
       " 'timeMicroSec',\n",
       " 'sessionQualityDim',\n",
       " 'timeOnSite',\n",
       " 'totalTransactionRevenue']"
      ]
     },
     "execution_count": 22,
     "metadata": {},
     "output_type": "execute_result"
    }
   ],
   "source": [
    "numeric_columns"
   ]
  },
  {
   "cell_type": "code",
   "execution_count": 23,
   "metadata": {
    "colab": {
     "base_uri": "https://localhost:8080/"
    },
    "id": "1sjoch0EddiO",
    "outputId": "671fdc90-1630-4934-948e-442dccf94a6b"
   },
   "outputs": [
    {
     "data": {
      "text/plain": [
       "['source',\n",
       " 'isTrueDirect',\n",
       " 'sourceKeyword',\n",
       " 'medium',\n",
       " 'isVideoAd',\n",
       " 'hitReferer',\n",
       " 'hitType',\n",
       " 'v2ProductName',\n",
       " 'productListName',\n",
       " 'isClick',\n",
       " 'isImpression',\n",
       " 'timeOnScreen']"
      ]
     },
     "execution_count": 23,
     "metadata": {},
     "output_type": "execute_result"
    }
   ],
   "source": [
    "non_numeric_columns"
   ]
  },
  {
   "cell_type": "markdown",
   "metadata": {},
   "source": [
    "### 2.4 Null Profiling"
   ]
  },
  {
   "cell_type": "code",
   "execution_count": 24,
   "metadata": {},
   "outputs": [],
   "source": [
    "### ละทิ้ง column แบบ Boolean จาก non numeric col. เพราะว่า หากไม่ละทิ้ง จะเกิด error ต้องเช็คค่าว่างด้วย isnan()\n",
    "\n",
    "non_numeric_columns.remove('isTrueDirect')\n",
    "non_numeric_columns.remove('isVideoAd')\n",
    "non_numeric_columns.remove('isClick')\n",
    "non_numeric_columns.remove('isImpression')"
   ]
  },
  {
   "cell_type": "code",
   "execution_count": 25,
   "metadata": {
    "colab": {
     "base_uri": "https://localhost:8080/",
     "height": 363
    },
    "id": "Gw9w5uaZdl5G",
    "outputId": "b171184a-f2ac-4245-957a-956f7dd7a19c"
   },
   "outputs": [
    {
     "name": "stderr",
     "output_type": "stream",
     "text": [
      "                                                                                \r"
     ]
    },
    {
     "data": {
      "text/html": [
       "<div>\n",
       "<style scoped>\n",
       "    .dataframe tbody tr th:only-of-type {\n",
       "        vertical-align: middle;\n",
       "    }\n",
       "\n",
       "    .dataframe tbody tr th {\n",
       "        vertical-align: top;\n",
       "    }\n",
       "\n",
       "    .dataframe thead th {\n",
       "        text-align: right;\n",
       "    }\n",
       "</style>\n",
       "<table border=\"1\" class=\"dataframe\">\n",
       "  <thead>\n",
       "    <tr style=\"text-align: right;\">\n",
       "      <th></th>\n",
       "      <th>0</th>\n",
       "    </tr>\n",
       "  </thead>\n",
       "  <tbody>\n",
       "    <tr>\n",
       "      <th>source</th>\n",
       "      <td>0</td>\n",
       "    </tr>\n",
       "    <tr>\n",
       "      <th>sourceKeyword</th>\n",
       "      <td>595783</td>\n",
       "    </tr>\n",
       "    <tr>\n",
       "      <th>medium</th>\n",
       "      <td>0</td>\n",
       "    </tr>\n",
       "    <tr>\n",
       "      <th>hitReferer</th>\n",
       "      <td>797855</td>\n",
       "    </tr>\n",
       "    <tr>\n",
       "      <th>hitType</th>\n",
       "      <td>0</td>\n",
       "    </tr>\n",
       "    <tr>\n",
       "      <th>v2ProductName</th>\n",
       "      <td>0</td>\n",
       "    </tr>\n",
       "    <tr>\n",
       "      <th>productListName</th>\n",
       "      <td>0</td>\n",
       "    </tr>\n",
       "    <tr>\n",
       "      <th>timeOnScreen</th>\n",
       "      <td>917814</td>\n",
       "    </tr>\n",
       "  </tbody>\n",
       "</table>\n",
       "</div>"
      ],
      "text/plain": [
       "                      0\n",
       "source                0\n",
       "sourceKeyword    595783\n",
       "medium                0\n",
       "hitReferer       797855\n",
       "hitType               0\n",
       "v2ProductName         0\n",
       "productListName       0\n",
       "timeOnScreen     917814"
      ]
     },
     "execution_count": 25,
     "metadata": {},
     "output_type": "execute_result"
    }
   ],
   "source": [
    "from pyspark.sql.functions import count, when, isnan, col\n",
    "# Check for null values for non numeric column\n",
    "raw_df.select(non_numeric_columns).select([count(when(isnan(c) | col(c).isNull(), c)).alias(c) \\\n",
    "                                           for c in raw_df.select(non_numeric_columns).columns]).toPandas().transpose()\n",
    "\n",
    "\n"
   ]
  },
  {
   "cell_type": "code",
   "execution_count": 26,
   "metadata": {},
   "outputs": [
    {
     "name": "stderr",
     "output_type": "stream",
     "text": [
      "                                                                                \r"
     ]
    },
    {
     "data": {
      "text/html": [
       "<div>\n",
       "<style scoped>\n",
       "    .dataframe tbody tr th:only-of-type {\n",
       "        vertical-align: middle;\n",
       "    }\n",
       "\n",
       "    .dataframe tbody tr th {\n",
       "        vertical-align: top;\n",
       "    }\n",
       "\n",
       "    .dataframe thead th {\n",
       "        text-align: right;\n",
       "    }\n",
       "</style>\n",
       "<table border=\"1\" class=\"dataframe\">\n",
       "  <thead>\n",
       "    <tr style=\"text-align: right;\">\n",
       "      <th></th>\n",
       "      <th>0</th>\n",
       "    </tr>\n",
       "  </thead>\n",
       "  <tbody>\n",
       "    <tr>\n",
       "      <th>fullVisitorId</th>\n",
       "      <td>0</td>\n",
       "    </tr>\n",
       "    <tr>\n",
       "      <th>visitId</th>\n",
       "      <td>0</td>\n",
       "    </tr>\n",
       "    <tr>\n",
       "      <th>date</th>\n",
       "      <td>0</td>\n",
       "    </tr>\n",
       "    <tr>\n",
       "      <th>newVisits</th>\n",
       "      <td>270455</td>\n",
       "    </tr>\n",
       "    <tr>\n",
       "      <th>hitAction_type</th>\n",
       "      <td>0</td>\n",
       "    </tr>\n",
       "    <tr>\n",
       "      <th>hitNumber</th>\n",
       "      <td>0</td>\n",
       "    </tr>\n",
       "    <tr>\n",
       "      <th>hitHour</th>\n",
       "      <td>0</td>\n",
       "    </tr>\n",
       "    <tr>\n",
       "      <th>hitMin</th>\n",
       "      <td>0</td>\n",
       "    </tr>\n",
       "    <tr>\n",
       "      <th>timeMicroSec</th>\n",
       "      <td>0</td>\n",
       "    </tr>\n",
       "    <tr>\n",
       "      <th>sessionQualityDim</th>\n",
       "      <td>856032</td>\n",
       "    </tr>\n",
       "    <tr>\n",
       "      <th>timeOnSite</th>\n",
       "      <td>67305</td>\n",
       "    </tr>\n",
       "    <tr>\n",
       "      <th>totalTransactionRevenue</th>\n",
       "      <td>847514</td>\n",
       "    </tr>\n",
       "  </tbody>\n",
       "</table>\n",
       "</div>"
      ],
      "text/plain": [
       "                              0\n",
       "fullVisitorId                 0\n",
       "visitId                       0\n",
       "date                          0\n",
       "newVisits                270455\n",
       "hitAction_type                0\n",
       "hitNumber                     0\n",
       "hitHour                       0\n",
       "hitMin                        0\n",
       "timeMicroSec                  0\n",
       "sessionQualityDim        856032\n",
       "timeOnSite                67305\n",
       "totalTransactionRevenue  847514"
      ]
     },
     "execution_count": 26,
     "metadata": {},
     "output_type": "execute_result"
    }
   ],
   "source": [
    "from pyspark.sql.functions import count, when, isnan, col\n",
    "# Check for null values for numeric column\n",
    "raw_df.select(numeric_columns).select([count(when(isnan(c) | col(c).isNull(), c)).alias(c) \\\n",
    "                                       for c in raw_df.select(numeric_columns).columns]).toPandas().transpose()"
   ]
  },
  {
   "cell_type": "raw",
   "metadata": {},
   "source": [
    "ภายใต้ข้อมูล Google Analytics, sessionQualityDim คือคุณลักษณะที่คำนวณโดย Google ที่อธิบายถึงคุณภาพของเซสชันที่ผู้ใช้เข้ามาในเว็บไซต์ของคุณ ค่านี้จะเป็นตัวเลขระหว่าง 1 ถึง 100 โดยที่ค่าที่สูงขึ้นแสดงถึงคุณภาพของเซสชันที่ดีขึ้น นั่นคือ, การที่ผู้ใช้มีโอกาสที่จะทำการซื้อสินค้าหรือบริการของคุณมากขึ้น.\n",
    "\n",
    "คุณลักษณะนี้เป็นคุณลักษณะที่สร้างขึ้นโดย Google Analytics และใช้ข้อมูลจาก Google Ads, Google Search, และอื่นๆ ที่เกี่ยวข้อง เพื่อประมวลผลและคำนวณออกมาเป็นค่าเดียว. หากมีการกำหนดค่านี้ในข้อมูลของคุณ, คุณสามารถใช้มันเพื่อสร้างโมเดลและทำนายการกระทำต่างๆ ของผู้ใช้ในอนาคต.\n",
    "\n",
    "ข้อมูลเพิ่มเติมเกี่ยวกับ sessionQualityDim สามารถหาได้จากเอกสารอ้างอิงของ Google "
   ]
  },
  {
   "cell_type": "code",
   "execution_count": 27,
   "metadata": {
    "colab": {
     "base_uri": "https://localhost:8080/"
    },
    "id": "g0O4gulVh86Q",
    "outputId": "daa1fac4-e7ed-4fff-ad22-4cfaf691acf7"
   },
   "outputs": [
    {
     "name": "stderr",
     "output_type": "stream",
     "text": [
      "                                                                                \r"
     ]
    },
    {
     "name": "stdout",
     "output_type": "stream",
     "text": [
      "+--------------------+------+\n",
      "|              source| count|\n",
      "+--------------------+------+\n",
      "|            (direct)|502654|\n",
      "|              google|320612|\n",
      "|         youtube.com| 34750|\n",
      "|            Partners|  9949|\n",
      "|                 dfa|  8696|\n",
      "|analytics.google.com|  6144|\n",
      "|          google.com|  4537|\n",
      "|    sites.google.com|  3866|\n",
      "|siliconvalley.abo...|  3399|\n",
      "|      m.facebook.com|  2283|\n",
      "|        facebook.com|  2073|\n",
      "|          reddit.com|  1978|\n",
      "|     mail.google.com|  1833|\n",
      "|                bing|  1543|\n",
      "|           qiita.com|  1496|\n",
      "|               yahoo|  1441|\n",
      "|           quora.com|  1252|\n",
      "|                t.co|   996|\n",
      "|   groups.google.com|   950|\n",
      "|      l.facebook.com|   517|\n",
      "+--------------------+------+\n",
      "only showing top 20 rows\n",
      "\n"
     ]
    },
    {
     "name": "stderr",
     "output_type": "stream",
     "text": [
      "                                                                                \r"
     ]
    },
    {
     "name": "stdout",
     "output_type": "stream",
     "text": [
      "+------------+------+\n",
      "|isTrueDirect| count|\n",
      "+------------+------+\n",
      "|        null|580491|\n",
      "|        true|337323|\n",
      "+------------+------+\n",
      "\n"
     ]
    },
    {
     "name": "stderr",
     "output_type": "stream",
     "text": [
      "                                                                                \r"
     ]
    },
    {
     "name": "stdout",
     "output_type": "stream",
     "text": [
      "+--------------------+------+\n",
      "|       sourceKeyword| count|\n",
      "+--------------------+------+\n",
      "|                null|595783|\n",
      "|      (not provided)|296422|\n",
      "|    6qEhsCssdK0z36ri| 12471|\n",
      "|  Google Merchandise|  2529|\n",
      "|    1hZbAqLCbjwfgOH7|  2273|\n",
      "|google merchandis...|  2061|\n",
      "|    category_l1==166|   457|\n",
      "|(Remarketing/Cont...|   373|\n",
      "|    1X4Me6ZKNV0zg-jV|   330|\n",
      "|googlemerchandise...|   323|\n",
      "|             youtube|   207|\n",
      "|+google +merchand...|   201|\n",
      "|        google merch|   198|\n",
      "|         google stor|   171|\n",
      "|       youtube merch|   169|\n",
      "|+Google +Merchandise|   164|\n",
      "|Google Merchandis...|   164|\n",
      "|      +google +store|   162|\n",
      "|             Youtube|   140|\n",
      "|        google store|   121|\n",
      "+--------------------+------+\n",
      "only showing top 20 rows\n",
      "\n"
     ]
    },
    {
     "name": "stderr",
     "output_type": "stream",
     "text": [
      "                                                                                \r"
     ]
    },
    {
     "name": "stdout",
     "output_type": "stream",
     "text": [
      "+---------+------+\n",
      "|   medium| count|\n",
      "+---------+------+\n",
      "|   (none)|502654|\n",
      "|  organic|302345|\n",
      "| referral| 72078|\n",
      "|      cpc| 21580|\n",
      "|affiliate|  9949|\n",
      "|      cpm|  9136|\n",
      "|(not set)|    72|\n",
      "+---------+------+\n",
      "\n"
     ]
    },
    {
     "name": "stderr",
     "output_type": "stream",
     "text": [
      "                                                                                \r"
     ]
    },
    {
     "name": "stdout",
     "output_type": "stream",
     "text": [
      "+---------+------+\n",
      "|isVideoAd| count|\n",
      "+---------+------+\n",
      "|     null|885422|\n",
      "|    false| 32392|\n",
      "+---------+------+\n",
      "\n"
     ]
    },
    {
     "name": "stderr",
     "output_type": "stream",
     "text": [
      "                                                                                \r"
     ]
    },
    {
     "name": "stdout",
     "output_type": "stream",
     "text": [
      "+-------------------+-----+\n",
      "|      fullVisitorId|count|\n",
      "+-------------------+-----+\n",
      "|5456301402188625337| 3416|\n",
      "|5208937953046059083| 2377|\n",
      "|5399906287295745418| 2338|\n",
      "|5310912563447452038| 1792|\n",
      "|5370310992308515600| 1777|\n",
      "|5143600689169444167| 1651|\n",
      "|5217792392522047587| 1605|\n",
      "|4998444590527389280| 1550|\n",
      "|5479405825116961439| 1482|\n",
      "|5174129705003851738| 1472|\n",
      "|5341271361784611942| 1443|\n",
      "|5305785224618680102| 1413|\n",
      "|5423659711610895780| 1267|\n",
      "|5002959687839673544| 1211|\n",
      "|5128888224452873031| 1179|\n",
      "|5315382266855883329| 1164|\n",
      "|5457033415990547887| 1143|\n",
      "| 506797253390432707| 1094|\n",
      "|5391968741622668774| 1081|\n",
      "|5031234556107572838| 1081|\n",
      "+-------------------+-----+\n",
      "only showing top 20 rows\n",
      "\n"
     ]
    },
    {
     "name": "stderr",
     "output_type": "stream",
     "text": [
      "                                                                                \r"
     ]
    },
    {
     "name": "stdout",
     "output_type": "stream",
     "text": [
      "+----------+-----+\n",
      "|   visitId|count|\n",
      "+----------+-----+\n",
      "|1487093395| 1777|\n",
      "|1472342843| 1306|\n",
      "|1474845319|  995|\n",
      "|1473902040|  986|\n",
      "|1471629165|  950|\n",
      "|1474799746|  924|\n",
      "|1472479074|  920|\n",
      "|1472343066|  919|\n",
      "|1473468179|  913|\n",
      "|1479842010|  867|\n",
      "|1481587574|  817|\n",
      "|1478550894|  793|\n",
      "|1473022577|  790|\n",
      "|1470432463|  786|\n",
      "|1471836187|  781|\n",
      "|1474775547|  779|\n",
      "|1471884865|  775|\n",
      "|1471752880|  773|\n",
      "|1473181908|  755|\n",
      "|1483021729|  753|\n",
      "+----------+-----+\n",
      "only showing top 20 rows\n",
      "\n"
     ]
    },
    {
     "name": "stderr",
     "output_type": "stream",
     "text": [
      "                                                                                \r"
     ]
    },
    {
     "name": "stdout",
     "output_type": "stream",
     "text": [
      "+--------+-----+\n",
      "|    date|count|\n",
      "+--------+-----+\n",
      "|20160815| 8733|\n",
      "|20160914| 8693|\n",
      "|20160822| 8214|\n",
      "|20160831| 7571|\n",
      "|20160804| 7514|\n",
      "|20160816| 7394|\n",
      "|20160811| 7300|\n",
      "|20160823| 6858|\n",
      "|20160906| 6836|\n",
      "|20160921| 6828|\n",
      "|20160907| 6598|\n",
      "|20160913| 6506|\n",
      "|20160812| 6430|\n",
      "|20160902| 6246|\n",
      "|20160809| 6237|\n",
      "|20160817| 6064|\n",
      "|20160827| 6021|\n",
      "|20160805| 5946|\n",
      "|20160802| 5946|\n",
      "|20160909| 5633|\n",
      "+--------+-----+\n",
      "only showing top 20 rows\n",
      "\n"
     ]
    },
    {
     "name": "stderr",
     "output_type": "stream",
     "text": [
      "                                                                                \r"
     ]
    },
    {
     "name": "stdout",
     "output_type": "stream",
     "text": [
      "+---------+------+\n",
      "|newVisits| count|\n",
      "+---------+------+\n",
      "|        1|647359|\n",
      "|     null|270455|\n",
      "+---------+------+\n",
      "\n"
     ]
    },
    {
     "name": "stderr",
     "output_type": "stream",
     "text": [
      "                                                                                \r"
     ]
    },
    {
     "name": "stdout",
     "output_type": "stream",
     "text": [
      "+--------------------+------+\n",
      "|          hitReferer| count|\n",
      "+--------------------+------+\n",
      "|                null|797855|\n",
      "|https://www.googl...| 38623|\n",
      "|https://www.googl...|  7437|\n",
      "|https://www.youtu...|  7204|\n",
      "|https://www.googl...|  6743|\n",
      "|https://www.googl...|  3560|\n",
      "|https://www.googl...|  2873|\n",
      "|https://www.googl...|  2854|\n",
      "|http://www.google...|  2356|\n",
      "|https://www.googl...|  1912|\n",
      "|https://www.googl...|  1909|\n",
      "|https://www.googl...|  1573|\n",
      "|https://www.googl...|  1329|\n",
      "|https://www.googl...|  1200|\n",
      "|https://www.googl...|   968|\n",
      "|https://www.googl...|   967|\n",
      "|https://www.googl...|   845|\n",
      "|https://www.googl...|   839|\n",
      "|https://www.googl...|   768|\n",
      "|https://www.googl...|   764|\n",
      "+--------------------+------+\n",
      "only showing top 20 rows\n",
      "\n"
     ]
    },
    {
     "name": "stderr",
     "output_type": "stream",
     "text": [
      "                                                                                \r"
     ]
    },
    {
     "name": "stdout",
     "output_type": "stream",
     "text": [
      "+-------+------+\n",
      "|hitType| count|\n",
      "+-------+------+\n",
      "|   PAGE|886585|\n",
      "|  EVENT| 31229|\n",
      "+-------+------+\n",
      "\n"
     ]
    },
    {
     "name": "stderr",
     "output_type": "stream",
     "text": [
      "                                                                                \r"
     ]
    },
    {
     "name": "stdout",
     "output_type": "stream",
     "text": [
      "+--------------+------+\n",
      "|hitAction_type| count|\n",
      "+--------------+------+\n",
      "|             0|853903|\n",
      "|             1| 22253|\n",
      "|             2| 18313|\n",
      "|             5| 12380|\n",
      "|             3|  6200|\n",
      "|             6|  3880|\n",
      "|             4|   885|\n",
      "+--------------+------+\n",
      "\n"
     ]
    },
    {
     "name": "stderr",
     "output_type": "stream",
     "text": [
      "                                                                                \r"
     ]
    },
    {
     "name": "stdout",
     "output_type": "stream",
     "text": [
      "+---------+------+\n",
      "|hitNumber| count|\n",
      "+---------+------+\n",
      "|        1|128949|\n",
      "|        3|104988|\n",
      "|        2|101344|\n",
      "|        4| 75432|\n",
      "|        5| 54931|\n",
      "|        6| 45212|\n",
      "|        7| 40069|\n",
      "|        8| 33037|\n",
      "|        9| 28159|\n",
      "|       10| 24166|\n",
      "|       11| 21807|\n",
      "|       12| 18867|\n",
      "|       13| 17060|\n",
      "|       14| 14858|\n",
      "|       15| 13635|\n",
      "|       16| 12554|\n",
      "|       17| 11389|\n",
      "|       18| 10054|\n",
      "|       19|  9889|\n",
      "|       20|  8821|\n",
      "+---------+------+\n",
      "only showing top 20 rows\n",
      "\n"
     ]
    },
    {
     "name": "stderr",
     "output_type": "stream",
     "text": [
      "                                                                                \r"
     ]
    },
    {
     "name": "stdout",
     "output_type": "stream",
     "text": [
      "+-------+-----+\n",
      "|hitHour|count|\n",
      "+-------+-----+\n",
      "|     11|64196|\n",
      "|     10|60383|\n",
      "|     13|57946|\n",
      "|     14|54553|\n",
      "|     12|53822|\n",
      "|      9|48343|\n",
      "|      8|45227|\n",
      "|     16|44962|\n",
      "|     15|43676|\n",
      "|     18|39950|\n",
      "|     17|39395|\n",
      "|     20|39173|\n",
      "|      7|37065|\n",
      "|     22|34531|\n",
      "|     19|34193|\n",
      "|     21|33678|\n",
      "|     23|31245|\n",
      "|      6|30732|\n",
      "|      5|24574|\n",
      "|      0|23328|\n",
      "+-------+-----+\n",
      "only showing top 20 rows\n",
      "\n"
     ]
    },
    {
     "name": "stderr",
     "output_type": "stream",
     "text": [
      "                                                                                \r"
     ]
    },
    {
     "name": "stdout",
     "output_type": "stream",
     "text": [
      "+------+-----+\n",
      "|hitMin|count|\n",
      "+------+-----+\n",
      "|    21|16750|\n",
      "|    43|16699|\n",
      "|    58|16398|\n",
      "|    23|16368|\n",
      "|    52|16307|\n",
      "|    41|16248|\n",
      "|    30|16110|\n",
      "|    57|16085|\n",
      "|    54|16050|\n",
      "|    36|15954|\n",
      "|    56|15943|\n",
      "|    28|15817|\n",
      "|    53|15790|\n",
      "|    26|15789|\n",
      "|    20|15767|\n",
      "|     9|15726|\n",
      "|    35|15698|\n",
      "|    40|15657|\n",
      "|     6|15593|\n",
      "|    42|15579|\n",
      "+------+-----+\n",
      "only showing top 20 rows\n",
      "\n"
     ]
    },
    {
     "name": "stderr",
     "output_type": "stream",
     "text": [
      "[Stage 42:================================================>     (180 + 4) / 200]\r"
     ]
    },
    {
     "name": "stdout",
     "output_type": "stream",
     "text": [
      "+------------+------+\n",
      "|timeMicroSec| count|\n",
      "+------------+------+\n",
      "|           0|129394|\n",
      "|       13598|    80|\n",
      "|        9553|    80|\n",
      "|       11300|    80|\n",
      "|       13027|    80|\n",
      "|      374888|    80|\n",
      "|       11756|    79|\n",
      "|       13796|    79|\n",
      "|       17138|    73|\n",
      "|           1|    72|\n",
      "|       56918|    71|\n",
      "|       32959|    70|\n",
      "|        8860|    70|\n",
      "|       33192|    70|\n",
      "|       97580|    70|\n",
      "|       11187|    69|\n",
      "|      211748|    68|\n",
      "|        8108|    68|\n",
      "|      534363|    68|\n",
      "|       34270|    68|\n",
      "+------------+------+\n",
      "only showing top 20 rows\n",
      "\n"
     ]
    },
    {
     "name": "stderr",
     "output_type": "stream",
     "text": [
      "                                                                                \r"
     ]
    },
    {
     "name": "stdout",
     "output_type": "stream",
     "text": [
      "+--------------------+-----+\n",
      "|       v2ProductName|count|\n",
      "+--------------------+-----+\n",
      "|Google Men's 100%...|15365|\n",
      "|22 oz YouTube Bot...|10277|\n",
      "|YouTube Men's Sho...|10125|\n",
      "|YouTube Custom De...| 9866|\n",
      "|Google Men's 100%...| 9319|\n",
      "|YouTube Men's Sho...| 9286|\n",
      "|   YouTube Twill Cap| 9252|\n",
      "|Google Men's 100%...| 9227|\n",
      "|Electronics Acces...| 8507|\n",
      "|YouTube Men's Sho...| 7970|\n",
      "|YouTube Wool Heat...| 7968|\n",
      "|Google Laptop and...| 7866|\n",
      "|YouTube Leatheret...| 7599|\n",
      "|Google Men's  Zip...| 7392|\n",
      "| YouTube Trucker Hat| 7285|\n",
      "|Google Men's Wate...| 7100|\n",
      "|Suitcase Organize...| 7014|\n",
      "|Google Men's 100%...| 6847|\n",
      "|Google Alpine Sty...| 6602|\n",
      "|Google Men's Vint...| 6565|\n",
      "+--------------------+-----+\n",
      "only showing top 20 rows\n",
      "\n"
     ]
    },
    {
     "name": "stderr",
     "output_type": "stream",
     "text": [
      "                                                                                \r"
     ]
    },
    {
     "name": "stdout",
     "output_type": "stream",
     "text": [
      "+----------------+------+\n",
      "| productListName| count|\n",
      "+----------------+------+\n",
      "|        Category|847919|\n",
      "|Related Products| 28085|\n",
      "|       (not set)| 23657|\n",
      "|  Search Results| 18153|\n",
      "+----------------+------+\n",
      "\n"
     ]
    },
    {
     "name": "stderr",
     "output_type": "stream",
     "text": [
      "                                                                                \r"
     ]
    },
    {
     "name": "stdout",
     "output_type": "stream",
     "text": [
      "+-------+------+\n",
      "|isClick| count|\n",
      "+-------+------+\n",
      "|   null|895561|\n",
      "|   true| 22253|\n",
      "+-------+------+\n",
      "\n"
     ]
    },
    {
     "name": "stderr",
     "output_type": "stream",
     "text": [
      "                                                                                \r"
     ]
    },
    {
     "name": "stdout",
     "output_type": "stream",
     "text": [
      "+------------+------+\n",
      "|isImpression| count|\n",
      "+------------+------+\n",
      "|        true|853903|\n",
      "|        null| 63911|\n",
      "+------------+------+\n",
      "\n"
     ]
    },
    {
     "name": "stderr",
     "output_type": "stream",
     "text": [
      "                                                                                \r"
     ]
    },
    {
     "name": "stdout",
     "output_type": "stream",
     "text": [
      "+-----------------+------+\n",
      "|sessionQualityDim| count|\n",
      "+-----------------+------+\n",
      "|             null|856032|\n",
      "|                1| 28967|\n",
      "|                2|  4177|\n",
      "|                3|  1816|\n",
      "|                4|  1641|\n",
      "|                5|  1529|\n",
      "|                7|   825|\n",
      "|                6|   824|\n",
      "|               68|   679|\n",
      "|               19|   601|\n",
      "|               44|   596|\n",
      "|               10|   596|\n",
      "|                8|   569|\n",
      "|               77|   561|\n",
      "|               76|   492|\n",
      "|               80|   478|\n",
      "|               54|   466|\n",
      "|                9|   462|\n",
      "|               12|   451|\n",
      "|               62|   433|\n",
      "+-----------------+------+\n",
      "only showing top 20 rows\n",
      "\n"
     ]
    },
    {
     "name": "stderr",
     "output_type": "stream",
     "text": [
      "                                                                                \r"
     ]
    },
    {
     "name": "stdout",
     "output_type": "stream",
     "text": [
      "+------------+------+\n",
      "|timeOnScreen| count|\n",
      "+------------+------+\n",
      "|        null|917814|\n",
      "+------------+------+\n",
      "\n"
     ]
    },
    {
     "name": "stderr",
     "output_type": "stream",
     "text": [
      "                                                                                \r"
     ]
    },
    {
     "name": "stdout",
     "output_type": "stream",
     "text": [
      "+----------+-----+\n",
      "|timeOnSite|count|\n",
      "+----------+-----+\n",
      "|      null|67305|\n",
      "|        64| 2333|\n",
      "|        67| 2264|\n",
      "|        24| 2246|\n",
      "|        55| 2230|\n",
      "|        54| 2214|\n",
      "|        13| 2212|\n",
      "|        26| 2210|\n",
      "|       106| 2188|\n",
      "|       158| 2174|\n",
      "|        87| 2120|\n",
      "|        56| 2120|\n",
      "|        90| 2119|\n",
      "|        38| 2117|\n",
      "|        35| 2113|\n",
      "|      2469| 2099|\n",
      "|        86| 2070|\n",
      "|        52| 2060|\n",
      "|       215| 2045|\n",
      "|       169| 2026|\n",
      "+----------+-----+\n",
      "only showing top 20 rows\n",
      "\n"
     ]
    },
    {
     "name": "stderr",
     "output_type": "stream",
     "text": [
      "[Stage 58:===========================================>          (162 + 4) / 200]\r"
     ]
    },
    {
     "name": "stdout",
     "output_type": "stream",
     "text": [
      "+-----------------------+------+\n",
      "|totalTransactionRevenue| count|\n",
      "+-----------------------+------+\n",
      "|                   null|847514|\n",
      "|              186860000|   950|\n",
      "|              220520000|   920|\n",
      "|              681400000|   817|\n",
      "|              192440000|   786|\n",
      "|               81980000|   704|\n",
      "|              108630000|   671|\n",
      "|               32950000|   652|\n",
      "|               79150000|   644|\n",
      "|              355970000|   626|\n",
      "|              208640000|   583|\n",
      "|               80060000|   579|\n",
      "|              127380000|   577|\n",
      "|               54000000|   569|\n",
      "|              150340000|   565|\n",
      "|              101940000|   556|\n",
      "|               29980000|   540|\n",
      "|              216630000|   524|\n",
      "|              307740000|   522|\n",
      "|               28980000|   511|\n",
      "+-----------------------+------+\n",
      "only showing top 20 rows\n",
      "\n"
     ]
    },
    {
     "name": "stderr",
     "output_type": "stream",
     "text": [
      "                                                                                \r"
     ]
    }
   ],
   "source": [
    "for a in business_requiredCol_list:\n",
    "  raw_df.groupBy(a).count().orderBy('count',ascending = False).show()"
   ]
  },
  {
   "cell_type": "code",
   "execution_count": 28,
   "metadata": {
    "colab": {
     "base_uri": "https://localhost:8080/"
    },
    "id": "4nrpUb6tNDDX",
    "outputId": "722dc84a-4adb-49a9-9390-b9904ece682c"
   },
   "outputs": [
    {
     "name": "stderr",
     "output_type": "stream",
     "text": [
      "                                                                                \r"
     ]
    },
    {
     "name": "stdout",
     "output_type": "stream",
     "text": [
      "+------------+------+\n",
      "|isTrueDirect| count|\n",
      "+------------+------+\n",
      "|        null|580491|\n",
      "|        true|337323|\n",
      "+------------+------+\n",
      "\n"
     ]
    }
   ],
   "source": [
    "raw_df.groupBy('isTrueDirect').count().show()"
   ]
  },
  {
   "cell_type": "code",
   "execution_count": 29,
   "metadata": {
    "colab": {
     "base_uri": "https://localhost:8080/"
    },
    "id": "hceyKkVYORcJ",
    "outputId": "6419f437-d282-495b-ade9-2a77b1e07db4"
   },
   "outputs": [
    {
     "name": "stderr",
     "output_type": "stream",
     "text": [
      "                                                                                \r"
     ]
    },
    {
     "name": "stdout",
     "output_type": "stream",
     "text": [
      "+---------+------+\n",
      "|   medium| count|\n",
      "+---------+------+\n",
      "|   (none)|502654|\n",
      "|      cpc| 21580|\n",
      "| referral| 72078|\n",
      "|  organic|302345|\n",
      "|affiliate|  9949|\n",
      "|(not set)|    72|\n",
      "|      cpm|  9136|\n",
      "+---------+------+\n",
      "\n"
     ]
    }
   ],
   "source": [
    "raw_df.groupBy('medium').count().show()"
   ]
  },
  {
   "cell_type": "code",
   "execution_count": 30,
   "metadata": {},
   "outputs": [],
   "source": [
    "## สังเกตว่า หลักการเรื่อง Imputation ด้วย Avg หรือ Agg.func. ไม่สามารถนำมาใช้ได้เสมอไป\n",
    "## ลองคิดดูว่า หาก Avg('sessionQualityDim') แล้วได้ค่าหนึ่ง คำถามคือ ค่านั้นนำมาแทน null\n",
    "## จริงหรือ?\n",
    "\n",
    "### เกิดแนวคิดว่า น่าจะ treat เป็น continuous ไม่ใช่ discrete เนื่องจาก ไม่สามารถระบุได้ชัดเจนว่า ตัวเลขที่แตกต่างกัน สื่อความหมายที่ต่างแบบชัดเจน ได้อย่างไร\n",
    "### ซึ่งแทนที่ null ด้วย 0 จะเหมาะกว่า NA หรือ ignorance"
   ]
  },
  {
   "cell_type": "code",
   "execution_count": 31,
   "metadata": {},
   "outputs": [
    {
     "name": "stderr",
     "output_type": "stream",
     "text": [
      "                                                                                \r"
     ]
    },
    {
     "data": {
      "text/html": [
       "<div>\n",
       "<style scoped>\n",
       "    .dataframe tbody tr th:only-of-type {\n",
       "        vertical-align: middle;\n",
       "    }\n",
       "\n",
       "    .dataframe tbody tr th {\n",
       "        vertical-align: top;\n",
       "    }\n",
       "\n",
       "    .dataframe thead th {\n",
       "        text-align: right;\n",
       "    }\n",
       "</style>\n",
       "<table border=\"1\" class=\"dataframe\">\n",
       "  <thead>\n",
       "    <tr style=\"text-align: right;\">\n",
       "      <th></th>\n",
       "      <th>0</th>\n",
       "      <th>1</th>\n",
       "      <th>2</th>\n",
       "      <th>3</th>\n",
       "      <th>4</th>\n",
       "    </tr>\n",
       "  </thead>\n",
       "  <tbody>\n",
       "    <tr>\n",
       "      <th>summary</th>\n",
       "      <td>count</td>\n",
       "      <td>mean</td>\n",
       "      <td>stddev</td>\n",
       "      <td>min</td>\n",
       "      <td>max</td>\n",
       "    </tr>\n",
       "    <tr>\n",
       "      <th>source</th>\n",
       "      <td>917814</td>\n",
       "      <td>None</td>\n",
       "      <td>None</td>\n",
       "      <td>(direct)</td>\n",
       "      <td>youtube.com</td>\n",
       "    </tr>\n",
       "    <tr>\n",
       "      <th>sourceKeyword</th>\n",
       "      <td>322031</td>\n",
       "      <td>None</td>\n",
       "      <td>None</td>\n",
       "      <td>(Remarketing/Content targeting)</td>\n",
       "      <td>yyoutubr</td>\n",
       "    </tr>\n",
       "    <tr>\n",
       "      <th>medium</th>\n",
       "      <td>917814</td>\n",
       "      <td>None</td>\n",
       "      <td>None</td>\n",
       "      <td>(none)</td>\n",
       "      <td>referral</td>\n",
       "    </tr>\n",
       "    <tr>\n",
       "      <th>fullVisitorId</th>\n",
       "      <td>917814</td>\n",
       "      <td>4.7679506549928141E18</td>\n",
       "      <td>1.42707561410277811E18</td>\n",
       "      <td>514359656957582</td>\n",
       "      <td>5487531102128447544</td>\n",
       "    </tr>\n",
       "    <tr>\n",
       "      <th>visitId</th>\n",
       "      <td>917814</td>\n",
       "      <td>1.4828991660307045E9</td>\n",
       "      <td>9692290.975135246</td>\n",
       "      <td>1470037326</td>\n",
       "      <td>1501656575</td>\n",
       "    </tr>\n",
       "    <tr>\n",
       "      <th>date</th>\n",
       "      <td>917814</td>\n",
       "      <td>2.0165139267192483E7</td>\n",
       "      <td>4699.035428253388</td>\n",
       "      <td>20160801</td>\n",
       "      <td>20170801</td>\n",
       "    </tr>\n",
       "    <tr>\n",
       "      <th>newVisits</th>\n",
       "      <td>647359</td>\n",
       "      <td>1.0</td>\n",
       "      <td>0.0</td>\n",
       "      <td>1</td>\n",
       "      <td>1</td>\n",
       "    </tr>\n",
       "    <tr>\n",
       "      <th>hitType</th>\n",
       "      <td>917814</td>\n",
       "      <td>None</td>\n",
       "      <td>None</td>\n",
       "      <td>EVENT</td>\n",
       "      <td>PAGE</td>\n",
       "    </tr>\n",
       "    <tr>\n",
       "      <th>hitAction_type</th>\n",
       "      <td>917814</td>\n",
       "      <td>0.18108135199506653</td>\n",
       "      <td>0.7980562985767482</td>\n",
       "      <td>0</td>\n",
       "      <td>6</td>\n",
       "    </tr>\n",
       "    <tr>\n",
       "      <th>hitNumber</th>\n",
       "      <td>917814</td>\n",
       "      <td>11.936170073675058</td>\n",
       "      <td>19.048950870892313</td>\n",
       "      <td>1</td>\n",
       "      <td>239</td>\n",
       "    </tr>\n",
       "    <tr>\n",
       "      <th>hitHour</th>\n",
       "      <td>917814</td>\n",
       "      <td>12.427243428407063</td>\n",
       "      <td>5.993956058897788</td>\n",
       "      <td>0</td>\n",
       "      <td>23</td>\n",
       "    </tr>\n",
       "    <tr>\n",
       "      <th>hitMin</th>\n",
       "      <td>917814</td>\n",
       "      <td>29.86619620097318</td>\n",
       "      <td>17.257801099354616</td>\n",
       "      <td>0</td>\n",
       "      <td>59</td>\n",
       "    </tr>\n",
       "    <tr>\n",
       "      <th>timeMicroSec</th>\n",
       "      <td>917814</td>\n",
       "      <td>291059.62081097043</td>\n",
       "      <td>554542.5064780046</td>\n",
       "      <td>0</td>\n",
       "      <td>9963065</td>\n",
       "    </tr>\n",
       "    <tr>\n",
       "      <th>productListName</th>\n",
       "      <td>917814</td>\n",
       "      <td>None</td>\n",
       "      <td>None</td>\n",
       "      <td>(not set)</td>\n",
       "      <td>Search Results</td>\n",
       "    </tr>\n",
       "    <tr>\n",
       "      <th>sessionQualityDim</th>\n",
       "      <td>61782</td>\n",
       "      <td>18.657068401799876</td>\n",
       "      <td>27.512960054299242</td>\n",
       "      <td>1</td>\n",
       "      <td>94</td>\n",
       "    </tr>\n",
       "    <tr>\n",
       "      <th>timeOnSite</th>\n",
       "      <td>850509</td>\n",
       "      <td>660.041210616231</td>\n",
       "      <td>930.0535167228322</td>\n",
       "      <td>1</td>\n",
       "      <td>9963</td>\n",
       "    </tr>\n",
       "    <tr>\n",
       "      <th>totalTransactionRevenue</th>\n",
       "      <td>70300</td>\n",
       "      <td>1.978806652916074E8</td>\n",
       "      <td>4.625284848391805E8</td>\n",
       "      <td>6980000</td>\n",
       "      <td>5608400000</td>\n",
       "    </tr>\n",
       "  </tbody>\n",
       "</table>\n",
       "</div>"
      ],
      "text/plain": [
       "                              0                      1  \\\n",
       "summary                   count                   mean   \n",
       "source                   917814                   None   \n",
       "sourceKeyword            322031                   None   \n",
       "medium                   917814                   None   \n",
       "fullVisitorId            917814  4.7679506549928141E18   \n",
       "visitId                  917814   1.4828991660307045E9   \n",
       "date                     917814   2.0165139267192483E7   \n",
       "newVisits                647359                    1.0   \n",
       "hitType                  917814                   None   \n",
       "hitAction_type           917814    0.18108135199506653   \n",
       "hitNumber                917814     11.936170073675058   \n",
       "hitHour                  917814     12.427243428407063   \n",
       "hitMin                   917814      29.86619620097318   \n",
       "timeMicroSec             917814     291059.62081097043   \n",
       "productListName          917814                   None   \n",
       "sessionQualityDim         61782     18.657068401799876   \n",
       "timeOnSite               850509       660.041210616231   \n",
       "totalTransactionRevenue   70300    1.978806652916074E8   \n",
       "\n",
       "                                              2  \\\n",
       "summary                                  stddev   \n",
       "source                                     None   \n",
       "sourceKeyword                              None   \n",
       "medium                                     None   \n",
       "fullVisitorId            1.42707561410277811E18   \n",
       "visitId                       9692290.975135246   \n",
       "date                          4699.035428253388   \n",
       "newVisits                                   0.0   \n",
       "hitType                                    None   \n",
       "hitAction_type               0.7980562985767482   \n",
       "hitNumber                    19.048950870892313   \n",
       "hitHour                       5.993956058897788   \n",
       "hitMin                       17.257801099354616   \n",
       "timeMicroSec                  554542.5064780046   \n",
       "productListName                            None   \n",
       "sessionQualityDim            27.512960054299242   \n",
       "timeOnSite                    930.0535167228322   \n",
       "totalTransactionRevenue     4.625284848391805E8   \n",
       "\n",
       "                                                       3                    4  \n",
       "summary                                              min                  max  \n",
       "source                                          (direct)          youtube.com  \n",
       "sourceKeyword            (Remarketing/Content targeting)             yyoutubr  \n",
       "medium                                            (none)             referral  \n",
       "fullVisitorId                            514359656957582  5487531102128447544  \n",
       "visitId                                       1470037326           1501656575  \n",
       "date                                            20160801             20170801  \n",
       "newVisits                                              1                    1  \n",
       "hitType                                            EVENT                 PAGE  \n",
       "hitAction_type                                         0                    6  \n",
       "hitNumber                                              1                  239  \n",
       "hitHour                                                0                   23  \n",
       "hitMin                                                 0                   59  \n",
       "timeMicroSec                                           0              9963065  \n",
       "productListName                                (not set)       Search Results  \n",
       "sessionQualityDim                                      1                   94  \n",
       "timeOnSite                                             1                 9963  \n",
       "totalTransactionRevenue                          6980000           5608400000  "
      ]
     },
     "execution_count": 31,
     "metadata": {},
     "output_type": "execute_result"
    }
   ],
   "source": [
    "raw_df.select([item for item in business_requiredCol_list if item not in ignoredCols]).describe().toPandas().transpose()"
   ]
  },
  {
   "cell_type": "markdown",
   "metadata": {
    "id": "VjyhhtffPWwo"
   },
   "source": [
    "### 2.5 Finding out partial duplicated records - Spurious Patterns"
   ]
  },
  {
   "cell_type": "code",
   "execution_count": 32,
   "metadata": {
    "id": "3EFLj_I8rxBR"
   },
   "outputs": [],
   "source": [
    "sessionWindow = W.partitionBy('fullVisitorId','visitId').orderBy(sparkf.col(\"hitNumber\").cast(\"long\"))\\\n",
    "                 .rangeBetween(-sys.maxsize, sys.maxsize)"
   ]
  },
  {
   "cell_type": "code",
   "execution_count": 33,
   "metadata": {
    "id": "cuaXdfufvP-t"
   },
   "outputs": [],
   "source": [
    "allHit = sparkf.expr(\"count('hitNumber')\")"
   ]
  },
  {
   "cell_type": "markdown",
   "metadata": {
    "id": "jXEb0kOgOaDC"
   },
   "source": [
    "*โค้ดด้านล่างแสดงให้เห็นว่า มีใครบ้าง และ session ไหนที่มี hitAction_type เป็นเลข 6*"
   ]
  },
  {
   "cell_type": "code",
   "execution_count": 34,
   "metadata": {
    "colab": {
     "base_uri": "https://localhost:8080/"
    },
    "id": "sRdwVNpBOftw",
    "outputId": "31e5fc74-d317-4e1c-937f-ffbe0d19bf0b"
   },
   "outputs": [
    {
     "name": "stderr",
     "output_type": "stream",
     "text": [
      "23/05/21 13:05:08 WARN package: Truncated the string representation of a plan since it was too large. This behavior can be adjusted by setting 'spark.sql.debug.maxToStringFields'.\n",
      "[Stage 82:=================================================>    (182 + 4) / 200]\r"
     ]
    },
    {
     "name": "stdout",
     "output_type": "stream",
     "text": [
      "+------------------+----------+--------------------+\n",
      "|     fullVisitorId|   visitId|sum_hitAction_type_6|\n",
      "+------------------+----------+--------------------+\n",
      "| 52868681653220057|1487247308|                   6|\n",
      "| 52947395050573230|1473344657|                   4|\n",
      "| 53866968780969645|1481914028|                   2|\n",
      "|500766381427960566|1489605660|                   6|\n",
      "|500771270741221130|1481728507|                   8|\n",
      "|500926353574528949|1491191147|                   6|\n",
      "|502027330594674519|1488479930|                   2|\n",
      "|502427268661784166|1475681795|                   4|\n",
      "|507378123137078709|1492017734|                  12|\n",
      "|512376512516526849|1484413414|                   2|\n",
      "|512988788718016553|1494940948|                   4|\n",
      "|513403330506317388|1484058394|                   6|\n",
      "|513403330506317388|1488427898|                   4|\n",
      "|514366605460721708|1481841909|                   6|\n",
      "|514478324726152361|1480456502|                   4|\n",
      "|514517908760071241|1485384182|                   2|\n",
      "|515195001502319520|1480385724|                   8|\n",
      "|515770511624914543|1493699819|                   4|\n",
      "|515770511624914543|1494428047|                   4|\n",
      "|516734366347147622|1478384303|                   4|\n",
      "+------------------+----------+--------------------+\n",
      "only showing top 20 rows\n",
      "\n"
     ]
    },
    {
     "name": "stderr",
     "output_type": "stream",
     "text": [
      "                                                                                \r"
     ]
    }
   ],
   "source": [
    "raw_df\\\n",
    "      .withColumn('numHit',allHit.over(sessionWindow))\\\n",
    "      .withColumn('hitAction_type_6',sparkf.when(sparkf.col('hitAction_type')==6,1).otherwise(0))\\\n",
    "      .withColumn('sum_hitAction_type_6',sparkf.sum(sparkf.col('hitAction_type_6')).over(sessionWindow))\\\n",
    "      .filter(sparkf.col('sum_hitAction_type_6')>=1)\\\n",
    "      .select(['fullVisitorId','visitId','sum_hitAction_type_6'])\\\n",
    "      .distinct().orderBy('fullVisitorId','visitId').show()"
   ]
  },
  {
   "cell_type": "markdown",
   "metadata": {
    "id": "Y6vUB5q6QWQi"
   },
   "source": [
    "*โค้ดด้านล่าง เป็นการ cross-check ว่าการคำนวนข้างบนนั้นถูกต้องแล้ว*"
   ]
  },
  {
   "cell_type": "code",
   "execution_count": 35,
   "metadata": {},
   "outputs": [
    {
     "name": "stderr",
     "output_type": "stream",
     "text": [
      "                                                                                \r"
     ]
    },
    {
     "name": "stdout",
     "output_type": "stream",
     "text": [
      "+--------------+-----+\n",
      "|hitAction_type|count|\n",
      "+--------------+-----+\n",
      "|             6|    4|\n",
      "+--------------+-----+\n",
      "\n"
     ]
    }
   ],
   "source": [
    "raw_df.filter((sparkf.col('fullVisitorId') == '516734366347147622')&(sparkf.col('VisitId') == '1478384303'))\\\n",
    ".groupBy('hitAction_type').count().filter(sparkf.col('hitAction_type')==6).show()"
   ]
  },
  {
   "cell_type": "code",
   "execution_count": 36,
   "metadata": {},
   "outputs": [
    {
     "name": "stderr",
     "output_type": "stream",
     "text": [
      "                                                                                \r"
     ]
    },
    {
     "name": "stdout",
     "output_type": "stream",
     "text": [
      "+------------------+----------+---------+------------+--------------+----------------+--------------------+--------------------------------------------------------+----------+\n",
      "|fullVisitorId     |visitId   |hitNumber|timeMicroSec|hitAction_type|hitAction_type_6|sum_hitAction_type_6|v2ProductName                                           |hitReferer|\n",
      "+------------------+----------+---------+------------+--------------+----------------+--------------------+--------------------------------------------------------+----------+\n",
      "|516734366347147622|1478384303|6        |62638       |0             |0               |4                   |Rubber Grip Ballpoint Pen 4 Pack                        |null      |\n",
      "|516734366347147622|1478384303|6        |62638       |0             |0               |4                   |Ballpoint LED Light Pen                                 |null      |\n",
      "|516734366347147622|1478384303|6        |62638       |0             |0               |4                   |Leather and Metal Ballpoint Pen                         |null      |\n",
      "|516734366347147622|1478384303|6        |62638       |0             |0               |4                   |Google Stylus Pen w/ LED Light                          |null      |\n",
      "|516734366347147622|1478384303|6        |62638       |0             |0               |4                   |Pen Pencil & Highlighter Set                            |null      |\n",
      "|516734366347147622|1478384303|6        |62638       |0             |0               |4                   |Maze Pen                                                |null      |\n",
      "|516734366347147622|1478384303|6        |62638       |0             |0               |4                   |Colored Pencil Set                                      |null      |\n",
      "|516734366347147622|1478384303|6        |62638       |0             |0               |4                   |Four Color Retractable Pen                              |null      |\n",
      "|516734366347147622|1478384303|6        |62638       |0             |0               |4                   |Ballpoint Stylus Pen                                    |null      |\n",
      "|516734366347147622|1478384303|6        |62638       |0             |0               |4                   |Retractable Ballpoint Pen Red                           |null      |\n",
      "|516734366347147622|1478384303|6        |62638       |0             |0               |4                   |Google Ballpoint Pen Black                              |null      |\n",
      "|516734366347147622|1478384303|6        |62638       |0             |0               |4                   |Metal Texture Roller Pen                                |null      |\n",
      "|516734366347147622|1478384303|7        |103790      |0             |0               |4                   |Google Lunch Bag                                        |null      |\n",
      "|516734366347147622|1478384303|7        |103790      |0             |0               |4                   |Google Alpine Style Backpack                            |null      |\n",
      "|516734366347147622|1478384303|7        |103790      |0             |0               |4                   |Electronics Accessory Pouch                             |null      |\n",
      "|516734366347147622|1478384303|7        |103790      |0             |0               |4                   |Softsided Travel Pouch Set                              |null      |\n",
      "|516734366347147622|1478384303|7        |103790      |0             |0               |4                   |Collapsible Shopping Bag                                |null      |\n",
      "|516734366347147622|1478384303|7        |103790      |0             |0               |4                   |Sport Bag                                               |null      |\n",
      "|516734366347147622|1478384303|7        |103790      |0             |0               |4                   |Google Tote Bag                                         |null      |\n",
      "|516734366347147622|1478384303|7        |103790      |0             |0               |4                   |Waterproof Backpack                                     |null      |\n",
      "|516734366347147622|1478384303|7        |103790      |0             |0               |4                   |Google Slim Utility Travel Bag                          |null      |\n",
      "|516734366347147622|1478384303|7        |103790      |0             |0               |4                   |Suitcase Organizer Cubes                                |null      |\n",
      "|516734366347147622|1478384303|7        |103790      |0             |0               |4                   |Google Zipper-front Sports Bag                          |null      |\n",
      "|516734366347147622|1478384303|7        |103790      |0             |0               |4                   |Large Zipper Top Tote Bag                               |null      |\n",
      "|516734366347147622|1478384303|8        |125907      |0             |0               |4                   |Leather and Metal Ballpoint Pen                         |null      |\n",
      "|516734366347147622|1478384303|8        |125907      |0             |0               |4                   |Four Color Retractable Pen                              |null      |\n",
      "|516734366347147622|1478384303|8        |125907      |0             |0               |4                   |Ballpoint LED Light Pen                                 |null      |\n",
      "|516734366347147622|1478384303|8        |125907      |0             |0               |4                   |Maze Pen                                                |null      |\n",
      "|516734366347147622|1478384303|8        |125907      |0             |0               |4                   |Ballpoint Stylus Pen                                    |null      |\n",
      "|516734366347147622|1478384303|8        |125907      |0             |0               |4                   |Google Stylus Pen w/ LED Light                          |null      |\n",
      "|516734366347147622|1478384303|8        |125907      |0             |0               |4                   |Retractable Ballpoint Pen Red                           |null      |\n",
      "|516734366347147622|1478384303|8        |125907      |0             |0               |4                   |Colored Pencil Set                                      |null      |\n",
      "|516734366347147622|1478384303|8        |125907      |0             |0               |4                   |Pen Pencil & Highlighter Set                            |null      |\n",
      "|516734366347147622|1478384303|8        |125907      |0             |0               |4                   |Metal Texture Roller Pen                                |null      |\n",
      "|516734366347147622|1478384303|8        |125907      |0             |0               |4                   |Google Ballpoint Pen Black                              |null      |\n",
      "|516734366347147622|1478384303|8        |125907      |0             |0               |4                   |Rubber Grip Ballpoint Pen 4 Pack                        |null      |\n",
      "|516734366347147622|1478384303|10       |133578      |0             |0               |4                   |Google Men's Short Sleeve Hero Tee Light Blue           |null      |\n",
      "|516734366347147622|1478384303|10       |133578      |0             |0               |4                   |YouTube Men's Short Sleeve Hero Tee Charcoal            |null      |\n",
      "|516734366347147622|1478384303|10       |133578      |0             |0               |4                   |Google Men's 100% Cotton Short Sleeve Hero Tee White    |null      |\n",
      "|516734366347147622|1478384303|10       |133578      |0             |0               |4                   |Google Men's 100% Cotton Short Sleeve Hero Tee Navy     |null      |\n",
      "|516734366347147622|1478384303|10       |133578      |0             |0               |4                   |Google Men's Heavyweight Long Sleeve Hero Tee Navy      |null      |\n",
      "|516734366347147622|1478384303|10       |133578      |0             |0               |4                   |YouTube Men's Short Sleeve Hero Tee Black               |null      |\n",
      "|516734366347147622|1478384303|10       |133578      |0             |0               |4                   |Google Men's Heavyweight Long Sleeve Hero Tee Burgundy  |null      |\n",
      "|516734366347147622|1478384303|10       |133578      |0             |0               |4                   |Google Men's 100% Cotton Short Sleeve Hero Tee Red      |null      |\n",
      "|516734366347147622|1478384303|10       |133578      |0             |0               |4                   |Google Men's Performance Polo Grey/Black                |null      |\n",
      "|516734366347147622|1478384303|10       |133578      |0             |0               |4                   |Google Men's 100% Cotton Short Sleeve Hero Tee Black    |null      |\n",
      "|516734366347147622|1478384303|10       |133578      |0             |0               |4                   |YouTube Men's Short Sleeve Hero Tee White               |null      |\n",
      "|516734366347147622|1478384303|10       |133578      |0             |0               |4                   |Google Men's Short Sleeve Hero Tee Heather              |null      |\n",
      "|516734366347147622|1478384303|11       |146885      |1             |0               |4                   |Google Men's Heavyweight Long Sleeve Hero Tee Burgundy  |null      |\n",
      "|516734366347147622|1478384303|12       |146886      |2             |0               |4                   |Google Men's Heavyweight Long Sleeve Hero Tee Burgundy  |null      |\n",
      "|516734366347147622|1478384303|13       |153877      |2             |0               |4                   |Google Men's Heavyweight Long Sleeve Hero Tee Navy      |null      |\n",
      "|516734366347147622|1478384303|14       |153878      |1             |0               |4                   |Google Men's Heavyweight Long Sleeve Hero Tee Navy      |null      |\n",
      "|516734366347147622|1478384303|15       |164718      |1             |0               |4                   |Google Men's Heavyweight Long Sleeve Hero Tee Navy      |null      |\n",
      "|516734366347147622|1478384303|16       |164719      |2             |0               |4                   |Google Men's Heavyweight Long Sleeve Hero Tee Navy      |null      |\n",
      "|516734366347147622|1478384303|17       |166709      |1             |0               |4                   |Google Men's Heavyweight Long Sleeve Hero Tee Navy      |null      |\n",
      "|516734366347147622|1478384303|18       |169578      |0             |0               |4                   |Google Men's Performance 1/4 Zip Pullover Heather/Black |null      |\n",
      "|516734366347147622|1478384303|18       |169578      |0             |0               |4                   |Google Women's Fleece Hoodie                            |null      |\n",
      "|516734366347147622|1478384303|18       |169578      |0             |0               |4                   |20 oz Stainless Steel Insulated Tumbler                 |null      |\n",
      "|516734366347147622|1478384303|19       |191007      |0             |0               |4                   |Google Men's Short Sleeve Hero Tee Heather              |null      |\n",
      "|516734366347147622|1478384303|19       |191007      |0             |0               |4                   |YouTube Men's Short Sleeve Hero Tee Black               |null      |\n",
      "|516734366347147622|1478384303|19       |191007      |0             |0               |4                   |Google Men's Heavyweight Long Sleeve Hero Tee Burgundy  |null      |\n",
      "|516734366347147622|1478384303|19       |191007      |0             |0               |4                   |Google Men's Heavyweight Long Sleeve Hero Tee Navy      |null      |\n",
      "|516734366347147622|1478384303|19       |191007      |0             |0               |4                   |YouTube Men's Short Sleeve Hero Tee Charcoal            |null      |\n",
      "|516734366347147622|1478384303|19       |191007      |0             |0               |4                   |Google Men's 100% Cotton Short Sleeve Hero Tee White    |null      |\n",
      "|516734366347147622|1478384303|19       |191007      |0             |0               |4                   |Google Men's Performance Polo Grey/Black                |null      |\n",
      "|516734366347147622|1478384303|19       |191007      |0             |0               |4                   |YouTube Men's Short Sleeve Hero Tee White               |null      |\n",
      "|516734366347147622|1478384303|19       |191007      |0             |0               |4                   |Google Men's 100% Cotton Short Sleeve Hero Tee Black    |null      |\n",
      "|516734366347147622|1478384303|19       |191007      |0             |0               |4                   |Google Men's 100% Cotton Short Sleeve Hero Tee Navy     |null      |\n",
      "|516734366347147622|1478384303|19       |191007      |0             |0               |4                   |Google Men's 100% Cotton Short Sleeve Hero Tee Red      |null      |\n",
      "|516734366347147622|1478384303|19       |191007      |0             |0               |4                   |Google Men's Short Sleeve Hero Tee Light Blue           |null      |\n",
      "|516734366347147622|1478384303|20       |220658      |0             |0               |4                   |Google Men's 100% Cotton Short Sleeve Hero Tee Navy     |null      |\n",
      "|516734366347147622|1478384303|20       |220658      |0             |0               |4                   |Google Toddler 1/4 Zip Fleece Pewter                    |null      |\n",
      "|516734366347147622|1478384303|20       |220658      |0             |0               |4                   |Google Men's Heavyweight Long Sleeve Hero Tee Burgundy  |null      |\n",
      "|516734366347147622|1478384303|21       |249343      |3             |0               |4                   |Google Vintage Henley Grey/Black                        |null      |\n",
      "|516734366347147622|1478384303|23       |256816      |0             |0               |4                   |Google Men's 100% Cotton Short Sleeve Hero Tee Black    |null      |\n",
      "|516734366347147622|1478384303|23       |256816      |0             |0               |4                   |Google Men's Watershed Full Zip Hoodie Grey             |null      |\n",
      "|516734366347147622|1478384303|23       |256816      |0             |0               |4                   |Google Men's 100% Cotton Short Sleeve Hero Tee Navy     |null      |\n",
      "|516734366347147622|1478384303|23       |256816      |0             |0               |4                   |Google Men's 100% Cotton Short Sleeve Hero Tee Red      |null      |\n",
      "|516734366347147622|1478384303|23       |256816      |0             |0               |4                   |Google Men's 100% Cotton Short Sleeve Hero Tee White    |null      |\n",
      "|516734366347147622|1478384303|23       |256816      |0             |0               |4                   |Google Men's Pullover Hoodie Grey                       |null      |\n",
      "|516734366347147622|1478384303|23       |256816      |0             |0               |4                   |Google Men's  Zip Hoodie                                |null      |\n",
      "|516734366347147622|1478384303|23       |256816      |0             |0               |4                   |Google Men's Heavyweight Long Sleeve Hero Tee Navy      |null      |\n",
      "|516734366347147622|1478384303|23       |256816      |0             |0               |4                   |Android Men's  Zip Hoodie                               |null      |\n",
      "|516734366347147622|1478384303|23       |256816      |0             |0               |4                   |Google Men's Heavyweight Long Sleeve Hero Tee Burgundy  |null      |\n",
      "|516734366347147622|1478384303|23       |256816      |0             |0               |4                   |Google Men's Short Sleeve Hero Tee Heather              |null      |\n",
      "|516734366347147622|1478384303|23       |256816      |0             |0               |4                   |YouTube Men's Short Sleeve Hero Tee Black               |null      |\n",
      "|516734366347147622|1478384303|24       |313050      |0             |0               |4                   |Google Women's Short Sleeve Hero Tee Black              |null      |\n",
      "|516734366347147622|1478384303|24       |313050      |0             |0               |4                   |YouTube Wool Heather Cap Heather/Black                  |null      |\n",
      "|516734366347147622|1478384303|24       |313050      |0             |0               |4                   |Google Men's 100% Cotton Short Sleeve Hero Tee White    |null      |\n",
      "|516734366347147622|1478384303|25       |322312      |0             |0               |4                   |Google Men's Performance Full Zip Jacket Black          |null      |\n",
      "|516734366347147622|1478384303|25       |322312      |0             |0               |4                   |Google Men's Lightweight Microfleece Jacket Black       |null      |\n",
      "|516734366347147622|1478384303|25       |322312      |0             |0               |4                   |Google Men's Pullover Hoodie Grey                       |null      |\n",
      "|516734366347147622|1478384303|25       |322312      |0             |0               |4                   |Google Tri-blend Hoodie Grey                            |null      |\n",
      "|516734366347147622|1478384303|25       |322312      |0             |0               |4                   |Google Men's Microfiber 1/4 Zip Pullover Grey/Black     |null      |\n",
      "|516734366347147622|1478384303|25       |322312      |0             |0               |4                   |Google Men's Weatherblock Shell Jacket Black            |null      |\n",
      "|516734366347147622|1478384303|25       |322312      |0             |0               |4                   |Google Men's Convertible Vest-Jacket Pewter             |null      |\n",
      "|516734366347147622|1478384303|25       |322312      |0             |0               |4                   |Android Men's  Zip Hoodie                               |null      |\n",
      "|516734366347147622|1478384303|25       |322312      |0             |0               |4                   |Google Men's Quilted Insulated Vest Black               |null      |\n",
      "|516734366347147622|1478384303|25       |322312      |0             |0               |4                   |Google Men's Microfiber 1/4 Zip Pullover Blue/Indigo    |null      |\n",
      "|516734366347147622|1478384303|25       |322312      |0             |0               |4                   |Google Men's Watershed Full Zip Hoodie Grey             |null      |\n",
      "|516734366347147622|1478384303|25       |322312      |0             |0               |4                   |Google Men's  Zip Hoodie                                |null      |\n",
      "|516734366347147622|1478384303|26       |338943      |0             |0               |4                   |Google Men's Performance 1/4 Zip Pullover Heather/Black |null      |\n",
      "|516734366347147622|1478384303|26       |338943      |0             |0               |4                   |Google Men's Airflow 1/4 Zip Pullover Black             |null      |\n",
      "|516734366347147622|1478384303|26       |338943      |0             |0               |4                   |Google Men's Watershed Full Zip Hoodie Grey             |null      |\n",
      "|516734366347147622|1478384303|26       |338943      |0             |0               |4                   |Google Men's Short Sleeve Performance Badge Tee Pewter  |null      |\n",
      "|516734366347147622|1478384303|26       |338943      |0             |0               |4                   |Google Men's Short Sleeve Performance Badge Tee Black   |null      |\n",
      "|516734366347147622|1478384303|26       |338943      |0             |0               |4                   |Google Men's Short Sleeve Performance Badge Tee Navy    |null      |\n",
      "|516734366347147622|1478384303|26       |338943      |0             |0               |4                   |Google Men's Short Sleeve Performance Badge Tee Charcoal|null      |\n",
      "|516734366347147622|1478384303|26       |338943      |0             |0               |4                   |Google Men's Performance Full Zip Jacket Black          |null      |\n",
      "|516734366347147622|1478384303|26       |338943      |0             |0               |4                   |Google Men's Convertible Vest-Jacket Pewter             |null      |\n",
      "|516734366347147622|1478384303|26       |338943      |0             |0               |4                   |Google Men's Airflow 1/4 Zip Pullover Lapis             |null      |\n",
      "|516734366347147622|1478384303|26       |338943      |0             |0               |4                   |Google Men's Performance Hero Tee Gunmetal              |null      |\n",
      "|516734366347147622|1478384303|27       |381144      |0             |0               |4                   |Google Men's 100% Cotton Short Sleeve Hero Tee White    |null      |\n",
      "|516734366347147622|1478384303|27       |381144      |0             |0               |4                   |Google Men's Heavyweight Long Sleeve Hero Tee Burgundy  |null      |\n",
      "|516734366347147622|1478384303|27       |381144      |0             |0               |4                   |YouTube Men's Short Sleeve Hero Tee Charcoal            |null      |\n",
      "|516734366347147622|1478384303|27       |381144      |0             |0               |4                   |Google Men's 100% Cotton Short Sleeve Hero Tee Black    |null      |\n",
      "|516734366347147622|1478384303|27       |381144      |0             |0               |4                   |Google Men's Short Sleeve Hero Tee Heather              |null      |\n",
      "|516734366347147622|1478384303|27       |381144      |0             |0               |4                   |Google Men's Short Sleeve Hero Tee Light Blue           |null      |\n",
      "|516734366347147622|1478384303|27       |381144      |0             |0               |4                   |YouTube Men's Short Sleeve Hero Tee Black               |null      |\n",
      "|516734366347147622|1478384303|27       |381144      |0             |0               |4                   |Google Men's Heavyweight Long Sleeve Hero Tee Navy      |null      |\n",
      "|516734366347147622|1478384303|27       |381144      |0             |0               |4                   |Google Men's Performance Polo Grey/Black                |null      |\n",
      "|516734366347147622|1478384303|27       |381144      |0             |0               |4                   |Google Men's 100% Cotton Short Sleeve Hero Tee Navy     |null      |\n",
      "|516734366347147622|1478384303|27       |381144      |0             |0               |4                   |YouTube Men's Short Sleeve Hero Tee White               |null      |\n",
      "|516734366347147622|1478384303|27       |381144      |0             |0               |4                   |Google Men's 100% Cotton Short Sleeve Hero Tee Red      |null      |\n",
      "|516734366347147622|1478384303|28       |391066      |1             |0               |4                   |Google Men's Heavyweight Long Sleeve Hero Tee Navy      |null      |\n",
      "|516734366347147622|1478384303|29       |391066      |2             |0               |4                   |Google Men's Heavyweight Long Sleeve Hero Tee Navy      |null      |\n",
      "|516734366347147622|1478384303|30       |394542      |1             |0               |4                   |Google Men's Heavyweight Long Sleeve Hero Tee Navy      |null      |\n",
      "|516734366347147622|1478384303|31       |396307      |0             |0               |4                   |20 oz Stainless Steel Insulated Tumbler                 |null      |\n",
      "|516734366347147622|1478384303|31       |396307      |0             |0               |4                   |Google Men's Performance 1/4 Zip Pullover Heather/Black |null      |\n",
      "|516734366347147622|1478384303|31       |396307      |0             |0               |4                   |Google Women's Fleece Hoodie                            |null      |\n",
      "|516734366347147622|1478384303|32       |414229      |3             |0               |4                   |Google Men's Heavyweight Long Sleeve Hero Tee Navy      |null      |\n",
      "|516734366347147622|1478384303|34       |428813      |0             |0               |4                   |Red Shine 15 oz Mug                                     |null      |\n",
      "|516734366347147622|1478384303|34       |428813      |0             |0               |4                   |Engraved Ceramic Google Mug                             |null      |\n",
      "|516734366347147622|1478384303|34       |428813      |0             |0               |4                   |Android Rise 14 oz Mug                                  |null      |\n",
      "|516734366347147622|1478384303|35       |443236      |1             |0               |4                   |Red Shine 15 oz Mug                                     |null      |\n",
      "|516734366347147622|1478384303|36       |443237      |2             |0               |4                   |Red Shine 15 oz Mug                                     |null      |\n",
      "|516734366347147622|1478384303|37       |448091      |1             |0               |4                   |Red Shine 15 oz Mug                                     |null      |\n",
      "|516734366347147622|1478384303|38       |450889      |0             |0               |4                   |Google Women's Short Sleeve Hero Tee Black              |null      |\n",
      "|516734366347147622|1478384303|38       |450889      |0             |0               |4                   |Google Toddler 1/4 Zip Fleece Pewter                    |null      |\n",
      "|516734366347147622|1478384303|38       |450889      |0             |0               |4                   |Google Women's Zip Hoodie Grey                          |null      |\n",
      "|516734366347147622|1478384303|39       |473402      |0             |0               |4                   |Engraved Ceramic Google Mug                             |null      |\n",
      "|516734366347147622|1478384303|39       |473402      |0             |0               |4                   |Android Rise 14 oz Mug                                  |null      |\n",
      "|516734366347147622|1478384303|39       |473402      |0             |0               |4                   |Red Shine 15 oz Mug                                     |null      |\n",
      "|516734366347147622|1478384303|41       |484218      |0             |0               |4                   |Fashion Sunglasses & Pouch                              |null      |\n",
      "|516734366347147622|1478384303|41       |484218      |0             |0               |4                   |Straw Beach Mat                                         |null      |\n",
      "|516734366347147622|1478384303|41       |484218      |0             |0               |4                   |Google Luggage Tag                                      |null      |\n",
      "|516734366347147622|1478384303|41       |484218      |0             |0               |4                   |Softsided Travel Pouch Set                              |null      |\n",
      "|516734366347147622|1478384303|41       |484218      |0             |0               |4                   |Suitcase Organizer Cubes                                |null      |\n",
      "|516734366347147622|1478384303|41       |484218      |0             |0               |4                   |Android Luggage Tag                                     |null      |\n",
      "|516734366347147622|1478384303|41       |484218      |0             |0               |4                   |Google Kick Ball                                        |null      |\n",
      "|516734366347147622|1478384303|41       |484218      |0             |0               |4                   |Switch Tone Color Crayon Pen                            |null      |\n",
      "|516734366347147622|1478384303|41       |484218      |0             |0               |4                   |1 oz Hand Sanitizer                                     |null      |\n",
      "|516734366347147622|1478384303|41       |484218      |0             |0               |4                   |Seat Pack Organizer                                     |null      |\n",
      "|516734366347147622|1478384303|41       |484218      |0             |0               |4                   |Google Sunglasses                                       |null      |\n",
      "|516734366347147622|1478384303|41       |484218      |0             |0               |4                   |SPF-15 Slim & Slender Lip Balm                          |null      |\n",
      "|516734366347147622|1478384303|42       |498882      |0             |0               |4                   |Yoga Block                                              |null      |\n",
      "|516734366347147622|1478384303|42       |498882      |0             |0               |4                   |Google Kick Ball                                        |null      |\n",
      "|516734366347147622|1478384303|42       |498882      |0             |0               |4                   |Yoga Mat                                                |null      |\n",
      "|516734366347147622|1478384303|43       |511388      |0             |0               |4                   |8 pc Android Sticker Sheet                              |null      |\n",
      "|516734366347147622|1478384303|43       |511388      |0             |0               |4                   |YouTube Custom Decals                                   |null      |\n",
      "|516734366347147622|1478384303|43       |511388      |0             |0               |4                   |Google Doodle Decal                                     |null      |\n",
      "|516734366347147622|1478384303|43       |511388      |0             |0               |4                   |Android Sticker Sheet Ultra Removable                   |null      |\n",
      "|516734366347147622|1478384303|43       |511388      |0             |0               |4                   |Google Laptop and Cell Phone Stickers                   |null      |\n",
      "|516734366347147622|1478384303|43       |511388      |0             |0               |4                   |Keyboard DOT Sticker                                    |null      |\n",
      "|516734366347147622|1478384303|44       |540229      |0             |0               |4                   |Android Men's Short Sleeve Hero Tee Heather             |null      |\n",
      "|516734366347147622|1478384303|44       |540229      |0             |0               |4                   |Android Men's Short Sleeve Hero Tee White               |null      |\n",
      "|516734366347147622|1478384303|44       |540229      |0             |0               |4                   |Android Men's Short Sleeve Tri-blend Hero Tee Grey      |null      |\n",
      "|516734366347147622|1478384303|44       |540229      |0             |0               |4                   |Android 24 oz Contigo Bottle                            |null      |\n",
      "|516734366347147622|1478384303|44       |540229      |0             |0               |4                   |Android Men's  Zip Hoodie                               |null      |\n",
      "|516734366347147622|1478384303|44       |540229      |0             |0               |4                   |Android Men's Long Sleeve Badge Crew Tee Heather        |null      |\n",
      "|516734366347147622|1478384303|44       |540229      |0             |0               |4                   |Android Men's Skater Badge Tee Charcoal                 |null      |\n",
      "|516734366347147622|1478384303|44       |540229      |0             |0               |4                   |Android Men's 3/4 Sleeve Raglan Henley Black            |null      |\n",
      "|516734366347147622|1478384303|44       |540229      |0             |0               |4                   |Android Onesie Baby Blue                                |null      |\n",
      "|516734366347147622|1478384303|44       |540229      |0             |0               |4                   |Android BTTF Cosmos Graphic Tee                         |null      |\n",
      "|516734366347147622|1478384303|44       |540229      |0             |0               |4                   |Android Men's Vintage Tee                               |null      |\n",
      "|516734366347147622|1478384303|44       |540229      |0             |0               |4                   |Android BTTF Moonshot Graphic Tee                       |null      |\n",
      "|516734366347147622|1478384303|45       |560315      |2             |0               |4                   |Android Men's Long Sleeve Badge Crew Tee Heather        |null      |\n",
      "|516734366347147622|1478384303|46       |560315      |1             |0               |4                   |Android Men's Long Sleeve Badge Crew Tee Heather        |null      |\n",
      "|516734366347147622|1478384303|47       |562951      |1             |0               |4                   |Android Men's Long Sleeve Badge Crew Tee Heather        |null      |\n",
      "|516734366347147622|1478384303|48       |565612      |0             |0               |4                   |Google Women's Long Sleeve Tee Lavender                 |null      |\n",
      "|516734366347147622|1478384303|48       |565612      |0             |0               |4                   |YouTube Wool Heather Cap Heather/Black                  |null      |\n",
      "|516734366347147622|1478384303|48       |565612      |0             |0               |4                   |Android Heavyweight Long Sleeve Badge Tee Black         |null      |\n",
      "|516734366347147622|1478384303|55       |766764      |5             |0               |4                   |Google Men's Heavyweight Long Sleeve Hero Tee Navy      |null      |\n",
      "|516734366347147622|1478384303|55       |766764      |5             |0               |4                   |Google Vintage Henley Grey/Black                        |null      |\n",
      "|516734366347147622|1478384303|56       |1153084     |5             |0               |4                   |Google Men's Heavyweight Long Sleeve Hero Tee Navy      |null      |\n",
      "|516734366347147622|1478384303|56       |1153084     |5             |0               |4                   |Google Vintage Henley Grey/Black                        |null      |\n",
      "|516734366347147622|1478384303|57       |1177145     |5             |0               |4                   |Google Men's Heavyweight Long Sleeve Hero Tee Navy      |null      |\n",
      "|516734366347147622|1478384303|57       |1177145     |5             |0               |4                   |Google Vintage Henley Grey/Black                        |null      |\n",
      "|516734366347147622|1478384303|58       |1196291     |6             |1               |4                   |Google Men's Heavyweight Long Sleeve Hero Tee Navy      |null      |\n",
      "|516734366347147622|1478384303|58       |1196291     |6             |1               |4                   |Google Vintage Henley Grey/Black                        |null      |\n",
      "|516734366347147622|1478384303|59       |1196326     |6             |1               |4                   |Google Vintage Henley Grey/Black                        |null      |\n",
      "|516734366347147622|1478384303|59       |1196326     |6             |1               |4                   |Google Men's Heavyweight Long Sleeve Hero Tee Navy      |null      |\n",
      "+------------------+----------+---------+------------+--------------+----------------+--------------------+--------------------------------------------------------+----------+\n",
      "\n"
     ]
    }
   ],
   "source": [
    "raw_df\\\n",
    "      .withColumn('numHit',allHit.over(sessionWindow))\\\n",
    "      .withColumn('hitAction_type_6',sparkf.when(sparkf.col('hitAction_type')==6,1).otherwise(0))\\\n",
    "      .withColumn('sum_hitAction_type_6',sparkf.sum(sparkf.col('hitAction_type_6')).over(sessionWindow))\\\n",
    "      .filter((sparkf.col('fullVisitorId') == '516734366347147622')&(sparkf.col('VisitId') == '1478384303'))\\\n",
    "      .select(['fullVisitorId','visitId','hitNumber','timeMicroSec','hitAction_type'\\\n",
    "               ,'hitAction_type_6','sum_hitAction_type_6','v2ProductName','hitReferer'])\\\n",
    "      .orderBy('hitNumber').show(1000,truncate=False)"
   ]
  },
  {
   "cell_type": "code",
   "execution_count": 37,
   "metadata": {},
   "outputs": [
    {
     "name": "stderr",
     "output_type": "stream",
     "text": [
      "[Stage 96:=========================================>            (155 + 5) / 200]\r"
     ]
    },
    {
     "name": "stdout",
     "output_type": "stream",
     "text": [
      "+---------+------------+--------------+----------------+--------------------+--------------------------------------------------------+-------+------------+\n",
      "|hitNumber|timeMicroSec|hitAction_type|hitAction_type_6|sum_hitAction_type_6|v2ProductName                                           |isClick|isImpression|\n",
      "+---------+------------+--------------+----------------+--------------------+--------------------------------------------------------+-------+------------+\n",
      "|6        |62638       |0             |0               |4                   |Rubber Grip Ballpoint Pen 4 Pack                        |null   |true        |\n",
      "|6        |62638       |0             |0               |4                   |Ballpoint LED Light Pen                                 |null   |true        |\n",
      "|6        |62638       |0             |0               |4                   |Leather and Metal Ballpoint Pen                         |null   |true        |\n",
      "|6        |62638       |0             |0               |4                   |Google Stylus Pen w/ LED Light                          |null   |true        |\n",
      "|6        |62638       |0             |0               |4                   |Pen Pencil & Highlighter Set                            |null   |true        |\n",
      "|6        |62638       |0             |0               |4                   |Maze Pen                                                |null   |true        |\n",
      "|6        |62638       |0             |0               |4                   |Colored Pencil Set                                      |null   |true        |\n",
      "|6        |62638       |0             |0               |4                   |Four Color Retractable Pen                              |null   |true        |\n",
      "|6        |62638       |0             |0               |4                   |Ballpoint Stylus Pen                                    |null   |true        |\n",
      "|6        |62638       |0             |0               |4                   |Retractable Ballpoint Pen Red                           |null   |true        |\n",
      "|6        |62638       |0             |0               |4                   |Google Ballpoint Pen Black                              |null   |true        |\n",
      "|6        |62638       |0             |0               |4                   |Metal Texture Roller Pen                                |null   |true        |\n",
      "|7        |103790      |0             |0               |4                   |Google Lunch Bag                                        |null   |true        |\n",
      "|7        |103790      |0             |0               |4                   |Google Alpine Style Backpack                            |null   |true        |\n",
      "|7        |103790      |0             |0               |4                   |Electronics Accessory Pouch                             |null   |true        |\n",
      "|7        |103790      |0             |0               |4                   |Softsided Travel Pouch Set                              |null   |true        |\n",
      "|7        |103790      |0             |0               |4                   |Collapsible Shopping Bag                                |null   |true        |\n",
      "|7        |103790      |0             |0               |4                   |Sport Bag                                               |null   |true        |\n",
      "|7        |103790      |0             |0               |4                   |Google Tote Bag                                         |null   |true        |\n",
      "|7        |103790      |0             |0               |4                   |Waterproof Backpack                                     |null   |true        |\n",
      "|7        |103790      |0             |0               |4                   |Google Slim Utility Travel Bag                          |null   |true        |\n",
      "|7        |103790      |0             |0               |4                   |Suitcase Organizer Cubes                                |null   |true        |\n",
      "|7        |103790      |0             |0               |4                   |Google Zipper-front Sports Bag                          |null   |true        |\n",
      "|7        |103790      |0             |0               |4                   |Large Zipper Top Tote Bag                               |null   |true        |\n",
      "|8        |125907      |0             |0               |4                   |Leather and Metal Ballpoint Pen                         |null   |true        |\n",
      "|8        |125907      |0             |0               |4                   |Four Color Retractable Pen                              |null   |true        |\n",
      "|8        |125907      |0             |0               |4                   |Ballpoint LED Light Pen                                 |null   |true        |\n",
      "|8        |125907      |0             |0               |4                   |Maze Pen                                                |null   |true        |\n",
      "|8        |125907      |0             |0               |4                   |Ballpoint Stylus Pen                                    |null   |true        |\n",
      "|8        |125907      |0             |0               |4                   |Google Stylus Pen w/ LED Light                          |null   |true        |\n",
      "|8        |125907      |0             |0               |4                   |Retractable Ballpoint Pen Red                           |null   |true        |\n",
      "|8        |125907      |0             |0               |4                   |Colored Pencil Set                                      |null   |true        |\n",
      "|8        |125907      |0             |0               |4                   |Pen Pencil & Highlighter Set                            |null   |true        |\n",
      "|8        |125907      |0             |0               |4                   |Metal Texture Roller Pen                                |null   |true        |\n",
      "|8        |125907      |0             |0               |4                   |Google Ballpoint Pen Black                              |null   |true        |\n",
      "|8        |125907      |0             |0               |4                   |Rubber Grip Ballpoint Pen 4 Pack                        |null   |true        |\n",
      "|10       |133578      |0             |0               |4                   |Google Men's Short Sleeve Hero Tee Light Blue           |null   |true        |\n",
      "|10       |133578      |0             |0               |4                   |YouTube Men's Short Sleeve Hero Tee Charcoal            |null   |true        |\n",
      "|10       |133578      |0             |0               |4                   |Google Men's 100% Cotton Short Sleeve Hero Tee White    |null   |true        |\n",
      "|10       |133578      |0             |0               |4                   |Google Men's 100% Cotton Short Sleeve Hero Tee Navy     |null   |true        |\n",
      "|10       |133578      |0             |0               |4                   |Google Men's Heavyweight Long Sleeve Hero Tee Navy      |null   |true        |\n",
      "|10       |133578      |0             |0               |4                   |YouTube Men's Short Sleeve Hero Tee Black               |null   |true        |\n",
      "|10       |133578      |0             |0               |4                   |Google Men's Heavyweight Long Sleeve Hero Tee Burgundy  |null   |true        |\n",
      "|10       |133578      |0             |0               |4                   |Google Men's 100% Cotton Short Sleeve Hero Tee Red      |null   |true        |\n",
      "|10       |133578      |0             |0               |4                   |Google Men's Performance Polo Grey/Black                |null   |true        |\n",
      "|10       |133578      |0             |0               |4                   |Google Men's 100% Cotton Short Sleeve Hero Tee Black    |null   |true        |\n",
      "|10       |133578      |0             |0               |4                   |YouTube Men's Short Sleeve Hero Tee White               |null   |true        |\n",
      "|10       |133578      |0             |0               |4                   |Google Men's Short Sleeve Hero Tee Heather              |null   |true        |\n",
      "|11       |146885      |1             |0               |4                   |Google Men's Heavyweight Long Sleeve Hero Tee Burgundy  |true   |null        |\n",
      "|12       |146886      |2             |0               |4                   |Google Men's Heavyweight Long Sleeve Hero Tee Burgundy  |null   |null        |\n",
      "|13       |153877      |2             |0               |4                   |Google Men's Heavyweight Long Sleeve Hero Tee Navy      |null   |null        |\n",
      "|14       |153878      |1             |0               |4                   |Google Men's Heavyweight Long Sleeve Hero Tee Navy      |true   |null        |\n",
      "|15       |164718      |1             |0               |4                   |Google Men's Heavyweight Long Sleeve Hero Tee Navy      |true   |null        |\n",
      "|16       |164719      |2             |0               |4                   |Google Men's Heavyweight Long Sleeve Hero Tee Navy      |null   |null        |\n",
      "|17       |166709      |1             |0               |4                   |Google Men's Heavyweight Long Sleeve Hero Tee Navy      |true   |null        |\n",
      "|18       |169578      |0             |0               |4                   |Google Men's Performance 1/4 Zip Pullover Heather/Black |null   |true        |\n",
      "|18       |169578      |0             |0               |4                   |Google Women's Fleece Hoodie                            |null   |true        |\n",
      "|18       |169578      |0             |0               |4                   |20 oz Stainless Steel Insulated Tumbler                 |null   |true        |\n",
      "|19       |191007      |0             |0               |4                   |Google Men's Short Sleeve Hero Tee Heather              |null   |true        |\n",
      "|19       |191007      |0             |0               |4                   |YouTube Men's Short Sleeve Hero Tee Black               |null   |true        |\n",
      "|19       |191007      |0             |0               |4                   |Google Men's Heavyweight Long Sleeve Hero Tee Burgundy  |null   |true        |\n",
      "|19       |191007      |0             |0               |4                   |Google Men's Heavyweight Long Sleeve Hero Tee Navy      |null   |true        |\n",
      "|19       |191007      |0             |0               |4                   |YouTube Men's Short Sleeve Hero Tee Charcoal            |null   |true        |\n",
      "|19       |191007      |0             |0               |4                   |Google Men's 100% Cotton Short Sleeve Hero Tee White    |null   |true        |\n",
      "|19       |191007      |0             |0               |4                   |Google Men's Performance Polo Grey/Black                |null   |true        |\n",
      "|19       |191007      |0             |0               |4                   |YouTube Men's Short Sleeve Hero Tee White               |null   |true        |\n",
      "|19       |191007      |0             |0               |4                   |Google Men's 100% Cotton Short Sleeve Hero Tee Black    |null   |true        |\n",
      "|19       |191007      |0             |0               |4                   |Google Men's 100% Cotton Short Sleeve Hero Tee Navy     |null   |true        |\n",
      "|19       |191007      |0             |0               |4                   |Google Men's 100% Cotton Short Sleeve Hero Tee Red      |null   |true        |\n",
      "|19       |191007      |0             |0               |4                   |Google Men's Short Sleeve Hero Tee Light Blue           |null   |true        |\n",
      "|20       |220658      |0             |0               |4                   |Google Men's 100% Cotton Short Sleeve Hero Tee Navy     |null   |true        |\n",
      "|20       |220658      |0             |0               |4                   |Google Toddler 1/4 Zip Fleece Pewter                    |null   |true        |\n",
      "|20       |220658      |0             |0               |4                   |Google Men's Heavyweight Long Sleeve Hero Tee Burgundy  |null   |true        |\n",
      "|21       |249343      |3             |0               |4                   |Google Vintage Henley Grey/Black                        |null   |null        |\n",
      "|23       |256816      |0             |0               |4                   |Google Men's 100% Cotton Short Sleeve Hero Tee Black    |null   |true        |\n",
      "|23       |256816      |0             |0               |4                   |Google Men's Watershed Full Zip Hoodie Grey             |null   |true        |\n",
      "|23       |256816      |0             |0               |4                   |Google Men's 100% Cotton Short Sleeve Hero Tee Navy     |null   |true        |\n",
      "|23       |256816      |0             |0               |4                   |Google Men's 100% Cotton Short Sleeve Hero Tee Red      |null   |true        |\n",
      "|23       |256816      |0             |0               |4                   |Google Men's 100% Cotton Short Sleeve Hero Tee White    |null   |true        |\n",
      "|23       |256816      |0             |0               |4                   |Google Men's Pullover Hoodie Grey                       |null   |true        |\n",
      "|23       |256816      |0             |0               |4                   |Google Men's  Zip Hoodie                                |null   |true        |\n",
      "|23       |256816      |0             |0               |4                   |Google Men's Heavyweight Long Sleeve Hero Tee Navy      |null   |true        |\n",
      "|23       |256816      |0             |0               |4                   |Android Men's  Zip Hoodie                               |null   |true        |\n",
      "|23       |256816      |0             |0               |4                   |Google Men's Heavyweight Long Sleeve Hero Tee Burgundy  |null   |true        |\n",
      "|23       |256816      |0             |0               |4                   |Google Men's Short Sleeve Hero Tee Heather              |null   |true        |\n",
      "|23       |256816      |0             |0               |4                   |YouTube Men's Short Sleeve Hero Tee Black               |null   |true        |\n",
      "|24       |313050      |0             |0               |4                   |Google Women's Short Sleeve Hero Tee Black              |null   |true        |\n",
      "|24       |313050      |0             |0               |4                   |YouTube Wool Heather Cap Heather/Black                  |null   |true        |\n",
      "|24       |313050      |0             |0               |4                   |Google Men's 100% Cotton Short Sleeve Hero Tee White    |null   |true        |\n",
      "|25       |322312      |0             |0               |4                   |Google Men's Performance Full Zip Jacket Black          |null   |true        |\n",
      "|25       |322312      |0             |0               |4                   |Google Men's Lightweight Microfleece Jacket Black       |null   |true        |\n",
      "|25       |322312      |0             |0               |4                   |Google Men's Pullover Hoodie Grey                       |null   |true        |\n",
      "|25       |322312      |0             |0               |4                   |Google Tri-blend Hoodie Grey                            |null   |true        |\n",
      "|25       |322312      |0             |0               |4                   |Google Men's Microfiber 1/4 Zip Pullover Grey/Black     |null   |true        |\n",
      "|25       |322312      |0             |0               |4                   |Google Men's Weatherblock Shell Jacket Black            |null   |true        |\n",
      "|25       |322312      |0             |0               |4                   |Google Men's Convertible Vest-Jacket Pewter             |null   |true        |\n",
      "|25       |322312      |0             |0               |4                   |Android Men's  Zip Hoodie                               |null   |true        |\n",
      "|25       |322312      |0             |0               |4                   |Google Men's Quilted Insulated Vest Black               |null   |true        |\n",
      "|25       |322312      |0             |0               |4                   |Google Men's Microfiber 1/4 Zip Pullover Blue/Indigo    |null   |true        |\n",
      "|25       |322312      |0             |0               |4                   |Google Men's Watershed Full Zip Hoodie Grey             |null   |true        |\n",
      "|25       |322312      |0             |0               |4                   |Google Men's  Zip Hoodie                                |null   |true        |\n",
      "|26       |338943      |0             |0               |4                   |Google Men's Performance 1/4 Zip Pullover Heather/Black |null   |true        |\n",
      "|26       |338943      |0             |0               |4                   |Google Men's Airflow 1/4 Zip Pullover Black             |null   |true        |\n",
      "|26       |338943      |0             |0               |4                   |Google Men's Watershed Full Zip Hoodie Grey             |null   |true        |\n",
      "|26       |338943      |0             |0               |4                   |Google Men's Short Sleeve Performance Badge Tee Pewter  |null   |true        |\n",
      "|26       |338943      |0             |0               |4                   |Google Men's Short Sleeve Performance Badge Tee Black   |null   |true        |\n",
      "|26       |338943      |0             |0               |4                   |Google Men's Short Sleeve Performance Badge Tee Navy    |null   |true        |\n",
      "|26       |338943      |0             |0               |4                   |Google Men's Short Sleeve Performance Badge Tee Charcoal|null   |true        |\n",
      "|26       |338943      |0             |0               |4                   |Google Men's Performance Full Zip Jacket Black          |null   |true        |\n",
      "|26       |338943      |0             |0               |4                   |Google Men's Convertible Vest-Jacket Pewter             |null   |true        |\n",
      "|26       |338943      |0             |0               |4                   |Google Men's Airflow 1/4 Zip Pullover Lapis             |null   |true        |\n",
      "|26       |338943      |0             |0               |4                   |Google Men's Performance Hero Tee Gunmetal              |null   |true        |\n",
      "|27       |381144      |0             |0               |4                   |Google Men's 100% Cotton Short Sleeve Hero Tee White    |null   |true        |\n",
      "|27       |381144      |0             |0               |4                   |Google Men's Heavyweight Long Sleeve Hero Tee Burgundy  |null   |true        |\n",
      "|27       |381144      |0             |0               |4                   |YouTube Men's Short Sleeve Hero Tee Charcoal            |null   |true        |\n",
      "|27       |381144      |0             |0               |4                   |Google Men's 100% Cotton Short Sleeve Hero Tee Black    |null   |true        |\n",
      "|27       |381144      |0             |0               |4                   |Google Men's Short Sleeve Hero Tee Heather              |null   |true        |\n",
      "|27       |381144      |0             |0               |4                   |Google Men's Short Sleeve Hero Tee Light Blue           |null   |true        |\n",
      "|27       |381144      |0             |0               |4                   |YouTube Men's Short Sleeve Hero Tee Black               |null   |true        |\n",
      "|27       |381144      |0             |0               |4                   |Google Men's Heavyweight Long Sleeve Hero Tee Navy      |null   |true        |\n",
      "|27       |381144      |0             |0               |4                   |Google Men's Performance Polo Grey/Black                |null   |true        |\n",
      "|27       |381144      |0             |0               |4                   |Google Men's 100% Cotton Short Sleeve Hero Tee Navy     |null   |true        |\n",
      "|27       |381144      |0             |0               |4                   |YouTube Men's Short Sleeve Hero Tee White               |null   |true        |\n",
      "|27       |381144      |0             |0               |4                   |Google Men's 100% Cotton Short Sleeve Hero Tee Red      |null   |true        |\n",
      "|28       |391066      |1             |0               |4                   |Google Men's Heavyweight Long Sleeve Hero Tee Navy      |true   |null        |\n",
      "|29       |391066      |2             |0               |4                   |Google Men's Heavyweight Long Sleeve Hero Tee Navy      |null   |null        |\n",
      "|30       |394542      |1             |0               |4                   |Google Men's Heavyweight Long Sleeve Hero Tee Navy      |true   |null        |\n",
      "|31       |396307      |0             |0               |4                   |20 oz Stainless Steel Insulated Tumbler                 |null   |true        |\n",
      "|31       |396307      |0             |0               |4                   |Google Men's Performance 1/4 Zip Pullover Heather/Black |null   |true        |\n",
      "|31       |396307      |0             |0               |4                   |Google Women's Fleece Hoodie                            |null   |true        |\n",
      "|32       |414229      |3             |0               |4                   |Google Men's Heavyweight Long Sleeve Hero Tee Navy      |null   |null        |\n",
      "|34       |428813      |0             |0               |4                   |Red Shine 15 oz Mug                                     |null   |true        |\n",
      "|34       |428813      |0             |0               |4                   |Engraved Ceramic Google Mug                             |null   |true        |\n",
      "|34       |428813      |0             |0               |4                   |Android Rise 14 oz Mug                                  |null   |true        |\n",
      "|35       |443236      |1             |0               |4                   |Red Shine 15 oz Mug                                     |true   |null        |\n",
      "|36       |443237      |2             |0               |4                   |Red Shine 15 oz Mug                                     |null   |null        |\n",
      "|37       |448091      |1             |0               |4                   |Red Shine 15 oz Mug                                     |true   |null        |\n",
      "|38       |450889      |0             |0               |4                   |Google Women's Short Sleeve Hero Tee Black              |null   |true        |\n",
      "|38       |450889      |0             |0               |4                   |Google Toddler 1/4 Zip Fleece Pewter                    |null   |true        |\n",
      "|38       |450889      |0             |0               |4                   |Google Women's Zip Hoodie Grey                          |null   |true        |\n",
      "|39       |473402      |0             |0               |4                   |Engraved Ceramic Google Mug                             |null   |true        |\n",
      "|39       |473402      |0             |0               |4                   |Android Rise 14 oz Mug                                  |null   |true        |\n",
      "|39       |473402      |0             |0               |4                   |Red Shine 15 oz Mug                                     |null   |true        |\n",
      "|41       |484218      |0             |0               |4                   |Fashion Sunglasses & Pouch                              |null   |true        |\n",
      "|41       |484218      |0             |0               |4                   |Straw Beach Mat                                         |null   |true        |\n",
      "|41       |484218      |0             |0               |4                   |Google Luggage Tag                                      |null   |true        |\n",
      "|41       |484218      |0             |0               |4                   |Softsided Travel Pouch Set                              |null   |true        |\n",
      "|41       |484218      |0             |0               |4                   |Suitcase Organizer Cubes                                |null   |true        |\n",
      "|41       |484218      |0             |0               |4                   |Android Luggage Tag                                     |null   |true        |\n",
      "|41       |484218      |0             |0               |4                   |Google Kick Ball                                        |null   |true        |\n",
      "|41       |484218      |0             |0               |4                   |Switch Tone Color Crayon Pen                            |null   |true        |\n",
      "|41       |484218      |0             |0               |4                   |1 oz Hand Sanitizer                                     |null   |true        |\n",
      "|41       |484218      |0             |0               |4                   |Seat Pack Organizer                                     |null   |true        |\n",
      "|41       |484218      |0             |0               |4                   |Google Sunglasses                                       |null   |true        |\n",
      "|41       |484218      |0             |0               |4                   |SPF-15 Slim & Slender Lip Balm                          |null   |true        |\n",
      "|42       |498882      |0             |0               |4                   |Yoga Block                                              |null   |true        |\n",
      "|42       |498882      |0             |0               |4                   |Google Kick Ball                                        |null   |true        |\n",
      "|42       |498882      |0             |0               |4                   |Yoga Mat                                                |null   |true        |\n",
      "|43       |511388      |0             |0               |4                   |8 pc Android Sticker Sheet                              |null   |true        |\n",
      "|43       |511388      |0             |0               |4                   |YouTube Custom Decals                                   |null   |true        |\n",
      "|43       |511388      |0             |0               |4                   |Google Doodle Decal                                     |null   |true        |\n",
      "|43       |511388      |0             |0               |4                   |Android Sticker Sheet Ultra Removable                   |null   |true        |\n",
      "|43       |511388      |0             |0               |4                   |Google Laptop and Cell Phone Stickers                   |null   |true        |\n",
      "|43       |511388      |0             |0               |4                   |Keyboard DOT Sticker                                    |null   |true        |\n",
      "|44       |540229      |0             |0               |4                   |Android Men's Short Sleeve Hero Tee Heather             |null   |true        |\n",
      "|44       |540229      |0             |0               |4                   |Android Men's Short Sleeve Hero Tee White               |null   |true        |\n",
      "|44       |540229      |0             |0               |4                   |Android Men's Short Sleeve Tri-blend Hero Tee Grey      |null   |true        |\n",
      "|44       |540229      |0             |0               |4                   |Android 24 oz Contigo Bottle                            |null   |true        |\n",
      "|44       |540229      |0             |0               |4                   |Android Men's  Zip Hoodie                               |null   |true        |\n",
      "|44       |540229      |0             |0               |4                   |Android Men's Long Sleeve Badge Crew Tee Heather        |null   |true        |\n",
      "|44       |540229      |0             |0               |4                   |Android Men's Skater Badge Tee Charcoal                 |null   |true        |\n",
      "|44       |540229      |0             |0               |4                   |Android Men's 3/4 Sleeve Raglan Henley Black            |null   |true        |\n",
      "|44       |540229      |0             |0               |4                   |Android Onesie Baby Blue                                |null   |true        |\n",
      "|44       |540229      |0             |0               |4                   |Android BTTF Cosmos Graphic Tee                         |null   |true        |\n",
      "|44       |540229      |0             |0               |4                   |Android Men's Vintage Tee                               |null   |true        |\n",
      "|44       |540229      |0             |0               |4                   |Android BTTF Moonshot Graphic Tee                       |null   |true        |\n",
      "|45       |560315      |2             |0               |4                   |Android Men's Long Sleeve Badge Crew Tee Heather        |null   |null        |\n",
      "|46       |560315      |1             |0               |4                   |Android Men's Long Sleeve Badge Crew Tee Heather        |true   |null        |\n",
      "|47       |562951      |1             |0               |4                   |Android Men's Long Sleeve Badge Crew Tee Heather        |true   |null        |\n",
      "|48       |565612      |0             |0               |4                   |Google Women's Long Sleeve Tee Lavender                 |null   |true        |\n",
      "|48       |565612      |0             |0               |4                   |YouTube Wool Heather Cap Heather/Black                  |null   |true        |\n",
      "|48       |565612      |0             |0               |4                   |Android Heavyweight Long Sleeve Badge Tee Black         |null   |true        |\n",
      "|55       |766764      |5             |0               |4                   |Google Men's Heavyweight Long Sleeve Hero Tee Navy      |null   |null        |\n",
      "|55       |766764      |5             |0               |4                   |Google Vintage Henley Grey/Black                        |null   |null        |\n",
      "|56       |1153084     |5             |0               |4                   |Google Men's Heavyweight Long Sleeve Hero Tee Navy      |null   |null        |\n",
      "|56       |1153084     |5             |0               |4                   |Google Vintage Henley Grey/Black                        |null   |null        |\n",
      "|57       |1177145     |5             |0               |4                   |Google Men's Heavyweight Long Sleeve Hero Tee Navy      |null   |null        |\n",
      "|57       |1177145     |5             |0               |4                   |Google Vintage Henley Grey/Black                        |null   |null        |\n",
      "|58       |1196291     |6             |1               |4                   |Google Men's Heavyweight Long Sleeve Hero Tee Navy      |null   |null        |\n",
      "|58       |1196291     |6             |1               |4                   |Google Vintage Henley Grey/Black                        |null   |null        |\n",
      "|59       |1196326     |6             |1               |4                   |Google Vintage Henley Grey/Black                        |null   |null        |\n",
      "|59       |1196326     |6             |1               |4                   |Google Men's Heavyweight Long Sleeve Hero Tee Navy      |null   |null        |\n",
      "+---------+------------+--------------+----------------+--------------------+--------------------------------------------------------+-------+------------+\n",
      "\n"
     ]
    },
    {
     "name": "stderr",
     "output_type": "stream",
     "text": [
      "                                                                                \r"
     ]
    }
   ],
   "source": [
    "raw_df\\\n",
    "      .withColumn('numHit',allHit.over(sessionWindow))\\\n",
    "      .withColumn('hitAction_type_6',sparkf.when(sparkf.col('hitAction_type')==6,1).otherwise(0))\\\n",
    "      .withColumn('sum_hitAction_type_6',sparkf.sum(sparkf.col('hitAction_type_6')).over(sessionWindow))\\\n",
    "      .filter((sparkf.col('fullVisitorId') == '516734366347147622')&(sparkf.col('VisitId') == '1478384303'))\\\n",
    "      .select(['hitNumber','timeMicroSec','hitAction_type'\\\n",
    "               ,'hitAction_type_6','sum_hitAction_type_6','v2ProductName','isClick','isImpression'])\\\n",
    "      .orderBy('hitNumber').show(1000,truncate=False)"
   ]
  },
  {
   "cell_type": "code",
   "execution_count": 38,
   "metadata": {},
   "outputs": [
    {
     "data": {
      "text/plain": [
       "DataFrame[source: string, isTrueDirect: boolean, sourceKeyword: string, medium: string, isVideoAd: boolean, fullVisitorId: bigint, visitId: int, date: int, newVisits: int, hitReferer: string, hitType: string, hitAction_type: int, hitNumber: int, hitHour: int, hitMin: int, timeMicroSec: int, v2ProductName: string, productListName: string, isClick: boolean, isImpression: boolean, sessionQualityDim: int, timeOnScreen: string, timeOnSite: int, totalTransactionRevenue: bigint]"
      ]
     },
     "execution_count": 38,
     "metadata": {},
     "output_type": "execute_result"
    }
   ],
   "source": [
    "raw_df"
   ]
  },
  {
   "cell_type": "markdown",
   "metadata": {
    "id": "lWRsq4oEOzoC"
   },
   "source": [
    "# 3. Data Preparation"
   ]
  },
  {
   "cell_type": "code",
   "execution_count": 39,
   "metadata": {
    "id": "EJ7mXWCSN2XO"
   },
   "outputs": [],
   "source": [
    "# Drop columns\n",
    "# 'source', 'sourceKeyword', 'isVideoAd', 'visitId', 'hitReferer', 'timeMicroSec', 'v2ProductName', 'timeOnScreen'\n",
    "\n",
    "# onehot\n",
    "# 'productListName', 'dayofweek', 'hitAction_type'\n",
    "\n",
    "# standardization (don't need)\n",
    "# 'timeOnSite', 'totalTransactionRevenue'"
   ]
  },
  {
   "cell_type": "markdown",
   "metadata": {},
   "source": [
    "### 3.1 Transform Categorical Columns to Dummy Columns and Null Replacement"
   ]
  },
  {
   "cell_type": "code",
   "execution_count": 40,
   "metadata": {
    "id": "G4R-a_OsRnCm"
   },
   "outputs": [],
   "source": [
    "noNull_Dummy_df = raw_df.withColumn('isTrueDirect', sparkf.when(raw_df.isTrueDirect == 'true', 1).otherwise(0)) \\\n",
    ".withColumn('medium_organic', sparkf.when(raw_df.medium == 'organic', 1).otherwise(0)) \\\n",
    ".withColumn('dayofweek', sparkf.dayofweek(sparkf.to_date(sparkf.col('date').cast('string'), 'yyyyMMdd'))) \\\n",
    ".withColumn('newVisits', sparkf.when(raw_df.newVisits == '1', 1).otherwise(0)) \\\n",
    ".withColumn('hitType_page', sparkf.when(raw_df.hitType == 'PAGE', 1).otherwise(0)) \\\n",
    ".withColumn('purchased', sparkf.when(raw_df.hitAction_type == 6, 1).otherwise(0)) \\\n",
    ".withColumn('hitHour_00_02', sparkf.when((raw_df.hitHour >= 0) & (raw_df.hitHour <= 2), 1).otherwise(0)) \\\n",
    ".withColumn('hitHour_03_05', sparkf.when((raw_df.hitHour >= 3) & (raw_df.hitHour <= 5), 1).otherwise(0)) \\\n",
    ".withColumn('hitHour_06_08', sparkf.when((raw_df.hitHour >= 6) & (raw_df.hitHour <= 8), 1).otherwise(0)) \\\n",
    ".withColumn('hitHour_09_11', sparkf.when((raw_df.hitHour >= 9) & (raw_df.hitHour <= 11), 1).otherwise(0)) \\\n",
    ".withColumn('hitHour_12_14', sparkf.when((raw_df.hitHour >= 12) & (raw_df.hitHour <= 14), 1).otherwise(0)) \\\n",
    ".withColumn('hitHour_15_17', sparkf.when((raw_df.hitHour >= 15) & (raw_df.hitHour <= 17), 1).otherwise(0)) \\\n",
    ".withColumn('hitHour_18_20', sparkf.when((raw_df.hitHour >= 18) & (raw_df.hitHour <= 20), 1).otherwise(0)) \\\n",
    ".withColumn('hitHour_21_23', sparkf.when((raw_df.hitHour >= 21) & (raw_df.hitHour <= 23), 1).otherwise(0)) \\\n",
    ".withColumn('hitMin_00_14', sparkf.when((raw_df.hitMin >= 0) & (raw_df.hitHour < 15), 1).otherwise(0)) \\\n",
    ".withColumn('hitMin_15_29', sparkf.when((raw_df.hitMin >= 15) & (raw_df.hitHour < 30), 1).otherwise(0)) \\\n",
    ".withColumn('hitMin_30_44', sparkf.when((raw_df.hitMin >= 30) & (raw_df.hitHour < 45), 1).otherwise(0)) \\\n",
    ".withColumn('hitMin_45_60', sparkf.when((raw_df.hitMin >= 45) & (raw_df.hitHour < 60), 1).otherwise(0)) \\\n",
    ".withColumn('isClick', sparkf.when(raw_df.isClick, 1).otherwise(0)) \\\n",
    ".withColumn('isImpression', sparkf.when(raw_df.isImpression, 1).otherwise(0)) \\\n",
    ".withColumn('hitaction_1', sparkf.when(raw_df.hitAction_type == 1, 1).otherwise(0)) \\\n",
    ".withColumn('hitaction_2', sparkf.when(raw_df.hitAction_type == 2, 1).otherwise(0)) \\\n",
    ".withColumn('hitaction_3', sparkf.when(raw_df.hitAction_type == 3, 1).otherwise(0)) \\\n",
    ".withColumn('hitaction_4', sparkf.when(raw_df.hitAction_type == 4, 1).otherwise(0)) \\\n",
    ".withColumn('hitaction_5', sparkf.when(raw_df.hitAction_type == 5, 1).otherwise(0)) \\\n",
    ".withColumn('hitaction_6', sparkf.when(raw_df.hitAction_type == 6, 1).otherwise(0)) \\\n",
    ".na.fill(value=0, subset=['timeOnSite', 'sessionQualityDim', 'totalTransactionRevenue']) ### ตรงนี้เกิดการแทนที่ null ด้วย 0 บน 'timeOnSite', 'sessionQualityDim', 'totalTransactionRevenue'"
   ]
  },
  {
   "cell_type": "code",
   "execution_count": 41,
   "metadata": {
    "colab": {
     "base_uri": "https://localhost:8080/"
    },
    "id": "ubUZR3h-anFo",
    "outputId": "6163ace1-a2a8-4eaa-df57-5b73cb55f570"
   },
   "outputs": [
    {
     "name": "stdout",
     "output_type": "stream",
     "text": [
      "root\n",
      " |-- source: string (nullable = true)\n",
      " |-- isTrueDirect: integer (nullable = false)\n",
      " |-- sourceKeyword: string (nullable = true)\n",
      " |-- medium: string (nullable = true)\n",
      " |-- isVideoAd: boolean (nullable = true)\n",
      " |-- fullVisitorId: long (nullable = true)\n",
      " |-- visitId: integer (nullable = true)\n",
      " |-- date: integer (nullable = true)\n",
      " |-- newVisits: integer (nullable = false)\n",
      " |-- hitReferer: string (nullable = true)\n",
      " |-- hitType: string (nullable = true)\n",
      " |-- hitAction_type: integer (nullable = true)\n",
      " |-- hitNumber: integer (nullable = true)\n",
      " |-- hitHour: integer (nullable = true)\n",
      " |-- hitMin: integer (nullable = true)\n",
      " |-- timeMicroSec: integer (nullable = true)\n",
      " |-- v2ProductName: string (nullable = true)\n",
      " |-- productListName: string (nullable = true)\n",
      " |-- isClick: integer (nullable = false)\n",
      " |-- isImpression: integer (nullable = false)\n",
      " |-- sessionQualityDim: integer (nullable = true)\n",
      " |-- timeOnScreen: string (nullable = true)\n",
      " |-- timeOnSite: integer (nullable = true)\n",
      " |-- totalTransactionRevenue: long (nullable = true)\n",
      " |-- medium_organic: integer (nullable = false)\n",
      " |-- dayofweek: integer (nullable = true)\n",
      " |-- hitType_page: integer (nullable = false)\n",
      " |-- purchased: integer (nullable = false)\n",
      " |-- hitHour_00_02: integer (nullable = false)\n",
      " |-- hitHour_03_05: integer (nullable = false)\n",
      " |-- hitHour_06_08: integer (nullable = false)\n",
      " |-- hitHour_09_11: integer (nullable = false)\n",
      " |-- hitHour_12_14: integer (nullable = false)\n",
      " |-- hitHour_15_17: integer (nullable = false)\n",
      " |-- hitHour_18_20: integer (nullable = false)\n",
      " |-- hitHour_21_23: integer (nullable = false)\n",
      " |-- hitMin_00_14: integer (nullable = false)\n",
      " |-- hitMin_15_29: integer (nullable = false)\n",
      " |-- hitMin_30_44: integer (nullable = false)\n",
      " |-- hitMin_45_60: integer (nullable = false)\n",
      " |-- hitaction_1: integer (nullable = false)\n",
      " |-- hitaction_2: integer (nullable = false)\n",
      " |-- hitaction_3: integer (nullable = false)\n",
      " |-- hitaction_4: integer (nullable = false)\n",
      " |-- hitaction_5: integer (nullable = false)\n",
      " |-- hitaction_6: integer (nullable = false)\n",
      "\n"
     ]
    }
   ],
   "source": [
    "noNull_Dummy_df.printSchema() ##Aekanun"
   ]
  },
  {
   "cell_type": "code",
   "execution_count": 42,
   "metadata": {
    "id": "wu0bk49AeN5P"
   },
   "outputs": [],
   "source": [
    "noSpurious_df = noNull_Dummy_df.groupBy('fullVisitorId', 'visitId', 'v2ProductName', \n",
    "                  'isTrueDirect', 'medium_organic', 'dayofweek',\n",
    "                  'newVisits', 'hitType_page',\n",
    "                  'hitHour_00_02', 'hitHour_03_05', 'hitHour_06_08', 'hitHour_09_11', \n",
    "                  'hitHour_12_14', 'hitHour_15_17',  'hitHour_18_20', 'hitHour_21_23', \n",
    "                  ) \\\n",
    ".agg(sparkf.sum('hitaction_1').alias('sum_hitaction_1')\n",
    ", sparkf.sum('hitaction_2').alias('sum_hitaction_2')\n",
    ", sparkf.sum('hitaction_3').alias('sum_hitaction_3')\n",
    ", sparkf.sum('hitaction_4').alias('sum_hitaction_4')\n",
    ", sparkf.sum('hitaction_5').alias('sum_hitaction_5')\n",
    ", sparkf.sum('hitaction_6').alias('sum_hitaction_6')\n",
    ", sparkf.max('hitNumber').alias('hitNumber')\n",
    ", sparkf.max('timeOnSite').alias('timeOnSite')\n",
    ", sparkf.max('sessionQualityDim').alias('sessionQualityDim')\n",
    ", sparkf.max('totalTransactionRevenue').alias('totalTransactionRevenue')\n",
    ", sparkf.max('isClick').alias('isClick')\n",
    ", sparkf.max('isImpression').alias('isImpression')\n",
    ")"
   ]
  },
  {
   "cell_type": "code",
   "execution_count": 43,
   "metadata": {
    "id": "Lx84yeCDtEuH"
   },
   "outputs": [],
   "source": [
    "noSpurious_df = noSpurious_df.withColumn('target', sparkf.when(noSpurious_df.sum_hitaction_6 >= 1, 1).otherwise(0))"
   ]
  },
  {
   "cell_type": "code",
   "execution_count": 44,
   "metadata": {
    "colab": {
     "base_uri": "https://localhost:8080/",
     "height": 990
    },
    "id": "Nys18fuC2IZq",
    "outputId": "c89256e2-dea2-4d03-88fa-e9211b98c85c"
   },
   "outputs": [
    {
     "name": "stderr",
     "output_type": "stream",
     "text": [
      "                                                                                \r"
     ]
    },
    {
     "data": {
      "text/html": [
       "<div>\n",
       "<style scoped>\n",
       "    .dataframe tbody tr th:only-of-type {\n",
       "        vertical-align: middle;\n",
       "    }\n",
       "\n",
       "    .dataframe tbody tr th {\n",
       "        vertical-align: top;\n",
       "    }\n",
       "\n",
       "    .dataframe thead th {\n",
       "        text-align: right;\n",
       "    }\n",
       "</style>\n",
       "<table border=\"1\" class=\"dataframe\">\n",
       "  <thead>\n",
       "    <tr style=\"text-align: right;\">\n",
       "      <th></th>\n",
       "      <th>0</th>\n",
       "      <th>1</th>\n",
       "      <th>2</th>\n",
       "      <th>3</th>\n",
       "      <th>4</th>\n",
       "    </tr>\n",
       "  </thead>\n",
       "  <tbody>\n",
       "    <tr>\n",
       "      <th>summary</th>\n",
       "      <td>count</td>\n",
       "      <td>mean</td>\n",
       "      <td>stddev</td>\n",
       "      <td>min</td>\n",
       "      <td>max</td>\n",
       "    </tr>\n",
       "    <tr>\n",
       "      <th>fullVisitorId</th>\n",
       "      <td>636420</td>\n",
       "      <td>4.7591779043841464E18</td>\n",
       "      <td>1.43788778900572288E18</td>\n",
       "      <td>514359656957582</td>\n",
       "      <td>5487531102128447544</td>\n",
       "    </tr>\n",
       "    <tr>\n",
       "      <th>visitId</th>\n",
       "      <td>636420</td>\n",
       "      <td>1.4832625402124038E9</td>\n",
       "      <td>9721153.907150146</td>\n",
       "      <td>1470037326</td>\n",
       "      <td>1501656575</td>\n",
       "    </tr>\n",
       "    <tr>\n",
       "      <th>v2ProductName</th>\n",
       "      <td>636420</td>\n",
       "      <td>None</td>\n",
       "      <td>None</td>\n",
       "      <td>\"7\"\" Dog Frisbee\"</td>\n",
       "      <td>YouTube Youth Short Sleeve Tee Red</td>\n",
       "    </tr>\n",
       "    <tr>\n",
       "      <th>isTrueDirect</th>\n",
       "      <td>636420</td>\n",
       "      <td>0.3486078375915276</td>\n",
       "      <td>0.47652992557749557</td>\n",
       "      <td>0</td>\n",
       "      <td>1</td>\n",
       "    </tr>\n",
       "    <tr>\n",
       "      <th>medium_organic</th>\n",
       "      <td>636420</td>\n",
       "      <td>0.3322585713836774</td>\n",
       "      <td>0.47102352567253936</td>\n",
       "      <td>0</td>\n",
       "      <td>1</td>\n",
       "    </tr>\n",
       "    <tr>\n",
       "      <th>dayofweek</th>\n",
       "      <td>636420</td>\n",
       "      <td>3.9352424499544325</td>\n",
       "      <td>1.8421856927605085</td>\n",
       "      <td>1</td>\n",
       "      <td>7</td>\n",
       "    </tr>\n",
       "    <tr>\n",
       "      <th>newVisits</th>\n",
       "      <td>636420</td>\n",
       "      <td>0.7284466232990793</td>\n",
       "      <td>0.4447611169199216</td>\n",
       "      <td>0</td>\n",
       "      <td>1</td>\n",
       "    </tr>\n",
       "    <tr>\n",
       "      <th>hitType_page</th>\n",
       "      <td>636420</td>\n",
       "      <td>0.9757660035825398</td>\n",
       "      <td>0.1537749881839748</td>\n",
       "      <td>0</td>\n",
       "      <td>1</td>\n",
       "    </tr>\n",
       "    <tr>\n",
       "      <th>hitHour_00_02</th>\n",
       "      <td>636420</td>\n",
       "      <td>0.07368718770623173</td>\n",
       "      <td>0.2612613506174499</td>\n",
       "      <td>0</td>\n",
       "      <td>1</td>\n",
       "    </tr>\n",
       "    <tr>\n",
       "      <th>hitHour_03_05</th>\n",
       "      <td>636420</td>\n",
       "      <td>0.06894503629678514</td>\n",
       "      <td>0.2533608476670932</td>\n",
       "      <td>0</td>\n",
       "      <td>1</td>\n",
       "    </tr>\n",
       "    <tr>\n",
       "      <th>hitHour_06_08</th>\n",
       "      <td>636420</td>\n",
       "      <td>0.12639294805317244</td>\n",
       "      <td>0.3322919563187559</td>\n",
       "      <td>0</td>\n",
       "      <td>1</td>\n",
       "    </tr>\n",
       "    <tr>\n",
       "      <th>hitHour_09_11</th>\n",
       "      <td>636420</td>\n",
       "      <td>0.18581911316426258</td>\n",
       "      <td>0.3889609338589653</td>\n",
       "      <td>0</td>\n",
       "      <td>1</td>\n",
       "    </tr>\n",
       "    <tr>\n",
       "      <th>hitHour_12_14</th>\n",
       "      <td>636420</td>\n",
       "      <td>0.17926840765532195</td>\n",
       "      <td>0.3835772110777403</td>\n",
       "      <td>0</td>\n",
       "      <td>1</td>\n",
       "    </tr>\n",
       "    <tr>\n",
       "      <th>hitHour_15_17</th>\n",
       "      <td>636420</td>\n",
       "      <td>0.13754910279375254</td>\n",
       "      <td>0.34442638330376896</td>\n",
       "      <td>0</td>\n",
       "      <td>1</td>\n",
       "    </tr>\n",
       "    <tr>\n",
       "      <th>hitHour_18_20</th>\n",
       "      <td>636420</td>\n",
       "      <td>0.120134502372647</td>\n",
       "      <td>0.3251190086742651</td>\n",
       "      <td>0</td>\n",
       "      <td>1</td>\n",
       "    </tr>\n",
       "    <tr>\n",
       "      <th>hitHour_21_23</th>\n",
       "      <td>636420</td>\n",
       "      <td>0.1082037019578266</td>\n",
       "      <td>0.31063775118825404</td>\n",
       "      <td>0</td>\n",
       "      <td>1</td>\n",
       "    </tr>\n",
       "    <tr>\n",
       "      <th>sum_hitaction_1</th>\n",
       "      <td>636420</td>\n",
       "      <td>0.03496590302001823</td>\n",
       "      <td>0.300751168277159</td>\n",
       "      <td>0</td>\n",
       "      <td>48</td>\n",
       "    </tr>\n",
       "    <tr>\n",
       "      <th>sum_hitaction_2</th>\n",
       "      <td>636420</td>\n",
       "      <td>0.0287750227836963</td>\n",
       "      <td>0.25241396610215</td>\n",
       "      <td>0</td>\n",
       "      <td>47</td>\n",
       "    </tr>\n",
       "    <tr>\n",
       "      <th>sum_hitaction_3</th>\n",
       "      <td>636420</td>\n",
       "      <td>0.009741994280506584</td>\n",
       "      <td>0.13833909742120282</td>\n",
       "      <td>0</td>\n",
       "      <td>21</td>\n",
       "    </tr>\n",
       "    <tr>\n",
       "      <th>sum_hitaction_4</th>\n",
       "      <td>636420</td>\n",
       "      <td>0.0013905911190723107</td>\n",
       "      <td>0.045503848502731314</td>\n",
       "      <td>0</td>\n",
       "      <td>12</td>\n",
       "    </tr>\n",
       "    <tr>\n",
       "      <th>sum_hitaction_5</th>\n",
       "      <td>636420</td>\n",
       "      <td>0.019452562773011533</td>\n",
       "      <td>0.35920316030528976</td>\n",
       "      <td>0</td>\n",
       "      <td>33</td>\n",
       "    </tr>\n",
       "    <tr>\n",
       "      <th>sum_hitaction_6</th>\n",
       "      <td>636420</td>\n",
       "      <td>0.006096602872317024</td>\n",
       "      <td>0.12070443483804948</td>\n",
       "      <td>0</td>\n",
       "      <td>10</td>\n",
       "    </tr>\n",
       "    <tr>\n",
       "      <th>hitNumber</th>\n",
       "      <td>636420</td>\n",
       "      <td>9.917317180478301</td>\n",
       "      <td>15.64094541517892</td>\n",
       "      <td>1</td>\n",
       "      <td>239</td>\n",
       "    </tr>\n",
       "    <tr>\n",
       "      <th>timeOnSite</th>\n",
       "      <td>636420</td>\n",
       "      <td>455.7721583231199</td>\n",
       "      <td>712.2224840786467</td>\n",
       "      <td>0</td>\n",
       "      <td>9963</td>\n",
       "    </tr>\n",
       "    <tr>\n",
       "      <th>sessionQualityDim</th>\n",
       "      <td>636420</td>\n",
       "      <td>0.9999135790829955</td>\n",
       "      <td>7.415506265350944</td>\n",
       "      <td>0</td>\n",
       "      <td>94</td>\n",
       "    </tr>\n",
       "    <tr>\n",
       "      <th>totalTransactionRevenue</th>\n",
       "      <td>636420</td>\n",
       "      <td>8445628.89286949</td>\n",
       "      <td>9.980449193401143E7</td>\n",
       "      <td>0</td>\n",
       "      <td>5608400000</td>\n",
       "    </tr>\n",
       "    <tr>\n",
       "      <th>isClick</th>\n",
       "      <td>636420</td>\n",
       "      <td>0.02086829452248515</td>\n",
       "      <td>0.14294348852646038</td>\n",
       "      <td>0</td>\n",
       "      <td>1</td>\n",
       "    </tr>\n",
       "    <tr>\n",
       "      <th>isImpression</th>\n",
       "      <td>636420</td>\n",
       "      <td>0.9755554508029289</td>\n",
       "      <td>0.1544249030507744</td>\n",
       "      <td>0</td>\n",
       "      <td>1</td>\n",
       "    </tr>\n",
       "    <tr>\n",
       "      <th>target</th>\n",
       "      <td>636420</td>\n",
       "      <td>0.0028251783413469093</td>\n",
       "      <td>0.05307731281182927</td>\n",
       "      <td>0</td>\n",
       "      <td>1</td>\n",
       "    </tr>\n",
       "  </tbody>\n",
       "</table>\n",
       "</div>"
      ],
      "text/plain": [
       "                              0                      1  \\\n",
       "summary                   count                   mean   \n",
       "fullVisitorId            636420  4.7591779043841464E18   \n",
       "visitId                  636420   1.4832625402124038E9   \n",
       "v2ProductName            636420                   None   \n",
       "isTrueDirect             636420     0.3486078375915276   \n",
       "medium_organic           636420     0.3322585713836774   \n",
       "dayofweek                636420     3.9352424499544325   \n",
       "newVisits                636420     0.7284466232990793   \n",
       "hitType_page             636420     0.9757660035825398   \n",
       "hitHour_00_02            636420    0.07368718770623173   \n",
       "hitHour_03_05            636420    0.06894503629678514   \n",
       "hitHour_06_08            636420    0.12639294805317244   \n",
       "hitHour_09_11            636420    0.18581911316426258   \n",
       "hitHour_12_14            636420    0.17926840765532195   \n",
       "hitHour_15_17            636420    0.13754910279375254   \n",
       "hitHour_18_20            636420      0.120134502372647   \n",
       "hitHour_21_23            636420     0.1082037019578266   \n",
       "sum_hitaction_1          636420    0.03496590302001823   \n",
       "sum_hitaction_2          636420     0.0287750227836963   \n",
       "sum_hitaction_3          636420   0.009741994280506584   \n",
       "sum_hitaction_4          636420  0.0013905911190723107   \n",
       "sum_hitaction_5          636420   0.019452562773011533   \n",
       "sum_hitaction_6          636420   0.006096602872317024   \n",
       "hitNumber                636420      9.917317180478301   \n",
       "timeOnSite               636420      455.7721583231199   \n",
       "sessionQualityDim        636420     0.9999135790829955   \n",
       "totalTransactionRevenue  636420       8445628.89286949   \n",
       "isClick                  636420    0.02086829452248515   \n",
       "isImpression             636420     0.9755554508029289   \n",
       "target                   636420  0.0028251783413469093   \n",
       "\n",
       "                                              2                  3  \\\n",
       "summary                                  stddev                min   \n",
       "fullVisitorId            1.43788778900572288E18    514359656957582   \n",
       "visitId                       9721153.907150146         1470037326   \n",
       "v2ProductName                              None  \"7\"\" Dog Frisbee\"   \n",
       "isTrueDirect                0.47652992557749557                  0   \n",
       "medium_organic              0.47102352567253936                  0   \n",
       "dayofweek                    1.8421856927605085                  1   \n",
       "newVisits                    0.4447611169199216                  0   \n",
       "hitType_page                 0.1537749881839748                  0   \n",
       "hitHour_00_02                0.2612613506174499                  0   \n",
       "hitHour_03_05                0.2533608476670932                  0   \n",
       "hitHour_06_08                0.3322919563187559                  0   \n",
       "hitHour_09_11                0.3889609338589653                  0   \n",
       "hitHour_12_14                0.3835772110777403                  0   \n",
       "hitHour_15_17               0.34442638330376896                  0   \n",
       "hitHour_18_20                0.3251190086742651                  0   \n",
       "hitHour_21_23               0.31063775118825404                  0   \n",
       "sum_hitaction_1               0.300751168277159                  0   \n",
       "sum_hitaction_2                0.25241396610215                  0   \n",
       "sum_hitaction_3             0.13833909742120282                  0   \n",
       "sum_hitaction_4            0.045503848502731314                  0   \n",
       "sum_hitaction_5             0.35920316030528976                  0   \n",
       "sum_hitaction_6             0.12070443483804948                  0   \n",
       "hitNumber                     15.64094541517892                  1   \n",
       "timeOnSite                    712.2224840786467                  0   \n",
       "sessionQualityDim             7.415506265350944                  0   \n",
       "totalTransactionRevenue     9.980449193401143E7                  0   \n",
       "isClick                     0.14294348852646038                  0   \n",
       "isImpression                 0.1544249030507744                  0   \n",
       "target                      0.05307731281182927                  0   \n",
       "\n",
       "                                                          4  \n",
       "summary                                                 max  \n",
       "fullVisitorId                           5487531102128447544  \n",
       "visitId                                          1501656575  \n",
       "v2ProductName            YouTube Youth Short Sleeve Tee Red  \n",
       "isTrueDirect                                              1  \n",
       "medium_organic                                            1  \n",
       "dayofweek                                                 7  \n",
       "newVisits                                                 1  \n",
       "hitType_page                                              1  \n",
       "hitHour_00_02                                             1  \n",
       "hitHour_03_05                                             1  \n",
       "hitHour_06_08                                             1  \n",
       "hitHour_09_11                                             1  \n",
       "hitHour_12_14                                             1  \n",
       "hitHour_15_17                                             1  \n",
       "hitHour_18_20                                             1  \n",
       "hitHour_21_23                                             1  \n",
       "sum_hitaction_1                                          48  \n",
       "sum_hitaction_2                                          47  \n",
       "sum_hitaction_3                                          21  \n",
       "sum_hitaction_4                                          12  \n",
       "sum_hitaction_5                                          33  \n",
       "sum_hitaction_6                                          10  \n",
       "hitNumber                                               239  \n",
       "timeOnSite                                             9963  \n",
       "sessionQualityDim                                        94  \n",
       "totalTransactionRevenue                          5608400000  \n",
       "isClick                                                   1  \n",
       "isImpression                                              1  \n",
       "target                                                    1  "
      ]
     },
     "execution_count": 44,
     "metadata": {},
     "output_type": "execute_result"
    }
   ],
   "source": [
    "noSpurious_df.describe().toPandas().transpose()"
   ]
  },
  {
   "cell_type": "markdown",
   "metadata": {
    "id": "ScHqgR3j0WNg"
   },
   "source": [
    "*โค้ดด้านล่าง แสดงการนับจำนวนค่า null ที่อาจหลงเหลืออยู่จากการ cleansing and transformation*"
   ]
  },
  {
   "cell_type": "code",
   "execution_count": 45,
   "metadata": {
    "colab": {
     "base_uri": "https://localhost:8080/"
    },
    "id": "K3EsYdQSvqXz",
    "outputId": "c1650490-bf74-4473-9691-e8280b601cc9"
   },
   "outputs": [
    {
     "name": "stderr",
     "output_type": "stream",
     "text": [
      "[Stage 101:============================================>        (167 + 4) / 200]\r"
     ]
    },
    {
     "name": "stdout",
     "output_type": "stream",
     "text": [
      "+-------------+-------+-------------+------------+--------------+---------+---------+------------+-------------+-------------+-------------+-------------+-------------+-------------+-------------+-------------+---------------+---------------+---------------+---------------+---------------+---------------+---------+----------+-----------------+-----------------------+-------+------------+------+\n",
      "|fullVisitorId|visitId|v2ProductName|isTrueDirect|medium_organic|dayofweek|newVisits|hitType_page|hitHour_00_02|hitHour_03_05|hitHour_06_08|hitHour_09_11|hitHour_12_14|hitHour_15_17|hitHour_18_20|hitHour_21_23|sum_hitaction_1|sum_hitaction_2|sum_hitaction_3|sum_hitaction_4|sum_hitaction_5|sum_hitaction_6|hitNumber|timeOnSite|sessionQualityDim|totalTransactionRevenue|isClick|isImpression|target|\n",
      "+-------------+-------+-------------+------------+--------------+---------+---------+------------+-------------+-------------+-------------+-------------+-------------+-------------+-------------+-------------+---------------+---------------+---------------+---------------+---------------+---------------+---------+----------+-----------------+-----------------------+-------+------------+------+\n",
      "|            0|      0|            0|           0|             0|        0|        0|           0|            0|            0|            0|            0|            0|            0|            0|            0|              0|              0|              0|              0|              0|              0|        0|         0|                0|                      0|      0|           0|     0|\n",
      "+-------------+-------+-------------+------------+--------------+---------+---------+------------+-------------+-------------+-------------+-------------+-------------+-------------+-------------+-------------+---------------+---------------+---------------+---------------+---------------+---------------+---------+----------+-----------------+-----------------------+-------+------------+------+\n",
      "\n"
     ]
    },
    {
     "name": "stderr",
     "output_type": "stream",
     "text": [
      "                                                                                \r"
     ]
    }
   ],
   "source": [
    "noSpurious_df.select([sparkf.count(sparkf.when(sparkf.col(col).isNull(),True)).alias(col) for col in noSpurious_df.columns]).show()"
   ]
  },
  {
   "cell_type": "code",
   "execution_count": 46,
   "metadata": {
    "colab": {
     "base_uri": "https://localhost:8080/"
    },
    "id": "i_oT-40t3h3w",
    "outputId": "90bb865f-080f-46b3-eb87-60b51099d9a0"
   },
   "outputs": [
    {
     "name": "stdout",
     "output_type": "stream",
     "text": [
      "root\n",
      " |-- fullVisitorId: long (nullable = true)\n",
      " |-- visitId: integer (nullable = true)\n",
      " |-- v2ProductName: string (nullable = true)\n",
      " |-- isTrueDirect: integer (nullable = false)\n",
      " |-- medium_organic: integer (nullable = false)\n",
      " |-- dayofweek: integer (nullable = true)\n",
      " |-- newVisits: integer (nullable = false)\n",
      " |-- hitType_page: integer (nullable = false)\n",
      " |-- hitHour_00_02: integer (nullable = false)\n",
      " |-- hitHour_03_05: integer (nullable = false)\n",
      " |-- hitHour_06_08: integer (nullable = false)\n",
      " |-- hitHour_09_11: integer (nullable = false)\n",
      " |-- hitHour_12_14: integer (nullable = false)\n",
      " |-- hitHour_15_17: integer (nullable = false)\n",
      " |-- hitHour_18_20: integer (nullable = false)\n",
      " |-- hitHour_21_23: integer (nullable = false)\n",
      " |-- sum_hitaction_1: long (nullable = true)\n",
      " |-- sum_hitaction_2: long (nullable = true)\n",
      " |-- sum_hitaction_3: long (nullable = true)\n",
      " |-- sum_hitaction_4: long (nullable = true)\n",
      " |-- sum_hitaction_5: long (nullable = true)\n",
      " |-- sum_hitaction_6: long (nullable = true)\n",
      " |-- hitNumber: integer (nullable = true)\n",
      " |-- timeOnSite: integer (nullable = true)\n",
      " |-- sessionQualityDim: integer (nullable = true)\n",
      " |-- totalTransactionRevenue: long (nullable = true)\n",
      " |-- isClick: integer (nullable = true)\n",
      " |-- isImpression: integer (nullable = true)\n",
      " |-- target: integer (nullable = false)\n",
      "\n"
     ]
    }
   ],
   "source": [
    "noSpurious_df.printSchema()"
   ]
  },
  {
   "cell_type": "code",
   "execution_count": 47,
   "metadata": {
    "colab": {
     "base_uri": "https://localhost:8080/"
    },
    "id": "CQ8bs93SrFcF",
    "outputId": "bcc7713f-560e-426c-e847-d03ef1623316"
   },
   "outputs": [
    {
     "name": "stderr",
     "output_type": "stream",
     "text": [
      "[Stage 105:==========================================>          (162 + 4) / 200]\r"
     ]
    },
    {
     "name": "stdout",
     "output_type": "stream",
     "text": [
      "+---------------+------+------+\n",
      "|sum_hitaction_1|target| count|\n",
      "+---------------+------+------+\n",
      "|              0|     0|621341|\n",
      "|              0|     1|  1798|\n",
      "|              1|     0|  7883|\n",
      "|              2|     0|  3509|\n",
      "|              3|     0|  1088|\n",
      "|              4|     0|   463|\n",
      "|              5|     0|   161|\n",
      "|              6|     0|    77|\n",
      "|              7|     0|    44|\n",
      "|              8|     0|    14|\n",
      "|              9|     0|    14|\n",
      "|             10|     0|    10|\n",
      "|             11|     0|     2|\n",
      "|             12|     0|     3|\n",
      "|             13|     0|     3|\n",
      "|             14|     0|     1|\n",
      "|             15|     0|     2|\n",
      "|             16|     0|     1|\n",
      "|             19|     0|     1|\n",
      "|             21|     0|     1|\n",
      "+---------------+------+------+\n",
      "only showing top 20 rows\n",
      "\n"
     ]
    },
    {
     "name": "stderr",
     "output_type": "stream",
     "text": [
      "                                                                                \r"
     ]
    }
   ],
   "source": [
    "noSpurious_df.groupBy('sum_hitaction_1', 'target').count().sort('sum_hitaction_1').show()"
   ]
  },
  {
   "cell_type": "code",
   "execution_count": 48,
   "metadata": {
    "colab": {
     "base_uri": "https://localhost:8080/"
    },
    "id": "X8hLxvlQtvuo",
    "outputId": "a822dc75-e110-4fd1-ec36-132484fb80fe"
   },
   "outputs": [
    {
     "name": "stderr",
     "output_type": "stream",
     "text": [
      "[Stage 107:=================================================>   (187 + 4) / 200]\r"
     ]
    },
    {
     "name": "stdout",
     "output_type": "stream",
     "text": [
      "+---------------+------+------+\n",
      "|sum_hitaction_2|target| count|\n",
      "+---------------+------+------+\n",
      "|              0|     1|   757|\n",
      "|              0|     0|622274|\n",
      "|              1|     0|  9865|\n",
      "|              1|     1|   862|\n",
      "|              2|     0|  1312|\n",
      "|              2|     1|   121|\n",
      "|              3|     0|   792|\n",
      "|              3|     1|    39|\n",
      "|              4|     1|     8|\n",
      "|              4|     0|   164|\n",
      "|              5|     1|     6|\n",
      "|              5|     0|   106|\n",
      "|              6|     0|    39|\n",
      "|              6|     1|     3|\n",
      "|              7|     0|    31|\n",
      "|              8|     1|     1|\n",
      "|              8|     0|     6|\n",
      "|              9|     0|    14|\n",
      "|             10|     0|     3|\n",
      "|             11|     0|     2|\n",
      "+---------------+------+------+\n",
      "only showing top 20 rows\n",
      "\n"
     ]
    },
    {
     "name": "stderr",
     "output_type": "stream",
     "text": [
      "                                                                                \r"
     ]
    }
   ],
   "source": [
    "noSpurious_df.groupBy('sum_hitaction_2', 'target').count().sort('sum_hitaction_2').show()"
   ]
  },
  {
   "cell_type": "code",
   "execution_count": 49,
   "metadata": {
    "colab": {
     "base_uri": "https://localhost:8080/"
    },
    "id": "MX_-NZztuPY9",
    "outputId": "6de7d044-f1ec-4fd7-acdb-ba4ad26c3ac0"
   },
   "outputs": [
    {
     "name": "stderr",
     "output_type": "stream",
     "text": [
      "[Stage 111:====================================================>(199 + 1) / 200]\r"
     ]
    },
    {
     "name": "stdout",
     "output_type": "stream",
     "text": [
      "+---------------+------+------+\n",
      "|sum_hitaction_3|target| count|\n",
      "+---------------+------+------+\n",
      "|              0|     1|  1798|\n",
      "|              0|     0|629615|\n",
      "|              1|     0|  4332|\n",
      "|              2|     0|   467|\n",
      "|              3|     0|   112|\n",
      "|              4|     0|    47|\n",
      "|              5|     0|    15|\n",
      "|              6|     0|    11|\n",
      "|              7|     0|     5|\n",
      "|              8|     0|     2|\n",
      "|              9|     0|     1|\n",
      "|             10|     0|     2|\n",
      "|             12|     0|     4|\n",
      "|             13|     0|     3|\n",
      "|             14|     0|     1|\n",
      "|             15|     0|     2|\n",
      "|             18|     0|     1|\n",
      "|             19|     0|     1|\n",
      "|             21|     0|     1|\n",
      "+---------------+------+------+\n",
      "\n"
     ]
    },
    {
     "name": "stderr",
     "output_type": "stream",
     "text": [
      "                                                                                \r"
     ]
    }
   ],
   "source": [
    "noSpurious_df.groupBy('sum_hitaction_3', 'target').count().sort('sum_hitaction_3').show()"
   ]
  },
  {
   "cell_type": "code",
   "execution_count": 50,
   "metadata": {
    "colab": {
     "base_uri": "https://localhost:8080/"
    },
    "id": "ABlgtL8quQel",
    "outputId": "2c461bf5-89af-491b-f36b-a4d73c6991d1"
   },
   "outputs": [
    {
     "name": "stderr",
     "output_type": "stream",
     "text": [
      "[Stage 113:==================================================>  (190 + 4) / 200]\r"
     ]
    },
    {
     "name": "stdout",
     "output_type": "stream",
     "text": [
      "+---------------+------+------+\n",
      "|sum_hitaction_4|target| count|\n",
      "+---------------+------+------+\n",
      "|              0|     0|633835|\n",
      "|              0|     1|  1798|\n",
      "|              1|     0|   732|\n",
      "|              2|     0|    36|\n",
      "|              3|     0|    12|\n",
      "|              4|     0|     1|\n",
      "|              5|     0|     3|\n",
      "|              6|     0|     1|\n",
      "|              8|     0|     1|\n",
      "|             12|     0|     1|\n",
      "+---------------+------+------+\n",
      "\n"
     ]
    },
    {
     "name": "stderr",
     "output_type": "stream",
     "text": [
      "                                                                                \r"
     ]
    }
   ],
   "source": [
    "noSpurious_df.groupBy('sum_hitaction_4', 'target').count().sort('sum_hitaction_4').show()"
   ]
  },
  {
   "cell_type": "code",
   "execution_count": 51,
   "metadata": {
    "colab": {
     "base_uri": "https://localhost:8080/"
    },
    "id": "vVvqKMj2uQ42",
    "outputId": "4e167775-02f9-4bcb-ed69-7e6fe6136dc2"
   },
   "outputs": [
    {
     "name": "stderr",
     "output_type": "stream",
     "text": [
      "[Stage 116:==============================================>      (175 + 4) / 200]\r"
     ]
    },
    {
     "name": "stdout",
     "output_type": "stream",
     "text": [
      "+---------------+------+------+\n",
      "|sum_hitaction_5|target| count|\n",
      "+---------------+------+------+\n",
      "|              0|     0|633422|\n",
      "|              0|     1|     6|\n",
      "|              1|     0|   512|\n",
      "|              1|     1|    17|\n",
      "|              2|     1|    67|\n",
      "|              2|     0|   216|\n",
      "|              3|     0|   136|\n",
      "|              3|     1|   530|\n",
      "|              4|     1|   436|\n",
      "|              4|     0|   170|\n",
      "|              5|     0|    59|\n",
      "|              5|     1|   248|\n",
      "|              6|     1|   150|\n",
      "|              6|     0|    29|\n",
      "|              7|     0|    23|\n",
      "|              7|     1|    70|\n",
      "|              8|     1|   114|\n",
      "|              8|     0|     2|\n",
      "|              9|     1|    54|\n",
      "|              9|     0|    22|\n",
      "+---------------+------+------+\n",
      "only showing top 20 rows\n",
      "\n"
     ]
    },
    {
     "name": "stderr",
     "output_type": "stream",
     "text": [
      "                                                                                \r"
     ]
    }
   ],
   "source": [
    "noSpurious_df.groupBy('sum_hitaction_5', 'target').count().sort('sum_hitaction_5').show()"
   ]
  },
  {
   "cell_type": "markdown",
   "metadata": {},
   "source": [
    "## May 2023"
   ]
  },
  {
   "cell_type": "code",
   "execution_count": 52,
   "metadata": {},
   "outputs": [
    {
     "name": "stdout",
     "output_type": "stream",
     "text": [
      "root\n",
      " |-- fullVisitorId: long (nullable = true)\n",
      " |-- visitId: integer (nullable = true)\n",
      " |-- v2ProductName: string (nullable = true)\n",
      " |-- isTrueDirect: integer (nullable = false)\n",
      " |-- medium_organic: integer (nullable = false)\n",
      " |-- dayofweek: integer (nullable = true)\n",
      " |-- newVisits: integer (nullable = false)\n",
      " |-- hitType_page: integer (nullable = false)\n",
      " |-- hitHour_00_02: integer (nullable = false)\n",
      " |-- hitHour_03_05: integer (nullable = false)\n",
      " |-- hitHour_06_08: integer (nullable = false)\n",
      " |-- hitHour_09_11: integer (nullable = false)\n",
      " |-- hitHour_12_14: integer (nullable = false)\n",
      " |-- hitHour_15_17: integer (nullable = false)\n",
      " |-- hitHour_18_20: integer (nullable = false)\n",
      " |-- hitHour_21_23: integer (nullable = false)\n",
      " |-- sum_hitaction_1: long (nullable = true)\n",
      " |-- sum_hitaction_2: long (nullable = true)\n",
      " |-- sum_hitaction_3: long (nullable = true)\n",
      " |-- sum_hitaction_4: long (nullable = true)\n",
      " |-- sum_hitaction_5: long (nullable = true)\n",
      " |-- sum_hitaction_6: long (nullable = true)\n",
      " |-- hitNumber: integer (nullable = true)\n",
      " |-- timeOnSite: integer (nullable = true)\n",
      " |-- sessionQualityDim: integer (nullable = true)\n",
      " |-- totalTransactionRevenue: long (nullable = true)\n",
      " |-- isClick: integer (nullable = true)\n",
      " |-- isImpression: integer (nullable = true)\n",
      " |-- target: integer (nullable = false)\n",
      "\n"
     ]
    }
   ],
   "source": [
    "noSpurious_df.printSchema()"
   ]
  },
  {
   "cell_type": "code",
   "execution_count": 53,
   "metadata": {},
   "outputs": [
    {
     "name": "stderr",
     "output_type": "stream",
     "text": [
      "                                                                                \r"
     ]
    },
    {
     "data": {
      "text/html": [
       "<div>\n",
       "<style scoped>\n",
       "    .dataframe tbody tr th:only-of-type {\n",
       "        vertical-align: middle;\n",
       "    }\n",
       "\n",
       "    .dataframe tbody tr th {\n",
       "        vertical-align: top;\n",
       "    }\n",
       "\n",
       "    .dataframe thead th {\n",
       "        text-align: right;\n",
       "    }\n",
       "</style>\n",
       "<table border=\"1\" class=\"dataframe\">\n",
       "  <thead>\n",
       "    <tr style=\"text-align: right;\">\n",
       "      <th></th>\n",
       "      <th>0</th>\n",
       "      <th>1</th>\n",
       "      <th>2</th>\n",
       "      <th>3</th>\n",
       "      <th>4</th>\n",
       "    </tr>\n",
       "  </thead>\n",
       "  <tbody>\n",
       "    <tr>\n",
       "      <th>summary</th>\n",
       "      <td>count</td>\n",
       "      <td>mean</td>\n",
       "      <td>stddev</td>\n",
       "      <td>min</td>\n",
       "      <td>max</td>\n",
       "    </tr>\n",
       "    <tr>\n",
       "      <th>fullVisitorId</th>\n",
       "      <td>636420</td>\n",
       "      <td>4.7591779043841423E18</td>\n",
       "      <td>1.43788778900572237E18</td>\n",
       "      <td>514359656957582</td>\n",
       "      <td>5487531102128447544</td>\n",
       "    </tr>\n",
       "    <tr>\n",
       "      <th>visitId</th>\n",
       "      <td>636420</td>\n",
       "      <td>1.4832625402124038E9</td>\n",
       "      <td>9721153.907150166</td>\n",
       "      <td>1470037326</td>\n",
       "      <td>1501656575</td>\n",
       "    </tr>\n",
       "    <tr>\n",
       "      <th>v2ProductName</th>\n",
       "      <td>636420</td>\n",
       "      <td>None</td>\n",
       "      <td>None</td>\n",
       "      <td>\"7\"\" Dog Frisbee\"</td>\n",
       "      <td>YouTube Youth Short Sleeve Tee Red</td>\n",
       "    </tr>\n",
       "    <tr>\n",
       "      <th>isTrueDirect</th>\n",
       "      <td>636420</td>\n",
       "      <td>0.3486078375915276</td>\n",
       "      <td>0.47652992557749574</td>\n",
       "      <td>0</td>\n",
       "      <td>1</td>\n",
       "    </tr>\n",
       "    <tr>\n",
       "      <th>medium_organic</th>\n",
       "      <td>636420</td>\n",
       "      <td>0.3322585713836774</td>\n",
       "      <td>0.4710235256725395</td>\n",
       "      <td>0</td>\n",
       "      <td>1</td>\n",
       "    </tr>\n",
       "    <tr>\n",
       "      <th>dayofweek</th>\n",
       "      <td>636420</td>\n",
       "      <td>3.9352424499544325</td>\n",
       "      <td>1.8421856927605074</td>\n",
       "      <td>1</td>\n",
       "      <td>7</td>\n",
       "    </tr>\n",
       "    <tr>\n",
       "      <th>newVisits</th>\n",
       "      <td>636420</td>\n",
       "      <td>0.7284466232990793</td>\n",
       "      <td>0.4447611169199218</td>\n",
       "      <td>0</td>\n",
       "      <td>1</td>\n",
       "    </tr>\n",
       "    <tr>\n",
       "      <th>hitType_page</th>\n",
       "      <td>636420</td>\n",
       "      <td>0.9757660035825398</td>\n",
       "      <td>0.15377498818397478</td>\n",
       "      <td>0</td>\n",
       "      <td>1</td>\n",
       "    </tr>\n",
       "    <tr>\n",
       "      <th>hitHour_00_02</th>\n",
       "      <td>636420</td>\n",
       "      <td>0.07368718770623173</td>\n",
       "      <td>0.26126135061744993</td>\n",
       "      <td>0</td>\n",
       "      <td>1</td>\n",
       "    </tr>\n",
       "    <tr>\n",
       "      <th>hitHour_03_05</th>\n",
       "      <td>636420</td>\n",
       "      <td>0.06894503629678514</td>\n",
       "      <td>0.2533608476670933</td>\n",
       "      <td>0</td>\n",
       "      <td>1</td>\n",
       "    </tr>\n",
       "    <tr>\n",
       "      <th>hitHour_06_08</th>\n",
       "      <td>636420</td>\n",
       "      <td>0.12639294805317244</td>\n",
       "      <td>0.3322919563187558</td>\n",
       "      <td>0</td>\n",
       "      <td>1</td>\n",
       "    </tr>\n",
       "    <tr>\n",
       "      <th>hitHour_09_11</th>\n",
       "      <td>636420</td>\n",
       "      <td>0.18581911316426258</td>\n",
       "      <td>0.38896093385896546</td>\n",
       "      <td>0</td>\n",
       "      <td>1</td>\n",
       "    </tr>\n",
       "    <tr>\n",
       "      <th>hitHour_12_14</th>\n",
       "      <td>636420</td>\n",
       "      <td>0.17926840765532195</td>\n",
       "      <td>0.3835772110777403</td>\n",
       "      <td>0</td>\n",
       "      <td>1</td>\n",
       "    </tr>\n",
       "    <tr>\n",
       "      <th>hitHour_15_17</th>\n",
       "      <td>636420</td>\n",
       "      <td>0.13754910279375254</td>\n",
       "      <td>0.34442638330376896</td>\n",
       "      <td>0</td>\n",
       "      <td>1</td>\n",
       "    </tr>\n",
       "    <tr>\n",
       "      <th>hitHour_18_20</th>\n",
       "      <td>636420</td>\n",
       "      <td>0.120134502372647</td>\n",
       "      <td>0.3251190086742651</td>\n",
       "      <td>0</td>\n",
       "      <td>1</td>\n",
       "    </tr>\n",
       "    <tr>\n",
       "      <th>hitHour_21_23</th>\n",
       "      <td>636420</td>\n",
       "      <td>0.1082037019578266</td>\n",
       "      <td>0.3106377511882541</td>\n",
       "      <td>0</td>\n",
       "      <td>1</td>\n",
       "    </tr>\n",
       "    <tr>\n",
       "      <th>sum_hitaction_1</th>\n",
       "      <td>636420</td>\n",
       "      <td>0.03496590302001823</td>\n",
       "      <td>0.3007511682771589</td>\n",
       "      <td>0</td>\n",
       "      <td>48</td>\n",
       "    </tr>\n",
       "    <tr>\n",
       "      <th>sum_hitaction_2</th>\n",
       "      <td>636420</td>\n",
       "      <td>0.0287750227836963</td>\n",
       "      <td>0.25241396610214994</td>\n",
       "      <td>0</td>\n",
       "      <td>47</td>\n",
       "    </tr>\n",
       "    <tr>\n",
       "      <th>sum_hitaction_3</th>\n",
       "      <td>636420</td>\n",
       "      <td>0.009741994280506584</td>\n",
       "      <td>0.13833909742120287</td>\n",
       "      <td>0</td>\n",
       "      <td>21</td>\n",
       "    </tr>\n",
       "    <tr>\n",
       "      <th>sum_hitaction_4</th>\n",
       "      <td>636420</td>\n",
       "      <td>0.0013905911190723107</td>\n",
       "      <td>0.045503848502731266</td>\n",
       "      <td>0</td>\n",
       "      <td>12</td>\n",
       "    </tr>\n",
       "    <tr>\n",
       "      <th>sum_hitaction_5</th>\n",
       "      <td>636420</td>\n",
       "      <td>0.019452562773011533</td>\n",
       "      <td>0.35920316030528987</td>\n",
       "      <td>0</td>\n",
       "      <td>33</td>\n",
       "    </tr>\n",
       "    <tr>\n",
       "      <th>sum_hitaction_6</th>\n",
       "      <td>636420</td>\n",
       "      <td>0.006096602872317024</td>\n",
       "      <td>0.12070443483804955</td>\n",
       "      <td>0</td>\n",
       "      <td>10</td>\n",
       "    </tr>\n",
       "    <tr>\n",
       "      <th>hitNumber</th>\n",
       "      <td>636420</td>\n",
       "      <td>9.917317180478301</td>\n",
       "      <td>15.64094541517891</td>\n",
       "      <td>1</td>\n",
       "      <td>239</td>\n",
       "    </tr>\n",
       "    <tr>\n",
       "      <th>timeOnSite</th>\n",
       "      <td>636420</td>\n",
       "      <td>455.7721583231199</td>\n",
       "      <td>712.2224840786466</td>\n",
       "      <td>0</td>\n",
       "      <td>9963</td>\n",
       "    </tr>\n",
       "    <tr>\n",
       "      <th>sessionQualityDim</th>\n",
       "      <td>636420</td>\n",
       "      <td>0.9999135790829955</td>\n",
       "      <td>7.415506265350948</td>\n",
       "      <td>0</td>\n",
       "      <td>94</td>\n",
       "    </tr>\n",
       "    <tr>\n",
       "      <th>totalTransactionRevenue</th>\n",
       "      <td>636420</td>\n",
       "      <td>8445628.89286949</td>\n",
       "      <td>9.980449193401146E7</td>\n",
       "      <td>0</td>\n",
       "      <td>5608400000</td>\n",
       "    </tr>\n",
       "    <tr>\n",
       "      <th>isClick</th>\n",
       "      <td>636420</td>\n",
       "      <td>0.02086829452248515</td>\n",
       "      <td>0.14294348852646038</td>\n",
       "      <td>0</td>\n",
       "      <td>1</td>\n",
       "    </tr>\n",
       "    <tr>\n",
       "      <th>isImpression</th>\n",
       "      <td>636420</td>\n",
       "      <td>0.9755554508029289</td>\n",
       "      <td>0.1544249030507743</td>\n",
       "      <td>0</td>\n",
       "      <td>1</td>\n",
       "    </tr>\n",
       "    <tr>\n",
       "      <th>target</th>\n",
       "      <td>636420</td>\n",
       "      <td>0.0028251783413469093</td>\n",
       "      <td>0.0530773128118293</td>\n",
       "      <td>0</td>\n",
       "      <td>1</td>\n",
       "    </tr>\n",
       "  </tbody>\n",
       "</table>\n",
       "</div>"
      ],
      "text/plain": [
       "                              0                      1  \\\n",
       "summary                   count                   mean   \n",
       "fullVisitorId            636420  4.7591779043841423E18   \n",
       "visitId                  636420   1.4832625402124038E9   \n",
       "v2ProductName            636420                   None   \n",
       "isTrueDirect             636420     0.3486078375915276   \n",
       "medium_organic           636420     0.3322585713836774   \n",
       "dayofweek                636420     3.9352424499544325   \n",
       "newVisits                636420     0.7284466232990793   \n",
       "hitType_page             636420     0.9757660035825398   \n",
       "hitHour_00_02            636420    0.07368718770623173   \n",
       "hitHour_03_05            636420    0.06894503629678514   \n",
       "hitHour_06_08            636420    0.12639294805317244   \n",
       "hitHour_09_11            636420    0.18581911316426258   \n",
       "hitHour_12_14            636420    0.17926840765532195   \n",
       "hitHour_15_17            636420    0.13754910279375254   \n",
       "hitHour_18_20            636420      0.120134502372647   \n",
       "hitHour_21_23            636420     0.1082037019578266   \n",
       "sum_hitaction_1          636420    0.03496590302001823   \n",
       "sum_hitaction_2          636420     0.0287750227836963   \n",
       "sum_hitaction_3          636420   0.009741994280506584   \n",
       "sum_hitaction_4          636420  0.0013905911190723107   \n",
       "sum_hitaction_5          636420   0.019452562773011533   \n",
       "sum_hitaction_6          636420   0.006096602872317024   \n",
       "hitNumber                636420      9.917317180478301   \n",
       "timeOnSite               636420      455.7721583231199   \n",
       "sessionQualityDim        636420     0.9999135790829955   \n",
       "totalTransactionRevenue  636420       8445628.89286949   \n",
       "isClick                  636420    0.02086829452248515   \n",
       "isImpression             636420     0.9755554508029289   \n",
       "target                   636420  0.0028251783413469093   \n",
       "\n",
       "                                              2                  3  \\\n",
       "summary                                  stddev                min   \n",
       "fullVisitorId            1.43788778900572237E18    514359656957582   \n",
       "visitId                       9721153.907150166         1470037326   \n",
       "v2ProductName                              None  \"7\"\" Dog Frisbee\"   \n",
       "isTrueDirect                0.47652992557749574                  0   \n",
       "medium_organic               0.4710235256725395                  0   \n",
       "dayofweek                    1.8421856927605074                  1   \n",
       "newVisits                    0.4447611169199218                  0   \n",
       "hitType_page                0.15377498818397478                  0   \n",
       "hitHour_00_02               0.26126135061744993                  0   \n",
       "hitHour_03_05                0.2533608476670933                  0   \n",
       "hitHour_06_08                0.3322919563187558                  0   \n",
       "hitHour_09_11               0.38896093385896546                  0   \n",
       "hitHour_12_14                0.3835772110777403                  0   \n",
       "hitHour_15_17               0.34442638330376896                  0   \n",
       "hitHour_18_20                0.3251190086742651                  0   \n",
       "hitHour_21_23                0.3106377511882541                  0   \n",
       "sum_hitaction_1              0.3007511682771589                  0   \n",
       "sum_hitaction_2             0.25241396610214994                  0   \n",
       "sum_hitaction_3             0.13833909742120287                  0   \n",
       "sum_hitaction_4            0.045503848502731266                  0   \n",
       "sum_hitaction_5             0.35920316030528987                  0   \n",
       "sum_hitaction_6             0.12070443483804955                  0   \n",
       "hitNumber                     15.64094541517891                  1   \n",
       "timeOnSite                    712.2224840786466                  0   \n",
       "sessionQualityDim             7.415506265350948                  0   \n",
       "totalTransactionRevenue     9.980449193401146E7                  0   \n",
       "isClick                     0.14294348852646038                  0   \n",
       "isImpression                 0.1544249030507743                  0   \n",
       "target                       0.0530773128118293                  0   \n",
       "\n",
       "                                                          4  \n",
       "summary                                                 max  \n",
       "fullVisitorId                           5487531102128447544  \n",
       "visitId                                          1501656575  \n",
       "v2ProductName            YouTube Youth Short Sleeve Tee Red  \n",
       "isTrueDirect                                              1  \n",
       "medium_organic                                            1  \n",
       "dayofweek                                                 7  \n",
       "newVisits                                                 1  \n",
       "hitType_page                                              1  \n",
       "hitHour_00_02                                             1  \n",
       "hitHour_03_05                                             1  \n",
       "hitHour_06_08                                             1  \n",
       "hitHour_09_11                                             1  \n",
       "hitHour_12_14                                             1  \n",
       "hitHour_15_17                                             1  \n",
       "hitHour_18_20                                             1  \n",
       "hitHour_21_23                                             1  \n",
       "sum_hitaction_1                                          48  \n",
       "sum_hitaction_2                                          47  \n",
       "sum_hitaction_3                                          21  \n",
       "sum_hitaction_4                                          12  \n",
       "sum_hitaction_5                                          33  \n",
       "sum_hitaction_6                                          10  \n",
       "hitNumber                                               239  \n",
       "timeOnSite                                             9963  \n",
       "sessionQualityDim                                        94  \n",
       "totalTransactionRevenue                          5608400000  \n",
       "isClick                                                   1  \n",
       "isImpression                                              1  \n",
       "target                                                    1  "
      ]
     },
     "execution_count": 53,
     "metadata": {},
     "output_type": "execute_result"
    }
   ],
   "source": [
    "noSpurious_df.describe().toPandas().transpose()"
   ]
  },
  {
   "cell_type": "markdown",
   "metadata": {},
   "source": [
    "# 4. Modeling"
   ]
  },
  {
   "cell_type": "markdown",
   "metadata": {},
   "source": [
    "### 4.1 Feature Selection using Multivariate Analysis"
   ]
  },
  {
   "cell_type": "code",
   "execution_count": 54,
   "metadata": {},
   "outputs": [
    {
     "name": "stderr",
     "output_type": "stream",
     "text": [
      "                                                                                \r"
     ]
    }
   ],
   "source": [
    "df = noSpurious_df.toPandas()"
   ]
  },
  {
   "cell_type": "code",
   "execution_count": 55,
   "metadata": {
    "colab": {
     "base_uri": "https://localhost:8080/",
     "height": 598
    },
    "id": "Gwsr8sQgvWZC",
    "outputId": "0c696d08-baa3-4889-b6be-5fe1165ab608"
   },
   "outputs": [
    {
     "name": "stderr",
     "output_type": "stream",
     "text": [
      "                                                                                \r"
     ]
    },
    {
     "data": {
      "text/plain": [
       "(array([ 40.,   0.,   6.,  50.,  40.,  52.,  86., 166., 298., 156., 296.,\n",
       "        378., 362., 302., 258., 204., 214., 176., 314., 230., 104.,  84.,\n",
       "         40.,  24.]),\n",
       " array([ 0.        ,  0.95833333,  1.91666667,  2.875     ,  3.83333333,\n",
       "         4.79166667,  5.75      ,  6.70833333,  7.66666667,  8.625     ,\n",
       "         9.58333333, 10.54166667, 11.5       , 12.45833333, 13.41666667,\n",
       "        14.375     , 15.33333333, 16.29166667, 17.25      , 18.20833333,\n",
       "        19.16666667, 20.125     , 21.08333333, 22.04166667, 23.        ]),\n",
       " <BarContainer object of 24 artists>)"
      ]
     },
     "execution_count": 55,
     "metadata": {},
     "output_type": "execute_result"
    },
    {
     "data": {
      "image/png": "[encoded data removed]",
      "text/plain": [
       "<Figure size 432x288 with 1 Axes>"
      ]
     },
     "metadata": {
      "needs_background": "light"
     },
     "output_type": "display_data"
    }
   ],
   "source": [
    "### แสดงการซื้อ (hitAction_type = 6) แจงแจงตามช่วงเวลา\n",
    "\n",
    "bins, counts = raw_df.select('hitHour') \\\n",
    ".filter(raw_df.hitAction_type == 6).rdd.flatMap(lambda x: x).histogram(24)\n",
    "plt.hist(bins[:-1], bins=bins, weights=counts)"
   ]
  },
  {
   "cell_type": "code",
   "execution_count": 56,
   "metadata": {
    "colab": {
     "base_uri": "https://localhost:8080/",
     "height": 598
    },
    "id": "A6hmmYkMp-zI",
    "outputId": "a0875bfe-2e3d-4154-ee1a-7670a46c4bf2"
   },
   "outputs": [
    {
     "name": "stderr",
     "output_type": "stream",
     "text": [
      "                                                                                \r"
     ]
    },
    {
     "data": {
      "text/plain": [
       "(array([22011., 20836., 17807., 16511., 17866., 23204., 28773., 34309.,\n",
       "        41773., 45066., 55886., 59403., 49586., 53460., 50273., 40598.,\n",
       "        41683., 36184., 36316., 31854., 36670., 31523., 32674., 29637.]),\n",
       " array([ 0.        ,  0.95833333,  1.91666667,  2.875     ,  3.83333333,\n",
       "         4.79166667,  5.75      ,  6.70833333,  7.66666667,  8.625     ,\n",
       "         9.58333333, 10.54166667, 11.5       , 12.45833333, 13.41666667,\n",
       "        14.375     , 15.33333333, 16.29166667, 17.25      , 18.20833333,\n",
       "        19.16666667, 20.125     , 21.08333333, 22.04166667, 23.        ]),\n",
       " <BarContainer object of 24 artists>)"
      ]
     },
     "execution_count": 56,
     "metadata": {},
     "output_type": "execute_result"
    },
    {
     "data": {
      "image/png": "[encoded data removed]",
      "text/plain": [
       "<Figure size 432x288 with 1 Axes>"
      ]
     },
     "metadata": {
      "needs_background": "light"
     },
     "output_type": "display_data"
    }
   ],
   "source": [
    "### แสดงการไม่ซื้อ (hitAction_type = 0) แจงแจงตามช่วงเวลา\n",
    "\n",
    "bins, counts = raw_df.select('hitHour') \\\n",
    ".filter(raw_df.hitAction_type == 0).rdd.flatMap(lambda x: x).histogram(24)\n",
    "plt.hist(bins[:-1], bins=bins, weights=counts)"
   ]
  },
  {
   "cell_type": "code",
   "execution_count": null,
   "metadata": {},
   "outputs": [],
   "source": []
  },
  {
   "cell_type": "code",
   "execution_count": null,
   "metadata": {},
   "outputs": [],
   "source": []
  },
  {
   "cell_type": "code",
   "execution_count": 57,
   "metadata": {},
   "outputs": [
    {
     "data": {
      "image/png": "[encoded data removed]",
      "text/plain": [
       "<Figure size 432x288 with 1 Axes>"
      ]
     },
     "metadata": {
      "needs_background": "light"
     },
     "output_type": "display_data"
    }
   ],
   "source": [
    "import pandas as pd\n",
    "import matplotlib.pyplot as plt\n",
    "\n",
    "# Initialize parameters\n",
    "x_var = 'target'\n",
    "groupby_var = 'isImpression'\n",
    "\n",
    "# Group the data by target variable and count the values of dayofweek variable\n",
    "grouped = df.groupby(x_var)[groupby_var].value_counts()\n",
    "\n",
    "# Calculate the percentage for each group\n",
    "grouped_pct = grouped.groupby(level=0).apply(lambda x: 100 * x / float(x.sum()))\n",
    "\n",
    "# Create 100% stacked bar chart\n",
    "fig, ax = plt.subplots()\n",
    "grouped_pct.unstack().plot(kind='bar', stacked=True, ax=ax)\n",
    "\n",
    "# Adjust x and y labels\n",
    "ax.set_xlabel(x_var)\n",
    "ax.set_ylabel('Percentage')\n",
    "\n",
    "# Name each part of the stack bar\n",
    "legend_labels = [f'{groupby_var}_{label}' for label in grouped_pct.unstack().columns]\n",
    "ax.legend(legend_labels)\n",
    "\n",
    "# Display the plot\n",
    "plt.show()"
   ]
  },
  {
   "cell_type": "code",
   "execution_count": 58,
   "metadata": {},
   "outputs": [
    {
     "data": {
      "image/png": "[encoded data removed]",
      "text/plain": [
       "<Figure size 432x288 with 1 Axes>"
      ]
     },
     "metadata": {
      "needs_background": "light"
     },
     "output_type": "display_data"
    }
   ],
   "source": [
    "import pandas as pd\n",
    "import matplotlib.pyplot as plt\n",
    "\n",
    "# Initialize parameters\n",
    "x_var = 'target'\n",
    "groupby_var = 'newVisits'\n",
    "\n",
    "# Group the data by target variable and count the values of dayofweek variable\n",
    "grouped = df.groupby(x_var)[groupby_var].value_counts()\n",
    "\n",
    "# Calculate the percentage for each group\n",
    "grouped_pct = grouped.groupby(level=0).apply(lambda x: 100 * x / float(x.sum()))\n",
    "\n",
    "# Create 100% stacked bar chart\n",
    "fig, ax = plt.subplots()\n",
    "grouped_pct.unstack().plot(kind='bar', stacked=True, ax=ax)\n",
    "\n",
    "# Adjust x and y labels\n",
    "ax.set_xlabel(x_var)\n",
    "ax.set_ylabel('Percentage')\n",
    "\n",
    "# Name each part of the stack bar\n",
    "legend_labels = [f'{groupby_var}_{label}' for label in grouped_pct.unstack().columns]\n",
    "ax.legend(legend_labels)\n",
    "\n",
    "# Display the plot\n",
    "plt.show()\n"
   ]
  },
  {
   "cell_type": "code",
   "execution_count": 59,
   "metadata": {},
   "outputs": [
    {
     "data": {
      "image/png": "[encoded data removed]",
      "text/plain": [
       "<Figure size 432x288 with 1 Axes>"
      ]
     },
     "metadata": {
      "needs_background": "light"
     },
     "output_type": "display_data"
    }
   ],
   "source": [
    "import pandas as pd\n",
    "import matplotlib.pyplot as plt\n",
    "\n",
    "# Initialize parameters\n",
    "x_var = 'target'\n",
    "groupby_var = 'dayofweek'\n",
    "\n",
    "# Group the data by target variable and count the values of dayofweek variable\n",
    "grouped = df.groupby(x_var)[groupby_var].value_counts()\n",
    "\n",
    "# Calculate the percentage for each group\n",
    "grouped_pct = grouped.groupby(level=0).apply(lambda x: 100 * x / float(x.sum()))\n",
    "\n",
    "# Create 100% stacked bar chart\n",
    "fig, ax = plt.subplots()\n",
    "grouped_pct.unstack().plot(kind='bar', stacked=True, ax=ax)\n",
    "\n",
    "# Adjust x and y labels\n",
    "ax.set_xlabel(x_var)\n",
    "ax.set_ylabel('Percentage')\n",
    "\n",
    "# Name each part of the stack bar\n",
    "legend_labels = [f'{groupby_var}_{label}' for label in grouped_pct.unstack().columns]\n",
    "ax.legend(legend_labels)\n",
    "\n",
    "# Display the plot\n",
    "plt.show()\n"
   ]
  },
  {
   "cell_type": "code",
   "execution_count": 60,
   "metadata": {},
   "outputs": [
    {
     "data": {
      "image/png": "[encoded data removed]",
      "text/plain": [
       "<Figure size 432x288 with 1 Axes>"
      ]
     },
     "metadata": {
      "needs_background": "light"
     },
     "output_type": "display_data"
    }
   ],
   "source": [
    "import pandas as pd\n",
    "import matplotlib.pyplot as plt\n",
    "\n",
    "# Initialize parameters\n",
    "x_var = 'target'\n",
    "groupby_var = 'isClick'\n",
    "\n",
    "# Group the data by target variable and count the values of dayofweek variable\n",
    "grouped = df.groupby(x_var)[groupby_var].value_counts()\n",
    "\n",
    "# Calculate the percentage for each group\n",
    "grouped_pct = grouped.groupby(level=0).apply(lambda x: 100 * x / float(x.sum()))\n",
    "\n",
    "# Create 100% stacked bar chart\n",
    "fig, ax = plt.subplots()\n",
    "grouped_pct.unstack().plot(kind='bar', stacked=True, ax=ax)\n",
    "\n",
    "# Adjust x and y labels\n",
    "ax.set_xlabel(x_var)\n",
    "ax.set_ylabel('Percentage')\n",
    "\n",
    "# Name each part of the stack bar\n",
    "legend_labels = [f'{groupby_var}_{label}' for label in grouped_pct.unstack().columns]\n",
    "ax.legend(legend_labels)\n",
    "\n",
    "# Display the plot\n",
    "plt.show()\n"
   ]
  },
  {
   "cell_type": "code",
   "execution_count": null,
   "metadata": {},
   "outputs": [],
   "source": []
  },
  {
   "cell_type": "raw",
   "metadata": {},
   "source": [
    "\n",
    "\n",
    "# เรียกใช้ Module/Library ของ Python\n",
    "\n",
    "import numpy as np\n",
    "import scipy as sp\n",
    "import pandas as pd\n",
    "import matplotlib as mpl\n",
    "import matplotlib.pyplot as plt\n",
    "import seaborn as sns\n",
    "\n",
    "# Pandas options\n",
    "pd.set_option('display.max_colwidth', 1000, 'display.max_rows', None, 'display.max_columns', None)\n",
    "\n",
    "# Plotting options\n",
    "%matplotlib inline\n",
    "mpl.style.use('ggplot')\n",
    "sns.set(style='whitegrid')\n",
    "\n",
    "import warnings\n",
    "warnings.filterwarnings(\"ignore\")\n",
    "\n"
   ]
  },
  {
   "cell_type": "code",
   "execution_count": 61,
   "metadata": {},
   "outputs": [],
   "source": [
    "def plot_outliers_and_distribution(df, var, target='target'):\n",
    "    \"\"\"\n",
    "    This function plots a boxplot to check outliers and a violin plot to see the distribution\n",
    "    grouped by the target variable in one figure.\n",
    "    df: pandas DataFrame\n",
    "    var: str, variable/column to check\n",
    "    target: str, target variable\n",
    "    \"\"\"\n",
    "    import matplotlib.pyplot as plt\n",
    "    import seaborn as sns\n",
    "\n",
    "    fig, axs = plt.subplots(ncols=2, figsize=(14, 6))\n",
    "\n",
    "    # Boxplot for outliers\n",
    "    sns.boxplot(x=target, y=var, data=df, ax=axs[0])\n",
    "    axs[0].set_title(f'Boxplot of {var} Grouped by {target}')\n",
    "\n",
    "    # Violin plot for distribution\n",
    "    sns.violinplot(x=target, y=var, data=df, ax=axs[1])\n",
    "    axs[1].set_title(f'Violin plot of {var} Grouped by {target}')\n",
    "\n",
    "    plt.tight_layout()\n",
    "    plt.show()\n",
    "\n",
    "# To use the function, simply call it with your DataFrame and variable:\n",
    "# plot_outliers_and_distribution(df, 'timeOnSite')\n"
   ]
  },
  {
   "cell_type": "code",
   "execution_count": null,
   "metadata": {},
   "outputs": [],
   "source": []
  },
  {
   "cell_type": "code",
   "execution_count": 62,
   "metadata": {},
   "outputs": [
    {
     "data": {
      "image/png": "[encoded data removed]",
      "text/plain": [
       "<Figure size 1008x432 with 2 Axes>"
      ]
     },
     "metadata": {
      "needs_background": "light"
     },
     "output_type": "display_data"
    }
   ],
   "source": [
    "plot_outliers_and_distribution(df, 'hitNumber')"
   ]
  },
  {
   "cell_type": "code",
   "execution_count": null,
   "metadata": {},
   "outputs": [],
   "source": []
  },
  {
   "cell_type": "code",
   "execution_count": 63,
   "metadata": {},
   "outputs": [
    {
     "data": {
      "image/png": "[encoded data removed]",
      "text/plain": [
       "<Figure size 1008x432 with 2 Axes>"
      ]
     },
     "metadata": {
      "needs_background": "light"
     },
     "output_type": "display_data"
    }
   ],
   "source": [
    "plot_outliers_and_distribution(df, 'sum_hitaction_2')"
   ]
  },
  {
   "cell_type": "code",
   "execution_count": 64,
   "metadata": {},
   "outputs": [
    {
     "data": {
      "image/png": "[encoded data removed]",
      "text/plain": [
       "<Figure size 1008x432 with 2 Axes>"
      ]
     },
     "metadata": {
      "needs_background": "light"
     },
     "output_type": "display_data"
    }
   ],
   "source": [
    "plot_outliers_and_distribution(df, 'sum_hitaction_1')"
   ]
  },
  {
   "cell_type": "code",
   "execution_count": 65,
   "metadata": {},
   "outputs": [
    {
     "data": {
      "image/png": "[encoded data removed]",
      "text/plain": [
       "<Figure size 1008x432 with 2 Axes>"
      ]
     },
     "metadata": {
      "needs_background": "light"
     },
     "output_type": "display_data"
    }
   ],
   "source": [
    "plot_outliers_and_distribution(df, 'sum_hitaction_3')"
   ]
  },
  {
   "cell_type": "code",
   "execution_count": 66,
   "metadata": {},
   "outputs": [
    {
     "data": {
      "image/png": "[encoded data removed]",
      "text/plain": [
       "<Figure size 1008x432 with 2 Axes>"
      ]
     },
     "metadata": {
      "needs_background": "light"
     },
     "output_type": "display_data"
    }
   ],
   "source": [
    "plot_outliers_and_distribution(df, 'sum_hitaction_4')"
   ]
  },
  {
   "cell_type": "code",
   "execution_count": 67,
   "metadata": {},
   "outputs": [
    {
     "data": {
      "image/png": "[encoded data removed]",
      "text/plain": [
       "<Figure size 1008x432 with 2 Axes>"
      ]
     },
     "metadata": {
      "needs_background": "light"
     },
     "output_type": "display_data"
    }
   ],
   "source": [
    "plot_outliers_and_distribution(df, 'sum_hitaction_5')"
   ]
  },
  {
   "cell_type": "code",
   "execution_count": 68,
   "metadata": {},
   "outputs": [
    {
     "data": {
      "image/png": "[encoded data removed]",
      "text/plain": [
       "<Figure size 1008x432 with 2 Axes>"
      ]
     },
     "metadata": {
      "needs_background": "light"
     },
     "output_type": "display_data"
    }
   ],
   "source": [
    "plot_outliers_and_distribution(df, 'sum_hitaction_6')"
   ]
  },
  {
   "cell_type": "code",
   "execution_count": null,
   "metadata": {},
   "outputs": [],
   "source": []
  },
  {
   "cell_type": "code",
   "execution_count": 69,
   "metadata": {},
   "outputs": [
    {
     "data": {
      "image/png": "[encoded data removed]",
      "text/plain": [
       "<Figure size 1008x432 with 2 Axes>"
      ]
     },
     "metadata": {
      "needs_background": "light"
     },
     "output_type": "display_data"
    }
   ],
   "source": [
    "plot_outliers_and_distribution(df, 'timeOnSite')"
   ]
  },
  {
   "cell_type": "code",
   "execution_count": null,
   "metadata": {},
   "outputs": [],
   "source": []
  },
  {
   "cell_type": "code",
   "execution_count": null,
   "metadata": {},
   "outputs": [],
   "source": []
  },
  {
   "cell_type": "code",
   "execution_count": null,
   "metadata": {},
   "outputs": [],
   "source": []
  },
  {
   "cell_type": "code",
   "execution_count": 70,
   "metadata": {},
   "outputs": [],
   "source": [
    "import matplotlib.pyplot as plt\n",
    "import seaborn as sns\n",
    "\n",
    "def scatter_plot_with_hue(dataframe, x_var, y_var, hue_var):\n",
    "    # Create a new figure and set the size\n",
    "    plt.figure(figsize=(10, 6))\n",
    "\n",
    "    # Create a scatter plot with x_var on the x-axis, and y_var on the y-axis\n",
    "    # Use different colors for different hue_var categories\n",
    "    sns.scatterplot(x=x_var, y=y_var, hue=hue_var, data=dataframe)\n",
    "\n",
    "    # Add labels to the x and y axes, and a title to the plot\n",
    "    plt.xlabel(x_var)\n",
    "    plt.ylabel(y_var)\n",
    "    plt.title('Scatter Plot of {} vs. {}, by {}'.format(x_var, y_var, hue_var))\n",
    "\n",
    "    # Display the plot\n",
    "    plt.show()\n"
   ]
  },
  {
   "cell_type": "code",
   "execution_count": 71,
   "metadata": {},
   "outputs": [
    {
     "data": {
      "image/png": "[encoded data removed]",
      "text/plain": [
       "<Figure size 720x432 with 1 Axes>"
      ]
     },
     "metadata": {
      "needs_background": "light"
     },
     "output_type": "display_data"
    }
   ],
   "source": [
    "scatter_plot_with_hue(df, 'hitNumber', 'timeOnSite', 'target')\n"
   ]
  },
  {
   "cell_type": "code",
   "execution_count": 72,
   "metadata": {},
   "outputs": [],
   "source": [
    "featureTrainingCols = ['isImpression','newVisits','hitNumber','sum_hitaction_2','sum_hitaction_5','timeOnSite']"
   ]
  },
  {
   "cell_type": "code",
   "execution_count": null,
   "metadata": {},
   "outputs": [],
   "source": []
  },
  {
   "cell_type": "markdown",
   "metadata": {
    "id": "pxz2VF4dPScX"
   },
   "source": [
    "### 4.2 สร้าง Vector ของข้อมูล"
   ]
  },
  {
   "cell_type": "code",
   "execution_count": 73,
   "metadata": {
    "id": "NJf6Ya4uKuLW"
   },
   "outputs": [],
   "source": [
    "label_stringIdx = StringIndexer(inputCol = 'target', outputCol = 'label')"
   ]
  },
  {
   "cell_type": "code",
   "execution_count": 74,
   "metadata": {
    "colab": {
     "base_uri": "https://localhost:8080/"
    },
    "id": "irKNLCkJ_6cV",
    "outputId": "8813f981-7a1b-4425-8462-a64c29edfe21"
   },
   "outputs": [],
   "source": [
    "featureTrainingCols.remove('sum_hitaction_5')"
   ]
  },
  {
   "cell_type": "code",
   "execution_count": null,
   "metadata": {},
   "outputs": [],
   "source": []
  },
  {
   "cell_type": "code",
   "execution_count": 75,
   "metadata": {
    "id": "aHFZAGYPALvj"
   },
   "outputs": [],
   "source": [
    "vector_assembler = VectorAssembler\\\n",
    "(inputCols = featureTrainingCols, outputCol = 'features')"
   ]
  },
  {
   "cell_type": "code",
   "execution_count": 76,
   "metadata": {
    "id": "pTfJquqbIYn1"
   },
   "outputs": [],
   "source": [
    "# pipeline = Pipeline(stages=[productList_indexer, productList_ohe, onehot_encoder, label_stringIdx, vector_assembler])\n",
    "pipeline = Pipeline(stages=[label_stringIdx, vector_assembler])\n"
   ]
  },
  {
   "cell_type": "code",
   "execution_count": 77,
   "metadata": {
    "colab": {
     "base_uri": "https://localhost:8080/"
    },
    "id": "H4Bsa0_IIvvb",
    "outputId": "64a58379-9d13-4ce5-c52a-a4380cfcedba"
   },
   "outputs": [
    {
     "name": "stderr",
     "output_type": "stream",
     "text": [
      "                                                                                \r"
     ]
    },
    {
     "data": {
      "text/html": [
       "<div>\n",
       "<style scoped>\n",
       "    .dataframe tbody tr th:only-of-type {\n",
       "        vertical-align: middle;\n",
       "    }\n",
       "\n",
       "    .dataframe tbody tr th {\n",
       "        vertical-align: top;\n",
       "    }\n",
       "\n",
       "    .dataframe thead th {\n",
       "        text-align: right;\n",
       "    }\n",
       "</style>\n",
       "<table border=\"1\" class=\"dataframe\">\n",
       "  <thead>\n",
       "    <tr style=\"text-align: right;\">\n",
       "      <th></th>\n",
       "      <th>0</th>\n",
       "      <th>1</th>\n",
       "      <th>2</th>\n",
       "      <th>3</th>\n",
       "      <th>4</th>\n",
       "      <th>5</th>\n",
       "      <th>6</th>\n",
       "      <th>7</th>\n",
       "      <th>8</th>\n",
       "      <th>9</th>\n",
       "      <th>...</th>\n",
       "      <th>67</th>\n",
       "      <th>68</th>\n",
       "      <th>69</th>\n",
       "      <th>70</th>\n",
       "      <th>71</th>\n",
       "      <th>72</th>\n",
       "      <th>73</th>\n",
       "      <th>74</th>\n",
       "      <th>75</th>\n",
       "      <th>76</th>\n",
       "    </tr>\n",
       "  </thead>\n",
       "  <tbody>\n",
       "    <tr>\n",
       "      <th>fullVisitorId</th>\n",
       "      <td>5008945600081786146</td>\n",
       "      <td>5266171879238051645</td>\n",
       "      <td>5400316914013153054</td>\n",
       "      <td>5283708221053817052</td>\n",
       "      <td>5314891399234735154</td>\n",
       "      <td>5012216957441063220</td>\n",
       "      <td>4990697502077570091</td>\n",
       "      <td>5087838879402990275</td>\n",
       "      <td>5249329439726008173</td>\n",
       "      <td>5110238153732697494</td>\n",
       "      <td>...</td>\n",
       "      <td>5449280010119364112</td>\n",
       "      <td>4989802415230849281</td>\n",
       "      <td>5093723751286764727</td>\n",
       "      <td>537028475454126663</td>\n",
       "      <td>506797253390432707</td>\n",
       "      <td>5416799660451726227</td>\n",
       "      <td>5134180098717581922</td>\n",
       "      <td>5111789008243256065</td>\n",
       "      <td>5072413212991858583</td>\n",
       "      <td>5389202654072393578</td>\n",
       "    </tr>\n",
       "    <tr>\n",
       "      <th>visitId</th>\n",
       "      <td>1471813581</td>\n",
       "      <td>1481583394</td>\n",
       "      <td>1493750348</td>\n",
       "      <td>1498353274</td>\n",
       "      <td>1491174958</td>\n",
       "      <td>1482279496</td>\n",
       "      <td>1494612328</td>\n",
       "      <td>1470936954</td>\n",
       "      <td>1472758189</td>\n",
       "      <td>1486334578</td>\n",
       "      <td>...</td>\n",
       "      <td>1490190100</td>\n",
       "      <td>1480383137</td>\n",
       "      <td>1481766098</td>\n",
       "      <td>1488465448</td>\n",
       "      <td>1473571135</td>\n",
       "      <td>1496951188</td>\n",
       "      <td>1470504586</td>\n",
       "      <td>1501129301</td>\n",
       "      <td>1475527959</td>\n",
       "      <td>1482197752</td>\n",
       "    </tr>\n",
       "    <tr>\n",
       "      <th>v2ProductName</th>\n",
       "      <td>Google Ballpoint Pen Black</td>\n",
       "      <td>Google G Noise-reducing Bluetooth Headphones</td>\n",
       "      <td>YouTube Twill Cap</td>\n",
       "      <td>Google Snapback Hat Black</td>\n",
       "      <td>Retractable Ballpoint Pen Red</td>\n",
       "      <td>Sport Bag</td>\n",
       "      <td>Google Men's Quilted Insulated Vest Black</td>\n",
       "      <td>Bic Digital Clic Stic Stylus Pen</td>\n",
       "      <td>Google Men's Microfiber 1/4 Zip Pullover Blue/...</td>\n",
       "      <td>Bottle Opener Clip</td>\n",
       "      <td>...</td>\n",
       "      <td>Switch Tone Color Crayon Pen</td>\n",
       "      <td>Metal Earbuds with Small Zipper Case</td>\n",
       "      <td>Galaxy Screen Cleaning Cloth</td>\n",
       "      <td>Google Car Clip Phone Holder</td>\n",
       "      <td>Leatherette Journal</td>\n",
       "      <td>Google Men's  Zip Hoodie</td>\n",
       "      <td>Executive Twist Ballpoint Pen</td>\n",
       "      <td>Google Vintage Henley Grey/Black</td>\n",
       "      <td>Executive Twist Ballpoint Pen</td>\n",
       "      <td>YouTube Men's Skater Tee Charcoal</td>\n",
       "    </tr>\n",
       "    <tr>\n",
       "      <th>isTrueDirect</th>\n",
       "      <td>0</td>\n",
       "      <td>1</td>\n",
       "      <td>0</td>\n",
       "      <td>0</td>\n",
       "      <td>0</td>\n",
       "      <td>1</td>\n",
       "      <td>0</td>\n",
       "      <td>1</td>\n",
       "      <td>0</td>\n",
       "      <td>1</td>\n",
       "      <td>...</td>\n",
       "      <td>0</td>\n",
       "      <td>1</td>\n",
       "      <td>1</td>\n",
       "      <td>0</td>\n",
       "      <td>1</td>\n",
       "      <td>0</td>\n",
       "      <td>0</td>\n",
       "      <td>1</td>\n",
       "      <td>0</td>\n",
       "      <td>0</td>\n",
       "    </tr>\n",
       "    <tr>\n",
       "      <th>medium_organic</th>\n",
       "      <td>1</td>\n",
       "      <td>0</td>\n",
       "      <td>1</td>\n",
       "      <td>0</td>\n",
       "      <td>0</td>\n",
       "      <td>0</td>\n",
       "      <td>1</td>\n",
       "      <td>0</td>\n",
       "      <td>1</td>\n",
       "      <td>0</td>\n",
       "      <td>...</td>\n",
       "      <td>0</td>\n",
       "      <td>0</td>\n",
       "      <td>0</td>\n",
       "      <td>1</td>\n",
       "      <td>1</td>\n",
       "      <td>0</td>\n",
       "      <td>1</td>\n",
       "      <td>0</td>\n",
       "      <td>0</td>\n",
       "      <td>0</td>\n",
       "    </tr>\n",
       "    <tr>\n",
       "      <th>dayofweek</th>\n",
       "      <td>1</td>\n",
       "      <td>2</td>\n",
       "      <td>3</td>\n",
       "      <td>7</td>\n",
       "      <td>1</td>\n",
       "      <td>3</td>\n",
       "      <td>6</td>\n",
       "      <td>5</td>\n",
       "      <td>5</td>\n",
       "      <td>1</td>\n",
       "      <td>...</td>\n",
       "      <td>4</td>\n",
       "      <td>2</td>\n",
       "      <td>4</td>\n",
       "      <td>5</td>\n",
       "      <td>7</td>\n",
       "      <td>5</td>\n",
       "      <td>7</td>\n",
       "      <td>4</td>\n",
       "      <td>2</td>\n",
       "      <td>2</td>\n",
       "    </tr>\n",
       "    <tr>\n",
       "      <th>newVisits</th>\n",
       "      <td>1</td>\n",
       "      <td>1</td>\n",
       "      <td>1</td>\n",
       "      <td>1</td>\n",
       "      <td>1</td>\n",
       "      <td>0</td>\n",
       "      <td>1</td>\n",
       "      <td>1</td>\n",
       "      <td>1</td>\n",
       "      <td>1</td>\n",
       "      <td>...</td>\n",
       "      <td>1</td>\n",
       "      <td>1</td>\n",
       "      <td>0</td>\n",
       "      <td>1</td>\n",
       "      <td>0</td>\n",
       "      <td>1</td>\n",
       "      <td>1</td>\n",
       "      <td>1</td>\n",
       "      <td>1</td>\n",
       "      <td>1</td>\n",
       "    </tr>\n",
       "    <tr>\n",
       "      <th>hitType_page</th>\n",
       "      <td>1</td>\n",
       "      <td>1</td>\n",
       "      <td>1</td>\n",
       "      <td>1</td>\n",
       "      <td>1</td>\n",
       "      <td>1</td>\n",
       "      <td>1</td>\n",
       "      <td>1</td>\n",
       "      <td>1</td>\n",
       "      <td>1</td>\n",
       "      <td>...</td>\n",
       "      <td>1</td>\n",
       "      <td>1</td>\n",
       "      <td>1</td>\n",
       "      <td>1</td>\n",
       "      <td>1</td>\n",
       "      <td>1</td>\n",
       "      <td>1</td>\n",
       "      <td>1</td>\n",
       "      <td>1</td>\n",
       "      <td>1</td>\n",
       "    </tr>\n",
       "    <tr>\n",
       "      <th>hitHour_00_02</th>\n",
       "      <td>0</td>\n",
       "      <td>0</td>\n",
       "      <td>0</td>\n",
       "      <td>0</td>\n",
       "      <td>0</td>\n",
       "      <td>0</td>\n",
       "      <td>0</td>\n",
       "      <td>0</td>\n",
       "      <td>0</td>\n",
       "      <td>0</td>\n",
       "      <td>...</td>\n",
       "      <td>0</td>\n",
       "      <td>0</td>\n",
       "      <td>0</td>\n",
       "      <td>0</td>\n",
       "      <td>0</td>\n",
       "      <td>0</td>\n",
       "      <td>0</td>\n",
       "      <td>0</td>\n",
       "      <td>0</td>\n",
       "      <td>0</td>\n",
       "    </tr>\n",
       "    <tr>\n",
       "      <th>hitHour_03_05</th>\n",
       "      <td>0</td>\n",
       "      <td>0</td>\n",
       "      <td>0</td>\n",
       "      <td>0</td>\n",
       "      <td>0</td>\n",
       "      <td>0</td>\n",
       "      <td>0</td>\n",
       "      <td>0</td>\n",
       "      <td>0</td>\n",
       "      <td>0</td>\n",
       "      <td>...</td>\n",
       "      <td>0</td>\n",
       "      <td>0</td>\n",
       "      <td>0</td>\n",
       "      <td>0</td>\n",
       "      <td>0</td>\n",
       "      <td>0</td>\n",
       "      <td>0</td>\n",
       "      <td>0</td>\n",
       "      <td>0</td>\n",
       "      <td>0</td>\n",
       "    </tr>\n",
       "    <tr>\n",
       "      <th>hitHour_06_08</th>\n",
       "      <td>0</td>\n",
       "      <td>0</td>\n",
       "      <td>0</td>\n",
       "      <td>0</td>\n",
       "      <td>0</td>\n",
       "      <td>0</td>\n",
       "      <td>0</td>\n",
       "      <td>0</td>\n",
       "      <td>0</td>\n",
       "      <td>0</td>\n",
       "      <td>...</td>\n",
       "      <td>1</td>\n",
       "      <td>0</td>\n",
       "      <td>0</td>\n",
       "      <td>1</td>\n",
       "      <td>0</td>\n",
       "      <td>0</td>\n",
       "      <td>0</td>\n",
       "      <td>0</td>\n",
       "      <td>0</td>\n",
       "      <td>0</td>\n",
       "    </tr>\n",
       "    <tr>\n",
       "      <th>hitHour_09_11</th>\n",
       "      <td>0</td>\n",
       "      <td>0</td>\n",
       "      <td>1</td>\n",
       "      <td>0</td>\n",
       "      <td>0</td>\n",
       "      <td>0</td>\n",
       "      <td>1</td>\n",
       "      <td>1</td>\n",
       "      <td>0</td>\n",
       "      <td>0</td>\n",
       "      <td>...</td>\n",
       "      <td>0</td>\n",
       "      <td>0</td>\n",
       "      <td>0</td>\n",
       "      <td>0</td>\n",
       "      <td>0</td>\n",
       "      <td>0</td>\n",
       "      <td>1</td>\n",
       "      <td>0</td>\n",
       "      <td>0</td>\n",
       "      <td>0</td>\n",
       "    </tr>\n",
       "    <tr>\n",
       "      <th>hitHour_12_14</th>\n",
       "      <td>1</td>\n",
       "      <td>1</td>\n",
       "      <td>0</td>\n",
       "      <td>0</td>\n",
       "      <td>0</td>\n",
       "      <td>0</td>\n",
       "      <td>0</td>\n",
       "      <td>0</td>\n",
       "      <td>1</td>\n",
       "      <td>1</td>\n",
       "      <td>...</td>\n",
       "      <td>0</td>\n",
       "      <td>0</td>\n",
       "      <td>0</td>\n",
       "      <td>0</td>\n",
       "      <td>0</td>\n",
       "      <td>1</td>\n",
       "      <td>0</td>\n",
       "      <td>0</td>\n",
       "      <td>1</td>\n",
       "      <td>0</td>\n",
       "    </tr>\n",
       "    <tr>\n",
       "      <th>hitHour_15_17</th>\n",
       "      <td>0</td>\n",
       "      <td>0</td>\n",
       "      <td>0</td>\n",
       "      <td>0</td>\n",
       "      <td>1</td>\n",
       "      <td>1</td>\n",
       "      <td>0</td>\n",
       "      <td>0</td>\n",
       "      <td>0</td>\n",
       "      <td>0</td>\n",
       "      <td>...</td>\n",
       "      <td>0</td>\n",
       "      <td>1</td>\n",
       "      <td>0</td>\n",
       "      <td>0</td>\n",
       "      <td>0</td>\n",
       "      <td>0</td>\n",
       "      <td>0</td>\n",
       "      <td>0</td>\n",
       "      <td>0</td>\n",
       "      <td>1</td>\n",
       "    </tr>\n",
       "    <tr>\n",
       "      <th>hitHour_18_20</th>\n",
       "      <td>0</td>\n",
       "      <td>0</td>\n",
       "      <td>0</td>\n",
       "      <td>1</td>\n",
       "      <td>0</td>\n",
       "      <td>0</td>\n",
       "      <td>0</td>\n",
       "      <td>0</td>\n",
       "      <td>0</td>\n",
       "      <td>0</td>\n",
       "      <td>...</td>\n",
       "      <td>0</td>\n",
       "      <td>0</td>\n",
       "      <td>1</td>\n",
       "      <td>0</td>\n",
       "      <td>0</td>\n",
       "      <td>0</td>\n",
       "      <td>0</td>\n",
       "      <td>0</td>\n",
       "      <td>0</td>\n",
       "      <td>0</td>\n",
       "    </tr>\n",
       "    <tr>\n",
       "      <th>hitHour_21_23</th>\n",
       "      <td>0</td>\n",
       "      <td>0</td>\n",
       "      <td>0</td>\n",
       "      <td>0</td>\n",
       "      <td>0</td>\n",
       "      <td>0</td>\n",
       "      <td>0</td>\n",
       "      <td>0</td>\n",
       "      <td>0</td>\n",
       "      <td>0</td>\n",
       "      <td>...</td>\n",
       "      <td>0</td>\n",
       "      <td>0</td>\n",
       "      <td>0</td>\n",
       "      <td>0</td>\n",
       "      <td>1</td>\n",
       "      <td>0</td>\n",
       "      <td>0</td>\n",
       "      <td>1</td>\n",
       "      <td>0</td>\n",
       "      <td>0</td>\n",
       "    </tr>\n",
       "    <tr>\n",
       "      <th>sum_hitaction_1</th>\n",
       "      <td>0</td>\n",
       "      <td>0</td>\n",
       "      <td>0</td>\n",
       "      <td>0</td>\n",
       "      <td>0</td>\n",
       "      <td>0</td>\n",
       "      <td>0</td>\n",
       "      <td>0</td>\n",
       "      <td>0</td>\n",
       "      <td>0</td>\n",
       "      <td>...</td>\n",
       "      <td>0</td>\n",
       "      <td>0</td>\n",
       "      <td>0</td>\n",
       "      <td>0</td>\n",
       "      <td>0</td>\n",
       "      <td>0</td>\n",
       "      <td>0</td>\n",
       "      <td>0</td>\n",
       "      <td>0</td>\n",
       "      <td>0</td>\n",
       "    </tr>\n",
       "    <tr>\n",
       "      <th>sum_hitaction_2</th>\n",
       "      <td>0</td>\n",
       "      <td>0</td>\n",
       "      <td>1</td>\n",
       "      <td>0</td>\n",
       "      <td>0</td>\n",
       "      <td>1</td>\n",
       "      <td>0</td>\n",
       "      <td>0</td>\n",
       "      <td>0</td>\n",
       "      <td>0</td>\n",
       "      <td>...</td>\n",
       "      <td>0</td>\n",
       "      <td>0</td>\n",
       "      <td>0</td>\n",
       "      <td>0</td>\n",
       "      <td>0</td>\n",
       "      <td>0</td>\n",
       "      <td>0</td>\n",
       "      <td>0</td>\n",
       "      <td>0</td>\n",
       "      <td>0</td>\n",
       "    </tr>\n",
       "    <tr>\n",
       "      <th>sum_hitaction_3</th>\n",
       "      <td>0</td>\n",
       "      <td>0</td>\n",
       "      <td>0</td>\n",
       "      <td>0</td>\n",
       "      <td>0</td>\n",
       "      <td>0</td>\n",
       "      <td>0</td>\n",
       "      <td>0</td>\n",
       "      <td>0</td>\n",
       "      <td>0</td>\n",
       "      <td>...</td>\n",
       "      <td>0</td>\n",
       "      <td>0</td>\n",
       "      <td>0</td>\n",
       "      <td>0</td>\n",
       "      <td>0</td>\n",
       "      <td>0</td>\n",
       "      <td>0</td>\n",
       "      <td>0</td>\n",
       "      <td>0</td>\n",
       "      <td>0</td>\n",
       "    </tr>\n",
       "    <tr>\n",
       "      <th>sum_hitaction_4</th>\n",
       "      <td>0</td>\n",
       "      <td>0</td>\n",
       "      <td>0</td>\n",
       "      <td>0</td>\n",
       "      <td>0</td>\n",
       "      <td>0</td>\n",
       "      <td>0</td>\n",
       "      <td>0</td>\n",
       "      <td>0</td>\n",
       "      <td>0</td>\n",
       "      <td>...</td>\n",
       "      <td>0</td>\n",
       "      <td>0</td>\n",
       "      <td>0</td>\n",
       "      <td>0</td>\n",
       "      <td>0</td>\n",
       "      <td>0</td>\n",
       "      <td>0</td>\n",
       "      <td>0</td>\n",
       "      <td>0</td>\n",
       "      <td>0</td>\n",
       "    </tr>\n",
       "    <tr>\n",
       "      <th>sum_hitaction_5</th>\n",
       "      <td>0</td>\n",
       "      <td>0</td>\n",
       "      <td>0</td>\n",
       "      <td>0</td>\n",
       "      <td>0</td>\n",
       "      <td>0</td>\n",
       "      <td>0</td>\n",
       "      <td>0</td>\n",
       "      <td>0</td>\n",
       "      <td>0</td>\n",
       "      <td>...</td>\n",
       "      <td>0</td>\n",
       "      <td>0</td>\n",
       "      <td>0</td>\n",
       "      <td>0</td>\n",
       "      <td>0</td>\n",
       "      <td>0</td>\n",
       "      <td>0</td>\n",
       "      <td>0</td>\n",
       "      <td>0</td>\n",
       "      <td>0</td>\n",
       "    </tr>\n",
       "    <tr>\n",
       "      <th>sum_hitaction_6</th>\n",
       "      <td>0</td>\n",
       "      <td>0</td>\n",
       "      <td>0</td>\n",
       "      <td>0</td>\n",
       "      <td>0</td>\n",
       "      <td>0</td>\n",
       "      <td>0</td>\n",
       "      <td>0</td>\n",
       "      <td>0</td>\n",
       "      <td>0</td>\n",
       "      <td>...</td>\n",
       "      <td>0</td>\n",
       "      <td>0</td>\n",
       "      <td>0</td>\n",
       "      <td>0</td>\n",
       "      <td>0</td>\n",
       "      <td>0</td>\n",
       "      <td>0</td>\n",
       "      <td>0</td>\n",
       "      <td>0</td>\n",
       "      <td>0</td>\n",
       "    </tr>\n",
       "    <tr>\n",
       "      <th>hitNumber</th>\n",
       "      <td>15</td>\n",
       "      <td>1</td>\n",
       "      <td>21</td>\n",
       "      <td>13</td>\n",
       "      <td>28</td>\n",
       "      <td>29</td>\n",
       "      <td>3</td>\n",
       "      <td>4</td>\n",
       "      <td>10</td>\n",
       "      <td>3</td>\n",
       "      <td>...</td>\n",
       "      <td>2</td>\n",
       "      <td>5</td>\n",
       "      <td>11</td>\n",
       "      <td>5</td>\n",
       "      <td>6</td>\n",
       "      <td>2</td>\n",
       "      <td>3</td>\n",
       "      <td>2</td>\n",
       "      <td>134</td>\n",
       "      <td>1</td>\n",
       "    </tr>\n",
       "    <tr>\n",
       "      <th>timeOnSite</th>\n",
       "      <td>1961</td>\n",
       "      <td>0</td>\n",
       "      <td>863</td>\n",
       "      <td>560</td>\n",
       "      <td>471</td>\n",
       "      <td>732</td>\n",
       "      <td>1666</td>\n",
       "      <td>147</td>\n",
       "      <td>224</td>\n",
       "      <td>23</td>\n",
       "      <td>...</td>\n",
       "      <td>407</td>\n",
       "      <td>96</td>\n",
       "      <td>1902</td>\n",
       "      <td>118</td>\n",
       "      <td>170</td>\n",
       "      <td>25</td>\n",
       "      <td>13</td>\n",
       "      <td>102</td>\n",
       "      <td>2629</td>\n",
       "      <td>64</td>\n",
       "    </tr>\n",
       "    <tr>\n",
       "      <th>sessionQualityDim</th>\n",
       "      <td>0</td>\n",
       "      <td>0</td>\n",
       "      <td>0</td>\n",
       "      <td>0</td>\n",
       "      <td>0</td>\n",
       "      <td>0</td>\n",
       "      <td>0</td>\n",
       "      <td>0</td>\n",
       "      <td>0</td>\n",
       "      <td>0</td>\n",
       "      <td>...</td>\n",
       "      <td>0</td>\n",
       "      <td>0</td>\n",
       "      <td>0</td>\n",
       "      <td>0</td>\n",
       "      <td>0</td>\n",
       "      <td>0</td>\n",
       "      <td>0</td>\n",
       "      <td>1</td>\n",
       "      <td>0</td>\n",
       "      <td>0</td>\n",
       "    </tr>\n",
       "    <tr>\n",
       "      <th>totalTransactionRevenue</th>\n",
       "      <td>0</td>\n",
       "      <td>0</td>\n",
       "      <td>0</td>\n",
       "      <td>0</td>\n",
       "      <td>0</td>\n",
       "      <td>0</td>\n",
       "      <td>0</td>\n",
       "      <td>0</td>\n",
       "      <td>0</td>\n",
       "      <td>0</td>\n",
       "      <td>...</td>\n",
       "      <td>0</td>\n",
       "      <td>0</td>\n",
       "      <td>0</td>\n",
       "      <td>0</td>\n",
       "      <td>0</td>\n",
       "      <td>0</td>\n",
       "      <td>0</td>\n",
       "      <td>0</td>\n",
       "      <td>0</td>\n",
       "      <td>0</td>\n",
       "    </tr>\n",
       "    <tr>\n",
       "      <th>isClick</th>\n",
       "      <td>0</td>\n",
       "      <td>0</td>\n",
       "      <td>0</td>\n",
       "      <td>0</td>\n",
       "      <td>0</td>\n",
       "      <td>0</td>\n",
       "      <td>0</td>\n",
       "      <td>0</td>\n",
       "      <td>0</td>\n",
       "      <td>0</td>\n",
       "      <td>...</td>\n",
       "      <td>0</td>\n",
       "      <td>0</td>\n",
       "      <td>0</td>\n",
       "      <td>0</td>\n",
       "      <td>0</td>\n",
       "      <td>0</td>\n",
       "      <td>0</td>\n",
       "      <td>0</td>\n",
       "      <td>0</td>\n",
       "      <td>0</td>\n",
       "    </tr>\n",
       "    <tr>\n",
       "      <th>isImpression</th>\n",
       "      <td>1</td>\n",
       "      <td>1</td>\n",
       "      <td>1</td>\n",
       "      <td>1</td>\n",
       "      <td>1</td>\n",
       "      <td>1</td>\n",
       "      <td>1</td>\n",
       "      <td>1</td>\n",
       "      <td>1</td>\n",
       "      <td>1</td>\n",
       "      <td>...</td>\n",
       "      <td>1</td>\n",
       "      <td>1</td>\n",
       "      <td>1</td>\n",
       "      <td>1</td>\n",
       "      <td>1</td>\n",
       "      <td>1</td>\n",
       "      <td>1</td>\n",
       "      <td>1</td>\n",
       "      <td>1</td>\n",
       "      <td>1</td>\n",
       "    </tr>\n",
       "    <tr>\n",
       "      <th>target</th>\n",
       "      <td>0</td>\n",
       "      <td>0</td>\n",
       "      <td>0</td>\n",
       "      <td>0</td>\n",
       "      <td>0</td>\n",
       "      <td>0</td>\n",
       "      <td>0</td>\n",
       "      <td>0</td>\n",
       "      <td>0</td>\n",
       "      <td>0</td>\n",
       "      <td>...</td>\n",
       "      <td>0</td>\n",
       "      <td>0</td>\n",
       "      <td>0</td>\n",
       "      <td>0</td>\n",
       "      <td>0</td>\n",
       "      <td>0</td>\n",
       "      <td>0</td>\n",
       "      <td>0</td>\n",
       "      <td>0</td>\n",
       "      <td>0</td>\n",
       "    </tr>\n",
       "    <tr>\n",
       "      <th>label</th>\n",
       "      <td>0.0</td>\n",
       "      <td>0.0</td>\n",
       "      <td>0.0</td>\n",
       "      <td>0.0</td>\n",
       "      <td>0.0</td>\n",
       "      <td>0.0</td>\n",
       "      <td>0.0</td>\n",
       "      <td>0.0</td>\n",
       "      <td>0.0</td>\n",
       "      <td>0.0</td>\n",
       "      <td>...</td>\n",
       "      <td>0.0</td>\n",
       "      <td>0.0</td>\n",
       "      <td>0.0</td>\n",
       "      <td>0.0</td>\n",
       "      <td>0.0</td>\n",
       "      <td>0.0</td>\n",
       "      <td>0.0</td>\n",
       "      <td>0.0</td>\n",
       "      <td>0.0</td>\n",
       "      <td>0.0</td>\n",
       "    </tr>\n",
       "    <tr>\n",
       "      <th>features</th>\n",
       "      <td>[1.0, 1.0, 15.0, 0.0, 1961.0]</td>\n",
       "      <td>[1.0, 1.0, 1.0, 0.0, 0.0]</td>\n",
       "      <td>[1.0, 1.0, 21.0, 1.0, 863.0]</td>\n",
       "      <td>[1.0, 1.0, 13.0, 0.0, 560.0]</td>\n",
       "      <td>[1.0, 1.0, 28.0, 0.0, 471.0]</td>\n",
       "      <td>[1.0, 0.0, 29.0, 1.0, 732.0]</td>\n",
       "      <td>[1.0, 1.0, 3.0, 0.0, 1666.0]</td>\n",
       "      <td>[1.0, 1.0, 4.0, 0.0, 147.0]</td>\n",
       "      <td>[1.0, 1.0, 10.0, 0.0, 224.0]</td>\n",
       "      <td>[1.0, 1.0, 3.0, 0.0, 23.0]</td>\n",
       "      <td>...</td>\n",
       "      <td>[1.0, 1.0, 2.0, 0.0, 407.0]</td>\n",
       "      <td>[1.0, 1.0, 5.0, 0.0, 96.0]</td>\n",
       "      <td>[1.0, 0.0, 11.0, 0.0, 1902.0]</td>\n",
       "      <td>[1.0, 1.0, 5.0, 0.0, 118.0]</td>\n",
       "      <td>[1.0, 0.0, 6.0, 0.0, 170.0]</td>\n",
       "      <td>[1.0, 1.0, 2.0, 0.0, 25.0]</td>\n",
       "      <td>[1.0, 1.0, 3.0, 0.0, 13.0]</td>\n",
       "      <td>[1.0, 1.0, 2.0, 0.0, 102.0]</td>\n",
       "      <td>[1.0, 1.0, 134.0, 0.0, 2629.0]</td>\n",
       "      <td>[1.0, 1.0, 1.0, 0.0, 64.0]</td>\n",
       "    </tr>\n",
       "  </tbody>\n",
       "</table>\n",
       "<p>31 rows × 77 columns</p>\n",
       "</div>"
      ],
      "text/plain": [
       "                                                    0   \\\n",
       "fullVisitorId                      5008945600081786146   \n",
       "visitId                                     1471813581   \n",
       "v2ProductName               Google Ballpoint Pen Black   \n",
       "isTrueDirect                                         0   \n",
       "medium_organic                                       1   \n",
       "dayofweek                                            1   \n",
       "newVisits                                            1   \n",
       "hitType_page                                         1   \n",
       "hitHour_00_02                                        0   \n",
       "hitHour_03_05                                        0   \n",
       "hitHour_06_08                                        0   \n",
       "hitHour_09_11                                        0   \n",
       "hitHour_12_14                                        1   \n",
       "hitHour_15_17                                        0   \n",
       "hitHour_18_20                                        0   \n",
       "hitHour_21_23                                        0   \n",
       "sum_hitaction_1                                      0   \n",
       "sum_hitaction_2                                      0   \n",
       "sum_hitaction_3                                      0   \n",
       "sum_hitaction_4                                      0   \n",
       "sum_hitaction_5                                      0   \n",
       "sum_hitaction_6                                      0   \n",
       "hitNumber                                           15   \n",
       "timeOnSite                                        1961   \n",
       "sessionQualityDim                                    0   \n",
       "totalTransactionRevenue                              0   \n",
       "isClick                                              0   \n",
       "isImpression                                         1   \n",
       "target                                               0   \n",
       "label                                              0.0   \n",
       "features                 [1.0, 1.0, 15.0, 0.0, 1961.0]   \n",
       "\n",
       "                                                                   1   \\\n",
       "fullVisitorId                                     5266171879238051645   \n",
       "visitId                                                    1481583394   \n",
       "v2ProductName            Google G Noise-reducing Bluetooth Headphones   \n",
       "isTrueDirect                                                        1   \n",
       "medium_organic                                                      0   \n",
       "dayofweek                                                           2   \n",
       "newVisits                                                           1   \n",
       "hitType_page                                                        1   \n",
       "hitHour_00_02                                                       0   \n",
       "hitHour_03_05                                                       0   \n",
       "hitHour_06_08                                                       0   \n",
       "hitHour_09_11                                                       0   \n",
       "hitHour_12_14                                                       1   \n",
       "hitHour_15_17                                                       0   \n",
       "hitHour_18_20                                                       0   \n",
       "hitHour_21_23                                                       0   \n",
       "sum_hitaction_1                                                     0   \n",
       "sum_hitaction_2                                                     0   \n",
       "sum_hitaction_3                                                     0   \n",
       "sum_hitaction_4                                                     0   \n",
       "sum_hitaction_5                                                     0   \n",
       "sum_hitaction_6                                                     0   \n",
       "hitNumber                                                           1   \n",
       "timeOnSite                                                          0   \n",
       "sessionQualityDim                                                   0   \n",
       "totalTransactionRevenue                                             0   \n",
       "isClick                                                             0   \n",
       "isImpression                                                        1   \n",
       "target                                                              0   \n",
       "label                                                             0.0   \n",
       "features                                    [1.0, 1.0, 1.0, 0.0, 0.0]   \n",
       "\n",
       "                                                   2   \\\n",
       "fullVisitorId                     5400316914013153054   \n",
       "visitId                                    1493750348   \n",
       "v2ProductName                       YouTube Twill Cap   \n",
       "isTrueDirect                                        0   \n",
       "medium_organic                                      1   \n",
       "dayofweek                                           3   \n",
       "newVisits                                           1   \n",
       "hitType_page                                        1   \n",
       "hitHour_00_02                                       0   \n",
       "hitHour_03_05                                       0   \n",
       "hitHour_06_08                                       0   \n",
       "hitHour_09_11                                       1   \n",
       "hitHour_12_14                                       0   \n",
       "hitHour_15_17                                       0   \n",
       "hitHour_18_20                                       0   \n",
       "hitHour_21_23                                       0   \n",
       "sum_hitaction_1                                     0   \n",
       "sum_hitaction_2                                     1   \n",
       "sum_hitaction_3                                     0   \n",
       "sum_hitaction_4                                     0   \n",
       "sum_hitaction_5                                     0   \n",
       "sum_hitaction_6                                     0   \n",
       "hitNumber                                          21   \n",
       "timeOnSite                                        863   \n",
       "sessionQualityDim                                   0   \n",
       "totalTransactionRevenue                             0   \n",
       "isClick                                             0   \n",
       "isImpression                                        1   \n",
       "target                                              0   \n",
       "label                                             0.0   \n",
       "features                 [1.0, 1.0, 21.0, 1.0, 863.0]   \n",
       "\n",
       "                                                   3   \\\n",
       "fullVisitorId                     5283708221053817052   \n",
       "visitId                                    1498353274   \n",
       "v2ProductName               Google Snapback Hat Black   \n",
       "isTrueDirect                                        0   \n",
       "medium_organic                                      0   \n",
       "dayofweek                                           7   \n",
       "newVisits                                           1   \n",
       "hitType_page                                        1   \n",
       "hitHour_00_02                                       0   \n",
       "hitHour_03_05                                       0   \n",
       "hitHour_06_08                                       0   \n",
       "hitHour_09_11                                       0   \n",
       "hitHour_12_14                                       0   \n",
       "hitHour_15_17                                       0   \n",
       "hitHour_18_20                                       1   \n",
       "hitHour_21_23                                       0   \n",
       "sum_hitaction_1                                     0   \n",
       "sum_hitaction_2                                     0   \n",
       "sum_hitaction_3                                     0   \n",
       "sum_hitaction_4                                     0   \n",
       "sum_hitaction_5                                     0   \n",
       "sum_hitaction_6                                     0   \n",
       "hitNumber                                          13   \n",
       "timeOnSite                                        560   \n",
       "sessionQualityDim                                   0   \n",
       "totalTransactionRevenue                             0   \n",
       "isClick                                             0   \n",
       "isImpression                                        1   \n",
       "target                                              0   \n",
       "label                                             0.0   \n",
       "features                 [1.0, 1.0, 13.0, 0.0, 560.0]   \n",
       "\n",
       "                                                    4   \\\n",
       "fullVisitorId                      5314891399234735154   \n",
       "visitId                                     1491174958   \n",
       "v2ProductName            Retractable Ballpoint Pen Red   \n",
       "isTrueDirect                                         0   \n",
       "medium_organic                                       0   \n",
       "dayofweek                                            1   \n",
       "newVisits                                            1   \n",
       "hitType_page                                         1   \n",
       "hitHour_00_02                                        0   \n",
       "hitHour_03_05                                        0   \n",
       "hitHour_06_08                                        0   \n",
       "hitHour_09_11                                        0   \n",
       "hitHour_12_14                                        0   \n",
       "hitHour_15_17                                        1   \n",
       "hitHour_18_20                                        0   \n",
       "hitHour_21_23                                        0   \n",
       "sum_hitaction_1                                      0   \n",
       "sum_hitaction_2                                      0   \n",
       "sum_hitaction_3                                      0   \n",
       "sum_hitaction_4                                      0   \n",
       "sum_hitaction_5                                      0   \n",
       "sum_hitaction_6                                      0   \n",
       "hitNumber                                           28   \n",
       "timeOnSite                                         471   \n",
       "sessionQualityDim                                    0   \n",
       "totalTransactionRevenue                              0   \n",
       "isClick                                              0   \n",
       "isImpression                                         1   \n",
       "target                                               0   \n",
       "label                                              0.0   \n",
       "features                  [1.0, 1.0, 28.0, 0.0, 471.0]   \n",
       "\n",
       "                                                   5   \\\n",
       "fullVisitorId                     5012216957441063220   \n",
       "visitId                                    1482279496   \n",
       "v2ProductName                               Sport Bag   \n",
       "isTrueDirect                                        1   \n",
       "medium_organic                                      0   \n",
       "dayofweek                                           3   \n",
       "newVisits                                           0   \n",
       "hitType_page                                        1   \n",
       "hitHour_00_02                                       0   \n",
       "hitHour_03_05                                       0   \n",
       "hitHour_06_08                                       0   \n",
       "hitHour_09_11                                       0   \n",
       "hitHour_12_14                                       0   \n",
       "hitHour_15_17                                       1   \n",
       "hitHour_18_20                                       0   \n",
       "hitHour_21_23                                       0   \n",
       "sum_hitaction_1                                     0   \n",
       "sum_hitaction_2                                     1   \n",
       "sum_hitaction_3                                     0   \n",
       "sum_hitaction_4                                     0   \n",
       "sum_hitaction_5                                     0   \n",
       "sum_hitaction_6                                     0   \n",
       "hitNumber                                          29   \n",
       "timeOnSite                                        732   \n",
       "sessionQualityDim                                   0   \n",
       "totalTransactionRevenue                             0   \n",
       "isClick                                             0   \n",
       "isImpression                                        1   \n",
       "target                                              0   \n",
       "label                                             0.0   \n",
       "features                 [1.0, 0.0, 29.0, 1.0, 732.0]   \n",
       "\n",
       "                                                                6   \\\n",
       "fullVisitorId                                  4990697502077570091   \n",
       "visitId                                                 1494612328   \n",
       "v2ProductName            Google Men's Quilted Insulated Vest Black   \n",
       "isTrueDirect                                                     0   \n",
       "medium_organic                                                   1   \n",
       "dayofweek                                                        6   \n",
       "newVisits                                                        1   \n",
       "hitType_page                                                     1   \n",
       "hitHour_00_02                                                    0   \n",
       "hitHour_03_05                                                    0   \n",
       "hitHour_06_08                                                    0   \n",
       "hitHour_09_11                                                    1   \n",
       "hitHour_12_14                                                    0   \n",
       "hitHour_15_17                                                    0   \n",
       "hitHour_18_20                                                    0   \n",
       "hitHour_21_23                                                    0   \n",
       "sum_hitaction_1                                                  0   \n",
       "sum_hitaction_2                                                  0   \n",
       "sum_hitaction_3                                                  0   \n",
       "sum_hitaction_4                                                  0   \n",
       "sum_hitaction_5                                                  0   \n",
       "sum_hitaction_6                                                  0   \n",
       "hitNumber                                                        3   \n",
       "timeOnSite                                                    1666   \n",
       "sessionQualityDim                                                0   \n",
       "totalTransactionRevenue                                          0   \n",
       "isClick                                                          0   \n",
       "isImpression                                                     1   \n",
       "target                                                           0   \n",
       "label                                                          0.0   \n",
       "features                              [1.0, 1.0, 3.0, 0.0, 1666.0]   \n",
       "\n",
       "                                                       7   \\\n",
       "fullVisitorId                         5087838879402990275   \n",
       "visitId                                        1470936954   \n",
       "v2ProductName            Bic Digital Clic Stic Stylus Pen   \n",
       "isTrueDirect                                            1   \n",
       "medium_organic                                          0   \n",
       "dayofweek                                               5   \n",
       "newVisits                                               1   \n",
       "hitType_page                                            1   \n",
       "hitHour_00_02                                           0   \n",
       "hitHour_03_05                                           0   \n",
       "hitHour_06_08                                           0   \n",
       "hitHour_09_11                                           1   \n",
       "hitHour_12_14                                           0   \n",
       "hitHour_15_17                                           0   \n",
       "hitHour_18_20                                           0   \n",
       "hitHour_21_23                                           0   \n",
       "sum_hitaction_1                                         0   \n",
       "sum_hitaction_2                                         0   \n",
       "sum_hitaction_3                                         0   \n",
       "sum_hitaction_4                                         0   \n",
       "sum_hitaction_5                                         0   \n",
       "sum_hitaction_6                                         0   \n",
       "hitNumber                                               4   \n",
       "timeOnSite                                            147   \n",
       "sessionQualityDim                                       0   \n",
       "totalTransactionRevenue                                 0   \n",
       "isClick                                                 0   \n",
       "isImpression                                            1   \n",
       "target                                                  0   \n",
       "label                                                 0.0   \n",
       "features                      [1.0, 1.0, 4.0, 0.0, 147.0]   \n",
       "\n",
       "                                                                        8   \\\n",
       "fullVisitorId                                          5249329439726008173   \n",
       "visitId                                                         1472758189   \n",
       "v2ProductName            Google Men's Microfiber 1/4 Zip Pullover Blue/...   \n",
       "isTrueDirect                                                             0   \n",
       "medium_organic                                                           1   \n",
       "dayofweek                                                                5   \n",
       "newVisits                                                                1   \n",
       "hitType_page                                                             1   \n",
       "hitHour_00_02                                                            0   \n",
       "hitHour_03_05                                                            0   \n",
       "hitHour_06_08                                                            0   \n",
       "hitHour_09_11                                                            0   \n",
       "hitHour_12_14                                                            1   \n",
       "hitHour_15_17                                                            0   \n",
       "hitHour_18_20                                                            0   \n",
       "hitHour_21_23                                                            0   \n",
       "sum_hitaction_1                                                          0   \n",
       "sum_hitaction_2                                                          0   \n",
       "sum_hitaction_3                                                          0   \n",
       "sum_hitaction_4                                                          0   \n",
       "sum_hitaction_5                                                          0   \n",
       "sum_hitaction_6                                                          0   \n",
       "hitNumber                                                               10   \n",
       "timeOnSite                                                             224   \n",
       "sessionQualityDim                                                        0   \n",
       "totalTransactionRevenue                                                  0   \n",
       "isClick                                                                  0   \n",
       "isImpression                                                             1   \n",
       "target                                                                   0   \n",
       "label                                                                  0.0   \n",
       "features                                      [1.0, 1.0, 10.0, 0.0, 224.0]   \n",
       "\n",
       "                                                 9   ...  \\\n",
       "fullVisitorId                   5110238153732697494  ...   \n",
       "visitId                                  1486334578  ...   \n",
       "v2ProductName                    Bottle Opener Clip  ...   \n",
       "isTrueDirect                                      1  ...   \n",
       "medium_organic                                    0  ...   \n",
       "dayofweek                                         1  ...   \n",
       "newVisits                                         1  ...   \n",
       "hitType_page                                      1  ...   \n",
       "hitHour_00_02                                     0  ...   \n",
       "hitHour_03_05                                     0  ...   \n",
       "hitHour_06_08                                     0  ...   \n",
       "hitHour_09_11                                     0  ...   \n",
       "hitHour_12_14                                     1  ...   \n",
       "hitHour_15_17                                     0  ...   \n",
       "hitHour_18_20                                     0  ...   \n",
       "hitHour_21_23                                     0  ...   \n",
       "sum_hitaction_1                                   0  ...   \n",
       "sum_hitaction_2                                   0  ...   \n",
       "sum_hitaction_3                                   0  ...   \n",
       "sum_hitaction_4                                   0  ...   \n",
       "sum_hitaction_5                                   0  ...   \n",
       "sum_hitaction_6                                   0  ...   \n",
       "hitNumber                                         3  ...   \n",
       "timeOnSite                                       23  ...   \n",
       "sessionQualityDim                                 0  ...   \n",
       "totalTransactionRevenue                           0  ...   \n",
       "isClick                                           0  ...   \n",
       "isImpression                                      1  ...   \n",
       "target                                            0  ...   \n",
       "label                                           0.0  ...   \n",
       "features                 [1.0, 1.0, 3.0, 0.0, 23.0]  ...   \n",
       "\n",
       "                                                   67  \\\n",
       "fullVisitorId                     5449280010119364112   \n",
       "visitId                                    1490190100   \n",
       "v2ProductName            Switch Tone Color Crayon Pen   \n",
       "isTrueDirect                                        0   \n",
       "medium_organic                                      0   \n",
       "dayofweek                                           4   \n",
       "newVisits                                           1   \n",
       "hitType_page                                        1   \n",
       "hitHour_00_02                                       0   \n",
       "hitHour_03_05                                       0   \n",
       "hitHour_06_08                                       1   \n",
       "hitHour_09_11                                       0   \n",
       "hitHour_12_14                                       0   \n",
       "hitHour_15_17                                       0   \n",
       "hitHour_18_20                                       0   \n",
       "hitHour_21_23                                       0   \n",
       "sum_hitaction_1                                     0   \n",
       "sum_hitaction_2                                     0   \n",
       "sum_hitaction_3                                     0   \n",
       "sum_hitaction_4                                     0   \n",
       "sum_hitaction_5                                     0   \n",
       "sum_hitaction_6                                     0   \n",
       "hitNumber                                           2   \n",
       "timeOnSite                                        407   \n",
       "sessionQualityDim                                   0   \n",
       "totalTransactionRevenue                             0   \n",
       "isClick                                             0   \n",
       "isImpression                                        1   \n",
       "target                                              0   \n",
       "label                                             0.0   \n",
       "features                  [1.0, 1.0, 2.0, 0.0, 407.0]   \n",
       "\n",
       "                                                           68  \\\n",
       "fullVisitorId                             4989802415230849281   \n",
       "visitId                                            1480383137   \n",
       "v2ProductName            Metal Earbuds with Small Zipper Case   \n",
       "isTrueDirect                                                1   \n",
       "medium_organic                                              0   \n",
       "dayofweek                                                   2   \n",
       "newVisits                                                   1   \n",
       "hitType_page                                                1   \n",
       "hitHour_00_02                                               0   \n",
       "hitHour_03_05                                               0   \n",
       "hitHour_06_08                                               0   \n",
       "hitHour_09_11                                               0   \n",
       "hitHour_12_14                                               0   \n",
       "hitHour_15_17                                               1   \n",
       "hitHour_18_20                                               0   \n",
       "hitHour_21_23                                               0   \n",
       "sum_hitaction_1                                             0   \n",
       "sum_hitaction_2                                             0   \n",
       "sum_hitaction_3                                             0   \n",
       "sum_hitaction_4                                             0   \n",
       "sum_hitaction_5                                             0   \n",
       "sum_hitaction_6                                             0   \n",
       "hitNumber                                                   5   \n",
       "timeOnSite                                                 96   \n",
       "sessionQualityDim                                           0   \n",
       "totalTransactionRevenue                                     0   \n",
       "isClick                                                     0   \n",
       "isImpression                                                1   \n",
       "target                                                      0   \n",
       "label                                                     0.0   \n",
       "features                           [1.0, 1.0, 5.0, 0.0, 96.0]   \n",
       "\n",
       "                                                    69  \\\n",
       "fullVisitorId                      5093723751286764727   \n",
       "visitId                                     1481766098   \n",
       "v2ProductName             Galaxy Screen Cleaning Cloth   \n",
       "isTrueDirect                                         1   \n",
       "medium_organic                                       0   \n",
       "dayofweek                                            4   \n",
       "newVisits                                            0   \n",
       "hitType_page                                         1   \n",
       "hitHour_00_02                                        0   \n",
       "hitHour_03_05                                        0   \n",
       "hitHour_06_08                                        0   \n",
       "hitHour_09_11                                        0   \n",
       "hitHour_12_14                                        0   \n",
       "hitHour_15_17                                        0   \n",
       "hitHour_18_20                                        1   \n",
       "hitHour_21_23                                        0   \n",
       "sum_hitaction_1                                      0   \n",
       "sum_hitaction_2                                      0   \n",
       "sum_hitaction_3                                      0   \n",
       "sum_hitaction_4                                      0   \n",
       "sum_hitaction_5                                      0   \n",
       "sum_hitaction_6                                      0   \n",
       "hitNumber                                           11   \n",
       "timeOnSite                                        1902   \n",
       "sessionQualityDim                                    0   \n",
       "totalTransactionRevenue                              0   \n",
       "isClick                                              0   \n",
       "isImpression                                         1   \n",
       "target                                               0   \n",
       "label                                              0.0   \n",
       "features                 [1.0, 0.0, 11.0, 0.0, 1902.0]   \n",
       "\n",
       "                                                   70  \\\n",
       "fullVisitorId                      537028475454126663   \n",
       "visitId                                    1488465448   \n",
       "v2ProductName            Google Car Clip Phone Holder   \n",
       "isTrueDirect                                        0   \n",
       "medium_organic                                      1   \n",
       "dayofweek                                           5   \n",
       "newVisits                                           1   \n",
       "hitType_page                                        1   \n",
       "hitHour_00_02                                       0   \n",
       "hitHour_03_05                                       0   \n",
       "hitHour_06_08                                       1   \n",
       "hitHour_09_11                                       0   \n",
       "hitHour_12_14                                       0   \n",
       "hitHour_15_17                                       0   \n",
       "hitHour_18_20                                       0   \n",
       "hitHour_21_23                                       0   \n",
       "sum_hitaction_1                                     0   \n",
       "sum_hitaction_2                                     0   \n",
       "sum_hitaction_3                                     0   \n",
       "sum_hitaction_4                                     0   \n",
       "sum_hitaction_5                                     0   \n",
       "sum_hitaction_6                                     0   \n",
       "hitNumber                                           5   \n",
       "timeOnSite                                        118   \n",
       "sessionQualityDim                                   0   \n",
       "totalTransactionRevenue                             0   \n",
       "isClick                                             0   \n",
       "isImpression                                        1   \n",
       "target                                              0   \n",
       "label                                             0.0   \n",
       "features                  [1.0, 1.0, 5.0, 0.0, 118.0]   \n",
       "\n",
       "                                                  71  \\\n",
       "fullVisitorId                     506797253390432707   \n",
       "visitId                                   1473571135   \n",
       "v2ProductName                    Leatherette Journal   \n",
       "isTrueDirect                                       1   \n",
       "medium_organic                                     1   \n",
       "dayofweek                                          7   \n",
       "newVisits                                          0   \n",
       "hitType_page                                       1   \n",
       "hitHour_00_02                                      0   \n",
       "hitHour_03_05                                      0   \n",
       "hitHour_06_08                                      0   \n",
       "hitHour_09_11                                      0   \n",
       "hitHour_12_14                                      0   \n",
       "hitHour_15_17                                      0   \n",
       "hitHour_18_20                                      0   \n",
       "hitHour_21_23                                      1   \n",
       "sum_hitaction_1                                    0   \n",
       "sum_hitaction_2                                    0   \n",
       "sum_hitaction_3                                    0   \n",
       "sum_hitaction_4                                    0   \n",
       "sum_hitaction_5                                    0   \n",
       "sum_hitaction_6                                    0   \n",
       "hitNumber                                          6   \n",
       "timeOnSite                                       170   \n",
       "sessionQualityDim                                  0   \n",
       "totalTransactionRevenue                            0   \n",
       "isClick                                            0   \n",
       "isImpression                                       1   \n",
       "target                                             0   \n",
       "label                                            0.0   \n",
       "features                 [1.0, 0.0, 6.0, 0.0, 170.0]   \n",
       "\n",
       "                                                 72  \\\n",
       "fullVisitorId                   5416799660451726227   \n",
       "visitId                                  1496951188   \n",
       "v2ProductName              Google Men's  Zip Hoodie   \n",
       "isTrueDirect                                      0   \n",
       "medium_organic                                    0   \n",
       "dayofweek                                         5   \n",
       "newVisits                                         1   \n",
       "hitType_page                                      1   \n",
       "hitHour_00_02                                     0   \n",
       "hitHour_03_05                                     0   \n",
       "hitHour_06_08                                     0   \n",
       "hitHour_09_11                                     0   \n",
       "hitHour_12_14                                     1   \n",
       "hitHour_15_17                                     0   \n",
       "hitHour_18_20                                     0   \n",
       "hitHour_21_23                                     0   \n",
       "sum_hitaction_1                                   0   \n",
       "sum_hitaction_2                                   0   \n",
       "sum_hitaction_3                                   0   \n",
       "sum_hitaction_4                                   0   \n",
       "sum_hitaction_5                                   0   \n",
       "sum_hitaction_6                                   0   \n",
       "hitNumber                                         2   \n",
       "timeOnSite                                       25   \n",
       "sessionQualityDim                                 0   \n",
       "totalTransactionRevenue                           0   \n",
       "isClick                                           0   \n",
       "isImpression                                      1   \n",
       "target                                            0   \n",
       "label                                           0.0   \n",
       "features                 [1.0, 1.0, 2.0, 0.0, 25.0]   \n",
       "\n",
       "                                                    73  \\\n",
       "fullVisitorId                      5134180098717581922   \n",
       "visitId                                     1470504586   \n",
       "v2ProductName            Executive Twist Ballpoint Pen   \n",
       "isTrueDirect                                         0   \n",
       "medium_organic                                       1   \n",
       "dayofweek                                            7   \n",
       "newVisits                                            1   \n",
       "hitType_page                                         1   \n",
       "hitHour_00_02                                        0   \n",
       "hitHour_03_05                                        0   \n",
       "hitHour_06_08                                        0   \n",
       "hitHour_09_11                                        1   \n",
       "hitHour_12_14                                        0   \n",
       "hitHour_15_17                                        0   \n",
       "hitHour_18_20                                        0   \n",
       "hitHour_21_23                                        0   \n",
       "sum_hitaction_1                                      0   \n",
       "sum_hitaction_2                                      0   \n",
       "sum_hitaction_3                                      0   \n",
       "sum_hitaction_4                                      0   \n",
       "sum_hitaction_5                                      0   \n",
       "sum_hitaction_6                                      0   \n",
       "hitNumber                                            3   \n",
       "timeOnSite                                          13   \n",
       "sessionQualityDim                                    0   \n",
       "totalTransactionRevenue                              0   \n",
       "isClick                                              0   \n",
       "isImpression                                         1   \n",
       "target                                               0   \n",
       "label                                              0.0   \n",
       "features                    [1.0, 1.0, 3.0, 0.0, 13.0]   \n",
       "\n",
       "                                                       74  \\\n",
       "fullVisitorId                         5111789008243256065   \n",
       "visitId                                        1501129301   \n",
       "v2ProductName            Google Vintage Henley Grey/Black   \n",
       "isTrueDirect                                            1   \n",
       "medium_organic                                          0   \n",
       "dayofweek                                               4   \n",
       "newVisits                                               1   \n",
       "hitType_page                                            1   \n",
       "hitHour_00_02                                           0   \n",
       "hitHour_03_05                                           0   \n",
       "hitHour_06_08                                           0   \n",
       "hitHour_09_11                                           0   \n",
       "hitHour_12_14                                           0   \n",
       "hitHour_15_17                                           0   \n",
       "hitHour_18_20                                           0   \n",
       "hitHour_21_23                                           1   \n",
       "sum_hitaction_1                                         0   \n",
       "sum_hitaction_2                                         0   \n",
       "sum_hitaction_3                                         0   \n",
       "sum_hitaction_4                                         0   \n",
       "sum_hitaction_5                                         0   \n",
       "sum_hitaction_6                                         0   \n",
       "hitNumber                                               2   \n",
       "timeOnSite                                            102   \n",
       "sessionQualityDim                                       1   \n",
       "totalTransactionRevenue                                 0   \n",
       "isClick                                                 0   \n",
       "isImpression                                            1   \n",
       "target                                                  0   \n",
       "label                                                 0.0   \n",
       "features                      [1.0, 1.0, 2.0, 0.0, 102.0]   \n",
       "\n",
       "                                                     75  \\\n",
       "fullVisitorId                       5072413212991858583   \n",
       "visitId                                      1475527959   \n",
       "v2ProductName             Executive Twist Ballpoint Pen   \n",
       "isTrueDirect                                          0   \n",
       "medium_organic                                        0   \n",
       "dayofweek                                             2   \n",
       "newVisits                                             1   \n",
       "hitType_page                                          1   \n",
       "hitHour_00_02                                         0   \n",
       "hitHour_03_05                                         0   \n",
       "hitHour_06_08                                         0   \n",
       "hitHour_09_11                                         0   \n",
       "hitHour_12_14                                         1   \n",
       "hitHour_15_17                                         0   \n",
       "hitHour_18_20                                         0   \n",
       "hitHour_21_23                                         0   \n",
       "sum_hitaction_1                                       0   \n",
       "sum_hitaction_2                                       0   \n",
       "sum_hitaction_3                                       0   \n",
       "sum_hitaction_4                                       0   \n",
       "sum_hitaction_5                                       0   \n",
       "sum_hitaction_6                                       0   \n",
       "hitNumber                                           134   \n",
       "timeOnSite                                         2629   \n",
       "sessionQualityDim                                     0   \n",
       "totalTransactionRevenue                               0   \n",
       "isClick                                               0   \n",
       "isImpression                                          1   \n",
       "target                                                0   \n",
       "label                                               0.0   \n",
       "features                 [1.0, 1.0, 134.0, 0.0, 2629.0]   \n",
       "\n",
       "                                                        76  \n",
       "fullVisitorId                          5389202654072393578  \n",
       "visitId                                         1482197752  \n",
       "v2ProductName            YouTube Men's Skater Tee Charcoal  \n",
       "isTrueDirect                                             0  \n",
       "medium_organic                                           0  \n",
       "dayofweek                                                2  \n",
       "newVisits                                                1  \n",
       "hitType_page                                             1  \n",
       "hitHour_00_02                                            0  \n",
       "hitHour_03_05                                            0  \n",
       "hitHour_06_08                                            0  \n",
       "hitHour_09_11                                            0  \n",
       "hitHour_12_14                                            0  \n",
       "hitHour_15_17                                            1  \n",
       "hitHour_18_20                                            0  \n",
       "hitHour_21_23                                            0  \n",
       "sum_hitaction_1                                          0  \n",
       "sum_hitaction_2                                          0  \n",
       "sum_hitaction_3                                          0  \n",
       "sum_hitaction_4                                          0  \n",
       "sum_hitaction_5                                          0  \n",
       "sum_hitaction_6                                          0  \n",
       "hitNumber                                                1  \n",
       "timeOnSite                                              64  \n",
       "sessionQualityDim                                        0  \n",
       "totalTransactionRevenue                                  0  \n",
       "isClick                                                  0  \n",
       "isImpression                                             1  \n",
       "target                                                   0  \n",
       "label                                                  0.0  \n",
       "features                        [1.0, 1.0, 1.0, 0.0, 64.0]  \n",
       "\n",
       "[31 rows x 77 columns]"
      ]
     },
     "execution_count": 77,
     "metadata": {},
     "output_type": "execute_result"
    }
   ],
   "source": [
    "final_df = pipeline.fit(noSpurious_df).transform(noSpurious_df)\n",
    "final_df.sample(0.0001).toPandas().transpose()"
   ]
  },
  {
   "cell_type": "code",
   "execution_count": 78,
   "metadata": {
    "colab": {
     "base_uri": "https://localhost:8080/"
    },
    "id": "qWgApjebVudF",
    "outputId": "65f2dd47-fa64-48a0-e231-33c97e24cfd4"
   },
   "outputs": [
    {
     "data": {
      "text/plain": [
       "917814"
      ]
     },
     "execution_count": 78,
     "metadata": {},
     "output_type": "execute_result"
    }
   ],
   "source": [
    "raw_df.count() ##Aekanun"
   ]
  },
  {
   "cell_type": "code",
   "execution_count": 79,
   "metadata": {
    "colab": {
     "base_uri": "https://localhost:8080/"
    },
    "id": "4Fepq05dVj7F",
    "outputId": "4ea08d22-c665-46d4-8ac5-e23e054e453f"
   },
   "outputs": [
    {
     "name": "stderr",
     "output_type": "stream",
     "text": [
      "                                                                                \r"
     ]
    },
    {
     "data": {
      "text/plain": [
       "636420"
      ]
     },
     "execution_count": 79,
     "metadata": {},
     "output_type": "execute_result"
    }
   ],
   "source": [
    "noSpurious_df.count() ##Aekanun"
   ]
  },
  {
   "cell_type": "markdown",
   "metadata": {
    "id": "8n7AtuvkS2_-"
   },
   "source": [
    "### 4.3 แบ่งแยกข้อมูลเป็น training set และ testing set"
   ]
  },
  {
   "cell_type": "code",
   "execution_count": 80,
   "metadata": {
    "colab": {
     "base_uri": "https://localhost:8080/"
    },
    "id": "3Eu3D6tkS0K1",
    "outputId": "4109aa6c-86ba-4e85-ed10-62d2164fe99f"
   },
   "outputs": [
    {
     "name": "stderr",
     "output_type": "stream",
     "text": [
      "                                                                                \r"
     ]
    },
    {
     "name": "stdout",
     "output_type": "stream",
     "text": [
      "Training Dataset: 509123\n"
     ]
    },
    {
     "name": "stderr",
     "output_type": "stream",
     "text": [
      "[Stage 141:=============================================>       (170 + 4) / 200]\r"
     ]
    },
    {
     "name": "stdout",
     "output_type": "stream",
     "text": [
      "Test Dataset: 127297\n"
     ]
    },
    {
     "name": "stderr",
     "output_type": "stream",
     "text": [
      "                                                                                \r"
     ]
    }
   ],
   "source": [
    "train_df, test_df = final_df.randomSplit([0.8, 0.2], seed=49)\n",
    "print(\"Training Dataset: \" + str(train_df.count()))\n",
    "print(\"Test Dataset: \" + str(test_df.count()))"
   ]
  },
  {
   "cell_type": "code",
   "execution_count": 81,
   "metadata": {
    "colab": {
     "base_uri": "https://localhost:8080/"
    },
    "id": "YfmB0yT-YLmH",
    "outputId": "830092af-c74d-40d4-cf1f-4b0cdd4e0b91"
   },
   "outputs": [
    {
     "name": "stderr",
     "output_type": "stream",
     "text": [
      "                                                                                \r"
     ]
    },
    {
     "name": "stdout",
     "output_type": "stream",
     "text": [
      "+-----+------+\n",
      "|label| count|\n",
      "+-----+------+\n",
      "|  0.0|507680|\n",
      "|  1.0|  1443|\n",
      "+-----+------+\n",
      "\n"
     ]
    }
   ],
   "source": [
    "train_df.groupBy('label').count().show()"
   ]
  },
  {
   "cell_type": "code",
   "execution_count": 82,
   "metadata": {
    "colab": {
     "base_uri": "https://localhost:8080/"
    },
    "id": "lVTS3ynKYUIf",
    "outputId": "5f2f9b6e-f50d-42bd-d9ee-a7eee2919d18"
   },
   "outputs": [
    {
     "name": "stderr",
     "output_type": "stream",
     "text": [
      "                                                                                \r"
     ]
    },
    {
     "name": "stdout",
     "output_type": "stream",
     "text": [
      "+-----+------+\n",
      "|label| count|\n",
      "+-----+------+\n",
      "|  0.0|126942|\n",
      "|  1.0|   355|\n",
      "+-----+------+\n",
      "\n"
     ]
    }
   ],
   "source": [
    "test_df.groupBy('label').count().show()"
   ]
  },
  {
   "cell_type": "markdown",
   "metadata": {
    "id": "kQ7Wji5mBqOd"
   },
   "source": [
    "### 4.4 แก้ไข Imbalance class ด้วยการ Oversampling"
   ]
  },
  {
   "cell_type": "code",
   "execution_count": 83,
   "metadata": {
    "id": "oKx_ak-SBpvk"
   },
   "outputs": [
    {
     "name": "stderr",
     "output_type": "stream",
     "text": [
      "                                                                                \r"
     ]
    }
   ],
   "source": [
    "balanceRatio = train_df.filter(sparkf.col('label') == 1).count() / train_df.count()"
   ]
  },
  {
   "cell_type": "code",
   "execution_count": 84,
   "metadata": {
    "colab": {
     "base_uri": "https://localhost:8080/"
    },
    "id": "57yxF9McFR0O",
    "outputId": "2e6e4f0d-3bb4-4448-e93a-9df5cff1aea9"
   },
   "outputs": [
    {
     "data": {
      "text/plain": [
       "0.002834285624495456"
      ]
     },
     "execution_count": 84,
     "metadata": {},
     "output_type": "execute_result"
    }
   ],
   "source": [
    "balanceRatio"
   ]
  },
  {
   "cell_type": "code",
   "execution_count": 85,
   "metadata": {
    "id": "yh8IraJgFWvX"
   },
   "outputs": [],
   "source": [
    "calWeight = sparkf.udf(lambda x: 1 * balanceRatio if x == 0 else (1 * (1.0 - balanceRatio)), DoubleType())"
   ]
  },
  {
   "cell_type": "code",
   "execution_count": 86,
   "metadata": {
    "id": "RlXlx1D1F4dg"
   },
   "outputs": [],
   "source": [
    "weighted_df = train_df.withColumn('class_weight', calWeight('label'))"
   ]
  },
  {
   "cell_type": "markdown",
   "metadata": {
    "id": "eTmn1_BWP09F"
   },
   "source": []
  },
  {
   "cell_type": "code",
   "execution_count": 87,
   "metadata": {
    "id": "1-zY8HgZ6vc0"
   },
   "outputs": [],
   "source": [
    "rf = RandomForestClassifier(labelCol='label', featuresCol='features', weightCol='class_weight', seed=49)"
   ]
  },
  {
   "cell_type": "code",
   "execution_count": 88,
   "metadata": {
    "id": "Z7qKvgiVMPeA"
   },
   "outputs": [
    {
     "name": "stderr",
     "output_type": "stream",
     "text": [
      "                                                                                \r"
     ]
    }
   ],
   "source": [
    "rfModel = rf.fit(weighted_df)"
   ]
  },
  {
   "cell_type": "code",
   "execution_count": 89,
   "metadata": {
    "id": "2ixQ3FTAMwB4"
   },
   "outputs": [],
   "source": [
    "result_df = rfModel.transform(test_df.dropna())"
   ]
  },
  {
   "cell_type": "code",
   "execution_count": 90,
   "metadata": {
    "colab": {
     "base_uri": "https://localhost:8080/"
    },
    "id": "Uw42lnZgQ50W",
    "outputId": "4b394e3a-166e-421a-9b58-bd42a8a4ae08"
   },
   "outputs": [
    {
     "name": "stderr",
     "output_type": "stream",
     "text": [
      "                                                                                \r"
     ]
    },
    {
     "name": "stdout",
     "output_type": "stream",
     "text": [
      "+-----+----------+\n",
      "|label|prediction|\n",
      "+-----+----------+\n",
      "|  1.0|       1.0|\n",
      "|  1.0|       1.0|\n",
      "|  1.0|       1.0|\n",
      "|  1.0|       0.0|\n",
      "|  1.0|       1.0|\n",
      "|  1.0|       1.0|\n",
      "|  1.0|       1.0|\n",
      "|  1.0|       1.0|\n",
      "|  1.0|       1.0|\n",
      "|  1.0|       1.0|\n",
      "|  1.0|       1.0|\n",
      "|  1.0|       1.0|\n",
      "|  1.0|       1.0|\n",
      "|  1.0|       1.0|\n",
      "|  1.0|       1.0|\n",
      "|  1.0|       1.0|\n",
      "|  1.0|       1.0|\n",
      "|  1.0|       1.0|\n",
      "|  1.0|       1.0|\n",
      "|  1.0|       1.0|\n",
      "+-----+----------+\n",
      "only showing top 20 rows\n",
      "\n"
     ]
    }
   ],
   "source": [
    "result_df.select(['label', 'prediction']).filter(result_df.label == 1).show()"
   ]
  },
  {
   "cell_type": "code",
   "execution_count": 91,
   "metadata": {
    "colab": {
     "base_uri": "https://localhost:8080/"
    },
    "id": "Uepn0XeVJJhn",
    "outputId": "ca50eb71-2ef7-474c-a960-3e22ffd6c542"
   },
   "outputs": [
    {
     "name": "stderr",
     "output_type": "stream",
     "text": [
      "                                                                                \r"
     ]
    },
    {
     "name": "stdout",
     "output_type": "stream",
     "text": [
      "+----------+------+\n",
      "|prediction| count|\n",
      "+----------+------+\n",
      "|       0.0|123993|\n",
      "|       1.0|  3304|\n",
      "+----------+------+\n",
      "\n"
     ]
    }
   ],
   "source": [
    "result_df.groupBy('prediction').count().show()"
   ]
  },
  {
   "cell_type": "code",
   "execution_count": 92,
   "metadata": {
    "colab": {
     "base_uri": "https://localhost:8080/"
    },
    "id": "7vqID1bwWNWl",
    "outputId": "04e02cd5-d212-4b07-b63f-0bb417d00e80"
   },
   "outputs": [
    {
     "name": "stderr",
     "output_type": "stream",
     "text": [
      "                                                                                \r"
     ]
    },
    {
     "name": "stdout",
     "output_type": "stream",
     "text": [
      "+------+-----+----------+------+\n",
      "|target|label|prediction| count|\n",
      "+------+-----+----------+------+\n",
      "|     1|  1.0|       0.0|    14|\n",
      "|     0|  0.0|       1.0|  2963|\n",
      "|     1|  1.0|       1.0|   341|\n",
      "|     0|  0.0|       0.0|123979|\n",
      "+------+-----+----------+------+\n",
      "\n"
     ]
    }
   ],
   "source": [
    "result_df.groupBy('target','label','prediction').count().show()"
   ]
  },
  {
   "cell_type": "code",
   "execution_count": 93,
   "metadata": {
    "id": "YTLbjdI3GEUt"
   },
   "outputs": [],
   "source": [
    "featureImportances = rfModel.featureImportances.toArray()"
   ]
  },
  {
   "cell_type": "code",
   "execution_count": 94,
   "metadata": {
    "id": "DBywO6ZeGERs"
   },
   "outputs": [],
   "source": [
    "def ExtractFeatureImp(featureImp, dataset, featuresCol):\n",
    "    list_extract = []\n",
    "    for i in dataset.schema[featuresCol].metadata[\"ml_attr\"][\"attrs\"]:\n",
    "        list_extract = list_extract + dataset.schema[featuresCol].metadata[\"ml_attr\"][\"attrs\"][i]\n",
    "    varlist = pd.DataFrame(list_extract)\n",
    "    varlist['score'] = varlist['idx'].apply(lambda x: featureImp[x])\n",
    "    return(varlist.sort_values('score', ascending = False))"
   ]
  },
  {
   "cell_type": "code",
   "execution_count": 95,
   "metadata": {
    "colab": {
     "base_uri": "https://localhost:8080/",
     "height": 206
    },
    "id": "GDFqJKh7GAmS",
    "outputId": "fd38efd9-81fc-4a24-c302-bcbe069b23ab"
   },
   "outputs": [
    {
     "data": {
      "text/html": [
       "<div>\n",
       "<style scoped>\n",
       "    .dataframe tbody tr th:only-of-type {\n",
       "        vertical-align: middle;\n",
       "    }\n",
       "\n",
       "    .dataframe tbody tr th {\n",
       "        vertical-align: top;\n",
       "    }\n",
       "\n",
       "    .dataframe thead th {\n",
       "        text-align: right;\n",
       "    }\n",
       "</style>\n",
       "<table border=\"1\" class=\"dataframe\">\n",
       "  <thead>\n",
       "    <tr style=\"text-align: right;\">\n",
       "      <th></th>\n",
       "      <th>idx</th>\n",
       "      <th>name</th>\n",
       "      <th>score</th>\n",
       "    </tr>\n",
       "  </thead>\n",
       "  <tbody>\n",
       "    <tr>\n",
       "      <th>2</th>\n",
       "      <td>2</td>\n",
       "      <td>hitNumber</td>\n",
       "      <td>0.587966</td>\n",
       "    </tr>\n",
       "    <tr>\n",
       "      <th>0</th>\n",
       "      <td>0</td>\n",
       "      <td>isImpression</td>\n",
       "      <td>0.220579</td>\n",
       "    </tr>\n",
       "    <tr>\n",
       "      <th>3</th>\n",
       "      <td>3</td>\n",
       "      <td>sum_hitaction_2</td>\n",
       "      <td>0.140890</td>\n",
       "    </tr>\n",
       "    <tr>\n",
       "      <th>4</th>\n",
       "      <td>4</td>\n",
       "      <td>timeOnSite</td>\n",
       "      <td>0.043752</td>\n",
       "    </tr>\n",
       "    <tr>\n",
       "      <th>1</th>\n",
       "      <td>1</td>\n",
       "      <td>newVisits</td>\n",
       "      <td>0.006813</td>\n",
       "    </tr>\n",
       "  </tbody>\n",
       "</table>\n",
       "</div>"
      ],
      "text/plain": [
       "   idx             name     score\n",
       "2    2        hitNumber  0.587966\n",
       "0    0     isImpression  0.220579\n",
       "3    3  sum_hitaction_2  0.140890\n",
       "4    4       timeOnSite  0.043752\n",
       "1    1        newVisits  0.006813"
      ]
     },
     "execution_count": 95,
     "metadata": {},
     "output_type": "execute_result"
    }
   ],
   "source": [
    "ExtractFeatureImp(featureImportances, result_df, \"features\").head(30)"
   ]
  },
  {
   "cell_type": "code",
   "execution_count": 96,
   "metadata": {
    "colab": {
     "base_uri": "https://localhost:8080/"
    },
    "id": "w6IBfpjKYck_",
    "outputId": "86ad38b9-c229-40ca-9841-6829c8a4e571"
   },
   "outputs": [
    {
     "data": {
      "text/plain": [
       "20"
      ]
     },
     "execution_count": 96,
     "metadata": {},
     "output_type": "execute_result"
    }
   ],
   "source": [
    "rfModel.getNumTrees"
   ]
  },
  {
   "cell_type": "markdown",
   "metadata": {
    "id": "yOFhocs9SXjM"
   },
   "source": [
    "# 5. Evaluation"
   ]
  },
  {
   "cell_type": "code",
   "execution_count": 97,
   "metadata": {
    "colab": {
     "base_uri": "https://localhost:8080/"
    },
    "id": "2R9hI32PSZwx",
    "outputId": "92f37197-c407-410f-88ed-c096c05f4bc2"
   },
   "outputs": [
    {
     "name": "stderr",
     "output_type": "stream",
     "text": [
      "                                                                                \r"
     ]
    },
    {
     "name": "stdout",
     "output_type": "stream",
     "text": [
      "Area Under ROC = 0.968611\n"
     ]
    }
   ],
   "source": [
    "evaluator = BinaryClassificationEvaluator(rawPredictionCol='prediction', labelCol='label', metricName='areaUnderROC')\n",
    "print('Area Under ROC = %g' % evaluator.evaluate(result_df))"
   ]
  },
  {
   "cell_type": "code",
   "execution_count": 98,
   "metadata": {
    "colab": {
     "base_uri": "https://localhost:8080/"
    },
    "id": "F87WSFDcSrcr",
    "outputId": "16214348-131b-4305-e3b5-a85d017217e8"
   },
   "outputs": [
    {
     "name": "stderr",
     "output_type": "stream",
     "text": [
      "                                                                                \r"
     ]
    },
    {
     "name": "stdout",
     "output_type": "stream",
     "text": [
      "F1 score = 0.9859\n"
     ]
    },
    {
     "name": "stderr",
     "output_type": "stream",
     "text": [
      "                                                                                \r"
     ]
    },
    {
     "name": "stdout",
     "output_type": "stream",
     "text": [
      "Precision = 0.999887\n"
     ]
    },
    {
     "name": "stderr",
     "output_type": "stream",
     "text": [
      "[Stage 259:================================================>    (184 + 4) / 200]\r"
     ]
    },
    {
     "name": "stdout",
     "output_type": "stream",
     "text": [
      "Recall = 0.976659\n"
     ]
    },
    {
     "name": "stderr",
     "output_type": "stream",
     "text": [
      "                                                                                \r"
     ]
    }
   ],
   "source": [
    "evaluator = MulticlassClassificationEvaluator(predictionCol='prediction', labelCol='label')\n",
    "print('F1 score = %g' % evaluator.evaluate(result_df))\n",
    "print('Precision = %g' % evaluator.evaluate(result_df, {evaluator.metricName: 'precisionByLabel'}))\n",
    "print('Recall = %g' % evaluator.evaluate(result_df, {evaluator.metricName: 'recallByLabel'}))"
   ]
  },
  {
   "cell_type": "markdown",
   "metadata": {
    "id": "Z5S0HOnVTh1O"
   },
   "source": [
    "## Tuning"
   ]
  },
  {
   "cell_type": "code",
   "execution_count": 99,
   "metadata": {
    "id": "CEGokYijThJn"
   },
   "outputs": [],
   "source": [
    "paramGrid = ParamGridBuilder() \\\n",
    ".addGrid(rf.numTrees, [20, 50, 100]) \\\n",
    ".build()"
   ]
  },
  {
   "cell_type": "code",
   "execution_count": 100,
   "metadata": {
    "id": "B2psdRLzXYUZ"
   },
   "outputs": [],
   "source": [
    "crossval = CrossValidator(estimator=rf, \n",
    "                          estimatorParamMaps=paramGrid, \n",
    "                          evaluator=BinaryClassificationEvaluator(), \n",
    "                          numFolds=5)"
   ]
  },
  {
   "cell_type": "code",
   "execution_count": 101,
   "metadata": {
    "id": "oKy5rZQ_YQeJ"
   },
   "outputs": [
    {
     "name": "stderr",
     "output_type": "stream",
     "text": [
      "                                                                                \r"
     ]
    }
   ],
   "source": [
    "cvModel = crossval.fit(weighted_df)"
   ]
  },
  {
   "cell_type": "code",
   "execution_count": 102,
   "metadata": {
    "id": "FP6vhz6gdlpa"
   },
   "outputs": [],
   "source": [
    "result_cv_df = cvModel.transform(test_df.dropna())"
   ]
  },
  {
   "cell_type": "code",
   "execution_count": 103,
   "metadata": {
    "id": "Yc8U6y09d1GX"
   },
   "outputs": [
    {
     "name": "stderr",
     "output_type": "stream",
     "text": [
      "                                                                                \r"
     ]
    },
    {
     "name": "stdout",
     "output_type": "stream",
     "text": [
      "Area Under ROC = 0.967541\n"
     ]
    }
   ],
   "source": [
    "evaluator = BinaryClassificationEvaluator(rawPredictionCol='prediction', labelCol='label', metricName='areaUnderROC')\n",
    "print('Area Under ROC = %g' % evaluator.evaluate(result_cv_df))"
   ]
  },
  {
   "cell_type": "markdown",
   "metadata": {
    "id": "E5cguk7rNi3F"
   },
   "source": [
    "# 6. Deployment"
   ]
  },
  {
   "cell_type": "markdown",
   "metadata": {
    "id": "lGJZf7BxNlvr"
   },
   "source": [
    "REST API"
   ]
  },
  {
   "cell_type": "code",
   "execution_count": null,
   "metadata": {
    "id": "vfHdTmOsGEaL"
   },
   "outputs": [],
   "source": []
  }
 ],
 "metadata": {
  "colab": {
   "collapsed_sections": [
    "hGSzhwXj3yeo",
    "lWRsq4oEOzoC"
   ],
   "provenance": []
  },
  "kernelspec": {
   "display_name": "Python 3 (ipykernel)",
   "language": "python",
   "name": "python3"
  },
  "language_info": {
   "codemirror_mode": {
    "name": "ipython",
    "version": 3
   },
   "file_extension": ".py",
   "mimetype": "text/x-python",
   "name": "python",
   "nbconvert_exporter": "python",
   "pygments_lexer": "ipython3",
   "version": "3.9.2"
  }
 },
 "nbformat": 4,
 "nbformat_minor": 4
}
