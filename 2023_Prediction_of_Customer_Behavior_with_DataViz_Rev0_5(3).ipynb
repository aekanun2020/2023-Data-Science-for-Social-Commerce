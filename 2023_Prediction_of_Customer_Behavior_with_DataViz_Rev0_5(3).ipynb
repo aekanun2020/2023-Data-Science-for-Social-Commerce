{
 "cells": [
  {
   "cell_type": "markdown",
   "metadata": {
    "id": "SYq4wBqPMeUF"
   },
   "source": [
    "# Setting up Spark Environment"
   ]
  },
  {
   "cell_type": "code",
   "execution_count": 1,
   "metadata": {},
   "outputs": [
    {
     "name": "stderr",
     "output_type": "stream",
     "text": [
      "23/05/22 05:35:10 WARN NativeCodeLoader: Unable to load native-hadoop library for your platform... using builtin-java classes where applicable\n",
      "Using Spark's default log4j profile: org/apache/spark/log4j-defaults.properties\n",
      "Setting default log level to \"WARN\".\n",
      "To adjust logging level use sc.setLogLevel(newLevel). For SparkR, use setLogLevel(newLevel).\n"
     ]
    }
   ],
   "source": [
    "from pyspark.sql import SparkSession\n",
    "\n",
    "spark = SparkSession.\\\n",
    "        builder.\\\n",
    "        appName(\"Social Commerce\").\\\n",
    "        master(\"spark://spark-master:7077\").\\\n",
    "        config(\"spark.executor.memory\", \"1000m\").\\\n",
    "        config(\"spark.executor.cores\", \"2\").\\\n",
    "        config(\"spark.cores.max\", \"6\").\\\n",
    "        getOrCreate()\n",
    "\n"
   ]
  },
  {
   "cell_type": "code",
   "execution_count": 2,
   "metadata": {
    "colab": {
     "base_uri": "https://localhost:8080/"
    },
    "id": "JlXR8MhDQ1_a",
    "outputId": "f8dd2e3d-82f0-4369-c558-8e56ebfdabb9"
   },
   "outputs": [],
   "source": [
    "# Install necessary packages\n",
    "#!pip install pyspark==3.2.0\n",
    "\n",
    "# Import necessary libraries\n",
    "from pyspark.sql import SparkSession\n",
    "from pyspark.ml.feature import VectorAssembler, StringIndexer\n",
    "from pyspark.ml.regression import DecisionTreeRegressor\n",
    "from pyspark.ml import Pipeline\n",
    "from pyspark.ml.evaluation import RegressionEvaluator\n",
    "\n",
    "# Create SparkSession\n",
    "# spark = SparkSession.builder.master(\"local[*]\").getOrCreate()"
   ]
  },
  {
   "cell_type": "markdown",
   "metadata": {
    "id": "7OpgrJBRMZ0_"
   },
   "source": [
    "## Libraries and Modules Installation"
   ]
  },
  {
   "cell_type": "code",
   "execution_count": 3,
   "metadata": {
    "id": "QeyucOzDM1hG"
   },
   "outputs": [],
   "source": [
    "#Spark\n",
    "from pyspark.sql import functions as sparkf\n",
    "from pyspark.sql import Window as W\n",
    "from pyspark.sql.types import *\n",
    "from pyspark.ml.feature import StringIndexer, OneHotEncoder\n",
    "from pyspark.mllib.linalg import Vectors\n",
    "from pyspark.ml.feature import VectorAssembler\n",
    "from pyspark.ml import Pipeline\n",
    "from pyspark.ml.classification import RandomForestClassifier\n",
    "from pyspark.ml.tuning import CrossValidator, ParamGridBuilder\n",
    "from pyspark.ml.evaluation import BinaryClassificationEvaluator, MulticlassClassificationEvaluator\n",
    "\n",
    "#Python\n",
    "import matplotlib.pyplot as plt\n",
    "import pandas as pd\n",
    "import numpy as np\n",
    "import sys\n",
    "from functools import reduce"
   ]
  },
  {
   "cell_type": "markdown",
   "metadata": {
    "id": "dGE-VXFnlt7O"
   },
   "source": [
    "## Data Collection"
   ]
  },
  {
   "cell_type": "code",
   "execution_count": 4,
   "metadata": {},
   "outputs": [],
   "source": [
    "#! apt-get update\n",
    "#! apt-get install wget -y"
   ]
  },
  {
   "cell_type": "code",
   "execution_count": 5,
   "metadata": {
    "colab": {
     "base_uri": "https://localhost:8080/"
    },
    "id": "GsltUxZza2LE",
    "outputId": "f800f159-1bd5-4bee-95e4-7b2153b1dc7b"
   },
   "outputs": [],
   "source": [
    "#! wget https://storage.googleapis.com/22may2023/testfunnel.csv\n",
    "#! wget https://storage.googleapis.com/aekanunlab/funneldata.zip"
   ]
  },
  {
   "cell_type": "code",
   "execution_count": 6,
   "metadata": {},
   "outputs": [],
   "source": [
    "#! apt-get update\n",
    "#! apt-get install unzip -y"
   ]
  },
  {
   "cell_type": "code",
   "execution_count": 7,
   "metadata": {
    "colab": {
     "base_uri": "https://localhost:8080/"
    },
    "id": "Rx162KwKEiD3",
    "outputId": "d0fc49c2-6f0c-429e-ea1a-cd265a36d2c2"
   },
   "outputs": [],
   "source": [
    "#! unzip funneldata.zip"
   ]
  },
  {
   "cell_type": "code",
   "execution_count": 8,
   "metadata": {
    "colab": {
     "base_uri": "https://localhost:8080/"
    },
    "id": "Fn4-dQJpaeTW",
    "outputId": "7eb1c96f-c361-491d-a90b-51b5ecf06e2f"
   },
   "outputs": [
    {
     "name": "stdout",
     "output_type": "stream",
     "text": [
      "source,isTrueDirect,sourceKeyword,medium,isVideoAd,fullVisitorId,visitId,date,newVisits,hitReferer,hitType,hitAction_type,hitNumber,hitHour,hitMin,timeMicroSec,v2ProductName,productListName,isClick,isImpression,sessionQualityDim,timeOnScreen,timeOnSite,totalTransactionRevenue\n",
      "google,true,(not provided),organic,,4988612949713423910,1489617360,20170315,,,PAGE,0,28,15,46,608771,Google Accent Insulated Stainless Steel Bottle,Category,,true,,,1897,\n",
      "google,true,(not provided),organic,,4988612949713423910,1489617360,20170315,,,PAGE,0,27,15,46,605064,Google Pocket Bluetooth Speaker,Category,,true,,,1897,\n"
     ]
    }
   ],
   "source": [
    "#! head -3 testfunnel.csv\n",
    "! head -3 000000000000"
   ]
  },
  {
   "cell_type": "code",
   "execution_count": 9,
   "metadata": {
    "colab": {
     "base_uri": "https://localhost:8080/"
    },
    "id": "ZPIGtjCqEFmS",
    "outputId": "c6601f29-9415-4059-9f93-b851d7f6d3d0"
   },
   "outputs": [
    {
     "name": "stdout",
     "output_type": "stream",
     "text": [
      "917815 000000000000\n"
     ]
    }
   ],
   "source": [
    "#! wc -l testfunnel.csv\n",
    "! wc -l 000000000000"
   ]
  },
  {
   "cell_type": "code",
   "execution_count": 10,
   "metadata": {
    "id": "DRVIPIh503XR"
   },
   "outputs": [
    {
     "name": "stderr",
     "output_type": "stream",
     "text": [
      "                                                                                \r"
     ]
    }
   ],
   "source": [
    "raw_df = spark.read.option('header','true')\\\n",
    ".option(\"inferSchema\" , \"true\")\\\n",
    ".format('csv').load('./000000000000')"
   ]
  },
  {
   "cell_type": "code",
   "execution_count": null,
   "metadata": {
    "id": "qMxsQ3M_lp-p"
   },
   "outputs": [],
   "source": []
  },
  {
   "cell_type": "markdown",
   "metadata": {
    "id": "hGSzhwXj3yeo"
   },
   "source": [
    "# 1. Business Understanding"
   ]
  },
  {
   "cell_type": "markdown",
   "metadata": {
    "id": "dDaZFOMCNNuP"
   },
   "source": [
    "**ธุรกิจต้องการได้รับ Machine Learning Model ที่ทำให้ทราบล่วงหน้าว่า ลูกค้าที่กำลังเลือกดูสินค้าอยู่ จะซื้อหรือไม่ซื้อสินค้าหรือไม่ (Binary Classification)**"
   ]
  },
  {
   "cell_type": "code",
   "execution_count": 11,
   "metadata": {},
   "outputs": [],
   "source": [
    "business_requiredCol_list = [] ### ให้รู้ว่านี่คือรายชื่อ col. ที่ ignore ไม่ได้ และในท้ายที่สุดต้องยอม clean null ด้วย .dropna() บน col. เหล่านี้\n",
    "highDispersion = []\n",
    "highScale = []\n",
    "ignoredCols = []\n",
    "featureTrainingCols = []"
   ]
  },
  {
   "cell_type": "code",
   "execution_count": 12,
   "metadata": {
    "id": "BO6KPVFqkV5l"
   },
   "outputs": [],
   "source": [
    "business_requiredCol_list = [x for x in raw_df.columns]"
   ]
  },
  {
   "cell_type": "code",
   "execution_count": 13,
   "metadata": {
    "id": "pzf467KYc88w"
   },
   "outputs": [],
   "source": [
    "customerBehaviorCol_list = [x for x in raw_df.columns \\\n",
    "         if ((x != 'sourceKeyword')&(x != 'fullVisitorId')&(x != 'isVideoAd')&(x != 'date')\\\n",
    "             &(x != 'isTrueDirect')&(x != 'hitHour')&(x != 'hitMin')&(x != 'isClick')\\\n",
    "             &(x != 'productListName')&(x != 'isImpression')&(x != 'sessionQualityDim')&(x != 'timeOnScreen')\\\n",
    "             &(x != 'hitReferer')&(x != 'medium')&(x != 'hitType'))]"
   ]
  },
  {
   "cell_type": "code",
   "execution_count": 14,
   "metadata": {},
   "outputs": [
    {
     "data": {
      "text/plain": [
       "['source',\n",
       " 'visitId',\n",
       " 'newVisits',\n",
       " 'hitAction_type',\n",
       " 'hitNumber',\n",
       " 'timeMicroSec',\n",
       " 'v2ProductName',\n",
       " 'timeOnSite',\n",
       " 'totalTransactionRevenue']"
      ]
     },
     "execution_count": 14,
     "metadata": {},
     "output_type": "execute_result"
    }
   ],
   "source": [
    "customerBehaviorCol_list"
   ]
  },
  {
   "cell_type": "code",
   "execution_count": null,
   "metadata": {},
   "outputs": [],
   "source": []
  },
  {
   "cell_type": "code",
   "execution_count": null,
   "metadata": {},
   "outputs": [],
   "source": []
  },
  {
   "cell_type": "markdown",
   "metadata": {
    "id": "QcjImh624NjJ"
   },
   "source": [
    "# 2. Data Understanding"
   ]
  },
  {
   "cell_type": "markdown",
   "metadata": {
    "id": "F9gMDPZFufhb"
   },
   "source": [
    "### 2.1 Previewing Data"
   ]
  },
  {
   "cell_type": "code",
   "execution_count": 15,
   "metadata": {
    "colab": {
     "base_uri": "https://localhost:8080/"
    },
    "id": "0p6sML4L34WI",
    "outputId": "0da9a6d0-7a78-4b20-f469-e751a26e5c4b"
   },
   "outputs": [
    {
     "name": "stderr",
     "output_type": "stream",
     "text": [
      "                                                                                \r"
     ]
    },
    {
     "data": {
      "text/plain": [
       "917814"
      ]
     },
     "execution_count": 15,
     "metadata": {},
     "output_type": "execute_result"
    }
   ],
   "source": [
    "raw_df.count()"
   ]
  },
  {
   "cell_type": "code",
   "execution_count": 16,
   "metadata": {
    "colab": {
     "base_uri": "https://localhost:8080/"
    },
    "id": "mBjlU_WkckEg",
    "outputId": "2cf2415b-db85-4847-c3e4-6cd1b16e49b4"
   },
   "outputs": [
    {
     "data": {
      "text/plain": [
       "24"
      ]
     },
     "execution_count": 16,
     "metadata": {},
     "output_type": "execute_result"
    }
   ],
   "source": [
    "len(raw_df.columns)"
   ]
  },
  {
   "cell_type": "code",
   "execution_count": 17,
   "metadata": {
    "colab": {
     "base_uri": "https://localhost:8080/",
     "height": 947
    },
    "id": "eoEDqDr809CE",
    "outputId": "12206dfc-72de-403c-b831-5de8fb12e224"
   },
   "outputs": [
    {
     "name": "stderr",
     "output_type": "stream",
     "text": [
      "                                                                                \r"
     ]
    },
    {
     "data": {
      "text/html": [
       "<div>\n",
       "<style scoped>\n",
       "    .dataframe tbody tr th:only-of-type {\n",
       "        vertical-align: middle;\n",
       "    }\n",
       "\n",
       "    .dataframe tbody tr th {\n",
       "        vertical-align: top;\n",
       "    }\n",
       "\n",
       "    .dataframe thead th {\n",
       "        text-align: right;\n",
       "    }\n",
       "</style>\n",
       "<table border=\"1\" class=\"dataframe\">\n",
       "  <thead>\n",
       "    <tr style=\"text-align: right;\">\n",
       "      <th></th>\n",
       "      <th>0</th>\n",
       "      <th>1</th>\n",
       "      <th>2</th>\n",
       "      <th>3</th>\n",
       "      <th>4</th>\n",
       "      <th>5</th>\n",
       "      <th>6</th>\n",
       "      <th>7</th>\n",
       "      <th>8</th>\n",
       "    </tr>\n",
       "  </thead>\n",
       "  <tbody>\n",
       "    <tr>\n",
       "      <th>source</th>\n",
       "      <td>youtube.com</td>\n",
       "      <td>m.facebook.com</td>\n",
       "      <td>(direct)</td>\n",
       "      <td>(direct)</td>\n",
       "      <td>(direct)</td>\n",
       "      <td>google</td>\n",
       "      <td>youtube.com</td>\n",
       "      <td>youtube.com</td>\n",
       "      <td>(direct)</td>\n",
       "    </tr>\n",
       "    <tr>\n",
       "      <th>isTrueDirect</th>\n",
       "      <td>None</td>\n",
       "      <td>None</td>\n",
       "      <td>True</td>\n",
       "      <td>None</td>\n",
       "      <td>None</td>\n",
       "      <td>None</td>\n",
       "      <td>None</td>\n",
       "      <td>None</td>\n",
       "      <td>True</td>\n",
       "    </tr>\n",
       "    <tr>\n",
       "      <th>sourceKeyword</th>\n",
       "      <td>None</td>\n",
       "      <td>None</td>\n",
       "      <td>None</td>\n",
       "      <td>None</td>\n",
       "      <td>None</td>\n",
       "      <td>(not provided)</td>\n",
       "      <td>None</td>\n",
       "      <td>None</td>\n",
       "      <td>None</td>\n",
       "    </tr>\n",
       "    <tr>\n",
       "      <th>medium</th>\n",
       "      <td>referral</td>\n",
       "      <td>referral</td>\n",
       "      <td>(none)</td>\n",
       "      <td>(none)</td>\n",
       "      <td>(none)</td>\n",
       "      <td>organic</td>\n",
       "      <td>referral</td>\n",
       "      <td>referral</td>\n",
       "      <td>(none)</td>\n",
       "    </tr>\n",
       "    <tr>\n",
       "      <th>isVideoAd</th>\n",
       "      <td>None</td>\n",
       "      <td>None</td>\n",
       "      <td>None</td>\n",
       "      <td>None</td>\n",
       "      <td>None</td>\n",
       "      <td>None</td>\n",
       "      <td>None</td>\n",
       "      <td>None</td>\n",
       "      <td>None</td>\n",
       "    </tr>\n",
       "    <tr>\n",
       "      <th>fullVisitorId</th>\n",
       "      <td>5006369675929398549</td>\n",
       "      <td>5060421324038761897</td>\n",
       "      <td>5167538107767506402</td>\n",
       "      <td>5223607251994179242</td>\n",
       "      <td>522512297951875499</td>\n",
       "      <td>5396487716858800551</td>\n",
       "      <td>5425251065754493093</td>\n",
       "      <td>5461024848863764873</td>\n",
       "      <td>5470058724579220258</td>\n",
       "    </tr>\n",
       "    <tr>\n",
       "      <th>visitId</th>\n",
       "      <td>1501210974</td>\n",
       "      <td>1480433336</td>\n",
       "      <td>1492145806</td>\n",
       "      <td>1471629165</td>\n",
       "      <td>1479008574</td>\n",
       "      <td>1470680820</td>\n",
       "      <td>1484836469</td>\n",
       "      <td>1478366257</td>\n",
       "      <td>1500242094</td>\n",
       "    </tr>\n",
       "    <tr>\n",
       "      <th>date</th>\n",
       "      <td>20170727</td>\n",
       "      <td>20161129</td>\n",
       "      <td>20170413</td>\n",
       "      <td>20160819</td>\n",
       "      <td>20161112</td>\n",
       "      <td>20160808</td>\n",
       "      <td>20170119</td>\n",
       "      <td>20161105</td>\n",
       "      <td>20170716</td>\n",
       "    </tr>\n",
       "    <tr>\n",
       "      <th>newVisits</th>\n",
       "      <td>1.0</td>\n",
       "      <td>1.0</td>\n",
       "      <td>NaN</td>\n",
       "      <td>1.0</td>\n",
       "      <td>1.0</td>\n",
       "      <td>1.0</td>\n",
       "      <td>1.0</td>\n",
       "      <td>1.0</td>\n",
       "      <td>NaN</td>\n",
       "    </tr>\n",
       "    <tr>\n",
       "      <th>hitReferer</th>\n",
       "      <td>https://www.youtube.com/intl/fr-CA/yt/about/</td>\n",
       "      <td>None</td>\n",
       "      <td>None</td>\n",
       "      <td>None</td>\n",
       "      <td>None</td>\n",
       "      <td>https://www.google.com/</td>\n",
       "      <td>https://www.youtube.com/yt/about/</td>\n",
       "      <td>None</td>\n",
       "      <td>None</td>\n",
       "    </tr>\n",
       "    <tr>\n",
       "      <th>hitType</th>\n",
       "      <td>PAGE</td>\n",
       "      <td>PAGE</td>\n",
       "      <td>PAGE</td>\n",
       "      <td>PAGE</td>\n",
       "      <td>PAGE</td>\n",
       "      <td>PAGE</td>\n",
       "      <td>PAGE</td>\n",
       "      <td>PAGE</td>\n",
       "      <td>PAGE</td>\n",
       "    </tr>\n",
       "    <tr>\n",
       "      <th>hitAction_type</th>\n",
       "      <td>0</td>\n",
       "      <td>0</td>\n",
       "      <td>0</td>\n",
       "      <td>0</td>\n",
       "      <td>0</td>\n",
       "      <td>0</td>\n",
       "      <td>0</td>\n",
       "      <td>0</td>\n",
       "      <td>0</td>\n",
       "    </tr>\n",
       "    <tr>\n",
       "      <th>hitNumber</th>\n",
       "      <td>1</td>\n",
       "      <td>12</td>\n",
       "      <td>21</td>\n",
       "      <td>3</td>\n",
       "      <td>26</td>\n",
       "      <td>1</td>\n",
       "      <td>1</td>\n",
       "      <td>3</td>\n",
       "      <td>2</td>\n",
       "    </tr>\n",
       "    <tr>\n",
       "      <th>hitHour</th>\n",
       "      <td>20</td>\n",
       "      <td>7</td>\n",
       "      <td>22</td>\n",
       "      <td>10</td>\n",
       "      <td>19</td>\n",
       "      <td>11</td>\n",
       "      <td>6</td>\n",
       "      <td>10</td>\n",
       "      <td>15</td>\n",
       "    </tr>\n",
       "    <tr>\n",
       "      <th>hitMin</th>\n",
       "      <td>2</td>\n",
       "      <td>35</td>\n",
       "      <td>11</td>\n",
       "      <td>53</td>\n",
       "      <td>46</td>\n",
       "      <td>27</td>\n",
       "      <td>34</td>\n",
       "      <td>18</td>\n",
       "      <td>1</td>\n",
       "    </tr>\n",
       "    <tr>\n",
       "      <th>timeMicroSec</th>\n",
       "      <td>0</td>\n",
       "      <td>373591</td>\n",
       "      <td>884529</td>\n",
       "      <td>24389</td>\n",
       "      <td>210740</td>\n",
       "      <td>0</td>\n",
       "      <td>0</td>\n",
       "      <td>48305</td>\n",
       "      <td>419500</td>\n",
       "    </tr>\n",
       "    <tr>\n",
       "      <th>v2ProductName</th>\n",
       "      <td>YouTube Men's Vintage Henley</td>\n",
       "      <td>Rubber Grip Ballpoint Pen 4 Pack</td>\n",
       "      <td>Google 25 oz Blue Stainless Steel Bottle</td>\n",
       "      <td>Google Lunch Bag</td>\n",
       "      <td>Ballpoint LED Light Pen</td>\n",
       "      <td>Keyboard DOT Sticker</td>\n",
       "      <td>YouTube Trucker Hat</td>\n",
       "      <td>YouTube Men's 3/4 Sleeve Henley</td>\n",
       "      <td>Google 17 oz Double Wall Stainless Steel Insul...</td>\n",
       "    </tr>\n",
       "    <tr>\n",
       "      <th>productListName</th>\n",
       "      <td>Category</td>\n",
       "      <td>Category</td>\n",
       "      <td>Category</td>\n",
       "      <td>Category</td>\n",
       "      <td>Category</td>\n",
       "      <td>Category</td>\n",
       "      <td>Category</td>\n",
       "      <td>Category</td>\n",
       "      <td>Category</td>\n",
       "    </tr>\n",
       "    <tr>\n",
       "      <th>isClick</th>\n",
       "      <td>None</td>\n",
       "      <td>None</td>\n",
       "      <td>None</td>\n",
       "      <td>None</td>\n",
       "      <td>None</td>\n",
       "      <td>None</td>\n",
       "      <td>None</td>\n",
       "      <td>None</td>\n",
       "      <td>None</td>\n",
       "    </tr>\n",
       "    <tr>\n",
       "      <th>isImpression</th>\n",
       "      <td>True</td>\n",
       "      <td>True</td>\n",
       "      <td>True</td>\n",
       "      <td>True</td>\n",
       "      <td>True</td>\n",
       "      <td>True</td>\n",
       "      <td>True</td>\n",
       "      <td>True</td>\n",
       "      <td>True</td>\n",
       "    </tr>\n",
       "    <tr>\n",
       "      <th>sessionQualityDim</th>\n",
       "      <td>1.0</td>\n",
       "      <td>NaN</td>\n",
       "      <td>NaN</td>\n",
       "      <td>NaN</td>\n",
       "      <td>NaN</td>\n",
       "      <td>NaN</td>\n",
       "      <td>NaN</td>\n",
       "      <td>NaN</td>\n",
       "      <td>87.0</td>\n",
       "    </tr>\n",
       "    <tr>\n",
       "      <th>timeOnScreen</th>\n",
       "      <td>None</td>\n",
       "      <td>None</td>\n",
       "      <td>None</td>\n",
       "      <td>None</td>\n",
       "      <td>None</td>\n",
       "      <td>None</td>\n",
       "      <td>None</td>\n",
       "      <td>None</td>\n",
       "      <td>None</td>\n",
       "    </tr>\n",
       "    <tr>\n",
       "      <th>timeOnSite</th>\n",
       "      <td>NaN</td>\n",
       "      <td>389.0</td>\n",
       "      <td>980.0</td>\n",
       "      <td>3416.0</td>\n",
       "      <td>211.0</td>\n",
       "      <td>57.0</td>\n",
       "      <td>67.0</td>\n",
       "      <td>170.0</td>\n",
       "      <td>953.0</td>\n",
       "    </tr>\n",
       "    <tr>\n",
       "      <th>totalTransactionRevenue</th>\n",
       "      <td>NaN</td>\n",
       "      <td>NaN</td>\n",
       "      <td>NaN</td>\n",
       "      <td>186860000.0</td>\n",
       "      <td>NaN</td>\n",
       "      <td>NaN</td>\n",
       "      <td>NaN</td>\n",
       "      <td>NaN</td>\n",
       "      <td>31500000.0</td>\n",
       "    </tr>\n",
       "  </tbody>\n",
       "</table>\n",
       "</div>"
      ],
      "text/plain": [
       "                                                                    0  \\\n",
       "source                                                    youtube.com   \n",
       "isTrueDirect                                                     None   \n",
       "sourceKeyword                                                    None   \n",
       "medium                                                       referral   \n",
       "isVideoAd                                                        None   \n",
       "fullVisitorId                                     5006369675929398549   \n",
       "visitId                                                    1501210974   \n",
       "date                                                         20170727   \n",
       "newVisits                                                         1.0   \n",
       "hitReferer               https://www.youtube.com/intl/fr-CA/yt/about/   \n",
       "hitType                                                          PAGE   \n",
       "hitAction_type                                                      0   \n",
       "hitNumber                                                           1   \n",
       "hitHour                                                            20   \n",
       "hitMin                                                              2   \n",
       "timeMicroSec                                                        0   \n",
       "v2ProductName                            YouTube Men's Vintage Henley   \n",
       "productListName                                              Category   \n",
       "isClick                                                          None   \n",
       "isImpression                                                     True   \n",
       "sessionQualityDim                                                 1.0   \n",
       "timeOnScreen                                                     None   \n",
       "timeOnSite                                                        NaN   \n",
       "totalTransactionRevenue                                           NaN   \n",
       "\n",
       "                                                        1  \\\n",
       "source                                     m.facebook.com   \n",
       "isTrueDirect                                         None   \n",
       "sourceKeyword                                        None   \n",
       "medium                                           referral   \n",
       "isVideoAd                                            None   \n",
       "fullVisitorId                         5060421324038761897   \n",
       "visitId                                        1480433336   \n",
       "date                                             20161129   \n",
       "newVisits                                             1.0   \n",
       "hitReferer                                           None   \n",
       "hitType                                              PAGE   \n",
       "hitAction_type                                          0   \n",
       "hitNumber                                              12   \n",
       "hitHour                                                 7   \n",
       "hitMin                                                 35   \n",
       "timeMicroSec                                       373591   \n",
       "v2ProductName            Rubber Grip Ballpoint Pen 4 Pack   \n",
       "productListName                                  Category   \n",
       "isClick                                              None   \n",
       "isImpression                                         True   \n",
       "sessionQualityDim                                     NaN   \n",
       "timeOnScreen                                         None   \n",
       "timeOnSite                                          389.0   \n",
       "totalTransactionRevenue                               NaN   \n",
       "\n",
       "                                                                2  \\\n",
       "source                                                   (direct)   \n",
       "isTrueDirect                                                 True   \n",
       "sourceKeyword                                                None   \n",
       "medium                                                     (none)   \n",
       "isVideoAd                                                    None   \n",
       "fullVisitorId                                 5167538107767506402   \n",
       "visitId                                                1492145806   \n",
       "date                                                     20170413   \n",
       "newVisits                                                     NaN   \n",
       "hitReferer                                                   None   \n",
       "hitType                                                      PAGE   \n",
       "hitAction_type                                                  0   \n",
       "hitNumber                                                      21   \n",
       "hitHour                                                        22   \n",
       "hitMin                                                         11   \n",
       "timeMicroSec                                               884529   \n",
       "v2ProductName            Google 25 oz Blue Stainless Steel Bottle   \n",
       "productListName                                          Category   \n",
       "isClick                                                      None   \n",
       "isImpression                                                 True   \n",
       "sessionQualityDim                                             NaN   \n",
       "timeOnScreen                                                 None   \n",
       "timeOnSite                                                  980.0   \n",
       "totalTransactionRevenue                                       NaN   \n",
       "\n",
       "                                           3                        4  \\\n",
       "source                              (direct)                 (direct)   \n",
       "isTrueDirect                            None                     None   \n",
       "sourceKeyword                           None                     None   \n",
       "medium                                (none)                   (none)   \n",
       "isVideoAd                               None                     None   \n",
       "fullVisitorId            5223607251994179242       522512297951875499   \n",
       "visitId                           1471629165               1479008574   \n",
       "date                                20160819                 20161112   \n",
       "newVisits                                1.0                      1.0   \n",
       "hitReferer                              None                     None   \n",
       "hitType                                 PAGE                     PAGE   \n",
       "hitAction_type                             0                        0   \n",
       "hitNumber                                  3                       26   \n",
       "hitHour                                   10                       19   \n",
       "hitMin                                    53                       46   \n",
       "timeMicroSec                           24389                   210740   \n",
       "v2ProductName               Google Lunch Bag  Ballpoint LED Light Pen   \n",
       "productListName                     Category                 Category   \n",
       "isClick                                 None                     None   \n",
       "isImpression                            True                     True   \n",
       "sessionQualityDim                        NaN                      NaN   \n",
       "timeOnScreen                            None                     None   \n",
       "timeOnSite                            3416.0                    211.0   \n",
       "totalTransactionRevenue          186860000.0                      NaN   \n",
       "\n",
       "                                               5  \\\n",
       "source                                    google   \n",
       "isTrueDirect                                None   \n",
       "sourceKeyword                     (not provided)   \n",
       "medium                                   organic   \n",
       "isVideoAd                                   None   \n",
       "fullVisitorId                5396487716858800551   \n",
       "visitId                               1470680820   \n",
       "date                                    20160808   \n",
       "newVisits                                    1.0   \n",
       "hitReferer               https://www.google.com/   \n",
       "hitType                                     PAGE   \n",
       "hitAction_type                                 0   \n",
       "hitNumber                                      1   \n",
       "hitHour                                       11   \n",
       "hitMin                                        27   \n",
       "timeMicroSec                                   0   \n",
       "v2ProductName               Keyboard DOT Sticker   \n",
       "productListName                         Category   \n",
       "isClick                                     None   \n",
       "isImpression                                True   \n",
       "sessionQualityDim                            NaN   \n",
       "timeOnScreen                                None   \n",
       "timeOnSite                                  57.0   \n",
       "totalTransactionRevenue                      NaN   \n",
       "\n",
       "                                                         6  \\\n",
       "source                                         youtube.com   \n",
       "isTrueDirect                                          None   \n",
       "sourceKeyword                                         None   \n",
       "medium                                            referral   \n",
       "isVideoAd                                             None   \n",
       "fullVisitorId                          5425251065754493093   \n",
       "visitId                                         1484836469   \n",
       "date                                              20170119   \n",
       "newVisits                                              1.0   \n",
       "hitReferer               https://www.youtube.com/yt/about/   \n",
       "hitType                                               PAGE   \n",
       "hitAction_type                                           0   \n",
       "hitNumber                                                1   \n",
       "hitHour                                                  6   \n",
       "hitMin                                                  34   \n",
       "timeMicroSec                                             0   \n",
       "v2ProductName                          YouTube Trucker Hat   \n",
       "productListName                                   Category   \n",
       "isClick                                               None   \n",
       "isImpression                                          True   \n",
       "sessionQualityDim                                      NaN   \n",
       "timeOnScreen                                          None   \n",
       "timeOnSite                                            67.0   \n",
       "totalTransactionRevenue                                NaN   \n",
       "\n",
       "                                                       7  \\\n",
       "source                                       youtube.com   \n",
       "isTrueDirect                                        None   \n",
       "sourceKeyword                                       None   \n",
       "medium                                          referral   \n",
       "isVideoAd                                           None   \n",
       "fullVisitorId                        5461024848863764873   \n",
       "visitId                                       1478366257   \n",
       "date                                            20161105   \n",
       "newVisits                                            1.0   \n",
       "hitReferer                                          None   \n",
       "hitType                                             PAGE   \n",
       "hitAction_type                                         0   \n",
       "hitNumber                                              3   \n",
       "hitHour                                               10   \n",
       "hitMin                                                18   \n",
       "timeMicroSec                                       48305   \n",
       "v2ProductName            YouTube Men's 3/4 Sleeve Henley   \n",
       "productListName                                 Category   \n",
       "isClick                                             None   \n",
       "isImpression                                        True   \n",
       "sessionQualityDim                                    NaN   \n",
       "timeOnScreen                                        None   \n",
       "timeOnSite                                         170.0   \n",
       "totalTransactionRevenue                              NaN   \n",
       "\n",
       "                                                                         8  \n",
       "source                                                            (direct)  \n",
       "isTrueDirect                                                          True  \n",
       "sourceKeyword                                                         None  \n",
       "medium                                                              (none)  \n",
       "isVideoAd                                                             None  \n",
       "fullVisitorId                                          5470058724579220258  \n",
       "visitId                                                         1500242094  \n",
       "date                                                              20170716  \n",
       "newVisits                                                              NaN  \n",
       "hitReferer                                                            None  \n",
       "hitType                                                               PAGE  \n",
       "hitAction_type                                                           0  \n",
       "hitNumber                                                                2  \n",
       "hitHour                                                                 15  \n",
       "hitMin                                                                   1  \n",
       "timeMicroSec                                                        419500  \n",
       "v2ProductName            Google 17 oz Double Wall Stainless Steel Insul...  \n",
       "productListName                                                   Category  \n",
       "isClick                                                               None  \n",
       "isImpression                                                          True  \n",
       "sessionQualityDim                                                     87.0  \n",
       "timeOnScreen                                                          None  \n",
       "timeOnSite                                                           953.0  \n",
       "totalTransactionRevenue                                         31500000.0  "
      ]
     },
     "execution_count": 17,
     "metadata": {},
     "output_type": "execute_result"
    }
   ],
   "source": [
    "raw_df.sample(0.00001).toPandas().transpose()"
   ]
  },
  {
   "cell_type": "code",
   "execution_count": 18,
   "metadata": {
    "colab": {
     "base_uri": "https://localhost:8080/"
    },
    "id": "eH8yD5VU4X2_",
    "outputId": "e01aad4a-0439-4e36-8096-ed55b0bf9d00"
   },
   "outputs": [
    {
     "name": "stdout",
     "output_type": "stream",
     "text": [
      "root\n",
      " |-- source: string (nullable = true)\n",
      " |-- isTrueDirect: boolean (nullable = true)\n",
      " |-- sourceKeyword: string (nullable = true)\n",
      " |-- medium: string (nullable = true)\n",
      " |-- isVideoAd: boolean (nullable = true)\n",
      " |-- fullVisitorId: long (nullable = true)\n",
      " |-- visitId: integer (nullable = true)\n",
      " |-- date: integer (nullable = true)\n",
      " |-- newVisits: integer (nullable = true)\n",
      " |-- hitReferer: string (nullable = true)\n",
      " |-- hitType: string (nullable = true)\n",
      " |-- hitAction_type: integer (nullable = true)\n",
      " |-- hitNumber: integer (nullable = true)\n",
      " |-- hitHour: integer (nullable = true)\n",
      " |-- hitMin: integer (nullable = true)\n",
      " |-- timeMicroSec: integer (nullable = true)\n",
      " |-- v2ProductName: string (nullable = true)\n",
      " |-- productListName: string (nullable = true)\n",
      " |-- isClick: boolean (nullable = true)\n",
      " |-- isImpression: boolean (nullable = true)\n",
      " |-- sessionQualityDim: integer (nullable = true)\n",
      " |-- timeOnScreen: string (nullable = true)\n",
      " |-- timeOnSite: integer (nullable = true)\n",
      " |-- totalTransactionRevenue: long (nullable = true)\n",
      "\n"
     ]
    }
   ],
   "source": [
    "raw_df.printSchema()"
   ]
  },
  {
   "cell_type": "markdown",
   "metadata": {
    "id": "aYgYTdPgPcai"
   },
   "source": [
    "### 2.2 Basic Stat เพื่อพิจารณาในระดับเบื้องต้นเกี่ยวกับ Null, Abnormal ซึ่งดูจาก Value Ranges \n",
    "\n"
   ]
  },
  {
   "cell_type": "code",
   "execution_count": 19,
   "metadata": {
    "colab": {
     "base_uri": "https://localhost:8080/",
     "height": 708
    },
    "id": "OITcXS_l4S9n",
    "outputId": "a97881b3-cc1a-4348-9278-27c3fdbb9ca3"
   },
   "outputs": [
    {
     "name": "stderr",
     "output_type": "stream",
     "text": [
      "                                                                                \r"
     ]
    },
    {
     "data": {
      "text/html": [
       "<div>\n",
       "<style scoped>\n",
       "    .dataframe tbody tr th:only-of-type {\n",
       "        vertical-align: middle;\n",
       "    }\n",
       "\n",
       "    .dataframe tbody tr th {\n",
       "        vertical-align: top;\n",
       "    }\n",
       "\n",
       "    .dataframe thead th {\n",
       "        text-align: right;\n",
       "    }\n",
       "</style>\n",
       "<table border=\"1\" class=\"dataframe\">\n",
       "  <thead>\n",
       "    <tr style=\"text-align: right;\">\n",
       "      <th></th>\n",
       "      <th>0</th>\n",
       "      <th>1</th>\n",
       "      <th>2</th>\n",
       "      <th>3</th>\n",
       "      <th>4</th>\n",
       "    </tr>\n",
       "  </thead>\n",
       "  <tbody>\n",
       "    <tr>\n",
       "      <th>summary</th>\n",
       "      <td>count</td>\n",
       "      <td>mean</td>\n",
       "      <td>stddev</td>\n",
       "      <td>min</td>\n",
       "      <td>max</td>\n",
       "    </tr>\n",
       "    <tr>\n",
       "      <th>source</th>\n",
       "      <td>917814</td>\n",
       "      <td>None</td>\n",
       "      <td>None</td>\n",
       "      <td>(direct)</td>\n",
       "      <td>youtube.com</td>\n",
       "    </tr>\n",
       "    <tr>\n",
       "      <th>sourceKeyword</th>\n",
       "      <td>322031</td>\n",
       "      <td>None</td>\n",
       "      <td>None</td>\n",
       "      <td>(Remarketing/Content targeting)</td>\n",
       "      <td>yyoutubr</td>\n",
       "    </tr>\n",
       "    <tr>\n",
       "      <th>medium</th>\n",
       "      <td>917814</td>\n",
       "      <td>None</td>\n",
       "      <td>None</td>\n",
       "      <td>(none)</td>\n",
       "      <td>referral</td>\n",
       "    </tr>\n",
       "    <tr>\n",
       "      <th>fullVisitorId</th>\n",
       "      <td>917814</td>\n",
       "      <td>4.7679506549928141E18</td>\n",
       "      <td>1.42707561410277837E18</td>\n",
       "      <td>514359656957582</td>\n",
       "      <td>5487531102128447544</td>\n",
       "    </tr>\n",
       "    <tr>\n",
       "      <th>visitId</th>\n",
       "      <td>917814</td>\n",
       "      <td>1.4828991660307045E9</td>\n",
       "      <td>9692290.975135244</td>\n",
       "      <td>1470037326</td>\n",
       "      <td>1501656575</td>\n",
       "    </tr>\n",
       "    <tr>\n",
       "      <th>date</th>\n",
       "      <td>917814</td>\n",
       "      <td>2.0165139267192483E7</td>\n",
       "      <td>4699.035428253382</td>\n",
       "      <td>20160801</td>\n",
       "      <td>20170801</td>\n",
       "    </tr>\n",
       "    <tr>\n",
       "      <th>newVisits</th>\n",
       "      <td>647359</td>\n",
       "      <td>1.0</td>\n",
       "      <td>0.0</td>\n",
       "      <td>1</td>\n",
       "      <td>1</td>\n",
       "    </tr>\n",
       "    <tr>\n",
       "      <th>hitReferer</th>\n",
       "      <td>119959</td>\n",
       "      <td>None</td>\n",
       "      <td>None</td>\n",
       "      <td>http://googleads.g.doubleclick.net/pagead/ads?...</td>\n",
       "      <td>https://youtube.com/yt/about/copyright/</td>\n",
       "    </tr>\n",
       "    <tr>\n",
       "      <th>hitType</th>\n",
       "      <td>917814</td>\n",
       "      <td>None</td>\n",
       "      <td>None</td>\n",
       "      <td>EVENT</td>\n",
       "      <td>PAGE</td>\n",
       "    </tr>\n",
       "    <tr>\n",
       "      <th>hitAction_type</th>\n",
       "      <td>917814</td>\n",
       "      <td>0.18108135199506653</td>\n",
       "      <td>0.7980562985767482</td>\n",
       "      <td>0</td>\n",
       "      <td>6</td>\n",
       "    </tr>\n",
       "    <tr>\n",
       "      <th>hitNumber</th>\n",
       "      <td>917814</td>\n",
       "      <td>11.936170073675058</td>\n",
       "      <td>19.048950870892316</td>\n",
       "      <td>1</td>\n",
       "      <td>239</td>\n",
       "    </tr>\n",
       "    <tr>\n",
       "      <th>hitHour</th>\n",
       "      <td>917814</td>\n",
       "      <td>12.427243428407063</td>\n",
       "      <td>5.993956058897788</td>\n",
       "      <td>0</td>\n",
       "      <td>23</td>\n",
       "    </tr>\n",
       "    <tr>\n",
       "      <th>hitMin</th>\n",
       "      <td>917814</td>\n",
       "      <td>29.86619620097318</td>\n",
       "      <td>17.25780109935462</td>\n",
       "      <td>0</td>\n",
       "      <td>59</td>\n",
       "    </tr>\n",
       "    <tr>\n",
       "      <th>timeMicroSec</th>\n",
       "      <td>917814</td>\n",
       "      <td>291059.62081097043</td>\n",
       "      <td>554542.5064780046</td>\n",
       "      <td>0</td>\n",
       "      <td>9963065</td>\n",
       "    </tr>\n",
       "    <tr>\n",
       "      <th>v2ProductName</th>\n",
       "      <td>917814</td>\n",
       "      <td>None</td>\n",
       "      <td>None</td>\n",
       "      <td>\"7\"\" Dog Frisbee\"</td>\n",
       "      <td>YouTube Youth Short Sleeve Tee Red</td>\n",
       "    </tr>\n",
       "    <tr>\n",
       "      <th>productListName</th>\n",
       "      <td>917814</td>\n",
       "      <td>None</td>\n",
       "      <td>None</td>\n",
       "      <td>(not set)</td>\n",
       "      <td>Search Results</td>\n",
       "    </tr>\n",
       "    <tr>\n",
       "      <th>sessionQualityDim</th>\n",
       "      <td>61782</td>\n",
       "      <td>18.657068401799876</td>\n",
       "      <td>27.512960054299246</td>\n",
       "      <td>1</td>\n",
       "      <td>94</td>\n",
       "    </tr>\n",
       "    <tr>\n",
       "      <th>timeOnScreen</th>\n",
       "      <td>0</td>\n",
       "      <td>None</td>\n",
       "      <td>None</td>\n",
       "      <td>None</td>\n",
       "      <td>None</td>\n",
       "    </tr>\n",
       "    <tr>\n",
       "      <th>timeOnSite</th>\n",
       "      <td>850509</td>\n",
       "      <td>660.041210616231</td>\n",
       "      <td>930.0535167228323</td>\n",
       "      <td>1</td>\n",
       "      <td>9963</td>\n",
       "    </tr>\n",
       "    <tr>\n",
       "      <th>totalTransactionRevenue</th>\n",
       "      <td>70300</td>\n",
       "      <td>1.978806652916074E8</td>\n",
       "      <td>4.625284848391805E8</td>\n",
       "      <td>6980000</td>\n",
       "      <td>5608400000</td>\n",
       "    </tr>\n",
       "  </tbody>\n",
       "</table>\n",
       "</div>"
      ],
      "text/plain": [
       "                              0                      1  \\\n",
       "summary                   count                   mean   \n",
       "source                   917814                   None   \n",
       "sourceKeyword            322031                   None   \n",
       "medium                   917814                   None   \n",
       "fullVisitorId            917814  4.7679506549928141E18   \n",
       "visitId                  917814   1.4828991660307045E9   \n",
       "date                     917814   2.0165139267192483E7   \n",
       "newVisits                647359                    1.0   \n",
       "hitReferer               119959                   None   \n",
       "hitType                  917814                   None   \n",
       "hitAction_type           917814    0.18108135199506653   \n",
       "hitNumber                917814     11.936170073675058   \n",
       "hitHour                  917814     12.427243428407063   \n",
       "hitMin                   917814      29.86619620097318   \n",
       "timeMicroSec             917814     291059.62081097043   \n",
       "v2ProductName            917814                   None   \n",
       "productListName          917814                   None   \n",
       "sessionQualityDim         61782     18.657068401799876   \n",
       "timeOnScreen                  0                   None   \n",
       "timeOnSite               850509       660.041210616231   \n",
       "totalTransactionRevenue   70300    1.978806652916074E8   \n",
       "\n",
       "                                              2  \\\n",
       "summary                                  stddev   \n",
       "source                                     None   \n",
       "sourceKeyword                              None   \n",
       "medium                                     None   \n",
       "fullVisitorId            1.42707561410277837E18   \n",
       "visitId                       9692290.975135244   \n",
       "date                          4699.035428253382   \n",
       "newVisits                                   0.0   \n",
       "hitReferer                                 None   \n",
       "hitType                                    None   \n",
       "hitAction_type               0.7980562985767482   \n",
       "hitNumber                    19.048950870892316   \n",
       "hitHour                       5.993956058897788   \n",
       "hitMin                        17.25780109935462   \n",
       "timeMicroSec                  554542.5064780046   \n",
       "v2ProductName                              None   \n",
       "productListName                            None   \n",
       "sessionQualityDim            27.512960054299246   \n",
       "timeOnScreen                               None   \n",
       "timeOnSite                    930.0535167228323   \n",
       "totalTransactionRevenue     4.625284848391805E8   \n",
       "\n",
       "                                                                         3  \\\n",
       "summary                                                                min   \n",
       "source                                                            (direct)   \n",
       "sourceKeyword                              (Remarketing/Content targeting)   \n",
       "medium                                                              (none)   \n",
       "fullVisitorId                                              514359656957582   \n",
       "visitId                                                         1470037326   \n",
       "date                                                              20160801   \n",
       "newVisits                                                                1   \n",
       "hitReferer               http://googleads.g.doubleclick.net/pagead/ads?...   \n",
       "hitType                                                              EVENT   \n",
       "hitAction_type                                                           0   \n",
       "hitNumber                                                                1   \n",
       "hitHour                                                                  0   \n",
       "hitMin                                                                   0   \n",
       "timeMicroSec                                                             0   \n",
       "v2ProductName                                            \"7\"\" Dog Frisbee\"   \n",
       "productListName                                                  (not set)   \n",
       "sessionQualityDim                                                        1   \n",
       "timeOnScreen                                                          None   \n",
       "timeOnSite                                                               1   \n",
       "totalTransactionRevenue                                            6980000   \n",
       "\n",
       "                                                               4  \n",
       "summary                                                      max  \n",
       "source                                               youtube.com  \n",
       "sourceKeyword                                           yyoutubr  \n",
       "medium                                                  referral  \n",
       "fullVisitorId                                5487531102128447544  \n",
       "visitId                                               1501656575  \n",
       "date                                                    20170801  \n",
       "newVisits                                                      1  \n",
       "hitReferer               https://youtube.com/yt/about/copyright/  \n",
       "hitType                                                     PAGE  \n",
       "hitAction_type                                                 6  \n",
       "hitNumber                                                    239  \n",
       "hitHour                                                       23  \n",
       "hitMin                                                        59  \n",
       "timeMicroSec                                             9963065  \n",
       "v2ProductName                 YouTube Youth Short Sleeve Tee Red  \n",
       "productListName                                   Search Results  \n",
       "sessionQualityDim                                             94  \n",
       "timeOnScreen                                                None  \n",
       "timeOnSite                                                  9963  \n",
       "totalTransactionRevenue                               5608400000  "
      ]
     },
     "execution_count": 19,
     "metadata": {},
     "output_type": "execute_result"
    }
   ],
   "source": [
    "raw_df.describe().toPandas().transpose()"
   ]
  },
  {
   "cell_type": "code",
   "execution_count": 20,
   "metadata": {},
   "outputs": [],
   "source": [
    "### ทำให้เห็นว่า timeOnScreen, hitReferer แม้ว่า Business จะ require แต่ก็ไม่มีประโยชน์จะเก็บไว้ หรือบาง col อาจซับซ้อนเกินกว่าจะนำไปวิเคราะห์ใช้งาน\n",
    "\n",
    "ignoredCols = ['timeOnScreen','hitReferer','v2ProductName']"
   ]
  },
  {
   "cell_type": "markdown",
   "metadata": {},
   "source": [
    "### 2.3 แบ่งแยก Numeric Columns และ Non Numeric Columns"
   ]
  },
  {
   "cell_type": "code",
   "execution_count": 21,
   "metadata": {
    "colab": {
     "base_uri": "https://localhost:8080/"
    },
    "id": "N1lRvEZVXS6I",
    "outputId": "d23f753d-8cc5-467b-f4ab-e1bedcc923a8"
   },
   "outputs": [
    {
     "name": "stdout",
     "output_type": "stream",
     "text": [
      "Numeric columns: ['fullVisitorId', 'visitId', 'date', 'newVisits', 'hitAction_type', 'hitNumber', 'hitHour', 'hitMin', 'timeMicroSec', 'sessionQualityDim', 'timeOnSite', 'totalTransactionRevenue']\n",
      "Non-numeric columns: ['source', 'isTrueDirect', 'sourceKeyword', 'medium', 'isVideoAd', 'hitReferer', 'hitType', 'v2ProductName', 'productListName', 'isClick', 'isImpression', 'timeOnScreen']\n"
     ]
    }
   ],
   "source": [
    "from pyspark.sql.types import IntegerType, FloatType, LongType, StringType\n",
    "\n",
    "numeric_columns = []\n",
    "non_numeric_columns = []\n",
    "\n",
    "for col_name in raw_df.columns:\n",
    "    # Check if the column type is numeric\n",
    "    if isinstance(raw_df.schema[col_name].dataType, (IntegerType, FloatType, LongType)):\n",
    "        numeric_columns.append(col_name)\n",
    "    else:\n",
    "        non_numeric_columns.append(col_name)\n",
    "\n",
    "print(f\"Numeric columns: {numeric_columns}\")\n",
    "print(f\"Non-numeric columns: {non_numeric_columns}\")\n"
   ]
  },
  {
   "cell_type": "code",
   "execution_count": 22,
   "metadata": {
    "colab": {
     "base_uri": "https://localhost:8080/"
    },
    "id": "FBN4Umn0ddll",
    "outputId": "bf67adf0-c302-4139-f4cb-cb2546f98d46"
   },
   "outputs": [
    {
     "data": {
      "text/plain": [
       "['fullVisitorId',\n",
       " 'visitId',\n",
       " 'date',\n",
       " 'newVisits',\n",
       " 'hitAction_type',\n",
       " 'hitNumber',\n",
       " 'hitHour',\n",
       " 'hitMin',\n",
       " 'timeMicroSec',\n",
       " 'sessionQualityDim',\n",
       " 'timeOnSite',\n",
       " 'totalTransactionRevenue']"
      ]
     },
     "execution_count": 22,
     "metadata": {},
     "output_type": "execute_result"
    }
   ],
   "source": [
    "numeric_columns"
   ]
  },
  {
   "cell_type": "code",
   "execution_count": 23,
   "metadata": {
    "colab": {
     "base_uri": "https://localhost:8080/"
    },
    "id": "1sjoch0EddiO",
    "outputId": "671fdc90-1630-4934-948e-442dccf94a6b"
   },
   "outputs": [
    {
     "data": {
      "text/plain": [
       "['source',\n",
       " 'isTrueDirect',\n",
       " 'sourceKeyword',\n",
       " 'medium',\n",
       " 'isVideoAd',\n",
       " 'hitReferer',\n",
       " 'hitType',\n",
       " 'v2ProductName',\n",
       " 'productListName',\n",
       " 'isClick',\n",
       " 'isImpression',\n",
       " 'timeOnScreen']"
      ]
     },
     "execution_count": 23,
     "metadata": {},
     "output_type": "execute_result"
    }
   ],
   "source": [
    "non_numeric_columns"
   ]
  },
  {
   "cell_type": "markdown",
   "metadata": {},
   "source": [
    "### 2.4 Null Profiling"
   ]
  },
  {
   "cell_type": "code",
   "execution_count": 24,
   "metadata": {},
   "outputs": [],
   "source": [
    "### ละทิ้ง column แบบ Boolean จาก non numeric col. เพราะว่า หากไม่ละทิ้ง จะเกิด error ต้องเช็คค่าว่างด้วย isnan()\n",
    "\n",
    "non_numeric_columns.remove('isTrueDirect')\n",
    "non_numeric_columns.remove('isVideoAd')\n",
    "non_numeric_columns.remove('isClick')\n",
    "non_numeric_columns.remove('isImpression')"
   ]
  },
  {
   "cell_type": "code",
   "execution_count": 25,
   "metadata": {
    "colab": {
     "base_uri": "https://localhost:8080/",
     "height": 363
    },
    "id": "Gw9w5uaZdl5G",
    "outputId": "b171184a-f2ac-4245-957a-956f7dd7a19c"
   },
   "outputs": [
    {
     "name": "stderr",
     "output_type": "stream",
     "text": [
      "                                                                                \r"
     ]
    },
    {
     "data": {
      "text/html": [
       "<div>\n",
       "<style scoped>\n",
       "    .dataframe tbody tr th:only-of-type {\n",
       "        vertical-align: middle;\n",
       "    }\n",
       "\n",
       "    .dataframe tbody tr th {\n",
       "        vertical-align: top;\n",
       "    }\n",
       "\n",
       "    .dataframe thead th {\n",
       "        text-align: right;\n",
       "    }\n",
       "</style>\n",
       "<table border=\"1\" class=\"dataframe\">\n",
       "  <thead>\n",
       "    <tr style=\"text-align: right;\">\n",
       "      <th></th>\n",
       "      <th>0</th>\n",
       "    </tr>\n",
       "  </thead>\n",
       "  <tbody>\n",
       "    <tr>\n",
       "      <th>source</th>\n",
       "      <td>0</td>\n",
       "    </tr>\n",
       "    <tr>\n",
       "      <th>sourceKeyword</th>\n",
       "      <td>595783</td>\n",
       "    </tr>\n",
       "    <tr>\n",
       "      <th>medium</th>\n",
       "      <td>0</td>\n",
       "    </tr>\n",
       "    <tr>\n",
       "      <th>hitReferer</th>\n",
       "      <td>797855</td>\n",
       "    </tr>\n",
       "    <tr>\n",
       "      <th>hitType</th>\n",
       "      <td>0</td>\n",
       "    </tr>\n",
       "    <tr>\n",
       "      <th>v2ProductName</th>\n",
       "      <td>0</td>\n",
       "    </tr>\n",
       "    <tr>\n",
       "      <th>productListName</th>\n",
       "      <td>0</td>\n",
       "    </tr>\n",
       "    <tr>\n",
       "      <th>timeOnScreen</th>\n",
       "      <td>917814</td>\n",
       "    </tr>\n",
       "  </tbody>\n",
       "</table>\n",
       "</div>"
      ],
      "text/plain": [
       "                      0\n",
       "source                0\n",
       "sourceKeyword    595783\n",
       "medium                0\n",
       "hitReferer       797855\n",
       "hitType               0\n",
       "v2ProductName         0\n",
       "productListName       0\n",
       "timeOnScreen     917814"
      ]
     },
     "execution_count": 25,
     "metadata": {},
     "output_type": "execute_result"
    }
   ],
   "source": [
    "from pyspark.sql.functions import count, when, isnan, col\n",
    "# Check for null values for non numeric column\n",
    "raw_df.select(non_numeric_columns).select([count(when(isnan(c) | col(c).isNull(), c)).alias(c) \\\n",
    "                                           for c in raw_df.select(non_numeric_columns).columns]).toPandas().transpose()\n",
    "\n",
    "\n"
   ]
  },
  {
   "cell_type": "code",
   "execution_count": 26,
   "metadata": {},
   "outputs": [
    {
     "name": "stderr",
     "output_type": "stream",
     "text": [
      "                                                                                \r"
     ]
    },
    {
     "data": {
      "text/html": [
       "<div>\n",
       "<style scoped>\n",
       "    .dataframe tbody tr th:only-of-type {\n",
       "        vertical-align: middle;\n",
       "    }\n",
       "\n",
       "    .dataframe tbody tr th {\n",
       "        vertical-align: top;\n",
       "    }\n",
       "\n",
       "    .dataframe thead th {\n",
       "        text-align: right;\n",
       "    }\n",
       "</style>\n",
       "<table border=\"1\" class=\"dataframe\">\n",
       "  <thead>\n",
       "    <tr style=\"text-align: right;\">\n",
       "      <th></th>\n",
       "      <th>0</th>\n",
       "    </tr>\n",
       "  </thead>\n",
       "  <tbody>\n",
       "    <tr>\n",
       "      <th>fullVisitorId</th>\n",
       "      <td>0</td>\n",
       "    </tr>\n",
       "    <tr>\n",
       "      <th>visitId</th>\n",
       "      <td>0</td>\n",
       "    </tr>\n",
       "    <tr>\n",
       "      <th>date</th>\n",
       "      <td>0</td>\n",
       "    </tr>\n",
       "    <tr>\n",
       "      <th>newVisits</th>\n",
       "      <td>270455</td>\n",
       "    </tr>\n",
       "    <tr>\n",
       "      <th>hitAction_type</th>\n",
       "      <td>0</td>\n",
       "    </tr>\n",
       "    <tr>\n",
       "      <th>hitNumber</th>\n",
       "      <td>0</td>\n",
       "    </tr>\n",
       "    <tr>\n",
       "      <th>hitHour</th>\n",
       "      <td>0</td>\n",
       "    </tr>\n",
       "    <tr>\n",
       "      <th>hitMin</th>\n",
       "      <td>0</td>\n",
       "    </tr>\n",
       "    <tr>\n",
       "      <th>timeMicroSec</th>\n",
       "      <td>0</td>\n",
       "    </tr>\n",
       "    <tr>\n",
       "      <th>sessionQualityDim</th>\n",
       "      <td>856032</td>\n",
       "    </tr>\n",
       "    <tr>\n",
       "      <th>timeOnSite</th>\n",
       "      <td>67305</td>\n",
       "    </tr>\n",
       "    <tr>\n",
       "      <th>totalTransactionRevenue</th>\n",
       "      <td>847514</td>\n",
       "    </tr>\n",
       "  </tbody>\n",
       "</table>\n",
       "</div>"
      ],
      "text/plain": [
       "                              0\n",
       "fullVisitorId                 0\n",
       "visitId                       0\n",
       "date                          0\n",
       "newVisits                270455\n",
       "hitAction_type                0\n",
       "hitNumber                     0\n",
       "hitHour                       0\n",
       "hitMin                        0\n",
       "timeMicroSec                  0\n",
       "sessionQualityDim        856032\n",
       "timeOnSite                67305\n",
       "totalTransactionRevenue  847514"
      ]
     },
     "execution_count": 26,
     "metadata": {},
     "output_type": "execute_result"
    }
   ],
   "source": [
    "from pyspark.sql.functions import count, when, isnan, col\n",
    "# Check for null values for numeric column\n",
    "raw_df.select(numeric_columns).select([count(when(isnan(c) | col(c).isNull(), c)).alias(c) \\\n",
    "                                       for c in raw_df.select(numeric_columns).columns]).toPandas().transpose()"
   ]
  },
  {
   "cell_type": "raw",
   "metadata": {},
   "source": [
    "ภายใต้ข้อมูล Google Analytics, sessionQualityDim คือคุณลักษณะที่คำนวณโดย Google ที่อธิบายถึงคุณภาพของเซสชันที่ผู้ใช้เข้ามาในเว็บไซต์ของคุณ ค่านี้จะเป็นตัวเลขระหว่าง 1 ถึง 100 โดยที่ค่าที่สูงขึ้นแสดงถึงคุณภาพของเซสชันที่ดีขึ้น นั่นคือ, การที่ผู้ใช้มีโอกาสที่จะทำการซื้อสินค้าหรือบริการของคุณมากขึ้น.\n",
    "\n",
    "คุณลักษณะนี้เป็นคุณลักษณะที่สร้างขึ้นโดย Google Analytics และใช้ข้อมูลจาก Google Ads, Google Search, และอื่นๆ ที่เกี่ยวข้อง เพื่อประมวลผลและคำนวณออกมาเป็นค่าเดียว. หากมีการกำหนดค่านี้ในข้อมูลของคุณ, คุณสามารถใช้มันเพื่อสร้างโมเดลและทำนายการกระทำต่างๆ ของผู้ใช้ในอนาคต.\n",
    "\n",
    "ข้อมูลเพิ่มเติมเกี่ยวกับ sessionQualityDim สามารถหาได้จากเอกสารอ้างอิงของ Google "
   ]
  },
  {
   "cell_type": "code",
   "execution_count": 27,
   "metadata": {
    "colab": {
     "base_uri": "https://localhost:8080/"
    },
    "id": "g0O4gulVh86Q",
    "outputId": "daa1fac4-e7ed-4fff-ad22-4cfaf691acf7"
   },
   "outputs": [
    {
     "name": "stderr",
     "output_type": "stream",
     "text": [
      "                                                                                \r"
     ]
    },
    {
     "name": "stdout",
     "output_type": "stream",
     "text": [
      "+--------------------+------+\n",
      "|              source| count|\n",
      "+--------------------+------+\n",
      "|            (direct)|502654|\n",
      "|              google|320612|\n",
      "|         youtube.com| 34750|\n",
      "|            Partners|  9949|\n",
      "|                 dfa|  8696|\n",
      "|analytics.google.com|  6144|\n",
      "|          google.com|  4537|\n",
      "|    sites.google.com|  3866|\n",
      "|siliconvalley.abo...|  3399|\n",
      "|      m.facebook.com|  2283|\n",
      "|        facebook.com|  2073|\n",
      "|          reddit.com|  1978|\n",
      "|     mail.google.com|  1833|\n",
      "|                bing|  1543|\n",
      "|           qiita.com|  1496|\n",
      "|               yahoo|  1441|\n",
      "|           quora.com|  1252|\n",
      "|                t.co|   996|\n",
      "|   groups.google.com|   950|\n",
      "|      l.facebook.com|   517|\n",
      "+--------------------+------+\n",
      "only showing top 20 rows\n",
      "\n"
     ]
    },
    {
     "name": "stderr",
     "output_type": "stream",
     "text": [
      "                                                                                \r"
     ]
    },
    {
     "name": "stdout",
     "output_type": "stream",
     "text": [
      "+------------+------+\n",
      "|isTrueDirect| count|\n",
      "+------------+------+\n",
      "|        null|580491|\n",
      "|        true|337323|\n",
      "+------------+------+\n",
      "\n"
     ]
    },
    {
     "name": "stderr",
     "output_type": "stream",
     "text": [
      "                                                                                \r"
     ]
    },
    {
     "name": "stdout",
     "output_type": "stream",
     "text": [
      "+--------------------+------+\n",
      "|       sourceKeyword| count|\n",
      "+--------------------+------+\n",
      "|                null|595783|\n",
      "|      (not provided)|296422|\n",
      "|    6qEhsCssdK0z36ri| 12471|\n",
      "|  Google Merchandise|  2529|\n",
      "|    1hZbAqLCbjwfgOH7|  2273|\n",
      "|google merchandis...|  2061|\n",
      "|    category_l1==166|   457|\n",
      "|(Remarketing/Cont...|   373|\n",
      "|    1X4Me6ZKNV0zg-jV|   330|\n",
      "|googlemerchandise...|   323|\n",
      "|             youtube|   207|\n",
      "|+google +merchand...|   201|\n",
      "|        google merch|   198|\n",
      "|         google stor|   171|\n",
      "|       youtube merch|   169|\n",
      "|+Google +Merchandise|   164|\n",
      "|Google Merchandis...|   164|\n",
      "|      +google +store|   162|\n",
      "|             Youtube|   140|\n",
      "|        google store|   121|\n",
      "+--------------------+------+\n",
      "only showing top 20 rows\n",
      "\n"
     ]
    },
    {
     "name": "stderr",
     "output_type": "stream",
     "text": [
      "                                                                                \r"
     ]
    },
    {
     "name": "stdout",
     "output_type": "stream",
     "text": [
      "+---------+------+\n",
      "|   medium| count|\n",
      "+---------+------+\n",
      "|   (none)|502654|\n",
      "|  organic|302345|\n",
      "| referral| 72078|\n",
      "|      cpc| 21580|\n",
      "|affiliate|  9949|\n",
      "|      cpm|  9136|\n",
      "|(not set)|    72|\n",
      "+---------+------+\n",
      "\n"
     ]
    },
    {
     "name": "stderr",
     "output_type": "stream",
     "text": [
      "                                                                                \r"
     ]
    },
    {
     "name": "stdout",
     "output_type": "stream",
     "text": [
      "+---------+------+\n",
      "|isVideoAd| count|\n",
      "+---------+------+\n",
      "|     null|885422|\n",
      "|    false| 32392|\n",
      "+---------+------+\n",
      "\n"
     ]
    },
    {
     "name": "stderr",
     "output_type": "stream",
     "text": [
      "                                                                                \r"
     ]
    },
    {
     "name": "stdout",
     "output_type": "stream",
     "text": [
      "+-------------------+-----+\n",
      "|      fullVisitorId|count|\n",
      "+-------------------+-----+\n",
      "|5456301402188625337| 3416|\n",
      "|5208937953046059083| 2377|\n",
      "|5399906287295745418| 2338|\n",
      "|5310912563447452038| 1792|\n",
      "|5370310992308515600| 1777|\n",
      "|5143600689169444167| 1651|\n",
      "|5217792392522047587| 1605|\n",
      "|4998444590527389280| 1550|\n",
      "|5479405825116961439| 1482|\n",
      "|5174129705003851738| 1472|\n",
      "|5341271361784611942| 1443|\n",
      "|5305785224618680102| 1413|\n",
      "|5423659711610895780| 1267|\n",
      "|5002959687839673544| 1211|\n",
      "|5128888224452873031| 1179|\n",
      "|5315382266855883329| 1164|\n",
      "|5457033415990547887| 1143|\n",
      "| 506797253390432707| 1094|\n",
      "|5391968741622668774| 1081|\n",
      "|5031234556107572838| 1081|\n",
      "+-------------------+-----+\n",
      "only showing top 20 rows\n",
      "\n"
     ]
    },
    {
     "name": "stderr",
     "output_type": "stream",
     "text": [
      "                                                                                \r"
     ]
    },
    {
     "name": "stdout",
     "output_type": "stream",
     "text": [
      "+----------+-----+\n",
      "|   visitId|count|\n",
      "+----------+-----+\n",
      "|1487093395| 1777|\n",
      "|1472342843| 1306|\n",
      "|1474845319|  995|\n",
      "|1473902040|  986|\n",
      "|1471629165|  950|\n",
      "|1474799746|  924|\n",
      "|1472479074|  920|\n",
      "|1472343066|  919|\n",
      "|1473468179|  913|\n",
      "|1479842010|  867|\n",
      "|1481587574|  817|\n",
      "|1478550894|  793|\n",
      "|1473022577|  790|\n",
      "|1470432463|  786|\n",
      "|1471836187|  781|\n",
      "|1474775547|  779|\n",
      "|1471884865|  775|\n",
      "|1471752880|  773|\n",
      "|1473181908|  755|\n",
      "|1483021729|  753|\n",
      "+----------+-----+\n",
      "only showing top 20 rows\n",
      "\n"
     ]
    },
    {
     "name": "stderr",
     "output_type": "stream",
     "text": [
      "                                                                                \r"
     ]
    },
    {
     "name": "stdout",
     "output_type": "stream",
     "text": [
      "+--------+-----+\n",
      "|    date|count|\n",
      "+--------+-----+\n",
      "|20160815| 8733|\n",
      "|20160914| 8693|\n",
      "|20160822| 8214|\n",
      "|20160831| 7571|\n",
      "|20160804| 7514|\n",
      "|20160816| 7394|\n",
      "|20160811| 7300|\n",
      "|20160823| 6858|\n",
      "|20160906| 6836|\n",
      "|20160921| 6828|\n",
      "|20160907| 6598|\n",
      "|20160913| 6506|\n",
      "|20160812| 6430|\n",
      "|20160902| 6246|\n",
      "|20160809| 6237|\n",
      "|20160817| 6064|\n",
      "|20160827| 6021|\n",
      "|20160805| 5946|\n",
      "|20160802| 5946|\n",
      "|20160909| 5633|\n",
      "+--------+-----+\n",
      "only showing top 20 rows\n",
      "\n"
     ]
    },
    {
     "name": "stderr",
     "output_type": "stream",
     "text": [
      "                                                                                \r"
     ]
    },
    {
     "name": "stdout",
     "output_type": "stream",
     "text": [
      "+---------+------+\n",
      "|newVisits| count|\n",
      "+---------+------+\n",
      "|        1|647359|\n",
      "|     null|270455|\n",
      "+---------+------+\n",
      "\n"
     ]
    },
    {
     "name": "stderr",
     "output_type": "stream",
     "text": [
      "                                                                                \r"
     ]
    },
    {
     "name": "stdout",
     "output_type": "stream",
     "text": [
      "+--------------------+------+\n",
      "|          hitReferer| count|\n",
      "+--------------------+------+\n",
      "|                null|797855|\n",
      "|https://www.googl...| 38623|\n",
      "|https://www.googl...|  7437|\n",
      "|https://www.youtu...|  7204|\n",
      "|https://www.googl...|  6743|\n",
      "|https://www.googl...|  3560|\n",
      "|https://www.googl...|  2873|\n",
      "|https://www.googl...|  2854|\n",
      "|http://www.google...|  2356|\n",
      "|https://www.googl...|  1912|\n",
      "|https://www.googl...|  1909|\n",
      "|https://www.googl...|  1573|\n",
      "|https://www.googl...|  1329|\n",
      "|https://www.googl...|  1200|\n",
      "|https://www.googl...|   968|\n",
      "|https://www.googl...|   967|\n",
      "|https://www.googl...|   845|\n",
      "|https://www.googl...|   839|\n",
      "|https://www.googl...|   768|\n",
      "|https://www.googl...|   764|\n",
      "+--------------------+------+\n",
      "only showing top 20 rows\n",
      "\n"
     ]
    },
    {
     "name": "stderr",
     "output_type": "stream",
     "text": [
      "                                                                                \r"
     ]
    },
    {
     "name": "stdout",
     "output_type": "stream",
     "text": [
      "+-------+------+\n",
      "|hitType| count|\n",
      "+-------+------+\n",
      "|   PAGE|886585|\n",
      "|  EVENT| 31229|\n",
      "+-------+------+\n",
      "\n"
     ]
    },
    {
     "name": "stderr",
     "output_type": "stream",
     "text": [
      "                                                                                \r"
     ]
    },
    {
     "name": "stdout",
     "output_type": "stream",
     "text": [
      "+--------------+------+\n",
      "|hitAction_type| count|\n",
      "+--------------+------+\n",
      "|             0|853903|\n",
      "|             1| 22253|\n",
      "|             2| 18313|\n",
      "|             5| 12380|\n",
      "|             3|  6200|\n",
      "|             6|  3880|\n",
      "|             4|   885|\n",
      "+--------------+------+\n",
      "\n"
     ]
    },
    {
     "name": "stderr",
     "output_type": "stream",
     "text": [
      "                                                                                \r"
     ]
    },
    {
     "name": "stdout",
     "output_type": "stream",
     "text": [
      "+---------+------+\n",
      "|hitNumber| count|\n",
      "+---------+------+\n",
      "|        1|128949|\n",
      "|        3|104988|\n",
      "|        2|101344|\n",
      "|        4| 75432|\n",
      "|        5| 54931|\n",
      "|        6| 45212|\n",
      "|        7| 40069|\n",
      "|        8| 33037|\n",
      "|        9| 28159|\n",
      "|       10| 24166|\n",
      "|       11| 21807|\n",
      "|       12| 18867|\n",
      "|       13| 17060|\n",
      "|       14| 14858|\n",
      "|       15| 13635|\n",
      "|       16| 12554|\n",
      "|       17| 11389|\n",
      "|       18| 10054|\n",
      "|       19|  9889|\n",
      "|       20|  8821|\n",
      "+---------+------+\n",
      "only showing top 20 rows\n",
      "\n"
     ]
    },
    {
     "name": "stderr",
     "output_type": "stream",
     "text": [
      "                                                                                \r"
     ]
    },
    {
     "name": "stdout",
     "output_type": "stream",
     "text": [
      "+-------+-----+\n",
      "|hitHour|count|\n",
      "+-------+-----+\n",
      "|     11|64196|\n",
      "|     10|60383|\n",
      "|     13|57946|\n",
      "|     14|54553|\n",
      "|     12|53822|\n",
      "|      9|48343|\n",
      "|      8|45227|\n",
      "|     16|44962|\n",
      "|     15|43676|\n",
      "|     18|39950|\n",
      "|     17|39395|\n",
      "|     20|39173|\n",
      "|      7|37065|\n",
      "|     22|34531|\n",
      "|     19|34193|\n",
      "|     21|33678|\n",
      "|     23|31245|\n",
      "|      6|30732|\n",
      "|      5|24574|\n",
      "|      0|23328|\n",
      "+-------+-----+\n",
      "only showing top 20 rows\n",
      "\n"
     ]
    },
    {
     "name": "stderr",
     "output_type": "stream",
     "text": [
      "                                                                                \r"
     ]
    },
    {
     "name": "stdout",
     "output_type": "stream",
     "text": [
      "+------+-----+\n",
      "|hitMin|count|\n",
      "+------+-----+\n",
      "|    21|16750|\n",
      "|    43|16699|\n",
      "|    58|16398|\n",
      "|    23|16368|\n",
      "|    52|16307|\n",
      "|    41|16248|\n",
      "|    30|16110|\n",
      "|    57|16085|\n",
      "|    54|16050|\n",
      "|    36|15954|\n",
      "|    56|15943|\n",
      "|    28|15817|\n",
      "|    53|15790|\n",
      "|    26|15789|\n",
      "|    20|15767|\n",
      "|     9|15726|\n",
      "|    35|15698|\n",
      "|    40|15657|\n",
      "|     6|15593|\n",
      "|    42|15579|\n",
      "+------+-----+\n",
      "only showing top 20 rows\n",
      "\n"
     ]
    },
    {
     "name": "stderr",
     "output_type": "stream",
     "text": [
      "                                                                                \r"
     ]
    },
    {
     "name": "stdout",
     "output_type": "stream",
     "text": [
      "+------------+------+\n",
      "|timeMicroSec| count|\n",
      "+------------+------+\n",
      "|           0|129394|\n",
      "|       13598|    80|\n",
      "|        9553|    80|\n",
      "|       11300|    80|\n",
      "|       13027|    80|\n",
      "|      374888|    80|\n",
      "|       11756|    79|\n",
      "|       13796|    79|\n",
      "|       17138|    73|\n",
      "|           1|    72|\n",
      "|       56918|    71|\n",
      "|       32959|    70|\n",
      "|       97580|    70|\n",
      "|       33192|    70|\n",
      "|        8860|    70|\n",
      "|       11187|    69|\n",
      "|       10930|    68|\n",
      "|        8108|    68|\n",
      "|      143667|    68|\n",
      "|        8751|    68|\n",
      "+------------+------+\n",
      "only showing top 20 rows\n",
      "\n"
     ]
    },
    {
     "name": "stderr",
     "output_type": "stream",
     "text": [
      "                                                                                \r"
     ]
    },
    {
     "name": "stdout",
     "output_type": "stream",
     "text": [
      "+--------------------+-----+\n",
      "|       v2ProductName|count|\n",
      "+--------------------+-----+\n",
      "|Google Men's 100%...|15365|\n",
      "|22 oz YouTube Bot...|10277|\n",
      "|YouTube Men's Sho...|10125|\n",
      "|YouTube Custom De...| 9866|\n",
      "|Google Men's 100%...| 9319|\n",
      "|YouTube Men's Sho...| 9286|\n",
      "|   YouTube Twill Cap| 9252|\n",
      "|Google Men's 100%...| 9227|\n",
      "|Electronics Acces...| 8507|\n",
      "|YouTube Men's Sho...| 7970|\n",
      "|YouTube Wool Heat...| 7968|\n",
      "|Google Laptop and...| 7866|\n",
      "|YouTube Leatheret...| 7599|\n",
      "|Google Men's  Zip...| 7392|\n",
      "| YouTube Trucker Hat| 7285|\n",
      "|Google Men's Wate...| 7100|\n",
      "|Suitcase Organize...| 7014|\n",
      "|Google Men's 100%...| 6847|\n",
      "|Google Alpine Sty...| 6602|\n",
      "|Google Men's Vint...| 6565|\n",
      "+--------------------+-----+\n",
      "only showing top 20 rows\n",
      "\n"
     ]
    },
    {
     "name": "stderr",
     "output_type": "stream",
     "text": [
      "                                                                                \r"
     ]
    },
    {
     "name": "stdout",
     "output_type": "stream",
     "text": [
      "+----------------+------+\n",
      "| productListName| count|\n",
      "+----------------+------+\n",
      "|        Category|847919|\n",
      "|Related Products| 28085|\n",
      "|       (not set)| 23657|\n",
      "|  Search Results| 18153|\n",
      "+----------------+------+\n",
      "\n"
     ]
    },
    {
     "name": "stderr",
     "output_type": "stream",
     "text": [
      "                                                                                \r"
     ]
    },
    {
     "name": "stdout",
     "output_type": "stream",
     "text": [
      "+-------+------+\n",
      "|isClick| count|\n",
      "+-------+------+\n",
      "|   null|895561|\n",
      "|   true| 22253|\n",
      "+-------+------+\n",
      "\n"
     ]
    },
    {
     "name": "stderr",
     "output_type": "stream",
     "text": [
      "                                                                                \r"
     ]
    },
    {
     "name": "stdout",
     "output_type": "stream",
     "text": [
      "+------------+------+\n",
      "|isImpression| count|\n",
      "+------------+------+\n",
      "|        true|853903|\n",
      "|        null| 63911|\n",
      "+------------+------+\n",
      "\n"
     ]
    },
    {
     "name": "stderr",
     "output_type": "stream",
     "text": [
      "                                                                                \r"
     ]
    },
    {
     "name": "stdout",
     "output_type": "stream",
     "text": [
      "+-----------------+------+\n",
      "|sessionQualityDim| count|\n",
      "+-----------------+------+\n",
      "|             null|856032|\n",
      "|                1| 28967|\n",
      "|                2|  4177|\n",
      "|                3|  1816|\n",
      "|                4|  1641|\n",
      "|                5|  1529|\n",
      "|                7|   825|\n",
      "|                6|   824|\n",
      "|               68|   679|\n",
      "|               19|   601|\n",
      "|               10|   596|\n",
      "|               44|   596|\n",
      "|                8|   569|\n",
      "|               77|   561|\n",
      "|               76|   492|\n",
      "|               80|   478|\n",
      "|               54|   466|\n",
      "|                9|   462|\n",
      "|               12|   451|\n",
      "|               62|   433|\n",
      "+-----------------+------+\n",
      "only showing top 20 rows\n",
      "\n"
     ]
    },
    {
     "name": "stderr",
     "output_type": "stream",
     "text": [
      "                                                                                \r"
     ]
    },
    {
     "name": "stdout",
     "output_type": "stream",
     "text": [
      "+------------+------+\n",
      "|timeOnScreen| count|\n",
      "+------------+------+\n",
      "|        null|917814|\n",
      "+------------+------+\n",
      "\n"
     ]
    },
    {
     "name": "stderr",
     "output_type": "stream",
     "text": [
      "                                                                                \r"
     ]
    },
    {
     "name": "stdout",
     "output_type": "stream",
     "text": [
      "+----------+-----+\n",
      "|timeOnSite|count|\n",
      "+----------+-----+\n",
      "|      null|67305|\n",
      "|        64| 2333|\n",
      "|        67| 2264|\n",
      "|        24| 2246|\n",
      "|        55| 2230|\n",
      "|        54| 2214|\n",
      "|        13| 2212|\n",
      "|        26| 2210|\n",
      "|       106| 2188|\n",
      "|       158| 2174|\n",
      "|        87| 2120|\n",
      "|        56| 2120|\n",
      "|        90| 2119|\n",
      "|        38| 2117|\n",
      "|        35| 2113|\n",
      "|      2469| 2099|\n",
      "|        86| 2070|\n",
      "|        52| 2060|\n",
      "|       215| 2045|\n",
      "|       169| 2026|\n",
      "+----------+-----+\n",
      "only showing top 20 rows\n",
      "\n"
     ]
    },
    {
     "name": "stderr",
     "output_type": "stream",
     "text": [
      "[Stage 58:============================================>         (163 + 5) / 200]\r"
     ]
    },
    {
     "name": "stdout",
     "output_type": "stream",
     "text": [
      "+-----------------------+------+\n",
      "|totalTransactionRevenue| count|\n",
      "+-----------------------+------+\n",
      "|                   null|847514|\n",
      "|              186860000|   950|\n",
      "|              220520000|   920|\n",
      "|              681400000|   817|\n",
      "|              192440000|   786|\n",
      "|               81980000|   704|\n",
      "|              108630000|   671|\n",
      "|               32950000|   652|\n",
      "|               79150000|   644|\n",
      "|              355970000|   626|\n",
      "|              208640000|   583|\n",
      "|               80060000|   579|\n",
      "|              127380000|   577|\n",
      "|               54000000|   569|\n",
      "|              150340000|   565|\n",
      "|              101940000|   556|\n",
      "|               29980000|   540|\n",
      "|              216630000|   524|\n",
      "|              307740000|   522|\n",
      "|               28980000|   511|\n",
      "+-----------------------+------+\n",
      "only showing top 20 rows\n",
      "\n"
     ]
    },
    {
     "name": "stderr",
     "output_type": "stream",
     "text": [
      "                                                                                \r"
     ]
    }
   ],
   "source": [
    "for a in business_requiredCol_list:\n",
    "  raw_df.groupBy(a).count().orderBy('count',ascending = False).show()"
   ]
  },
  {
   "cell_type": "code",
   "execution_count": 28,
   "metadata": {
    "colab": {
     "base_uri": "https://localhost:8080/"
    },
    "id": "4nrpUb6tNDDX",
    "outputId": "722dc84a-4adb-49a9-9390-b9904ece682c"
   },
   "outputs": [
    {
     "name": "stderr",
     "output_type": "stream",
     "text": [
      "                                                                                \r"
     ]
    },
    {
     "name": "stdout",
     "output_type": "stream",
     "text": [
      "+------------+------+\n",
      "|isTrueDirect| count|\n",
      "+------------+------+\n",
      "|        null|580491|\n",
      "|        true|337323|\n",
      "+------------+------+\n",
      "\n"
     ]
    }
   ],
   "source": [
    "raw_df.groupBy('isTrueDirect').count().show()"
   ]
  },
  {
   "cell_type": "code",
   "execution_count": 29,
   "metadata": {
    "colab": {
     "base_uri": "https://localhost:8080/"
    },
    "id": "hceyKkVYORcJ",
    "outputId": "6419f437-d282-495b-ade9-2a77b1e07db4"
   },
   "outputs": [
    {
     "name": "stderr",
     "output_type": "stream",
     "text": [
      "                                                                                \r"
     ]
    },
    {
     "name": "stdout",
     "output_type": "stream",
     "text": [
      "+---------+------+\n",
      "|   medium| count|\n",
      "+---------+------+\n",
      "|   (none)|502654|\n",
      "|      cpc| 21580|\n",
      "| referral| 72078|\n",
      "|  organic|302345|\n",
      "|affiliate|  9949|\n",
      "|(not set)|    72|\n",
      "|      cpm|  9136|\n",
      "+---------+------+\n",
      "\n"
     ]
    }
   ],
   "source": [
    "raw_df.groupBy('medium').count().show()"
   ]
  },
  {
   "cell_type": "code",
   "execution_count": 30,
   "metadata": {},
   "outputs": [],
   "source": [
    "## สังเกตว่า หลักการเรื่อง Imputation ด้วย Avg หรือ Agg.func. ไม่สามารถนำมาใช้ได้เสมอไป\n",
    "## ลองคิดดูว่า หาก Avg('sessionQualityDim') แล้วได้ค่าหนึ่ง คำถามคือ ค่านั้นนำมาแทน null\n",
    "## จริงหรือ?\n",
    "\n",
    "### เกิดแนวคิดว่า น่าจะ treat เป็น continuous ไม่ใช่ discrete เนื่องจาก ไม่สามารถระบุได้ชัดเจนว่า ตัวเลขที่แตกต่างกัน สื่อความหมายที่ต่างแบบชัดเจน ได้อย่างไร\n",
    "### ซึ่งแทนที่ null ด้วย 0 จะเหมาะกว่า NA หรือ ignorance"
   ]
  },
  {
   "cell_type": "code",
   "execution_count": 31,
   "metadata": {},
   "outputs": [
    {
     "name": "stderr",
     "output_type": "stream",
     "text": [
      "                                                                                \r"
     ]
    },
    {
     "data": {
      "text/html": [
       "<div>\n",
       "<style scoped>\n",
       "    .dataframe tbody tr th:only-of-type {\n",
       "        vertical-align: middle;\n",
       "    }\n",
       "\n",
       "    .dataframe tbody tr th {\n",
       "        vertical-align: top;\n",
       "    }\n",
       "\n",
       "    .dataframe thead th {\n",
       "        text-align: right;\n",
       "    }\n",
       "</style>\n",
       "<table border=\"1\" class=\"dataframe\">\n",
       "  <thead>\n",
       "    <tr style=\"text-align: right;\">\n",
       "      <th></th>\n",
       "      <th>0</th>\n",
       "      <th>1</th>\n",
       "      <th>2</th>\n",
       "      <th>3</th>\n",
       "      <th>4</th>\n",
       "    </tr>\n",
       "  </thead>\n",
       "  <tbody>\n",
       "    <tr>\n",
       "      <th>summary</th>\n",
       "      <td>count</td>\n",
       "      <td>mean</td>\n",
       "      <td>stddev</td>\n",
       "      <td>min</td>\n",
       "      <td>max</td>\n",
       "    </tr>\n",
       "    <tr>\n",
       "      <th>source</th>\n",
       "      <td>917814</td>\n",
       "      <td>None</td>\n",
       "      <td>None</td>\n",
       "      <td>(direct)</td>\n",
       "      <td>youtube.com</td>\n",
       "    </tr>\n",
       "    <tr>\n",
       "      <th>sourceKeyword</th>\n",
       "      <td>322031</td>\n",
       "      <td>None</td>\n",
       "      <td>None</td>\n",
       "      <td>(Remarketing/Content targeting)</td>\n",
       "      <td>yyoutubr</td>\n",
       "    </tr>\n",
       "    <tr>\n",
       "      <th>medium</th>\n",
       "      <td>917814</td>\n",
       "      <td>None</td>\n",
       "      <td>None</td>\n",
       "      <td>(none)</td>\n",
       "      <td>referral</td>\n",
       "    </tr>\n",
       "    <tr>\n",
       "      <th>fullVisitorId</th>\n",
       "      <td>917814</td>\n",
       "      <td>4.7679506549928141E18</td>\n",
       "      <td>1.42707561410277811E18</td>\n",
       "      <td>514359656957582</td>\n",
       "      <td>5487531102128447544</td>\n",
       "    </tr>\n",
       "    <tr>\n",
       "      <th>visitId</th>\n",
       "      <td>917814</td>\n",
       "      <td>1.4828991660307045E9</td>\n",
       "      <td>9692290.975135246</td>\n",
       "      <td>1470037326</td>\n",
       "      <td>1501656575</td>\n",
       "    </tr>\n",
       "    <tr>\n",
       "      <th>date</th>\n",
       "      <td>917814</td>\n",
       "      <td>2.0165139267192483E7</td>\n",
       "      <td>4699.035428253388</td>\n",
       "      <td>20160801</td>\n",
       "      <td>20170801</td>\n",
       "    </tr>\n",
       "    <tr>\n",
       "      <th>newVisits</th>\n",
       "      <td>647359</td>\n",
       "      <td>1.0</td>\n",
       "      <td>0.0</td>\n",
       "      <td>1</td>\n",
       "      <td>1</td>\n",
       "    </tr>\n",
       "    <tr>\n",
       "      <th>hitType</th>\n",
       "      <td>917814</td>\n",
       "      <td>None</td>\n",
       "      <td>None</td>\n",
       "      <td>EVENT</td>\n",
       "      <td>PAGE</td>\n",
       "    </tr>\n",
       "    <tr>\n",
       "      <th>hitAction_type</th>\n",
       "      <td>917814</td>\n",
       "      <td>0.18108135199506653</td>\n",
       "      <td>0.7980562985767482</td>\n",
       "      <td>0</td>\n",
       "      <td>6</td>\n",
       "    </tr>\n",
       "    <tr>\n",
       "      <th>hitNumber</th>\n",
       "      <td>917814</td>\n",
       "      <td>11.936170073675058</td>\n",
       "      <td>19.048950870892313</td>\n",
       "      <td>1</td>\n",
       "      <td>239</td>\n",
       "    </tr>\n",
       "    <tr>\n",
       "      <th>hitHour</th>\n",
       "      <td>917814</td>\n",
       "      <td>12.427243428407063</td>\n",
       "      <td>5.993956058897788</td>\n",
       "      <td>0</td>\n",
       "      <td>23</td>\n",
       "    </tr>\n",
       "    <tr>\n",
       "      <th>hitMin</th>\n",
       "      <td>917814</td>\n",
       "      <td>29.86619620097318</td>\n",
       "      <td>17.257801099354616</td>\n",
       "      <td>0</td>\n",
       "      <td>59</td>\n",
       "    </tr>\n",
       "    <tr>\n",
       "      <th>timeMicroSec</th>\n",
       "      <td>917814</td>\n",
       "      <td>291059.62081097043</td>\n",
       "      <td>554542.5064780046</td>\n",
       "      <td>0</td>\n",
       "      <td>9963065</td>\n",
       "    </tr>\n",
       "    <tr>\n",
       "      <th>productListName</th>\n",
       "      <td>917814</td>\n",
       "      <td>None</td>\n",
       "      <td>None</td>\n",
       "      <td>(not set)</td>\n",
       "      <td>Search Results</td>\n",
       "    </tr>\n",
       "    <tr>\n",
       "      <th>sessionQualityDim</th>\n",
       "      <td>61782</td>\n",
       "      <td>18.657068401799876</td>\n",
       "      <td>27.512960054299242</td>\n",
       "      <td>1</td>\n",
       "      <td>94</td>\n",
       "    </tr>\n",
       "    <tr>\n",
       "      <th>timeOnSite</th>\n",
       "      <td>850509</td>\n",
       "      <td>660.041210616231</td>\n",
       "      <td>930.0535167228322</td>\n",
       "      <td>1</td>\n",
       "      <td>9963</td>\n",
       "    </tr>\n",
       "    <tr>\n",
       "      <th>totalTransactionRevenue</th>\n",
       "      <td>70300</td>\n",
       "      <td>1.978806652916074E8</td>\n",
       "      <td>4.625284848391805E8</td>\n",
       "      <td>6980000</td>\n",
       "      <td>5608400000</td>\n",
       "    </tr>\n",
       "  </tbody>\n",
       "</table>\n",
       "</div>"
      ],
      "text/plain": [
       "                              0                      1  \\\n",
       "summary                   count                   mean   \n",
       "source                   917814                   None   \n",
       "sourceKeyword            322031                   None   \n",
       "medium                   917814                   None   \n",
       "fullVisitorId            917814  4.7679506549928141E18   \n",
       "visitId                  917814   1.4828991660307045E9   \n",
       "date                     917814   2.0165139267192483E7   \n",
       "newVisits                647359                    1.0   \n",
       "hitType                  917814                   None   \n",
       "hitAction_type           917814    0.18108135199506653   \n",
       "hitNumber                917814     11.936170073675058   \n",
       "hitHour                  917814     12.427243428407063   \n",
       "hitMin                   917814      29.86619620097318   \n",
       "timeMicroSec             917814     291059.62081097043   \n",
       "productListName          917814                   None   \n",
       "sessionQualityDim         61782     18.657068401799876   \n",
       "timeOnSite               850509       660.041210616231   \n",
       "totalTransactionRevenue   70300    1.978806652916074E8   \n",
       "\n",
       "                                              2  \\\n",
       "summary                                  stddev   \n",
       "source                                     None   \n",
       "sourceKeyword                              None   \n",
       "medium                                     None   \n",
       "fullVisitorId            1.42707561410277811E18   \n",
       "visitId                       9692290.975135246   \n",
       "date                          4699.035428253388   \n",
       "newVisits                                   0.0   \n",
       "hitType                                    None   \n",
       "hitAction_type               0.7980562985767482   \n",
       "hitNumber                    19.048950870892313   \n",
       "hitHour                       5.993956058897788   \n",
       "hitMin                       17.257801099354616   \n",
       "timeMicroSec                  554542.5064780046   \n",
       "productListName                            None   \n",
       "sessionQualityDim            27.512960054299242   \n",
       "timeOnSite                    930.0535167228322   \n",
       "totalTransactionRevenue     4.625284848391805E8   \n",
       "\n",
       "                                                       3                    4  \n",
       "summary                                              min                  max  \n",
       "source                                          (direct)          youtube.com  \n",
       "sourceKeyword            (Remarketing/Content targeting)             yyoutubr  \n",
       "medium                                            (none)             referral  \n",
       "fullVisitorId                            514359656957582  5487531102128447544  \n",
       "visitId                                       1470037326           1501656575  \n",
       "date                                            20160801             20170801  \n",
       "newVisits                                              1                    1  \n",
       "hitType                                            EVENT                 PAGE  \n",
       "hitAction_type                                         0                    6  \n",
       "hitNumber                                              1                  239  \n",
       "hitHour                                                0                   23  \n",
       "hitMin                                                 0                   59  \n",
       "timeMicroSec                                           0              9963065  \n",
       "productListName                                (not set)       Search Results  \n",
       "sessionQualityDim                                      1                   94  \n",
       "timeOnSite                                             1                 9963  \n",
       "totalTransactionRevenue                          6980000           5608400000  "
      ]
     },
     "execution_count": 31,
     "metadata": {},
     "output_type": "execute_result"
    }
   ],
   "source": [
    "raw_df.select([item for item in business_requiredCol_list if item not in ignoredCols]).describe().toPandas().transpose()"
   ]
  },
  {
   "cell_type": "markdown",
   "metadata": {
    "id": "VjyhhtffPWwo"
   },
   "source": [
    "### 2.5 Finding out partial duplicated records - Spurious Patterns"
   ]
  },
  {
   "cell_type": "code",
   "execution_count": 32,
   "metadata": {
    "id": "3EFLj_I8rxBR"
   },
   "outputs": [],
   "source": [
    "sessionWindow = W.partitionBy('fullVisitorId','visitId').orderBy(sparkf.col(\"hitNumber\").cast(\"long\"))\\\n",
    "                 .rangeBetween(-sys.maxsize, sys.maxsize)"
   ]
  },
  {
   "cell_type": "code",
   "execution_count": 33,
   "metadata": {
    "id": "cuaXdfufvP-t"
   },
   "outputs": [],
   "source": [
    "allHit = sparkf.expr(\"count('hitNumber')\")"
   ]
  },
  {
   "cell_type": "markdown",
   "metadata": {
    "id": "jXEb0kOgOaDC"
   },
   "source": [
    "*โค้ดด้านล่างแสดงให้เห็นว่า มีใครบ้าง และ session ไหนที่มี hitAction_type เป็นเลข 6*"
   ]
  },
  {
   "cell_type": "code",
   "execution_count": 34,
   "metadata": {
    "colab": {
     "base_uri": "https://localhost:8080/"
    },
    "id": "sRdwVNpBOftw",
    "outputId": "31e5fc74-d317-4e1c-937f-ffbe0d19bf0b"
   },
   "outputs": [
    {
     "name": "stderr",
     "output_type": "stream",
     "text": [
      "23/05/22 05:37:40 WARN package: Truncated the string representation of a plan since it was too large. This behavior can be adjusted by setting 'spark.sql.debug.maxToStringFields'.\n",
      "[Stage 82:===================================================>  (192 + 6) / 200]\r"
     ]
    },
    {
     "name": "stdout",
     "output_type": "stream",
     "text": [
      "+------------------+----------+--------------------+\n",
      "|     fullVisitorId|   visitId|sum_hitAction_type_6|\n",
      "+------------------+----------+--------------------+\n",
      "| 52868681653220057|1487247308|                   6|\n",
      "| 52947395050573230|1473344657|                   4|\n",
      "| 53866968780969645|1481914028|                   2|\n",
      "|500766381427960566|1489605660|                   6|\n",
      "|500771270741221130|1481728507|                   8|\n",
      "|500926353574528949|1491191147|                   6|\n",
      "|502027330594674519|1488479930|                   2|\n",
      "|502427268661784166|1475681795|                   4|\n",
      "|507378123137078709|1492017734|                  12|\n",
      "|512376512516526849|1484413414|                   2|\n",
      "|512988788718016553|1494940948|                   4|\n",
      "|513403330506317388|1484058394|                   6|\n",
      "|513403330506317388|1488427898|                   4|\n",
      "|514366605460721708|1481841909|                   6|\n",
      "|514478324726152361|1480456502|                   4|\n",
      "|514517908760071241|1485384182|                   2|\n",
      "|515195001502319520|1480385724|                   8|\n",
      "|515770511624914543|1493699819|                   4|\n",
      "|515770511624914543|1494428047|                   4|\n",
      "|516734366347147622|1478384303|                   4|\n",
      "+------------------+----------+--------------------+\n",
      "only showing top 20 rows\n",
      "\n"
     ]
    },
    {
     "name": "stderr",
     "output_type": "stream",
     "text": [
      "                                                                                \r"
     ]
    }
   ],
   "source": [
    "raw_df\\\n",
    "      .withColumn('numHit',allHit.over(sessionWindow))\\\n",
    "      .withColumn('hitAction_type_6',sparkf.when(sparkf.col('hitAction_type')==6,1).otherwise(0))\\\n",
    "      .withColumn('sum_hitAction_type_6',sparkf.sum(sparkf.col('hitAction_type_6')).over(sessionWindow))\\\n",
    "      .filter(sparkf.col('sum_hitAction_type_6')>=1)\\\n",
    "      .select(['fullVisitorId','visitId','sum_hitAction_type_6'])\\\n",
    "      .distinct().orderBy('fullVisitorId','visitId').show()"
   ]
  },
  {
   "cell_type": "markdown",
   "metadata": {
    "id": "Y6vUB5q6QWQi"
   },
   "source": [
    "*โค้ดด้านล่าง เป็นการ cross-check ว่าการคำนวนข้างบนนั้นถูกต้องแล้ว*"
   ]
  },
  {
   "cell_type": "code",
   "execution_count": 35,
   "metadata": {},
   "outputs": [
    {
     "name": "stderr",
     "output_type": "stream",
     "text": [
      "                                                                                \r"
     ]
    },
    {
     "name": "stdout",
     "output_type": "stream",
     "text": [
      "+--------------+-----+\n",
      "|hitAction_type|count|\n",
      "+--------------+-----+\n",
      "|             6|    4|\n",
      "+--------------+-----+\n",
      "\n"
     ]
    }
   ],
   "source": [
    "raw_df.filter((sparkf.col('fullVisitorId') == '516734366347147622')&(sparkf.col('VisitId') == '1478384303'))\\\n",
    ".groupBy('hitAction_type').count().filter(sparkf.col('hitAction_type')==6).show()"
   ]
  },
  {
   "cell_type": "code",
   "execution_count": 104,
   "metadata": {},
   "outputs": [
    {
     "name": "stderr",
     "output_type": "stream",
     "text": [
      "[Stage 856:==============>                                          (1 + 3) / 4]\r"
     ]
    },
    {
     "name": "stdout",
     "output_type": "stream",
     "text": [
      "+------------------+----------+---------+------------+--------------+-----------------------+--------------------------------------------------------+----------+------------+\n",
      "|fullVisitorId     |visitId   |hitNumber|timeMicroSec|hitAction_type|totalTransactionRevenue|v2ProductName                                           |timeOnSite|timeMicroSec|\n",
      "+------------------+----------+---------+------------+--------------+-----------------------+--------------------------------------------------------+----------+------------+\n",
      "|516734366347147622|1478384303|6        |62638       |0             |70980000               |Rubber Grip Ballpoint Pen 4 Pack                        |1196      |62638       |\n",
      "|516734366347147622|1478384303|6        |62638       |0             |70980000               |Ballpoint LED Light Pen                                 |1196      |62638       |\n",
      "|516734366347147622|1478384303|6        |62638       |0             |70980000               |Leather and Metal Ballpoint Pen                         |1196      |62638       |\n",
      "|516734366347147622|1478384303|6        |62638       |0             |70980000               |Google Stylus Pen w/ LED Light                          |1196      |62638       |\n",
      "|516734366347147622|1478384303|6        |62638       |0             |70980000               |Pen Pencil & Highlighter Set                            |1196      |62638       |\n",
      "|516734366347147622|1478384303|6        |62638       |0             |70980000               |Maze Pen                                                |1196      |62638       |\n",
      "|516734366347147622|1478384303|6        |62638       |0             |70980000               |Colored Pencil Set                                      |1196      |62638       |\n",
      "|516734366347147622|1478384303|6        |62638       |0             |70980000               |Four Color Retractable Pen                              |1196      |62638       |\n",
      "|516734366347147622|1478384303|6        |62638       |0             |70980000               |Ballpoint Stylus Pen                                    |1196      |62638       |\n",
      "|516734366347147622|1478384303|6        |62638       |0             |70980000               |Retractable Ballpoint Pen Red                           |1196      |62638       |\n",
      "|516734366347147622|1478384303|6        |62638       |0             |70980000               |Google Ballpoint Pen Black                              |1196      |62638       |\n",
      "|516734366347147622|1478384303|6        |62638       |0             |70980000               |Metal Texture Roller Pen                                |1196      |62638       |\n",
      "|516734366347147622|1478384303|7        |103790      |0             |70980000               |Google Lunch Bag                                        |1196      |103790      |\n",
      "|516734366347147622|1478384303|7        |103790      |0             |70980000               |Google Alpine Style Backpack                            |1196      |103790      |\n",
      "|516734366347147622|1478384303|7        |103790      |0             |70980000               |Electronics Accessory Pouch                             |1196      |103790      |\n",
      "|516734366347147622|1478384303|7        |103790      |0             |70980000               |Softsided Travel Pouch Set                              |1196      |103790      |\n",
      "|516734366347147622|1478384303|7        |103790      |0             |70980000               |Collapsible Shopping Bag                                |1196      |103790      |\n",
      "|516734366347147622|1478384303|7        |103790      |0             |70980000               |Sport Bag                                               |1196      |103790      |\n",
      "|516734366347147622|1478384303|7        |103790      |0             |70980000               |Google Tote Bag                                         |1196      |103790      |\n",
      "|516734366347147622|1478384303|7        |103790      |0             |70980000               |Waterproof Backpack                                     |1196      |103790      |\n",
      "|516734366347147622|1478384303|7        |103790      |0             |70980000               |Google Slim Utility Travel Bag                          |1196      |103790      |\n",
      "|516734366347147622|1478384303|7        |103790      |0             |70980000               |Suitcase Organizer Cubes                                |1196      |103790      |\n",
      "|516734366347147622|1478384303|7        |103790      |0             |70980000               |Google Zipper-front Sports Bag                          |1196      |103790      |\n",
      "|516734366347147622|1478384303|7        |103790      |0             |70980000               |Large Zipper Top Tote Bag                               |1196      |103790      |\n",
      "|516734366347147622|1478384303|8        |125907      |0             |70980000               |Leather and Metal Ballpoint Pen                         |1196      |125907      |\n",
      "|516734366347147622|1478384303|8        |125907      |0             |70980000               |Four Color Retractable Pen                              |1196      |125907      |\n",
      "|516734366347147622|1478384303|8        |125907      |0             |70980000               |Ballpoint LED Light Pen                                 |1196      |125907      |\n",
      "|516734366347147622|1478384303|8        |125907      |0             |70980000               |Maze Pen                                                |1196      |125907      |\n",
      "|516734366347147622|1478384303|8        |125907      |0             |70980000               |Ballpoint Stylus Pen                                    |1196      |125907      |\n",
      "|516734366347147622|1478384303|8        |125907      |0             |70980000               |Google Stylus Pen w/ LED Light                          |1196      |125907      |\n",
      "|516734366347147622|1478384303|8        |125907      |0             |70980000               |Retractable Ballpoint Pen Red                           |1196      |125907      |\n",
      "|516734366347147622|1478384303|8        |125907      |0             |70980000               |Colored Pencil Set                                      |1196      |125907      |\n",
      "|516734366347147622|1478384303|8        |125907      |0             |70980000               |Pen Pencil & Highlighter Set                            |1196      |125907      |\n",
      "|516734366347147622|1478384303|8        |125907      |0             |70980000               |Metal Texture Roller Pen                                |1196      |125907      |\n",
      "|516734366347147622|1478384303|8        |125907      |0             |70980000               |Google Ballpoint Pen Black                              |1196      |125907      |\n",
      "|516734366347147622|1478384303|8        |125907      |0             |70980000               |Rubber Grip Ballpoint Pen 4 Pack                        |1196      |125907      |\n",
      "|516734366347147622|1478384303|10       |133578      |0             |70980000               |Google Men's Short Sleeve Hero Tee Light Blue           |1196      |133578      |\n",
      "|516734366347147622|1478384303|10       |133578      |0             |70980000               |YouTube Men's Short Sleeve Hero Tee Charcoal            |1196      |133578      |\n",
      "|516734366347147622|1478384303|10       |133578      |0             |70980000               |Google Men's 100% Cotton Short Sleeve Hero Tee White    |1196      |133578      |\n",
      "|516734366347147622|1478384303|10       |133578      |0             |70980000               |Google Men's 100% Cotton Short Sleeve Hero Tee Navy     |1196      |133578      |\n",
      "|516734366347147622|1478384303|10       |133578      |0             |70980000               |Google Men's Heavyweight Long Sleeve Hero Tee Navy      |1196      |133578      |\n",
      "|516734366347147622|1478384303|10       |133578      |0             |70980000               |YouTube Men's Short Sleeve Hero Tee Black               |1196      |133578      |\n",
      "|516734366347147622|1478384303|10       |133578      |0             |70980000               |Google Men's Heavyweight Long Sleeve Hero Tee Burgundy  |1196      |133578      |\n",
      "|516734366347147622|1478384303|10       |133578      |0             |70980000               |Google Men's 100% Cotton Short Sleeve Hero Tee Red      |1196      |133578      |\n",
      "|516734366347147622|1478384303|10       |133578      |0             |70980000               |Google Men's Performance Polo Grey/Black                |1196      |133578      |\n",
      "|516734366347147622|1478384303|10       |133578      |0             |70980000               |Google Men's 100% Cotton Short Sleeve Hero Tee Black    |1196      |133578      |\n",
      "|516734366347147622|1478384303|10       |133578      |0             |70980000               |YouTube Men's Short Sleeve Hero Tee White               |1196      |133578      |\n",
      "|516734366347147622|1478384303|10       |133578      |0             |70980000               |Google Men's Short Sleeve Hero Tee Heather              |1196      |133578      |\n",
      "|516734366347147622|1478384303|11       |146885      |1             |70980000               |Google Men's Heavyweight Long Sleeve Hero Tee Burgundy  |1196      |146885      |\n",
      "|516734366347147622|1478384303|12       |146886      |2             |70980000               |Google Men's Heavyweight Long Sleeve Hero Tee Burgundy  |1196      |146886      |\n",
      "|516734366347147622|1478384303|13       |153877      |2             |70980000               |Google Men's Heavyweight Long Sleeve Hero Tee Navy      |1196      |153877      |\n",
      "|516734366347147622|1478384303|14       |153878      |1             |70980000               |Google Men's Heavyweight Long Sleeve Hero Tee Navy      |1196      |153878      |\n",
      "|516734366347147622|1478384303|15       |164718      |1             |70980000               |Google Men's Heavyweight Long Sleeve Hero Tee Navy      |1196      |164718      |\n",
      "|516734366347147622|1478384303|16       |164719      |2             |70980000               |Google Men's Heavyweight Long Sleeve Hero Tee Navy      |1196      |164719      |\n",
      "|516734366347147622|1478384303|17       |166709      |1             |70980000               |Google Men's Heavyweight Long Sleeve Hero Tee Navy      |1196      |166709      |\n",
      "|516734366347147622|1478384303|18       |169578      |0             |70980000               |Google Men's Performance 1/4 Zip Pullover Heather/Black |1196      |169578      |\n",
      "|516734366347147622|1478384303|18       |169578      |0             |70980000               |Google Women's Fleece Hoodie                            |1196      |169578      |\n",
      "|516734366347147622|1478384303|18       |169578      |0             |70980000               |20 oz Stainless Steel Insulated Tumbler                 |1196      |169578      |\n",
      "|516734366347147622|1478384303|19       |191007      |0             |70980000               |Google Men's Short Sleeve Hero Tee Heather              |1196      |191007      |\n",
      "|516734366347147622|1478384303|19       |191007      |0             |70980000               |YouTube Men's Short Sleeve Hero Tee Black               |1196      |191007      |\n",
      "|516734366347147622|1478384303|19       |191007      |0             |70980000               |Google Men's Heavyweight Long Sleeve Hero Tee Burgundy  |1196      |191007      |\n",
      "|516734366347147622|1478384303|19       |191007      |0             |70980000               |Google Men's Heavyweight Long Sleeve Hero Tee Navy      |1196      |191007      |\n",
      "|516734366347147622|1478384303|19       |191007      |0             |70980000               |YouTube Men's Short Sleeve Hero Tee Charcoal            |1196      |191007      |\n",
      "|516734366347147622|1478384303|19       |191007      |0             |70980000               |Google Men's 100% Cotton Short Sleeve Hero Tee White    |1196      |191007      |\n",
      "|516734366347147622|1478384303|19       |191007      |0             |70980000               |Google Men's Performance Polo Grey/Black                |1196      |191007      |\n",
      "|516734366347147622|1478384303|19       |191007      |0             |70980000               |YouTube Men's Short Sleeve Hero Tee White               |1196      |191007      |\n",
      "|516734366347147622|1478384303|19       |191007      |0             |70980000               |Google Men's 100% Cotton Short Sleeve Hero Tee Black    |1196      |191007      |\n",
      "|516734366347147622|1478384303|19       |191007      |0             |70980000               |Google Men's 100% Cotton Short Sleeve Hero Tee Navy     |1196      |191007      |\n",
      "|516734366347147622|1478384303|19       |191007      |0             |70980000               |Google Men's 100% Cotton Short Sleeve Hero Tee Red      |1196      |191007      |\n",
      "|516734366347147622|1478384303|19       |191007      |0             |70980000               |Google Men's Short Sleeve Hero Tee Light Blue           |1196      |191007      |\n",
      "|516734366347147622|1478384303|20       |220658      |0             |70980000               |Google Men's 100% Cotton Short Sleeve Hero Tee Navy     |1196      |220658      |\n",
      "|516734366347147622|1478384303|20       |220658      |0             |70980000               |Google Toddler 1/4 Zip Fleece Pewter                    |1196      |220658      |\n",
      "|516734366347147622|1478384303|20       |220658      |0             |70980000               |Google Men's Heavyweight Long Sleeve Hero Tee Burgundy  |1196      |220658      |\n",
      "|516734366347147622|1478384303|21       |249343      |3             |70980000               |Google Vintage Henley Grey/Black                        |1196      |249343      |\n",
      "|516734366347147622|1478384303|23       |256816      |0             |70980000               |Google Men's 100% Cotton Short Sleeve Hero Tee Black    |1196      |256816      |\n",
      "|516734366347147622|1478384303|23       |256816      |0             |70980000               |Google Men's Watershed Full Zip Hoodie Grey             |1196      |256816      |\n",
      "|516734366347147622|1478384303|23       |256816      |0             |70980000               |Google Men's 100% Cotton Short Sleeve Hero Tee Navy     |1196      |256816      |\n",
      "|516734366347147622|1478384303|23       |256816      |0             |70980000               |Google Men's 100% Cotton Short Sleeve Hero Tee Red      |1196      |256816      |\n",
      "|516734366347147622|1478384303|23       |256816      |0             |70980000               |Google Men's 100% Cotton Short Sleeve Hero Tee White    |1196      |256816      |\n",
      "|516734366347147622|1478384303|23       |256816      |0             |70980000               |Google Men's Pullover Hoodie Grey                       |1196      |256816      |\n",
      "|516734366347147622|1478384303|23       |256816      |0             |70980000               |Google Men's  Zip Hoodie                                |1196      |256816      |\n",
      "|516734366347147622|1478384303|23       |256816      |0             |70980000               |Google Men's Heavyweight Long Sleeve Hero Tee Navy      |1196      |256816      |\n",
      "|516734366347147622|1478384303|23       |256816      |0             |70980000               |Android Men's  Zip Hoodie                               |1196      |256816      |\n",
      "|516734366347147622|1478384303|23       |256816      |0             |70980000               |Google Men's Heavyweight Long Sleeve Hero Tee Burgundy  |1196      |256816      |\n",
      "|516734366347147622|1478384303|23       |256816      |0             |70980000               |Google Men's Short Sleeve Hero Tee Heather              |1196      |256816      |\n",
      "|516734366347147622|1478384303|23       |256816      |0             |70980000               |YouTube Men's Short Sleeve Hero Tee Black               |1196      |256816      |\n",
      "|516734366347147622|1478384303|24       |313050      |0             |70980000               |Google Women's Short Sleeve Hero Tee Black              |1196      |313050      |\n",
      "|516734366347147622|1478384303|24       |313050      |0             |70980000               |YouTube Wool Heather Cap Heather/Black                  |1196      |313050      |\n",
      "|516734366347147622|1478384303|24       |313050      |0             |70980000               |Google Men's 100% Cotton Short Sleeve Hero Tee White    |1196      |313050      |\n",
      "|516734366347147622|1478384303|25       |322312      |0             |70980000               |Google Men's Performance Full Zip Jacket Black          |1196      |322312      |\n",
      "|516734366347147622|1478384303|25       |322312      |0             |70980000               |Google Men's Lightweight Microfleece Jacket Black       |1196      |322312      |\n",
      "|516734366347147622|1478384303|25       |322312      |0             |70980000               |Google Men's Pullover Hoodie Grey                       |1196      |322312      |\n",
      "|516734366347147622|1478384303|25       |322312      |0             |70980000               |Google Tri-blend Hoodie Grey                            |1196      |322312      |\n",
      "|516734366347147622|1478384303|25       |322312      |0             |70980000               |Google Men's Microfiber 1/4 Zip Pullover Grey/Black     |1196      |322312      |\n",
      "|516734366347147622|1478384303|25       |322312      |0             |70980000               |Google Men's Weatherblock Shell Jacket Black            |1196      |322312      |\n",
      "|516734366347147622|1478384303|25       |322312      |0             |70980000               |Google Men's Convertible Vest-Jacket Pewter             |1196      |322312      |\n",
      "|516734366347147622|1478384303|25       |322312      |0             |70980000               |Android Men's  Zip Hoodie                               |1196      |322312      |\n",
      "|516734366347147622|1478384303|25       |322312      |0             |70980000               |Google Men's Quilted Insulated Vest Black               |1196      |322312      |\n",
      "|516734366347147622|1478384303|25       |322312      |0             |70980000               |Google Men's Microfiber 1/4 Zip Pullover Blue/Indigo    |1196      |322312      |\n",
      "|516734366347147622|1478384303|25       |322312      |0             |70980000               |Google Men's Watershed Full Zip Hoodie Grey             |1196      |322312      |\n",
      "|516734366347147622|1478384303|25       |322312      |0             |70980000               |Google Men's  Zip Hoodie                                |1196      |322312      |\n",
      "|516734366347147622|1478384303|26       |338943      |0             |70980000               |Google Men's Performance 1/4 Zip Pullover Heather/Black |1196      |338943      |\n",
      "|516734366347147622|1478384303|26       |338943      |0             |70980000               |Google Men's Airflow 1/4 Zip Pullover Black             |1196      |338943      |\n",
      "|516734366347147622|1478384303|26       |338943      |0             |70980000               |Google Men's Watershed Full Zip Hoodie Grey             |1196      |338943      |\n",
      "|516734366347147622|1478384303|26       |338943      |0             |70980000               |Google Men's Short Sleeve Performance Badge Tee Pewter  |1196      |338943      |\n",
      "|516734366347147622|1478384303|26       |338943      |0             |70980000               |Google Men's Short Sleeve Performance Badge Tee Black   |1196      |338943      |\n",
      "|516734366347147622|1478384303|26       |338943      |0             |70980000               |Google Men's Short Sleeve Performance Badge Tee Navy    |1196      |338943      |\n",
      "|516734366347147622|1478384303|26       |338943      |0             |70980000               |Google Men's Short Sleeve Performance Badge Tee Charcoal|1196      |338943      |\n",
      "|516734366347147622|1478384303|26       |338943      |0             |70980000               |Google Men's Performance Full Zip Jacket Black          |1196      |338943      |\n",
      "|516734366347147622|1478384303|26       |338943      |0             |70980000               |Google Men's Convertible Vest-Jacket Pewter             |1196      |338943      |\n",
      "|516734366347147622|1478384303|26       |338943      |0             |70980000               |Google Men's Airflow 1/4 Zip Pullover Lapis             |1196      |338943      |\n",
      "|516734366347147622|1478384303|26       |338943      |0             |70980000               |Google Men's Performance Hero Tee Gunmetal              |1196      |338943      |\n",
      "|516734366347147622|1478384303|27       |381144      |0             |70980000               |Google Men's 100% Cotton Short Sleeve Hero Tee White    |1196      |381144      |\n",
      "|516734366347147622|1478384303|27       |381144      |0             |70980000               |Google Men's Heavyweight Long Sleeve Hero Tee Burgundy  |1196      |381144      |\n",
      "|516734366347147622|1478384303|27       |381144      |0             |70980000               |YouTube Men's Short Sleeve Hero Tee Charcoal            |1196      |381144      |\n",
      "|516734366347147622|1478384303|27       |381144      |0             |70980000               |Google Men's 100% Cotton Short Sleeve Hero Tee Black    |1196      |381144      |\n",
      "|516734366347147622|1478384303|27       |381144      |0             |70980000               |Google Men's Short Sleeve Hero Tee Heather              |1196      |381144      |\n",
      "|516734366347147622|1478384303|27       |381144      |0             |70980000               |Google Men's Short Sleeve Hero Tee Light Blue           |1196      |381144      |\n",
      "|516734366347147622|1478384303|27       |381144      |0             |70980000               |YouTube Men's Short Sleeve Hero Tee Black               |1196      |381144      |\n",
      "|516734366347147622|1478384303|27       |381144      |0             |70980000               |Google Men's Heavyweight Long Sleeve Hero Tee Navy      |1196      |381144      |\n",
      "|516734366347147622|1478384303|27       |381144      |0             |70980000               |Google Men's Performance Polo Grey/Black                |1196      |381144      |\n",
      "|516734366347147622|1478384303|27       |381144      |0             |70980000               |Google Men's 100% Cotton Short Sleeve Hero Tee Navy     |1196      |381144      |\n",
      "|516734366347147622|1478384303|27       |381144      |0             |70980000               |YouTube Men's Short Sleeve Hero Tee White               |1196      |381144      |\n",
      "|516734366347147622|1478384303|27       |381144      |0             |70980000               |Google Men's 100% Cotton Short Sleeve Hero Tee Red      |1196      |381144      |\n",
      "|516734366347147622|1478384303|28       |391066      |1             |70980000               |Google Men's Heavyweight Long Sleeve Hero Tee Navy      |1196      |391066      |\n",
      "|516734366347147622|1478384303|29       |391066      |2             |70980000               |Google Men's Heavyweight Long Sleeve Hero Tee Navy      |1196      |391066      |\n",
      "|516734366347147622|1478384303|30       |394542      |1             |70980000               |Google Men's Heavyweight Long Sleeve Hero Tee Navy      |1196      |394542      |\n",
      "|516734366347147622|1478384303|31       |396307      |0             |70980000               |20 oz Stainless Steel Insulated Tumbler                 |1196      |396307      |\n",
      "|516734366347147622|1478384303|31       |396307      |0             |70980000               |Google Men's Performance 1/4 Zip Pullover Heather/Black |1196      |396307      |\n",
      "|516734366347147622|1478384303|31       |396307      |0             |70980000               |Google Women's Fleece Hoodie                            |1196      |396307      |\n",
      "|516734366347147622|1478384303|32       |414229      |3             |70980000               |Google Men's Heavyweight Long Sleeve Hero Tee Navy      |1196      |414229      |\n",
      "|516734366347147622|1478384303|34       |428813      |0             |70980000               |Red Shine 15 oz Mug                                     |1196      |428813      |\n",
      "|516734366347147622|1478384303|34       |428813      |0             |70980000               |Engraved Ceramic Google Mug                             |1196      |428813      |\n",
      "|516734366347147622|1478384303|34       |428813      |0             |70980000               |Android Rise 14 oz Mug                                  |1196      |428813      |\n",
      "|516734366347147622|1478384303|35       |443236      |1             |70980000               |Red Shine 15 oz Mug                                     |1196      |443236      |\n",
      "|516734366347147622|1478384303|36       |443237      |2             |70980000               |Red Shine 15 oz Mug                                     |1196      |443237      |\n",
      "|516734366347147622|1478384303|37       |448091      |1             |70980000               |Red Shine 15 oz Mug                                     |1196      |448091      |\n",
      "|516734366347147622|1478384303|38       |450889      |0             |70980000               |Google Women's Short Sleeve Hero Tee Black              |1196      |450889      |\n",
      "|516734366347147622|1478384303|38       |450889      |0             |70980000               |Google Toddler 1/4 Zip Fleece Pewter                    |1196      |450889      |\n",
      "|516734366347147622|1478384303|38       |450889      |0             |70980000               |Google Women's Zip Hoodie Grey                          |1196      |450889      |\n",
      "|516734366347147622|1478384303|39       |473402      |0             |70980000               |Engraved Ceramic Google Mug                             |1196      |473402      |\n",
      "|516734366347147622|1478384303|39       |473402      |0             |70980000               |Android Rise 14 oz Mug                                  |1196      |473402      |\n",
      "|516734366347147622|1478384303|39       |473402      |0             |70980000               |Red Shine 15 oz Mug                                     |1196      |473402      |\n",
      "|516734366347147622|1478384303|41       |484218      |0             |70980000               |Fashion Sunglasses & Pouch                              |1196      |484218      |\n",
      "|516734366347147622|1478384303|41       |484218      |0             |70980000               |Straw Beach Mat                                         |1196      |484218      |\n",
      "|516734366347147622|1478384303|41       |484218      |0             |70980000               |Google Luggage Tag                                      |1196      |484218      |\n",
      "|516734366347147622|1478384303|41       |484218      |0             |70980000               |Softsided Travel Pouch Set                              |1196      |484218      |\n",
      "|516734366347147622|1478384303|41       |484218      |0             |70980000               |Suitcase Organizer Cubes                                |1196      |484218      |\n",
      "|516734366347147622|1478384303|41       |484218      |0             |70980000               |Android Luggage Tag                                     |1196      |484218      |\n",
      "|516734366347147622|1478384303|41       |484218      |0             |70980000               |Google Kick Ball                                        |1196      |484218      |\n",
      "|516734366347147622|1478384303|41       |484218      |0             |70980000               |Switch Tone Color Crayon Pen                            |1196      |484218      |\n",
      "|516734366347147622|1478384303|41       |484218      |0             |70980000               |1 oz Hand Sanitizer                                     |1196      |484218      |\n",
      "|516734366347147622|1478384303|41       |484218      |0             |70980000               |Seat Pack Organizer                                     |1196      |484218      |\n",
      "|516734366347147622|1478384303|41       |484218      |0             |70980000               |Google Sunglasses                                       |1196      |484218      |\n",
      "|516734366347147622|1478384303|41       |484218      |0             |70980000               |SPF-15 Slim & Slender Lip Balm                          |1196      |484218      |\n",
      "|516734366347147622|1478384303|42       |498882      |0             |70980000               |Yoga Block                                              |1196      |498882      |\n",
      "|516734366347147622|1478384303|42       |498882      |0             |70980000               |Google Kick Ball                                        |1196      |498882      |\n",
      "|516734366347147622|1478384303|42       |498882      |0             |70980000               |Yoga Mat                                                |1196      |498882      |\n",
      "|516734366347147622|1478384303|43       |511388      |0             |70980000               |8 pc Android Sticker Sheet                              |1196      |511388      |\n",
      "|516734366347147622|1478384303|43       |511388      |0             |70980000               |YouTube Custom Decals                                   |1196      |511388      |\n",
      "|516734366347147622|1478384303|43       |511388      |0             |70980000               |Google Doodle Decal                                     |1196      |511388      |\n",
      "|516734366347147622|1478384303|43       |511388      |0             |70980000               |Android Sticker Sheet Ultra Removable                   |1196      |511388      |\n",
      "|516734366347147622|1478384303|43       |511388      |0             |70980000               |Google Laptop and Cell Phone Stickers                   |1196      |511388      |\n",
      "|516734366347147622|1478384303|43       |511388      |0             |70980000               |Keyboard DOT Sticker                                    |1196      |511388      |\n",
      "|516734366347147622|1478384303|44       |540229      |0             |70980000               |Android Men's Short Sleeve Hero Tee Heather             |1196      |540229      |\n",
      "|516734366347147622|1478384303|44       |540229      |0             |70980000               |Android Men's Short Sleeve Hero Tee White               |1196      |540229      |\n",
      "|516734366347147622|1478384303|44       |540229      |0             |70980000               |Android Men's Short Sleeve Tri-blend Hero Tee Grey      |1196      |540229      |\n",
      "|516734366347147622|1478384303|44       |540229      |0             |70980000               |Android 24 oz Contigo Bottle                            |1196      |540229      |\n",
      "|516734366347147622|1478384303|44       |540229      |0             |70980000               |Android Men's  Zip Hoodie                               |1196      |540229      |\n",
      "|516734366347147622|1478384303|44       |540229      |0             |70980000               |Android Men's Long Sleeve Badge Crew Tee Heather        |1196      |540229      |\n",
      "|516734366347147622|1478384303|44       |540229      |0             |70980000               |Android Men's Skater Badge Tee Charcoal                 |1196      |540229      |\n",
      "|516734366347147622|1478384303|44       |540229      |0             |70980000               |Android Men's 3/4 Sleeve Raglan Henley Black            |1196      |540229      |\n",
      "|516734366347147622|1478384303|44       |540229      |0             |70980000               |Android Onesie Baby Blue                                |1196      |540229      |\n",
      "|516734366347147622|1478384303|44       |540229      |0             |70980000               |Android BTTF Cosmos Graphic Tee                         |1196      |540229      |\n",
      "|516734366347147622|1478384303|44       |540229      |0             |70980000               |Android Men's Vintage Tee                               |1196      |540229      |\n",
      "|516734366347147622|1478384303|44       |540229      |0             |70980000               |Android BTTF Moonshot Graphic Tee                       |1196      |540229      |\n",
      "|516734366347147622|1478384303|45       |560315      |2             |70980000               |Android Men's Long Sleeve Badge Crew Tee Heather        |1196      |560315      |\n",
      "|516734366347147622|1478384303|46       |560315      |1             |70980000               |Android Men's Long Sleeve Badge Crew Tee Heather        |1196      |560315      |\n",
      "|516734366347147622|1478384303|47       |562951      |1             |70980000               |Android Men's Long Sleeve Badge Crew Tee Heather        |1196      |562951      |\n",
      "|516734366347147622|1478384303|48       |565612      |0             |70980000               |Google Women's Long Sleeve Tee Lavender                 |1196      |565612      |\n",
      "|516734366347147622|1478384303|48       |565612      |0             |70980000               |YouTube Wool Heather Cap Heather/Black                  |1196      |565612      |\n",
      "|516734366347147622|1478384303|48       |565612      |0             |70980000               |Android Heavyweight Long Sleeve Badge Tee Black         |1196      |565612      |\n",
      "|516734366347147622|1478384303|55       |766764      |5             |70980000               |Google Men's Heavyweight Long Sleeve Hero Tee Navy      |1196      |766764      |\n",
      "|516734366347147622|1478384303|55       |766764      |5             |70980000               |Google Vintage Henley Grey/Black                        |1196      |766764      |\n",
      "|516734366347147622|1478384303|56       |1153084     |5             |70980000               |Google Men's Heavyweight Long Sleeve Hero Tee Navy      |1196      |1153084     |\n",
      "|516734366347147622|1478384303|56       |1153084     |5             |70980000               |Google Vintage Henley Grey/Black                        |1196      |1153084     |\n",
      "|516734366347147622|1478384303|57       |1177145     |5             |70980000               |Google Men's Heavyweight Long Sleeve Hero Tee Navy      |1196      |1177145     |\n",
      "|516734366347147622|1478384303|57       |1177145     |5             |70980000               |Google Vintage Henley Grey/Black                        |1196      |1177145     |\n",
      "|516734366347147622|1478384303|58       |1196291     |6             |70980000               |Google Men's Heavyweight Long Sleeve Hero Tee Navy      |1196      |1196291     |\n",
      "|516734366347147622|1478384303|58       |1196291     |6             |70980000               |Google Vintage Henley Grey/Black                        |1196      |1196291     |\n",
      "|516734366347147622|1478384303|59       |1196326     |6             |70980000               |Google Vintage Henley Grey/Black                        |1196      |1196326     |\n",
      "|516734366347147622|1478384303|59       |1196326     |6             |70980000               |Google Men's Heavyweight Long Sleeve Hero Tee Navy      |1196      |1196326     |\n",
      "+------------------+----------+---------+------------+--------------+-----------------------+--------------------------------------------------------+----------+------------+\n",
      "\n"
     ]
    },
    {
     "name": "stderr",
     "output_type": "stream",
     "text": [
      "                                                                                \r"
     ]
    }
   ],
   "source": [
    "raw_df\\\n",
    "      .filter((sparkf.col('fullVisitorId') == '516734366347147622')&(sparkf.col('VisitId') == '1478384303'))\\\n",
    "      .select(['fullVisitorId','visitId','hitNumber','timeMicroSec','hitAction_type'\\\n",
    "               ,'totalTransactionRevenue','v2ProductName','timeOnSite','timeMicroSec'])\\\n",
    "      .orderBy('hitNumber').show(1000,truncate=False)"
   ]
  },
  {
   "cell_type": "raw",
   "metadata": {},
   "source": [
    "raw_df\\\n",
    "      .withColumn('numHit',allHit.over(sessionWindow))\\\n",
    "      .withColumn('hitAction_type_6',sparkf.when(sparkf.col('hitAction_type')==6,1).otherwise(0))\\\n",
    "      .withColumn('sum_hitAction_type_6',sparkf.sum(sparkf.col('hitAction_type_6')).over(sessionWindow))\\\n",
    "      .filter((sparkf.col('fullVisitorId') == '516734366347147622')&(sparkf.col('VisitId') == '1478384303'))\\\n",
    "      .select(['hitNumber','timeMicroSec','hitAction_type'\\\n",
    "               ,'hitAction_type_6','sum_hitAction_type_6','v2ProductName','isClick','isImpression'])\\\n",
    "      .orderBy('hitNumber').show(1000,truncate=False)"
   ]
  },
  {
   "cell_type": "code",
   "execution_count": 37,
   "metadata": {},
   "outputs": [
    {
     "data": {
      "text/plain": [
       "DataFrame[source: string, isTrueDirect: boolean, sourceKeyword: string, medium: string, isVideoAd: boolean, fullVisitorId: bigint, visitId: int, date: int, newVisits: int, hitReferer: string, hitType: string, hitAction_type: int, hitNumber: int, hitHour: int, hitMin: int, timeMicroSec: int, v2ProductName: string, productListName: string, isClick: boolean, isImpression: boolean, sessionQualityDim: int, timeOnScreen: string, timeOnSite: int, totalTransactionRevenue: bigint]"
      ]
     },
     "execution_count": 37,
     "metadata": {},
     "output_type": "execute_result"
    }
   ],
   "source": [
    "raw_df"
   ]
  },
  {
   "cell_type": "markdown",
   "metadata": {
    "id": "lWRsq4oEOzoC"
   },
   "source": [
    "# 3. Data Preparation"
   ]
  },
  {
   "cell_type": "markdown",
   "metadata": {},
   "source": [
    "### 3.1 Transform Categorical Columns to Dummy Columns and Null Replacement"
   ]
  },
  {
   "cell_type": "code",
   "execution_count": 38,
   "metadata": {
    "id": "G4R-a_OsRnCm"
   },
   "outputs": [],
   "source": [
    "noNull_Dummy_df = raw_df.withColumn('isTrueDirect', sparkf.when(raw_df.isTrueDirect == 'true', 1).otherwise(0)) \\\n",
    ".withColumn('medium_organic', sparkf.when(raw_df.medium == 'organic', 1).otherwise(0)) \\\n",
    ".withColumn('dayofweek', sparkf.dayofweek(sparkf.to_date(sparkf.col('date').cast('string'), 'yyyyMMdd'))) \\\n",
    ".withColumn('newVisits', sparkf.when(raw_df.newVisits == '1', 1).otherwise(0)) \\\n",
    ".withColumn('hitType_page', sparkf.when(raw_df.hitType == 'PAGE', 1).otherwise(0)) \\\n",
    ".withColumn('purchased', sparkf.when(raw_df.hitAction_type == 6, 1).otherwise(0)) \\\n",
    ".withColumn('hitHour_00_02', sparkf.when((raw_df.hitHour >= 0) & (raw_df.hitHour <= 2), 1).otherwise(0)) \\\n",
    ".withColumn('hitHour_03_05', sparkf.when((raw_df.hitHour >= 3) & (raw_df.hitHour <= 5), 1).otherwise(0)) \\\n",
    ".withColumn('hitHour_06_08', sparkf.when((raw_df.hitHour >= 6) & (raw_df.hitHour <= 8), 1).otherwise(0)) \\\n",
    ".withColumn('hitHour_09_11', sparkf.when((raw_df.hitHour >= 9) & (raw_df.hitHour <= 11), 1).otherwise(0)) \\\n",
    ".withColumn('hitHour_12_14', sparkf.when((raw_df.hitHour >= 12) & (raw_df.hitHour <= 14), 1).otherwise(0)) \\\n",
    ".withColumn('hitHour_15_17', sparkf.when((raw_df.hitHour >= 15) & (raw_df.hitHour <= 17), 1).otherwise(0)) \\\n",
    ".withColumn('hitHour_18_20', sparkf.when((raw_df.hitHour >= 18) & (raw_df.hitHour <= 20), 1).otherwise(0)) \\\n",
    ".withColumn('hitHour_21_23', sparkf.when((raw_df.hitHour >= 21) & (raw_df.hitHour <= 23), 1).otherwise(0)) \\\n",
    ".withColumn('hitMin_00_14', sparkf.when((raw_df.hitMin >= 0) & (raw_df.hitHour < 15), 1).otherwise(0)) \\\n",
    ".withColumn('hitMin_15_29', sparkf.when((raw_df.hitMin >= 15) & (raw_df.hitHour < 30), 1).otherwise(0)) \\\n",
    ".withColumn('hitMin_30_44', sparkf.when((raw_df.hitMin >= 30) & (raw_df.hitHour < 45), 1).otherwise(0)) \\\n",
    ".withColumn('hitMin_45_60', sparkf.when((raw_df.hitMin >= 45) & (raw_df.hitHour < 60), 1).otherwise(0)) \\\n",
    ".withColumn('isClick', sparkf.when(raw_df.isClick, 1).otherwise(0)) \\\n",
    ".withColumn('isImpression', sparkf.when(raw_df.isImpression, 1).otherwise(0)) \\\n",
    ".withColumn('hitaction_1', sparkf.when(raw_df.hitAction_type == 1, 1).otherwise(0)) \\\n",
    ".withColumn('hitaction_2', sparkf.when(raw_df.hitAction_type == 2, 1).otherwise(0)) \\\n",
    ".withColumn('hitaction_3', sparkf.when(raw_df.hitAction_type == 3, 1).otherwise(0)) \\\n",
    ".withColumn('hitaction_4', sparkf.when(raw_df.hitAction_type == 4, 1).otherwise(0)) \\\n",
    ".withColumn('hitaction_5', sparkf.when(raw_df.hitAction_type == 5, 1).otherwise(0)) \\\n",
    ".withColumn('hitaction_6', sparkf.when(raw_df.hitAction_type == 6, 1).otherwise(0)) \\\n",
    ".na.fill(value=0, subset=['timeOnSite', 'sessionQualityDim', 'totalTransactionRevenue']) ### ตรงนี้เกิดการแทนที่ null ด้วย 0 บน 'timeOnSite', 'sessionQualityDim', 'totalTransactionRevenue'"
   ]
  },
  {
   "cell_type": "code",
   "execution_count": 39,
   "metadata": {
    "colab": {
     "base_uri": "https://localhost:8080/"
    },
    "id": "ubUZR3h-anFo",
    "outputId": "6163ace1-a2a8-4eaa-df57-5b73cb55f570"
   },
   "outputs": [
    {
     "name": "stdout",
     "output_type": "stream",
     "text": [
      "root\n",
      " |-- source: string (nullable = true)\n",
      " |-- isTrueDirect: integer (nullable = false)\n",
      " |-- sourceKeyword: string (nullable = true)\n",
      " |-- medium: string (nullable = true)\n",
      " |-- isVideoAd: boolean (nullable = true)\n",
      " |-- fullVisitorId: long (nullable = true)\n",
      " |-- visitId: integer (nullable = true)\n",
      " |-- date: integer (nullable = true)\n",
      " |-- newVisits: integer (nullable = false)\n",
      " |-- hitReferer: string (nullable = true)\n",
      " |-- hitType: string (nullable = true)\n",
      " |-- hitAction_type: integer (nullable = true)\n",
      " |-- hitNumber: integer (nullable = true)\n",
      " |-- hitHour: integer (nullable = true)\n",
      " |-- hitMin: integer (nullable = true)\n",
      " |-- timeMicroSec: integer (nullable = true)\n",
      " |-- v2ProductName: string (nullable = true)\n",
      " |-- productListName: string (nullable = true)\n",
      " |-- isClick: integer (nullable = false)\n",
      " |-- isImpression: integer (nullable = false)\n",
      " |-- sessionQualityDim: integer (nullable = true)\n",
      " |-- timeOnScreen: string (nullable = true)\n",
      " |-- timeOnSite: integer (nullable = true)\n",
      " |-- totalTransactionRevenue: long (nullable = true)\n",
      " |-- medium_organic: integer (nullable = false)\n",
      " |-- dayofweek: integer (nullable = true)\n",
      " |-- hitType_page: integer (nullable = false)\n",
      " |-- purchased: integer (nullable = false)\n",
      " |-- hitHour_00_02: integer (nullable = false)\n",
      " |-- hitHour_03_05: integer (nullable = false)\n",
      " |-- hitHour_06_08: integer (nullable = false)\n",
      " |-- hitHour_09_11: integer (nullable = false)\n",
      " |-- hitHour_12_14: integer (nullable = false)\n",
      " |-- hitHour_15_17: integer (nullable = false)\n",
      " |-- hitHour_18_20: integer (nullable = false)\n",
      " |-- hitHour_21_23: integer (nullable = false)\n",
      " |-- hitMin_00_14: integer (nullable = false)\n",
      " |-- hitMin_15_29: integer (nullable = false)\n",
      " |-- hitMin_30_44: integer (nullable = false)\n",
      " |-- hitMin_45_60: integer (nullable = false)\n",
      " |-- hitaction_1: integer (nullable = false)\n",
      " |-- hitaction_2: integer (nullable = false)\n",
      " |-- hitaction_3: integer (nullable = false)\n",
      " |-- hitaction_4: integer (nullable = false)\n",
      " |-- hitaction_5: integer (nullable = false)\n",
      " |-- hitaction_6: integer (nullable = false)\n",
      "\n"
     ]
    }
   ],
   "source": [
    "noNull_Dummy_df.printSchema() ##Aekanun"
   ]
  },
  {
   "cell_type": "code",
   "execution_count": 40,
   "metadata": {},
   "outputs": [],
   "source": [
    "\n",
    "\n",
    "noSpurious_df = noNull_Dummy_df.groupBy('fullVisitorId', 'visitId', \n",
    "                  'dayofweek',\n",
    "                  'newVisits',\n",
    "                  'hitHour_00_02', 'hitHour_03_05', 'hitHour_06_08', 'hitHour_09_11', \n",
    "                  'hitHour_12_14', 'hitHour_15_17',  'hitHour_18_20', 'hitHour_21_23', \n",
    "                  ) \\\n",
    ".agg(sparkf.sum('hitaction_1').alias('sum_hitaction_1')\n",
    ", sparkf.sum('hitaction_2').alias('sum_hitaction_2')\n",
    ", sparkf.sum('hitaction_3').alias('sum_hitaction_3')\n",
    ", sparkf.sum('hitaction_4').alias('sum_hitaction_4')\n",
    ", sparkf.sum('hitaction_5').alias('sum_hitaction_5')\n",
    ", sparkf.sum('hitaction_6').alias('sum_hitaction_6')\n",
    ", sparkf.max('hitNumber').alias('hitNumber')\n",
    ", sparkf.max('timeOnSite').alias('timeOnSite')\n",
    ", sparkf.max('sessionQualityDim').alias('sessionQualityDim')\n",
    ", sparkf.max('totalTransactionRevenue').alias('totalTransactionRevenue')\n",
    ", sparkf.max('isClick').alias('isClick')\n",
    ", sparkf.max('isImpression').alias('isImpression')\n",
    ")\n",
    "\n"
   ]
  },
  {
   "cell_type": "raw",
   "metadata": {},
   "source": [
    "noSpurious_df = noNull_Dummy_df.groupBy('fullVisitorId', 'visitId', \n",
    "                  'hitHour_00_02', 'hitHour_03_05', 'hitHour_06_08', 'hitHour_09_11', \n",
    "                  'hitHour_12_14', 'hitHour_15_17',  'hitHour_18_20', 'hitHour_21_23', \n",
    "                  ) \\\n",
    ".agg(sparkf.sum('hitaction_1').alias('sum_hitaction_1')\n",
    ", sparkf.sum('hitaction_2').alias('sum_hitaction_2')\n",
    ", sparkf.sum('hitaction_3').alias('sum_hitaction_3')\n",
    ", sparkf.sum('hitaction_4').alias('sum_hitaction_4')\n",
    ", sparkf.sum('hitaction_5').alias('sum_hitaction_5')\n",
    ", sparkf.sum('hitaction_6').alias('sum_hitaction_6')\n",
    ", sparkf.max('hitNumber').alias('hitNumber')\n",
    ", sparkf.max('timeOnSite').alias('timeOnSite')\n",
    ", sparkf.max('sessionQualityDim').alias('sessionQualityDim')\n",
    ", sparkf.max('totalTransactionRevenue').alias('totalTransactionRevenue')\n",
    ", sparkf.max('isClick').alias('isClick')\n",
    ", sparkf.max('isImpression').alias('isImpression')\n",
    ")"
   ]
  },
  {
   "cell_type": "code",
   "execution_count": 41,
   "metadata": {
    "id": "Lx84yeCDtEuH"
   },
   "outputs": [],
   "source": [
    "noSpurious_df = noSpurious_df.withColumn('target', sparkf.when(noSpurious_df.sum_hitaction_6 >= 1, 1).otherwise(0))"
   ]
  },
  {
   "cell_type": "code",
   "execution_count": 42,
   "metadata": {},
   "outputs": [
    {
     "data": {
      "text/plain": [
       "['fullVisitorId',\n",
       " 'visitId',\n",
       " 'dayofweek',\n",
       " 'newVisits',\n",
       " 'hitHour_00_02',\n",
       " 'hitHour_03_05',\n",
       " 'hitHour_06_08',\n",
       " 'hitHour_09_11',\n",
       " 'hitHour_12_14',\n",
       " 'hitHour_15_17',\n",
       " 'hitHour_18_20',\n",
       " 'hitHour_21_23',\n",
       " 'sum_hitaction_1',\n",
       " 'sum_hitaction_2',\n",
       " 'sum_hitaction_3',\n",
       " 'sum_hitaction_4',\n",
       " 'sum_hitaction_5',\n",
       " 'sum_hitaction_6',\n",
       " 'hitNumber',\n",
       " 'timeOnSite',\n",
       " 'sessionQualityDim',\n",
       " 'totalTransactionRevenue',\n",
       " 'isClick',\n",
       " 'isImpression',\n",
       " 'target']"
      ]
     },
     "execution_count": 42,
     "metadata": {},
     "output_type": "execute_result"
    }
   ],
   "source": [
    "noSpurious_df.columns"
   ]
  },
  {
   "cell_type": "code",
   "execution_count": 43,
   "metadata": {},
   "outputs": [
    {
     "name": "stderr",
     "output_type": "stream",
     "text": [
      "[Stage 95:=========================================>            (155 + 5) / 200]\r"
     ]
    },
    {
     "name": "stdout",
     "output_type": "stream",
     "text": [
      "+------------------+----------+---------+---------+---------+----------+-----------------------+\n",
      "|fullVisitorId     |visitId   |dayofweek|newVisits|hitNumber|timeOnSite|totalTransactionRevenue|\n",
      "+------------------+----------+---------+---------+---------+----------+-----------------------+\n",
      "|516734366347147622|1478384303|7        |1        |59       |1196      |70980000               |\n",
      "+------------------+----------+---------+---------+---------+----------+-----------------------+\n",
      "\n"
     ]
    },
    {
     "name": "stderr",
     "output_type": "stream",
     "text": [
      "                                                                                \r"
     ]
    }
   ],
   "source": [
    "noSpurious_df.filter((sparkf.col('fullVisitorId') == '516734366347147622')&(sparkf.col('VisitId') == '1478384303'))\\\n",
    ".select(['fullVisitorId','visitId','dayofweek','newVisits','hitNumber'\\\n",
    "               ,'timeOnSite','totalTransactionRevenue'])\\\n",
    ".orderBy('hitNumber').show(1000,truncate=False)"
   ]
  },
  {
   "cell_type": "raw",
   "metadata": {},
   "source": [
    "noSpurious_df.filter((sparkf.col('fullVisitorId') == '516734366347147622')&(sparkf.col('VisitId') == '1478384303'))\\\n",
    ".select([\\\n",
    " 'sum_hitaction_1',\n",
    " 'sum_hitaction_2',\n",
    " 'sum_hitaction_3',\n",
    " 'sum_hitaction_4',\n",
    " 'sum_hitaction_5',\n",
    " 'sum_hitaction_6',\n",
    " 'hitNumber',\n",
    " 'timeOnSite',\n",
    " 'sessionQualityDim',\n",
    " 'totalTransactionRevenue',\n",
    " 'isClick',\n",
    " 'isImpression',\n",
    " 'target']).show()"
   ]
  },
  {
   "cell_type": "code",
   "execution_count": 44,
   "metadata": {
    "colab": {
     "base_uri": "https://localhost:8080/",
     "height": 990
    },
    "id": "Nys18fuC2IZq",
    "outputId": "c89256e2-dea2-4d03-88fa-e9211b98c85c"
   },
   "outputs": [
    {
     "name": "stderr",
     "output_type": "stream",
     "text": [
      "                                                                                \r"
     ]
    },
    {
     "data": {
      "text/html": [
       "<div>\n",
       "<style scoped>\n",
       "    .dataframe tbody tr th:only-of-type {\n",
       "        vertical-align: middle;\n",
       "    }\n",
       "\n",
       "    .dataframe tbody tr th {\n",
       "        vertical-align: top;\n",
       "    }\n",
       "\n",
       "    .dataframe thead th {\n",
       "        text-align: right;\n",
       "    }\n",
       "</style>\n",
       "<table border=\"1\" class=\"dataframe\">\n",
       "  <thead>\n",
       "    <tr style=\"text-align: right;\">\n",
       "      <th></th>\n",
       "      <th>0</th>\n",
       "      <th>1</th>\n",
       "      <th>2</th>\n",
       "      <th>3</th>\n",
       "      <th>4</th>\n",
       "    </tr>\n",
       "  </thead>\n",
       "  <tbody>\n",
       "    <tr>\n",
       "      <th>summary</th>\n",
       "      <td>count</td>\n",
       "      <td>mean</td>\n",
       "      <td>stddev</td>\n",
       "      <td>min</td>\n",
       "      <td>max</td>\n",
       "    </tr>\n",
       "    <tr>\n",
       "      <th>fullVisitorId</th>\n",
       "      <td>23319</td>\n",
       "      <td>4.7512512889946993E18</td>\n",
       "      <td>1.44812854426896794E18</td>\n",
       "      <td>514359656957582</td>\n",
       "      <td>5487531102128447544</td>\n",
       "    </tr>\n",
       "    <tr>\n",
       "      <th>visitId</th>\n",
       "      <td>23319</td>\n",
       "      <td>1.4866830527135384E9</td>\n",
       "      <td>9175882.438683491</td>\n",
       "      <td>1470037326</td>\n",
       "      <td>1501656575</td>\n",
       "    </tr>\n",
       "    <tr>\n",
       "      <th>dayofweek</th>\n",
       "      <td>23319</td>\n",
       "      <td>3.9542862043826923</td>\n",
       "      <td>1.8567729191976179</td>\n",
       "      <td>1</td>\n",
       "      <td>7</td>\n",
       "    </tr>\n",
       "    <tr>\n",
       "      <th>newVisits</th>\n",
       "      <td>23319</td>\n",
       "      <td>0.739825893048587</td>\n",
       "      <td>0.4387388696509493</td>\n",
       "      <td>0</td>\n",
       "      <td>1</td>\n",
       "    </tr>\n",
       "    <tr>\n",
       "      <th>hitHour_00_02</th>\n",
       "      <td>23319</td>\n",
       "      <td>0.0838800977743471</td>\n",
       "      <td>0.27721385690714234</td>\n",
       "      <td>0</td>\n",
       "      <td>1</td>\n",
       "    </tr>\n",
       "    <tr>\n",
       "      <th>hitHour_03_05</th>\n",
       "      <td>23319</td>\n",
       "      <td>0.08134997212573437</td>\n",
       "      <td>0.27337768576379645</td>\n",
       "      <td>0</td>\n",
       "      <td>1</td>\n",
       "    </tr>\n",
       "    <tr>\n",
       "      <th>hitHour_06_08</th>\n",
       "      <td>23319</td>\n",
       "      <td>0.13298168875166175</td>\n",
       "      <td>0.3395622237258951</td>\n",
       "      <td>0</td>\n",
       "      <td>1</td>\n",
       "    </tr>\n",
       "    <tr>\n",
       "      <th>hitHour_09_11</th>\n",
       "      <td>23319</td>\n",
       "      <td>0.18388438612290406</td>\n",
       "      <td>0.3873981859833278</td>\n",
       "      <td>0</td>\n",
       "      <td>1</td>\n",
       "    </tr>\n",
       "    <tr>\n",
       "      <th>hitHour_12_14</th>\n",
       "      <td>23319</td>\n",
       "      <td>0.17393541747073202</td>\n",
       "      <td>0.3790620659792101</td>\n",
       "      <td>0</td>\n",
       "      <td>1</td>\n",
       "    </tr>\n",
       "    <tr>\n",
       "      <th>hitHour_15_17</th>\n",
       "      <td>23319</td>\n",
       "      <td>0.13311033920837084</td>\n",
       "      <td>0.339701229651277</td>\n",
       "      <td>0</td>\n",
       "      <td>1</td>\n",
       "    </tr>\n",
       "    <tr>\n",
       "      <th>hitHour_18_20</th>\n",
       "      <td>23319</td>\n",
       "      <td>0.11149706248123847</td>\n",
       "      <td>0.31475342094094777</td>\n",
       "      <td>0</td>\n",
       "      <td>1</td>\n",
       "    </tr>\n",
       "    <tr>\n",
       "      <th>hitHour_21_23</th>\n",
       "      <td>23319</td>\n",
       "      <td>0.09936103606501136</td>\n",
       "      <td>0.29915256695717496</td>\n",
       "      <td>0</td>\n",
       "      <td>1</td>\n",
       "    </tr>\n",
       "    <tr>\n",
       "      <th>sum_hitaction_1</th>\n",
       "      <td>23319</td>\n",
       "      <td>0.9542862043826922</td>\n",
       "      <td>2.7427927926726148</td>\n",
       "      <td>0</td>\n",
       "      <td>95</td>\n",
       "    </tr>\n",
       "    <tr>\n",
       "      <th>sum_hitaction_2</th>\n",
       "      <td>23319</td>\n",
       "      <td>0.7853252712380462</td>\n",
       "      <td>2.3491209903679553</td>\n",
       "      <td>0</td>\n",
       "      <td>97</td>\n",
       "    </tr>\n",
       "    <tr>\n",
       "      <th>sum_hitaction_3</th>\n",
       "      <td>23319</td>\n",
       "      <td>0.26587761053218406</td>\n",
       "      <td>1.204630522134513</td>\n",
       "      <td>0</td>\n",
       "      <td>34</td>\n",
       "    </tr>\n",
       "    <tr>\n",
       "      <th>sum_hitaction_4</th>\n",
       "      <td>23319</td>\n",
       "      <td>0.03795188472919079</td>\n",
       "      <td>0.3751325683858161</td>\n",
       "      <td>0</td>\n",
       "      <td>19</td>\n",
       "    </tr>\n",
       "    <tr>\n",
       "      <th>sum_hitaction_5</th>\n",
       "      <td>23319</td>\n",
       "      <td>0.530897551352974</td>\n",
       "      <td>4.351590081156762</td>\n",
       "      <td>0</td>\n",
       "      <td>240</td>\n",
       "    </tr>\n",
       "    <tr>\n",
       "      <th>sum_hitaction_6</th>\n",
       "      <td>23319</td>\n",
       "      <td>0.16638792401046357</td>\n",
       "      <td>1.5152598133201163</td>\n",
       "      <td>0</td>\n",
       "      <td>58</td>\n",
       "    </tr>\n",
       "    <tr>\n",
       "      <th>hitNumber</th>\n",
       "      <td>23319</td>\n",
       "      <td>7.395557270894979</td>\n",
       "      <td>12.30276659375523</td>\n",
       "      <td>1</td>\n",
       "      <td>239</td>\n",
       "    </tr>\n",
       "    <tr>\n",
       "      <th>timeOnSite</th>\n",
       "      <td>23319</td>\n",
       "      <td>238.47845104850123</td>\n",
       "      <td>508.71845576138855</td>\n",
       "      <td>0</td>\n",
       "      <td>9963</td>\n",
       "    </tr>\n",
       "    <tr>\n",
       "      <th>sessionQualityDim</th>\n",
       "      <td>23319</td>\n",
       "      <td>0.6622067841674171</td>\n",
       "      <td>5.706017257036386</td>\n",
       "      <td>0</td>\n",
       "      <td>94</td>\n",
       "    </tr>\n",
       "    <tr>\n",
       "      <th>totalTransactionRevenue</th>\n",
       "      <td>23319</td>\n",
       "      <td>3390433.5520391096</td>\n",
       "      <td>5.3296582643481E7</td>\n",
       "      <td>0</td>\n",
       "      <td>5608400000</td>\n",
       "    </tr>\n",
       "    <tr>\n",
       "      <th>isClick</th>\n",
       "      <td>23319</td>\n",
       "      <td>0.2708949783438398</td>\n",
       "      <td>0.44443150132560105</td>\n",
       "      <td>0</td>\n",
       "      <td>1</td>\n",
       "    </tr>\n",
       "    <tr>\n",
       "      <th>isImpression</th>\n",
       "      <td>23319</td>\n",
       "      <td>0.9929242248809983</td>\n",
       "      <td>0.0838212969671667</td>\n",
       "      <td>0</td>\n",
       "      <td>1</td>\n",
       "    </tr>\n",
       "    <tr>\n",
       "      <th>target</th>\n",
       "      <td>23319</td>\n",
       "      <td>0.02457223723144217</td>\n",
       "      <td>0.15482076825580254</td>\n",
       "      <td>0</td>\n",
       "      <td>1</td>\n",
       "    </tr>\n",
       "  </tbody>\n",
       "</table>\n",
       "</div>"
      ],
      "text/plain": [
       "                             0                      1                       2  \\\n",
       "summary                  count                   mean                  stddev   \n",
       "fullVisitorId            23319  4.7512512889946993E18  1.44812854426896794E18   \n",
       "visitId                  23319   1.4866830527135384E9       9175882.438683491   \n",
       "dayofweek                23319     3.9542862043826923      1.8567729191976179   \n",
       "newVisits                23319      0.739825893048587      0.4387388696509493   \n",
       "hitHour_00_02            23319     0.0838800977743471     0.27721385690714234   \n",
       "hitHour_03_05            23319    0.08134997212573437     0.27337768576379645   \n",
       "hitHour_06_08            23319    0.13298168875166175      0.3395622237258951   \n",
       "hitHour_09_11            23319    0.18388438612290406      0.3873981859833278   \n",
       "hitHour_12_14            23319    0.17393541747073202      0.3790620659792101   \n",
       "hitHour_15_17            23319    0.13311033920837084       0.339701229651277   \n",
       "hitHour_18_20            23319    0.11149706248123847     0.31475342094094777   \n",
       "hitHour_21_23            23319    0.09936103606501136     0.29915256695717496   \n",
       "sum_hitaction_1          23319     0.9542862043826922      2.7427927926726148   \n",
       "sum_hitaction_2          23319     0.7853252712380462      2.3491209903679553   \n",
       "sum_hitaction_3          23319    0.26587761053218406       1.204630522134513   \n",
       "sum_hitaction_4          23319    0.03795188472919079      0.3751325683858161   \n",
       "sum_hitaction_5          23319      0.530897551352974       4.351590081156762   \n",
       "sum_hitaction_6          23319    0.16638792401046357      1.5152598133201163   \n",
       "hitNumber                23319      7.395557270894979       12.30276659375523   \n",
       "timeOnSite               23319     238.47845104850123      508.71845576138855   \n",
       "sessionQualityDim        23319     0.6622067841674171       5.706017257036386   \n",
       "totalTransactionRevenue  23319     3390433.5520391096       5.3296582643481E7   \n",
       "isClick                  23319     0.2708949783438398     0.44443150132560105   \n",
       "isImpression             23319     0.9929242248809983      0.0838212969671667   \n",
       "target                   23319    0.02457223723144217     0.15482076825580254   \n",
       "\n",
       "                                       3                    4  \n",
       "summary                              min                  max  \n",
       "fullVisitorId            514359656957582  5487531102128447544  \n",
       "visitId                       1470037326           1501656575  \n",
       "dayofweek                              1                    7  \n",
       "newVisits                              0                    1  \n",
       "hitHour_00_02                          0                    1  \n",
       "hitHour_03_05                          0                    1  \n",
       "hitHour_06_08                          0                    1  \n",
       "hitHour_09_11                          0                    1  \n",
       "hitHour_12_14                          0                    1  \n",
       "hitHour_15_17                          0                    1  \n",
       "hitHour_18_20                          0                    1  \n",
       "hitHour_21_23                          0                    1  \n",
       "sum_hitaction_1                        0                   95  \n",
       "sum_hitaction_2                        0                   97  \n",
       "sum_hitaction_3                        0                   34  \n",
       "sum_hitaction_4                        0                   19  \n",
       "sum_hitaction_5                        0                  240  \n",
       "sum_hitaction_6                        0                   58  \n",
       "hitNumber                              1                  239  \n",
       "timeOnSite                             0                 9963  \n",
       "sessionQualityDim                      0                   94  \n",
       "totalTransactionRevenue                0           5608400000  \n",
       "isClick                                0                    1  \n",
       "isImpression                           0                    1  \n",
       "target                                 0                    1  "
      ]
     },
     "execution_count": 44,
     "metadata": {},
     "output_type": "execute_result"
    }
   ],
   "source": [
    "noSpurious_df.describe().toPandas().transpose()"
   ]
  },
  {
   "cell_type": "markdown",
   "metadata": {
    "id": "ScHqgR3j0WNg"
   },
   "source": [
    "*โค้ดด้านล่าง แสดงการนับจำนวนค่า null ที่อาจหลงเหลืออยู่จากการ cleansing and transformation*"
   ]
  },
  {
   "cell_type": "code",
   "execution_count": 45,
   "metadata": {
    "colab": {
     "base_uri": "https://localhost:8080/"
    },
    "id": "K3EsYdQSvqXz",
    "outputId": "c1650490-bf74-4473-9691-e8280b601cc9"
   },
   "outputs": [
    {
     "name": "stderr",
     "output_type": "stream",
     "text": [
      "                                                                                \r"
     ]
    },
    {
     "name": "stdout",
     "output_type": "stream",
     "text": [
      "+-------------+-------+---------+---------+-------------+-------------+-------------+-------------+-------------+-------------+-------------+-------------+---------------+---------------+---------------+---------------+---------------+---------------+---------+----------+-----------------+-----------------------+-------+------------+------+\n",
      "|fullVisitorId|visitId|dayofweek|newVisits|hitHour_00_02|hitHour_03_05|hitHour_06_08|hitHour_09_11|hitHour_12_14|hitHour_15_17|hitHour_18_20|hitHour_21_23|sum_hitaction_1|sum_hitaction_2|sum_hitaction_3|sum_hitaction_4|sum_hitaction_5|sum_hitaction_6|hitNumber|timeOnSite|sessionQualityDim|totalTransactionRevenue|isClick|isImpression|target|\n",
      "+-------------+-------+---------+---------+-------------+-------------+-------------+-------------+-------------+-------------+-------------+-------------+---------------+---------------+---------------+---------------+---------------+---------------+---------+----------+-----------------+-----------------------+-------+------------+------+\n",
      "|            0|      0|        0|        0|            0|            0|            0|            0|            0|            0|            0|            0|              0|              0|              0|              0|              0|              0|        0|         0|                0|                      0|      0|           0|     0|\n",
      "+-------------+-------+---------+---------+-------------+-------------+-------------+-------------+-------------+-------------+-------------+-------------+---------------+---------------+---------------+---------------+---------------+---------------+---------+----------+-----------------+-----------------------+-------+------------+------+\n",
      "\n"
     ]
    }
   ],
   "source": [
    "noSpurious_df.select([sparkf.count(sparkf.when(sparkf.col(col).isNull(),True)).alias(col) for col in noSpurious_df.columns]).show()"
   ]
  },
  {
   "cell_type": "code",
   "execution_count": 46,
   "metadata": {
    "colab": {
     "base_uri": "https://localhost:8080/"
    },
    "id": "i_oT-40t3h3w",
    "outputId": "90bb865f-080f-46b3-eb87-60b51099d9a0"
   },
   "outputs": [
    {
     "name": "stdout",
     "output_type": "stream",
     "text": [
      "root\n",
      " |-- fullVisitorId: long (nullable = true)\n",
      " |-- visitId: integer (nullable = true)\n",
      " |-- dayofweek: integer (nullable = true)\n",
      " |-- newVisits: integer (nullable = false)\n",
      " |-- hitHour_00_02: integer (nullable = false)\n",
      " |-- hitHour_03_05: integer (nullable = false)\n",
      " |-- hitHour_06_08: integer (nullable = false)\n",
      " |-- hitHour_09_11: integer (nullable = false)\n",
      " |-- hitHour_12_14: integer (nullable = false)\n",
      " |-- hitHour_15_17: integer (nullable = false)\n",
      " |-- hitHour_18_20: integer (nullable = false)\n",
      " |-- hitHour_21_23: integer (nullable = false)\n",
      " |-- sum_hitaction_1: long (nullable = true)\n",
      " |-- sum_hitaction_2: long (nullable = true)\n",
      " |-- sum_hitaction_3: long (nullable = true)\n",
      " |-- sum_hitaction_4: long (nullable = true)\n",
      " |-- sum_hitaction_5: long (nullable = true)\n",
      " |-- sum_hitaction_6: long (nullable = true)\n",
      " |-- hitNumber: integer (nullable = true)\n",
      " |-- timeOnSite: integer (nullable = true)\n",
      " |-- sessionQualityDim: integer (nullable = true)\n",
      " |-- totalTransactionRevenue: long (nullable = true)\n",
      " |-- isClick: integer (nullable = true)\n",
      " |-- isImpression: integer (nullable = true)\n",
      " |-- target: integer (nullable = false)\n",
      "\n"
     ]
    }
   ],
   "source": [
    "noSpurious_df.printSchema()"
   ]
  },
  {
   "cell_type": "code",
   "execution_count": 47,
   "metadata": {
    "colab": {
     "base_uri": "https://localhost:8080/"
    },
    "id": "CQ8bs93SrFcF",
    "outputId": "bcc7713f-560e-426c-e847-d03ef1623316"
   },
   "outputs": [
    {
     "name": "stderr",
     "output_type": "stream",
     "text": [
      "[Stage 104:===================================>                 (135 + 8) / 200]\r"
     ]
    },
    {
     "name": "stdout",
     "output_type": "stream",
     "text": [
      "+---------------+------+-----+\n",
      "|sum_hitaction_1|target|count|\n",
      "+---------------+------+-----+\n",
      "|              0|     0|16883|\n",
      "|              0|     1|  119|\n",
      "|              1|     0| 1987|\n",
      "|              1|     1|  105|\n",
      "|              2|     1|   86|\n",
      "|              2|     0| 1385|\n",
      "|              3|     1|   58|\n",
      "|              3|     0|  745|\n",
      "|              4|     1|   36|\n",
      "|              4|     0|  549|\n",
      "|              5|     1|   33|\n",
      "|              5|     0|  279|\n",
      "|              6|     1|   26|\n",
      "|              6|     0|  219|\n",
      "|              7|     0|  150|\n",
      "|              7|     1|   18|\n",
      "|              8|     0|  131|\n",
      "|              8|     1|   17|\n",
      "|              9|     1|   18|\n",
      "|              9|     0|   86|\n",
      "+---------------+------+-----+\n",
      "only showing top 20 rows\n",
      "\n"
     ]
    },
    {
     "name": "stderr",
     "output_type": "stream",
     "text": [
      "                                                                                \r"
     ]
    }
   ],
   "source": [
    "noSpurious_df.groupBy('sum_hitaction_1', 'target').count().sort('sum_hitaction_1').show()"
   ]
  },
  {
   "cell_type": "code",
   "execution_count": 48,
   "metadata": {
    "colab": {
     "base_uri": "https://localhost:8080/"
    },
    "id": "X8hLxvlQtvuo",
    "outputId": "a822dc75-e110-4fd1-ec36-132484fb80fe"
   },
   "outputs": [
    {
     "name": "stderr",
     "output_type": "stream",
     "text": [
      "[Stage 107:================================>                    (121 + 6) / 200]\r"
     ]
    },
    {
     "name": "stdout",
     "output_type": "stream",
     "text": [
      "+---------------+------+-----+\n",
      "|sum_hitaction_2|target|count|\n",
      "+---------------+------+-----+\n",
      "|              0|     1|  119|\n",
      "|              0|     0|16900|\n",
      "|              1|     1|  121|\n",
      "|              1|     0| 2706|\n",
      "|              2|     0| 1118|\n",
      "|              2|     1|   86|\n",
      "|              3|     1|   56|\n",
      "|              3|     0|  752|\n",
      "|              4|     0|  390|\n",
      "|              4|     1|   50|\n",
      "|              5|     1|   30|\n",
      "|              5|     0|  258|\n",
      "|              6|     1|   20|\n",
      "|              6|     0|  148|\n",
      "|              7|     1|   17|\n",
      "|              7|     0|  113|\n",
      "|              8|     0|   91|\n",
      "|              8|     1|   13|\n",
      "|              9|     0|   59|\n",
      "|              9|     1|   12|\n",
      "+---------------+------+-----+\n",
      "only showing top 20 rows\n",
      "\n"
     ]
    },
    {
     "name": "stderr",
     "output_type": "stream",
     "text": [
      "                                                                                \r"
     ]
    }
   ],
   "source": [
    "noSpurious_df.groupBy('sum_hitaction_2', 'target').count().sort('sum_hitaction_2').show()"
   ]
  },
  {
   "cell_type": "code",
   "execution_count": 49,
   "metadata": {
    "colab": {
     "base_uri": "https://localhost:8080/"
    },
    "id": "MX_-NZztuPY9",
    "outputId": "6de7d044-f1ec-4fd7-acdb-ba4ad26c3ac0"
   },
   "outputs": [
    {
     "name": "stderr",
     "output_type": "stream",
     "text": [
      "[Stage 109:===================================================> (195 + 4) / 200]\r"
     ]
    },
    {
     "name": "stdout",
     "output_type": "stream",
     "text": [
      "+---------------+------+-----+\n",
      "|sum_hitaction_3|target|count|\n",
      "+---------------+------+-----+\n",
      "|              0|     1|   85|\n",
      "|              0|     0|20708|\n",
      "|              1|     1|  164|\n",
      "|              1|     0| 1177|\n",
      "|              2|     0|  387|\n",
      "|              2|     1|  113|\n",
      "|              3|     1|   57|\n",
      "|              3|     0|  166|\n",
      "|              4|     1|   53|\n",
      "|              4|     0|   99|\n",
      "|              5|     0|   61|\n",
      "|              5|     1|   31|\n",
      "|              6|     1|   15|\n",
      "|              6|     0|   38|\n",
      "|              7|     0|   25|\n",
      "|              7|     1|   13|\n",
      "|              8|     0|   17|\n",
      "|              8|     1|   10|\n",
      "|              9|     1|    5|\n",
      "|              9|     0|   16|\n",
      "+---------------+------+-----+\n",
      "only showing top 20 rows\n",
      "\n"
     ]
    },
    {
     "name": "stderr",
     "output_type": "stream",
     "text": [
      "                                                                                \r"
     ]
    }
   ],
   "source": [
    "noSpurious_df.groupBy('sum_hitaction_3', 'target').count().sort('sum_hitaction_3').show()"
   ]
  },
  {
   "cell_type": "code",
   "execution_count": 50,
   "metadata": {
    "colab": {
     "base_uri": "https://localhost:8080/"
    },
    "id": "ABlgtL8quQel",
    "outputId": "2c461bf5-89af-491b-f36b-a4d73c6991d1"
   },
   "outputs": [
    {
     "name": "stderr",
     "output_type": "stream",
     "text": [
      "[Stage 112:============================================>        (168 + 4) / 200]\r"
     ]
    },
    {
     "name": "stdout",
     "output_type": "stream",
     "text": [
      "+---------------+------+-----+\n",
      "|sum_hitaction_4|target|count|\n",
      "+---------------+------+-----+\n",
      "|              0|     0|22373|\n",
      "|              0|     1|  451|\n",
      "|              1|     1|   83|\n",
      "|              1|     0|  255|\n",
      "|              2|     0|   65|\n",
      "|              2|     1|   20|\n",
      "|              3|     1|    5|\n",
      "|              3|     0|   18|\n",
      "|              4|     1|    5|\n",
      "|              4|     0|   11|\n",
      "|              5|     1|    4|\n",
      "|              5|     0|   10|\n",
      "|              6|     1|    2|\n",
      "|              6|     0|    3|\n",
      "|              7|     1|    1|\n",
      "|              7|     0|    2|\n",
      "|              8|     1|    2|\n",
      "|              8|     0|    1|\n",
      "|              9|     0|    1|\n",
      "|             10|     0|    1|\n",
      "+---------------+------+-----+\n",
      "only showing top 20 rows\n",
      "\n"
     ]
    },
    {
     "name": "stderr",
     "output_type": "stream",
     "text": [
      "                                                                                \r"
     ]
    }
   ],
   "source": [
    "noSpurious_df.groupBy('sum_hitaction_4', 'target').count().sort('sum_hitaction_4').show()"
   ]
  },
  {
   "cell_type": "code",
   "execution_count": 51,
   "metadata": {
    "colab": {
     "base_uri": "https://localhost:8080/"
    },
    "id": "vVvqKMj2uQ42",
    "outputId": "4e167775-02f9-4bcb-ed69-7e6fe6136dc2"
   },
   "outputs": [
    {
     "name": "stderr",
     "output_type": "stream",
     "text": [
      "[Stage 115:===================================================> (193 + 4) / 200]\r"
     ]
    },
    {
     "name": "stdout",
     "output_type": "stream",
     "text": [
      "+---------------+------+-----+\n",
      "|sum_hitaction_5|target|count|\n",
      "+---------------+------+-----+\n",
      "|              0|     1|    2|\n",
      "|              0|     0|22151|\n",
      "|              1|     0|  195|\n",
      "|              1|     1|    3|\n",
      "|              2|     0|   95|\n",
      "|              2|     1|   16|\n",
      "|              3|     0|   76|\n",
      "|              3|     1|   49|\n",
      "|              4|     1|   61|\n",
      "|              4|     0|   60|\n",
      "|              5|     0|   26|\n",
      "|              5|     1|   24|\n",
      "|              6|     1|   53|\n",
      "|              6|     0|   32|\n",
      "|              7|     0|    7|\n",
      "|              7|     1|    8|\n",
      "|              8|     1|   49|\n",
      "|              8|     0|   17|\n",
      "|              9|     0|    7|\n",
      "|              9|     1|   22|\n",
      "+---------------+------+-----+\n",
      "only showing top 20 rows\n",
      "\n"
     ]
    },
    {
     "name": "stderr",
     "output_type": "stream",
     "text": [
      "                                                                                \r"
     ]
    }
   ],
   "source": [
    "noSpurious_df.groupBy('sum_hitaction_5', 'target').count().sort('sum_hitaction_5').show()"
   ]
  },
  {
   "cell_type": "markdown",
   "metadata": {},
   "source": [
    "## May 2023"
   ]
  },
  {
   "cell_type": "code",
   "execution_count": 52,
   "metadata": {},
   "outputs": [
    {
     "name": "stdout",
     "output_type": "stream",
     "text": [
      "root\n",
      " |-- fullVisitorId: long (nullable = true)\n",
      " |-- visitId: integer (nullable = true)\n",
      " |-- dayofweek: integer (nullable = true)\n",
      " |-- newVisits: integer (nullable = false)\n",
      " |-- hitHour_00_02: integer (nullable = false)\n",
      " |-- hitHour_03_05: integer (nullable = false)\n",
      " |-- hitHour_06_08: integer (nullable = false)\n",
      " |-- hitHour_09_11: integer (nullable = false)\n",
      " |-- hitHour_12_14: integer (nullable = false)\n",
      " |-- hitHour_15_17: integer (nullable = false)\n",
      " |-- hitHour_18_20: integer (nullable = false)\n",
      " |-- hitHour_21_23: integer (nullable = false)\n",
      " |-- sum_hitaction_1: long (nullable = true)\n",
      " |-- sum_hitaction_2: long (nullable = true)\n",
      " |-- sum_hitaction_3: long (nullable = true)\n",
      " |-- sum_hitaction_4: long (nullable = true)\n",
      " |-- sum_hitaction_5: long (nullable = true)\n",
      " |-- sum_hitaction_6: long (nullable = true)\n",
      " |-- hitNumber: integer (nullable = true)\n",
      " |-- timeOnSite: integer (nullable = true)\n",
      " |-- sessionQualityDim: integer (nullable = true)\n",
      " |-- totalTransactionRevenue: long (nullable = true)\n",
      " |-- isClick: integer (nullable = true)\n",
      " |-- isImpression: integer (nullable = true)\n",
      " |-- target: integer (nullable = false)\n",
      "\n"
     ]
    }
   ],
   "source": [
    "noSpurious_df.printSchema()"
   ]
  },
  {
   "cell_type": "code",
   "execution_count": 53,
   "metadata": {},
   "outputs": [
    {
     "name": "stderr",
     "output_type": "stream",
     "text": [
      "                                                                                \r"
     ]
    },
    {
     "data": {
      "text/html": [
       "<div>\n",
       "<style scoped>\n",
       "    .dataframe tbody tr th:only-of-type {\n",
       "        vertical-align: middle;\n",
       "    }\n",
       "\n",
       "    .dataframe tbody tr th {\n",
       "        vertical-align: top;\n",
       "    }\n",
       "\n",
       "    .dataframe thead th {\n",
       "        text-align: right;\n",
       "    }\n",
       "</style>\n",
       "<table border=\"1\" class=\"dataframe\">\n",
       "  <thead>\n",
       "    <tr style=\"text-align: right;\">\n",
       "      <th></th>\n",
       "      <th>0</th>\n",
       "      <th>1</th>\n",
       "      <th>2</th>\n",
       "      <th>3</th>\n",
       "      <th>4</th>\n",
       "    </tr>\n",
       "  </thead>\n",
       "  <tbody>\n",
       "    <tr>\n",
       "      <th>summary</th>\n",
       "      <td>count</td>\n",
       "      <td>mean</td>\n",
       "      <td>stddev</td>\n",
       "      <td>min</td>\n",
       "      <td>max</td>\n",
       "    </tr>\n",
       "    <tr>\n",
       "      <th>fullVisitorId</th>\n",
       "      <td>23319</td>\n",
       "      <td>4.7512512889946993E18</td>\n",
       "      <td>1.44812854426896768E18</td>\n",
       "      <td>514359656957582</td>\n",
       "      <td>5487531102128447544</td>\n",
       "    </tr>\n",
       "    <tr>\n",
       "      <th>visitId</th>\n",
       "      <td>23319</td>\n",
       "      <td>1.4866830527135384E9</td>\n",
       "      <td>9175882.43868349</td>\n",
       "      <td>1470037326</td>\n",
       "      <td>1501656575</td>\n",
       "    </tr>\n",
       "    <tr>\n",
       "      <th>dayofweek</th>\n",
       "      <td>23319</td>\n",
       "      <td>3.9542862043826923</td>\n",
       "      <td>1.856772919197619</td>\n",
       "      <td>1</td>\n",
       "      <td>7</td>\n",
       "    </tr>\n",
       "    <tr>\n",
       "      <th>newVisits</th>\n",
       "      <td>23319</td>\n",
       "      <td>0.739825893048587</td>\n",
       "      <td>0.43873886965094944</td>\n",
       "      <td>0</td>\n",
       "      <td>1</td>\n",
       "    </tr>\n",
       "    <tr>\n",
       "      <th>hitHour_00_02</th>\n",
       "      <td>23319</td>\n",
       "      <td>0.0838800977743471</td>\n",
       "      <td>0.2772138569071423</td>\n",
       "      <td>0</td>\n",
       "      <td>1</td>\n",
       "    </tr>\n",
       "    <tr>\n",
       "      <th>hitHour_03_05</th>\n",
       "      <td>23319</td>\n",
       "      <td>0.08134997212573437</td>\n",
       "      <td>0.27337768576379634</td>\n",
       "      <td>0</td>\n",
       "      <td>1</td>\n",
       "    </tr>\n",
       "    <tr>\n",
       "      <th>hitHour_06_08</th>\n",
       "      <td>23319</td>\n",
       "      <td>0.13298168875166175</td>\n",
       "      <td>0.3395622237258953</td>\n",
       "      <td>0</td>\n",
       "      <td>1</td>\n",
       "    </tr>\n",
       "    <tr>\n",
       "      <th>hitHour_09_11</th>\n",
       "      <td>23319</td>\n",
       "      <td>0.18388438612290406</td>\n",
       "      <td>0.3873981859833277</td>\n",
       "      <td>0</td>\n",
       "      <td>1</td>\n",
       "    </tr>\n",
       "    <tr>\n",
       "      <th>hitHour_12_14</th>\n",
       "      <td>23319</td>\n",
       "      <td>0.17393541747073202</td>\n",
       "      <td>0.3790620659792101</td>\n",
       "      <td>0</td>\n",
       "      <td>1</td>\n",
       "    </tr>\n",
       "    <tr>\n",
       "      <th>hitHour_15_17</th>\n",
       "      <td>23319</td>\n",
       "      <td>0.13311033920837084</td>\n",
       "      <td>0.33970122965127697</td>\n",
       "      <td>0</td>\n",
       "      <td>1</td>\n",
       "    </tr>\n",
       "    <tr>\n",
       "      <th>hitHour_18_20</th>\n",
       "      <td>23319</td>\n",
       "      <td>0.11149706248123847</td>\n",
       "      <td>0.3147534209409477</td>\n",
       "      <td>0</td>\n",
       "      <td>1</td>\n",
       "    </tr>\n",
       "    <tr>\n",
       "      <th>hitHour_21_23</th>\n",
       "      <td>23319</td>\n",
       "      <td>0.09936103606501136</td>\n",
       "      <td>0.2991525669571749</td>\n",
       "      <td>0</td>\n",
       "      <td>1</td>\n",
       "    </tr>\n",
       "    <tr>\n",
       "      <th>sum_hitaction_1</th>\n",
       "      <td>23319</td>\n",
       "      <td>0.9542862043826922</td>\n",
       "      <td>2.742792792672615</td>\n",
       "      <td>0</td>\n",
       "      <td>95</td>\n",
       "    </tr>\n",
       "    <tr>\n",
       "      <th>sum_hitaction_2</th>\n",
       "      <td>23319</td>\n",
       "      <td>0.7853252712380462</td>\n",
       "      <td>2.349120990367956</td>\n",
       "      <td>0</td>\n",
       "      <td>97</td>\n",
       "    </tr>\n",
       "    <tr>\n",
       "      <th>sum_hitaction_3</th>\n",
       "      <td>23319</td>\n",
       "      <td>0.26587761053218406</td>\n",
       "      <td>1.2046305221345133</td>\n",
       "      <td>0</td>\n",
       "      <td>34</td>\n",
       "    </tr>\n",
       "    <tr>\n",
       "      <th>sum_hitaction_4</th>\n",
       "      <td>23319</td>\n",
       "      <td>0.03795188472919079</td>\n",
       "      <td>0.3751325683858162</td>\n",
       "      <td>0</td>\n",
       "      <td>19</td>\n",
       "    </tr>\n",
       "    <tr>\n",
       "      <th>sum_hitaction_5</th>\n",
       "      <td>23319</td>\n",
       "      <td>0.530897551352974</td>\n",
       "      <td>4.351590081156761</td>\n",
       "      <td>0</td>\n",
       "      <td>240</td>\n",
       "    </tr>\n",
       "    <tr>\n",
       "      <th>sum_hitaction_6</th>\n",
       "      <td>23319</td>\n",
       "      <td>0.16638792401046357</td>\n",
       "      <td>1.5152598133201167</td>\n",
       "      <td>0</td>\n",
       "      <td>58</td>\n",
       "    </tr>\n",
       "    <tr>\n",
       "      <th>hitNumber</th>\n",
       "      <td>23319</td>\n",
       "      <td>7.395557270894979</td>\n",
       "      <td>12.302766593755228</td>\n",
       "      <td>1</td>\n",
       "      <td>239</td>\n",
       "    </tr>\n",
       "    <tr>\n",
       "      <th>timeOnSite</th>\n",
       "      <td>23319</td>\n",
       "      <td>238.47845104850123</td>\n",
       "      <td>508.71845576138867</td>\n",
       "      <td>0</td>\n",
       "      <td>9963</td>\n",
       "    </tr>\n",
       "    <tr>\n",
       "      <th>sessionQualityDim</th>\n",
       "      <td>23319</td>\n",
       "      <td>0.6622067841674171</td>\n",
       "      <td>5.7060172570363825</td>\n",
       "      <td>0</td>\n",
       "      <td>94</td>\n",
       "    </tr>\n",
       "    <tr>\n",
       "      <th>totalTransactionRevenue</th>\n",
       "      <td>23319</td>\n",
       "      <td>3390433.5520391096</td>\n",
       "      <td>5.329658264348102E7</td>\n",
       "      <td>0</td>\n",
       "      <td>5608400000</td>\n",
       "    </tr>\n",
       "    <tr>\n",
       "      <th>isClick</th>\n",
       "      <td>23319</td>\n",
       "      <td>0.2708949783438398</td>\n",
       "      <td>0.44443150132560105</td>\n",
       "      <td>0</td>\n",
       "      <td>1</td>\n",
       "    </tr>\n",
       "    <tr>\n",
       "      <th>isImpression</th>\n",
       "      <td>23319</td>\n",
       "      <td>0.9929242248809983</td>\n",
       "      <td>0.08382129696716664</td>\n",
       "      <td>0</td>\n",
       "      <td>1</td>\n",
       "    </tr>\n",
       "    <tr>\n",
       "      <th>target</th>\n",
       "      <td>23319</td>\n",
       "      <td>0.02457223723144217</td>\n",
       "      <td>0.15482076825580246</td>\n",
       "      <td>0</td>\n",
       "      <td>1</td>\n",
       "    </tr>\n",
       "  </tbody>\n",
       "</table>\n",
       "</div>"
      ],
      "text/plain": [
       "                             0                      1                       2  \\\n",
       "summary                  count                   mean                  stddev   \n",
       "fullVisitorId            23319  4.7512512889946993E18  1.44812854426896768E18   \n",
       "visitId                  23319   1.4866830527135384E9        9175882.43868349   \n",
       "dayofweek                23319     3.9542862043826923       1.856772919197619   \n",
       "newVisits                23319      0.739825893048587     0.43873886965094944   \n",
       "hitHour_00_02            23319     0.0838800977743471      0.2772138569071423   \n",
       "hitHour_03_05            23319    0.08134997212573437     0.27337768576379634   \n",
       "hitHour_06_08            23319    0.13298168875166175      0.3395622237258953   \n",
       "hitHour_09_11            23319    0.18388438612290406      0.3873981859833277   \n",
       "hitHour_12_14            23319    0.17393541747073202      0.3790620659792101   \n",
       "hitHour_15_17            23319    0.13311033920837084     0.33970122965127697   \n",
       "hitHour_18_20            23319    0.11149706248123847      0.3147534209409477   \n",
       "hitHour_21_23            23319    0.09936103606501136      0.2991525669571749   \n",
       "sum_hitaction_1          23319     0.9542862043826922       2.742792792672615   \n",
       "sum_hitaction_2          23319     0.7853252712380462       2.349120990367956   \n",
       "sum_hitaction_3          23319    0.26587761053218406      1.2046305221345133   \n",
       "sum_hitaction_4          23319    0.03795188472919079      0.3751325683858162   \n",
       "sum_hitaction_5          23319      0.530897551352974       4.351590081156761   \n",
       "sum_hitaction_6          23319    0.16638792401046357      1.5152598133201167   \n",
       "hitNumber                23319      7.395557270894979      12.302766593755228   \n",
       "timeOnSite               23319     238.47845104850123      508.71845576138867   \n",
       "sessionQualityDim        23319     0.6622067841674171      5.7060172570363825   \n",
       "totalTransactionRevenue  23319     3390433.5520391096     5.329658264348102E7   \n",
       "isClick                  23319     0.2708949783438398     0.44443150132560105   \n",
       "isImpression             23319     0.9929242248809983     0.08382129696716664   \n",
       "target                   23319    0.02457223723144217     0.15482076825580246   \n",
       "\n",
       "                                       3                    4  \n",
       "summary                              min                  max  \n",
       "fullVisitorId            514359656957582  5487531102128447544  \n",
       "visitId                       1470037326           1501656575  \n",
       "dayofweek                              1                    7  \n",
       "newVisits                              0                    1  \n",
       "hitHour_00_02                          0                    1  \n",
       "hitHour_03_05                          0                    1  \n",
       "hitHour_06_08                          0                    1  \n",
       "hitHour_09_11                          0                    1  \n",
       "hitHour_12_14                          0                    1  \n",
       "hitHour_15_17                          0                    1  \n",
       "hitHour_18_20                          0                    1  \n",
       "hitHour_21_23                          0                    1  \n",
       "sum_hitaction_1                        0                   95  \n",
       "sum_hitaction_2                        0                   97  \n",
       "sum_hitaction_3                        0                   34  \n",
       "sum_hitaction_4                        0                   19  \n",
       "sum_hitaction_5                        0                  240  \n",
       "sum_hitaction_6                        0                   58  \n",
       "hitNumber                              1                  239  \n",
       "timeOnSite                             0                 9963  \n",
       "sessionQualityDim                      0                   94  \n",
       "totalTransactionRevenue                0           5608400000  \n",
       "isClick                                0                    1  \n",
       "isImpression                           0                    1  \n",
       "target                                 0                    1  "
      ]
     },
     "execution_count": 53,
     "metadata": {},
     "output_type": "execute_result"
    }
   ],
   "source": [
    "noSpurious_df.describe().toPandas().transpose()"
   ]
  },
  {
   "cell_type": "markdown",
   "metadata": {},
   "source": [
    "# 4. Modeling"
   ]
  },
  {
   "cell_type": "markdown",
   "metadata": {},
   "source": [
    "### 4.1 Feature Selection using Multivariate Analysis"
   ]
  },
  {
   "cell_type": "code",
   "execution_count": 54,
   "metadata": {},
   "outputs": [
    {
     "name": "stderr",
     "output_type": "stream",
     "text": [
      "                                                                                \r"
     ]
    }
   ],
   "source": [
    "df = noSpurious_df.toPandas()"
   ]
  },
  {
   "cell_type": "code",
   "execution_count": 55,
   "metadata": {
    "colab": {
     "base_uri": "https://localhost:8080/",
     "height": 598
    },
    "id": "Gwsr8sQgvWZC",
    "outputId": "0c696d08-baa3-4889-b6be-5fe1165ab608"
   },
   "outputs": [
    {
     "name": "stderr",
     "output_type": "stream",
     "text": [
      "                                                                                \r"
     ]
    },
    {
     "data": {
      "text/plain": [
       "(array([ 40.,   0.,   6.,  50.,  40.,  52.,  86., 166., 298., 156., 296.,\n",
       "        378., 362., 302., 258., 204., 214., 176., 314., 230., 104.,  84.,\n",
       "         40.,  24.]),\n",
       " array([ 0.        ,  0.95833333,  1.91666667,  2.875     ,  3.83333333,\n",
       "         4.79166667,  5.75      ,  6.70833333,  7.66666667,  8.625     ,\n",
       "         9.58333333, 10.54166667, 11.5       , 12.45833333, 13.41666667,\n",
       "        14.375     , 15.33333333, 16.29166667, 17.25      , 18.20833333,\n",
       "        19.16666667, 20.125     , 21.08333333, 22.04166667, 23.        ]),\n",
       " <BarContainer object of 24 artists>)"
      ]
     },
     "execution_count": 55,
     "metadata": {},
     "output_type": "execute_result"
    },
    {
     "data": {
      "image/png": "[encoded data removed]",
      "text/plain": [
       "<Figure size 432x288 with 1 Axes>"
      ]
     },
     "metadata": {
      "needs_background": "light"
     },
     "output_type": "display_data"
    }
   ],
   "source": [
    "### แสดงการซื้อ (hitAction_type = 6) แจงแจงตามช่วงเวลา\n",
    "\n",
    "bins, counts = raw_df.select('hitHour') \\\n",
    ".filter(raw_df.hitAction_type == 6).rdd.flatMap(lambda x: x).histogram(24)\n",
    "plt.hist(bins[:-1], bins=bins, weights=counts)"
   ]
  },
  {
   "cell_type": "code",
   "execution_count": 56,
   "metadata": {
    "colab": {
     "base_uri": "https://localhost:8080/",
     "height": 598
    },
    "id": "A6hmmYkMp-zI",
    "outputId": "a0875bfe-2e3d-4154-ee1a-7670a46c4bf2"
   },
   "outputs": [
    {
     "name": "stderr",
     "output_type": "stream",
     "text": [
      "                                                                                \r"
     ]
    },
    {
     "data": {
      "text/plain": [
       "(array([22011., 20836., 17807., 16511., 17866., 23204., 28773., 34309.,\n",
       "        41773., 45066., 55886., 59403., 49586., 53460., 50273., 40598.,\n",
       "        41683., 36184., 36316., 31854., 36670., 31523., 32674., 29637.]),\n",
       " array([ 0.        ,  0.95833333,  1.91666667,  2.875     ,  3.83333333,\n",
       "         4.79166667,  5.75      ,  6.70833333,  7.66666667,  8.625     ,\n",
       "         9.58333333, 10.54166667, 11.5       , 12.45833333, 13.41666667,\n",
       "        14.375     , 15.33333333, 16.29166667, 17.25      , 18.20833333,\n",
       "        19.16666667, 20.125     , 21.08333333, 22.04166667, 23.        ]),\n",
       " <BarContainer object of 24 artists>)"
      ]
     },
     "execution_count": 56,
     "metadata": {},
     "output_type": "execute_result"
    },
    {
     "data": {
      "image/png": "[encoded data removed]",
      "text/plain": [
       "<Figure size 432x288 with 1 Axes>"
      ]
     },
     "metadata": {
      "needs_background": "light"
     },
     "output_type": "display_data"
    }
   ],
   "source": [
    "### แสดงการไม่ซื้อ (hitAction_type = 0) แจงแจงตามช่วงเวลา\n",
    "\n",
    "bins, counts = raw_df.select('hitHour') \\\n",
    ".filter(raw_df.hitAction_type == 0).rdd.flatMap(lambda x: x).histogram(24)\n",
    "plt.hist(bins[:-1], bins=bins, weights=counts)"
   ]
  },
  {
   "cell_type": "code",
   "execution_count": null,
   "metadata": {},
   "outputs": [],
   "source": []
  },
  {
   "cell_type": "code",
   "execution_count": null,
   "metadata": {},
   "outputs": [],
   "source": []
  },
  {
   "cell_type": "code",
   "execution_count": 57,
   "metadata": {},
   "outputs": [
    {
     "data": {
      "image/png": "[encoded data removed]",
      "text/plain": [
       "<Figure size 432x288 with 1 Axes>"
      ]
     },
     "metadata": {
      "needs_background": "light"
     },
     "output_type": "display_data"
    }
   ],
   "source": [
    "import pandas as pd\n",
    "import matplotlib.pyplot as plt\n",
    "\n",
    "# Initialize parameters\n",
    "x_var = 'target'\n",
    "groupby_var = 'isImpression'\n",
    "\n",
    "# Group the data by target variable and count the values of dayofweek variable\n",
    "grouped = df.groupby(x_var)[groupby_var].value_counts()\n",
    "\n",
    "# Calculate the percentage for each group\n",
    "grouped_pct = grouped.groupby(level=0).apply(lambda x: 100 * x / float(x.sum()))\n",
    "\n",
    "# Create 100% stacked bar chart\n",
    "fig, ax = plt.subplots()\n",
    "grouped_pct.unstack().plot(kind='bar', stacked=True, ax=ax)\n",
    "\n",
    "# Adjust x and y labels\n",
    "ax.set_xlabel(x_var)\n",
    "ax.set_ylabel('Percentage')\n",
    "\n",
    "# Name each part of the stack bar\n",
    "legend_labels = [f'{groupby_var}_{label}' for label in grouped_pct.unstack().columns]\n",
    "ax.legend(legend_labels)\n",
    "\n",
    "# Display the plot\n",
    "plt.show()"
   ]
  },
  {
   "cell_type": "code",
   "execution_count": 58,
   "metadata": {},
   "outputs": [
    {
     "data": {
      "image/png": "[encoded data removed]",
      "text/plain": [
       "<Figure size 432x288 with 1 Axes>"
      ]
     },
     "metadata": {
      "needs_background": "light"
     },
     "output_type": "display_data"
    }
   ],
   "source": [
    "import pandas as pd\n",
    "import matplotlib.pyplot as plt\n",
    "\n",
    "# Initialize parameters\n",
    "x_var = 'target'\n",
    "groupby_var = 'newVisits'\n",
    "\n",
    "# Group the data by target variable and count the values of dayofweek variable\n",
    "grouped = df.groupby(x_var)[groupby_var].value_counts()\n",
    "\n",
    "# Calculate the percentage for each group\n",
    "grouped_pct = grouped.groupby(level=0).apply(lambda x: 100 * x / float(x.sum()))\n",
    "\n",
    "# Create 100% stacked bar chart\n",
    "fig, ax = plt.subplots()\n",
    "grouped_pct.unstack().plot(kind='bar', stacked=True, ax=ax)\n",
    "\n",
    "# Adjust x and y labels\n",
    "ax.set_xlabel(x_var)\n",
    "ax.set_ylabel('Percentage')\n",
    "\n",
    "# Name each part of the stack bar\n",
    "legend_labels = [f'{groupby_var}_{label}' for label in grouped_pct.unstack().columns]\n",
    "ax.legend(legend_labels)\n",
    "\n",
    "# Display the plot\n",
    "plt.show()\n"
   ]
  },
  {
   "cell_type": "code",
   "execution_count": 59,
   "metadata": {},
   "outputs": [
    {
     "data": {
      "image/png": "[encoded data removed]",
      "text/plain": [
       "<Figure size 432x288 with 1 Axes>"
      ]
     },
     "metadata": {
      "needs_background": "light"
     },
     "output_type": "display_data"
    }
   ],
   "source": [
    "import pandas as pd\n",
    "import matplotlib.pyplot as plt\n",
    "\n",
    "# Initialize parameters\n",
    "x_var = 'target'\n",
    "groupby_var = 'dayofweek'\n",
    "\n",
    "# Group the data by target variable and count the values of dayofweek variable\n",
    "grouped = df.groupby(x_var)[groupby_var].value_counts()\n",
    "\n",
    "# Calculate the percentage for each group\n",
    "grouped_pct = grouped.groupby(level=0).apply(lambda x: 100 * x / float(x.sum()))\n",
    "\n",
    "# Create 100% stacked bar chart\n",
    "fig, ax = plt.subplots()\n",
    "grouped_pct.unstack().plot(kind='bar', stacked=True, ax=ax)\n",
    "\n",
    "# Adjust x and y labels\n",
    "ax.set_xlabel(x_var)\n",
    "ax.set_ylabel('Percentage')\n",
    "\n",
    "# Name each part of the stack bar\n",
    "legend_labels = [f'{groupby_var}_{label}' for label in grouped_pct.unstack().columns]\n",
    "ax.legend(legend_labels)\n",
    "\n",
    "# Display the plot\n",
    "plt.show()\n"
   ]
  },
  {
   "cell_type": "code",
   "execution_count": 60,
   "metadata": {},
   "outputs": [
    {
     "data": {
      "image/png": "[encoded data removed]",
      "text/plain": [
       "<Figure size 432x288 with 1 Axes>"
      ]
     },
     "metadata": {
      "needs_background": "light"
     },
     "output_type": "display_data"
    }
   ],
   "source": [
    "import pandas as pd\n",
    "import matplotlib.pyplot as plt\n",
    "\n",
    "# Initialize parameters\n",
    "x_var = 'target'\n",
    "groupby_var = 'isClick'\n",
    "\n",
    "# Group the data by target variable and count the values of dayofweek variable\n",
    "grouped = df.groupby(x_var)[groupby_var].value_counts()\n",
    "\n",
    "# Calculate the percentage for each group\n",
    "grouped_pct = grouped.groupby(level=0).apply(lambda x: 100 * x / float(x.sum()))\n",
    "\n",
    "# Create 100% stacked bar chart\n",
    "fig, ax = plt.subplots()\n",
    "grouped_pct.unstack().plot(kind='bar', stacked=True, ax=ax)\n",
    "\n",
    "# Adjust x and y labels\n",
    "ax.set_xlabel(x_var)\n",
    "ax.set_ylabel('Percentage')\n",
    "\n",
    "# Name each part of the stack bar\n",
    "legend_labels = [f'{groupby_var}_{label}' for label in grouped_pct.unstack().columns]\n",
    "ax.legend(legend_labels)\n",
    "\n",
    "# Display the plot\n",
    "plt.show()\n"
   ]
  },
  {
   "cell_type": "code",
   "execution_count": null,
   "metadata": {},
   "outputs": [],
   "source": []
  },
  {
   "cell_type": "raw",
   "metadata": {},
   "source": [
    "\n",
    "\n",
    "# เรียกใช้ Module/Library ของ Python\n",
    "\n",
    "import numpy as np\n",
    "import scipy as sp\n",
    "import pandas as pd\n",
    "import matplotlib as mpl\n",
    "import matplotlib.pyplot as plt\n",
    "import seaborn as sns\n",
    "\n",
    "# Pandas options\n",
    "pd.set_option('display.max_colwidth', 1000, 'display.max_rows', None, 'display.max_columns', None)\n",
    "\n",
    "# Plotting options\n",
    "%matplotlib inline\n",
    "mpl.style.use('ggplot')\n",
    "sns.set(style='whitegrid')\n",
    "\n",
    "import warnings\n",
    "warnings.filterwarnings(\"ignore\")\n",
    "\n"
   ]
  },
  {
   "cell_type": "code",
   "execution_count": 61,
   "metadata": {},
   "outputs": [],
   "source": [
    "def plot_outliers_and_distribution(df, var, target='target'):\n",
    "    \"\"\"\n",
    "    This function plots a boxplot to check outliers and a violin plot to see the distribution\n",
    "    grouped by the target variable in one figure.\n",
    "    df: pandas DataFrame\n",
    "    var: str, variable/column to check\n",
    "    target: str, target variable\n",
    "    \"\"\"\n",
    "    import matplotlib.pyplot as plt\n",
    "    import seaborn as sns\n",
    "\n",
    "    fig, axs = plt.subplots(ncols=2, figsize=(14, 6))\n",
    "\n",
    "    # Boxplot for outliers\n",
    "    sns.boxplot(x=target, y=var, data=df, ax=axs[0])\n",
    "    axs[0].set_title(f'Boxplot of {var} Grouped by {target}')\n",
    "\n",
    "    # Violin plot for distribution\n",
    "    sns.violinplot(x=target, y=var, data=df, ax=axs[1])\n",
    "    axs[1].set_title(f'Violin plot of {var} Grouped by {target}')\n",
    "\n",
    "    plt.tight_layout()\n",
    "    plt.show()\n",
    "\n",
    "# To use the function, simply call it with your DataFrame and variable:\n",
    "# plot_outliers_and_distribution(df, 'timeOnSite')\n"
   ]
  },
  {
   "cell_type": "code",
   "execution_count": null,
   "metadata": {},
   "outputs": [],
   "source": []
  },
  {
   "cell_type": "code",
   "execution_count": 62,
   "metadata": {},
   "outputs": [
    {
     "data": {
      "image/png": "[encoded data removed]",
      "text/plain": [
       "<Figure size 1008x432 with 2 Axes>"
      ]
     },
     "metadata": {
      "needs_background": "light"
     },
     "output_type": "display_data"
    }
   ],
   "source": [
    "plot_outliers_and_distribution(df, 'hitNumber')"
   ]
  },
  {
   "cell_type": "code",
   "execution_count": null,
   "metadata": {},
   "outputs": [],
   "source": []
  },
  {
   "cell_type": "code",
   "execution_count": 63,
   "metadata": {},
   "outputs": [
    {
     "data": {
      "image/png": "[encoded data removed]",
      "text/plain": [
       "<Figure size 1008x432 with 2 Axes>"
      ]
     },
     "metadata": {
      "needs_background": "light"
     },
     "output_type": "display_data"
    }
   ],
   "source": [
    "plot_outliers_and_distribution(df, 'sum_hitaction_2')"
   ]
  },
  {
   "cell_type": "code",
   "execution_count": 64,
   "metadata": {},
   "outputs": [
    {
     "data": {
      "image/png": "[encoded data removed]",
      "text/plain": [
       "<Figure size 1008x432 with 2 Axes>"
      ]
     },
     "metadata": {
      "needs_background": "light"
     },
     "output_type": "display_data"
    }
   ],
   "source": [
    "plot_outliers_and_distribution(df, 'sum_hitaction_1')"
   ]
  },
  {
   "cell_type": "code",
   "execution_count": 65,
   "metadata": {},
   "outputs": [
    {
     "data": {
      "image/png": "[encoded data removed]",
      "text/plain": [
       "<Figure size 1008x432 with 2 Axes>"
      ]
     },
     "metadata": {
      "needs_background": "light"
     },
     "output_type": "display_data"
    }
   ],
   "source": [
    "plot_outliers_and_distribution(df, 'sum_hitaction_3')"
   ]
  },
  {
   "cell_type": "code",
   "execution_count": 66,
   "metadata": {},
   "outputs": [
    {
     "data": {
      "image/png": "[encoded data removed]",
      "text/plain": [
       "<Figure size 1008x432 with 2 Axes>"
      ]
     },
     "metadata": {
      "needs_background": "light"
     },
     "output_type": "display_data"
    }
   ],
   "source": [
    "plot_outliers_and_distribution(df, 'sum_hitaction_4')"
   ]
  },
  {
   "cell_type": "code",
   "execution_count": 67,
   "metadata": {},
   "outputs": [
    {
     "data": {
      "image/png": "[encoded data removed]",
      "text/plain": [
       "<Figure size 1008x432 with 2 Axes>"
      ]
     },
     "metadata": {
      "needs_background": "light"
     },
     "output_type": "display_data"
    }
   ],
   "source": [
    "plot_outliers_and_distribution(df, 'sum_hitaction_5')"
   ]
  },
  {
   "cell_type": "code",
   "execution_count": 68,
   "metadata": {},
   "outputs": [
    {
     "data": {
      "image/png": "[encoded data removed]",
      "text/plain": [
       "<Figure size 1008x432 with 2 Axes>"
      ]
     },
     "metadata": {
      "needs_background": "light"
     },
     "output_type": "display_data"
    }
   ],
   "source": [
    "plot_outliers_and_distribution(df, 'sum_hitaction_6')"
   ]
  },
  {
   "cell_type": "code",
   "execution_count": null,
   "metadata": {},
   "outputs": [],
   "source": []
  },
  {
   "cell_type": "code",
   "execution_count": 69,
   "metadata": {},
   "outputs": [
    {
     "data": {
      "image/png": "[encoded data removed]",
      "text/plain": [
       "<Figure size 1008x432 with 2 Axes>"
      ]
     },
     "metadata": {
      "needs_background": "light"
     },
     "output_type": "display_data"
    }
   ],
   "source": [
    "plot_outliers_and_distribution(df, 'timeOnSite')"
   ]
  },
  {
   "cell_type": "code",
   "execution_count": null,
   "metadata": {},
   "outputs": [],
   "source": []
  },
  {
   "cell_type": "code",
   "execution_count": null,
   "metadata": {},
   "outputs": [],
   "source": []
  },
  {
   "cell_type": "code",
   "execution_count": null,
   "metadata": {},
   "outputs": [],
   "source": []
  },
  {
   "cell_type": "code",
   "execution_count": 70,
   "metadata": {},
   "outputs": [],
   "source": [
    "import matplotlib.pyplot as plt\n",
    "import seaborn as sns\n",
    "\n",
    "def scatter_plot_with_hue(dataframe, x_var, y_var, hue_var):\n",
    "    # Create a new figure and set the size\n",
    "    plt.figure(figsize=(10, 6))\n",
    "\n",
    "    # Create a scatter plot with x_var on the x-axis, and y_var on the y-axis\n",
    "    # Use different colors for different hue_var categories\n",
    "    sns.scatterplot(x=x_var, y=y_var, hue=hue_var, data=dataframe)\n",
    "\n",
    "    # Add labels to the x and y axes, and a title to the plot\n",
    "    plt.xlabel(x_var)\n",
    "    plt.ylabel(y_var)\n",
    "    plt.title('Scatter Plot of {} vs. {}, by {}'.format(x_var, y_var, hue_var))\n",
    "\n",
    "    # Display the plot\n",
    "    plt.show()\n"
   ]
  },
  {
   "cell_type": "code",
   "execution_count": 71,
   "metadata": {},
   "outputs": [
    {
     "data": {
      "image/png": "[encoded data removed]",
      "text/plain": [
       "<Figure size 720x432 with 1 Axes>"
      ]
     },
     "metadata": {
      "needs_background": "light"
     },
     "output_type": "display_data"
    }
   ],
   "source": [
    "scatter_plot_with_hue(df, 'hitNumber', 'timeOnSite', 'target')\n"
   ]
  },
  {
   "cell_type": "code",
   "execution_count": 72,
   "metadata": {},
   "outputs": [],
   "source": [
    "featureTrainingCols = ['isImpression','hitNumber','sum_hitaction_2','sum_hitaction_5','timeOnSite']"
   ]
  },
  {
   "cell_type": "code",
   "execution_count": null,
   "metadata": {},
   "outputs": [],
   "source": []
  },
  {
   "cell_type": "markdown",
   "metadata": {
    "id": "pxz2VF4dPScX"
   },
   "source": [
    "### 4.2 สร้าง Vector ของข้อมูล"
   ]
  },
  {
   "cell_type": "code",
   "execution_count": 73,
   "metadata": {
    "id": "NJf6Ya4uKuLW"
   },
   "outputs": [],
   "source": [
    "label_stringIdx = StringIndexer(inputCol = 'target', outputCol = 'label')"
   ]
  },
  {
   "cell_type": "code",
   "execution_count": 74,
   "metadata": {
    "colab": {
     "base_uri": "https://localhost:8080/"
    },
    "id": "irKNLCkJ_6cV",
    "outputId": "8813f981-7a1b-4425-8462-a64c29edfe21"
   },
   "outputs": [],
   "source": [
    "featureTrainingCols.remove('sum_hitaction_5')"
   ]
  },
  {
   "cell_type": "code",
   "execution_count": null,
   "metadata": {},
   "outputs": [],
   "source": []
  },
  {
   "cell_type": "code",
   "execution_count": 75,
   "metadata": {
    "id": "aHFZAGYPALvj"
   },
   "outputs": [],
   "source": [
    "vector_assembler = VectorAssembler\\\n",
    "(inputCols = featureTrainingCols, outputCol = 'features')"
   ]
  },
  {
   "cell_type": "code",
   "execution_count": 76,
   "metadata": {
    "id": "pTfJquqbIYn1"
   },
   "outputs": [],
   "source": [
    "# pipeline = Pipeline(stages=[productList_indexer, productList_ohe, onehot_encoder, label_stringIdx, vector_assembler])\n",
    "pipeline = Pipeline(stages=[label_stringIdx, vector_assembler])\n"
   ]
  },
  {
   "cell_type": "code",
   "execution_count": 77,
   "metadata": {
    "colab": {
     "base_uri": "https://localhost:8080/"
    },
    "id": "H4Bsa0_IIvvb",
    "outputId": "64a58379-9d13-4ce5-c52a-a4380cfcedba"
   },
   "outputs": [
    {
     "name": "stderr",
     "output_type": "stream",
     "text": [
      "                                                                                \r"
     ]
    },
    {
     "data": {
      "text/html": [
       "<div>\n",
       "<style scoped>\n",
       "    .dataframe tbody tr th:only-of-type {\n",
       "        vertical-align: middle;\n",
       "    }\n",
       "\n",
       "    .dataframe tbody tr th {\n",
       "        vertical-align: top;\n",
       "    }\n",
       "\n",
       "    .dataframe thead th {\n",
       "        text-align: right;\n",
       "    }\n",
       "</style>\n",
       "<table border=\"1\" class=\"dataframe\">\n",
       "  <thead>\n",
       "    <tr style=\"text-align: right;\">\n",
       "      <th></th>\n",
       "      <th>0</th>\n",
       "      <th>1</th>\n",
       "      <th>2</th>\n",
       "      <th>3</th>\n",
       "      <th>4</th>\n",
       "    </tr>\n",
       "  </thead>\n",
       "  <tbody>\n",
       "    <tr>\n",
       "      <th>fullVisitorId</th>\n",
       "      <td>5308677468260522097</td>\n",
       "      <td>547013638763660090</td>\n",
       "      <td>5311567215950384796</td>\n",
       "      <td>5295394248786777635</td>\n",
       "      <td>5115544843843396414</td>\n",
       "    </tr>\n",
       "    <tr>\n",
       "      <th>visitId</th>\n",
       "      <td>1476279158</td>\n",
       "      <td>1494535980</td>\n",
       "      <td>1496441504</td>\n",
       "      <td>1471785895</td>\n",
       "      <td>1500014991</td>\n",
       "    </tr>\n",
       "    <tr>\n",
       "      <th>dayofweek</th>\n",
       "      <td>4</td>\n",
       "      <td>5</td>\n",
       "      <td>6</td>\n",
       "      <td>1</td>\n",
       "      <td>5</td>\n",
       "    </tr>\n",
       "    <tr>\n",
       "      <th>newVisits</th>\n",
       "      <td>0</td>\n",
       "      <td>0</td>\n",
       "      <td>1</td>\n",
       "      <td>0</td>\n",
       "      <td>0</td>\n",
       "    </tr>\n",
       "    <tr>\n",
       "      <th>hitHour_00_02</th>\n",
       "      <td>0</td>\n",
       "      <td>0</td>\n",
       "      <td>0</td>\n",
       "      <td>0</td>\n",
       "      <td>0</td>\n",
       "    </tr>\n",
       "    <tr>\n",
       "      <th>hitHour_03_05</th>\n",
       "      <td>0</td>\n",
       "      <td>0</td>\n",
       "      <td>0</td>\n",
       "      <td>0</td>\n",
       "      <td>0</td>\n",
       "    </tr>\n",
       "    <tr>\n",
       "      <th>hitHour_06_08</th>\n",
       "      <td>1</td>\n",
       "      <td>0</td>\n",
       "      <td>0</td>\n",
       "      <td>1</td>\n",
       "      <td>0</td>\n",
       "    </tr>\n",
       "    <tr>\n",
       "      <th>hitHour_09_11</th>\n",
       "      <td>0</td>\n",
       "      <td>0</td>\n",
       "      <td>0</td>\n",
       "      <td>0</td>\n",
       "      <td>0</td>\n",
       "    </tr>\n",
       "    <tr>\n",
       "      <th>hitHour_12_14</th>\n",
       "      <td>0</td>\n",
       "      <td>1</td>\n",
       "      <td>0</td>\n",
       "      <td>0</td>\n",
       "      <td>0</td>\n",
       "    </tr>\n",
       "    <tr>\n",
       "      <th>hitHour_15_17</th>\n",
       "      <td>0</td>\n",
       "      <td>0</td>\n",
       "      <td>1</td>\n",
       "      <td>0</td>\n",
       "      <td>0</td>\n",
       "    </tr>\n",
       "    <tr>\n",
       "      <th>hitHour_18_20</th>\n",
       "      <td>0</td>\n",
       "      <td>0</td>\n",
       "      <td>0</td>\n",
       "      <td>0</td>\n",
       "      <td>0</td>\n",
       "    </tr>\n",
       "    <tr>\n",
       "      <th>hitHour_21_23</th>\n",
       "      <td>0</td>\n",
       "      <td>0</td>\n",
       "      <td>0</td>\n",
       "      <td>0</td>\n",
       "      <td>1</td>\n",
       "    </tr>\n",
       "    <tr>\n",
       "      <th>sum_hitaction_1</th>\n",
       "      <td>1</td>\n",
       "      <td>0</td>\n",
       "      <td>0</td>\n",
       "      <td>3</td>\n",
       "      <td>0</td>\n",
       "    </tr>\n",
       "    <tr>\n",
       "      <th>sum_hitaction_2</th>\n",
       "      <td>1</td>\n",
       "      <td>0</td>\n",
       "      <td>0</td>\n",
       "      <td>2</td>\n",
       "      <td>0</td>\n",
       "    </tr>\n",
       "    <tr>\n",
       "      <th>sum_hitaction_3</th>\n",
       "      <td>2</td>\n",
       "      <td>0</td>\n",
       "      <td>0</td>\n",
       "      <td>0</td>\n",
       "      <td>0</td>\n",
       "    </tr>\n",
       "    <tr>\n",
       "      <th>sum_hitaction_4</th>\n",
       "      <td>0</td>\n",
       "      <td>0</td>\n",
       "      <td>0</td>\n",
       "      <td>0</td>\n",
       "      <td>0</td>\n",
       "    </tr>\n",
       "    <tr>\n",
       "      <th>sum_hitaction_5</th>\n",
       "      <td>4</td>\n",
       "      <td>0</td>\n",
       "      <td>0</td>\n",
       "      <td>0</td>\n",
       "      <td>0</td>\n",
       "    </tr>\n",
       "    <tr>\n",
       "      <th>sum_hitaction_6</th>\n",
       "      <td>2</td>\n",
       "      <td>0</td>\n",
       "      <td>0</td>\n",
       "      <td>0</td>\n",
       "      <td>0</td>\n",
       "    </tr>\n",
       "    <tr>\n",
       "      <th>hitNumber</th>\n",
       "      <td>13</td>\n",
       "      <td>4</td>\n",
       "      <td>1</td>\n",
       "      <td>17</td>\n",
       "      <td>1</td>\n",
       "    </tr>\n",
       "    <tr>\n",
       "      <th>timeOnSite</th>\n",
       "      <td>139</td>\n",
       "      <td>45</td>\n",
       "      <td>0</td>\n",
       "      <td>407</td>\n",
       "      <td>38</td>\n",
       "    </tr>\n",
       "    <tr>\n",
       "      <th>sessionQualityDim</th>\n",
       "      <td>0</td>\n",
       "      <td>0</td>\n",
       "      <td>0</td>\n",
       "      <td>0</td>\n",
       "      <td>1</td>\n",
       "    </tr>\n",
       "    <tr>\n",
       "      <th>totalTransactionRevenue</th>\n",
       "      <td>145400000</td>\n",
       "      <td>0</td>\n",
       "      <td>0</td>\n",
       "      <td>0</td>\n",
       "      <td>0</td>\n",
       "    </tr>\n",
       "    <tr>\n",
       "      <th>isClick</th>\n",
       "      <td>1</td>\n",
       "      <td>0</td>\n",
       "      <td>0</td>\n",
       "      <td>1</td>\n",
       "      <td>0</td>\n",
       "    </tr>\n",
       "    <tr>\n",
       "      <th>isImpression</th>\n",
       "      <td>1</td>\n",
       "      <td>1</td>\n",
       "      <td>1</td>\n",
       "      <td>1</td>\n",
       "      <td>1</td>\n",
       "    </tr>\n",
       "    <tr>\n",
       "      <th>target</th>\n",
       "      <td>1</td>\n",
       "      <td>0</td>\n",
       "      <td>0</td>\n",
       "      <td>0</td>\n",
       "      <td>0</td>\n",
       "    </tr>\n",
       "    <tr>\n",
       "      <th>label</th>\n",
       "      <td>1.0</td>\n",
       "      <td>0.0</td>\n",
       "      <td>0.0</td>\n",
       "      <td>0.0</td>\n",
       "      <td>0.0</td>\n",
       "    </tr>\n",
       "    <tr>\n",
       "      <th>features</th>\n",
       "      <td>[1.0, 13.0, 1.0, 139.0]</td>\n",
       "      <td>[1.0, 4.0, 0.0, 45.0]</td>\n",
       "      <td>[1.0, 1.0, 0.0, 0.0]</td>\n",
       "      <td>[1.0, 17.0, 2.0, 407.0]</td>\n",
       "      <td>[1.0, 1.0, 0.0, 38.0]</td>\n",
       "    </tr>\n",
       "  </tbody>\n",
       "</table>\n",
       "</div>"
      ],
      "text/plain": [
       "                                               0                      1  \\\n",
       "fullVisitorId                5308677468260522097     547013638763660090   \n",
       "visitId                               1476279158             1494535980   \n",
       "dayofweek                                      4                      5   \n",
       "newVisits                                      0                      0   \n",
       "hitHour_00_02                                  0                      0   \n",
       "hitHour_03_05                                  0                      0   \n",
       "hitHour_06_08                                  1                      0   \n",
       "hitHour_09_11                                  0                      0   \n",
       "hitHour_12_14                                  0                      1   \n",
       "hitHour_15_17                                  0                      0   \n",
       "hitHour_18_20                                  0                      0   \n",
       "hitHour_21_23                                  0                      0   \n",
       "sum_hitaction_1                                1                      0   \n",
       "sum_hitaction_2                                1                      0   \n",
       "sum_hitaction_3                                2                      0   \n",
       "sum_hitaction_4                                0                      0   \n",
       "sum_hitaction_5                                4                      0   \n",
       "sum_hitaction_6                                2                      0   \n",
       "hitNumber                                     13                      4   \n",
       "timeOnSite                                   139                     45   \n",
       "sessionQualityDim                              0                      0   \n",
       "totalTransactionRevenue                145400000                      0   \n",
       "isClick                                        1                      0   \n",
       "isImpression                                   1                      1   \n",
       "target                                         1                      0   \n",
       "label                                        1.0                    0.0   \n",
       "features                 [1.0, 13.0, 1.0, 139.0]  [1.0, 4.0, 0.0, 45.0]   \n",
       "\n",
       "                                            2                        3  \\\n",
       "fullVisitorId             5311567215950384796      5295394248786777635   \n",
       "visitId                            1496441504               1471785895   \n",
       "dayofweek                                   6                        1   \n",
       "newVisits                                   1                        0   \n",
       "hitHour_00_02                               0                        0   \n",
       "hitHour_03_05                               0                        0   \n",
       "hitHour_06_08                               0                        1   \n",
       "hitHour_09_11                               0                        0   \n",
       "hitHour_12_14                               0                        0   \n",
       "hitHour_15_17                               1                        0   \n",
       "hitHour_18_20                               0                        0   \n",
       "hitHour_21_23                               0                        0   \n",
       "sum_hitaction_1                             0                        3   \n",
       "sum_hitaction_2                             0                        2   \n",
       "sum_hitaction_3                             0                        0   \n",
       "sum_hitaction_4                             0                        0   \n",
       "sum_hitaction_5                             0                        0   \n",
       "sum_hitaction_6                             0                        0   \n",
       "hitNumber                                   1                       17   \n",
       "timeOnSite                                  0                      407   \n",
       "sessionQualityDim                           0                        0   \n",
       "totalTransactionRevenue                     0                        0   \n",
       "isClick                                     0                        1   \n",
       "isImpression                                1                        1   \n",
       "target                                      0                        0   \n",
       "label                                     0.0                      0.0   \n",
       "features                 [1.0, 1.0, 0.0, 0.0]  [1.0, 17.0, 2.0, 407.0]   \n",
       "\n",
       "                                             4  \n",
       "fullVisitorId              5115544843843396414  \n",
       "visitId                             1500014991  \n",
       "dayofweek                                    5  \n",
       "newVisits                                    0  \n",
       "hitHour_00_02                                0  \n",
       "hitHour_03_05                                0  \n",
       "hitHour_06_08                                0  \n",
       "hitHour_09_11                                0  \n",
       "hitHour_12_14                                0  \n",
       "hitHour_15_17                                0  \n",
       "hitHour_18_20                                0  \n",
       "hitHour_21_23                                1  \n",
       "sum_hitaction_1                              0  \n",
       "sum_hitaction_2                              0  \n",
       "sum_hitaction_3                              0  \n",
       "sum_hitaction_4                              0  \n",
       "sum_hitaction_5                              0  \n",
       "sum_hitaction_6                              0  \n",
       "hitNumber                                    1  \n",
       "timeOnSite                                  38  \n",
       "sessionQualityDim                            1  \n",
       "totalTransactionRevenue                      0  \n",
       "isClick                                      0  \n",
       "isImpression                                 1  \n",
       "target                                       0  \n",
       "label                                      0.0  \n",
       "features                 [1.0, 1.0, 0.0, 38.0]  "
      ]
     },
     "execution_count": 77,
     "metadata": {},
     "output_type": "execute_result"
    }
   ],
   "source": [
    "final_df = pipeline.fit(noSpurious_df).transform(noSpurious_df)\n",
    "final_df.sample(0.0001).toPandas().transpose()"
   ]
  },
  {
   "cell_type": "code",
   "execution_count": 78,
   "metadata": {
    "colab": {
     "base_uri": "https://localhost:8080/"
    },
    "id": "qWgApjebVudF",
    "outputId": "65f2dd47-fa64-48a0-e231-33c97e24cfd4"
   },
   "outputs": [
    {
     "data": {
      "text/plain": [
       "917814"
      ]
     },
     "execution_count": 78,
     "metadata": {},
     "output_type": "execute_result"
    }
   ],
   "source": [
    "raw_df.count() ##Aekanun"
   ]
  },
  {
   "cell_type": "code",
   "execution_count": 79,
   "metadata": {
    "colab": {
     "base_uri": "https://localhost:8080/"
    },
    "id": "4Fepq05dVj7F",
    "outputId": "4ea08d22-c665-46d4-8ac5-e23e054e453f"
   },
   "outputs": [
    {
     "name": "stderr",
     "output_type": "stream",
     "text": [
      "                                                                                \r"
     ]
    },
    {
     "data": {
      "text/plain": [
       "23319"
      ]
     },
     "execution_count": 79,
     "metadata": {},
     "output_type": "execute_result"
    }
   ],
   "source": [
    "noSpurious_df.count() ##Aekanun"
   ]
  },
  {
   "cell_type": "markdown",
   "metadata": {
    "id": "8n7AtuvkS2_-"
   },
   "source": [
    "### 4.3 แบ่งแยกข้อมูลเป็น training set และ testing set"
   ]
  },
  {
   "cell_type": "code",
   "execution_count": 80,
   "metadata": {
    "colab": {
     "base_uri": "https://localhost:8080/"
    },
    "id": "3Eu3D6tkS0K1",
    "outputId": "4109aa6c-86ba-4e85-ed10-62d2164fe99f"
   },
   "outputs": [
    {
     "name": "stderr",
     "output_type": "stream",
     "text": [
      "[Stage 137:====================================================>(199 + 1) / 200]\r"
     ]
    },
    {
     "name": "stdout",
     "output_type": "stream",
     "text": [
      "Training Dataset: 18582\n"
     ]
    },
    {
     "name": "stderr",
     "output_type": "stream",
     "text": [
      "[Stage 140:=========================================>           (158 + 4) / 200]\r"
     ]
    },
    {
     "name": "stdout",
     "output_type": "stream",
     "text": [
      "Test Dataset: 4737\n"
     ]
    },
    {
     "name": "stderr",
     "output_type": "stream",
     "text": [
      "                                                                                \r"
     ]
    }
   ],
   "source": [
    "train_df, test_df = final_df.randomSplit([0.8, 0.2], seed=49)\n",
    "print(\"Training Dataset: \" + str(train_df.count()))\n",
    "print(\"Test Dataset: \" + str(test_df.count()))"
   ]
  },
  {
   "cell_type": "code",
   "execution_count": 81,
   "metadata": {
    "colab": {
     "base_uri": "https://localhost:8080/"
    },
    "id": "YfmB0yT-YLmH",
    "outputId": "830092af-c74d-40d4-cf1f-4b0cdd4e0b91"
   },
   "outputs": [
    {
     "name": "stderr",
     "output_type": "stream",
     "text": [
      "                                                                                \r"
     ]
    },
    {
     "name": "stdout",
     "output_type": "stream",
     "text": [
      "+-----+-----+\n",
      "|label|count|\n",
      "+-----+-----+\n",
      "|  0.0|18125|\n",
      "|  1.0|  457|\n",
      "+-----+-----+\n",
      "\n"
     ]
    }
   ],
   "source": [
    "train_df.groupBy('label').count().show()"
   ]
  },
  {
   "cell_type": "code",
   "execution_count": 82,
   "metadata": {
    "colab": {
     "base_uri": "https://localhost:8080/"
    },
    "id": "lVTS3ynKYUIf",
    "outputId": "5f2f9b6e-f50d-42bd-d9ee-a7eee2919d18"
   },
   "outputs": [
    {
     "name": "stderr",
     "output_type": "stream",
     "text": [
      "                                                                                \r"
     ]
    },
    {
     "name": "stdout",
     "output_type": "stream",
     "text": [
      "+-----+-----+\n",
      "|label|count|\n",
      "+-----+-----+\n",
      "|  0.0| 4621|\n",
      "|  1.0|  116|\n",
      "+-----+-----+\n",
      "\n"
     ]
    }
   ],
   "source": [
    "test_df.groupBy('label').count().show()"
   ]
  },
  {
   "cell_type": "markdown",
   "metadata": {
    "id": "kQ7Wji5mBqOd"
   },
   "source": [
    "### 4.4 แก้ไข Imbalance class ด้วยการ Oversampling"
   ]
  },
  {
   "cell_type": "code",
   "execution_count": 83,
   "metadata": {
    "id": "oKx_ak-SBpvk"
   },
   "outputs": [
    {
     "name": "stderr",
     "output_type": "stream",
     "text": [
      "                                                                                \r"
     ]
    }
   ],
   "source": [
    "balanceRatio = train_df.filter(sparkf.col('label') == 1).count() / train_df.count()"
   ]
  },
  {
   "cell_type": "code",
   "execution_count": 84,
   "metadata": {
    "colab": {
     "base_uri": "https://localhost:8080/"
    },
    "id": "57yxF9McFR0O",
    "outputId": "2e6e4f0d-3bb4-4448-e93a-9df5cff1aea9"
   },
   "outputs": [
    {
     "data": {
      "text/plain": [
       "0.02459369282100958"
      ]
     },
     "execution_count": 84,
     "metadata": {},
     "output_type": "execute_result"
    }
   ],
   "source": [
    "balanceRatio"
   ]
  },
  {
   "cell_type": "code",
   "execution_count": 85,
   "metadata": {
    "id": "yh8IraJgFWvX"
   },
   "outputs": [],
   "source": [
    "calWeight = sparkf.udf(lambda x: 1 * balanceRatio if x == 0 else (1 * (1.0 - balanceRatio)), DoubleType())"
   ]
  },
  {
   "cell_type": "code",
   "execution_count": 86,
   "metadata": {
    "id": "RlXlx1D1F4dg"
   },
   "outputs": [],
   "source": [
    "weighted_df = train_df.withColumn('class_weight', calWeight('label'))"
   ]
  },
  {
   "cell_type": "code",
   "execution_count": 87,
   "metadata": {
    "id": "1-zY8HgZ6vc0"
   },
   "outputs": [],
   "source": [
    "rf = RandomForestClassifier(labelCol='label', featuresCol='features', weightCol='class_weight', seed=49)"
   ]
  },
  {
   "cell_type": "code",
   "execution_count": 88,
   "metadata": {
    "id": "Z7qKvgiVMPeA"
   },
   "outputs": [
    {
     "name": "stderr",
     "output_type": "stream",
     "text": [
      "                                                                                \r"
     ]
    }
   ],
   "source": [
    "rfModel = rf.fit(weighted_df)"
   ]
  },
  {
   "cell_type": "code",
   "execution_count": 89,
   "metadata": {
    "id": "2ixQ3FTAMwB4"
   },
   "outputs": [],
   "source": [
    "result_df = rfModel.transform(test_df.dropna())"
   ]
  },
  {
   "cell_type": "code",
   "execution_count": 90,
   "metadata": {
    "colab": {
     "base_uri": "https://localhost:8080/"
    },
    "id": "Uw42lnZgQ50W",
    "outputId": "4b394e3a-166e-421a-9b58-bd42a8a4ae08"
   },
   "outputs": [
    {
     "name": "stderr",
     "output_type": "stream",
     "text": [
      "                                                                                \r"
     ]
    },
    {
     "name": "stdout",
     "output_type": "stream",
     "text": [
      "+-----+----------+\n",
      "|label|prediction|\n",
      "+-----+----------+\n",
      "|  1.0|       1.0|\n",
      "|  1.0|       1.0|\n",
      "|  1.0|       1.0|\n",
      "|  1.0|       1.0|\n",
      "|  1.0|       1.0|\n",
      "|  1.0|       1.0|\n",
      "|  1.0|       1.0|\n",
      "|  1.0|       1.0|\n",
      "|  1.0|       1.0|\n",
      "|  1.0|       1.0|\n",
      "|  1.0|       1.0|\n",
      "|  1.0|       1.0|\n",
      "|  1.0|       1.0|\n",
      "|  1.0|       1.0|\n",
      "|  1.0|       1.0|\n",
      "|  1.0|       1.0|\n",
      "|  1.0|       1.0|\n",
      "|  1.0|       1.0|\n",
      "|  1.0|       1.0|\n",
      "|  1.0|       1.0|\n",
      "+-----+----------+\n",
      "only showing top 20 rows\n",
      "\n"
     ]
    }
   ],
   "source": [
    "result_df.select(['label', 'prediction']).filter(result_df.label == 1).show()"
   ]
  },
  {
   "cell_type": "code",
   "execution_count": 91,
   "metadata": {
    "colab": {
     "base_uri": "https://localhost:8080/"
    },
    "id": "Uepn0XeVJJhn",
    "outputId": "ca50eb71-2ef7-474c-a960-3e22ffd6c542"
   },
   "outputs": [
    {
     "name": "stderr",
     "output_type": "stream",
     "text": [
      "                                                                                \r"
     ]
    },
    {
     "name": "stdout",
     "output_type": "stream",
     "text": [
      "+----------+-----+\n",
      "|prediction|count|\n",
      "+----------+-----+\n",
      "|       0.0| 4022|\n",
      "|       1.0|  715|\n",
      "+----------+-----+\n",
      "\n"
     ]
    }
   ],
   "source": [
    "result_df.groupBy('prediction').count().show()"
   ]
  },
  {
   "cell_type": "code",
   "execution_count": 92,
   "metadata": {
    "colab": {
     "base_uri": "https://localhost:8080/"
    },
    "id": "7vqID1bwWNWl",
    "outputId": "04e02cd5-d212-4b07-b63f-0bb417d00e80"
   },
   "outputs": [
    {
     "name": "stderr",
     "output_type": "stream",
     "text": [
      "                                                                                \r"
     ]
    },
    {
     "name": "stdout",
     "output_type": "stream",
     "text": [
      "+------+-----+----------+-----+\n",
      "|target|label|prediction|count|\n",
      "+------+-----+----------+-----+\n",
      "|     1|  1.0|       0.0|    1|\n",
      "|     0|  0.0|       1.0|  600|\n",
      "|     1|  1.0|       1.0|  115|\n",
      "|     0|  0.0|       0.0| 4021|\n",
      "+------+-----+----------+-----+\n",
      "\n"
     ]
    }
   ],
   "source": [
    "result_df.groupBy('target','label','prediction').count().show()"
   ]
  },
  {
   "cell_type": "code",
   "execution_count": 93,
   "metadata": {
    "id": "YTLbjdI3GEUt"
   },
   "outputs": [],
   "source": [
    "featureImportances = rfModel.featureImportances.toArray()"
   ]
  },
  {
   "cell_type": "code",
   "execution_count": 94,
   "metadata": {
    "id": "DBywO6ZeGERs"
   },
   "outputs": [],
   "source": [
    "def ExtractFeatureImp(featureImp, dataset, featuresCol):\n",
    "    list_extract = []\n",
    "    for i in dataset.schema[featuresCol].metadata[\"ml_attr\"][\"attrs\"]:\n",
    "        list_extract = list_extract + dataset.schema[featuresCol].metadata[\"ml_attr\"][\"attrs\"][i]\n",
    "    varlist = pd.DataFrame(list_extract)\n",
    "    varlist['score'] = varlist['idx'].apply(lambda x: featureImp[x])\n",
    "    return(varlist.sort_values('score', ascending = False))"
   ]
  },
  {
   "cell_type": "code",
   "execution_count": 95,
   "metadata": {
    "colab": {
     "base_uri": "https://localhost:8080/",
     "height": 206
    },
    "id": "GDFqJKh7GAmS",
    "outputId": "fd38efd9-81fc-4a24-c302-bcbe069b23ab"
   },
   "outputs": [
    {
     "data": {
      "text/html": [
       "<div>\n",
       "<style scoped>\n",
       "    .dataframe tbody tr th:only-of-type {\n",
       "        vertical-align: middle;\n",
       "    }\n",
       "\n",
       "    .dataframe tbody tr th {\n",
       "        vertical-align: top;\n",
       "    }\n",
       "\n",
       "    .dataframe thead th {\n",
       "        text-align: right;\n",
       "    }\n",
       "</style>\n",
       "<table border=\"1\" class=\"dataframe\">\n",
       "  <thead>\n",
       "    <tr style=\"text-align: right;\">\n",
       "      <th></th>\n",
       "      <th>idx</th>\n",
       "      <th>name</th>\n",
       "      <th>score</th>\n",
       "    </tr>\n",
       "  </thead>\n",
       "  <tbody>\n",
       "    <tr>\n",
       "      <th>1</th>\n",
       "      <td>1</td>\n",
       "      <td>hitNumber</td>\n",
       "      <td>0.724088</td>\n",
       "    </tr>\n",
       "    <tr>\n",
       "      <th>3</th>\n",
       "      <td>3</td>\n",
       "      <td>timeOnSite</td>\n",
       "      <td>0.217131</td>\n",
       "    </tr>\n",
       "    <tr>\n",
       "      <th>2</th>\n",
       "      <td>2</td>\n",
       "      <td>sum_hitaction_2</td>\n",
       "      <td>0.058782</td>\n",
       "    </tr>\n",
       "    <tr>\n",
       "      <th>0</th>\n",
       "      <td>0</td>\n",
       "      <td>isImpression</td>\n",
       "      <td>0.000000</td>\n",
       "    </tr>\n",
       "  </tbody>\n",
       "</table>\n",
       "</div>"
      ],
      "text/plain": [
       "   idx             name     score\n",
       "1    1        hitNumber  0.724088\n",
       "3    3       timeOnSite  0.217131\n",
       "2    2  sum_hitaction_2  0.058782\n",
       "0    0     isImpression  0.000000"
      ]
     },
     "execution_count": 95,
     "metadata": {},
     "output_type": "execute_result"
    }
   ],
   "source": [
    "ExtractFeatureImp(featureImportances, result_df, \"features\").head(30)"
   ]
  },
  {
   "cell_type": "code",
   "execution_count": 96,
   "metadata": {
    "colab": {
     "base_uri": "https://localhost:8080/"
    },
    "id": "w6IBfpjKYck_",
    "outputId": "86ad38b9-c229-40ca-9841-6829c8a4e571"
   },
   "outputs": [
    {
     "data": {
      "text/plain": [
       "20"
      ]
     },
     "execution_count": 96,
     "metadata": {},
     "output_type": "execute_result"
    }
   ],
   "source": [
    "rfModel.getNumTrees"
   ]
  },
  {
   "cell_type": "markdown",
   "metadata": {
    "id": "yOFhocs9SXjM"
   },
   "source": [
    "# 5. Evaluation"
   ]
  },
  {
   "cell_type": "code",
   "execution_count": 97,
   "metadata": {
    "colab": {
     "base_uri": "https://localhost:8080/"
    },
    "id": "2R9hI32PSZwx",
    "outputId": "92f37197-c407-410f-88ed-c096c05f4bc2"
   },
   "outputs": [
    {
     "name": "stderr",
     "output_type": "stream",
     "text": [
      "                                                                                \r"
     ]
    },
    {
     "name": "stdout",
     "output_type": "stream",
     "text": [
      "Area Under ROC = 0.930769\n"
     ]
    }
   ],
   "source": [
    "evaluator = BinaryClassificationEvaluator(rawPredictionCol='prediction', labelCol='label', metricName='areaUnderROC')\n",
    "print('Area Under ROC = %g' % evaluator.evaluate(result_df))"
   ]
  },
  {
   "cell_type": "code",
   "execution_count": 98,
   "metadata": {
    "colab": {
     "base_uri": "https://localhost:8080/"
    },
    "id": "F87WSFDcSrcr",
    "outputId": "16214348-131b-4305-e3b5-a85d017217e8"
   },
   "outputs": [
    {
     "name": "stderr",
     "output_type": "stream",
     "text": [
      "                                                                                \r"
     ]
    },
    {
     "name": "stdout",
     "output_type": "stream",
     "text": [
      "F1 score = 0.914456\n"
     ]
    },
    {
     "name": "stderr",
     "output_type": "stream",
     "text": [
      "                                                                                \r"
     ]
    },
    {
     "name": "stdout",
     "output_type": "stream",
     "text": [
      "Precision = 0.999751\n"
     ]
    },
    {
     "name": "stderr",
     "output_type": "stream",
     "text": [
      "[Stage 262:=================================================>   (188 + 4) / 200]\r"
     ]
    },
    {
     "name": "stdout",
     "output_type": "stream",
     "text": [
      "Recall = 0.870158\n"
     ]
    },
    {
     "name": "stderr",
     "output_type": "stream",
     "text": [
      "                                                                                \r"
     ]
    }
   ],
   "source": [
    "evaluator = MulticlassClassificationEvaluator(predictionCol='prediction', labelCol='label')\n",
    "print('F1 score = %g' % evaluator.evaluate(result_df))\n",
    "print('Precision = %g' % evaluator.evaluate(result_df, {evaluator.metricName: 'precisionByLabel'}))\n",
    "print('Recall = %g' % evaluator.evaluate(result_df, {evaluator.metricName: 'recallByLabel'}))"
   ]
  },
  {
   "cell_type": "markdown",
   "metadata": {
    "id": "Z5S0HOnVTh1O"
   },
   "source": [
    "## Tuning"
   ]
  },
  {
   "cell_type": "code",
   "execution_count": 99,
   "metadata": {
    "id": "CEGokYijThJn"
   },
   "outputs": [],
   "source": [
    "paramGrid = ParamGridBuilder() \\\n",
    ".addGrid(rf.numTrees, [20, 50, 100]) \\\n",
    ".build()"
   ]
  },
  {
   "cell_type": "code",
   "execution_count": 100,
   "metadata": {
    "id": "B2psdRLzXYUZ"
   },
   "outputs": [],
   "source": [
    "crossval = CrossValidator(estimator=rf, \n",
    "                          estimatorParamMaps=paramGrid, \n",
    "                          evaluator=BinaryClassificationEvaluator(), \n",
    "                          numFolds=5)"
   ]
  },
  {
   "cell_type": "code",
   "execution_count": 101,
   "metadata": {
    "id": "oKy5rZQ_YQeJ"
   },
   "outputs": [
    {
     "name": "stderr",
     "output_type": "stream",
     "text": [
      "                                                                                \r"
     ]
    }
   ],
   "source": [
    "cvModel = crossval.fit(weighted_df)"
   ]
  },
  {
   "cell_type": "code",
   "execution_count": 102,
   "metadata": {
    "id": "FP6vhz6gdlpa"
   },
   "outputs": [],
   "source": [
    "result_cv_df = cvModel.transform(test_df.dropna())"
   ]
  },
  {
   "cell_type": "code",
   "execution_count": 103,
   "metadata": {
    "id": "Yc8U6y09d1GX"
   },
   "outputs": [
    {
     "name": "stderr",
     "output_type": "stream",
     "text": [
      "                                                                                \r"
     ]
    },
    {
     "name": "stdout",
     "output_type": "stream",
     "text": [
      "Area Under ROC = 0.93672\n"
     ]
    }
   ],
   "source": [
    "evaluator = BinaryClassificationEvaluator(rawPredictionCol='prediction', labelCol='label', metricName='areaUnderROC')\n",
    "print('Area Under ROC = %g' % evaluator.evaluate(result_cv_df))"
   ]
  },
  {
   "cell_type": "markdown",
   "metadata": {
    "id": "E5cguk7rNi3F"
   },
   "source": [
    "# 6. Deployment"
   ]
  },
  {
   "cell_type": "markdown",
   "metadata": {
    "id": "lGJZf7BxNlvr"
   },
   "source": [
    "REST API"
   ]
  },
  {
   "cell_type": "code",
   "execution_count": null,
   "metadata": {
    "id": "vfHdTmOsGEaL"
   },
   "outputs": [],
   "source": []
  }
 ],
 "metadata": {
  "colab": {
   "collapsed_sections": [
    "hGSzhwXj3yeo",
    "lWRsq4oEOzoC"
   ],
   "provenance": []
  },
  "kernelspec": {
   "display_name": "Python 3 (ipykernel)",
   "language": "python",
   "name": "python3"
  },
  "language_info": {
   "codemirror_mode": {
    "name": "ipython",
    "version": 3
   },
   "file_extension": ".py",
   "mimetype": "text/x-python",
   "name": "python",
   "nbconvert_exporter": "python",
   "pygments_lexer": "ipython3",
   "version": "3.9.2"
  }
 },
 "nbformat": 4,
 "nbformat_minor": 4
}
